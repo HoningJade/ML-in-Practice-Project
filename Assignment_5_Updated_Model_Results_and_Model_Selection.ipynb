{
  "cells": [
    {
      "cell_type": "markdown",
      "metadata": {
        "id": "MygD9O0cNBh6"
      },
      "source": [
        "# Baselines and Formulation\n"
      ]
    },
    {
      "cell_type": "markdown",
      "metadata": {
        "id": "1x6jG72qJqct"
      },
      "source": [
        "## Data Preparation"
      ]
    },
    {
      "cell_type": "code",
      "execution_count": 1,
      "metadata": {
        "id": "dDwjqJp-92WB"
      },
      "outputs": [],
      "source": [
        "import json\n",
        "import zipfile\n",
        "import os\n",
        "import pandas as pd\n",
        "import numpy as np"
      ]
    },
    {
      "cell_type": "code",
      "execution_count": 2,
      "metadata": {
        "colab": {
          "base_uri": "https://localhost:8080/"
        },
        "id": "iY8dwqamIIQc",
        "outputId": "14bf8001-3e0e-43eb-9b0c-0c2a9ccdae11"
      },
      "outputs": [
        {
          "output_type": "stream",
          "name": "stdout",
          "text": [
            "OK\n",
            "deb http://apt.postgresql.org/pub/repos/apt/ focal-pgdg main\n",
            "debconf: unable to initialize frontend: Dialog\n",
            "debconf: (No usable dialog-like program is installed, so the dialog based frontend cannot be used. at /usr/share/perl5/Debconf/FrontEnd/Dialog.pm line 76, <> line 13.)\n",
            "debconf: falling back to frontend: Readline\n",
            "debconf: unable to initialize frontend: Readline\n",
            "debconf: (This frontend requires a controlling tty.)\n",
            "debconf: falling back to frontend: Teletype\n",
            "dpkg-preconfigure: unable to re-open stdin: \n",
            "Selecting previously unselected package cron.\n",
            "(Reading database ... 128208 files and directories currently installed.)\n",
            "Preparing to unpack .../00-cron_3.0pl1-136ubuntu1_amd64.deb ...\n",
            "Unpacking cron (3.0pl1-136ubuntu1) ...\n",
            "Selecting previously unselected package libjson-perl.\n",
            "Preparing to unpack .../01-libjson-perl_4.02000-2_all.deb ...\n",
            "Unpacking libjson-perl (4.02000-2) ...\n",
            "Selecting previously unselected package netbase.\n",
            "Preparing to unpack .../02-netbase_6.1_all.deb ...\n",
            "Unpacking netbase (6.1) ...\n",
            "Selecting previously unselected package postgresql-client-common.\n",
            "Preparing to unpack .../03-postgresql-client-common_247.pgdg20.04+1_all.deb ...\n",
            "Unpacking postgresql-client-common (247.pgdg20.04+1) ...\n",
            "Selecting previously unselected package ssl-cert.\n",
            "Preparing to unpack .../04-ssl-cert_1.0.39_all.deb ...\n",
            "Unpacking ssl-cert (1.0.39) ...\n",
            "Selecting previously unselected package postgresql-common.\n",
            "Preparing to unpack .../05-postgresql-common_247.pgdg20.04+1_all.deb ...\n",
            "Adding 'diversion of /usr/bin/pg_config to /usr/bin/pg_config.libpq-dev by postgresql-common'\n",
            "Unpacking postgresql-common (247.pgdg20.04+1) ...\n",
            "Selecting previously unselected package logrotate.\n",
            "Preparing to unpack .../06-logrotate_3.14.0-4ubuntu3_amd64.deb ...\n",
            "Unpacking logrotate (3.14.0-4ubuntu3) ...\n",
            "Selecting previously unselected package libcommon-sense-perl.\n",
            "Preparing to unpack .../07-libcommon-sense-perl_3.74-2build6_amd64.deb ...\n",
            "Unpacking libcommon-sense-perl (3.74-2build6) ...\n",
            "Selecting previously unselected package libtypes-serialiser-perl.\n",
            "Preparing to unpack .../08-libtypes-serialiser-perl_1.0-1_all.deb ...\n",
            "Unpacking libtypes-serialiser-perl (1.0-1) ...\n",
            "Selecting previously unselected package libjson-xs-perl.\n",
            "Preparing to unpack .../09-libjson-xs-perl_4.020-1build1_amd64.deb ...\n",
            "Unpacking libjson-xs-perl (4.020-1build1) ...\n",
            "Selecting previously unselected package postgresql-client-11.\n",
            "Preparing to unpack .../10-postgresql-client-11_11.19-1.pgdg20.04+1_amd64.deb ...\n",
            "Unpacking postgresql-client-11 (11.19-1.pgdg20.04+1) ...\n",
            "Selecting previously unselected package postgresql-11.\n",
            "Preparing to unpack .../11-postgresql-11_11.19-1.pgdg20.04+1_amd64.deb ...\n",
            "Unpacking postgresql-11 (11.19-1.pgdg20.04+1) ...\n",
            "Selecting previously unselected package sysstat.\n",
            "Preparing to unpack .../12-sysstat_12.2.0-2ubuntu0.2_amd64.deb ...\n",
            "Unpacking sysstat (12.2.0-2ubuntu0.2) ...\n",
            "Setting up logrotate (3.14.0-4ubuntu3) ...\n",
            "Created symlink /etc/systemd/system/timers.target.wants/logrotate.timer → /lib/systemd/system/logrotate.timer.\n",
            "Setting up cron (3.0pl1-136ubuntu1) ...\n",
            "Adding group `crontab' (GID 113) ...\n",
            "Done.\n",
            "invoke-rc.d: could not determine current runlevel\n",
            "invoke-rc.d: policy-rc.d denied execution of start.\n",
            "Created symlink /etc/systemd/system/multi-user.target.wants/cron.service → /lib/systemd/system/cron.service.\n",
            "Setting up libcommon-sense-perl (3.74-2build6) ...\n",
            "Setting up ssl-cert (1.0.39) ...\n",
            "debconf: unable to initialize frontend: Dialog\n",
            "debconf: (No usable dialog-like program is installed, so the dialog based frontend cannot be used. at /usr/share/perl5/Debconf/FrontEnd/Dialog.pm line 76.)\n",
            "debconf: falling back to frontend: Readline\n",
            "Setting up libtypes-serialiser-perl (1.0-1) ...\n",
            "Setting up libjson-perl (4.02000-2) ...\n",
            "Setting up netbase (6.1) ...\n",
            "Setting up sysstat (12.2.0-2ubuntu0.2) ...\n",
            "debconf: unable to initialize frontend: Dialog\n",
            "debconf: (No usable dialog-like program is installed, so the dialog based frontend cannot be used. at /usr/share/perl5/Debconf/FrontEnd/Dialog.pm line 76.)\n",
            "debconf: falling back to frontend: Readline\n",
            "\n",
            "Creating config file /etc/default/sysstat with new version\n",
            "update-alternatives: using /usr/bin/sar.sysstat to provide /usr/bin/sar (sar) in auto mode\n",
            "Created symlink /etc/systemd/system/multi-user.target.wants/sysstat.service → /lib/systemd/system/sysstat.service.\n",
            "Setting up postgresql-client-common (247.pgdg20.04+1) ...\n",
            "Setting up libjson-xs-perl (4.020-1build1) ...\n",
            "Setting up postgresql-client-11 (11.19-1.pgdg20.04+1) ...\n",
            "update-alternatives: using /usr/share/postgresql/11/man/man1/psql.1.gz to provide /usr/share/man/man1/psql.1.gz (psql.1.gz) in auto mode\n",
            "Setting up postgresql-common (247.pgdg20.04+1) ...\n",
            "debconf: unable to initialize frontend: Dialog\n",
            "debconf: (No usable dialog-like program is installed, so the dialog based frontend cannot be used. at /usr/share/perl5/Debconf/FrontEnd/Dialog.pm line 76.)\n",
            "debconf: falling back to frontend: Readline\n",
            "Adding user postgres to group ssl-cert\n",
            "\n",
            "Creating config file /etc/postgresql-common/createcluster.conf with new version\n",
            "Building PostgreSQL dictionaries from installed myspell/hunspell packages...\n",
            "  en_us\n",
            "Removing obsolete dictionary files:\n",
            "'/etc/apt/trusted.gpg.d/apt.postgresql.org.gpg' -> '/usr/share/postgresql-common/pgdg/apt.postgresql.org.gpg'\n",
            "invoke-rc.d: could not determine current runlevel\n",
            "invoke-rc.d: policy-rc.d denied execution of start.\n",
            "Created symlink /etc/systemd/system/multi-user.target.wants/postgresql.service → /lib/systemd/system/postgresql.service.\n",
            "Setting up postgresql-11 (11.19-1.pgdg20.04+1) ...\n",
            "debconf: unable to initialize frontend: Dialog\n",
            "debconf: (No usable dialog-like program is installed, so the dialog based frontend cannot be used. at /usr/share/perl5/Debconf/FrontEnd/Dialog.pm line 76.)\n",
            "debconf: falling back to frontend: Readline\n",
            "Creating new PostgreSQL cluster 11/main ...\n",
            "/usr/lib/postgresql/11/bin/initdb -D /var/lib/postgresql/11/main --auth-local peer --auth-host md5\n",
            "The files belonging to this database system will be owned by user \"postgres\".\n",
            "This user must also own the server process.\n",
            "\n",
            "The database cluster will be initialized with locale \"en_US.UTF-8\".\n",
            "The default database encoding has accordingly been set to \"UTF8\".\n",
            "The default text search configuration will be set to \"english\".\n",
            "\n",
            "Data page checksums are disabled.\n",
            "\n",
            "fixing permissions on existing directory /var/lib/postgresql/11/main ... ok\n",
            "creating subdirectories ... ok\n",
            "selecting default max_connections ... 100\n",
            "selecting default shared_buffers ... 128MB\n",
            "selecting default timezone ... Etc/UTC\n",
            "selecting dynamic shared memory implementation ... posix\n",
            "creating configuration files ... ok\n",
            "running bootstrap script ... ok\n",
            "performing post-bootstrap initialization ... ok\n",
            "syncing data to disk ... ok\n",
            "\n",
            "Success. You can now start the database server using:\n",
            "\n",
            "    pg_ctlcluster 11 main start\n",
            "\n",
            "update-alternatives: using /usr/share/postgresql/11/man/man1/postmaster.1.gz to provide /usr/share/man/man1/postmaster.1.gz (postmaster.1.gz) in auto mode\n",
            "invoke-rc.d: could not determine current runlevel\n",
            "invoke-rc.d: policy-rc.d denied execution of start.\n",
            "Processing triggers for man-db (2.9.1-1) ...\n",
            "Processing triggers for systemd (245.4-4ubuntu3.19) ...\n",
            " * Starting PostgreSQL 11 database server\n",
            "   ...done.\n",
            "ALTER ROLE\n",
            "NOTICE:  database \"donors_choose\" does not exist, skipping\n",
            "DROP DATABASE\n",
            "CREATE DATABASE\n",
            "env: DEMO_DATABASE_NAME=donors_choose\n",
            "env: DEMO_DATABASE_HOST=localhost\n",
            "env: DEMO_DATABASE_PORT=5432\n",
            "DROP DATABASE\n",
            "CREATE DATABASE\n",
            "env: DEMO_DATABASE_NAME=donors_choose\n",
            "env: DEMO_DATABASE_HOST=localhost\n",
            "env: DEMO_DATABASE_PORT=5432\n",
            "env: DEMO_DATABASE_USER=postgres\n",
            "env: DEMO_DATABASE_PASS=postgres\n"
          ]
        }
      ],
      "source": [
        "# Install and start postgresql-11 server\n",
        "!sudo apt-get -y -qq update\n",
        "!wget --quiet -O - https://www.postgresql.org/media/keys/ACCC4CF8.asc | sudo apt-key add -\n",
        "!echo \"deb http://apt.postgresql.org/pub/repos/apt/ `lsb_release -cs`-pgdg main\" |sudo tee  /etc/apt/sources.list.d/pgdg.list\n",
        "!sudo apt-get -y -qq update\n",
        "!sudo apt-get -y -qq install postgresql-11 postgresql-client-11\n",
        "!sudo service postgresql start\n",
        "\n",
        "# Setup a password `postgres` for username `postgres`\n",
        "!sudo -u postgres psql -U postgres -c \"ALTER USER postgres PASSWORD 'postgres';\"\n",
        "\n",
        "# Setup a database with name `donors_choose` to be used\n",
        "!sudo -u postgres psql -U postgres -c 'DROP DATABASE IF EXISTS donors_choose;'\n",
        "\n",
        "!sudo -u postgres psql -U postgres -c 'CREATE DATABASE donors_choose;'\n",
        "\n",
        "# Environment variables for connecting to the database\n",
        "%env DEMO_DATABASE_NAME=donors_choose\n",
        "%env DEMO_DATABASE_HOST=localhost\n",
        "%env DEMO_DATABASE_PORT=5432\n",
        "\n",
        "# Setup a database with name `donors_choose` to be used\n",
        "!sudo -u postgres psql -U postgres -c 'DROP DATABASE IF EXISTS donors_choose;'\n",
        "\n",
        "!sudo -u postgres psql -U postgres -c 'CREATE DATABASE donors_choose;'\n",
        "\n",
        "# Environment variables for connecting to the database\n",
        "%env DEMO_DATABASE_NAME=donors_choose\n",
        "%env DEMO_DATABASE_HOST=localhost\n",
        "%env DEMO_DATABASE_PORT=5432\n",
        "%env DEMO_DATABASE_USER=postgres\n",
        "%env DEMO_DATABASE_PASS=postgres"
      ]
    },
    {
      "cell_type": "code",
      "execution_count": 3,
      "metadata": {
        "colab": {
          "base_uri": "https://localhost:8080/"
        },
        "id": "2OWTM7IJs0_3",
        "outputId": "1fcae65b-21e5-4d21-daaf-16e012cfc27c"
      },
      "outputs": [
        {
          "output_type": "stream",
          "name": "stdout",
          "text": [
            "Looking in indexes: https://pypi.org/simple, https://us-python.pkg.dev/colab-wheels/public/simple/\n",
            "Collecting SQLAlchemy==1.3.18\n",
            "  Downloading SQLAlchemy-1.3.18-cp38-cp38-manylinux2010_x86_64.whl (1.3 MB)\n",
            "\u001b[2K     \u001b[90m━━━━━━━━━━━━━━━━━━━━━━━━━━━━━━━━━━━━━━━━\u001b[0m \u001b[32m1.3/1.3 MB\u001b[0m \u001b[31m15.0 MB/s\u001b[0m eta \u001b[36m0:00:00\u001b[0m\n",
            "\u001b[?25hRequirement already satisfied: PyYAML==6.0 in /usr/local/lib/python3.8/dist-packages (6.0)\n",
            "Collecting psycopg2-binary==2.9.3\n",
            "  Downloading psycopg2_binary-2.9.3-cp38-cp38-manylinux_2_17_x86_64.manylinux2014_x86_64.whl (3.0 MB)\n",
            "\u001b[2K     \u001b[90m━━━━━━━━━━━━━━━━━━━━━━━━━━━━━━━━━━━━━━━━\u001b[0m \u001b[32m3.0/3.0 MB\u001b[0m \u001b[31m42.9 MB/s\u001b[0m eta \u001b[36m0:00:00\u001b[0m\n",
            "\u001b[?25hInstalling collected packages: SQLAlchemy, psycopg2-binary\n",
            "  Attempting uninstall: SQLAlchemy\n",
            "    Found existing installation: SQLAlchemy 1.4.46\n",
            "    Uninstalling SQLAlchemy-1.4.46:\n",
            "      Successfully uninstalled SQLAlchemy-1.4.46\n",
            "Successfully installed SQLAlchemy-1.3.18 psycopg2-binary-2.9.3\n"
          ]
        }
      ],
      "source": [
        "# Download sampled DonorsChoose data and load it into our postgres server\n",
        "!curl -s -OL https://dsapp-public-data-migrated.s3.us-west-2.amazonaws.com/donors_sampled_20210920_v3.dmp\n",
        "!PGPASSWORD=$DEMO_DATABASE_PASS pg_restore -h $DEMO_DATABASE_HOST -p $DEMO_DATABASE_PORT -d $DEMO_DATABASE_NAME -U $DEMO_DATABASE_USER -O -j 8 donors_sampled_20210920_v3.dmp\n",
        "!pip install SQLAlchemy==1.3.18 PyYAML==6.0 psycopg2-binary==2.9.3\n",
        "from sqlalchemy.engine.url import URL\n",
        "from sqlalchemy import create_engine\n",
        "\n",
        "db_url = URL(\n",
        "            'postgres',\n",
        "            host='localhost',\n",
        "            username='postgres',\n",
        "            database='donors_choose',\n",
        "            password='postgres',\n",
        "            port=5432,\n",
        "        )\n",
        "\n",
        "db_engine = create_engine(db_url)\n",
        "full_projects = pd.read_sql(\"SELECT * FROM data.projects\", db_engine)\n",
        "full_resources = pd.read_sql(\"SELECT * FROM data.resources\", db_engine)\n",
        "full_donations = pd.read_sql(\"SELECT * FROM data.donations\", db_engine)\n",
        "\n",
        "\n",
        "full_projects=full_projects.rename(columns = {'projectid_str':'projectid', \"total_asking_price\":\"total_price_excluding_optional_support\"})\n",
        "full_donations = full_donations.rename(columns = {'projectid_str':'projectid'})"
      ]
    },
    {
      "cell_type": "code",
      "execution_count": 4,
      "metadata": {
        "id": "mvWyGCbRSB9d"
      },
      "outputs": [],
      "source": [
        "import json\n",
        "import zipfile\n",
        "import os\n",
        "import pandas as pd"
      ]
    },
    {
      "cell_type": "code",
      "execution_count": 5,
      "metadata": {
        "colab": {
          "base_uri": "https://localhost:8080/"
        },
        "id": "t4ZA3QYJ8sW3",
        "outputId": "f26b2f5c-c055-4581-c17a-49054b7f4a3b"
      },
      "outputs": [
        {
          "output_type": "stream",
          "name": "stdout",
          "text": [
            "Looking in indexes: https://pypi.org/simple, https://us-python.pkg.dev/colab-wheels/public/simple/\n",
            "Requirement already satisfied: kaggle in /usr/local/lib/python3.8/dist-packages (1.5.12)\n",
            "Requirement already satisfied: requests in /usr/local/lib/python3.8/dist-packages (from kaggle) (2.25.1)\n",
            "Requirement already satisfied: python-slugify in /usr/local/lib/python3.8/dist-packages (from kaggle) (8.0.0)\n",
            "Requirement already satisfied: tqdm in /usr/local/lib/python3.8/dist-packages (from kaggle) (4.64.1)\n",
            "Requirement already satisfied: python-dateutil in /usr/local/lib/python3.8/dist-packages (from kaggle) (2.8.2)\n",
            "Requirement already satisfied: six>=1.10 in /usr/local/lib/python3.8/dist-packages (from kaggle) (1.15.0)\n",
            "Requirement already satisfied: certifi in /usr/local/lib/python3.8/dist-packages (from kaggle) (2022.12.7)\n",
            "Requirement already satisfied: urllib3 in /usr/local/lib/python3.8/dist-packages (from kaggle) (1.24.3)\n",
            "Requirement already satisfied: text-unidecode>=1.3 in /usr/local/lib/python3.8/dist-packages (from python-slugify->kaggle) (1.3)\n",
            "Requirement already satisfied: chardet<5,>=3.0.2 in /usr/local/lib/python3.8/dist-packages (from requests->kaggle) (4.0.0)\n",
            "Requirement already satisfied: idna<3,>=2.5 in /usr/local/lib/python3.8/dist-packages (from requests->kaggle) (2.10)\n",
            "Downloading kdd-cup-2014-predicting-excitement-at-donors-choose.zip to /content\n",
            " 99% 921M/926M [00:14<00:00, 84.5MB/s]\n",
            "100% 926M/926M [00:14<00:00, 67.8MB/s]\n"
          ]
        }
      ],
      "source": [
        "!pip install kaggle\n",
        "\n",
        "!mkdir /root/.kaggle\n",
        "!touch /root/.kaggle/kaggle.json\n",
        "api_token = {\"username\":\"ploped123\",\"key\":\"eeeeba8fc52706723e4c1bcf41ae6fd3\"}\n",
        "\n",
        "with open('/root/.kaggle/kaggle.json', 'w') as file:\n",
        "    json.dump(api_token, file)\n",
        "\n",
        "!chmod 600 /root/.kaggle/kaggle.json\n",
        "\n",
        "!kaggle competitions download -c kdd-cup-2014-predicting-excitement-at-donors-choose"
      ]
    },
    {
      "cell_type": "code",
      "execution_count": 6,
      "metadata": {
        "colab": {
          "base_uri": "https://localhost:8080/"
        },
        "id": "HunBQJMX9gPN",
        "outputId": "0cd565aa-7716-442f-c340-7c6b6c4a5521"
      },
      "outputs": [
        {
          "output_type": "stream",
          "name": "stdout",
          "text": [
            "donors_sampled_20210920_v3.dmp\t\t\t\t sample_data\n",
            "kdd-cup-2014-predicting-excitement-at-donors-choose.zip\n"
          ]
        }
      ],
      "source": [
        "!ls /content"
      ]
    },
    {
      "cell_type": "code",
      "execution_count": 7,
      "metadata": {
        "colab": {
          "base_uri": "https://localhost:8080/"
        },
        "id": "76VVzgwkKbli",
        "outputId": "dff6ff24-f26b-46a8-d298-f48c1830794e"
      },
      "outputs": [
        {
          "output_type": "stream",
          "name": "stdout",
          "text": [
            "Archive:  /content/kdd-cup-2014-predicting-excitement-at-donors-choose.zip\n",
            "  inflating: donations.csv.zip       \n",
            "  inflating: essays.csv.zip          \n",
            "  inflating: outcomes.csv.zip        \n",
            "  inflating: projects.csv.zip        \n",
            "  inflating: resources.csv.zip       \n",
            "  inflating: sampleSubmission.csv.zip  \n"
          ]
        }
      ],
      "source": [
        "!unzip /content/kdd-cup-2014-predicting-excitement-at-donors-choose.zip"
      ]
    },
    {
      "cell_type": "code",
      "execution_count": 8,
      "metadata": {
        "id": "mK_ns8iP9jSM",
        "colab": {
          "base_uri": "https://localhost:8080/"
        },
        "outputId": "668e41b5-956c-45e3-fee1-efd7fd47043d"
      },
      "outputs": [
        {
          "output_type": "stream",
          "name": "stdout",
          "text": [
            "Archive:  /content/resources.csv.zip\n",
            "  inflating: resources.csv           \n",
            "Archive:  /content/donations.csv.zip\n",
            "  inflating: donations.csv           \n"
          ]
        }
      ],
      "source": [
        "!unzip /content/resources.csv.zip\n",
        "!unzip /content/donations.csv.zip"
      ]
    },
    {
      "cell_type": "code",
      "execution_count": 9,
      "metadata": {
        "id": "cDEORpu4-Glu",
        "colab": {
          "base_uri": "https://localhost:8080/"
        },
        "outputId": "9fcdfa7f-5491-419b-dc8a-f05386d4544a"
      },
      "outputs": [
        {
          "output_type": "stream",
          "name": "stdout",
          "text": [
            "Archive:  /content/projects.csv.zip\n",
            "  inflating: projects.csv            \n"
          ]
        }
      ],
      "source": [
        "!unzip /content/projects.csv.zip"
      ]
    },
    {
      "cell_type": "code",
      "execution_count": 10,
      "metadata": {
        "id": "6gHx2YiBDH6x"
      },
      "outputs": [],
      "source": [
        "full_donations = pd.read_csv(\"/content/donations.csv\")\n",
        "full_projects = pd.read_csv(\"/content/projects.csv\")\n",
        "# full_essays = pd.read_csv(\"essays.csv\")\n",
        "full_resources = pd.read_csv(\"/content/resources.csv\")"
      ]
    },
    {
      "cell_type": "code",
      "execution_count": 11,
      "metadata": {
        "id": "g7koLM_mDH6y",
        "colab": {
          "base_uri": "https://localhost:8080/"
        },
        "outputId": "5de5bcaa-8c04-44cd-c431-7704eede8dff"
      },
      "outputs": [
        {
          "output_type": "stream",
          "name": "stdout",
          "text": [
            "Looking in indexes: https://pypi.org/simple, https://us-python.pkg.dev/colab-wheels/public/simple/\n",
            "Collecting textstat\n",
            "  Downloading textstat-0.7.3-py3-none-any.whl (105 kB)\n",
            "\u001b[2K     \u001b[90m━━━━━━━━━━━━━━━━━━━━━━━━━━━━━━━━━━━━━━━\u001b[0m \u001b[32m105.1/105.1 KB\u001b[0m \u001b[31m3.3 MB/s\u001b[0m eta \u001b[36m0:00:00\u001b[0m\n",
            "\u001b[?25hCollecting pyphen\n",
            "  Downloading pyphen-0.13.2-py3-none-any.whl (2.0 MB)\n",
            "\u001b[2K     \u001b[90m━━━━━━━━━━━━━━━━━━━━━━━━━━━━━━━━━━━━━━━━\u001b[0m \u001b[32m2.0/2.0 MB\u001b[0m \u001b[31m29.6 MB/s\u001b[0m eta \u001b[36m0:00:00\u001b[0m\n",
            "\u001b[?25hInstalling collected packages: pyphen, textstat\n",
            "Successfully installed pyphen-0.13.2 textstat-0.7.3\n",
            "Looking in indexes: https://pypi.org/simple, https://us-python.pkg.dev/colab-wheels/public/simple/\n",
            "Collecting flair\n",
            "  Downloading flair-0.11.3-py3-none-any.whl (401 kB)\n",
            "\u001b[2K     \u001b[90m━━━━━━━━━━━━━━━━━━━━━━━━━━━━━━━━━━━━━━━\u001b[0m \u001b[32m401.9/401.9 KB\u001b[0m \u001b[31m6.7 MB/s\u001b[0m eta \u001b[36m0:00:00\u001b[0m\n",
            "\u001b[?25hRequirement already satisfied: tabulate in /usr/local/lib/python3.8/dist-packages (from flair) (0.8.10)\n",
            "Collecting sentencepiece==0.1.95\n",
            "  Downloading sentencepiece-0.1.95-cp38-cp38-manylinux2014_x86_64.whl (1.2 MB)\n",
            "\u001b[2K     \u001b[90m━━━━━━━━━━━━━━━━━━━━━━━━━━━━━━━━━━━━━━━━\u001b[0m \u001b[32m1.2/1.2 MB\u001b[0m \u001b[31m31.9 MB/s\u001b[0m eta \u001b[36m0:00:00\u001b[0m\n",
            "\u001b[?25hRequirement already satisfied: python-dateutil>=2.6.1 in /usr/local/lib/python3.8/dist-packages (from flair) (2.8.2)\n",
            "Collecting huggingface-hub\n",
            "  Downloading huggingface_hub-0.12.1-py3-none-any.whl (190 kB)\n",
            "\u001b[2K     \u001b[90m━━━━━━━━━━━━━━━━━━━━━━━━━━━━━━━━━━━━━━\u001b[0m \u001b[32m190.3/190.3 KB\u001b[0m \u001b[31m16.5 MB/s\u001b[0m eta \u001b[36m0:00:00\u001b[0m\n",
            "\u001b[?25hRequirement already satisfied: gensim>=3.4.0 in /usr/local/lib/python3.8/dist-packages (from flair) (3.6.0)\n",
            "Collecting mpld3==0.3\n",
            "  Downloading mpld3-0.3.tar.gz (788 kB)\n",
            "\u001b[2K     \u001b[90m━━━━━━━━━━━━━━━━━━━━━━━━━━━━━━━━━━━━━━\u001b[0m \u001b[32m788.5/788.5 KB\u001b[0m \u001b[31m34.0 MB/s\u001b[0m eta \u001b[36m0:00:00\u001b[0m\n",
            "\u001b[?25h  Preparing metadata (setup.py) ... \u001b[?25l\u001b[?25hdone\n",
            "Requirement already satisfied: lxml in /usr/local/lib/python3.8/dist-packages (from flair) (4.9.2)\n",
            "Collecting konoha<5.0.0,>=4.0.0\n",
            "  Downloading konoha-4.6.5-py3-none-any.whl (20 kB)\n",
            "Collecting conllu>=4.0\n",
            "  Downloading conllu-4.5.2-py2.py3-none-any.whl (16 kB)\n",
            "Requirement already satisfied: gdown==4.4.0 in /usr/local/lib/python3.8/dist-packages (from flair) (4.4.0)\n",
            "Collecting ftfy\n",
            "  Downloading ftfy-6.1.1-py3-none-any.whl (53 kB)\n",
            "\u001b[2K     \u001b[90m━━━━━━━━━━━━━━━━━━━━━━━━━━━━━━━━━━━━━━━━\u001b[0m \u001b[32m53.1/53.1 KB\u001b[0m \u001b[31m4.8 MB/s\u001b[0m eta \u001b[36m0:00:00\u001b[0m\n",
            "\u001b[?25hCollecting deprecated>=1.2.4\n",
            "  Downloading Deprecated-1.2.13-py2.py3-none-any.whl (9.6 kB)\n",
            "Collecting bpemb>=0.3.2\n",
            "  Downloading bpemb-0.3.4-py3-none-any.whl (19 kB)\n",
            "Requirement already satisfied: tqdm>=4.26.0 in /usr/local/lib/python3.8/dist-packages (from flair) (4.64.1)\n",
            "Requirement already satisfied: scikit-learn>=0.21.3 in /usr/local/lib/python3.8/dist-packages (from flair) (1.0.2)\n",
            "Requirement already satisfied: regex in /usr/local/lib/python3.8/dist-packages (from flair) (2022.6.2)\n",
            "Collecting wikipedia-api\n",
            "  Downloading Wikipedia_API-0.5.8-py3-none-any.whl (13 kB)\n",
            "Collecting segtok>=1.5.7\n",
            "  Downloading segtok-1.5.11-py3-none-any.whl (24 kB)\n",
            "Requirement already satisfied: matplotlib>=2.2.3 in /usr/local/lib/python3.8/dist-packages (from flair) (3.5.3)\n",
            "Collecting janome\n",
            "  Downloading Janome-0.4.2-py2.py3-none-any.whl (19.7 MB)\n",
            "\u001b[2K     \u001b[90m━━━━━━━━━━━━━━━━━━━━━━━━━━━━━━━━━━━━━━━━\u001b[0m \u001b[32m19.7/19.7 MB\u001b[0m \u001b[31m31.8 MB/s\u001b[0m eta \u001b[36m0:00:00\u001b[0m\n",
            "\u001b[?25hRequirement already satisfied: torch!=1.8,>=1.5.0 in /usr/local/lib/python3.8/dist-packages (from flair) (1.13.1+cu116)\n",
            "Requirement already satisfied: more-itertools in /usr/local/lib/python3.8/dist-packages (from flair) (9.0.0)\n",
            "Collecting pptree\n",
            "  Downloading pptree-3.1.tar.gz (3.0 kB)\n",
            "  Preparing metadata (setup.py) ... \u001b[?25l\u001b[?25hdone\n",
            "Collecting langdetect\n",
            "  Downloading langdetect-1.0.9.tar.gz (981 kB)\n",
            "\u001b[2K     \u001b[90m━━━━━━━━━━━━━━━━━━━━━━━━━━━━━━━━━━━━━━\u001b[0m \u001b[32m981.5/981.5 KB\u001b[0m \u001b[31m32.4 MB/s\u001b[0m eta \u001b[36m0:00:00\u001b[0m\n",
            "\u001b[?25h  Preparing metadata (setup.py) ... \u001b[?25l\u001b[?25hdone\n",
            "Collecting sqlitedict>=1.6.0\n",
            "  Downloading sqlitedict-2.1.0.tar.gz (21 kB)\n",
            "  Preparing metadata (setup.py) ... \u001b[?25l\u001b[?25hdone\n",
            "Collecting transformers>=4.0.0\n",
            "  Downloading transformers-4.26.1-py3-none-any.whl (6.3 MB)\n",
            "\u001b[2K     \u001b[90m━━━━━━━━━━━━━━━━━━━━━━━━━━━━━━━━━━━━━━━━\u001b[0m \u001b[32m6.3/6.3 MB\u001b[0m \u001b[31m31.2 MB/s\u001b[0m eta \u001b[36m0:00:00\u001b[0m\n",
            "\u001b[?25hCollecting hyperopt>=0.2.7\n",
            "  Downloading hyperopt-0.2.7-py2.py3-none-any.whl (1.6 MB)\n",
            "\u001b[2K     \u001b[90m━━━━━━━━━━━━━━━━━━━━━━━━━━━━━━━━━━━━━━━━\u001b[0m \u001b[32m1.6/1.6 MB\u001b[0m \u001b[31m26.1 MB/s\u001b[0m eta \u001b[36m0:00:00\u001b[0m\n",
            "\u001b[?25hRequirement already satisfied: beautifulsoup4 in /usr/local/lib/python3.8/dist-packages (from gdown==4.4.0->flair) (4.6.3)\n",
            "Requirement already satisfied: filelock in /usr/local/lib/python3.8/dist-packages (from gdown==4.4.0->flair) (3.9.0)\n",
            "Requirement already satisfied: six in /usr/local/lib/python3.8/dist-packages (from gdown==4.4.0->flair) (1.15.0)\n",
            "Requirement already satisfied: requests[socks] in /usr/local/lib/python3.8/dist-packages (from gdown==4.4.0->flair) (2.25.1)\n",
            "Requirement already satisfied: numpy in /usr/local/lib/python3.8/dist-packages (from bpemb>=0.3.2->flair) (1.22.4)\n",
            "Requirement already satisfied: wrapt<2,>=1.10 in /usr/local/lib/python3.8/dist-packages (from deprecated>=1.2.4->flair) (1.14.1)\n",
            "Requirement already satisfied: scipy>=0.18.1 in /usr/local/lib/python3.8/dist-packages (from gensim>=3.4.0->flair) (1.7.3)\n",
            "Requirement already satisfied: smart-open>=1.2.1 in /usr/local/lib/python3.8/dist-packages (from gensim>=3.4.0->flair) (6.3.0)\n",
            "Requirement already satisfied: cloudpickle in /usr/local/lib/python3.8/dist-packages (from hyperopt>=0.2.7->flair) (2.2.1)\n",
            "Requirement already satisfied: future in /usr/local/lib/python3.8/dist-packages (from hyperopt>=0.2.7->flair) (0.16.0)\n",
            "Requirement already satisfied: networkx>=2.2 in /usr/local/lib/python3.8/dist-packages (from hyperopt>=0.2.7->flair) (3.0)\n",
            "Collecting py4j\n",
            "  Downloading py4j-0.10.9.7-py2.py3-none-any.whl (200 kB)\n",
            "\u001b[2K     \u001b[90m━━━━━━━━━━━━━━━━━━━━━━━━━━━━━━━━━━━━━━━\u001b[0m \u001b[32m200.5/200.5 KB\u001b[0m \u001b[31m2.4 MB/s\u001b[0m eta \u001b[36m0:00:00\u001b[0m\n",
            "\u001b[?25hCollecting overrides<4.0.0,>=3.0.0\n",
            "  Downloading overrides-3.1.0.tar.gz (11 kB)\n",
            "  Preparing metadata (setup.py) ... \u001b[?25l\u001b[?25hdone\n",
            "Collecting importlib-metadata<4.0.0,>=3.7.0\n",
            "  Downloading importlib_metadata-3.10.1-py3-none-any.whl (14 kB)\n",
            "Requirement already satisfied: pyparsing>=2.2.1 in /usr/local/lib/python3.8/dist-packages (from matplotlib>=2.2.3->flair) (3.0.9)\n",
            "Requirement already satisfied: fonttools>=4.22.0 in /usr/local/lib/python3.8/dist-packages (from matplotlib>=2.2.3->flair) (4.38.0)\n",
            "Requirement already satisfied: cycler>=0.10 in /usr/local/lib/python3.8/dist-packages (from matplotlib>=2.2.3->flair) (0.11.0)\n",
            "Requirement already satisfied: pillow>=6.2.0 in /usr/local/lib/python3.8/dist-packages (from matplotlib>=2.2.3->flair) (7.1.2)\n",
            "Requirement already satisfied: packaging>=20.0 in /usr/local/lib/python3.8/dist-packages (from matplotlib>=2.2.3->flair) (23.0)\n",
            "Requirement already satisfied: kiwisolver>=1.0.1 in /usr/local/lib/python3.8/dist-packages (from matplotlib>=2.2.3->flair) (1.4.4)\n",
            "Requirement already satisfied: threadpoolctl>=2.0.0 in /usr/local/lib/python3.8/dist-packages (from scikit-learn>=0.21.3->flair) (3.1.0)\n",
            "Requirement already satisfied: joblib>=0.11 in /usr/local/lib/python3.8/dist-packages (from scikit-learn>=0.21.3->flair) (1.2.0)\n",
            "Requirement already satisfied: typing-extensions in /usr/local/lib/python3.8/dist-packages (from torch!=1.8,>=1.5.0->flair) (4.5.0)\n",
            "Requirement already satisfied: pyyaml>=5.1 in /usr/local/lib/python3.8/dist-packages (from transformers>=4.0.0->flair) (6.0)\n",
            "Collecting tokenizers!=0.11.3,<0.14,>=0.11.1\n",
            "  Downloading tokenizers-0.13.2-cp38-cp38-manylinux_2_17_x86_64.manylinux2014_x86_64.whl (7.6 MB)\n",
            "\u001b[2K     \u001b[90m━━━━━━━━━━━━━━━━━━━━━━━━━━━━━━━━━━━━━━━━\u001b[0m \u001b[32m7.6/7.6 MB\u001b[0m \u001b[31m44.6 MB/s\u001b[0m eta \u001b[36m0:00:00\u001b[0m\n",
            "\u001b[?25hRequirement already satisfied: wcwidth>=0.2.5 in /usr/local/lib/python3.8/dist-packages (from ftfy->flair) (0.2.6)\n",
            "Requirement already satisfied: zipp>=0.5 in /usr/local/lib/python3.8/dist-packages (from importlib-metadata<4.0.0,>=3.7.0->konoha<5.0.0,>=4.0.0->flair) (3.14.0)\n",
            "Requirement already satisfied: certifi>=2017.4.17 in /usr/local/lib/python3.8/dist-packages (from requests[socks]->gdown==4.4.0->flair) (2022.12.7)\n",
            "Requirement already satisfied: chardet<5,>=3.0.2 in /usr/local/lib/python3.8/dist-packages (from requests[socks]->gdown==4.4.0->flair) (4.0.0)\n",
            "Requirement already satisfied: urllib3<1.27,>=1.21.1 in /usr/local/lib/python3.8/dist-packages (from requests[socks]->gdown==4.4.0->flair) (1.24.3)\n",
            "Requirement already satisfied: idna<3,>=2.5 in /usr/local/lib/python3.8/dist-packages (from requests[socks]->gdown==4.4.0->flair) (2.10)\n",
            "Requirement already satisfied: PySocks!=1.5.7,>=1.5.6 in /usr/local/lib/python3.8/dist-packages (from requests[socks]->gdown==4.4.0->flair) (1.7.1)\n",
            "Building wheels for collected packages: mpld3, sqlitedict, langdetect, pptree, overrides\n",
            "  Building wheel for mpld3 (setup.py) ... \u001b[?25l\u001b[?25hdone\n",
            "  Created wheel for mpld3: filename=mpld3-0.3-py3-none-any.whl size=116702 sha256=694970b1db258fc43b9a6a537625680609a4f194c3ea4f1d98d875d236c3562a\n",
            "  Stored in directory: /root/.cache/pip/wheels/3d/9f/9d/d806a20bd97bc7076d724fa3e69fa5be61836ba16b2ffa6126\n",
            "  Building wheel for sqlitedict (setup.py) ... \u001b[?25l\u001b[?25hdone\n",
            "  Created wheel for sqlitedict: filename=sqlitedict-2.1.0-py3-none-any.whl size=16869 sha256=f9a6ea6b3424e12337067094c9b72a433506947a80fb3b675618ae8e8b5b7835\n",
            "  Stored in directory: /root/.cache/pip/wheels/04/c6/16/46e174009277f9bccdaa7215a243939d2f70180804b249bf3a\n",
            "  Building wheel for langdetect (setup.py) ... \u001b[?25l\u001b[?25hdone\n",
            "  Created wheel for langdetect: filename=langdetect-1.0.9-py3-none-any.whl size=993242 sha256=69dbc7882848057b71f16a226ea8bdd8520b9ef54bf1fabf82c83d458d4a94b5\n",
            "  Stored in directory: /root/.cache/pip/wheels/13/c7/b0/79f66658626032e78fc1a83103690ef6797d551cb22e56e734\n",
            "  Building wheel for pptree (setup.py) ... \u001b[?25l\u001b[?25hdone\n",
            "  Created wheel for pptree: filename=pptree-3.1-py3-none-any.whl size=4629 sha256=f7c6b6cee4c4bdea398ed872e733390610fc4d8ddc99c73dce9f9d99bd7cfc59\n",
            "  Stored in directory: /root/.cache/pip/wheels/e1/8b/30/5b20240d3d13a9dfafb6a6dd49d1b541c86d39812cb3690edf\n",
            "  Building wheel for overrides (setup.py) ... \u001b[?25l\u001b[?25hdone\n",
            "  Created wheel for overrides: filename=overrides-3.1.0-py3-none-any.whl size=10187 sha256=8da5f351ac57fc5fd64f7dad7c6838049c51f6ced34d49904a39ac7a9e9ab28e\n",
            "  Stored in directory: /root/.cache/pip/wheels/6a/4f/72/28857f75625b263e2e3f5ab2fc4416c0a85960ac6485007eaa\n",
            "Successfully built mpld3 sqlitedict langdetect pptree overrides\n",
            "Installing collected packages: tokenizers, sqlitedict, sentencepiece, py4j, pptree, overrides, mpld3, janome, segtok, langdetect, importlib-metadata, ftfy, deprecated, conllu, wikipedia-api, konoha, hyperopt, huggingface-hub, transformers, bpemb, flair\n",
            "  Attempting uninstall: importlib-metadata\n",
            "    Found existing installation: importlib-metadata 6.0.0\n",
            "    Uninstalling importlib-metadata-6.0.0:\n",
            "      Successfully uninstalled importlib-metadata-6.0.0\n",
            "  Attempting uninstall: hyperopt\n",
            "    Found existing installation: hyperopt 0.1.2\n",
            "    Uninstalling hyperopt-0.1.2:\n",
            "      Successfully uninstalled hyperopt-0.1.2\n",
            "\u001b[31mERROR: pip's dependency resolver does not currently take into account all the packages that are installed. This behaviour is the source of the following dependency conflicts.\n",
            "markdown 3.4.1 requires importlib-metadata>=4.4; python_version < \"3.10\", but you have importlib-metadata 3.10.1 which is incompatible.\n",
            "gym 0.25.2 requires importlib-metadata>=4.8.0; python_version < \"3.10\", but you have importlib-metadata 3.10.1 which is incompatible.\u001b[0m\u001b[31m\n",
            "\u001b[0mSuccessfully installed bpemb-0.3.4 conllu-4.5.2 deprecated-1.2.13 flair-0.11.3 ftfy-6.1.1 huggingface-hub-0.12.1 hyperopt-0.2.7 importlib-metadata-3.10.1 janome-0.4.2 konoha-4.6.5 langdetect-1.0.9 mpld3-0.3 overrides-3.1.0 pptree-3.1 py4j-0.10.9.7 segtok-1.5.11 sentencepiece-0.1.95 sqlitedict-2.1.0 tokenizers-0.13.2 transformers-4.26.1 wikipedia-api-0.5.8\n"
          ]
        }
      ],
      "source": [
        "from datetime import timedelta\n",
        "!pip install textstat\n",
        "!pip install flair\n",
        "\n",
        "import textstat\n",
        "\n",
        "from nltk.sentiment.vader import SentimentIntensityAnalyzer\n",
        "from nltk import tokenize\n",
        "\n",
        "import flair"
      ]
    },
    {
      "cell_type": "markdown",
      "metadata": {
        "id": "7wEKl_gyM1Eh"
      },
      "source": [
        "## Feature Engineering"
      ]
    },
    {
      "cell_type": "code",
      "execution_count": 12,
      "metadata": {
        "id": "GpeZ5PXWLQPV"
      },
      "outputs": [],
      "source": [
        "a = pd.merge(full_projects, full_donations, on=['projectid'], how='left')\n",
        "a['in_4_months'] = (pd.to_datetime(a['donation_timestamp']) - pd.to_datetime(a['date_posted'])) < timedelta(days=120)\n",
        "a['in_1_months'] = (pd.to_datetime(a['donation_timestamp']) - pd.to_datetime(a['date_posted'])) < timedelta(days=30)\n",
        "a['donation_1mo'] = a['donation_to_project'].values\n",
        "values = {'donation_to_project': 0.0}\n",
        "a = a.fillna(value=values)\n",
        "a.loc[a['in_4_months'] == False, 'donation_to_project'] = 0.0\n",
        "a.loc[a['in_1_months'] == False, 'donation_1mo'] = 0.0\n",
        "\n",
        "donation_in_4_months = a.groupby(['projectid'])['donation_to_project'].sum().reset_index(name='donation_in_4_months')\n",
        "donation_in_1_months = a.groupby(['projectid'])['donation_1mo'].sum().reset_index(name='donation_in_1_months')\n",
        "df = pd.merge(full_projects, donation_in_4_months, on=['projectid'], how='left')\n",
        "df = pd.merge(df, donation_in_1_months, on=['projectid'], how='left')\n",
        "\n",
        "del a"
      ]
    },
    {
      "cell_type": "code",
      "execution_count": 13,
      "metadata": {
        "id": "YvIcSIe8LzQK",
        "colab": {
          "base_uri": "https://localhost:8080/"
        },
        "outputId": "056f17ee-a8e2-4448-944d-642cfb4ca0c0"
      },
      "outputs": [
        {
          "output_type": "stream",
          "name": "stdout",
          "text": [
            "Baserate % projects fully funded: 0.5480215269433126\n",
            "Baserate % projects fully funded 1mo: 0.30470804007842217\n"
          ]
        }
      ],
      "source": [
        "df['is_fully_funded_after_4_months'] = df['total_price_excluding_optional_support'] <= df['donation_in_4_months']\n",
        "# df['is_fully_funded_after_4_months'] = df['total_asking_price'] <= df['donation_in_4_months']\n",
        "df['is_fully_funded_after_4_months'].value_counts()\n",
        "print(\"Baserate % projects fully funded:\", df['is_fully_funded_after_4_months'].mean())\n",
        "\n",
        "df['pct_funded_1mo'] = df['donation_in_1_months'] / df['total_price_excluding_optional_support']\n",
        "df['is_fully_funded_after_1_months'] = df['total_price_excluding_optional_support'] <= df['donation_in_1_months']\n",
        "#df['is_fully_funded_after_1_months'] = df['total_asking_price'] <= df['donation_in_1_months']\n",
        "df['is_fully_funded_after_1_months'].value_counts()\n",
        "print(\"Baserate % projects fully funded 1mo:\", df['is_fully_funded_after_1_months'].mean())"
      ]
    },
    {
      "cell_type": "code",
      "execution_count": 14,
      "metadata": {
        "id": "bZl0E-Hq9Ccc"
      },
      "outputs": [],
      "source": [
        "df['date_posted'] = pd.to_datetime(df['date_posted'])\n",
        "df['children_helped_per_dollar'] = df['students_reached']/df['total_price_excluding_optional_support']"
      ]
    },
    {
      "cell_type": "code",
      "execution_count": 15,
      "metadata": {
        "id": "nR0xG-msl0hp",
        "colab": {
          "base_uri": "https://localhost:8080/"
        },
        "outputId": "33b83f79-d72f-4788-bc16-5d7e6301bf33"
      },
      "outputs": [
        {
          "output_type": "execute_result",
          "data": {
            "text/plain": [
              "Index(['projectid', 'teacher_acctid', 'schoolid', 'school_ncesid',\n",
              "       'school_latitude', 'school_longitude', 'school_city', 'school_state',\n",
              "       'school_zip', 'school_metro', 'school_district', 'school_county',\n",
              "       'school_charter', 'school_magnet', 'school_year_round', 'school_nlns',\n",
              "       'school_kipp', 'school_charter_ready_promise', 'teacher_prefix',\n",
              "       'teacher_teach_for_america', 'teacher_ny_teaching_fellow',\n",
              "       'primary_focus_subject', 'primary_focus_area',\n",
              "       'secondary_focus_subject', 'secondary_focus_area', 'resource_type',\n",
              "       'poverty_level', 'grade_level', 'fulfillment_labor_materials',\n",
              "       'total_price_excluding_optional_support',\n",
              "       'total_price_including_optional_support', 'students_reached',\n",
              "       'eligible_double_your_impact_match', 'eligible_almost_home_match',\n",
              "       'date_posted', 'donation_in_4_months', 'donation_in_1_months',\n",
              "       'is_fully_funded_after_4_months', 'pct_funded_1mo',\n",
              "       'is_fully_funded_after_1_months', 'children_helped_per_dollar'],\n",
              "      dtype='object')"
            ]
          },
          "metadata": {},
          "execution_count": 15
        }
      ],
      "source": [
        "df.columns"
      ]
    },
    {
      "cell_type": "code",
      "execution_count": 16,
      "metadata": {
        "id": "D9ClUJs2wScg",
        "colab": {
          "base_uri": "https://localhost:8080/"
        },
        "outputId": "004e955f-3281-4acb-c907-a2a0f6c5e25f"
      },
      "outputs": [
        {
          "output_type": "execute_result",
          "data": {
            "text/plain": [
              "(664098, 41)"
            ]
          },
          "metadata": {},
          "execution_count": 16
        }
      ],
      "source": [
        "df.shape"
      ]
    },
    {
      "cell_type": "code",
      "execution_count": 16,
      "metadata": {
        "id": "X5ZY1ivawQrT"
      },
      "outputs": [],
      "source": []
    },
    {
      "cell_type": "code",
      "execution_count": 17,
      "metadata": {
        "id": "zmosoRB8QfIV",
        "colab": {
          "base_uri": "https://localhost:8080/"
        },
        "outputId": "8dedcf95-bd54-421f-e9f3-6a758fa1d670"
      },
      "outputs": [
        {
          "output_type": "stream",
          "name": "stderr",
          "text": [
            "/usr/local/lib/python3.8/dist-packages/sklearn/utils/deprecation.py:87: FutureWarning: Function get_feature_names is deprecated; get_feature_names is deprecated in 1.0 and will be removed in 1.2. Please use get_feature_names_out instead.\n",
            "  warnings.warn(msg, category=FutureWarning)\n"
          ]
        }
      ],
      "source": [
        "from sklearn.preprocessing import OneHotEncoder\n",
        "one_hot_feature_cols = ['grade_level', 'teacher_prefix', 'school_state']\n",
        "df = df.replace({'school_charter': {'t': 1, 'f': 0},\n",
        "                 'school_kipp': {'t': 1, 'f': 0}})\n",
        "\n",
        "encoder = OneHotEncoder(handle_unknown='ignore')\n",
        "\n",
        "#perform one-hot encoding\n",
        "encoder_df = pd.DataFrame(encoder.fit_transform(df[one_hot_feature_cols]).toarray())\n",
        "encoder_df.columns = encoder.get_feature_names()\n",
        "#merge one-hot encoded columns back with original DataFrame\n",
        "final_X = df.join(encoder_df)\n",
        "#drop the original columns\n",
        "final_X = final_X.drop(one_hot_feature_cols, axis=1)\n",
        "\n",
        "df = final_X\n",
        "\n",
        "# # row 28-36\n",
        "feature_cols_projects = ['school_charter', 'school_kipp', 'total_price_excluding_optional_support', 'students_reached', 'teacher_acctid', 'school_city', 'date_posted'] + list(final_X.columns[-50:])"
      ]
    },
    {
      "cell_type": "code",
      "execution_count": 18,
      "metadata": {
        "id": "FnvZ5MSiQfIW",
        "colab": {
          "base_uri": "https://localhost:8080/"
        },
        "outputId": "0251e821-e6ff-48fd-93e3-86268156d77f"
      },
      "outputs": [
        {
          "output_type": "execute_result",
          "data": {
            "text/plain": [
              "Index(['projectid', 'teacher_acctid', 'schoolid', 'school_ncesid',\n",
              "       'school_latitude', 'school_longitude', 'school_city', 'school_zip',\n",
              "       'school_metro', 'school_district',\n",
              "       ...\n",
              "       'x2_SD', 'x2_TN', 'x2_TX', 'x2_UT', 'x2_VA', 'x2_VT', 'x2_WA', 'x2_WI',\n",
              "       'x2_WV', 'x2_WY'],\n",
              "      dtype='object', length=101)"
            ]
          },
          "metadata": {},
          "execution_count": 18
        }
      ],
      "source": [
        "df.columns"
      ]
    },
    {
      "cell_type": "code",
      "execution_count": 19,
      "metadata": {
        "id": "lBaQ63bQrm5r",
        "colab": {
          "base_uri": "https://localhost:8080/",
          "height": 241
        },
        "outputId": "9aea6fc6-9b60-4386-f357-2d97e76e096b"
      },
      "outputs": [
        {
          "output_type": "stream",
          "name": "stdout",
          "text": [
            "Archive:  /content/essays.csv.zip\n",
            "  inflating: essays.csv              \n"
          ]
        },
        {
          "output_type": "execute_result",
          "data": {
            "text/plain": [
              "                          projectid                    teacher_acctid  \\\n",
              "0  ffffc4f85b60efc5b52347df489d0238  c24011b20fc161ed02248e85beb59a90   \n",
              "1  ffffac55ee02a49d1abc87ba6fc61135  947066d0af47e0566f334566553dd6a6   \n",
              "2  ffff97ed93720407d70a2787475932b0  462270f5d5c212162fcab11afa2623cb   \n",
              "3  ffff7266778f71242675416e600b94e1  b9a8f14199e0d8109200ece179281f4f   \n",
              "4  ffff418bb42fad24347527ad96100f81  e885fb002a1d0d39aaed9d21a7683549   \n",
              "\n",
              "                                          title  \\\n",
              "0                                         iMath   \n",
              "1                     Recording Rockin' Readers   \n",
              "2  Kindergarten In Need of Important Materials!   \n",
              "3                               Let's Find Out!   \n",
              "4                        Whistle While We Work!   \n",
              "\n",
              "                                   short_description  \\\n",
              "0  It is imperative that teachers bring technolog...   \n",
              "1  Can you imagine having to translate everything...   \n",
              "2  It takes a special person to donate to a group...   \n",
              "3  My Kindergarten students come from a variety o...   \n",
              "4  By using the cross curricular games requested,...   \n",
              "\n",
              "                                      need_statement  \\\n",
              "0                       My students need four iPods.   \n",
              "1                     My students need a camcorder.    \n",
              "2  My students need 17 assorted classroom materia...   \n",
              "3  My students need 25 copies of Scholastic's \"Le...   \n",
              "4  My students need grade level appropriate games...   \n",
              "\n",
              "                                               essay  \n",
              "0  I am a fourth year fifth grade math teacher. T...  \n",
              "1  Can you imagine having to translate everything...  \n",
              "2  Hi. I teach a wonderful group of 4-5 year old ...  \n",
              "3  My Kindergarten students come from a variety o...  \n",
              "4  All work and no play makes school a dull place...  "
            ],
            "text/html": [
              "\n",
              "  <div id=\"df-57305133-7777-44ab-8936-b6af6a1a2ce4\">\n",
              "    <div class=\"colab-df-container\">\n",
              "      <div>\n",
              "<style scoped>\n",
              "    .dataframe tbody tr th:only-of-type {\n",
              "        vertical-align: middle;\n",
              "    }\n",
              "\n",
              "    .dataframe tbody tr th {\n",
              "        vertical-align: top;\n",
              "    }\n",
              "\n",
              "    .dataframe thead th {\n",
              "        text-align: right;\n",
              "    }\n",
              "</style>\n",
              "<table border=\"1\" class=\"dataframe\">\n",
              "  <thead>\n",
              "    <tr style=\"text-align: right;\">\n",
              "      <th></th>\n",
              "      <th>projectid</th>\n",
              "      <th>teacher_acctid</th>\n",
              "      <th>title</th>\n",
              "      <th>short_description</th>\n",
              "      <th>need_statement</th>\n",
              "      <th>essay</th>\n",
              "    </tr>\n",
              "  </thead>\n",
              "  <tbody>\n",
              "    <tr>\n",
              "      <th>0</th>\n",
              "      <td>ffffc4f85b60efc5b52347df489d0238</td>\n",
              "      <td>c24011b20fc161ed02248e85beb59a90</td>\n",
              "      <td>iMath</td>\n",
              "      <td>It is imperative that teachers bring technolog...</td>\n",
              "      <td>My students need four iPods.</td>\n",
              "      <td>I am a fourth year fifth grade math teacher. T...</td>\n",
              "    </tr>\n",
              "    <tr>\n",
              "      <th>1</th>\n",
              "      <td>ffffac55ee02a49d1abc87ba6fc61135</td>\n",
              "      <td>947066d0af47e0566f334566553dd6a6</td>\n",
              "      <td>Recording Rockin' Readers</td>\n",
              "      <td>Can you imagine having to translate everything...</td>\n",
              "      <td>My students need a camcorder.</td>\n",
              "      <td>Can you imagine having to translate everything...</td>\n",
              "    </tr>\n",
              "    <tr>\n",
              "      <th>2</th>\n",
              "      <td>ffff97ed93720407d70a2787475932b0</td>\n",
              "      <td>462270f5d5c212162fcab11afa2623cb</td>\n",
              "      <td>Kindergarten In Need of Important Materials!</td>\n",
              "      <td>It takes a special person to donate to a group...</td>\n",
              "      <td>My students need 17 assorted classroom materia...</td>\n",
              "      <td>Hi. I teach a wonderful group of 4-5 year old ...</td>\n",
              "    </tr>\n",
              "    <tr>\n",
              "      <th>3</th>\n",
              "      <td>ffff7266778f71242675416e600b94e1</td>\n",
              "      <td>b9a8f14199e0d8109200ece179281f4f</td>\n",
              "      <td>Let's Find Out!</td>\n",
              "      <td>My Kindergarten students come from a variety o...</td>\n",
              "      <td>My students need 25 copies of Scholastic's \"Le...</td>\n",
              "      <td>My Kindergarten students come from a variety o...</td>\n",
              "    </tr>\n",
              "    <tr>\n",
              "      <th>4</th>\n",
              "      <td>ffff418bb42fad24347527ad96100f81</td>\n",
              "      <td>e885fb002a1d0d39aaed9d21a7683549</td>\n",
              "      <td>Whistle While We Work!</td>\n",
              "      <td>By using the cross curricular games requested,...</td>\n",
              "      <td>My students need grade level appropriate games...</td>\n",
              "      <td>All work and no play makes school a dull place...</td>\n",
              "    </tr>\n",
              "  </tbody>\n",
              "</table>\n",
              "</div>\n",
              "      <button class=\"colab-df-convert\" onclick=\"convertToInteractive('df-57305133-7777-44ab-8936-b6af6a1a2ce4')\"\n",
              "              title=\"Convert this dataframe to an interactive table.\"\n",
              "              style=\"display:none;\">\n",
              "        \n",
              "  <svg xmlns=\"http://www.w3.org/2000/svg\" height=\"24px\"viewBox=\"0 0 24 24\"\n",
              "       width=\"24px\">\n",
              "    <path d=\"M0 0h24v24H0V0z\" fill=\"none\"/>\n",
              "    <path d=\"M18.56 5.44l.94 2.06.94-2.06 2.06-.94-2.06-.94-.94-2.06-.94 2.06-2.06.94zm-11 1L8.5 8.5l.94-2.06 2.06-.94-2.06-.94L8.5 2.5l-.94 2.06-2.06.94zm10 10l.94 2.06.94-2.06 2.06-.94-2.06-.94-.94-2.06-.94 2.06-2.06.94z\"/><path d=\"M17.41 7.96l-1.37-1.37c-.4-.4-.92-.59-1.43-.59-.52 0-1.04.2-1.43.59L10.3 9.45l-7.72 7.72c-.78.78-.78 2.05 0 2.83L4 21.41c.39.39.9.59 1.41.59.51 0 1.02-.2 1.41-.59l7.78-7.78 2.81-2.81c.8-.78.8-2.07 0-2.86zM5.41 20L4 18.59l7.72-7.72 1.47 1.35L5.41 20z\"/>\n",
              "  </svg>\n",
              "      </button>\n",
              "      \n",
              "  <style>\n",
              "    .colab-df-container {\n",
              "      display:flex;\n",
              "      flex-wrap:wrap;\n",
              "      gap: 12px;\n",
              "    }\n",
              "\n",
              "    .colab-df-convert {\n",
              "      background-color: #E8F0FE;\n",
              "      border: none;\n",
              "      border-radius: 50%;\n",
              "      cursor: pointer;\n",
              "      display: none;\n",
              "      fill: #1967D2;\n",
              "      height: 32px;\n",
              "      padding: 0 0 0 0;\n",
              "      width: 32px;\n",
              "    }\n",
              "\n",
              "    .colab-df-convert:hover {\n",
              "      background-color: #E2EBFA;\n",
              "      box-shadow: 0px 1px 2px rgba(60, 64, 67, 0.3), 0px 1px 3px 1px rgba(60, 64, 67, 0.15);\n",
              "      fill: #174EA6;\n",
              "    }\n",
              "\n",
              "    [theme=dark] .colab-df-convert {\n",
              "      background-color: #3B4455;\n",
              "      fill: #D2E3FC;\n",
              "    }\n",
              "\n",
              "    [theme=dark] .colab-df-convert:hover {\n",
              "      background-color: #434B5C;\n",
              "      box-shadow: 0px 1px 3px 1px rgba(0, 0, 0, 0.15);\n",
              "      filter: drop-shadow(0px 1px 2px rgba(0, 0, 0, 0.3));\n",
              "      fill: #FFFFFF;\n",
              "    }\n",
              "  </style>\n",
              "\n",
              "      <script>\n",
              "        const buttonEl =\n",
              "          document.querySelector('#df-57305133-7777-44ab-8936-b6af6a1a2ce4 button.colab-df-convert');\n",
              "        buttonEl.style.display =\n",
              "          google.colab.kernel.accessAllowed ? 'block' : 'none';\n",
              "\n",
              "        async function convertToInteractive(key) {\n",
              "          const element = document.querySelector('#df-57305133-7777-44ab-8936-b6af6a1a2ce4');\n",
              "          const dataTable =\n",
              "            await google.colab.kernel.invokeFunction('convertToInteractive',\n",
              "                                                     [key], {});\n",
              "          if (!dataTable) return;\n",
              "\n",
              "          const docLinkHtml = 'Like what you see? Visit the ' +\n",
              "            '<a target=\"_blank\" href=https://colab.research.google.com/notebooks/data_table.ipynb>data table notebook</a>'\n",
              "            + ' to learn more about interactive tables.';\n",
              "          element.innerHTML = '';\n",
              "          dataTable['output_type'] = 'display_data';\n",
              "          await google.colab.output.renderOutput(dataTable, element);\n",
              "          const docLink = document.createElement('div');\n",
              "          docLink.innerHTML = docLinkHtml;\n",
              "          element.appendChild(docLink);\n",
              "        }\n",
              "      </script>\n",
              "    </div>\n",
              "  </div>\n",
              "  "
            ]
          },
          "metadata": {},
          "execution_count": 19
        }
      ],
      "source": [
        "!unzip /content/essays.csv.zip\n",
        "full_essays = pd.read_csv(\"/content/essays.csv\")\n",
        "full_essays.head()"
      ]
    },
    {
      "cell_type": "code",
      "execution_count": 20,
      "metadata": {
        "id": "UWMC7K9vx4pe",
        "colab": {
          "base_uri": "https://localhost:8080/"
        },
        "outputId": "33922836-9e1a-470b-bf46-3c7f075dad29"
      },
      "outputs": [
        {
          "output_type": "stream",
          "name": "stderr",
          "text": [
            "[nltk_data] Downloading package vader_lexicon to /root/nltk_data...\n"
          ]
        }
      ],
      "source": [
        "import nltk\n",
        "nltk.download('vader_lexicon')\n",
        "sid = SentimentIntensityAnalyzer()"
      ]
    },
    {
      "cell_type": "code",
      "execution_count": 21,
      "metadata": {
        "id": "s4Q4et7cyUEz",
        "colab": {
          "base_uri": "https://localhost:8080/"
        },
        "outputId": "08dee59b-88c9-4659-f34e-ef8a4146ecb5"
      },
      "outputs": [
        {
          "output_type": "execute_result",
          "data": {
            "text/plain": [
              "(664098, 6)"
            ]
          },
          "metadata": {},
          "execution_count": 21
        }
      ],
      "source": [
        "full_essays.shape"
      ]
    },
    {
      "cell_type": "code",
      "execution_count": 22,
      "metadata": {
        "id": "p_C-BMmMx5b3"
      },
      "outputs": [],
      "source": [
        "sample_essays = full_essays.iloc[:100000]"
      ]
    },
    {
      "cell_type": "code",
      "execution_count": 23,
      "metadata": {
        "id": "vjQ5ZW2s64mU"
      },
      "outputs": [],
      "source": [
        "sample_polarity = sample_essays['title'].astype(str).apply(lambda x: sid.polarity_scores(x))"
      ]
    },
    {
      "cell_type": "code",
      "execution_count": 24,
      "metadata": {
        "id": "Z4fuFCHw7QJF"
      },
      "outputs": [],
      "source": [
        "sample_polarity = sample_essays['short_description'].astype(str).apply(lambda x: sid.polarity_scores(x))"
      ]
    },
    {
      "cell_type": "code",
      "execution_count": 25,
      "metadata": {
        "id": "t8-RaZODp7sH",
        "colab": {
          "base_uri": "https://localhost:8080/"
        },
        "outputId": "06459927-65c6-4cb7-97b8-63f10ed4f041"
      },
      "outputs": [
        {
          "output_type": "stream",
          "name": "stdout",
          "text": [
            "title\n",
            "short_description\n",
            "need_statement\n",
            "essay\n",
            "title\n",
            "short_description\n"
          ]
        }
      ],
      "source": [
        "#flair_sentiment= flair.models.TextClassifier.load('en-sentiment')\n",
        "sid = SentimentIntensityAnalyzer()\n",
        "for col in ['title','short_description', 'need_statement', 'essay']:\n",
        "  print(col)\n",
        "  full_essays[col + '_len'] = full_essays[col].str.len()\n",
        "  full_essays[col + '_wordlen'] = full_essays[col].astype(str).apply(lambda x: len(x) / len(x.split(' ')))\n",
        "\n",
        "for col in ['title','short_description']:\n",
        "  print(col)\n",
        "  full_essays[col + '_sent'] = full_essays[col].astype(str).apply(lambda x: sid.polarity_scores(x))\n",
        "  full_essays[col + '_sentnet'] = full_essays[col + '_sent'].apply(lambda x: x['pos'] - x['neg'])\n",
        "  full_essays[col + '_sentpol'] = full_essays[col + '_sent'].apply(lambda x: x['pos'] + x['neg'])"
      ]
    },
    {
      "cell_type": "code",
      "execution_count": 26,
      "metadata": {
        "id": "tHl8k0mNJ8SE"
      },
      "outputs": [],
      "source": [
        "full_essays = full_essays.drop(columns=['teacher_acctid', 'title', 'short_description', 'need_statement', 'essay'])"
      ]
    },
    {
      "cell_type": "code",
      "execution_count": 27,
      "metadata": {
        "id": "uO3i2YyvJsR8"
      },
      "outputs": [],
      "source": [
        "df = pd.merge(df, full_essays, on=['projectid'], how='left')"
      ]
    },
    {
      "cell_type": "code",
      "execution_count": 28,
      "metadata": {
        "id": "Y8T7wymuQfIY",
        "colab": {
          "base_uri": "https://localhost:8080/"
        },
        "outputId": "a97bdc1a-2055-4b98-f6d2-64dcd991358c"
      },
      "outputs": [
        {
          "output_type": "execute_result",
          "data": {
            "text/plain": [
              "Index(['projectid', 'teacher_acctid', 'schoolid', 'school_ncesid',\n",
              "       'school_latitude', 'school_longitude', 'school_city', 'school_zip',\n",
              "       'school_metro', 'school_district',\n",
              "       ...\n",
              "       'need_statement_len', 'need_statement_wordlen', 'essay_len',\n",
              "       'essay_wordlen', 'title_sent', 'title_sentnet', 'title_sentpol',\n",
              "       'short_description_sent', 'short_description_sentnet',\n",
              "       'short_description_sentpol'],\n",
              "      dtype='object', length=115)"
            ]
          },
          "metadata": {},
          "execution_count": 28
        }
      ],
      "source": [
        "df.columns"
      ]
    },
    {
      "cell_type": "code",
      "execution_count": 29,
      "metadata": {
        "id": "kYbaYBXmogpb"
      },
      "outputs": [],
      "source": [
        "import numpy as np"
      ]
    },
    {
      "cell_type": "code",
      "execution_count": 30,
      "metadata": {
        "id": "mVjcnYOGQfIY",
        "colab": {
          "base_uri": "https://localhost:8080/"
        },
        "outputId": "52053347-fde1-4ed5-eaad-344de8e09193"
      },
      "outputs": [
        {
          "output_type": "stream",
          "name": "stderr",
          "text": [
            "<ipython-input-30-4fa936b62856>:2: SettingWithCopyWarning: \n",
            "A value is trying to be set on a copy of a slice from a DataFrame.\n",
            "Try using .loc[row_indexer,col_indexer] = value instead\n",
            "\n",
            "See the caveats in the documentation: https://pandas.pydata.org/pandas-docs/stable/user_guide/indexing.html#returning-a-view-versus-a-copy\n",
            "  resource_df['project_resource_type'] = resource_df['project_resource_type'].astype('str')\n",
            "<ipython-input-30-4fa936b62856>:14: SettingWithCopyWarning: \n",
            "A value is trying to be set on a copy of a slice from a DataFrame.\n",
            "Try using .loc[row_indexer,col_indexer] = value instead\n",
            "\n",
            "See the caveats in the documentation: https://pandas.pydata.org/pandas-docs/stable/user_guide/indexing.html#returning-a-view-versus-a-copy\n",
            "  resource_df['avg_unit_price'] = resource_df.apply(lambda row: avg_unit_price[row['project_resource_type']], axis=1) # This could take a minute to run\n",
            "<ipython-input-30-4fa936b62856>:15: SettingWithCopyWarning: \n",
            "A value is trying to be set on a copy of a slice from a DataFrame.\n",
            "Try using .loc[row_indexer,col_indexer] = value instead\n",
            "\n",
            "See the caveats in the documentation: https://pandas.pydata.org/pandas-docs/stable/user_guide/indexing.html#returning-a-view-versus-a-copy\n",
            "  resource_df['avg_quantity'] = resource_df.apply(lambda row: avg_quantity[row['project_resource_type']], axis=1)\n",
            "<ipython-input-30-4fa936b62856>:17: SettingWithCopyWarning: \n",
            "A value is trying to be set on a copy of a slice from a DataFrame.\n",
            "Try using .loc[row_indexer,col_indexer] = value instead\n",
            "\n",
            "See the caveats in the documentation: https://pandas.pydata.org/pandas-docs/stable/user_guide/indexing.html#returning-a-view-versus-a-copy\n",
            "  resource_df['item_unit_price'] = resource_df['item_unit_price'].fillna(resource_df['avg_unit_price'])\n",
            "<ipython-input-30-4fa936b62856>:18: SettingWithCopyWarning: \n",
            "A value is trying to be set on a copy of a slice from a DataFrame.\n",
            "Try using .loc[row_indexer,col_indexer] = value instead\n",
            "\n",
            "See the caveats in the documentation: https://pandas.pydata.org/pandas-docs/stable/user_guide/indexing.html#returning-a-view-versus-a-copy\n",
            "  resource_df['item_quantity'] = resource_df['item_quantity'].fillna(resource_df['avg_quantity'])\n"
          ]
        }
      ],
      "source": [
        "resource_df = full_resources[['resourceid', 'projectid', 'project_resource_type', 'item_unit_price', 'item_quantity']]\n",
        "resource_df['project_resource_type'] = resource_df['project_resource_type'].astype('str')\n",
        "\n",
        "# Fill in missing values of item_unit_price & item_quantity\n",
        "resource_types = np.unique(resource_df['project_resource_type'].tolist())\n",
        "avg_unit_price = {}\n",
        "avg_quantity = {}\n",
        "for rtype in resource_types:\n",
        "  avg = resource_df.loc[resource_df['project_resource_type'] == rtype]['item_unit_price'].mean()\n",
        "  avg_unit_price[rtype] = avg\n",
        "  avg_num = np.floor(resource_df.loc[resource_df['project_resource_type'] == rtype]['item_quantity'].mean())\n",
        "  avg_quantity[rtype] = avg_num\n",
        "\n",
        "resource_df['avg_unit_price'] = resource_df.apply(lambda row: avg_unit_price[row['project_resource_type']], axis=1) # This could take a minute to run\n",
        "resource_df['avg_quantity'] = resource_df.apply(lambda row: avg_quantity[row['project_resource_type']], axis=1)\n",
        "\n",
        "resource_df['item_unit_price'] = resource_df['item_unit_price'].fillna(resource_df['avg_unit_price'])\n",
        "resource_df['item_quantity'] = resource_df['item_quantity'].fillna(resource_df['avg_quantity'])\n",
        "\n",
        "resource_df = resource_df.groupby('projectid').agg({'item_unit_price':'mean', 'item_quantity':'sum'}).reset_index().rename(columns={'item_unit_price':'avg_unit_price', 'item_quantity':'total_item_quantity'})\n",
        "df = df.merge(resource_df, how='left', on='projectid')"
      ]
    },
    {
      "cell_type": "code",
      "execution_count": 31,
      "metadata": {
        "id": "Kf6z5hxescIC",
        "colab": {
          "base_uri": "https://localhost:8080/"
        },
        "outputId": "e6488c19-1ae6-4c44-b26d-2dbbddbeec2c"
      },
      "outputs": [
        {
          "output_type": "stream",
          "name": "stdout",
          "text": [
            "\n",
            "Index(['students_reached', 'children_helped_per_dollar', 'title_len',\n",
            "       'title_sentnet', 'title_sentpol', 'short_description_len',\n",
            "       'short_description_sentnet', 'short_description_sentpol', 'essay_len',\n",
            "       'need_statement_len', 'avg_unit_price', 'total_item_quantity',\n",
            "       'pct_funded_1mo', 'school_charter', 'school_kipp',\n",
            "       'total_price_excluding_optional_support', 'students_reached',\n",
            "       'teacher_acctid', 'school_city', 'date_posted', 'x2_AR', 'x2_AZ',\n",
            "       'x2_CA', 'x2_CO', 'x2_CT', 'x2_DC', 'x2_DE', 'x2_FL', 'x2_GA', 'x2_HI',\n",
            "       'x2_IA', 'x2_ID', 'x2_IL', 'x2_IN', 'x2_KS', 'x2_KY', 'x2_LA', 'x2_La',\n",
            "       'x2_MA', 'x2_MD', 'x2_ME', 'x2_MI', 'x2_MN', 'x2_MO', 'x2_MS', 'x2_MT',\n",
            "       'x2_NC', 'x2_ND', 'x2_NE', 'x2_NH', 'x2_NJ', 'x2_NM', 'x2_NV', 'x2_NY',\n",
            "       'x2_OH', 'x2_OK', 'x2_OR', 'x2_PA', 'x2_RI', 'x2_SC', 'x2_SD', 'x2_TN',\n",
            "       'x2_TX', 'x2_UT', 'x2_VA', 'x2_VT', 'x2_WA', 'x2_WI', 'x2_WV', 'x2_WY',\n",
            "       'projectid', 'is_fully_funded_after_4_months',\n",
            "       'primary_focus_area:Applied_Learning',\n",
            "       'primary_focus_area:Health_&_Sports',\n",
            "       'primary_focus_area:History_&_Civics',\n",
            "       'primary_focus_area:Literacy_&_Language',\n",
            "       'primary_focus_area:Math_&_Science',\n",
            "       'primary_focus_area:Music_&_The_Arts',\n",
            "       'primary_focus_area:Special_Needs', 'resource_type:Books',\n",
            "       'resource_type:Other', 'resource_type:Supplies',\n",
            "       'resource_type:Technology', 'resource_type:Trips',\n",
            "       'resource_type:Visitors', 'poverty_level:high_poverty',\n",
            "       'poverty_level:highest_poverty', 'poverty_level:low_poverty',\n",
            "       'poverty_level:moderate_poverty'],\n",
            "      dtype='object')\n"
          ]
        }
      ],
      "source": [
        "resstat_cols = ['students_reached', 'children_helped_per_dollar', 'primary_focus_area', 'resource_type', 'poverty_level']\n",
        "\n",
        "text_cols = ['title_len', 'title_sentnet', 'title_sentpol', 'short_description_len', 'short_description_sentnet', 'short_description_sentpol','essay_len', 'need_statement_len']\n",
        "res_cols = ['avg_unit_price', 'total_item_quantity']\n",
        "don_cols = ['pct_funded_1mo']\n",
        "features = resstat_cols + text_cols + res_cols + don_cols + feature_cols_projects + ['projectid']\n",
        "Y = ['is_fully_funded_after_4_months']\n",
        "print()\n",
        "df_final = df[features + Y]\n",
        "\n",
        "# Silences a warning that doesn't affect anything\n",
        "pd.options.mode.chained_assignment = None\n",
        "\n",
        "for i in ['primary_focus_area', 'resource_type', 'poverty_level']:\n",
        "  new_addition = pd.get_dummies(df_final[i])\n",
        "  new_addition.columns = [i + \":\" + x.replace(\" \",\"_\") for x in new_addition.columns]\n",
        "  for col_name in new_addition.columns:\n",
        "    df_final[col_name] = new_addition[col_name].copy(deep=True)\n",
        "df_final.drop(columns = ['primary_focus_area', 'resource_type', 'poverty_level'], inplace=True)\n",
        "print(df_final.columns)"
      ]
    },
    {
      "cell_type": "code",
      "execution_count": 32,
      "metadata": {
        "id": "tuFsKR4U-rd6"
      },
      "outputs": [],
      "source": [
        "from datetime import datetime"
      ]
    },
    {
      "cell_type": "code",
      "execution_count": 33,
      "metadata": {
        "id": "Li6mGOER-kxh"
      },
      "outputs": [],
      "source": [
        "from dateutil.relativedelta import relativedelta"
      ]
    },
    {
      "cell_type": "code",
      "execution_count": 34,
      "metadata": {
        "id": "9RR81PuK9rQE"
      },
      "outputs": [],
      "source": [
        "def chron_split_date_ranges(dates, train_length = relativedelta(years=1), val_length = relativedelta(months=1), retrain_length = relativedelta(weeks=2), min_f_col = relativedelta(months=1), min_l_col = relativedelta(months=4)):\n",
        "  sorted = dates.sort_values()\n",
        "  first_date = sorted.iloc[0]\n",
        "  last_date = sorted.iloc[-1]\n",
        "\n",
        "  split_dates = []\n",
        "\n",
        "  curr = first_date\n",
        "\n",
        "  while curr + val_length + train_length + 2 * min_l_col + 2 * min_f_col < last_date:\n",
        "    train_start = curr + min_f_col\n",
        "    val_start = train_start + train_length + min_l_col + min_f_col\n",
        "    \n",
        "    split_dates.append({\n",
        "        \"train_feature_collection\": (curr, train_start),\n",
        "        \"train\": (train_start, train_start + train_length),\n",
        "        \"train_label_buffer\": (train_start + train_length, train_start + train_length + min_l_col),\n",
        "        \"val_feature_collection\": (train_start + train_length + min_l_col, val_start),\n",
        "        \"val\": (val_start , val_start + val_length),\n",
        "        \"val_label_buffer\": (val_start + val_length, val_start + val_length + min_l_col),\n",
        "        \"train_label\": (train_start + min_l_col, train_start + train_length + min_l_col),\n",
        "        \"val_label\": (val_start + min_l_col, val_start + val_length + min_l_col)\n",
        "    })\n",
        "\n",
        "    curr += retrain_length\n",
        "  return split_dates"
      ]
    },
    {
      "cell_type": "code",
      "execution_count": 35,
      "metadata": {
        "id": "xxLN3aGk_gY5"
      },
      "outputs": [],
      "source": [
        "split = chron_split_date_ranges(pd.to_datetime(df['date_posted']))[-1]  \n",
        "split1 = chron_split_date_ranges(pd.to_datetime(df['date_posted']))[-2]  \n",
        "split2 = chron_split_date_ranges(pd.to_datetime(df['date_posted']))[-3]  \n",
        "split3 = chron_split_date_ranges(pd.to_datetime(df['date_posted']))[-4]  "
      ]
    },
    {
      "cell_type": "code",
      "execution_count": 36,
      "metadata": {
        "id": "e4v4jp3ATLRQ"
      },
      "outputs": [],
      "source": [
        "# compute success rate grouped by 'feature', only use historical data\n",
        "def compute_success_rate_by_feature(data, date, feature_names):\n",
        "  data_before_date = df_final[df_final['date_posted'] < (date - timedelta(days=120))]\n",
        "  for feature_name in feature_names:\n",
        "    num_of_success = dict(data_before_date.groupby([feature_name])['is_fully_funded_after_4_months'].sum())\n",
        "    num_of_projects = dict(data_before_date.groupby([feature_name]).size())\n",
        "    data['num_of_success_projects_' + feature_name]= data[feature_name].map(num_of_success)\n",
        "    data['num_of_projects_' + feature_name]= data[feature_name].map(num_of_projects)\n",
        "    data['success_rate_' + feature_name]= data['num_of_success_projects_' + feature_name] / data['num_of_projects_' + feature_name]\n",
        "    #drop 'school city'\n",
        "  data = data.drop(feature_names + ['projectid', 'date_posted'], axis=1)\n",
        "  data = data.fillna(0)\n",
        "\n",
        "  return data\n",
        "\n",
        "def generate_train_val(df, split):\n",
        "  train = df.loc[(split[\"train\"][0] <= df['date_posted']) & (df['date_posted'] < split[\"train\"][1])].fillna(0)\n",
        "  train = compute_success_rate_by_feature(train, split[\"train\"][0], ['school_city', 'teacher_acctid'])\n",
        "\n",
        "  val = df.loc[(split[\"val\"][0] <= df['date_posted']) & (df['date_posted'] < split[\"val\"][1])].fillna(0)\n",
        "  val = compute_success_rate_by_feature(val, split[\"train\"][0], ['school_city', 'teacher_acctid'])\n",
        "  return pd.DataFrame(train), pd.DataFrame(val)\n"
      ]
    },
    {
      "cell_type": "code",
      "execution_count": 37,
      "metadata": {
        "id": "AkzA9Bi4bEci"
      },
      "outputs": [],
      "source": [
        "train, val = generate_train_val(df_final, split)\n",
        "train1, val1 = generate_train_val(df_final, split1)\n",
        "train2, val2 = generate_train_val(df_final, split2)\n",
        "train3, val3 = generate_train_val(df_final, split3)"
      ]
    },
    {
      "cell_type": "code",
      "execution_count": 38,
      "metadata": {
        "id": "Et0zlGzDcqfU"
      },
      "outputs": [],
      "source": [
        "train_X = train.drop(columns=['is_fully_funded_after_4_months']).reset_index()\n",
        "train_Y = train['is_fully_funded_after_4_months'].values\n",
        "val_X = val.drop(columns=['is_fully_funded_after_4_months']).reset_index()\n",
        "val_Y = val['is_fully_funded_after_4_months'].values\n",
        "\n",
        "def drop_columns(train, val):\n",
        "  train_X = train.drop(columns=['is_fully_funded_after_4_months']).reset_index()\n",
        "  train_Y = train['is_fully_funded_after_4_months'].values\n",
        "  val_X = val.drop(columns=['is_fully_funded_after_4_months']).reset_index()\n",
        "  val_Y = val['is_fully_funded_after_4_months'].values\n",
        "  return train_X, train_Y, val_X, val_Y"
      ]
    },
    {
      "cell_type": "markdown",
      "metadata": {
        "id": "xQy2dD_8KFh2"
      },
      "source": [
        "# ML models"
      ]
    },
    {
      "cell_type": "markdown",
      "metadata": {
        "id": "hbRFOIwj_0op"
      },
      "source": [
        "## NN"
      ]
    },
    {
      "cell_type": "markdown",
      "source": [
        "grid search -- parameters over last 2nd, 3rd, and 4th splits"
      ],
      "metadata": {
        "id": "P6C_lLEv3-rs"
      }
    },
    {
      "cell_type": "code",
      "execution_count": null,
      "metadata": {
        "id": "DBDFnrGmLz9X"
      },
      "outputs": [],
      "source": [
        "from sklearn.neural_network import MLPRegressor\n",
        "max_res = 0\n",
        "feature_selected = None\n",
        "selected = [\"pct_funded_1mo\", \"children_helped_per_dollar\"]\n",
        "maxres = 0\n",
        "maxnum = 0\n",
        "def grid_search(train_X, train_Y):\n",
        "  for num in range(5, 300, 5):\n",
        "    model = MLPRegressor(hidden_layer_sizes=(num, num, num), activation='relu', random_state=1, max_iter=5000)\n",
        "    model.fit(train_X[selected], train_Y)\n",
        "    train_pred = model.predict(train_X[selected])\n",
        "    val_pred = model.predict(val_X[selected]) \n",
        "    train_rank = np.argsort(train_pred)\n",
        "    val_rank = np.argsort(val_pred)\n",
        "    results = []\n",
        "    for threshold in np.linspace(0.01, 1, 100):\n",
        "      precision_train = 1 - np.mean(train_Y[train_rank][:int(threshold * len(train_X))])\n",
        "      precision_val = 1 - np.mean(val_Y[val_rank][:int(threshold * len(val_X))])\n",
        "      recall_train = np.sum(train_Y[train_rank][:int(threshold * len(train_X))] == False)/np.sum(train_Y==False)\n",
        "      recall_val = np.sum(val_Y[val_rank][:int(threshold * len(val_X))] == False)/np.sum(val_Y==False)\n",
        "      results.append([precision_train, recall_train, precision_val, recall_val])\n",
        "    results = np.array(results)\n",
        "    print(results[9, 2]) \n",
        "    if maxres < results[9, 2]:\n",
        "      maxres = results[9, 2]\n",
        "      maxnum = num\n",
        "  print(\"optimal: \", maxres, maxnum)"
      ]
    },
    {
      "cell_type": "markdown",
      "source": [
        "grid search -- features  over last 2nd, 3rd, and 4th splits"
      ],
      "metadata": {
        "id": "dC8wLbVPEw2O"
      }
    },
    {
      "cell_type": "code",
      "execution_count": null,
      "metadata": {
        "id": "k5AMlrSy_2CH"
      },
      "outputs": [],
      "source": [
        "from sklearn.neural_network import MLPRegressor\n",
        "max_res = 0\n",
        "feature_selected = None\n",
        "def feature_search(train_X, train_Y):\n",
        "  for i in train_X.columns[1:]:\n",
        "    selected = ['pct_funded_1mo', 'children_helped_per_dollar', 'students_reached'] #[\"pct_funded_1mo\", \"children_helped_per_dollar\"]\n",
        "    selected.append(i)\n",
        "    #print(selected) \n",
        "    #print(train_X[selected])\n",
        "    # creating a MLP model\n",
        "    model = MLPRegressor(hidden_layer_sizes=(10,10), activation='tanh', random_state=1, max_iter=500)\n",
        "    model.fit(train_X[selected], train_Y)\n",
        "    train_pred = model.predict(train_X[selected])\n",
        "    val_pred = model.predict(val_X[selected]) \n",
        "    #print(val_pred)\n",
        "    train_rank = np.argsort(train_pred)\n",
        "    val_rank = np.argsort(val_pred)\n",
        "    results = []\n",
        "    for threshold in np.linspace(0.01, 1, 100):\n",
        "        precision_train = 1 - np.mean(train_Y[train_rank][:int(threshold * len(train_X))])\n",
        "        precision_val = 1 - np.mean(val_Y[val_rank][:int(threshold * len(val_X))])\n",
        "        recall_train = np.sum(train_Y[train_rank][:int(threshold * len(train_X))] == False)/np.sum(train_Y==False)\n",
        "        recall_val = np.sum(val_Y[val_rank][:int(threshold * len(val_X))] == False)/np.sum(val_Y==False)\n",
        "        results.append([precision_train, recall_train, precision_val, recall_val])\n",
        "    results = np.array(results)\n",
        "    print(results[9, 2]) \n",
        "    if max_res < results[9, 2]:\n",
        "      max_res = results[9, 2]\n",
        "      feature_selected = selected\n",
        "  print(max_res, feature_selected)"
      ]
    },
    {
      "cell_type": "markdown",
      "source": [
        "results over time"
      ],
      "metadata": {
        "id": "LiNC5EPDJV3d"
      }
    },
    {
      "cell_type": "code",
      "source": [
        "whole_split = chron_split_date_ranges(pd.to_datetime(df['date_posted']))\n",
        "selected = ['pct_funded_1mo', 'children_helped_per_dollar', 'students_reached', 'num_of_success_projects_teacher_acctid']\n",
        "lr_res = []\n",
        "for s in whole_split:\n",
        "  #print(s)\n",
        "  curtrain, curval = generate_train_val(df_final, s)\n",
        "  curtrain_X = curtrain.drop(columns=['is_fully_funded_after_4_months']).reset_index()\n",
        "  curtrain_Y = curtrain['is_fully_funded_after_4_months'].values\n",
        "  curval_X = curval.drop(columns=['is_fully_funded_after_4_months']).reset_index()\n",
        "  curval_Y = curval['is_fully_funded_after_4_months'].values\n",
        "  curtrain_X[np.isinf(curtrain_X)==True] = 0\n",
        "  curval_X[np.isinf(curval_X)==True] = 0\n",
        "  logmodel = MLPRegressor(hidden_layer_sizes=(10,10), activation='tanh', random_state=1, max_iter=500)\n",
        "  logmodel.fit(curtrain_X[selected], curtrain_Y)\n",
        "  train_pred = logmodel.predict(curtrain_X[selected])\n",
        "  val_pred = logmodel.predict(curval_X[selected]) # f(x)\n",
        "  res = logmodel.predict(curval_X[selected]) # f(x)>0.5\n",
        "  train_rank = np.argsort(train_pred)\n",
        "  val_rank = np.argsort(val_pred)\n",
        "  results = []\n",
        "  threshold = 0.1\n",
        "  precision_val = 1 - np.mean(curval_Y[val_rank][:int(threshold * len(curval_X))])\n",
        "  print(precision_val)  \n",
        "  lr_res.append(precision_val)"
      ],
      "metadata": {
        "id": "WN3I88LAJVZg"
      },
      "execution_count": null,
      "outputs": []
    },
    {
      "cell_type": "code",
      "source": [
        "(lr_res[-2]+lr_res[-4]+lr_res[-3])/3"
      ],
      "metadata": {
        "colab": {
          "base_uri": "https://localhost:8080/"
        },
        "id": "ss2yvuv2S299",
        "outputId": "76f11b85-69eb-4e9a-f734-6125256fbcaf"
      },
      "execution_count": null,
      "outputs": [
        {
          "output_type": "execute_result",
          "data": {
            "text/plain": [
              "0.8574956540974523"
            ]
          },
          "metadata": {},
          "execution_count": 56
        }
      ]
    },
    {
      "cell_type": "code",
      "source": [
        "file1 = open('nn.txt', 'w')\n",
        "file1.writelines(str(lr_res))\n",
        "file1.close()"
      ],
      "metadata": {
        "id": "OoT0l6LhTXJo"
      },
      "execution_count": null,
      "outputs": []
    },
    {
      "cell_type": "markdown",
      "source": [
        "most recent PR-K graphs"
      ],
      "metadata": {
        "id": "Vtm2B5wEUiXj"
      }
    },
    {
      "cell_type": "code",
      "source": [
        "selected = ['pct_funded_1mo', 'children_helped_per_dollar', 'students_reached'] #[\"pct_funded_1mo\", \"children_helped_per_dollar\"]\n",
        "model = MLPRegressor(hidden_layer_sizes=(10,10), activation='tanh', random_state=1, max_iter=500)\n",
        "model.fit(train_X[selected], train_Y)\n",
        "train_pred = model.predict(train_X[selected])\n",
        "val_pred = model.predict(val_X[selected]) \n",
        "train_rank = np.argsort(train_pred)\n",
        "val_rank = np.argsort(val_pred)\n",
        "results = []\n",
        "for threshold in np.linspace(0.01, 1, 100):\n",
        "    precision_train = 1 - np.mean(train_Y[train_rank][:int(threshold * len(train_X))])\n",
        "    precision_val = 1 - np.mean(val_Y[val_rank][:int(threshold * len(val_X))])\n",
        "    recall_train = np.sum(train_Y[train_rank][:int(threshold * len(train_X))] == False)/np.sum(train_Y==False)\n",
        "    recall_val = np.sum(val_Y[val_rank][:int(threshold * len(val_X))] == False)/np.sum(val_Y==False)\n",
        "    results.append([precision_train, recall_train, precision_val, recall_val])\n",
        "results = np.array(results)\n",
        "print(results[9, 2])  # 0.683 for l2"
      ],
      "metadata": {
        "colab": {
          "base_uri": "https://localhost:8080/"
        },
        "id": "P92UgohMVgHC",
        "outputId": "6e5a0704-a12a-48d7-dd97-a5b4aeb9913c"
      },
      "execution_count": null,
      "outputs": [
        {
          "output_type": "stream",
          "name": "stdout",
          "text": [
            "0.9323144104803494\n"
          ]
        }
      ]
    },
    {
      "cell_type": "code",
      "source": [
        "import matplotlib.pyplot as plt\n",
        "\n",
        "ax1 = plt.subplot()\n",
        "plt.plot(range(100), results[:,0], 'b')\n",
        "plt.ylabel('precision', color='b')\n",
        "\n",
        "ax2 = ax1.twinx()\n",
        "plt.plot(range(100), results[:,1], 'r')\n",
        "plt.ylabel('recall', color='r')\n",
        "plt.title(\"Train PR-k Curve - NN\")\n",
        "plt.xlabel(\"Percentage of population selected\")\n",
        "plt.show()"
      ],
      "metadata": {
        "colab": {
          "base_uri": "https://localhost:8080/",
          "height": 281
        },
        "id": "25nD7Te0Ui-m",
        "outputId": "b97e737d-0570-4339-f658-c8100059e6f0"
      },
      "execution_count": null,
      "outputs": [
        {
          "output_type": "display_data",
          "data": {
            "text/plain": [
              "<Figure size 432x288 with 2 Axes>"
            ],
            "image/png": "[encoded data removed]"
          },
          "metadata": {
            "needs_background": "light"
          }
        }
      ]
    },
    {
      "cell_type": "code",
      "source": [
        "ax1 = plt.subplot()\n",
        "plt.plot(range(100), results[:,2], 'b')\n",
        "plt.ylabel('precision', color='b')\n",
        "\n",
        "ax2 = ax1.twinx()\n",
        "plt.plot(range(100), results[:,3], 'r')\n",
        "plt.ylabel('recall', color='r')\n",
        "plt.title(\"Val PR-k Curve - NN\")\n",
        "plt.show()"
      ],
      "metadata": {
        "colab": {
          "base_uri": "https://localhost:8080/",
          "height": 281
        },
        "id": "ju4yFzfRUzTd",
        "outputId": "fa14c409-cfcb-4e26-b526-95c56fcb977f"
      },
      "execution_count": null,
      "outputs": [
        {
          "output_type": "display_data",
          "data": {
            "text/plain": [
              "<Figure size 432x288 with 2 Axes>"
            ],
            "image/png": "[encoded data removed]"
          },
          "metadata": {
            "needs_background": "light"
          }
        }
      ]
    },
    {
      "cell_type": "markdown",
      "metadata": {
        "id": "mY7_14lUwqkH"
      },
      "source": [
        "## Logistic Regression"
      ]
    },
    {
      "cell_type": "code",
      "execution_count": null,
      "metadata": {
        "id": "wcJVUaAFWiuc"
      },
      "outputs": [],
      "source": [
        "from sklearn.linear_model import LogisticRegression\n",
        "import time"
      ]
    },
    {
      "cell_type": "markdown",
      "metadata": {
        "id": "tiL3sbYcailC"
      },
      "source": [
        "grid search feature selection"
      ]
    },
    {
      "cell_type": "code",
      "execution_count": null,
      "metadata": {
        "id": "UQ5m7dBBS_f1"
      },
      "outputs": [],
      "source": [
        "max_res = 0\n",
        "feature_selected = None\n",
        "for i in train_X.columns[1:]:\n",
        "  selected = [\"pct_funded_1mo\", \"children_helped_per_dollar\"]\n",
        "  selected.append(i)\n",
        "  #print(selected) \n",
        "  #print(train_X[selected])\n",
        "  start = time.time()\n",
        "  logmodel = LogisticRegression(penalty='none', max_iter=100000000)\n",
        "  logmodel.fit(train_X[selected], train_Y)\n",
        "  train_pred = logmodel.predict_proba(train_X[selected])\n",
        "  val_pred = logmodel.predict_proba(val_X[selected]) # f(x)\n",
        "  res = logmodel.predict(val_X[selected]) # f(x)>0.5\n",
        "  train_rank = np.argsort(train_pred[:,1])\n",
        "  val_rank = np.argsort(val_pred[:,1])\n",
        "  results = []\n",
        "  for threshold in np.linspace(0.01, 1, 100):\n",
        "      precision_train = 1 - np.mean(train_Y[train_rank][:int(threshold * len(train_X))])\n",
        "      precision_val = 1 - np.mean(val_Y[val_rank][:int(threshold * len(val_X))])\n",
        "      recall_train = np.sum(train_Y[train_rank][:int(threshold * len(train_X))] == False)/np.sum(train_Y==False)\n",
        "      recall_val = np.sum(val_Y[val_rank][:int(threshold * len(val_X))] == False)/np.sum(val_Y==False)\n",
        "      results.append([precision_train, recall_train, precision_val, recall_val])\n",
        "  results = np.array(results)\n",
        "  #print(results[9, 2]) \n",
        "  if max_res < results[9, 2]:\n",
        "    max_res = results[9, 2]\n",
        "    feature_selected = selected\n",
        "print(max_res, feature_selected)"
      ]
    },
    {
      "cell_type": "markdown",
      "metadata": {
        "id": "Z_K8TfuvLCD4"
      },
      "source": [
        "most recent PR-K graphs"
      ]
    },
    {
      "cell_type": "code",
      "execution_count": null,
      "metadata": {
        "id": "mc6HhbOIWiuc"
      },
      "outputs": [],
      "source": [
        "selected = feature_selected\n",
        "start = time.time()\n",
        "logmodel = LogisticRegression(penalty='none', max_iter=100000000)\n",
        "logmodel.fit(train_X[selected], train_Y)\n",
        "runtime = time.time() - start\n",
        "print(runtime)"
      ]
    },
    {
      "cell_type": "code",
      "execution_count": null,
      "metadata": {
        "id": "M2vFxwJrYCrT"
      },
      "outputs": [],
      "source": [
        "#print(val_X)"
      ]
    },
    {
      "cell_type": "code",
      "execution_count": null,
      "metadata": {
        "id": "XCyu_QWtWiuc"
      },
      "outputs": [],
      "source": [
        "train_pred = logmodel.predict_proba(train_X[selected])\n",
        "val_pred = logmodel.predict_proba(val_X[selected]) # f(x)\n",
        "res = logmodel.predict(val_X[selected]) # f(x)>0.5"
      ]
    },
    {
      "cell_type": "code",
      "execution_count": null,
      "metadata": {
        "id": "Q2pXIEGueXU4"
      },
      "outputs": [],
      "source": [
        "print(val_pred[:,1])"
      ]
    },
    {
      "cell_type": "code",
      "execution_count": null,
      "metadata": {
        "id": "DdqhCqK-JI5f"
      },
      "outputs": [],
      "source": [
        "print(res)"
      ]
    },
    {
      "cell_type": "code",
      "execution_count": null,
      "metadata": {
        "id": "juYLULTlG_wN"
      },
      "outputs": [],
      "source": [
        "train_rank = np.argsort(train_pred[:,1])\n",
        "val_rank = np.argsort(val_pred[:,1])"
      ]
    },
    {
      "cell_type": "code",
      "execution_count": null,
      "metadata": {
        "id": "F-F5G6QtWiuc"
      },
      "outputs": [],
      "source": [
        "results = []\n",
        "for threshold in np.linspace(0.01, 1, 100):\n",
        "    precision_train = 1 - np.mean(train_Y[train_rank][:int(threshold * len(train_X))])\n",
        "    precision_val = 1 - np.mean(val_Y[val_rank][:int(threshold * len(val_X))])\n",
        "    recall_train = np.sum(train_Y[train_rank][:int(threshold * len(train_X))] == False)/np.sum(train_Y==False)\n",
        "    recall_val = np.sum(val_Y[val_rank][:int(threshold * len(val_X))] == False)/np.sum(val_Y==False)\n",
        "    results.append([precision_train, recall_train, precision_val, recall_val])\n",
        "results = np.array(results)\n",
        "print(results[9, 2])  # 0.683 for l2"
      ]
    },
    {
      "cell_type": "code",
      "execution_count": null,
      "metadata": {
        "id": "g5xhnqAsWiud"
      },
      "outputs": [],
      "source": [
        "import matplotlib.pyplot as plt\n",
        "\n",
        "ax1 = plt.subplot()\n",
        "plt.plot(range(100), results[:,0], 'b')\n",
        "plt.ylabel('precision', color='b')\n",
        "\n",
        "ax2 = ax1.twinx()\n",
        "plt.plot(range(100), results[:,1], 'r')\n",
        "plt.ylabel('recall', color='r')\n",
        "plt.title(\"Train PR-k Curve - Logistic Regression\")\n",
        "plt.xlabel(\"Percentage of population selected\")\n",
        "plt.show()"
      ]
    },
    {
      "cell_type": "code",
      "execution_count": null,
      "metadata": {
        "id": "sPypJy25Wiud"
      },
      "outputs": [],
      "source": [
        "ax1 = plt.subplot()\n",
        "plt.plot(range(100), results[:,2], 'b')\n",
        "plt.ylabel('precision', color='b')\n",
        "\n",
        "ax2 = ax1.twinx()\n",
        "plt.plot(range(100), results[:,3], 'r')\n",
        "plt.ylabel('recall', color='r')\n",
        "plt.title(\"Val PR-k Curve - Logistic Regression\")\n",
        "plt.show()"
      ]
    },
    {
      "cell_type": "code",
      "execution_count": null,
      "metadata": {
        "id": "q7WQeKPjWiud"
      },
      "outputs": [],
      "source": [
        "# train_X.columns[np.argsort(logmodel.feature_importances_)[::-1]]"
      ]
    },
    {
      "cell_type": "markdown",
      "metadata": {
        "id": "bL-qajovLQrR"
      },
      "source": [
        "whole dataset evaluation (precision, recall, tfp)"
      ]
    },
    {
      "cell_type": "code",
      "execution_count": null,
      "metadata": {
        "id": "epKMgrVSbKf-"
      },
      "outputs": [],
      "source": [
        "whole_split = chron_split_date_ranges(pd.to_datetime(df['date_posted']))"
      ]
    },
    {
      "cell_type": "code",
      "execution_count": null,
      "metadata": {
        "id": "rfAiLwSrbOwU"
      },
      "outputs": [],
      "source": [
        "lr_res = []\n",
        "for s in whole_split:\n",
        "  #print(s)\n",
        "  curtrain, curval = generate_train_val(df_final, s)\n",
        "  curtrain_X = curtrain.drop(columns=['is_fully_funded_after_4_months']).reset_index()\n",
        "  curtrain_Y = curtrain['is_fully_funded_after_4_months'].values\n",
        "  curval_X = curval.drop(columns=['is_fully_funded_after_4_months']).reset_index()\n",
        "  curval_Y = curval['is_fully_funded_after_4_months'].values\n",
        "  #curtrain_X.dropna(inplace=True)\n",
        "  #indices_to_keep = ~curtrain_X.isin([np.nan, np.inf, -np.inf]).any(axis=1)\n",
        "  #curtrain_X[indices_to_keep].astype(np.float64)\n",
        "  #curtrain_X.dropna(inplace=True)\n",
        "  curtrain_X[np.isinf(curtrain_X)==True] = 0\n",
        "  curval_X[np.isinf(curval_X)==True] = 0\n",
        "  logmodel = LogisticRegression(penalty='none', max_iter=100000000)\n",
        "  logmodel.fit(curtrain_X[selected], curtrain_Y)\n",
        "  train_pred = logmodel.predict_proba(curtrain_X[selected])\n",
        "  val_pred = logmodel.predict_proba(curval_X[selected]) # f(x)\n",
        "  res = logmodel.predict(curval_X[selected]) # f(x)>0.5\n",
        "  train_rank = np.argsort(train_pred[:,1])\n",
        "  val_rank = np.argsort(val_pred[:,1])\n",
        "  results = []\n",
        "  threshold = 0.1\n",
        "  #precision_train = 1 - np.mean(curtrain_Y[train_rank][:int(threshold * len(curtrain_X))])\n",
        "  precision_val = 1 - np.mean(curval_Y[val_rank][:int(threshold * len(curval_X))])\n",
        "  #recall_train = np.sum(train_Y[train_rank][:int(threshold * len(train_X))] == False)/np.sum(train_Y==False)\n",
        "  #recall_val = np.sum(val_Y[val_rank][:int(threshold * len(val_X))] == False)/np.sum(val_Y==False)\n",
        "  # results.append([precision_train, recall_train, precision_val, recall_val])\n",
        "  # results = np.array(results)\n",
        "  print(precision_val)  # 0.683 for l2\n",
        "  lr_res.append(precision_val)"
      ]
    },
    {
      "cell_type": "code",
      "execution_count": null,
      "metadata": {
        "id": "Bq78Ro7yankd"
      },
      "outputs": [],
      "source": [
        "file1 = open('lr.txt', 'w')\n",
        "file1.writelines(str(y_value))\n",
        "file1.close()"
      ]
    },
    {
      "cell_type": "markdown",
      "source": [
        "most recent graph"
      ],
      "metadata": {
        "id": "Z0ht8To9VIxc"
      }
    },
    {
      "cell_type": "code",
      "execution_count": null,
      "metadata": {
        "id": "7MEXcFsuVED9"
      },
      "outputs": [],
      "source": [
        "selected = feature_selected\n",
        "start = time.time()\n",
        "logmodel = LogisticRegression(penalty='none', max_iter=100000000)\n",
        "logmodel.fit(train_X[selected], train_Y)\n",
        "runtime = time.time() - start\n",
        "print(runtime)"
      ]
    },
    {
      "cell_type": "code",
      "execution_count": null,
      "metadata": {
        "id": "upbwPAc3VED-"
      },
      "outputs": [],
      "source": [
        "results = []\n",
        "for threshold in np.linspace(0.01, 1, 100):\n",
        "    precision_train = 1 - np.mean(train_Y[train_rank][:int(threshold * len(train_X))])\n",
        "    precision_val = 1 - np.mean(val_Y[val_rank][:int(threshold * len(val_X))])\n",
        "    recall_train = np.sum(train_Y[train_rank][:int(threshold * len(train_X))] == False)/np.sum(train_Y==False)\n",
        "    recall_val = np.sum(val_Y[val_rank][:int(threshold * len(val_X))] == False)/np.sum(val_Y==False)\n",
        "    results.append([precision_train, recall_train, precision_val, recall_val])\n",
        "results = np.array(results)\n",
        "print(results[9, 2])  # 0.683 for l2"
      ]
    },
    {
      "cell_type": "markdown",
      "metadata": {
        "id": "k9YqxjdTVIDu"
      },
      "source": [
        "## Decision Tree"
      ]
    },
    {
      "cell_type": "code",
      "execution_count": null,
      "metadata": {
        "id": "FZ9WrgE7VUtE"
      },
      "outputs": [],
      "source": [
        "from sklearn.tree import DecisionTreeClassifier \n",
        "clf = DecisionTreeClassifier()\n",
        "\n",
        "# Train Decision Tree Classifer\n",
        "clf = clf.fit(train_X, train_Y)\n"
      ]
    },
    {
      "cell_type": "code",
      "execution_count": null,
      "metadata": {
        "id": "AaRctgRbV0vP"
      },
      "outputs": [],
      "source": [
        "train_pred = clf.predict_proba(train_X)[:,1]\n",
        "val_pred = clf.predict_proba(val_X)[:,1]"
      ]
    },
    {
      "cell_type": "code",
      "execution_count": null,
      "metadata": {
        "id": "46uabMMzV_yV"
      },
      "outputs": [],
      "source": [
        "train_rank = np.argsort(train_pred)\n",
        "val_rank = np.argsort(val_pred)\n",
        "\n",
        "results = []\n",
        "for threshold in np.linspace(0.01, 1, 100):\n",
        "    precision_train = 1 - np.mean(train_Y[train_rank][:int(threshold * len(train_X))])\n",
        "    precision_val = 1 - np.mean(val_Y[val_rank][:int(threshold * len(val_X))])\n",
        "    recall_train = np.sum(train_Y[train_rank][:int(threshold * len(train_X))] == False)/np.sum(train_Y==False)\n",
        "    recall_val = np.sum(val_Y[val_rank][:int(threshold * len(val_X))] == False)/np.sum(val_Y==False)\n",
        "    results.append([precision_train, recall_train, precision_val, recall_val])\n",
        "results = np.array(results)\n",
        "print(results[9, 2])"
      ]
    },
    {
      "cell_type": "code",
      "execution_count": null,
      "metadata": {
        "id": "HcLnb2w3ZMN2"
      },
      "outputs": [],
      "source": [
        "import matplotlib.pyplot as plt\n",
        "ax1 = plt.subplot()\n",
        "plt.plot(range(100), results[:,0], 'b')\n",
        "plt.ylabel('precision', color='b')\n",
        "\n",
        "ax2 = ax1.twinx()\n",
        "plt.plot(range(100), results[:,1], 'r')\n",
        "plt.ylabel('recall', color='r')\n",
        "plt.title(\"Train PR-k Curve - Decision Tree Classifier\")\n",
        "plt.xlabel(\"Percentage of population selected\")\n",
        "plt.show()"
      ]
    },
    {
      "cell_type": "code",
      "execution_count": null,
      "metadata": {
        "id": "Ws0qH3bHZXjL"
      },
      "outputs": [],
      "source": [
        "ax1 = plt.subplot()\n",
        "plt.plot(range(100), results[:,2], 'b')\n",
        "plt.ylabel('precision', color='b')\n",
        "\n",
        "ax2 = ax1.twinx()\n",
        "plt.plot(range(100), results[:,3], 'r')\n",
        "plt.ylabel('recall', color='r')\n",
        "plt.title(\"Val PR-k Curve - Decision Tree Classifier\")\n",
        "plt.show()\n"
      ]
    },
    {
      "cell_type": "code",
      "execution_count": null,
      "metadata": {
        "id": "CEgmqyELZ3FP"
      },
      "outputs": [],
      "source": [
        "whole_split = chron_split_date_ranges(pd.to_datetime(df['date_posted']))"
      ]
    },
    {
      "cell_type": "code",
      "execution_count": null,
      "metadata": {
        "id": "Q_d6s0kDZ3vu"
      },
      "outputs": [],
      "source": [
        "decision_tree_res = []\n",
        "for s in whole_split:\n",
        "  #print(s)\n",
        "  curtrain, curval = generate_train_val(df_final, s)\n",
        "  curtrain_X = curtrain.drop(columns=['is_fully_funded_after_4_months']).reset_index()\n",
        "  curtrain_Y = curtrain['is_fully_funded_after_4_months'].values\n",
        "  curval_X = curval.drop(columns=['is_fully_funded_after_4_months']).reset_index()\n",
        "  curval_Y = curval['is_fully_funded_after_4_months'].values\n",
        "  #curtrain_X.dropna(inplace=True)\n",
        "  #indices_to_keep = ~curtrain_X.isin([np.nan, np.inf, -np.inf]).any(axis=1)\n",
        "  #curtrain_X[indices_to_keep].astype(np.float64)\n",
        "  #curtrain_X.dropna(inplace=True)\n",
        "  curtrain_X[np.isinf(curtrain_X)==True] = 0\n",
        "  curval_X[np.isinf(curval_X)==True] = 0\n",
        "  clf = DecisionTreeClassifier()\n",
        "\n",
        "  # Train Decision Tree Classifer\n",
        "  clf = clf.fit(curtrain_X, curtrain_Y)\n",
        "  train_pred = clf.predict_proba(curtrain_X)\n",
        "  val_pred = clf.predict_proba(curval_X) # f(x)\n",
        "  res = clf.predict(curval_X) # f(x)>0.5\n",
        "  train_rank = np.argsort(train_pred[:,1])\n",
        "  val_rank = np.argsort(val_pred[:,1])\n",
        "  results = []\n",
        "  threshold = 0.1\n",
        "  #precision_train = 1 - np.mean(curtrain_Y[train_rank][:int(threshold * len(curtrain_X))])\n",
        "  precision_val = 1 - np.mean(curval_Y[val_rank][:int(threshold * len(curval_X))])\n",
        "  #recall_train = np.sum(train_Y[train_rank][:int(threshold * len(train_X))] == False)/np.sum(train_Y==False)\n",
        "  #recall_val = np.sum(val_Y[val_rank][:int(threshold * len(val_X))] == False)/np.sum(val_Y==False)\n",
        "  # results.append([precision_train, recall_train, precision_val, recall_val])\n",
        "  # results = np.array(results)\n",
        "  print(precision_val)  # 0.683 for l2\n",
        "  decision_tree_res.append(precision_val)"
      ]
    },
    {
      "cell_type": "markdown",
      "metadata": {
        "id": "-W8J1QHKS9pl"
      },
      "source": [
        "# Random Forest"
      ]
    },
    {
      "cell_type": "code",
      "execution_count": 45,
      "metadata": {
        "id": "0ROadQSNS_pg"
      },
      "outputs": [],
      "source": [
        "from sklearn.ensemble import RandomForestClassifier as rfc"
      ]
    },
    {
      "cell_type": "code",
      "execution_count": 46,
      "metadata": {
        "id": "RTicvMHeTFUi"
      },
      "outputs": [],
      "source": [
        "whole_split = chron_split_date_ranges(pd.to_datetime(df['date_posted']))"
      ]
    },
    {
      "cell_type": "code",
      "execution_count": null,
      "metadata": {
        "id": "wS8jZmQkTHSv"
      },
      "outputs": [],
      "source": [
        "rf_res = []\n",
        "for i, s in enumerate(whole_split):\n",
        "  print(i)\n",
        "  curtrain, curval = generate_train_val(df_final, s)\n",
        "  curtrain_X = curtrain.drop(columns=['is_fully_funded_after_4_months']).reset_index()\n",
        "  curtrain_Y = curtrain['is_fully_funded_after_4_months'].values\n",
        "  curval_X = curval.drop(columns=['is_fully_funded_after_4_months']).reset_index()\n",
        "  curval_Y = curval['is_fully_funded_after_4_months'].values\n",
        "\n",
        "  curtrain_X[np.isinf(curtrain_X)==True] = 0\n",
        "  curval_X[np.isinf(curval_X)==True] = 0\n",
        "  clf = rfc()\n",
        "\n",
        "  # Train Decision Tree Classifer\n",
        "  clf = clf.fit(curtrain_X, curtrain_Y)\n",
        "  train_pred = clf.predict_proba(curtrain_X)\n",
        "  val_pred = clf.predict_proba(curval_X) # f(x)\n",
        "  res = clf.predict(curval_X) # f(x)>0.5\n",
        "  train_rank = np.argsort(train_pred[:,1])\n",
        "  val_rank = np.argsort(val_pred[:,1])\n",
        "  threshold = 0.1\n",
        "  precision_val = 1 - np.mean(curval_Y[val_rank][:int(threshold * len(curval_X))])\n",
        "  print(precision_val)  # 0.683 for l2\n",
        "  rf_res.append(precision_val)"
      ]
    },
    {
      "cell_type": "code",
      "source": [
        "from sklearn.tree import DecisionTreeClassifier \n",
        "from sklearn.ensemble import RandomForestClassifier as rfc\n",
        "clf = rfc(n_estimators=200)\n",
        "\n",
        "# Train Decision Tree Classifer\n",
        "clf = clf.fit(train_X, train_Y)"
      ],
      "metadata": {
        "id": "ddTj4ntJxaSK"
      },
      "execution_count": 58,
      "outputs": []
    },
    {
      "cell_type": "code",
      "source": [
        "train_pred = clf.predict_proba(train_X)[:,1]\n",
        "val_pred = clf.predict_proba(val_X)[:,1]"
      ],
      "metadata": {
        "id": "uvStFMbaxcqw"
      },
      "execution_count": 59,
      "outputs": []
    },
    {
      "cell_type": "code",
      "source": [
        "train_rank = np.argsort(train_pred)\n",
        "val_rank = np.argsort(val_pred)\n",
        "\n",
        "results = []\n",
        "for threshold in np.linspace(0.01, 1, 100):\n",
        "    precision_train = 1 - np.mean(train_Y[train_rank][:int(threshold * len(train_X))])\n",
        "    precision_val = 1 - np.mean(val_Y[val_rank][:int(threshold * len(val_X))])\n",
        "    recall_train = np.sum(train_Y[train_rank][:int(threshold * len(train_X))] == False)/np.sum(train_Y==False)\n",
        "    recall_val = np.sum(val_Y[val_rank][:int(threshold * len(val_X))] == False)/np.sum(val_Y==False)\n",
        "    results.append([precision_train, recall_train, precision_val, recall_val])\n",
        "results = np.array(results)\n",
        "print(results[9, 2])"
      ],
      "metadata": {
        "colab": {
          "base_uri": "https://localhost:8080/"
        },
        "id": "bzRWMeyaxc6g",
        "outputId": "a0cc55d5-02b1-44bd-df88-4fb606f7c0a3"
      },
      "execution_count": 60,
      "outputs": [
        {
          "output_type": "stream",
          "name": "stdout",
          "text": [
            "0.9301310043668123\n"
          ]
        }
      ]
    },
    {
      "cell_type": "code",
      "source": [
        "import matplotlib.pyplot as plt\n",
        "ax1 = plt.subplot()\n",
        "plt.plot(range(100), results[:,0], 'b')\n",
        "plt.ylabel('precision', color='b')\n",
        "\n",
        "ax2 = ax1.twinx()\n",
        "plt.plot(range(100), results[:,1], 'r')\n",
        "plt.ylabel('recall', color='r')\n",
        "plt.title(\"Train PR-k Curve - Random Forest Classifier\")\n",
        "plt.xlabel(\"Percentage of population selected\")\n",
        "plt.show()"
      ],
      "metadata": {
        "colab": {
          "base_uri": "https://localhost:8080/",
          "height": 281
        },
        "id": "spgEwrehEeUL",
        "outputId": "06148342-cea9-4ff8-9a38-d1a63a8bb113"
      },
      "execution_count": 61,
      "outputs": [
        {
          "output_type": "display_data",
          "data": {
            "text/plain": [
              "<Figure size 432x288 with 2 Axes>"
            ],
            "image/png": "[encoded data removed]"
          },
          "metadata": {
            "needs_background": "light"
          }
        }
      ]
    },
    {
      "cell_type": "code",
      "source": [
        "ax1 = plt.subplot()\n",
        "plt.plot(range(100), results[:,2], 'b')\n",
        "plt.ylabel('precision', color='b')\n",
        "\n",
        "ax2 = ax1.twinx()\n",
        "plt.plot(range(100), results[:,3], 'r')\n",
        "plt.ylabel('recall', color='r')\n",
        "plt.title(\"Val PR-k Curve - Random Forest Classifier\")\n",
        "plt.show()"
      ],
      "metadata": {
        "colab": {
          "base_uri": "https://localhost:8080/",
          "height": 281
        },
        "id": "3mNRvZ38xe54",
        "outputId": "1d74d7c7-5edf-4a3f-b3fa-927605816ccb"
      },
      "execution_count": 62,
      "outputs": [
        {
          "output_type": "display_data",
          "data": {
            "text/plain": [
              "<Figure size 432x288 with 2 Axes>"
            ],
            "image/png": "[encoded data removed]"
          },
          "metadata": {
            "needs_background": "light"
          }
        }
      ]
    },
    {
      "cell_type": "markdown",
      "source": [
        "# XGBoost"
      ],
      "metadata": {
        "id": "7ocKcziJwWuj"
      }
    },
    {
      "cell_type": "code",
      "source": [
        "import xgboost as xgb\n",
        "clf = xgb.XGBClassifier(n_estimators=50)\n",
        "\n",
        "#print(train_X.columns[1])\n",
        "# Train Decision Tree Classifer\n",
        "if train_X.columns[1] == \"students_reached\" and val_X.columns[1] == \"students_reached\":\n",
        "  train_X = train_X.drop(train_X.columns[1], axis=1)\n",
        "  val_X = val_X.drop(val_X.columns[1], axis=1)\n",
        "\n",
        "clf = clf.fit(train_X, train_Y)"
      ],
      "metadata": {
        "id": "BdnQWWOWwZQf"
      },
      "execution_count": 54,
      "outputs": []
    },
    {
      "cell_type": "code",
      "source": [
        "train_pred = clf.predict_proba(train_X)[:,1]\n",
        "val_pred = clf.predict_proba(val_X)[:,1]"
      ],
      "metadata": {
        "id": "4kRDe5Wvwj5X"
      },
      "execution_count": 55,
      "outputs": []
    },
    {
      "cell_type": "code",
      "source": [
        "train_rank = np.argsort(train_pred)\n",
        "val_rank = np.argsort(val_pred)\n",
        "\n",
        "results = []\n",
        "for threshold in np.linspace(0.01, 1, 100):\n",
        "    #precision_val = 1 - np.mean(curval_Y[val_rank][:int(threshold * len(curval_X))])\n",
        "    precision_train = 1 - np.mean(train_Y[train_rank][:int(threshold * len(train_X))])\n",
        "    precision_val = 1 - np.mean(val_Y[val_rank][:int(threshold * len(val_X))])\n",
        "    recall_train = np.sum(train_Y[train_rank][:int(threshold * len(train_X))] == False)/np.sum(train_Y==False)\n",
        "    recall_val = np.sum(val_Y[val_rank][:int(threshold * len(val_X))] == False)/np.sum(val_Y==False)\n",
        "    results.append([precision_train, recall_train, precision_val, recall_val])\n",
        "results = np.array(results)\n",
        "print(results[9, 2])"
      ],
      "metadata": {
        "colab": {
          "base_uri": "https://localhost:8080/"
        },
        "id": "b-HpRxnCwkqg",
        "outputId": "a49c4f42-5db9-4be5-d0ab-0d8e0eb106ad"
      },
      "execution_count": 56,
      "outputs": [
        {
          "output_type": "stream",
          "name": "stdout",
          "text": [
            "0.9497816593886463\n"
          ]
        }
      ]
    },
    {
      "cell_type": "code",
      "source": [
        "import matplotlib.pyplot as plt\n",
        "ax1 = plt.subplot()\n",
        "plt.plot(range(100), results[:,0], 'b')\n",
        "plt.ylabel('precision', color='b')\n",
        "\n",
        "ax2 = ax1.twinx()\n",
        "plt.plot(range(100), results[:,1], 'r')\n",
        "plt.ylabel('recall', color='r')\n",
        "plt.title(\"Train PR-k Curve - XGBoost Classifier\")\n",
        "plt.xlabel(\"Percentage of population selected\")\n",
        "plt.show()"
      ],
      "metadata": {
        "colab": {
          "base_uri": "https://localhost:8080/",
          "height": 281
        },
        "id": "UWhv1BLtEznI",
        "outputId": "b25ef88b-cd90-46c2-b1ff-f17d175883c0"
      },
      "execution_count": 57,
      "outputs": [
        {
          "output_type": "display_data",
          "data": {
            "text/plain": [
              "<Figure size 432x288 with 2 Axes>"
            ],
            "image/png": "[encoded data removed]"
          },
          "metadata": {
            "needs_background": "light"
          }
        }
      ]
    },
    {
      "cell_type": "code",
      "source": [
        "import matplotlib.pyplot as plt\n",
        "\n",
        "ax1 = plt.subplot()\n",
        "plt.plot(range(100), results[:,2], 'b')\n",
        "plt.ylabel('precision', color='b')\n",
        "\n",
        "ax2 = ax1.twinx()\n",
        "plt.plot(range(100), results[:,3], 'r')\n",
        "plt.ylabel('recall', color='r')\n",
        "plt.title(\"Val PR-k Curve - XGBoost Classifier\")\n",
        "plt.show()"
      ],
      "metadata": {
        "colab": {
          "base_uri": "https://localhost:8080/",
          "height": 281
        },
        "id": "I20EQUh_wkx7",
        "outputId": "8d5631c8-f9e7-4824-bfe7-a1963ca29f45"
      },
      "execution_count": 43,
      "outputs": [
        {
          "output_type": "display_data",
          "data": {
            "text/plain": [
              "<Figure size 432x288 with 2 Axes>"
            ],
            "image/png": "[encoded data removed]"
          },
          "metadata": {
            "needs_background": "light"
          }
        }
      ]
    },
    {
      "cell_type": "code",
      "source": [
        "import xgboost as xgb\n",
        "from tqdm import tqdm\n",
        "\n",
        "whole_split = chron_split_date_ranges(pd.to_datetime(df['date_posted']))\n",
        "\n",
        "xgb_res = []\n",
        "for i, s in enumerate(tqdm(whole_split)):\n",
        "  #print(i)\n",
        "  curtrain, curval = generate_train_val(df_final, s)\n",
        "  curtrain_X = curtrain.drop(columns=['is_fully_funded_after_4_months']).reset_index()\n",
        "  curtrain_Y = curtrain['is_fully_funded_after_4_months'].values\n",
        "  curval_X = curval.drop(columns=['is_fully_funded_after_4_months']).reset_index()\n",
        "  curval_Y = curval['is_fully_funded_after_4_months'].values\n",
        "\n",
        "  curtrain_X[np.isinf(curtrain_X)==True] = 0\n",
        "  curval_X[np.isinf(curval_X)==True] = 0\n",
        "  clf = xgb.XGBClassifier(n_estimators=50)\n",
        "\n",
        "  # Train Decision Tree Classifer\n",
        "  curtrain_X = curtrain_X.drop(curtrain_X.columns[1], axis=1)\n",
        "  curval_X = curval_X.drop(curval_X.columns[1], axis=1)\n",
        "\n",
        "  clf = clf.fit(curtrain_X, curtrain_Y)\n",
        "  train_pred = clf.predict_proba(curtrain_X)\n",
        "  val_pred = clf.predict_proba(curval_X) # f(x)\n",
        "  res = clf.predict(curval_X) # f(x)>0.5\n",
        "  train_rank = np.argsort(train_pred[:,1])\n",
        "  val_rank = np.argsort(val_pred[:,1])\n",
        "  threshold = 0.1\n",
        "  precision_val = 1 - np.mean(curval_Y[val_rank][:int(threshold * len(curval_X))])\n",
        "  #print(i, precision_val)  # 0.683 for l2\n",
        "  xgb_res.append(precision_val)\n",
        "\n",
        "print(xgb_res, np.mean(xgb_res))"
      ],
      "metadata": {
        "id": "dOLYy1_txOWL"
      },
      "execution_count": null,
      "outputs": []
    },
    {
      "cell_type": "markdown",
      "metadata": {
        "id": "g4H1z7BcYvTN"
      },
      "source": [
        "# Commonsense baseline over time - children helped per dollar"
      ]
    },
    {
      "cell_type": "code",
      "execution_count": null,
      "metadata": {
        "id": "yMdECc5eYy13"
      },
      "outputs": [],
      "source": [
        "split = chron_split_date_ranges(pd.to_datetime(df['date_posted']))\n",
        "baseline_results = []\n",
        "\n",
        "for split_ in split:\n",
        "  train, val = generate_train_val(df_final, split_)\n",
        "  train_X = train.drop(columns=['is_fully_funded_after_4_months']).reset_index().drop(columns=[\"index\"])\n",
        "  train_Y = train['is_fully_funded_after_4_months'].values\n",
        "  val_X = val.drop(columns=['is_fully_funded_after_4_months']).reset_index().drop(columns=[\"index\"])\n",
        "  val_Y = val['is_fully_funded_after_4_months'].values\n",
        "  train_select = train_X.sort_values([\"children_helped_per_dollar\"])\n",
        "  val_select = val_X.sort_values([\"children_helped_per_dollar\"])\n",
        "  train_rank = train_select.index.values\n",
        "  val_rank = val_select.index.values\n",
        "  threshold = 0.1\n",
        "  precision_val = 1 - np.mean(val_Y[val_rank][:int(threshold * len(val_X))])\n",
        "  baseline_results.append(precision_val)"
      ]
    },
    {
      "cell_type": "code",
      "source": [
        "split = chron_split_date_ranges(pd.to_datetime(df['date_posted']))\n",
        "train, val = generate_train_val(df_final, split[-1])\n",
        "train_X = train.drop(columns=['is_fully_funded_after_4_months']).reset_index().drop(columns=[\"index\"])\n",
        "train_Y = train['is_fully_funded_after_4_months'].values\n",
        "val_X = val.drop(columns=['is_fully_funded_after_4_months']).reset_index().drop(columns=[\"index\"])\n",
        "val_Y = val['is_fully_funded_after_4_months'].values\n",
        "train_select = train_X.sort_values([\"children_helped_per_dollar\"])\n",
        "val_select = val_X.sort_values([\"children_helped_per_dollar\"])\n",
        "train_rank = train_select.index.values\n",
        "val_rank = val_select.index.values\n",
        "\n",
        "results = []\n",
        "for threshold in np.linspace(0.01, 1, 100):\n",
        "    precision_train = 1 - np.mean(train_Y[train_rank][:int(threshold * len(train_X))])\n",
        "    precision_val = 1 - np.mean(val_Y[val_rank][:int(threshold * len(val_X))])\n",
        "    recall_train = np.sum(train_Y[train_rank][:int(threshold * len(train_X))] == False)/np.sum(train_Y==False)\n",
        "    recall_val = np.sum(val_Y[val_rank][:int(threshold * len(val_X))] == False)/np.sum(val_Y==False)\n",
        "    results.append([precision_train, recall_train, precision_val, recall_val])\n",
        "results = np.array(results)\n",
        "print(results[9, 2])  # 0.683 for l2"
      ],
      "metadata": {
        "colab": {
          "base_uri": "https://localhost:8080/"
        },
        "id": "-m_QzP3hH8mU",
        "outputId": "2df4813b-d43d-47b0-feed-6aeacc662766"
      },
      "execution_count": 63,
      "outputs": [
        {
          "output_type": "stream",
          "name": "stdout",
          "text": [
            "0.6244541484716157\n"
          ]
        }
      ]
    },
    {
      "cell_type": "code",
      "source": [
        "import matplotlib.pyplot as plt\n",
        "ax1 = plt.subplot()\n",
        "plt.plot(range(100), results[:,0], 'b')\n",
        "plt.ylabel('precision', color='b')\n",
        "\n",
        "ax2 = ax1.twinx()\n",
        "plt.plot(range(100), results[:,1], 'r')\n",
        "plt.ylabel('recall', color='r')\n",
        "plt.title(\"Train PR-k Curve - Baseline: Children per Dollar\")\n",
        "plt.xlabel(\"Percentage of population selected\")\n",
        "plt.show()"
      ],
      "metadata": {
        "colab": {
          "base_uri": "https://localhost:8080/",
          "height": 281
        },
        "id": "NvrBAgkPIpqn",
        "outputId": "6a352bd9-28c4-4790-cf5d-26f706f76fc3"
      },
      "execution_count": 64,
      "outputs": [
        {
          "output_type": "display_data",
          "data": {
            "text/plain": [
              "<Figure size 432x288 with 2 Axes>"
            ],
            "image/png": "[encoded data removed]"
          },
          "metadata": {
            "needs_background": "light"
          }
        }
      ]
    },
    {
      "cell_type": "code",
      "source": [
        "ax1 = plt.subplot()\n",
        "plt.plot(range(100), results[:,2], 'b')\n",
        "plt.ylabel('precision', color='b')\n",
        "\n",
        "ax2 = ax1.twinx()\n",
        "plt.plot(range(100), results[:,3], 'r')\n",
        "plt.ylabel('recall', color='r')\n",
        "plt.title(\"Val PR-k Curve - Baseline: Children per Dollar\")\n",
        "plt.show()"
      ],
      "metadata": {
        "colab": {
          "base_uri": "https://localhost:8080/",
          "height": 281
        },
        "id": "yoTB68kUIv-4",
        "outputId": "99afc24c-710e-4ca2-9ca4-fc1ff2db8dc6"
      },
      "execution_count": 65,
      "outputs": [
        {
          "output_type": "display_data",
          "data": {
            "text/plain": [
              "<Figure size 432x288 with 2 Axes>"
            ],
            "image/png": "[encoded data removed]"
          },
          "metadata": {
            "needs_background": "light"
          }
        }
      ]
    },
    {
      "cell_type": "markdown",
      "metadata": {
        "id": "zRakZGR_ZEGP"
      },
      "source": [
        "# Base rate over time"
      ]
    },
    {
      "cell_type": "code",
      "execution_count": null,
      "metadata": {
        "id": "23QKpG51ZFWH"
      },
      "outputs": [],
      "source": [
        "split = chron_split_date_ranges(pd.to_datetime(df['date_posted']))\n",
        "base_rate = []\n",
        "\n",
        "for split_ in split:\n",
        "  train, val = generate_train_val(df_final, split_)\n",
        "  train_X = train.drop(columns=['is_fully_funded_after_4_months']).reset_index().drop(columns=[\"index\"])\n",
        "  train_Y = train['is_fully_funded_after_4_months'].values\n",
        "  val_X = val.drop(columns=['is_fully_funded_after_4_months']).reset_index().drop(columns=[\"index\"])\n",
        "  val_Y = val['is_fully_funded_after_4_months'].values\n",
        "  percentage_not_funded = 1 - val_Y.sum() / len(val_Y)\n",
        "  base_rate.append(percentage_not_funded)"
      ]
    },
    {
      "cell_type": "markdown",
      "metadata": {
        "id": "-BdytZ1EZSfn"
      },
      "source": [
        "# Plotting all results over time (logistic regression, nearest neighbor, decision tree, RF, baseline, base rate)"
      ]
    },
    {
      "cell_type": "code",
      "execution_count": 44,
      "metadata": {
        "id": "eacrvgu3ZP7J",
        "colab": {
          "base_uri": "https://localhost:8080/",
          "height": 405
        },
        "outputId": "0730ea9e-6e25-48ab-c411-401f36a45caa"
      },
      "outputs": [
        {
          "output_type": "execute_result",
          "data": {
            "text/plain": [
              "Text(0, 0.5, 'Precision at top 10%')"
            ]
          },
          "metadata": {},
          "execution_count": 44
        },
        {
          "output_type": "display_data",
          "data": {
            "text/plain": [
              "<Figure size 720x432 with 1 Axes>"
            ],
            "image/png": "[encoded data removed]"
          },
          "metadata": {
            "needs_background": "light"
          }
        }
      ],
      "source": [
        "import matplotlib.pyplot as plt\n",
        "\n",
        "fig, ax = plt.subplots()\n",
        "fig.set_figwidth(10)\n",
        "fig.set_figheight(6)\n",
        "\n",
        "split = chron_split_date_ranges(pd.to_datetime(df['date_posted']))\n",
        "val_start_dates = []\n",
        "for s in split:\n",
        "  val_start_dates.append(s['val'][0])\n",
        "\n",
        "rf_res = [0.33333333333333337, 0.28125, 0.36111111111111116, 0.5384615384615384, 0.55, 0.6896551724137931, 0.7407407407407407, 0.7916666666666666, 0.8620689655172413, 0.7878787878787878, 0.65625, 0.7142857142857143, 0.72, 0.7380952380952381, 0.7631578947368421, 0.6808510638297872, 0.7058823529411764, 0.8490566037735849, 0.8507462686567164, 0.8548387096774194, 0.9069767441860466, 0.7647058823529411, 0.7931034482758621, 0.8679245283018868, 0.94, 0.9433962264150944, 0.95, 0.9830508474576272, 0.9714285714285714, 0.9661016949152542, 1.0, 1.0, 0.9761904761904762, 0.975609756097561, 1.0, 0.9855072463768116, 0.9846153846153847, 0.9863013698630136, 0.9724770642201834, 0.9574468085106383, 0.9587628865979382, 0.9803921568627451, 0.9622641509433962, 1.0, 0.9904761904761905, 1.0, 1.0, 1.0, 0.9914529914529915, 0.990909090909091, 0.990909090909091, 0.9925373134328358, 0.9935897435897436, 1.0, 0.993421052631579, 1.0, 1.0, 1.0, 1.0, 0.9896907216494846, 0.9911504424778761, 1.0, 1.0, 0.990228013029316, 0.9859943977591037, 0.991869918699187, 0.9917355371900827, 0.9841897233201581, 0.989247311827957, 0.9962825278810409, 0.9945652173913043, 1.0, 0.9865771812080537, 0.9898477157360406, 1.0, 1.0, 1.0, 0.9856115107913669, 0.9933333333333333, 0.9933774834437086, 0.990990990990991, 0.9425287356321839, 0.968421052631579, 1.0, 0.9646017699115044, 0.9696969696969697, 0.9418604651162791, 0.9107981220657277, 0.8930041152263375, 0.8464730290456431, 0.8178913738019169, 0.7463556851311953, 0.6901408450704225, 0.7449324324324325, 0.8284518828451883, 0.8635547576301615, 0.9409448818897638, 0.9463519313304721, 0.9460043196544277, 0.947265625, 0.9253731343283582, 0.9799635701275046, 0.9834710743801653, 0.9920792079207921, 0.9956427015250545, 0.990632318501171, 0.9947229551451188, 0.9958677685950413, 1.0, 0.9834254143646409, 0.9663461538461539, 0.9528301886792453, 0.9595588235294118, 0.9592391304347826, 0.9560975609756097, 0.9458874458874459, 0.9263565891472868, 0.9381663113006397, 0.9403973509933775, 0.9277899343544858, 0.9381720430107527, 0.9105691056910569, 0.9177777777777778, 0.9548872180451128, 0.9552631578947368, 0.9376443418013857, 0.9423459244532804, 0.9776119402985075, 0.9935760171306209, 0.9977528089887641, 0.9979381443298969, 1.0, 0.9887640449438202, 0.9923954372623575, 0.9913793103448276, 0.9902676399026764, 0.9863013698630136, 0.9963636363636363, 0.9969604863221885, 0.9899497487437185, 0.9557926829268293, 0.90311004784689, 0.8680479825517994, 0.8971596474045054, 0.8827667057444314, 0.839171974522293, 0.7925636007827789, 0.7356828193832599, 0.7280701754385965, 0.7426778242677825, 0.7352380952380952, 0.7289719626168225, 0.8, 0.830820770519263, 0.8602150537634409, 0.877959927140255, 0.8933333333333333, 0.9237113402061856, 0.9372549019607843, 0.8944223107569721, 0.8790123456790123, 0.8449197860962567, 0.8402366863905325, 0.8073654390934845, 0.8115942028985508, 0.6825127334465195, 0.6072772898368883, 0.5575815738963532, 0.580046403712297, 0.6486880466472303, 0.7475409836065574, 0.8085106382978724, 0.7961165048543689, 0.815112540192926, 0.8592750533049041, 0.8641860465116279, 0.8639455782312925, 0.7722772277227723, 0.746309963099631, 0.7568093385214008, 0.8576555023923444, 0.897005988023952, 0.9214758751182592, 0.9352159468438538, 0.9409905163329821, 0.9553903345724907, 0.9345372460496614, 0.9327354260089686, 0.9276595744680851, 0.8893360160965795, 0.8814229249011858, 0.8751835535976505, 0.8357894736842105, 0.7160714285714286, 0.6741379310344828, 0.6587155963302752, 0.6943192064923354, 0.7026431718061674, 0.726790450928382, 0.7870485678704857, 0.7719298245614035, 0.7521008403361344, 0.7533333333333333, 0.8181049069373942, 0.8736167734420501, 0.8520859671302149, 0.7582417582417582, 0.8004410143329659, 0.7713382507903056, 0.7621212121212121, 0.7188081936685289, 0.6870503597122302, 0.6870370370370371, 0.698876404494382, 0.7494866529774127, 0.7627118644067796, 0.7868852459016393, 0.7820324005891016, 0.7744874715261959, 0.6915077989601386, 0.6091872791519435, 0.6747159090909092, 0.7910737386804657, 0.8140635564570655, 0.8318863456985004, 0.8299798792756539, 0.8673796791443851, 0.8694736842105263, 0.8435544430538173, 0.8385714285714285, 0.818287037037037, 0.7884028484231943, 0.7508690614136733, 0.788235294117647, 0.7977207977207977, 0.8177777777777777, 0.838810641627543, 0.8372093023255813, 0.8497023809523809, 0.8323442136498517, 0.8343465045592705, 0.8487394957983193, 0.8264781491002571, 0.7944025834230355, 0.7773343974461293, 0.6893203883495146, 0.5235204855842185, 0.5471014492753623, 0.7635679742074154, 0.8154435925520263, 0.8542795232936078, 0.8773109243697479, 0.8822684852835607, 0.8572815533980582, 0.9213973799126638]\n",
        "lr_res = [0.13888888888888884, 0.125, 0.08333333333333337, 0.2564102564102564, 0.44999999999999996, 0.6551724137931034, 0.7037037037037037, 0.5416666666666667, 0.5862068965517242, 0.6666666666666667, 0.71875, 0.7619047619047619, 0.64, 0.7142857142857143, 0.6842105263157895, 0.5957446808510638, 0.6274509803921569, 0.6603773584905661, 0.791044776119403, 0.8387096774193549, 0.7209302325581395, 0.6862745098039216, 0.7586206896551724, 0.7547169811320755, 0.8200000000000001, 0.7924528301886793, 0.7666666666666666, 0.7627118644067796, 0.7714285714285715, 0.8135593220338984, 0.8409090909090909, 0.8947368421052632, 0.9285714285714286, 0.9024390243902439, 0.8974358974358975, 0.9130434782608696, 0.9153846153846154, 0.9178082191780822, 0.926605504587156, 0.8936170212765957, 0.8969072164948454, 0.9313725490196079, 0.8679245283018868, 0.8571428571428572, 0.8857142857142857, 0.8645833333333334, 0.9176470588235294, 0.8846153846153846, 0.9145299145299145, 0.9454545454545454, 0.9181818181818182, 0.8656716417910448, 0.9038461538461539, 0.96875, 0.9868421052631579, 0.952, 0.972972972972973, 0.9787234042553191, 0.9887640449438202, 0.9381443298969072, 0.8672566371681416, 0.859375, 0.8622754491017964, 0.9543973941368078, 0.9551820728291317, 0.9552845528455285, 0.9586776859504132, 0.9367588932806324, 0.942652329749104, 0.9591078066914498, 0.9619565217391304, 0.9536423841059603, 0.9530201342281879, 0.9898477157360406, 0.9834254143646409, 0.983402489626556, 0.967391304347826, 0.9640287769784173, 0.9733333333333334, 0.9470198675496688, 0.9369369369369369, 0.9425287356321839, 0.9473684210526316, 0.9888888888888889, 0.9646017699115044, 0.946969696969697, 0.9011627906976745, 0.9107981220657277, 0.9053497942386831, 0.8630705394190872, 0.7507987220447284, 0.6676384839650146, 0.6112676056338029, 0.6554054054054055, 0.6834030683403068, 0.6840215439856374, 0.7086614173228347, 0.740343347639485, 0.7883369330453563, 0.8671875, 0.8839137645107794, 0.8888888888888888, 0.878099173553719, 0.8871287128712871, 0.906318082788671, 0.9320843091334895, 0.920844327176781, 0.884297520661157, 0.8910891089108911, 0.9226519337016574, 0.8846153846153846, 0.8584905660377359, 0.8529411764705882, 0.8478260869565217, 0.8365853658536585, 0.8008658008658008, 0.8023255813953488, 0.8059701492537313, 0.8079470198675497, 0.7768052516411379, 0.7311827956989247, 0.6964769647696477, 0.6911111111111111, 0.6591478696741855, 0.6263157894736842, 0.5773672055427252, 0.5268389662027833, 0.5167910447761195, 0.582441113490364, 0.6674157303370787, 0.6701030927835052, 0.6047120418848168, 0.5393258426966292, 0.5152091254752852, 0.6241379310344828, 0.7372262773722628, 0.7328767123287672, 0.72, 0.7325227963525835, 0.7562814070351759, 0.7271341463414633, 0.680622009569378, 0.6717557251908397, 0.6904995102840352, 0.6694021101992966, 0.6194267515923566, 0.5264187866927593, 0.44273127753303965, 0.3991228070175439, 0.4497907949790795, 0.5123809523809524, 0.5495327102803738, 0.5467741935483871, 0.5628140703517588, 0.5770609318996416, 0.6102003642987249, 0.6571428571428571, 0.7010309278350515, 0.7274509803921569, 0.7191235059760956, 0.6444444444444444, 0.6283422459893049, 0.6242603550295858, 0.594900849858357, 0.5942028985507246, 0.5687606112054329, 0.4780426599749059, 0.4664107485604606, 0.47950502706883213, 0.4985422740524781, 0.5286885245901639, 0.5570599613152805, 0.5728155339805825, 0.5691318327974276, 0.5543710021321961, 0.5674418604651164, 0.6122448979591837, 0.6102610261026102, 0.5940959409594095, 0.6128404669260701, 0.631578947368421, 0.6395209580838324, 0.5316934720908231, 0.5772425249169435, 0.6628029504741834, 0.8085501858736059, 0.8419864559819413, 0.8542600896860987, 0.8425531914893617, 0.7927565392354124, 0.7786561264822134, 0.7900146842878121, 0.7231578947368421, 0.6053571428571429, 0.5327586206896552, 0.48348623853211015, 0.5013525698827772, 0.47246696035242286, 0.4549071618037135, 0.4582814445828145, 0.41019214703425233, 0.44201680672268906, 0.48888888888888893, 0.4500846023688664, 0.5655212580081538, 0.6137800252844501, 0.5684315684315684, 0.496141124586549, 0.46259220231822973, 0.4939393939393939, 0.4245810055865922, 0.3902877697841727, 0.4740740740740741, 0.5775280898876405, 0.5872689938398357, 0.6186440677966102, 0.5737704918032787, 0.6038291605301915, 0.6104783599088839, 0.5051993067590987, 0.4042402826855124, 0.40838068181818177, 0.46571798188874514, 0.4394861392832995, 0.4767166535122336, 0.47283702213279677, 0.4951871657754011, 0.5073684210526316, 0.5294117647058824, 0.5228571428571429, 0.47916666666666663, 0.4425228891149542, 0.4669756662804172, 0.5161764705882352, 0.47150997150997154, 0.47259259259259256, 0.5039123630672926, 0.5209302325581395, 0.5461309523809523, 0.5385756676557863, 0.5592705167173253, 0.6274509803921569, 0.589974293059126, 0.49730893433799783, 0.49481245011971264, 0.4356796116504854, 0.3449671219018715, 0.3188405797101449, 0.4148307361633531, 0.42004381161007665, 0.4712892741061755, 0.45658263305322133, 0.4134960516870064, 0.550485436893204, 0.6517467248908297]\n",
        "\n",
        "decision_tree_res = [0.25, 0.0625, 0.4444444444444444, 0.4871794871794872, 0.55, 0.6896551724137931, 0.5925925925925926, 0.6666666666666667, 0.7241379310344828, 0.9090909090909091, 0.5625, 0.5, 0.38, 0.6666666666666667, 0.3421052631578947, 0.6170212765957447, 0.5882352941176471, 0.5471698113207547, 0.7014925373134329, 0.6935483870967742, 0.6511627906976745, 0.4509803921568627, 0.6724137931034483, 0.6603773584905661, 0.72, 0.7735849056603774, 0.6666666666666667, 0.7966101694915254, 0.8571428571428572, 0.7966101694915254, 0.8863636363636364, 0.868421052631579, 0.8095238095238095, 0.9024390243902439, 0.9487179487179487, 0.927536231884058, 0.9307692307692308, 0.7671232876712328, 0.7155963302752293, 0.7978723404255319, 0.7938144329896908, 0.9509803921568627, 0.8867924528301887, 0.8214285714285714, 0.8857142857142857, 0.7916666666666666, 0.7647058823529411, 0.8461538461538461, 0.3931623931623932, 0.4818181818181818, 0.5636363636363637, 0.6865671641791045, 0.8269230769230769, 0.89375, 0.8092105263157895, 0.8240000000000001, 0.9009009009009009, 0.925531914893617, 0.5280898876404494, 0.8969072164948454, 0.8141592920353982, 0.640625, 0.7844311377245509, 0.8110749185667753, 0.8907563025210083, 0.8089430894308943, 0.78099173553719, 0.691699604743083, 0.7992831541218638, 0.6988847583643123, 0.7934782608695652, 0.8940397350993378, 0.9731543624161074, 0.883248730964467, 0.8729281767955801, 0.9377593360995851, 0.8858695652173914, 0.7553956834532374, 0.8133333333333334, 0.8874172185430463, 0.9369369369369369, 0.896551724137931, 0.6842105263157895, 0.8222222222222222, 0.7876106194690266, 0.6590909090909092, 0.6046511627906976, 0.5915492957746479, 0.6790123456790124, 0.6473029045643153, 0.37060702875399365, 0.43440233236151604, 0.3211267605633803, 0.4070945945945946, 0.2635983263598326, 0.6337522441651706, 0.5649606299212598, 0.7167381974248928, 0.9049676025917927, 0.78125, 0.9187396351575456, 0.9599271402550091, 0.9359504132231405, 0.9544554455445544, 0.9869281045751634, 0.9039812646370023, 0.9630606860158312, 0.6611570247933884, 0.8366336633663366, 0.856353591160221, 0.8509615384615384, 0.839622641509434, 0.8676470588235294, 0.8641304347826086, 0.8829268292682927, 0.8398268398268398, 0.8856589147286822, 0.8166311300639659, 0.7902869757174393, 0.700218818380744, 0.8440860215053764, 0.7723577235772358, 0.8888888888888888, 0.8320802005012531, 0.9394736842105263, 0.9792147806004619, 0.9403578528827038, 0.8582089552238806, 0.9635974304068522, 0.9617977528089887, 0.7237113402061855, 0.9057591623036649, 0.9775280898876404, 0.017110266159695797, 0.8482758620689655, 0.9781021897810219, 0.952054794520548, 0.8945454545454545, 0.8480243161094225, 0.9698492462311558, 0.9314024390243902, 0.84688995215311, 0.7742639040348964, 0.8050930460333007, 0.7878077373974208, 0.5573248407643312, 0.7299412915851272, 0.6938325991189427, 0.7192982456140351, 0.7384937238493724, 0.7047619047619047, 0.6074766355140186, 0.6564516129032258, 0.7420435510887773, 0.8136200716845878, 0.13296903460837883, 0.2571428571428571, 0.6742268041237114, 0.8745098039215686, 0.8286852589641435, 0.7679012345679013, 0.6898395721925134, 0.6479289940828402, 0.6487252124645893, 0.6956521739130435, 0.6213921901528013, 0.11919698870765372, 0.49424184261036463, 0.5846867749419953, 0.4737609329446064, 0.6065573770491803, 0.7321083172147003, 0.183252427184466, 0.7829581993569132, 0.7718550106609808, 0.7897674418604651, 0.8182701652089407, 0.6804680468046804, 0.2407749077490775, 0.6731517509727627, 0.7858851674641149, 0.8419161676646707, 0.869441816461684, 0.8687707641196013, 0.9009483667017913, 0.912639405204461, 0.8848758465011287, 0.8318385650224215, 0.8425531914893617, 0.7645875251509054, 0.766798418972332, 0.644640234948605, 0.7778947368421052, 0.6866071428571429, 0.26206896551724135, 0.5981651376146788, 0.49774571686203783, 0.5958149779735683, 0.2519893899204244, 0.7135740971357409, 0.20551378446115287, 0.7268907563025211, 0.6422222222222222, 0.09813874788494081, 0.8380896913220734, 0.2629582806573957, 0.7462537462537462, 0.7453142227122381, 0.714436248682824, 0.6863636363636363, 0.6945996275605214, 0.5755395683453237, 0.6129629629629629, 0.651685393258427, 0.7145790554414784, 0.6228813559322034, 0.5664845173041895, 0.6450662739322532, 0.7277904328018223, 0.6351819757365684, 0.5547703180212014, 0.6044034090909092, 0.0847347994825356, 0.7728194726166329, 0.07103393843725336, 0.7082494969818913, 0.786096256684492, 0.7957894736842105, 0.7521902377972466, 0.7814285714285714, 0.7152777777777778, 0.7599186164801628, 0.5643105446118193, 0.10441176470588232, 0.7321937321937322, 0.8, 0.7605633802816901, 0.2682170542635659, 0.6502976190476191, 0.14688427299703266, 0.6778115501519757, 0.7380952380952381, 0.8200514138817481, 0.2152852529601722, 0.7414205905826017, 0.5254854368932038, 0.3621648963075367, 0.28364389233954457, 0.7109081139172488, 0.604052573932092, 0.7237269772481041, 0.7406162464985995, 0.17013639626704957, 0.8223300970873786, 0.8155021834061136]\n",
        "xgb_res = [0.38888888888888884, 0.28125, 0.3055555555555556, 0.5384615384615384, 0.7, 0.7931034482758621, 0.7777777777777778, 0.875, 0.8620689655172413, 0.8181818181818181, 0.71875, 0.6904761904761905, 0.6799999999999999, 0.7619047619047619, 0.736842105263158, 0.8085106382978724, 0.6274509803921569, 0.8301886792452831, 0.8507462686567164, 0.9193548387096774, 0.9302325581395349, 0.8627450980392157, 0.8103448275862069, 0.8113207547169812, 0.94, 0.9811320754716981, 0.9666666666666667, 1.0, 1.0, 1.0, 1.0, 0.9473684210526316, 0.9285714285714286, 0.9512195121951219, 1.0, 0.9710144927536232, 0.9923076923076923, 0.9794520547945206, 0.981651376146789, 0.9893617021276596, 1.0, 0.9901960784313726, 0.9811320754716981, 0.9821428571428571, 0.9904761904761905, 1.0, 1.0, 0.9903846153846154, 0.9829059829059829, 0.990909090909091, 1.0, 0.9925373134328358, 1.0, 1.0, 0.993421052631579, 0.984, 0.990990990990991, 1.0, 1.0, 1.0, 1.0, 1.0, 1.0, 0.990228013029316, 0.988795518207283, 0.9959349593495935, 0.9958677685950413, 0.9841897233201581, 0.985663082437276, 1.0, 1.0, 0.9933774834437086, 0.9865771812080537, 0.9898477157360406, 1.0, 0.995850622406639, 0.9945652173913043, 1.0, 1.0, 1.0, 1.0, 0.9885057471264368, 0.9894736842105263, 1.0, 1.0, 0.9848484848484849, 0.936046511627907, 0.9061032863849765, 0.8724279835390947, 0.8755186721991701, 0.8019169329073482, 0.7346938775510203, 0.7098591549295774, 0.6942567567567568, 0.8131101813110182, 0.8653500897666069, 0.9389763779527559, 0.9484978540772532, 0.9568034557235421, 0.970703125, 0.9684908789386402, 0.9890710382513661, 0.9917355371900827, 0.994059405940594, 0.9912854030501089, 0.9953161592505855, 0.9973614775725593, 0.9958677685950413, 1.0, 1.0, 0.9615384615384616, 0.9528301886792453, 0.9595588235294118, 0.9510869565217391, 0.9658536585365853, 0.9545454545454546, 0.9418604651162791, 0.9530916844349681, 0.9580573951434879, 0.9649890590809628, 0.9596774193548387, 0.9376693766937669, 0.9666666666666667, 0.9624060150375939, 0.9921052631578947, 0.9861431870669746, 0.9860834990059643, 0.9869402985074627, 0.9914346895074947, 1.0, 1.0, 1.0, 0.9971910112359551, 0.9980988593155894, 0.9982758620689656, 0.9975669099756691, 1.0, 1.0, 1.0, 0.9974874371859297, 0.975609756097561, 0.930622009569378, 0.88113413304253, 0.9059745347698335, 0.8921453692848769, 0.8630573248407644, 0.8180039138943249, 0.7731277533039648, 0.7828947368421053, 0.7824267782426778, 0.7733333333333333, 0.7682242990654206, 0.7870967741935484, 0.8375209380234506, 0.8620071684587813, 0.8816029143897997, 0.9066666666666666, 0.9298969072164949, 0.9352941176470588, 0.9262948207171314, 0.8962962962962963, 0.8689839572192514, 0.8668639053254438, 0.8328611898016998, 0.8260869565217391, 0.701188455008489, 0.6022584692597239, 0.5940499040307101, 0.6063418406805878, 0.6756559766763848, 0.7729508196721311, 0.8191489361702128, 0.8155339805825242, 0.8360128617363344, 0.8582089552238806, 0.867906976744186, 0.8717201166180758, 0.7884788478847885, 0.7343173431734318, 0.7782101167315175, 0.8755980861244019, 0.9149700598802395, 0.9413434247871334, 0.9476744186046512, 0.9430979978925185, 0.9479553903345725, 0.9525959367945824, 0.9573991031390134, 0.9404255319148936, 0.9054325955734407, 0.9110671936758893, 0.8839941262848752, 0.8463157894736842, 0.7428571428571429, 0.6913793103448276, 0.6669724770642202, 0.7177637511271415, 0.7290748898678414, 0.7493368700265253, 0.821917808219178, 0.8178780284043442, 0.788235294117647, 0.7733333333333333, 0.8087986463620982, 0.8841001747233547, 0.8647281921618205, 0.7432567432567432, 0.8103638368246968, 0.78609062170706, 0.7712121212121212, 0.7672253258845437, 0.697841726618705, 0.6777777777777778, 0.7370786516853933, 0.7700205338809035, 0.7923728813559322, 0.7795992714025501, 0.8085419734904271, 0.8120728929384966, 0.6889081455805892, 0.5964664310954064, 0.6669034090909092, 0.8104786545924968, 0.8316430020283976, 0.8326756116811366, 0.8591549295774648, 0.8887700534759359, 0.8810526315789473, 0.8660826032540676, 0.8685714285714285, 0.8298611111111112, 0.8056968463886063, 0.7265353418308227, 0.8117647058823529, 0.8247863247863247, 0.8429629629629629, 0.838810641627543, 0.8604651162790697, 0.875, 0.8545994065281899, 0.837386018237082, 0.8711484593837535, 0.8663239074550129, 0.8277717976318621, 0.8004788507581804, 0.7160194174757282, 0.5629742033383915, 0.5652173913043479, 0.7764642665233745, 0.8357064622124863, 0.8916576381365113, 0.9053221288515406, 0.8959081119885139, 0.870873786407767, 0.9563318777292577]\n",
        "\n",
        "base_rate = [0.06284153005464477, 0.050000000000000044, 0.1202185792349727, 0.2102564102564103, 0.30147058823529416, 0.3648648648648649, 0.36764705882352944, 0.3801652892561983, 0.4664429530201343, 0.4925373134328358, 0.4171779141104295, 0.3835294117647059, 0.37125748502994016, 0.3681710213776722, 0.36623376623376624, 0.32278481012658233, 0.2704280155642024, 0.2900188323917138, 0.3046062407132244, 0.32961783439490444, 0.36757990867579904, 0.33852140077821014, 0.3214285714285714, 0.32457786116322707, 0.362, 0.4101123595505618, 0.41860465116279066, 0.44741235392320533, 0.5049645390070923, 0.5375626043405677, 0.5627802690582959, 0.6036745406824147, 0.639344262295082, 0.6498800959232613, 0.628498727735369, 0.6280752532561504, 0.6539343009931244, 0.6255989048596852, 0.5642201834862386, 0.5642933049946866, 0.5740551583248212, 0.5719882468168462, 0.5417057169634489, 0.5106571936056838, 0.4815864022662889, 0.472972972972973, 0.47540983606557374, 0.45052833813640725, 0.4568744662681469, 0.4602169981916817, 0.4169675090252708, 0.4422073079791201, 0.5047862156987875, 0.5882719900187149, 0.5853018372703411, 0.5494417862838916, 0.5526552655265526, 0.5650793650793651, 0.5795964125560538, 0.5806783144912642, 0.5702987697715289, 0.5487900078064012, 0.5413936867182847, 0.5823319259499837, 0.5973154362416108, 0.6103685702713649, 0.6384647131654972, 0.632242806464328, 0.6325581395348837, 0.6314031180400891, 0.595018949648078, 0.5898282694848085, 0.6622073578595318, 0.7218007081436519, 0.7318281938325991, 0.7103734439834024, 0.6429734129137277, 0.6161035226455787, 0.682571239231279, 0.6912928759894459, 0.6729559748427674, 0.7095671981776766, 0.759958071278826, 0.7619047619047619, 0.716931216931217, 0.6825037707390649, 0.6566125290023201, 0.6302010285179991, 0.582340862422998, 0.5113777410012412, 0.426475279106858, 0.3594523740168949, 0.339521800281294, 0.3426113360323887, 0.35577861424787394, 0.3789209535759097, 0.40625, 0.4346706715297146, 0.5214578391201208, 0.5968402574605032, 0.6267395626242545, 0.6319810805894124, 0.6218782249742002, 0.6178974460502871, 0.633413199738619, 0.6418050035071312, 0.6673700870482722, 0.6829971181556196, 0.6765578635014837, 0.6628099173553719, 0.6163793103448276, 0.6060178655383168, 0.586852735952993, 0.5722826086956522, 0.5439024390243903, 0.4931891891891892, 0.4437342630253729, 0.4311555650138327, 0.42907566732848, 0.4158653846153846, 0.39259855189058734, 0.3353196099674973, 0.32978487469505435, 0.35529942370333245, 0.38853838065194535, 0.4013370216689719, 0.3921334922526818, 0.40869240813281105, 0.4572284003421728, 0.5092093441150045, 0.5094689172498971, 0.4856171548117155, 0.37573715248525696, 0.3835043709616116, 0.46682750301568154, 0.5719834911386259, 0.5677618069815196, 0.5488203266787659, 0.5340425531914894, 0.5111612741409581, 0.477141115513563, 0.4398613103778096, 0.43216737495913693, 0.4815974941268598, 0.4895711272556832, 0.44348933460681317, 0.39765395894428157, 0.35723713154421466, 0.30863656291100394, 0.28828451882845185, 0.3132140137090632, 0.3427878335510356, 0.3692605123247946, 0.401707970529136, 0.4068100358422939, 0.42550482081135166, 0.4688630737002476, 0.49577754891864056, 0.5310358331701586, 0.5453821656050956, 0.5305719921104537, 0.509076348104645, 0.47086660751257026, 0.4359988697372139, 0.4368065605402798, 0.41341256366723256, 0.3599448552450182, 0.32217533090351047, 0.3266836774143663, 0.34146696773253693, 0.3536545394952475, 0.36476162846920024, 0.3646844660194175, 0.36752411575562705, 0.3594799104763935, 0.3705494096867157, 0.3991257892180671, 0.43314738168076306, 0.4497740060879992, 0.4497179537055047, 0.4605090213884574, 0.48258944597343545, 0.4408398751536934, 0.46200481687567474, 0.5350258084904667, 0.6174832962138085, 0.6309148264984228, 0.6377493835462901, 0.6324968098681412, 0.6085209003215435, 0.5987751876728566, 0.5906956266510126, 0.5330526315789474, 0.4678153736273547, 0.4254329284052727, 0.36769696413831054, 0.36004687640854593, 0.3427974028832398, 0.32533156498673743, 0.3112714605623289, 0.27316013699774455, 0.26879462410751787, 0.31626305265496557, 0.31980382208692715, 0.4145602795573675, 0.4760851709104694, 0.42995506739890166, 0.3858102897433072, 0.3853201347935973, 0.41359987884295013, 0.391886862672125, 0.37374100719424463, 0.3892381656804734, 0.41307277628032346, 0.4212792127921279, 0.40537679932260795, 0.39857975236707943, 0.41881348446930666, 0.41340464269458355, 0.36903628019741974, 0.3217489581125945, 0.3085604770017035, 0.3208511188720735, 0.32709332972899907, 0.35341903935641616, 0.37008349260637763, 0.36351004702864476, 0.36038311756657193, 0.3695407333249906, 0.3840879874303671, 0.3561596298438404, 0.3256381572256687, 0.33221398795738766, 0.3483179080358455, 0.3395931142410016, 0.3308660251665433, 0.3452101890920456, 0.3579290032553093, 0.3793513835168105, 0.3932650941996736, 0.4064966605950212, 0.417973124300112, 0.4054713588492166, 0.3863293864370291, 0.36133046183297435, 0.3159458967671499, 0.26028020838601995, 0.25302763689059105, 0.28941429339065017, 0.31010128661374214, 0.3534095217461951, 0.3727522267660075, 0.3621679827709978, 0.351445759751601, 0.5067670814232701]\n",
        "baseline_results = [0.16666666666666663, 0.15625, 0.11111111111111116, 0.2564102564102564, 0.475, 0.5172413793103448, 0.5185185185185186, 0.5, 0.5517241379310345, 0.6363636363636364, 0.5625, 0.6666666666666667, 0.6599999999999999, 0.6190476190476191, 0.5789473684210527, 0.46808510638297873, 0.4117647058823529, 0.4716981132075472, 0.5522388059701493, 0.5483870967741935, 0.5581395348837209, 0.5294117647058824, 0.5517241379310345, 0.49056603773584906, 0.52, 0.6226415094339622, 0.6166666666666667, 0.5423728813559322, 0.5857142857142856, 0.576271186440678, 0.6818181818181819, 0.7105263157894737, 0.8095238095238095, 0.8536585365853658, 0.7948717948717949, 0.8695652173913043, 0.8692307692307693, 0.8424657534246576, 0.7522935779816513, 0.7127659574468085, 0.7525773195876289, 0.7156862745098039, 0.7169811320754718, 0.7053571428571428, 0.6571428571428571, 0.625, 0.7294117647058824, 0.7019230769230769, 0.6837606837606838, 0.7090909090909091, 0.7, 0.6268656716417911, 0.6730769230769231, 0.81875, 0.8092105263157895, 0.768, 0.8288288288288288, 0.8085106382978724, 0.7640449438202247, 0.7835051546391752, 0.7168141592920354, 0.7421875, 0.7844311377245509, 0.7817589576547231, 0.7843137254901961, 0.7723577235772358, 0.8016528925619835, 0.7905138339920948, 0.7885304659498208, 0.7769516728624535, 0.7608695652173914, 0.794701986754967, 0.8523489932885906, 0.8781725888324873, 0.8784530386740331, 0.8423236514522822, 0.7771739130434783, 0.7913669064748201, 0.86, 0.8211920529801324, 0.8198198198198199, 0.8620689655172413, 0.9263157894736842, 0.9333333333333333, 0.9469026548672567, 0.9015151515151515, 0.8662790697674418, 0.8591549295774648, 0.8106995884773662, 0.7676348547717842, 0.6038338658146964, 0.5043731778425655, 0.504225352112676, 0.535472972972973, 0.5425383542538355, 0.5745062836624776, 0.5728346456692913, 0.5879828326180258, 0.6997840172786177, 0.783203125, 0.8009950248756219, 0.8306010928961749, 0.8347107438016529, 0.8237623762376238, 0.8148148148148149, 0.810304449648712, 0.8126649076517151, 0.8016528925619835, 0.801980198019802, 0.8066298342541436, 0.8076923076923077, 0.7783018867924528, 0.7830882352941176, 0.8206521739130435, 0.775609756097561, 0.7099567099567099, 0.6627906976744187, 0.6481876332622601, 0.620309050772627, 0.5995623632385121, 0.6155913978494624, 0.5934959349593496, 0.5666666666666667, 0.581453634085213, 0.6394736842105263, 0.5727482678983833, 0.5049701789264414, 0.5167910447761195, 0.582441113490364, 0.6584269662921348, 0.6639175257731958, 0.6596858638743455, 0.4691011235955056, 0.47148288973384034, 0.5758620689655172, 0.6642335766423357, 0.6232876712328768, 0.6945454545454546, 0.6808510638297872, 0.6683417085427136, 0.5945121951219512, 0.5466507177033493, 0.5681570338058888, 0.5925563173359452, 0.5849941383352872, 0.5318471337579618, 0.4735812133072407, 0.4251101321585903, 0.36403508771929827, 0.37029288702928875, 0.3961904761904762, 0.4317757009345794, 0.5209677419354839, 0.5477386934673367, 0.5376344086021505, 0.5209471766848817, 0.5752380952380952, 0.6556701030927835, 0.711764705882353, 0.6892430278884463, 0.6567901234567901, 0.625668449197861, 0.591715976331361, 0.5155807365439093, 0.5314009661835748, 0.534804753820034, 0.43914680050188204, 0.37811900191938574, 0.4168600154679041, 0.44752186588921283, 0.4639344262295082, 0.4671179883945842, 0.46116504854368934, 0.4823151125401929, 0.4776119402985075, 0.4818604651162791, 0.5072886297376094, 0.5481548154815481, 0.5710332103321033, 0.5963035019455253, 0.611244019138756, 0.6, 0.5146641438032167, 0.5772425249169435, 0.6859852476290833, 0.7527881040892194, 0.7494356659142212, 0.7040358744394619, 0.7021276595744681, 0.7243460764587526, 0.7450592885375493, 0.7019089574155654, 0.6568421052631579, 0.5678571428571428, 0.4948275862068966, 0.4311926605504587, 0.45807033363390437, 0.45925110132158586, 0.4456233421750663, 0.4296388542963886, 0.39766081871345027, 0.3941176470588236, 0.4622222222222222, 0.4653130287648054, 0.5544554455445545, 0.5979772439949431, 0.5424575424575424, 0.4399117971334069, 0.4236037934668072, 0.4757575757575757, 0.46368715083798884, 0.4118705035971223, 0.44074074074074077, 0.548314606741573, 0.5605749486652978, 0.5360169491525424, 0.5081967213114754, 0.5434462444771724, 0.5592255125284737, 0.4653379549393414, 0.3809187279151943, 0.40625, 0.42043984476067275, 0.41987829614604466, 0.46172059984214675, 0.4768611670020121, 0.47379679144385023, 0.4831578947368421, 0.5131414267834793, 0.4928571428571429, 0.4467592592592593, 0.42421159715157686, 0.42757821552723063, 0.4308823529411765, 0.4245014245014245, 0.45333333333333337, 0.4616588419405321, 0.48062015503875966, 0.5252976190476191, 0.5326409495548962, 0.5364741641337386, 0.5812324929971988, 0.5347043701799485, 0.4531754574811625, 0.4493216280925778, 0.38652912621359226, 0.3125948406676783, 0.2960662525879917, 0.3879634605051048, 0.41018619934282585, 0.4669555796316359, 0.4784313725490196, 0.4816941852117731, 0.5, 0.6244541484716157]\n",
        "\n",
        "nn_results = [0.02777777777777779, 0.03125, 0.08333333333333337, 0.23076923076923073, 0.575, 0.6206896551724138, 0.7037037037037037, 0.6666666666666667, 0.48275862068965514, 0.7272727272727273, 0.71875, 0.7380952380952381, 0.72, 0.6666666666666667, 0.7105263157894737, 0.5957446808510638, 0.5882352941176471, 0.5849056603773585, 0.6417910447761195, 0.5967741935483871, 0.6511627906976745, 0.607843137254902, 0.5689655172413793, 0.5283018867924528, 0.6, 0.7358490566037736, 0.7166666666666667, 0.7457627118644068, 0.8428571428571429, 0.728813559322034, 0.8863636363636364, 0.9210526315789473, 0.9285714285714286, 0.8780487804878049, 0.9230769230769231, 0.8985507246376812, 0.8692307692307693, 0.8082191780821918, 0.8165137614678899, 0.8297872340425532, 0.865979381443299, 0.8529411764705882, 0.7830188679245282, 0.8571428571428572, 0.8380952380952381, 0.8958333333333334, 0.9411764705882353, 0.875, 0.9145299145299145, 0.9, 0.9454545454545454, 0.8656716417910448, 0.9294871794871795, 0.95625, 0.9407894736842105, 0.92, 0.9099099099099099, 0.8936170212765957, 0.9550561797752809, 0.8969072164948454, 0.8849557522123894, 0.8828125, 0.844311377245509, 0.9055374592833876, 0.8879551820728291, 0.8983739837398375, 0.8925619834710744, 0.8932806324110671, 0.9139784946236559, 0.9256505576208178, 0.9347826086956522, 0.9139072847682119, 0.9731543624161074, 0.9593908629441624, 0.9447513812154696, 0.970954356846473, 0.9565217391304348, 0.9280575539568345, 0.9466666666666667, 0.9602649006622517, 0.9459459459459459, 0.9770114942528736, 0.968421052631579, 0.9777777777777777, 0.9823008849557522, 0.9393939393939394, 0.9302325581395349, 0.92018779342723, 0.868312757201646, 0.7883817427385892, 0.7507987220447284, 0.7551020408163265, 0.7464788732394366, 0.7635135135135135, 0.8340306834030684, 0.8599640933572711, 0.9153543307086615, 0.9291845493562232, 0.9222462203023758, 0.921875, 0.8905472636815921, 0.9143897996357013, 0.9276859504132231, 0.9544554455445544, 0.9607843137254902, 0.9414519906323185, 0.941952506596306, 0.9380165289256198, 0.9504950495049505, 0.9668508287292817, 0.9134615384615384, 0.8962264150943396, 0.8860294117647058, 0.8858695652173914, 0.8682926829268293, 0.8268398268398268, 0.8430232558139534, 0.8272921108742004, 0.8035320088300221, 0.8074398249452954, 0.8091397849462365, 0.8265582655826558, 0.8333333333333334, 0.8245614035087719, 0.8078947368421052, 0.7713625866050808, 0.7773359840954275, 0.8451492537313433, 0.8865096359743041, 0.9123595505617977, 0.9154639175257732, 0.9109947643979057, 0.9101123595505618, 0.8992395437262357, 0.8879310344827587, 0.8710462287104623, 0.845890410958904, 0.8618181818181818, 0.8632218844984803, 0.8266331658291457, 0.7682926829268293, 0.7141148325358851, 0.7262813522355507, 0.7482859941234083, 0.7678780773739742, 0.7340764331210191, 0.6810176125244618, 0.6277533039647577, 0.6271929824561404, 0.6757322175732218, 0.6895238095238095, 0.6953271028037383, 0.75, 0.8040201005025126, 0.8620071684587813, 0.8852459016393442, 0.9028571428571428, 0.9154639175257732, 0.9196078431372549, 0.8545816733067729, 0.7876543209876543, 0.7433155080213903, 0.7485207100591715, 0.6940509915014164, 0.6497584541062802, 0.6230899830220713, 0.603513174404015, 0.5700575815738964, 0.5939675174013921, 0.6348396501457726, 0.6844262295081966, 0.7098646034816247, 0.7621359223300971, 0.7781350482315113, 0.8049040511727079, 0.8223255813953488, 0.8357628765792031, 0.774077407740774, 0.709409594095941, 0.7597276264591439, 0.8277511961722488, 0.8862275449101796, 0.9044465468306528, 0.9294019933554817, 0.9199157007376185, 0.9256505576208178, 0.9525959367945824, 0.9551569506726457, 0.9340425531914893, 0.9074446680080483, 0.8992094861660079, 0.8972099853157122, 0.8336842105263158, 0.74375, 0.6956896551724138, 0.6394495412844037, 0.6573489630297565, 0.6839207048458149, 0.6962864721485411, 0.775840597758406, 0.7752715121136173, 0.7512605042016807, 0.768888888888889, 0.8087986463620982, 0.877693651718113, 0.8647281921618205, 0.7892107892107892, 0.7993384785005513, 0.7608008429926238, 0.7545454545454545, 0.7672253258845437, 0.75, 0.6833333333333333, 0.6898876404494382, 0.7351129363449692, 0.7161016949152542, 0.7522768670309654, 0.8144329896907216, 0.7870159453302961, 0.6126516464471403, 0.47279151943462894, 0.5802556818181819, 0.7347994825355757, 0.8005409060175794, 0.7758484609313339, 0.7987927565392354, 0.8641711229946524, 0.8368421052631578, 0.8435544430538173, 0.8585714285714285, 0.8298611111111112, 0.7690742624618515, 0.7891077636152954, 0.8058823529411765, 0.7991452991452992, 0.8059259259259259, 0.8356807511737089, 0.8015503875968992, 0.8154761904761905, 0.7818991097922848, 0.8449848024316109, 0.8529411764705882, 0.8136246786632391, 0.7804090419806243, 0.7565841979249801, 0.6486650485436893, 0.40971168437025796, 0.4389233954451346, 0.738312735088662, 0.7979189485213581, 0.8450704225352113, 0.8526610644257703, 0.8528356066044508, 0.8669902912621359, 0.9388646288209607]\n",
        "\n",
        "\n",
        "ax.plot(val_start_dates, base_rate, label='base rate')\n",
        "ax.plot(val_start_dates, baseline_results, label='baseline - children helped per dollar')\n",
        "ax.plot(val_start_dates, decision_tree_res, label='decision tree')\n",
        "ax.plot(val_start_dates, lr_res, label='logistic regression')\n",
        "ax.plot(val_start_dates, rf_res, label='random forest')\n",
        "ax.plot(val_start_dates, xgb_res, label='xgboost')\n",
        "ax.plot(val_start_dates, nn_results, label='neural network')\n",
        "ax.legend()\n",
        "\n",
        "ax.set_xlabel('Evaluation Start Date')\n",
        "ax.set_ylabel('Precision at top 10%')"
      ]
    },
    {
      "cell_type": "code",
      "source": [],
      "metadata": {
        "id": "y65Qc26Tw9y7"
      },
      "execution_count": null,
      "outputs": []
    }
  ],
  "metadata": {
    "colab": {
      "provenance": []
    },
    "kernelspec": {
      "display_name": "Python 3 (ipykernel)",
      "language": "python",
      "name": "python3"
    },
    "language_info": {
      "codemirror_mode": {
        "name": "ipython",
        "version": 3
      },
      "file_extension": ".py",
      "mimetype": "text/x-python",
      "name": "python",
      "nbconvert_exporter": "python",
      "pygments_lexer": "ipython3",
      "version": "3.7.9"
    }
  },
  "nbformat": 4,
  "nbformat_minor": 0
}