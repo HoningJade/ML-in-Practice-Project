{
 "cells": [
  {
   "cell_type": "markdown",
   "metadata": {
    "id": "MygD9O0cNBh6"
   },
   "source": [
    "# Baselines and Formulation\n"
   ]
  },
  {
   "cell_type": "code",
   "execution_count": 8,
   "metadata": {
    "colab": {
     "base_uri": "https://localhost:8080/"
    },
    "id": "iY8dwqamIIQc",
    "outputId": "2781c97d-087d-4ed9-bc38-360e74a66992"
   },
   "outputs": [
    {
     "name": "stdout",
     "output_type": "stream",
     "text": [
      "OK\n",
      "deb http://apt.postgresql.org/pub/repos/apt/ focal-pgdg main\n",
      " * Starting PostgreSQL 11 database server\n",
      "   ...done.\n",
      "ALTER ROLE\n",
      "DROP DATABASE\n",
      "CREATE DATABASE\n",
      "env: DEMO_DATABASE_NAME=donors_choose\n",
      "env: DEMO_DATABASE_HOST=localhost\n",
      "env: DEMO_DATABASE_PORT=5432\n",
      "DROP DATABASE\n",
      "CREATE DATABASE\n",
      "env: DEMO_DATABASE_NAME=donors_choose\n",
      "env: DEMO_DATABASE_HOST=localhost\n",
      "env: DEMO_DATABASE_PORT=5432\n",
      "env: DEMO_DATABASE_USER=postgres\n",
      "env: DEMO_DATABASE_PASS=postgres\n"
     ]
    }
   ],
   "source": [
    "# Install and start postgresql-11 server\n",
    "!sudo apt-get -y -qq update\n",
    "!wget --quiet -O - https://www.postgresql.org/media/keys/ACCC4CF8.asc | sudo apt-key add -\n",
    "!echo \"deb http://apt.postgresql.org/pub/repos/apt/ `lsb_release -cs`-pgdg main\" |sudo tee  /etc/apt/sources.list.d/pgdg.list\n",
    "!sudo apt-get -y -qq update\n",
    "!sudo apt-get -y -qq install postgresql-11 postgresql-client-11\n",
    "!sudo service postgresql start\n",
    "\n",
    "# Setup a password `postgres` for username `postgres`\n",
    "!sudo -u postgres psql -U postgres -c \"ALTER USER postgres PASSWORD 'postgres';\"\n",
    "\n",
    "# Setup a database with name `donors_choose` to be used\n",
    "!sudo -u postgres psql -U postgres -c 'DROP DATABASE IF EXISTS donors_choose;'\n",
    "\n",
    "!sudo -u postgres psql -U postgres -c 'CREATE DATABASE donors_choose;'\n",
    "\n",
    "# Environment variables for connecting to the database\n",
    "%env DEMO_DATABASE_NAME=donors_choose\n",
    "%env DEMO_DATABASE_HOST=localhost\n",
    "%env DEMO_DATABASE_PORT=5432\n",
    "\n",
    "# Setup a database with name `donors_choose` to be used\n",
    "!sudo -u postgres psql -U postgres -c 'DROP DATABASE IF EXISTS donors_choose;'\n",
    "\n",
    "!sudo -u postgres psql -U postgres -c 'CREATE DATABASE donors_choose;'\n",
    "\n",
    "# Environment variables for connecting to the database\n",
    "%env DEMO_DATABASE_NAME=donors_choose\n",
    "%env DEMO_DATABASE_HOST=localhost\n",
    "%env DEMO_DATABASE_PORT=5432\n",
    "%env DEMO_DATABASE_USER=postgres\n",
    "%env DEMO_DATABASE_PASS=postgres"
   ]
  },
  {
   "cell_type": "code",
   "execution_count": 9,
   "metadata": {
    "colab": {
     "base_uri": "https://localhost:8080/"
    },
    "id": "t4ZA3QYJ8sW3",
    "outputId": "1f60ce9c-aff8-418a-feef-36246dffac37"
   },
   "outputs": [
    {
     "name": "stdout",
     "output_type": "stream",
     "text": [
      "Looking in indexes: https://pypi.org/simple, https://us-python.pkg.dev/colab-wheels/public/simple/\n",
      "Requirement already satisfied: kaggle in /usr/local/lib/python3.8/dist-packages (1.5.12)\n",
      "Requirement already satisfied: python-dateutil in /usr/local/lib/python3.8/dist-packages (from kaggle) (2.8.2)\n",
      "Requirement already satisfied: python-slugify in /usr/local/lib/python3.8/dist-packages (from kaggle) (7.0.0)\n",
      "Requirement already satisfied: urllib3 in /usr/local/lib/python3.8/dist-packages (from kaggle) (1.24.3)\n",
      "Requirement already satisfied: certifi in /usr/local/lib/python3.8/dist-packages (from kaggle) (2022.12.7)\n",
      "Requirement already satisfied: requests in /usr/local/lib/python3.8/dist-packages (from kaggle) (2.25.1)\n",
      "Requirement already satisfied: tqdm in /usr/local/lib/python3.8/dist-packages (from kaggle) (4.64.1)\n",
      "Requirement already satisfied: six>=1.10 in /usr/local/lib/python3.8/dist-packages (from kaggle) (1.15.0)\n",
      "Requirement already satisfied: text-unidecode>=1.3 in /usr/local/lib/python3.8/dist-packages (from python-slugify->kaggle) (1.3)\n",
      "Requirement already satisfied: chardet<5,>=3.0.2 in /usr/local/lib/python3.8/dist-packages (from requests->kaggle) (4.0.0)\n",
      "Requirement already satisfied: idna<3,>=2.5 in /usr/local/lib/python3.8/dist-packages (from requests->kaggle) (2.10)\n",
      "mkdir: cannot create directory ‘/root/.kaggle’: File exists\n",
      "kdd-cup-2014-predicting-excitement-at-donors-choose.zip: Skipping, found more recently modified local copy (use --force to force download)\n"
     ]
    }
   ],
   "source": [
    "!pip install kaggle\n",
    "\n",
    "!mkdir /root/.kaggle\n",
    "!touch /root/.kaggle/kaggle.json\n",
    "api_token = {\"username\":\"ploped123\",\"key\":\"eeeeba8fc52706723e4c1bcf41ae6fd3\"}\n",
    "\n",
    "import json\n",
    "import zipfile\n",
    "import os\n",
    "import pandas as pd\n",
    "with open('/root/.kaggle/kaggle.json', 'w') as file:\n",
    "    json.dump(api_token, file)\n",
    "\n",
    "!chmod 600 /root/.kaggle/kaggle.json\n",
    "\n",
    "!kaggle competitions download -c kdd-cup-2014-predicting-excitement-at-donors-choose"
   ]
  },
  {
   "cell_type": "code",
   "execution_count": 15,
   "metadata": {
    "colab": {
     "base_uri": "https://localhost:8080/"
    },
    "id": "HunBQJMX9gPN",
    "outputId": "49de8115-e18d-468e-8b33-1f9a4e5f9c17"
   },
   "outputs": [
    {
     "name": "stdout",
     "output_type": "stream",
     "text": [
      "kdd-cup-2014-predicting-excitement-at-donors-choose.zip  sample_data\n"
     ]
    }
   ],
   "source": [
    "!ls /content"
   ]
  },
  {
   "cell_type": "code",
   "execution_count": 16,
   "metadata": {
    "colab": {
     "base_uri": "https://localhost:8080/"
    },
    "id": "76VVzgwkKbli",
    "outputId": "f48b5c41-af6e-4a0f-9db3-98ba703e3299"
   },
   "outputs": [
    {
     "name": "stdout",
     "output_type": "stream",
     "text": [
      "Archive:  /content/kdd-cup-2014-predicting-excitement-at-donors-choose.zip\n",
      "  inflating: donations.csv.zip       \n",
      "  inflating: essays.csv.zip          \n",
      "  inflating: outcomes.csv.zip        \n",
      "  inflating: projects.csv.zip        \n",
      "  inflating: resources.csv.zip       \n",
      "  inflating: sampleSubmission.csv.zip  \n"
     ]
    }
   ],
   "source": [
    "!unzip /content/kdd-cup-2014-predicting-excitement-at-donors-choose.zip"
   ]
  },
  {
   "cell_type": "code",
   "execution_count": 17,
   "metadata": {
    "colab": {
     "base_uri": "https://localhost:8080/"
    },
    "id": "mK_ns8iP9jSM",
    "outputId": "9b31e5fe-8b7b-49c9-8273-2e42e0b945da"
   },
   "outputs": [
    {
     "name": "stdout",
     "output_type": "stream",
     "text": [
      "Archive:  /content/donations.csv.zip\n",
      "  inflating: donations.csv           \n"
     ]
    }
   ],
   "source": [
    "!unzip /content/donations.csv.zip"
   ]
  },
  {
   "cell_type": "code",
   "execution_count": 18,
   "metadata": {
    "colab": {
     "base_uri": "https://localhost:8080/"
    },
    "id": "cDEORpu4-Glu",
    "outputId": "9002d22a-f4e0-4943-bfd6-cabb280d35ee"
   },
   "outputs": [
    {
     "name": "stdout",
     "output_type": "stream",
     "text": [
      "Archive:  /content/projects.csv.zip\n",
      "  inflating: projects.csv            \n"
     ]
    }
   ],
   "source": [
    "!unzip /content/projects.csv.zip"
   ]
  },
  {
   "cell_type": "code",
   "execution_count": 19,
   "metadata": {
    "id": "dDwjqJp-92WB"
   },
   "outputs": [],
   "source": [
    "full_donations = pd.read_csv(\"/content/donations.csv\")\n",
    "full_projects = pd.read_csv(\"/content/projects.csv\")"
   ]
  },
  {
   "cell_type": "code",
   "execution_count": 29,
   "metadata": {
    "id": "8LZDfVxULbz8"
   },
   "outputs": [],
   "source": [
    "from datetime import timedelta"
   ]
  },
  {
   "cell_type": "markdown",
   "metadata": {
    "id": "7wEKl_gyM1Eh"
   },
   "source": [
    "## Calculating base rate on full dataset"
   ]
  },
  {
   "cell_type": "code",
   "execution_count": 33,
   "metadata": {
    "id": "GpeZ5PXWLQPV"
   },
   "outputs": [],
   "source": [
    "a = pd.merge(full_projects, full_donations, on=['projectid'], how='left')\n",
    "a['in_4_months'] = (pd.to_datetime(a['donation_timestamp']) - pd.to_datetime(a['date_posted'])) < timedelta(days=120)\n",
    "values = {'donation_to_project': 0.0}\n",
    "a = a.fillna(value=values)\n",
    "a.loc[a['in_4_months'] == False, 'donation_to_project'] = 0.0\n",
    "donation_in_4_months = a.groupby(['projectid'])['donation_to_project'].sum().reset_index(name='donation_in_4_months')\n",
    "df = pd.merge(full_projects, donation_in_4_months, on=['projectid'], how='left')\n"
   ]
  },
  {
   "cell_type": "code",
   "execution_count": 36,
   "metadata": {
    "colab": {
     "base_uri": "https://localhost:8080/"
    },
    "id": "YvIcSIe8LzQK",
    "outputId": "0899ffd2-7184-4411-abb7-03cbbedcc107"
   },
   "outputs": [
    {
     "name": "stdout",
     "output_type": "stream",
     "text": [
      "Baserate % projects fully funded: 0.5480215269433126\n"
     ]
    }
   ],
   "source": [
    "df['if_fully_funded_after_4_months'] = df['total_price_excluding_optional_support'] <= df['donation_in_4_months']\n",
    "df['if_fully_funded_after_4_months'].value_counts()\n",
    "print(\"Baserate % projects fully funded:\", df['if_fully_funded_after_4_months'].mean())"
   ]
  },
  {
   "cell_type": "markdown",
   "metadata": {
    "id": "eOEjyT3_NRW1"
   },
   "source": [
    "# Common Sense analysis on demo data"
   ]
  },
  {
   "cell_type": "code",
   "execution_count": 22,
   "metadata": {
    "id": "ImdiugfVIXcq"
   },
   "outputs": [],
   "source": [
    "!curl -s -OL https://dsapp-public-data-migrated.s3.us-west-2.amazonaws.com/donors_sampled_20210920_v3.dmp\n",
    "!PGPASSWORD=$DEMO_DATABASE_PASS pg_restore -h $DEMO_DATABASE_HOST -p $DEMO_DATABASE_PORT -d $DEMO_DATABASE_NAME -U $DEMO_DATABASE_USER -O -j 8 donors_sampled_20210920_v3.dmp"
   ]
  },
  {
   "cell_type": "code",
   "execution_count": 23,
   "metadata": {
    "colab": {
     "base_uri": "https://localhost:8080/"
    },
    "id": "Uj114AFLIpug",
    "outputId": "5258d151-b908-4315-926b-89cdd9fded8c"
   },
   "outputs": [
    {
     "name": "stdout",
     "output_type": "stream",
     "text": [
      "Looking in indexes: https://pypi.org/simple, https://us-python.pkg.dev/colab-wheels/public/simple/\n",
      "Collecting SQLAlchemy==1.3.18\n",
      "  Downloading SQLAlchemy-1.3.18-cp38-cp38-manylinux2010_x86_64.whl (1.3 MB)\n",
      "\u001b[2K     \u001b[90m━━━━━━━━━━━━━━━━━━━━━━━━━━━━━━━━━━━━━━━━\u001b[0m \u001b[32m1.3/1.3 MB\u001b[0m \u001b[31m17.4 MB/s\u001b[0m eta \u001b[36m0:00:00\u001b[0m\n",
      "\u001b[?25hRequirement already satisfied: PyYAML==6.0 in /usr/local/lib/python3.8/dist-packages (6.0)\n",
      "Collecting psycopg2-binary==2.9.3\n",
      "  Downloading psycopg2_binary-2.9.3-cp38-cp38-manylinux_2_17_x86_64.manylinux2014_x86_64.whl (3.0 MB)\n",
      "\u001b[2K     \u001b[90m━━━━━━━━━━━━━━━━━━━━━━━━━━━━━━━━━━━━━━━━\u001b[0m \u001b[32m3.0/3.0 MB\u001b[0m \u001b[31m57.7 MB/s\u001b[0m eta \u001b[36m0:00:00\u001b[0m\n",
      "\u001b[?25hInstalling collected packages: SQLAlchemy, psycopg2-binary\n",
      "  Attempting uninstall: SQLAlchemy\n",
      "    Found existing installation: SQLAlchemy 1.4.46\n",
      "    Uninstalling SQLAlchemy-1.4.46:\n",
      "      Successfully uninstalled SQLAlchemy-1.4.46\n",
      "Successfully installed SQLAlchemy-1.3.18 psycopg2-binary-2.9.3\n"
     ]
    }
   ],
   "source": [
    "!pip install SQLAlchemy==1.3.18 PyYAML==6.0 psycopg2-binary==2.9.3"
   ]
  },
  {
   "cell_type": "code",
   "execution_count": 24,
   "metadata": {
    "id": "ZIZEHiMpANsU"
   },
   "outputs": [],
   "source": [
    "import pandas as pd\n",
    "pd.set_option('display.max_columns', None)"
   ]
  },
  {
   "cell_type": "code",
   "execution_count": 25,
   "metadata": {
    "id": "JRYwIn-UJI6t"
   },
   "outputs": [],
   "source": [
    "from sqlalchemy.engine.url import URL\n",
    "from sqlalchemy import create_engine\n",
    "\n",
    "db_url = URL(\n",
    "            'postgres',\n",
    "            host='localhost',\n",
    "            username='postgres',\n",
    "            database='donors_choose',\n",
    "            password='postgres',\n",
    "            port=5432,\n",
    "        )\n",
    "\n",
    "db_engine = create_engine(db_url)"
   ]
  },
  {
   "cell_type": "code",
   "execution_count": 37,
   "metadata": {
    "id": "6ImGAwpkvTcP"
   },
   "outputs": [],
   "source": [
    "outcomes_df = pd.read_sql(\"SELECT * FROM data.outcomes\", db_engine)\n",
    "donations_df = pd.read_sql(\"SELECT * FROM data.donations\", db_engine)\n",
    "resources_df = pd.read_sql(\"SELECT * FROM data.resources\", db_engine)"
   ]
  },
  {
   "cell_type": "code",
   "execution_count": 38,
   "metadata": {
    "id": "ZQ8mI1wNVM4T"
   },
   "outputs": [],
   "source": [
    "essays_df = pd.read_sql(\"SELECT * FROM data.essays\", db_engine)\n",
    "ts_df = pd.read_sql(\"SELECT * FROM data.time_series_features\", db_engine)"
   ]
  },
  {
   "cell_type": "code",
   "execution_count": 40,
   "metadata": {
    "colab": {
     "base_uri": "https://localhost:8080/",
     "height": 357
    },
    "id": "4V2iwEAvVoaH",
    "outputId": "d82099c2-dee5-41b2-f37e-2abf0cb9b8ca"
   },
   "outputs": [
    {
     "data": {
      "text/html": [
       "\n",
       "  <div id=\"df-98345da6-3771-4708-9649-40c43a8e4aee\">\n",
       "    <div class=\"colab-df-container\">\n",
       "      <div>\n",
       "<style scoped>\n",
       "    .dataframe tbody tr th:only-of-type {\n",
       "        vertical-align: middle;\n",
       "    }\n",
       "\n",
       "    .dataframe tbody tr th {\n",
       "        vertical-align: top;\n",
       "    }\n",
       "\n",
       "    .dataframe thead th {\n",
       "        text-align: right;\n",
       "    }\n",
       "</style>\n",
       "<table border=\"1\" class=\"dataframe\">\n",
       "  <thead>\n",
       "    <tr style=\"text-align: right;\">\n",
       "      <th></th>\n",
       "      <th>schoolid</th>\n",
       "      <th>projectid_str</th>\n",
       "      <th>teacher_acctid</th>\n",
       "      <th>school_ncesid</th>\n",
       "      <th>school_latitude</th>\n",
       "      <th>school_longitude</th>\n",
       "      <th>school_city</th>\n",
       "      <th>school_state</th>\n",
       "      <th>school_zip</th>\n",
       "      <th>school_metro</th>\n",
       "      <th>school_district</th>\n",
       "      <th>school_county</th>\n",
       "      <th>school_charter</th>\n",
       "      <th>school_magnet</th>\n",
       "      <th>school_year_round</th>\n",
       "      <th>school_nlns</th>\n",
       "      <th>school_kipp</th>\n",
       "      <th>school_charter_ready_promise</th>\n",
       "      <th>teacher_prefix</th>\n",
       "      <th>teacher_teach_for_america</th>\n",
       "      <th>teacher_ny_teaching_fellow</th>\n",
       "      <th>primary_focus_subject</th>\n",
       "      <th>primary_focus_area</th>\n",
       "      <th>secondary_focus_subject</th>\n",
       "      <th>secondary_focus_area</th>\n",
       "      <th>resource_type</th>\n",
       "      <th>poverty_level</th>\n",
       "      <th>grade_level</th>\n",
       "      <th>fulfillment_labor_materials</th>\n",
       "      <th>total_asking_price</th>\n",
       "      <th>total_price_including_optional_support</th>\n",
       "      <th>students_reached</th>\n",
       "      <th>eligible_double_your_impact_match</th>\n",
       "      <th>eligible_almost_home_match</th>\n",
       "      <th>date_posted</th>\n",
       "      <th>entity_id</th>\n",
       "    </tr>\n",
       "  </thead>\n",
       "  <tbody>\n",
       "    <tr>\n",
       "      <th>0</th>\n",
       "      <td>29a2da790e38b6c8a1c70aced6b9c765</td>\n",
       "      <td>30c034618e67d00c641f9b5b7775c0f4</td>\n",
       "      <td>0903da60e148adc6280d55f5d94791a5</td>\n",
       "      <td>192013001182</td>\n",
       "      <td>41.428391</td>\n",
       "      <td>-91.049135</td>\n",
       "      <td>Muscatine</td>\n",
       "      <td>IA</td>\n",
       "      <td>52761</td>\n",
       "      <td>None</td>\n",
       "      <td>Muscatine Cmty School District</td>\n",
       "      <td>Muscatine</td>\n",
       "      <td>False</td>\n",
       "      <td>False</td>\n",
       "      <td>False</td>\n",
       "      <td>False</td>\n",
       "      <td>False</td>\n",
       "      <td>False</td>\n",
       "      <td>Ms.</td>\n",
       "      <td>False</td>\n",
       "      <td>False</td>\n",
       "      <td>Applied Sciences</td>\n",
       "      <td>Math &amp; Science</td>\n",
       "      <td>College &amp; Career Prep</td>\n",
       "      <td>Applied Learning</td>\n",
       "      <td>Supplies</td>\n",
       "      <td>high poverty</td>\n",
       "      <td>Grades 6-8</td>\n",
       "      <td>35.0</td>\n",
       "      <td>511.32</td>\n",
       "      <td>601.55</td>\n",
       "      <td>100</td>\n",
       "      <td>False</td>\n",
       "      <td>False</td>\n",
       "      <td>2012-08-06</td>\n",
       "      <td>234148</td>\n",
       "    </tr>\n",
       "    <tr>\n",
       "      <th>1</th>\n",
       "      <td>06ef48acbdf9b013d4bc4bfc8d328cc1</td>\n",
       "      <td>94199c544d9d2926c1820e5c6cde1eb6</td>\n",
       "      <td>fb340c7ac3b22a5984c6a82602e4a510</td>\n",
       "      <td>450111000143</td>\n",
       "      <td>32.233070</td>\n",
       "      <td>-80.855905</td>\n",
       "      <td>Bluffton</td>\n",
       "      <td>SC</td>\n",
       "      <td>29910</td>\n",
       "      <td>rural</td>\n",
       "      <td>Beaufort Co School District</td>\n",
       "      <td>Beaufort</td>\n",
       "      <td>False</td>\n",
       "      <td>False</td>\n",
       "      <td>False</td>\n",
       "      <td>False</td>\n",
       "      <td>False</td>\n",
       "      <td>False</td>\n",
       "      <td>Ms.</td>\n",
       "      <td>False</td>\n",
       "      <td>False</td>\n",
       "      <td>Literacy</td>\n",
       "      <td>Literacy &amp; Language</td>\n",
       "      <td>ESL</td>\n",
       "      <td>Literacy &amp; Language</td>\n",
       "      <td>Supplies</td>\n",
       "      <td>high poverty</td>\n",
       "      <td>Grades 3-5</td>\n",
       "      <td>35.0</td>\n",
       "      <td>167.43</td>\n",
       "      <td>192.45</td>\n",
       "      <td>40</td>\n",
       "      <td>False</td>\n",
       "      <td>False</td>\n",
       "      <td>2010-07-10</td>\n",
       "      <td>453579</td>\n",
       "    </tr>\n",
       "    <tr>\n",
       "      <th>2</th>\n",
       "      <td>06ef48acbdf9b013d4bc4bfc8d328cc1</td>\n",
       "      <td>61f42f174afef1ed2419ab948a647137</td>\n",
       "      <td>fb340c7ac3b22a5984c6a82602e4a510</td>\n",
       "      <td>450111000143</td>\n",
       "      <td>32.233070</td>\n",
       "      <td>-80.855905</td>\n",
       "      <td>Bluffton</td>\n",
       "      <td>SC</td>\n",
       "      <td>29910</td>\n",
       "      <td>rural</td>\n",
       "      <td>Beaufort Co School District</td>\n",
       "      <td>Beaufort</td>\n",
       "      <td>False</td>\n",
       "      <td>False</td>\n",
       "      <td>False</td>\n",
       "      <td>False</td>\n",
       "      <td>False</td>\n",
       "      <td>False</td>\n",
       "      <td>Ms.</td>\n",
       "      <td>False</td>\n",
       "      <td>False</td>\n",
       "      <td>Literacy</td>\n",
       "      <td>Literacy &amp; Language</td>\n",
       "      <td>Applied Sciences</td>\n",
       "      <td>Math &amp; Science</td>\n",
       "      <td>Other</td>\n",
       "      <td>high poverty</td>\n",
       "      <td>Grades 3-5</td>\n",
       "      <td>35.0</td>\n",
       "      <td>167.43</td>\n",
       "      <td>196.98</td>\n",
       "      <td>45</td>\n",
       "      <td>False</td>\n",
       "      <td>False</td>\n",
       "      <td>2011-06-09</td>\n",
       "      <td>353855</td>\n",
       "    </tr>\n",
       "    <tr>\n",
       "      <th>3</th>\n",
       "      <td>06ef48acbdf9b013d4bc4bfc8d328cc1</td>\n",
       "      <td>c966f5226f42aaaf6b115d7dbaefdea3</td>\n",
       "      <td>e0b5a72f41a376b28db9c2e838a24de5</td>\n",
       "      <td>450111000143</td>\n",
       "      <td>32.233070</td>\n",
       "      <td>-80.855905</td>\n",
       "      <td>Bluffton</td>\n",
       "      <td>SC</td>\n",
       "      <td>29910</td>\n",
       "      <td>rural</td>\n",
       "      <td>Beaufort Co School District</td>\n",
       "      <td>Beaufort</td>\n",
       "      <td>False</td>\n",
       "      <td>False</td>\n",
       "      <td>False</td>\n",
       "      <td>False</td>\n",
       "      <td>False</td>\n",
       "      <td>False</td>\n",
       "      <td>Mrs.</td>\n",
       "      <td>False</td>\n",
       "      <td>False</td>\n",
       "      <td>Literacy</td>\n",
       "      <td>Literacy &amp; Language</td>\n",
       "      <td>Health &amp; Life Science</td>\n",
       "      <td>Math &amp; Science</td>\n",
       "      <td>Other</td>\n",
       "      <td>high poverty</td>\n",
       "      <td>Grades 3-5</td>\n",
       "      <td>35.0</td>\n",
       "      <td>162.14</td>\n",
       "      <td>190.75</td>\n",
       "      <td>25</td>\n",
       "      <td>False</td>\n",
       "      <td>False</td>\n",
       "      <td>2011-06-13</td>\n",
       "      <td>353178</td>\n",
       "    </tr>\n",
       "    <tr>\n",
       "      <th>4</th>\n",
       "      <td>06ef48acbdf9b013d4bc4bfc8d328cc1</td>\n",
       "      <td>69e9c24111daa1e6ba64c6d5538e4df1</td>\n",
       "      <td>32e86c49396707f71fdc0398ab2b844b</td>\n",
       "      <td>450111000143</td>\n",
       "      <td>32.233070</td>\n",
       "      <td>-80.855905</td>\n",
       "      <td>Bluffton</td>\n",
       "      <td>SC</td>\n",
       "      <td>29910</td>\n",
       "      <td>rural</td>\n",
       "      <td>Beaufort Co School District</td>\n",
       "      <td>Beaufort</td>\n",
       "      <td>False</td>\n",
       "      <td>False</td>\n",
       "      <td>False</td>\n",
       "      <td>False</td>\n",
       "      <td>False</td>\n",
       "      <td>False</td>\n",
       "      <td>Mrs.</td>\n",
       "      <td>False</td>\n",
       "      <td>False</td>\n",
       "      <td>History &amp; Geography</td>\n",
       "      <td>History &amp; Civics</td>\n",
       "      <td>Environmental Science</td>\n",
       "      <td>Math &amp; Science</td>\n",
       "      <td>Books</td>\n",
       "      <td>high poverty</td>\n",
       "      <td>Grades 3-5</td>\n",
       "      <td>35.0</td>\n",
       "      <td>381.27</td>\n",
       "      <td>448.55</td>\n",
       "      <td>25</td>\n",
       "      <td>False</td>\n",
       "      <td>False</td>\n",
       "      <td>2012-07-15</td>\n",
       "      <td>239363</td>\n",
       "    </tr>\n",
       "  </tbody>\n",
       "</table>\n",
       "</div>\n",
       "      <button class=\"colab-df-convert\" onclick=\"convertToInteractive('df-98345da6-3771-4708-9649-40c43a8e4aee')\"\n",
       "              title=\"Convert this dataframe to an interactive table.\"\n",
       "              style=\"display:none;\">\n",
       "        \n",
       "  <svg xmlns=\"http://www.w3.org/2000/svg\" height=\"24px\"viewBox=\"0 0 24 24\"\n",
       "       width=\"24px\">\n",
       "    <path d=\"M0 0h24v24H0V0z\" fill=\"none\"/>\n",
       "    <path d=\"M18.56 5.44l.94 2.06.94-2.06 2.06-.94-2.06-.94-.94-2.06-.94 2.06-2.06.94zm-11 1L8.5 8.5l.94-2.06 2.06-.94-2.06-.94L8.5 2.5l-.94 2.06-2.06.94zm10 10l.94 2.06.94-2.06 2.06-.94-2.06-.94-.94-2.06-.94 2.06-2.06.94z\"/><path d=\"M17.41 7.96l-1.37-1.37c-.4-.4-.92-.59-1.43-.59-.52 0-1.04.2-1.43.59L10.3 9.45l-7.72 7.72c-.78.78-.78 2.05 0 2.83L4 21.41c.39.39.9.59 1.41.59.51 0 1.02-.2 1.41-.59l7.78-7.78 2.81-2.81c.8-.78.8-2.07 0-2.86zM5.41 20L4 18.59l7.72-7.72 1.47 1.35L5.41 20z\"/>\n",
       "  </svg>\n",
       "      </button>\n",
       "      \n",
       "  <style>\n",
       "    .colab-df-container {\n",
       "      display:flex;\n",
       "      flex-wrap:wrap;\n",
       "      gap: 12px;\n",
       "    }\n",
       "\n",
       "    .colab-df-convert {\n",
       "      background-color: #E8F0FE;\n",
       "      border: none;\n",
       "      border-radius: 50%;\n",
       "      cursor: pointer;\n",
       "      display: none;\n",
       "      fill: #1967D2;\n",
       "      height: 32px;\n",
       "      padding: 0 0 0 0;\n",
       "      width: 32px;\n",
       "    }\n",
       "\n",
       "    .colab-df-convert:hover {\n",
       "      background-color: #E2EBFA;\n",
       "      box-shadow: 0px 1px 2px rgba(60, 64, 67, 0.3), 0px 1px 3px 1px rgba(60, 64, 67, 0.15);\n",
       "      fill: #174EA6;\n",
       "    }\n",
       "\n",
       "    [theme=dark] .colab-df-convert {\n",
       "      background-color: #3B4455;\n",
       "      fill: #D2E3FC;\n",
       "    }\n",
       "\n",
       "    [theme=dark] .colab-df-convert:hover {\n",
       "      background-color: #434B5C;\n",
       "      box-shadow: 0px 1px 3px 1px rgba(0, 0, 0, 0.15);\n",
       "      filter: drop-shadow(0px 1px 2px rgba(0, 0, 0, 0.3));\n",
       "      fill: #FFFFFF;\n",
       "    }\n",
       "  </style>\n",
       "\n",
       "      <script>\n",
       "        const buttonEl =\n",
       "          document.querySelector('#df-98345da6-3771-4708-9649-40c43a8e4aee button.colab-df-convert');\n",
       "        buttonEl.style.display =\n",
       "          google.colab.kernel.accessAllowed ? 'block' : 'none';\n",
       "\n",
       "        async function convertToInteractive(key) {\n",
       "          const element = document.querySelector('#df-98345da6-3771-4708-9649-40c43a8e4aee');\n",
       "          const dataTable =\n",
       "            await google.colab.kernel.invokeFunction('convertToInteractive',\n",
       "                                                     [key], {});\n",
       "          if (!dataTable) return;\n",
       "\n",
       "          const docLinkHtml = 'Like what you see? Visit the ' +\n",
       "            '<a target=\"_blank\" href=https://colab.research.google.com/notebooks/data_table.ipynb>data table notebook</a>'\n",
       "            + ' to learn more about interactive tables.';\n",
       "          element.innerHTML = '';\n",
       "          dataTable['output_type'] = 'display_data';\n",
       "          await google.colab.output.renderOutput(dataTable, element);\n",
       "          const docLink = document.createElement('div');\n",
       "          docLink.innerHTML = docLinkHtml;\n",
       "          element.appendChild(docLink);\n",
       "        }\n",
       "      </script>\n",
       "    </div>\n",
       "  </div>\n",
       "  "
      ],
      "text/plain": [
       "                           schoolid                     projectid_str  \\\n",
       "0  29a2da790e38b6c8a1c70aced6b9c765  30c034618e67d00c641f9b5b7775c0f4   \n",
       "1  06ef48acbdf9b013d4bc4bfc8d328cc1  94199c544d9d2926c1820e5c6cde1eb6   \n",
       "2  06ef48acbdf9b013d4bc4bfc8d328cc1  61f42f174afef1ed2419ab948a647137   \n",
       "3  06ef48acbdf9b013d4bc4bfc8d328cc1  c966f5226f42aaaf6b115d7dbaefdea3   \n",
       "4  06ef48acbdf9b013d4bc4bfc8d328cc1  69e9c24111daa1e6ba64c6d5538e4df1   \n",
       "\n",
       "                     teacher_acctid school_ncesid  school_latitude  \\\n",
       "0  0903da60e148adc6280d55f5d94791a5  192013001182        41.428391   \n",
       "1  fb340c7ac3b22a5984c6a82602e4a510  450111000143        32.233070   \n",
       "2  fb340c7ac3b22a5984c6a82602e4a510  450111000143        32.233070   \n",
       "3  e0b5a72f41a376b28db9c2e838a24de5  450111000143        32.233070   \n",
       "4  32e86c49396707f71fdc0398ab2b844b  450111000143        32.233070   \n",
       "\n",
       "   school_longitude school_city school_state school_zip school_metro  \\\n",
       "0        -91.049135   Muscatine           IA      52761         None   \n",
       "1        -80.855905    Bluffton           SC      29910        rural   \n",
       "2        -80.855905    Bluffton           SC      29910        rural   \n",
       "3        -80.855905    Bluffton           SC      29910        rural   \n",
       "4        -80.855905    Bluffton           SC      29910        rural   \n",
       "\n",
       "                  school_district school_county  school_charter  \\\n",
       "0  Muscatine Cmty School District     Muscatine           False   \n",
       "1     Beaufort Co School District      Beaufort           False   \n",
       "2     Beaufort Co School District      Beaufort           False   \n",
       "3     Beaufort Co School District      Beaufort           False   \n",
       "4     Beaufort Co School District      Beaufort           False   \n",
       "\n",
       "   school_magnet  school_year_round  school_nlns  school_kipp  \\\n",
       "0          False              False        False        False   \n",
       "1          False              False        False        False   \n",
       "2          False              False        False        False   \n",
       "3          False              False        False        False   \n",
       "4          False              False        False        False   \n",
       "\n",
       "   school_charter_ready_promise teacher_prefix  teacher_teach_for_america  \\\n",
       "0                         False            Ms.                      False   \n",
       "1                         False            Ms.                      False   \n",
       "2                         False            Ms.                      False   \n",
       "3                         False           Mrs.                      False   \n",
       "4                         False           Mrs.                      False   \n",
       "\n",
       "   teacher_ny_teaching_fellow primary_focus_subject   primary_focus_area  \\\n",
       "0                       False      Applied Sciences       Math & Science   \n",
       "1                       False              Literacy  Literacy & Language   \n",
       "2                       False              Literacy  Literacy & Language   \n",
       "3                       False              Literacy  Literacy & Language   \n",
       "4                       False   History & Geography     History & Civics   \n",
       "\n",
       "  secondary_focus_subject secondary_focus_area resource_type poverty_level  \\\n",
       "0   College & Career Prep     Applied Learning      Supplies  high poverty   \n",
       "1                     ESL  Literacy & Language      Supplies  high poverty   \n",
       "2        Applied Sciences       Math & Science         Other  high poverty   \n",
       "3   Health & Life Science       Math & Science         Other  high poverty   \n",
       "4   Environmental Science       Math & Science         Books  high poverty   \n",
       "\n",
       "  grade_level  fulfillment_labor_materials  total_asking_price  \\\n",
       "0  Grades 6-8                         35.0              511.32   \n",
       "1  Grades 3-5                         35.0              167.43   \n",
       "2  Grades 3-5                         35.0              167.43   \n",
       "3  Grades 3-5                         35.0              162.14   \n",
       "4  Grades 3-5                         35.0              381.27   \n",
       "\n",
       "   total_price_including_optional_support  students_reached  \\\n",
       "0                                  601.55               100   \n",
       "1                                  192.45                40   \n",
       "2                                  196.98                45   \n",
       "3                                  190.75                25   \n",
       "4                                  448.55                25   \n",
       "\n",
       "   eligible_double_your_impact_match  eligible_almost_home_match date_posted  \\\n",
       "0                              False                       False  2012-08-06   \n",
       "1                              False                       False  2010-07-10   \n",
       "2                              False                       False  2011-06-09   \n",
       "3                              False                       False  2011-06-13   \n",
       "4                              False                       False  2012-07-15   \n",
       "\n",
       "   entity_id  \n",
       "0     234148  \n",
       "1     453579  \n",
       "2     353855  \n",
       "3     353178  \n",
       "4     239363  "
      ]
     },
     "execution_count": 40,
     "metadata": {},
     "output_type": "execute_result"
    }
   ],
   "source": [
    "projects_df.head()"
   ]
  },
  {
   "cell_type": "code",
   "execution_count": 41,
   "metadata": {
    "colab": {
     "base_uri": "https://localhost:8080/",
     "height": 357
    },
    "id": "p5Vpn86vuv-E",
    "outputId": "feaed8b0-b194-4b18-ad7c-17248e5fa5b5"
   },
   "outputs": [
    {
     "data": {
      "text/html": [
       "\n",
       "  <div id=\"df-1dc25304-d25e-4224-b609-b6d4dd9ff7f9\">\n",
       "    <div class=\"colab-df-container\">\n",
       "      <div>\n",
       "<style scoped>\n",
       "    .dataframe tbody tr th:only-of-type {\n",
       "        vertical-align: middle;\n",
       "    }\n",
       "\n",
       "    .dataframe tbody tr th {\n",
       "        vertical-align: top;\n",
       "    }\n",
       "\n",
       "    .dataframe thead th {\n",
       "        text-align: right;\n",
       "    }\n",
       "</style>\n",
       "<table border=\"1\" class=\"dataframe\">\n",
       "  <thead>\n",
       "    <tr style=\"text-align: right;\">\n",
       "      <th></th>\n",
       "      <th>donationid</th>\n",
       "      <th>projectid_str</th>\n",
       "      <th>donor_acctid</th>\n",
       "      <th>donor_city</th>\n",
       "      <th>donor_state</th>\n",
       "      <th>donor_zip</th>\n",
       "      <th>is_teacher_acct</th>\n",
       "      <th>donation_timestamp</th>\n",
       "      <th>donation_to_project</th>\n",
       "      <th>donation_optional_support</th>\n",
       "      <th>donation_total</th>\n",
       "      <th>dollar_amount</th>\n",
       "      <th>donation_included_optional_support</th>\n",
       "      <th>payment_method</th>\n",
       "      <th>payment_included_acct_creadit</th>\n",
       "      <th>payment_included_campaign_gift_card</th>\n",
       "      <th>payment_included_web_purchased_gift_card</th>\n",
       "      <th>payment_was_promo_matched</th>\n",
       "      <th>via_giving_page</th>\n",
       "      <th>for_honoree</th>\n",
       "      <th>donation_message</th>\n",
       "      <th>entity_id</th>\n",
       "    </tr>\n",
       "  </thead>\n",
       "  <tbody>\n",
       "    <tr>\n",
       "      <th>0</th>\n",
       "      <td>705ef855c2d90eed594cf26e634add93</td>\n",
       "      <td>fb9d9bebbd2309cbd948a03c00ec65b0</td>\n",
       "      <td>112631d2731d90f8ac0ae542d67904fe</td>\n",
       "      <td></td>\n",
       "      <td>None</td>\n",
       "      <td>None</td>\n",
       "      <td>False</td>\n",
       "      <td>2009-11-09 10:49:34.648</td>\n",
       "      <td>41.00</td>\n",
       "      <td>9.00</td>\n",
       "      <td>50.0</td>\n",
       "      <td>10_to_100</td>\n",
       "      <td>True</td>\n",
       "      <td>no_cash_received</td>\n",
       "      <td>False</td>\n",
       "      <td>True</td>\n",
       "      <td>False</td>\n",
       "      <td>False</td>\n",
       "      <td>False</td>\n",
       "      <td>False</td>\n",
       "      <td>None</td>\n",
       "      <td>495172</td>\n",
       "    </tr>\n",
       "    <tr>\n",
       "      <th>1</th>\n",
       "      <td>59b71f584f3516f75d4e98d8acbaa65f</td>\n",
       "      <td>f93456e60338550f3ad7a2a0e87617dd</td>\n",
       "      <td>127936d3a07b33d3012bb23a9464532a</td>\n",
       "      <td>Austin</td>\n",
       "      <td>TX</td>\n",
       "      <td>78704</td>\n",
       "      <td>False</td>\n",
       "      <td>2011-09-02 08:48:01.447</td>\n",
       "      <td>85.00</td>\n",
       "      <td>15.00</td>\n",
       "      <td>100.0</td>\n",
       "      <td>100_and_up</td>\n",
       "      <td>True</td>\n",
       "      <td>paypal</td>\n",
       "      <td>False</td>\n",
       "      <td>False</td>\n",
       "      <td>False</td>\n",
       "      <td>False</td>\n",
       "      <td>True</td>\n",
       "      <td>False</td>\n",
       "      <td>None</td>\n",
       "      <td>336273</td>\n",
       "    </tr>\n",
       "    <tr>\n",
       "      <th>2</th>\n",
       "      <td>8bcc055f586e0343dd8779fdd8ac4775</td>\n",
       "      <td>f7848f096af41049e8dc6af81139d2b6</td>\n",
       "      <td>55223d1a24127d2fcce3a0b45e917b03</td>\n",
       "      <td>Chicago</td>\n",
       "      <td>IL</td>\n",
       "      <td>60093</td>\n",
       "      <td>False</td>\n",
       "      <td>2013-12-01 09:49:55.145</td>\n",
       "      <td>17.00</td>\n",
       "      <td>3.00</td>\n",
       "      <td>20.0</td>\n",
       "      <td>10_to_100</td>\n",
       "      <td>True</td>\n",
       "      <td>amazon</td>\n",
       "      <td>False</td>\n",
       "      <td>False</td>\n",
       "      <td>False</td>\n",
       "      <td>False</td>\n",
       "      <td>False</td>\n",
       "      <td>False</td>\n",
       "      <td>None</td>\n",
       "      <td>99049</td>\n",
       "    </tr>\n",
       "    <tr>\n",
       "      <th>3</th>\n",
       "      <td>3afbbc4257049362dab620251c49a4a0</td>\n",
       "      <td>f3d5ec1500fe57584856d4cce2d66161</td>\n",
       "      <td>88c6f8743b0340853b548404f8de9e5b</td>\n",
       "      <td>None</td>\n",
       "      <td>PR</td>\n",
       "      <td>None</td>\n",
       "      <td>False</td>\n",
       "      <td>2013-05-13 09:41:48.006</td>\n",
       "      <td>4.25</td>\n",
       "      <td>0.75</td>\n",
       "      <td>5.0</td>\n",
       "      <td>under_10</td>\n",
       "      <td>True</td>\n",
       "      <td>no_cash_received</td>\n",
       "      <td>False</td>\n",
       "      <td>True</td>\n",
       "      <td>False</td>\n",
       "      <td>False</td>\n",
       "      <td>False</td>\n",
       "      <td>False</td>\n",
       "      <td>Cause</td>\n",
       "      <td>173719</td>\n",
       "    </tr>\n",
       "    <tr>\n",
       "      <th>4</th>\n",
       "      <td>acf6e26e501def0b285834026459e592</td>\n",
       "      <td>f33b72a6093a64696d3a8e7ef2d0afa7</td>\n",
       "      <td>85e51d426e69e46b785b0225117b7e8b</td>\n",
       "      <td>None</td>\n",
       "      <td>None</td>\n",
       "      <td>None</td>\n",
       "      <td>True</td>\n",
       "      <td>2011-01-11 18:58:57.280</td>\n",
       "      <td>8.50</td>\n",
       "      <td>1.50</td>\n",
       "      <td>10.0</td>\n",
       "      <td>10_to_100</td>\n",
       "      <td>True</td>\n",
       "      <td>creditcard</td>\n",
       "      <td>False</td>\n",
       "      <td>False</td>\n",
       "      <td>False</td>\n",
       "      <td>False</td>\n",
       "      <td>True</td>\n",
       "      <td>False</td>\n",
       "      <td>None</td>\n",
       "      <td>395246</td>\n",
       "    </tr>\n",
       "  </tbody>\n",
       "</table>\n",
       "</div>\n",
       "      <button class=\"colab-df-convert\" onclick=\"convertToInteractive('df-1dc25304-d25e-4224-b609-b6d4dd9ff7f9')\"\n",
       "              title=\"Convert this dataframe to an interactive table.\"\n",
       "              style=\"display:none;\">\n",
       "        \n",
       "  <svg xmlns=\"http://www.w3.org/2000/svg\" height=\"24px\"viewBox=\"0 0 24 24\"\n",
       "       width=\"24px\">\n",
       "    <path d=\"M0 0h24v24H0V0z\" fill=\"none\"/>\n",
       "    <path d=\"M18.56 5.44l.94 2.06.94-2.06 2.06-.94-2.06-.94-.94-2.06-.94 2.06-2.06.94zm-11 1L8.5 8.5l.94-2.06 2.06-.94-2.06-.94L8.5 2.5l-.94 2.06-2.06.94zm10 10l.94 2.06.94-2.06 2.06-.94-2.06-.94-.94-2.06-.94 2.06-2.06.94z\"/><path d=\"M17.41 7.96l-1.37-1.37c-.4-.4-.92-.59-1.43-.59-.52 0-1.04.2-1.43.59L10.3 9.45l-7.72 7.72c-.78.78-.78 2.05 0 2.83L4 21.41c.39.39.9.59 1.41.59.51 0 1.02-.2 1.41-.59l7.78-7.78 2.81-2.81c.8-.78.8-2.07 0-2.86zM5.41 20L4 18.59l7.72-7.72 1.47 1.35L5.41 20z\"/>\n",
       "  </svg>\n",
       "      </button>\n",
       "      \n",
       "  <style>\n",
       "    .colab-df-container {\n",
       "      display:flex;\n",
       "      flex-wrap:wrap;\n",
       "      gap: 12px;\n",
       "    }\n",
       "\n",
       "    .colab-df-convert {\n",
       "      background-color: #E8F0FE;\n",
       "      border: none;\n",
       "      border-radius: 50%;\n",
       "      cursor: pointer;\n",
       "      display: none;\n",
       "      fill: #1967D2;\n",
       "      height: 32px;\n",
       "      padding: 0 0 0 0;\n",
       "      width: 32px;\n",
       "    }\n",
       "\n",
       "    .colab-df-convert:hover {\n",
       "      background-color: #E2EBFA;\n",
       "      box-shadow: 0px 1px 2px rgba(60, 64, 67, 0.3), 0px 1px 3px 1px rgba(60, 64, 67, 0.15);\n",
       "      fill: #174EA6;\n",
       "    }\n",
       "\n",
       "    [theme=dark] .colab-df-convert {\n",
       "      background-color: #3B4455;\n",
       "      fill: #D2E3FC;\n",
       "    }\n",
       "\n",
       "    [theme=dark] .colab-df-convert:hover {\n",
       "      background-color: #434B5C;\n",
       "      box-shadow: 0px 1px 3px 1px rgba(0, 0, 0, 0.15);\n",
       "      filter: drop-shadow(0px 1px 2px rgba(0, 0, 0, 0.3));\n",
       "      fill: #FFFFFF;\n",
       "    }\n",
       "  </style>\n",
       "\n",
       "      <script>\n",
       "        const buttonEl =\n",
       "          document.querySelector('#df-1dc25304-d25e-4224-b609-b6d4dd9ff7f9 button.colab-df-convert');\n",
       "        buttonEl.style.display =\n",
       "          google.colab.kernel.accessAllowed ? 'block' : 'none';\n",
       "\n",
       "        async function convertToInteractive(key) {\n",
       "          const element = document.querySelector('#df-1dc25304-d25e-4224-b609-b6d4dd9ff7f9');\n",
       "          const dataTable =\n",
       "            await google.colab.kernel.invokeFunction('convertToInteractive',\n",
       "                                                     [key], {});\n",
       "          if (!dataTable) return;\n",
       "\n",
       "          const docLinkHtml = 'Like what you see? Visit the ' +\n",
       "            '<a target=\"_blank\" href=https://colab.research.google.com/notebooks/data_table.ipynb>data table notebook</a>'\n",
       "            + ' to learn more about interactive tables.';\n",
       "          element.innerHTML = '';\n",
       "          dataTable['output_type'] = 'display_data';\n",
       "          await google.colab.output.renderOutput(dataTable, element);\n",
       "          const docLink = document.createElement('div');\n",
       "          docLink.innerHTML = docLinkHtml;\n",
       "          element.appendChild(docLink);\n",
       "        }\n",
       "      </script>\n",
       "    </div>\n",
       "  </div>\n",
       "  "
      ],
      "text/plain": [
       "                         donationid                     projectid_str  \\\n",
       "0  705ef855c2d90eed594cf26e634add93  fb9d9bebbd2309cbd948a03c00ec65b0   \n",
       "1  59b71f584f3516f75d4e98d8acbaa65f  f93456e60338550f3ad7a2a0e87617dd   \n",
       "2  8bcc055f586e0343dd8779fdd8ac4775  f7848f096af41049e8dc6af81139d2b6   \n",
       "3  3afbbc4257049362dab620251c49a4a0  f3d5ec1500fe57584856d4cce2d66161   \n",
       "4  acf6e26e501def0b285834026459e592  f33b72a6093a64696d3a8e7ef2d0afa7   \n",
       "\n",
       "                       donor_acctid donor_city donor_state donor_zip  \\\n",
       "0  112631d2731d90f8ac0ae542d67904fe                   None      None   \n",
       "1  127936d3a07b33d3012bb23a9464532a     Austin          TX     78704   \n",
       "2  55223d1a24127d2fcce3a0b45e917b03    Chicago          IL     60093   \n",
       "3  88c6f8743b0340853b548404f8de9e5b       None          PR      None   \n",
       "4  85e51d426e69e46b785b0225117b7e8b       None        None      None   \n",
       "\n",
       "   is_teacher_acct      donation_timestamp  donation_to_project  \\\n",
       "0            False 2009-11-09 10:49:34.648                41.00   \n",
       "1            False 2011-09-02 08:48:01.447                85.00   \n",
       "2            False 2013-12-01 09:49:55.145                17.00   \n",
       "3            False 2013-05-13 09:41:48.006                 4.25   \n",
       "4             True 2011-01-11 18:58:57.280                 8.50   \n",
       "\n",
       "   donation_optional_support  donation_total dollar_amount  \\\n",
       "0                       9.00            50.0     10_to_100   \n",
       "1                      15.00           100.0    100_and_up   \n",
       "2                       3.00            20.0     10_to_100   \n",
       "3                       0.75             5.0      under_10   \n",
       "4                       1.50            10.0     10_to_100   \n",
       "\n",
       "   donation_included_optional_support    payment_method  \\\n",
       "0                                True  no_cash_received   \n",
       "1                                True            paypal   \n",
       "2                                True            amazon   \n",
       "3                                True  no_cash_received   \n",
       "4                                True        creditcard   \n",
       "\n",
       "   payment_included_acct_creadit  payment_included_campaign_gift_card  \\\n",
       "0                          False                                 True   \n",
       "1                          False                                False   \n",
       "2                          False                                False   \n",
       "3                          False                                 True   \n",
       "4                          False                                False   \n",
       "\n",
       "   payment_included_web_purchased_gift_card  payment_was_promo_matched  \\\n",
       "0                                     False                      False   \n",
       "1                                     False                      False   \n",
       "2                                     False                      False   \n",
       "3                                     False                      False   \n",
       "4                                     False                      False   \n",
       "\n",
       "   via_giving_page  for_honoree donation_message  entity_id  \n",
       "0            False        False             None     495172  \n",
       "1             True        False             None     336273  \n",
       "2            False        False             None      99049  \n",
       "3            False        False            Cause     173719  \n",
       "4             True        False             None     395246  "
      ]
     },
     "execution_count": 41,
     "metadata": {},
     "output_type": "execute_result"
    }
   ],
   "source": [
    "donations_df.head()"
   ]
  },
  {
   "cell_type": "code",
   "execution_count": 42,
   "metadata": {
    "colab": {
     "base_uri": "https://localhost:8080/",
     "height": 305
    },
    "id": "lgU9lymO-UvW",
    "outputId": "704f0758-5851-4cf9-840b-02420d492abb"
   },
   "outputs": [
    {
     "data": {
      "text/html": [
       "\n",
       "  <div id=\"df-2190f09e-332b-4614-b53e-223f97220db2\">\n",
       "    <div class=\"colab-df-container\">\n",
       "      <div>\n",
       "<style scoped>\n",
       "    .dataframe tbody tr th:only-of-type {\n",
       "        vertical-align: middle;\n",
       "    }\n",
       "\n",
       "    .dataframe tbody tr th {\n",
       "        vertical-align: top;\n",
       "    }\n",
       "\n",
       "    .dataframe thead th {\n",
       "        text-align: right;\n",
       "    }\n",
       "</style>\n",
       "<table border=\"1\" class=\"dataframe\">\n",
       "  <thead>\n",
       "    <tr style=\"text-align: right;\">\n",
       "      <th></th>\n",
       "      <th>resourceid</th>\n",
       "      <th>projectid_str</th>\n",
       "      <th>vendorid</th>\n",
       "      <th>vendor_name</th>\n",
       "      <th>project_resource_type</th>\n",
       "      <th>item_name</th>\n",
       "      <th>item_number</th>\n",
       "      <th>item_unit_price</th>\n",
       "      <th>item_quantity</th>\n",
       "      <th>entity_id</th>\n",
       "      <th>date_posted</th>\n",
       "    </tr>\n",
       "  </thead>\n",
       "  <tbody>\n",
       "    <tr>\n",
       "      <th>0</th>\n",
       "      <td>202d2fe1164630c3e18623345650175d</td>\n",
       "      <td>0000fa3aa8f6649abab23615b546016d</td>\n",
       "      <td>7</td>\n",
       "      <td>AKJ Books</td>\n",
       "      <td>Books</td>\n",
       "      <td>Soft Rain</td>\n",
       "      <td>9780440412427</td>\n",
       "      <td>4.43</td>\n",
       "      <td>30.0</td>\n",
       "      <td>255654</td>\n",
       "      <td>2012-04-07</td>\n",
       "    </tr>\n",
       "    <tr>\n",
       "      <th>1</th>\n",
       "      <td>f0fa19ae0953d19e8ec670309fc8da72</td>\n",
       "      <td>071c87944d727b6dff382271125ff669</td>\n",
       "      <td>None</td>\n",
       "      <td>None</td>\n",
       "      <td>Trips</td>\n",
       "      <td>None</td>\n",
       "      <td>None</td>\n",
       "      <td>NaN</td>\n",
       "      <td>NaN</td>\n",
       "      <td>218307</td>\n",
       "      <td>2012-09-14</td>\n",
       "    </tr>\n",
       "    <tr>\n",
       "      <th>2</th>\n",
       "      <td>7ac0367031ced1660b7ce7bc903a29b1</td>\n",
       "      <td>07b961fee8623e35526bc6168d2911e9</td>\n",
       "      <td>7</td>\n",
       "      <td>AKJ Books</td>\n",
       "      <td>Books</td>\n",
       "      <td>The Purple Balloon</td>\n",
       "      <td>9780375841460</td>\n",
       "      <td>13.25</td>\n",
       "      <td>1.0</td>\n",
       "      <td>376890</td>\n",
       "      <td>2011-03-06</td>\n",
       "    </tr>\n",
       "    <tr>\n",
       "      <th>3</th>\n",
       "      <td>40d597c5b2889f95e37ad3d795dece16</td>\n",
       "      <td>0859ba7d65068d8028b7b8a06c6a3f8c</td>\n",
       "      <td>None</td>\n",
       "      <td>None</td>\n",
       "      <td>Trips</td>\n",
       "      <td>None</td>\n",
       "      <td>None</td>\n",
       "      <td>NaN</td>\n",
       "      <td>NaN</td>\n",
       "      <td>604216</td>\n",
       "      <td>2007-11-08</td>\n",
       "    </tr>\n",
       "    <tr>\n",
       "      <th>4</th>\n",
       "      <td>51e72dfc8c2b4c1a51045b2c3ccd5579</td>\n",
       "      <td>0aca0bb0e24f7b3731ce6af5321628d7</td>\n",
       "      <td>7</td>\n",
       "      <td>AKJ Books</td>\n",
       "      <td>Supplies</td>\n",
       "      <td>Graffiti Women</td>\n",
       "      <td>9780810957473</td>\n",
       "      <td>25.55</td>\n",
       "      <td>1.0</td>\n",
       "      <td>88543</td>\n",
       "      <td>2013-10-03</td>\n",
       "    </tr>\n",
       "  </tbody>\n",
       "</table>\n",
       "</div>\n",
       "      <button class=\"colab-df-convert\" onclick=\"convertToInteractive('df-2190f09e-332b-4614-b53e-223f97220db2')\"\n",
       "              title=\"Convert this dataframe to an interactive table.\"\n",
       "              style=\"display:none;\">\n",
       "        \n",
       "  <svg xmlns=\"http://www.w3.org/2000/svg\" height=\"24px\"viewBox=\"0 0 24 24\"\n",
       "       width=\"24px\">\n",
       "    <path d=\"M0 0h24v24H0V0z\" fill=\"none\"/>\n",
       "    <path d=\"M18.56 5.44l.94 2.06.94-2.06 2.06-.94-2.06-.94-.94-2.06-.94 2.06-2.06.94zm-11 1L8.5 8.5l.94-2.06 2.06-.94-2.06-.94L8.5 2.5l-.94 2.06-2.06.94zm10 10l.94 2.06.94-2.06 2.06-.94-2.06-.94-.94-2.06-.94 2.06-2.06.94z\"/><path d=\"M17.41 7.96l-1.37-1.37c-.4-.4-.92-.59-1.43-.59-.52 0-1.04.2-1.43.59L10.3 9.45l-7.72 7.72c-.78.78-.78 2.05 0 2.83L4 21.41c.39.39.9.59 1.41.59.51 0 1.02-.2 1.41-.59l7.78-7.78 2.81-2.81c.8-.78.8-2.07 0-2.86zM5.41 20L4 18.59l7.72-7.72 1.47 1.35L5.41 20z\"/>\n",
       "  </svg>\n",
       "      </button>\n",
       "      \n",
       "  <style>\n",
       "    .colab-df-container {\n",
       "      display:flex;\n",
       "      flex-wrap:wrap;\n",
       "      gap: 12px;\n",
       "    }\n",
       "\n",
       "    .colab-df-convert {\n",
       "      background-color: #E8F0FE;\n",
       "      border: none;\n",
       "      border-radius: 50%;\n",
       "      cursor: pointer;\n",
       "      display: none;\n",
       "      fill: #1967D2;\n",
       "      height: 32px;\n",
       "      padding: 0 0 0 0;\n",
       "      width: 32px;\n",
       "    }\n",
       "\n",
       "    .colab-df-convert:hover {\n",
       "      background-color: #E2EBFA;\n",
       "      box-shadow: 0px 1px 2px rgba(60, 64, 67, 0.3), 0px 1px 3px 1px rgba(60, 64, 67, 0.15);\n",
       "      fill: #174EA6;\n",
       "    }\n",
       "\n",
       "    [theme=dark] .colab-df-convert {\n",
       "      background-color: #3B4455;\n",
       "      fill: #D2E3FC;\n",
       "    }\n",
       "\n",
       "    [theme=dark] .colab-df-convert:hover {\n",
       "      background-color: #434B5C;\n",
       "      box-shadow: 0px 1px 3px 1px rgba(0, 0, 0, 0.15);\n",
       "      filter: drop-shadow(0px 1px 2px rgba(0, 0, 0, 0.3));\n",
       "      fill: #FFFFFF;\n",
       "    }\n",
       "  </style>\n",
       "\n",
       "      <script>\n",
       "        const buttonEl =\n",
       "          document.querySelector('#df-2190f09e-332b-4614-b53e-223f97220db2 button.colab-df-convert');\n",
       "        buttonEl.style.display =\n",
       "          google.colab.kernel.accessAllowed ? 'block' : 'none';\n",
       "\n",
       "        async function convertToInteractive(key) {\n",
       "          const element = document.querySelector('#df-2190f09e-332b-4614-b53e-223f97220db2');\n",
       "          const dataTable =\n",
       "            await google.colab.kernel.invokeFunction('convertToInteractive',\n",
       "                                                     [key], {});\n",
       "          if (!dataTable) return;\n",
       "\n",
       "          const docLinkHtml = 'Like what you see? Visit the ' +\n",
       "            '<a target=\"_blank\" href=https://colab.research.google.com/notebooks/data_table.ipynb>data table notebook</a>'\n",
       "            + ' to learn more about interactive tables.';\n",
       "          element.innerHTML = '';\n",
       "          dataTable['output_type'] = 'display_data';\n",
       "          await google.colab.output.renderOutput(dataTable, element);\n",
       "          const docLink = document.createElement('div');\n",
       "          docLink.innerHTML = docLinkHtml;\n",
       "          element.appendChild(docLink);\n",
       "        }\n",
       "      </script>\n",
       "    </div>\n",
       "  </div>\n",
       "  "
      ],
      "text/plain": [
       "                         resourceid                     projectid_str  \\\n",
       "0  202d2fe1164630c3e18623345650175d  0000fa3aa8f6649abab23615b546016d   \n",
       "1  f0fa19ae0953d19e8ec670309fc8da72  071c87944d727b6dff382271125ff669   \n",
       "2  7ac0367031ced1660b7ce7bc903a29b1  07b961fee8623e35526bc6168d2911e9   \n",
       "3  40d597c5b2889f95e37ad3d795dece16  0859ba7d65068d8028b7b8a06c6a3f8c   \n",
       "4  51e72dfc8c2b4c1a51045b2c3ccd5579  0aca0bb0e24f7b3731ce6af5321628d7   \n",
       "\n",
       "  vendorid vendor_name project_resource_type           item_name  \\\n",
       "0        7   AKJ Books                 Books           Soft Rain   \n",
       "1     None        None                 Trips                None   \n",
       "2        7   AKJ Books                 Books  The Purple Balloon   \n",
       "3     None        None                 Trips                None   \n",
       "4        7   AKJ Books              Supplies      Graffiti Women   \n",
       "\n",
       "     item_number  item_unit_price  item_quantity  entity_id date_posted  \n",
       "0  9780440412427             4.43           30.0     255654  2012-04-07  \n",
       "1           None              NaN            NaN     218307  2012-09-14  \n",
       "2  9780375841460            13.25            1.0     376890  2011-03-06  \n",
       "3           None              NaN            NaN     604216  2007-11-08  \n",
       "4  9780810957473            25.55            1.0      88543  2013-10-03  "
      ]
     },
     "execution_count": 42,
     "metadata": {},
     "output_type": "execute_result"
    }
   ],
   "source": [
    "resources_df.head()"
   ]
  },
  {
   "cell_type": "code",
   "execution_count": 43,
   "metadata": {
    "colab": {
     "base_uri": "https://localhost:8080/"
    },
    "id": "xqVjpHbyOJsO",
    "outputId": "e2aa66c4-adfe-4fcd-f2a0-02100e06ec5e"
   },
   "outputs": [
    {
     "name": "stderr",
     "output_type": "stream",
     "text": [
      "<ipython-input-43-8b090f1a4ccb>:1: FutureWarning: Treating datetime data as categorical rather than numeric in `.describe` is deprecated and will be removed in a future version of pandas. Specify `datetime_is_numeric=True` to silence this warning and adopt the future behavior now.\n",
      "  projects_df['date_posted'].describe()\n"
     ]
    },
    {
     "data": {
      "text/plain": [
       "count                   16480\n",
       "unique                   2815\n",
       "top       2014-02-23 00:00:00\n",
       "freq                       53\n",
       "first     2002-09-19 00:00:00\n",
       "last      2014-05-11 00:00:00\n",
       "Name: date_posted, dtype: object"
      ]
     },
     "execution_count": 43,
     "metadata": {},
     "output_type": "execute_result"
    }
   ],
   "source": [
    "projects_df['date_posted'].describe()"
   ]
  },
  {
   "cell_type": "markdown",
   "metadata": {
    "id": "ZZsQU5fyOP5-"
   },
   "source": [
    "We have data spanning around 12 years, so we can use feature and label constructions that require several months of feature and label availability and only lose a small portion of the data."
   ]
  },
  {
   "cell_type": "code",
   "execution_count": 44,
   "metadata": {
    "id": "tJ-rvHxWWu95"
   },
   "outputs": [],
   "source": [
    "from datetime import timedelta\n",
    "import numpy as np"
   ]
  },
  {
   "cell_type": "code",
   "execution_count": 45,
   "metadata": {
    "id": "-IcY7wiLYPzF"
   },
   "outputs": [],
   "source": [
    "project_donations = {}\n",
    "project_requests = {}\n",
    "project_postedts = {}\n",
    "for i in range(len(projects_df)):\n",
    "  project_donations[projects_df.iloc[i]['projectid_str']] = 0\n",
    "  project_requests[projects_df.iloc[i]['projectid_str']] = projects_df.iloc[i]['total_asking_price'] \n",
    "  project_postedts[projects_df.iloc[i]['projectid_str']] = projects_df.iloc[i]['date_posted']\n",
    "\n",
    "for i in range(len(donations_df)):\n",
    "  project = donations_df.iloc[i]['projectid_str']\n",
    "  donation_ts = donations_df.iloc[i]['donation_timestamp']\n",
    "  posted_ts = project_postedts[project]\n",
    "  if donation_ts - posted_ts > timedelta(days = 120):\n",
    "    continue\n",
    "  project_donations[project] += donations_df.iloc[i]['donation_to_project']"
   ]
  },
  {
   "cell_type": "code",
   "execution_count": 46,
   "metadata": {
    "id": "3PaCXUkdVd7t"
   },
   "outputs": [],
   "source": [
    "project_funded = {}\n",
    "for project in project_requests:\n",
    "  if project_donations[project] >= project_requests[project]:\n",
    "    project_funded[project] = 1\n",
    "  else:\n",
    "    project_funded[project] = 0"
   ]
  },
  {
   "cell_type": "code",
   "execution_count": 47,
   "metadata": {
    "id": "YFqwqLfQk1-0"
   },
   "outputs": [],
   "source": [
    "essays_df['essay_length'] = essays_df['essay'].str.len()\n",
    "essays_df['need_length'] = essays_df['need_statement'].str.len()\n",
    "essays_df['title_length'] = essays_df['title'].str.len()"
   ]
  },
  {
   "cell_type": "code",
   "execution_count": 49,
   "metadata": {
    "id": "HYIEO-QEXNDD"
   },
   "outputs": [],
   "source": [
    "labeled_df = projects_df.merge(pd.DataFrame.from_dict({'projectid_str': project_funded.keys(), 'fully_funded_4mo': project_funded.values()}), on=['projectid_str'])\n",
    "labeled_df = labeled_df.merge(essays_df, on = ['projectid_str'], how = 'inner').dropna(subset = ['need_length'])"
   ]
  },
  {
   "cell_type": "code",
   "execution_count": 50,
   "metadata": {
    "colab": {
     "base_uri": "https://localhost:8080/"
    },
    "id": "2fuF7oxdl0l8",
    "outputId": "464bfbde-79c6-4e98-e527-f7bc6c138e55"
   },
   "outputs": [
    {
     "data": {
      "text/plain": [
       "count    16474.000000\n",
       "mean       123.577941\n",
       "std         64.897064\n",
       "min         23.000000\n",
       "25%         82.000000\n",
       "50%        113.000000\n",
       "75%        153.000000\n",
       "max       1124.000000\n",
       "Name: need_length, dtype: float64"
      ]
     },
     "execution_count": 50,
     "metadata": {},
     "output_type": "execute_result"
    }
   ],
   "source": [
    "labeled_df['need_length'].describe()"
   ]
  },
  {
   "cell_type": "code",
   "execution_count": 53,
   "metadata": {
    "colab": {
     "base_uri": "https://localhost:8080/"
    },
    "id": "fKqkFxTojU3q",
    "outputId": "021c0e0b-aadd-43d5-e9b0-c5ad8881b1c0"
   },
   "outputs": [
    {
     "data": {
      "text/plain": [
       "0.5295010319291004"
      ]
     },
     "execution_count": 53,
     "metadata": {},
     "output_type": "execute_result"
    }
   ],
   "source": [
    "# Baseline Probability of a project being fully funded in 4 months\n",
    "labeled_df['fully_funded_4mo'].mean()"
   ]
  },
  {
   "cell_type": "code",
   "execution_count": 54,
   "metadata": {
    "colab": {
     "base_uri": "https://localhost:8080/"
    },
    "id": "474YkuSNa1_t",
    "outputId": "dc14f342-b1ef-4069-fa33-90b5506b62eb"
   },
   "outputs": [
    {
     "data": {
      "text/plain": [
       "0.03547896838427393"
      ]
     },
     "execution_count": 54,
     "metadata": {},
     "output_type": "execute_result"
    }
   ],
   "source": [
    "# Projects farther North are more likely to be funded\n",
    "np.corrcoef(labeled_df['school_latitude'], labeled_df['fully_funded_4mo'])[0,1]"
   ]
  },
  {
   "cell_type": "code",
   "execution_count": 55,
   "metadata": {
    "colab": {
     "base_uri": "https://localhost:8080/"
    },
    "id": "1mMg86lZkISd",
    "outputId": "4e589615-3a55-41fa-87d3-3dd3e0f2b29a"
   },
   "outputs": [
    {
     "data": {
      "text/plain": [
       "-0.05465138145314809"
      ]
     },
     "execution_count": 55,
     "metadata": {},
     "output_type": "execute_result"
    }
   ],
   "source": [
    "# Projects farther East are more likely to be funded\n",
    "np.corrcoef(labeled_df['school_longitude'], labeled_df['fully_funded_4mo'])[0,1]"
   ]
  },
  {
   "cell_type": "code",
   "execution_count": 56,
   "metadata": {
    "colab": {
     "base_uri": "https://localhost:8080/"
    },
    "id": "_zdoEjKskhkl",
    "outputId": "7ea98553-92eb-4c77-8bac-7fa67a525931"
   },
   "outputs": [
    {
     "data": {
      "text/plain": [
       "-0.11264815601741877"
      ]
     },
     "execution_count": 56,
     "metadata": {},
     "output_type": "execute_result"
    }
   ],
   "source": [
    "# Projects with smaller requested amounts are more likely to be funded\n",
    "np.corrcoef(labeled_df['total_asking_price'], labeled_df['fully_funded_4mo'])[0,1]"
   ]
  },
  {
   "cell_type": "code",
   "execution_count": 57,
   "metadata": {
    "colab": {
     "base_uri": "https://localhost:8080/"
    },
    "id": "SGXGjMnZkoaX",
    "outputId": "af01bde2-d900-476e-ee3c-0d5bae1a5e51"
   },
   "outputs": [
    {
     "data": {
      "text/plain": [
       "-0.008562035307620421"
      ]
     },
     "execution_count": 57,
     "metadata": {},
     "output_type": "execute_result"
    }
   ],
   "source": [
    "# Weak correlation between number of students reached and probability of funding\n",
    "np.corrcoef(labeled_df['students_reached'], labeled_df['fully_funded_4mo'])[0,1]"
   ]
  },
  {
   "cell_type": "code",
   "execution_count": 58,
   "metadata": {
    "colab": {
     "base_uri": "https://localhost:8080/"
    },
    "id": "qlg9hWWtlYDR",
    "outputId": "6f2deeae-1fc7-4ba4-8205-4f7d2887dccd"
   },
   "outputs": [
    {
     "data": {
      "text/plain": [
       "0.0381443858355917"
      ]
     },
     "execution_count": 58,
     "metadata": {},
     "output_type": "execute_result"
    }
   ],
   "source": [
    "# Longer titles positively correlated with full funding\n",
    "np.corrcoef(labeled_df['title_length'], labeled_df['fully_funded_4mo'])[0,1]"
   ]
  },
  {
   "cell_type": "code",
   "execution_count": 59,
   "metadata": {
    "colab": {
     "base_uri": "https://localhost:8080/"
    },
    "id": "O5jgw1UflaqT",
    "outputId": "c0fe059e-2e8e-4c9f-cd7f-5733dd3ed005"
   },
   "outputs": [
    {
     "data": {
      "text/plain": [
       "0.027217687745323516"
      ]
     },
     "execution_count": 59,
     "metadata": {},
     "output_type": "execute_result"
    }
   ],
   "source": [
    "np.corrcoef(labeled_df['need_length'], labeled_df['fully_funded_4mo'])[0,1]"
   ]
  },
  {
   "cell_type": "code",
   "execution_count": 60,
   "metadata": {
    "colab": {
     "base_uri": "https://localhost:8080/"
    },
    "id": "CJUKY0t9leYL",
    "outputId": "af5875c1-c38d-4f86-a53b-8f5b3627bb3e"
   },
   "outputs": [
    {
     "data": {
      "text/plain": [
       "0.009384998757455482"
      ]
     },
     "execution_count": 60,
     "metadata": {},
     "output_type": "execute_result"
    }
   ],
   "source": [
    "np.corrcoef(labeled_df['essay_length'], labeled_df['fully_funded_4mo'])[0,1]"
   ]
  },
  {
   "cell_type": "markdown",
   "metadata": {
    "id": "pMXXaqeya3qE"
   },
   "source": [
    "Many features of interest are categorical in nature and computing correlations between these features and the binary target isn't trivial.  To determine potentially informative categorical features, we can one hot encode the categories and calculate the empirical probability of funding given a sample in that category.  Variables where different categories have dramatically different empirical probabilities are most likely to be predictive, which we can quantify with mean absolute devation of each category's label mean."
   ]
  },
  {
   "cell_type": "code",
   "execution_count": 61,
   "metadata": {
    "colab": {
     "base_uri": "https://localhost:8080/"
    },
    "id": "hmyGVD-xamBZ",
    "outputId": "cabf7f1b-7966-4904-acda-3c9600db032f"
   },
   "outputs": [
    {
     "data": {
      "text/plain": [
       "array(['high poverty', 'highest poverty', 'moderate poverty',\n",
       "       'low poverty'], dtype=object)"
      ]
     },
     "execution_count": 61,
     "metadata": {},
     "output_type": "execute_result"
    }
   ],
   "source": [
    "labeled_df['poverty_level'].unique()"
   ]
  },
  {
   "cell_type": "code",
   "execution_count": 62,
   "metadata": {
    "colab": {
     "base_uri": "https://localhost:8080/"
    },
    "id": "eLLX85I0b0_Y",
    "outputId": "3e4687dc-03cd-4f9a-9228-74fc0ed91dfc"
   },
   "outputs": [
    {
     "data": {
      "text/plain": [
       "poverty_level\n",
       "high poverty        0.494591\n",
       "highest poverty     0.560631\n",
       "low poverty         0.514045\n",
       "moderate poverty    0.458333\n",
       "Name: fully_funded_4mo, dtype: float64"
      ]
     },
     "execution_count": 62,
     "metadata": {},
     "output_type": "execute_result"
    }
   ],
   "source": [
    "labeled_df.groupby('poverty_level').mean()['fully_funded_4mo']"
   ]
  },
  {
   "cell_type": "code",
   "execution_count": 63,
   "metadata": {
    "colab": {
     "base_uri": "https://localhost:8080/"
    },
    "id": "bcoFpWLBi8vH",
    "outputId": "826f992c-894e-447c-e80c-638cf70a1453"
   },
   "outputs": [
    {
     "data": {
      "text/plain": [
       "grade_level\n",
       "Grades 3-5       0.513767\n",
       "Grades 6-8       0.543106\n",
       "Grades 9-12      0.568407\n",
       "Grades PreK-2    0.514017\n",
       "Name: fully_funded_4mo, dtype: float64"
      ]
     },
     "execution_count": 63,
     "metadata": {},
     "output_type": "execute_result"
    }
   ],
   "source": [
    "labeled_df.groupby('grade_level').mean()['fully_funded_4mo']"
   ]
  },
  {
   "cell_type": "code",
   "execution_count": 64,
   "metadata": {
    "colab": {
     "base_uri": "https://localhost:8080/"
    },
    "id": "u3IXrJhvjAmL",
    "outputId": "8c580ccf-8d33-4e9d-acce-48f5806d4f48"
   },
   "outputs": [
    {
     "data": {
      "text/plain": [
       "teacher_prefix\n",
       "Mr.     0.561348\n",
       "Mrs.    0.496842\n",
       "Ms.     0.557627\n",
       "Name: fully_funded_4mo, dtype: float64"
      ]
     },
     "execution_count": 64,
     "metadata": {},
     "output_type": "execute_result"
    }
   ],
   "source": [
    "labeled_df.groupby('teacher_prefix').mean()['fully_funded_4mo']"
   ]
  },
  {
   "cell_type": "code",
   "execution_count": 65,
   "metadata": {
    "colab": {
     "base_uri": "https://localhost:8080/"
    },
    "id": "ev1KZel3jJ7g",
    "outputId": "4c719dfa-69c8-491f-b242-76a03a8e4478"
   },
   "outputs": [
    {
     "data": {
      "text/plain": [
       "primary_focus_subject\n",
       "Applied Sciences         0.551122\n",
       "Character Education      0.590308\n",
       "Civics & Government      0.792453\n",
       "College & Career Prep    0.455128\n",
       "Community Service        0.690476\n",
       "ESL                      0.486726\n",
       "Early Development        0.449180\n",
       "Economics                0.600000\n",
       "Environmental Science    0.573574\n",
       "Extracurricular          0.412698\n",
       "Foreign Languages        0.425373\n",
       "Gym & Fitness            0.445946\n",
       "Health & Life Science    0.571918\n",
       "Health & Wellness        0.489933\n",
       "History & Geography      0.572301\n",
       "Literacy                 0.524821\n",
       "Literature & Writing     0.543344\n",
       "Mathematics              0.520803\n",
       "Music                    0.611111\n",
       "Nutrition                0.461538\n",
       "Other                    0.399351\n",
       "Parent Involvement       0.468750\n",
       "Performing Arts          0.546341\n",
       "Social Sciences          0.487903\n",
       "Special Needs            0.477426\n",
       "Sports                   0.666667\n",
       "Visual Arts              0.542029\n",
       "Name: fully_funded_4mo, dtype: float64"
      ]
     },
     "execution_count": 65,
     "metadata": {},
     "output_type": "execute_result"
    }
   ],
   "source": [
    "labeled_df.groupby('primary_focus_subject').mean()['fully_funded_4mo']"
   ]
  },
  {
   "cell_type": "code",
   "execution_count": 66,
   "metadata": {
    "colab": {
     "base_uri": "https://localhost:8080/"
    },
    "id": "KRJ2Q6sOmuFl",
    "outputId": "bc43aa9f-821b-4762-dc64-e303edf27274"
   },
   "outputs": [
    {
     "data": {
      "text/plain": [
       "primary_focus_area\n",
       "Applied Learning       0.472198\n",
       "Health & Sports        0.510490\n",
       "History & Civics       0.562724\n",
       "Literacy & Language    0.527152\n",
       "Math & Science         0.542361\n",
       "Music & The Arts       0.571148\n",
       "Special Needs          0.477426\n",
       "Name: fully_funded_4mo, dtype: float64"
      ]
     },
     "execution_count": 66,
     "metadata": {},
     "output_type": "execute_result"
    }
   ],
   "source": [
    "labeled_df.groupby('primary_focus_area').mean()['fully_funded_4mo']"
   ]
  },
  {
   "cell_type": "code",
   "execution_count": 67,
   "metadata": {
    "colab": {
     "base_uri": "https://localhost:8080/"
    },
    "id": "XLSleYIcm0Qk",
    "outputId": "b6d89011-dc55-4694-f191-e1648d7fe364"
   },
   "outputs": [
    {
     "data": {
      "text/plain": [
       "resource_type\n",
       "Books         0.604280\n",
       "Other         0.516435\n",
       "Supplies      0.553119\n",
       "Technology    0.455551\n",
       "Trips         0.614583\n",
       "Visitors      0.434783\n",
       "Name: fully_funded_4mo, dtype: float64"
      ]
     },
     "execution_count": 67,
     "metadata": {},
     "output_type": "execute_result"
    }
   ],
   "source": [
    "labeled_df.groupby('resource_type').mean()['fully_funded_4mo']"
   ]
  },
  {
   "cell_type": "markdown",
   "metadata": {
    "id": "6y7NI6XAS-96"
   },
   "source": [
    "# QUESTION 2\n",
    "\n",
    "For this question, you'll develop a model to help DonorsChoose **identify 10% of projects with the highest risk of failing to meet their funding goal** for their digital content expert review and provide suggestions. In order to intervene early in the process, DonorsChoose wants to identify these projects to help **immediately upon being posted** to the site.\n",
    "\n",
    "Build and evaluate the performance of several machine learning models for this task. **Be sure to use comments or text blocks to discuss the choices and assumptions you're making along the way.** Feel free to use any python packages available (such as sklearn) for this."
   ]
  },
  {
   "cell_type": "markdown",
   "metadata": {
    "id": "k2T4Gag2m9v3"
   },
   "source": [
    "In order to fairly evaluate models on this problem, we'll need to chronologically split the data into training, validation, and test sets. We make model decisions and select hyperparameters on a validation set in order to account for overfitting, then evaluate on a test set to account for selection bias in estimating our model's performance on future, unseen data.  \n",
    "\n",
    "The chronological split is necessary because our model will ultimately need to perform on projects farther into the future; it is possible that using older data in validation and test sets may constitute cheating and misrepresent a model's performance on future data.\n",
    "\n",
    "In using test performance as an estimate for future performance, we assume little or no distribution shift between our dataset and future projects in the real world.  This is unrealistic because funding behaviors by donators may change over time, as will the distribution of project features, descriptions, and legitimacy.  Furthermore, there may be differences between the collection of the original dataset and sampling live data in production which could result in covariate shift or data discrepancies."
   ]
  },
  {
   "cell_type": "code",
   "execution_count": null,
   "metadata": {
    "id": "1no-JSODqBI0"
   },
   "outputs": [],
   "source": [
    "labeled_df = labeled_df.sort_values('date_posted_x').reset_index(drop = True)"
   ]
  },
  {
   "cell_type": "code",
   "execution_count": null,
   "metadata": {
    "id": "nCpRxQQ8qkqh"
   },
   "outputs": [],
   "source": [
    "num_cols = ['school_latitude', 'school_longitude', 'total_asking_price', 'title_length', 'need_length']\n",
    "cat_cols = ['poverty_level', 'grade_level', 'teacher_prefix']"
   ]
  },
  {
   "cell_type": "code",
   "execution_count": null,
   "metadata": {
    "id": "Dpd2fT0BsTpZ"
   },
   "outputs": [],
   "source": [
    "X = labeled_df[num_cols].join(pd.get_dummies(labeled_df[cat_cols]))\n",
    "train_X = X.iloc[:int(len(X) * .6)]\n",
    "X -= train_X.mean()\n",
    "X /= train_X.std()\n",
    "Y = labeled_df['fully_funded_4mo']"
   ]
  },
  {
   "cell_type": "code",
   "execution_count": null,
   "metadata": {
    "id": "p9ONhPfisbWa"
   },
   "outputs": [],
   "source": [
    "train_X = X.iloc[:int(len(X) * .6)]\n",
    "val_X = X.iloc[int(len(X) * .6): int(len(X) * .8)]\n",
    "test_X = X.iloc[int(len(X) * .8):]\n",
    "\n",
    "train_Y = Y.iloc[:int(len(X) * .6)]\n",
    "val_Y = Y.iloc[int(len(X) * .6): int(len(X) * .8)]\n",
    "test_Y = Y.iloc[int(len(X) * .8):]"
   ]
  },
  {
   "cell_type": "code",
   "execution_count": null,
   "metadata": {
    "colab": {
     "base_uri": "https://localhost:8080/"
    },
    "id": "MM42Xy9Z6A-O",
    "outputId": "c21775dc-d191-427d-b131-6e67f2e7bbb7"
   },
   "outputs": [
    {
     "name": "stdout",
     "output_type": "stream",
     "text": [
      "0.4637798462161068 0.3766312594840667 0.5845220030349014\n"
     ]
    }
   ],
   "source": [
    "# TPR Baselines for each split\n",
    "print(1 - np.mean(train_Y), 1 - np.mean(val_Y), 1 - np.mean(test_Y))"
   ]
  },
  {
   "cell_type": "markdown",
   "metadata": {
    "id": "4s6zBFhVuEz2"
   },
   "source": [
    "Based on the wording of the task, it makes most sense to approach this problem with binary classification of whether or not a given project was fully funded within 4 month.  An alternative approach would be to train a regression predicting the dollar amount of donations received, or the numerical ratio of donations received to requested amount."
   ]
  },
  {
   "cell_type": "code",
   "execution_count": null,
   "metadata": {
    "id": "qI4e96G9tepn"
   },
   "outputs": [],
   "source": [
    "from sklearn.neighbors import KNeighborsClassifier\n",
    "\n",
    "from sklearn.linear_model import LogisticRegression\n",
    "from sklearn.ensemble import RandomForestClassifier"
   ]
  },
  {
   "cell_type": "code",
   "execution_count": null,
   "metadata": {
    "id": "QalluYEFueZv"
   },
   "outputs": [],
   "source": [
    "def top_k_tpr(pred, vals, k = .1):\n",
    "  return 1 - np.mean(vals.iloc[np.argsort(pred)].values[:int(k*len(vals))])\n",
    "\n",
    "def evaluate_model(model):\n",
    "  model.fit(train_X, train_Y)\n",
    "  train_pred = model.predict(train_X)\n",
    "  val_pred = model.predict(val_X)\n",
    "  test_pred = model.predict(test_X)\n",
    "  print(f\"Train corr: {np.corrcoef(train_pred, train_Y)[0,1]}\\nTrain top 10% TPR: {top_k_tpr(train_pred, train_Y)}\\nVal corr: {np.corrcoef(val_pred, val_Y)[0,1]}\\nVal top 10% TPR: {top_k_tpr(val_pred, val_Y)}\\nTest corr: {np.corrcoef(test_pred, test_Y)[0,1]}\\nTest top 10% TPR: {top_k_tpr(test_pred, test_Y)}\")"
   ]
  },
  {
   "cell_type": "code",
   "execution_count": null,
   "metadata": {
    "colab": {
     "base_uri": "https://localhost:8080/"
    },
    "id": "MJ1pVF-Othsd",
    "outputId": "3967dbae-4902-4d5b-ffa5-fddab25c4b48"
   },
   "outputs": [
    {
     "name": "stdout",
     "output_type": "stream",
     "text": [
      "Train corr: 0.24892472690790474\n",
      "Train top 10% TPR: 0.6366396761133604\n",
      "Val corr: 0.10927693517264568\n",
      "Val top 10% TPR: 0.452887537993921\n",
      "Test corr: 0.06958675915275872\n",
      "Test top 10% TPR: 0.541033434650456\n"
     ]
    }
   ],
   "source": [
    "logreg = LogisticRegression(max_iter = 1000)\n",
    "evaluate_model(logreg)"
   ]
  },
  {
   "cell_type": "code",
   "execution_count": null,
   "metadata": {
    "colab": {
     "base_uri": "https://localhost:8080/"
    },
    "id": "kxT9nyI9tyZ5",
    "outputId": "7bf8a63b-0847-489c-a9d2-18f70107379c"
   },
   "outputs": [
    {
     "name": "stdout",
     "output_type": "stream",
     "text": [
      "Train corr: 0.9993899690454462\n",
      "Train top 10% TPR: 1.0\n",
      "Val corr: 0.16692597207749718\n",
      "Val top 10% TPR: 0.5197568389057751\n",
      "Test corr: 0.07700085419057597\n",
      "Test top 10% TPR: 0.6413373860182371\n"
     ]
    }
   ],
   "source": [
    "rfc = RandomForestClassifier()\n",
    "evaluate_model(rfc)"
   ]
  },
  {
   "cell_type": "code",
   "execution_count": null,
   "metadata": {
    "colab": {
     "base_uri": "https://localhost:8080/"
    },
    "id": "ei6F3r5dyUy6",
    "outputId": "f3245302-fc93-4cf6-c820-b4a70a6f48aa"
   },
   "outputs": [
    {
     "name": "stdout",
     "output_type": "stream",
     "text": [
      "Train corr: 0.29455486321522456\n",
      "Train top 10% TPR: 0.638663967611336\n",
      "Val corr: 0.06329253025113005\n",
      "Val top 10% TPR: 0.4042553191489362\n",
      "Test corr: 0.05552173503329483\n",
      "Test top 10% TPR: 0.5835866261398177\n"
     ]
    }
   ],
   "source": [
    "nn = KNeighborsClassifier(n_neighbors=21)\n",
    "evaluate_model(nn)"
   ]
  },
  {
   "cell_type": "markdown",
   "metadata": {
    "id": "CSOIZcMFESpn"
   },
   "source": [
    "# QUESTION 3\n",
    "\n",
    "Briefly discuss (in at most 1-2 paragraphs) the results of your analysis above: Which model would you select to deploy and why? Are there future analysis or improvements you would suggest? Are there other data sources you would ideally like to be able to incorporate into your models?"
   ]
  },
  {
   "cell_type": "markdown",
   "metadata": {
    "id": "29xLFHcO5x8b"
   },
   "source": [
    "Of the three candidate model classes, the random forest performed best in both of validation correlation and true positive rate of the top 10% most predicted at risk.  The random forest further performed the best on the test set as well, suggesting that it is most successful in capturing signals which generalize to unseen data.  Moreover, it outperforms a baseline TPR of the overall rate of failing to receive full funding.\n",
    "\n",
    "Future work should include a more complete ablation of features.  In this assignment, I excluded categorical features with many values because they would dramatically increase the dimension of the feature space, making models more prone to overfitting.  This could be addressed by grouping certain categories together, or, in the extreme case, using one vs. the rest.  I'm also interested in analyzing the text data beyond just length via sentiment analysis or pretrained embeddings."
   ]
  },
  {
   "cell_type": "markdown",
   "metadata": {
    "id": "XP2k3Z--DNju"
   },
   "source": [
    "# Submission\n",
    "\n",
    "To submit your exercise, please **save a copy** of this notebook containing your code and outputs (you can save it either to google drive or github, but make sure the course staff will have read permissions to access it).\n",
    "\n",
    "Provide a link to your copy of the notebook when you submit the assignment in canvas.\n",
    "\n",
    "Thank you and we're looking forward to a great semester in 10718!"
   ]
  }
 ],
 "metadata": {
  "colab": {
   "provenance": []
  },
  "kernelspec": {
   "display_name": "Python 3",
   "language": "python",
   "name": "python3"
  },
  "language_info": {
   "codemirror_mode": {
    "name": "ipython",
    "version": 3
   },
   "file_extension": ".py",
   "mimetype": "text/x-python",
   "name": "python",
   "nbconvert_exporter": "python",
   "pygments_lexer": "ipython3",
   "version": "3.8.5"
  }
 },
 "nbformat": 4,
 "nbformat_minor": 1
}
