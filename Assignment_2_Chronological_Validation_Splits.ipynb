{
  "nbformat": 4,
  "nbformat_minor": 0,
  "metadata": {
    "colab": {
      "provenance": []
    },
    "kernelspec": {
      "name": "python3",
      "display_name": "Python 3"
    },
    "language_info": {
      "name": "python"
    }
  },
  "cells": [
    {
      "cell_type": "markdown",
      "source": [
        "# Baselines and Formulation\n"
      ],
      "metadata": {
        "id": "MygD9O0cNBh6"
      }
    },
    {
      "cell_type": "code",
      "execution_count": 1,
      "metadata": {
        "id": "iY8dwqamIIQc",
        "outputId": "a2b57924-9639-4d21-b16a-8ba173dae7e2",
        "colab": {
          "base_uri": "https://localhost:8080/"
        }
      },
      "outputs": [
        {
          "output_type": "stream",
          "name": "stdout",
          "text": [
            "OK\n",
            "deb http://apt.postgresql.org/pub/repos/apt/ focal-pgdg main\n",
            "debconf: unable to initialize frontend: Dialog\n",
            "debconf: (No usable dialog-like program is installed, so the dialog based frontend cannot be used. at /usr/share/perl5/Debconf/FrontEnd/Dialog.pm line 76, <> line 13.)\n",
            "debconf: falling back to frontend: Readline\n",
            "debconf: unable to initialize frontend: Readline\n",
            "debconf: (This frontend requires a controlling tty.)\n",
            "debconf: falling back to frontend: Teletype\n",
            "dpkg-preconfigure: unable to re-open stdin: \n",
            "Selecting previously unselected package cron.\n",
            "(Reading database ... 129496 files and directories currently installed.)\n",
            "Preparing to unpack .../00-cron_3.0pl1-136ubuntu1_amd64.deb ...\n",
            "Unpacking cron (3.0pl1-136ubuntu1) ...\n",
            "Selecting previously unselected package libjson-perl.\n",
            "Preparing to unpack .../01-libjson-perl_4.02000-2_all.deb ...\n",
            "Unpacking libjson-perl (4.02000-2) ...\n",
            "Selecting previously unselected package netbase.\n",
            "Preparing to unpack .../02-netbase_6.1_all.deb ...\n",
            "Unpacking netbase (6.1) ...\n",
            "Selecting previously unselected package postgresql-client-common.\n",
            "Preparing to unpack .../03-postgresql-client-common_246.pgdg20.04+1_all.deb ...\n",
            "Unpacking postgresql-client-common (246.pgdg20.04+1) ...\n",
            "Selecting previously unselected package ssl-cert.\n",
            "Preparing to unpack .../04-ssl-cert_1.0.39_all.deb ...\n",
            "Unpacking ssl-cert (1.0.39) ...\n",
            "Selecting previously unselected package postgresql-common.\n",
            "Preparing to unpack .../05-postgresql-common_246.pgdg20.04+1_all.deb ...\n",
            "Adding 'diversion of /usr/bin/pg_config to /usr/bin/pg_config.libpq-dev by postgresql-common'\n",
            "Unpacking postgresql-common (246.pgdg20.04+1) ...\n",
            "Selecting previously unselected package logrotate.\n",
            "Preparing to unpack .../06-logrotate_3.14.0-4ubuntu3_amd64.deb ...\n",
            "Unpacking logrotate (3.14.0-4ubuntu3) ...\n",
            "Selecting previously unselected package libcommon-sense-perl.\n",
            "Preparing to unpack .../07-libcommon-sense-perl_3.74-2build6_amd64.deb ...\n",
            "Unpacking libcommon-sense-perl (3.74-2build6) ...\n",
            "Selecting previously unselected package libtypes-serialiser-perl.\n",
            "Preparing to unpack .../08-libtypes-serialiser-perl_1.0-1_all.deb ...\n",
            "Unpacking libtypes-serialiser-perl (1.0-1) ...\n",
            "Selecting previously unselected package libjson-xs-perl.\n",
            "Preparing to unpack .../09-libjson-xs-perl_4.020-1build1_amd64.deb ...\n",
            "Unpacking libjson-xs-perl (4.020-1build1) ...\n",
            "Selecting previously unselected package postgresql-client-11.\n",
            "Preparing to unpack .../10-postgresql-client-11_11.18-1.pgdg20.04+1_amd64.deb ...\n",
            "Unpacking postgresql-client-11 (11.18-1.pgdg20.04+1) ...\n",
            "Selecting previously unselected package postgresql-11.\n",
            "Preparing to unpack .../11-postgresql-11_11.18-1.pgdg20.04+1_amd64.deb ...\n",
            "Unpacking postgresql-11 (11.18-1.pgdg20.04+1) ...\n",
            "Selecting previously unselected package sysstat.\n",
            "Preparing to unpack .../12-sysstat_12.2.0-2ubuntu0.2_amd64.deb ...\n",
            "Unpacking sysstat (12.2.0-2ubuntu0.2) ...\n",
            "Setting up logrotate (3.14.0-4ubuntu3) ...\n",
            "Created symlink /etc/systemd/system/timers.target.wants/logrotate.timer → /lib/systemd/system/logrotate.timer.\n",
            "Setting up cron (3.0pl1-136ubuntu1) ...\n",
            "Adding group `crontab' (GID 113) ...\n",
            "Done.\n",
            "invoke-rc.d: could not determine current runlevel\n",
            "invoke-rc.d: policy-rc.d denied execution of start.\n",
            "Created symlink /etc/systemd/system/multi-user.target.wants/cron.service → /lib/systemd/system/cron.service.\n",
            "Setting up libcommon-sense-perl (3.74-2build6) ...\n",
            "Setting up ssl-cert (1.0.39) ...\n",
            "debconf: unable to initialize frontend: Dialog\n",
            "debconf: (No usable dialog-like program is installed, so the dialog based frontend cannot be used. at /usr/share/perl5/Debconf/FrontEnd/Dialog.pm line 76.)\n",
            "debconf: falling back to frontend: Readline\n",
            "Setting up libtypes-serialiser-perl (1.0-1) ...\n",
            "Setting up libjson-perl (4.02000-2) ...\n",
            "Setting up netbase (6.1) ...\n",
            "Setting up sysstat (12.2.0-2ubuntu0.2) ...\n",
            "debconf: unable to initialize frontend: Dialog\n",
            "debconf: (No usable dialog-like program is installed, so the dialog based frontend cannot be used. at /usr/share/perl5/Debconf/FrontEnd/Dialog.pm line 76.)\n",
            "debconf: falling back to frontend: Readline\n",
            "\n",
            "Creating config file /etc/default/sysstat with new version\n",
            "update-alternatives: using /usr/bin/sar.sysstat to provide /usr/bin/sar (sar) in auto mode\n",
            "Created symlink /etc/systemd/system/multi-user.target.wants/sysstat.service → /lib/systemd/system/sysstat.service.\n",
            "Setting up postgresql-client-common (246.pgdg20.04+1) ...\n",
            "Setting up libjson-xs-perl (4.020-1build1) ...\n",
            "Setting up postgresql-client-11 (11.18-1.pgdg20.04+1) ...\n",
            "update-alternatives: using /usr/share/postgresql/11/man/man1/psql.1.gz to provide /usr/share/man/man1/psql.1.gz (psql.1.gz) in auto mode\n",
            "Setting up postgresql-common (246.pgdg20.04+1) ...\n",
            "debconf: unable to initialize frontend: Dialog\n",
            "debconf: (No usable dialog-like program is installed, so the dialog based frontend cannot be used. at /usr/share/perl5/Debconf/FrontEnd/Dialog.pm line 76.)\n",
            "debconf: falling back to frontend: Readline\n",
            "Adding user postgres to group ssl-cert\n",
            "\n",
            "Creating config file /etc/postgresql-common/createcluster.conf with new version\n",
            "Building PostgreSQL dictionaries from installed myspell/hunspell packages...\n",
            "  en_us\n",
            "Removing obsolete dictionary files:\n",
            "'/etc/apt/trusted.gpg.d/apt.postgresql.org.gpg' -> '/usr/share/postgresql-common/pgdg/apt.postgresql.org.gpg'\n",
            "invoke-rc.d: could not determine current runlevel\n",
            "invoke-rc.d: policy-rc.d denied execution of start.\n",
            "Created symlink /etc/systemd/system/multi-user.target.wants/postgresql.service → /lib/systemd/system/postgresql.service.\n",
            "Setting up postgresql-11 (11.18-1.pgdg20.04+1) ...\n",
            "debconf: unable to initialize frontend: Dialog\n",
            "debconf: (No usable dialog-like program is installed, so the dialog based frontend cannot be used. at /usr/share/perl5/Debconf/FrontEnd/Dialog.pm line 76.)\n",
            "debconf: falling back to frontend: Readline\n",
            "Creating new PostgreSQL cluster 11/main ...\n",
            "/usr/lib/postgresql/11/bin/initdb -D /var/lib/postgresql/11/main --auth-local peer --auth-host md5\n",
            "The files belonging to this database system will be owned by user \"postgres\".\n",
            "This user must also own the server process.\n",
            "\n",
            "The database cluster will be initialized with locale \"en_US.UTF-8\".\n",
            "The default database encoding has accordingly been set to \"UTF8\".\n",
            "The default text search configuration will be set to \"english\".\n",
            "\n",
            "Data page checksums are disabled.\n",
            "\n",
            "fixing permissions on existing directory /var/lib/postgresql/11/main ... ok\n",
            "creating subdirectories ... ok\n",
            "selecting default max_connections ... 100\n",
            "selecting default shared_buffers ... 128MB\n",
            "selecting default timezone ... Etc/UTC\n",
            "selecting dynamic shared memory implementation ... posix\n",
            "creating configuration files ... ok\n",
            "running bootstrap script ... ok\n",
            "performing post-bootstrap initialization ... ok\n",
            "syncing data to disk ... ok\n",
            "\n",
            "Success. You can now start the database server using:\n",
            "\n",
            "    pg_ctlcluster 11 main start\n",
            "\n",
            "update-alternatives: using /usr/share/postgresql/11/man/man1/postmaster.1.gz to provide /usr/share/man/man1/postmaster.1.gz (postmaster.1.gz) in auto mode\n",
            "invoke-rc.d: could not determine current runlevel\n",
            "invoke-rc.d: policy-rc.d denied execution of start.\n",
            "Processing triggers for man-db (2.9.1-1) ...\n",
            "Processing triggers for systemd (245.4-4ubuntu3.19) ...\n",
            " * Starting PostgreSQL 11 database server\n",
            "   ...done.\n",
            "ALTER ROLE\n",
            "NOTICE:  database \"donors_choose\" does not exist, skipping\n",
            "DROP DATABASE\n",
            "CREATE DATABASE\n",
            "env: DEMO_DATABASE_NAME=donors_choose\n",
            "env: DEMO_DATABASE_HOST=localhost\n",
            "env: DEMO_DATABASE_PORT=5432\n",
            "DROP DATABASE\n",
            "CREATE DATABASE\n",
            "env: DEMO_DATABASE_NAME=donors_choose\n",
            "env: DEMO_DATABASE_HOST=localhost\n",
            "env: DEMO_DATABASE_PORT=5432\n",
            "env: DEMO_DATABASE_USER=postgres\n",
            "env: DEMO_DATABASE_PASS=postgres\n"
          ]
        }
      ],
      "source": [
        "# Install and start postgresql-11 server\n",
        "!sudo apt-get -y -qq update\n",
        "!wget --quiet -O - https://www.postgresql.org/media/keys/ACCC4CF8.asc | sudo apt-key add -\n",
        "!echo \"deb http://apt.postgresql.org/pub/repos/apt/ `lsb_release -cs`-pgdg main\" |sudo tee  /etc/apt/sources.list.d/pgdg.list\n",
        "!sudo apt-get -y -qq update\n",
        "!sudo apt-get -y -qq install postgresql-11 postgresql-client-11\n",
        "!sudo service postgresql start\n",
        "\n",
        "# Setup a password `postgres` for username `postgres`\n",
        "!sudo -u postgres psql -U postgres -c \"ALTER USER postgres PASSWORD 'postgres';\"\n",
        "\n",
        "# Setup a database with name `donors_choose` to be used\n",
        "!sudo -u postgres psql -U postgres -c 'DROP DATABASE IF EXISTS donors_choose;'\n",
        "\n",
        "!sudo -u postgres psql -U postgres -c 'CREATE DATABASE donors_choose;'\n",
        "\n",
        "# Environment variables for connecting to the database\n",
        "%env DEMO_DATABASE_NAME=donors_choose\n",
        "%env DEMO_DATABASE_HOST=localhost\n",
        "%env DEMO_DATABASE_PORT=5432\n",
        "\n",
        "# Setup a database with name `donors_choose` to be used\n",
        "!sudo -u postgres psql -U postgres -c 'DROP DATABASE IF EXISTS donors_choose;'\n",
        "\n",
        "!sudo -u postgres psql -U postgres -c 'CREATE DATABASE donors_choose;'\n",
        "\n",
        "# Environment variables for connecting to the database\n",
        "%env DEMO_DATABASE_NAME=donors_choose\n",
        "%env DEMO_DATABASE_HOST=localhost\n",
        "%env DEMO_DATABASE_PORT=5432\n",
        "%env DEMO_DATABASE_USER=postgres\n",
        "%env DEMO_DATABASE_PASS=postgres"
      ]
    },
    {
      "cell_type": "code",
      "source": [
        "!pip install kaggle\n",
        "\n",
        "!mkdir /root/.kaggle\n",
        "!touch /root/.kaggle/kaggle.json\n",
        "api_token = {\"username\":\"ploped123\",\"key\":\"eeeeba8fc52706723e4c1bcf41ae6fd3\"}\n",
        "\n",
        "import json\n",
        "import zipfile\n",
        "import os\n",
        "import pandas as pd\n",
        "with open('/root/.kaggle/kaggle.json', 'w') as file:\n",
        "    json.dump(api_token, file)\n",
        "\n",
        "!chmod 600 /root/.kaggle/kaggle.json\n",
        "\n",
        "!kaggle competitions download -c kdd-cup-2014-predicting-excitement-at-donors-choose"
      ],
      "metadata": {
        "colab": {
          "base_uri": "https://localhost:8080/"
        },
        "id": "t4ZA3QYJ8sW3",
        "outputId": "b8779eff-dff3-4a7b-9d20-423d6293d9b6"
      },
      "execution_count": 2,
      "outputs": [
        {
          "output_type": "stream",
          "name": "stdout",
          "text": [
            "Looking in indexes: https://pypi.org/simple, https://us-python.pkg.dev/colab-wheels/public/simple/\n",
            "Requirement already satisfied: kaggle in /usr/local/lib/python3.8/dist-packages (1.5.12)\n",
            "Requirement already satisfied: python-dateutil in /usr/local/lib/python3.8/dist-packages (from kaggle) (2.8.2)\n",
            "Requirement already satisfied: six>=1.10 in /usr/local/lib/python3.8/dist-packages (from kaggle) (1.15.0)\n",
            "Requirement already satisfied: certifi in /usr/local/lib/python3.8/dist-packages (from kaggle) (2022.12.7)\n",
            "Requirement already satisfied: urllib3 in /usr/local/lib/python3.8/dist-packages (from kaggle) (1.24.3)\n",
            "Requirement already satisfied: requests in /usr/local/lib/python3.8/dist-packages (from kaggle) (2.25.1)\n",
            "Requirement already satisfied: python-slugify in /usr/local/lib/python3.8/dist-packages (from kaggle) (8.0.0)\n",
            "Requirement already satisfied: tqdm in /usr/local/lib/python3.8/dist-packages (from kaggle) (4.64.1)\n",
            "Requirement already satisfied: text-unidecode>=1.3 in /usr/local/lib/python3.8/dist-packages (from python-slugify->kaggle) (1.3)\n",
            "Requirement already satisfied: chardet<5,>=3.0.2 in /usr/local/lib/python3.8/dist-packages (from requests->kaggle) (4.0.0)\n",
            "Requirement already satisfied: idna<3,>=2.5 in /usr/local/lib/python3.8/dist-packages (from requests->kaggle) (2.10)\n",
            "Downloading kdd-cup-2014-predicting-excitement-at-donors-choose.zip to /content\n",
            "100% 925M/926M [00:41<00:00, 25.7MB/s]\n",
            "100% 926M/926M [00:41<00:00, 23.4MB/s]\n"
          ]
        }
      ]
    },
    {
      "cell_type": "code",
      "source": [
        "!ls /content"
      ],
      "metadata": {
        "colab": {
          "base_uri": "https://localhost:8080/"
        },
        "id": "HunBQJMX9gPN",
        "outputId": "9cf2c8b6-a2a3-4f5f-ba65-3ed4cdd1c27a"
      },
      "execution_count": 3,
      "outputs": [
        {
          "output_type": "stream",
          "name": "stdout",
          "text": [
            "kdd-cup-2014-predicting-excitement-at-donors-choose.zip  sample_data\n"
          ]
        }
      ]
    },
    {
      "cell_type": "code",
      "source": [
        "!unzip /content/kdd-cup-2014-predicting-excitement-at-donors-choose.zip"
      ],
      "metadata": {
        "colab": {
          "base_uri": "https://localhost:8080/"
        },
        "id": "76VVzgwkKbli",
        "outputId": "7a287814-74d7-4b2c-e5be-35f5672a66fa"
      },
      "execution_count": 4,
      "outputs": [
        {
          "output_type": "stream",
          "name": "stdout",
          "text": [
            "Archive:  /content/kdd-cup-2014-predicting-excitement-at-donors-choose.zip\n",
            "  inflating: donations.csv.zip       \n",
            "  inflating: essays.csv.zip          \n",
            "  inflating: outcomes.csv.zip        \n",
            "  inflating: projects.csv.zip        \n",
            "  inflating: resources.csv.zip       \n",
            "  inflating: sampleSubmission.csv.zip  \n"
          ]
        }
      ]
    },
    {
      "cell_type": "code",
      "source": [
        "!unzip /content/donations.csv.zip"
      ],
      "metadata": {
        "colab": {
          "base_uri": "https://localhost:8080/"
        },
        "id": "mK_ns8iP9jSM",
        "outputId": "1b4ade43-581e-48ba-b757-78fc549b3923"
      },
      "execution_count": 5,
      "outputs": [
        {
          "output_type": "stream",
          "name": "stdout",
          "text": [
            "Archive:  /content/donations.csv.zip\n",
            "  inflating: donations.csv           \n"
          ]
        }
      ]
    },
    {
      "cell_type": "code",
      "source": [
        "!unzip /content/projects.csv.zip"
      ],
      "metadata": {
        "colab": {
          "base_uri": "https://localhost:8080/"
        },
        "id": "cDEORpu4-Glu",
        "outputId": "81821686-92ea-487a-ad79-4e7624645eeb"
      },
      "execution_count": 6,
      "outputs": [
        {
          "output_type": "stream",
          "name": "stdout",
          "text": [
            "Archive:  /content/projects.csv.zip\n",
            "  inflating: projects.csv            \n"
          ]
        }
      ]
    },
    {
      "cell_type": "code",
      "source": [
        "full_donations = pd.read_csv(\"/content/donations.csv\")\n",
        "full_projects = pd.read_csv(\"/content/projects.csv\")"
      ],
      "metadata": {
        "id": "dDwjqJp-92WB"
      },
      "execution_count": 7,
      "outputs": []
    },
    {
      "cell_type": "code",
      "source": [
        "from datetime import timedelta"
      ],
      "metadata": {
        "id": "8LZDfVxULbz8"
      },
      "execution_count": 8,
      "outputs": []
    },
    {
      "cell_type": "markdown",
      "source": [
        "## Calculating base rate on full dataset"
      ],
      "metadata": {
        "id": "7wEKl_gyM1Eh"
      }
    },
    {
      "cell_type": "code",
      "source": [
        "a = pd.merge(full_projects, full_donations, on=['projectid'], how='left')\n",
        "a['in_4_months'] = (pd.to_datetime(a['donation_timestamp']) - pd.to_datetime(a['date_posted'])) < timedelta(days=120)\n",
        "values = {'donation_to_project': 0.0}\n",
        "a = a.fillna(value=values)\n",
        "a.loc[a['in_4_months'] == False, 'donation_to_project'] = 0.0\n",
        "donation_in_4_months = a.groupby(['projectid'])['donation_to_project'].sum().reset_index(name='donation_in_4_months')\n",
        "df = pd.merge(full_projects, donation_in_4_months, on=['projectid'], how='left')\n"
      ],
      "metadata": {
        "id": "GpeZ5PXWLQPV"
      },
      "execution_count": 9,
      "outputs": []
    },
    {
      "cell_type": "code",
      "source": [
        "df['if_fully_funded_after_4_months'] = df['total_price_excluding_optional_support'] <= df['donation_in_4_months']\n",
        "df['if_fully_funded_after_4_months'].value_counts()\n",
        "print(\"Baserate % projects fully funded:\", df['if_fully_funded_after_4_months'].mean())"
      ],
      "metadata": {
        "colab": {
          "base_uri": "https://localhost:8080/"
        },
        "id": "YvIcSIe8LzQK",
        "outputId": "943929b0-42aa-4bac-e3ed-c01e4cbe3f33"
      },
      "execution_count": 10,
      "outputs": [
        {
          "output_type": "stream",
          "name": "stdout",
          "text": [
            "Baserate % projects fully funded: 0.5480215269433126\n"
          ]
        }
      ]
    },
    {
      "cell_type": "code",
      "source": [
        "df.head()"
      ],
      "metadata": {
        "colab": {
          "base_uri": "https://localhost:8080/",
          "height": 352
        },
        "id": "bZl0E-Hq9Ccc",
        "outputId": "06374f33-7628-4f3c-8041-922aa08d1f96"
      },
      "execution_count": 11,
      "outputs": [
        {
          "output_type": "execute_result",
          "data": {
            "text/plain": [
              "                          projectid                    teacher_acctid  \\\n",
              "0  316ed8fb3b81402ff6ac8f721bb31192  42d43fa6f37314365d08692e08680973   \n",
              "1  90de744e368a7e4883223ca49318ae30  864eb466462bf704bf7a16a585ef296a   \n",
              "2  32943bb1063267de6ed19fc0ceb4b9a7  37f85135259ece793213aca9d8765542   \n",
              "3  bb18f409abda2f264d5acda8cab577a9  2133fc46f951f1e7d60645b0f9e48a6c   \n",
              "4  24761b686e18e5eace634607acbcc19f  867ff478a63f5457eaf41049536c47cd   \n",
              "\n",
              "                           schoolid  school_ncesid  school_latitude  \\\n",
              "0  c0e6ce89b244764085691a1b8e28cb81   6.362701e+10        36.576340   \n",
              "1  d711e47810900c96f26a5d0be30c446d   4.837020e+11        32.911179   \n",
              "2  665c3613013ba0a66e3a2a26b89f1b68   4.103270e+11        45.166039   \n",
              "3  4f12c3fa0c1cce823c7ba1df57e90ccb   3.600153e+11        40.641727   \n",
              "4  10179fd362d7b8cf0e89baa1ca3025bb   6.227100e+10        34.043939   \n",
              "\n",
              "   school_longitude  school_city school_state  school_zip school_metro  ...  \\\n",
              "0       -119.608713        Selma           CA     93662.0          NaN  ...   \n",
              "1        -96.723640       Dallas           TX     75243.0        urban  ...   \n",
              "2       -122.414576       Colton           OR     97017.0        rural  ...   \n",
              "3        -73.965655     Brooklyn           NY     11226.0        urban  ...   \n",
              "4       -118.288371  Los Angeles           CA     90006.0        urban  ...   \n",
              "\n",
              "     grade_level fulfillment_labor_materials  \\\n",
              "0     Grades 6-8                        30.0   \n",
              "1  Grades PreK-2                        30.0   \n",
              "2  Grades PreK-2                        30.0   \n",
              "3     Grades 3-5                        30.0   \n",
              "4  Grades PreK-2                        30.0   \n",
              "\n",
              "  total_price_excluding_optional_support  \\\n",
              "0                                 555.81   \n",
              "1                                 296.47   \n",
              "2                                 430.89   \n",
              "3                                 576.07   \n",
              "4                                 408.40   \n",
              "\n",
              "  total_price_including_optional_support students_reached  \\\n",
              "0                                 653.89             32.0   \n",
              "1                                 348.79             22.0   \n",
              "2                                 506.93             17.0   \n",
              "3                                 677.73             12.0   \n",
              "4                                 480.47             24.0   \n",
              "\n",
              "  eligible_double_your_impact_match eligible_almost_home_match date_posted  \\\n",
              "0                                 f                          f  2014-05-12   \n",
              "1                                 f                          f  2014-05-12   \n",
              "2                                 f                          f  2014-05-11   \n",
              "3                                 f                          f  2014-05-11   \n",
              "4                                 f                          f  2014-05-11   \n",
              "\n",
              "  donation_in_4_months if_fully_funded_after_4_months  \n",
              "0                  0.0                          False  \n",
              "1                  0.0                          False  \n",
              "2                  0.0                          False  \n",
              "3                  0.0                          False  \n",
              "4                  0.0                          False  \n",
              "\n",
              "[5 rows x 37 columns]"
            ],
            "text/html": [
              "\n",
              "  <div id=\"df-53e46856-60b7-4b33-bb65-6109518775bb\">\n",
              "    <div class=\"colab-df-container\">\n",
              "      <div>\n",
              "<style scoped>\n",
              "    .dataframe tbody tr th:only-of-type {\n",
              "        vertical-align: middle;\n",
              "    }\n",
              "\n",
              "    .dataframe tbody tr th {\n",
              "        vertical-align: top;\n",
              "    }\n",
              "\n",
              "    .dataframe thead th {\n",
              "        text-align: right;\n",
              "    }\n",
              "</style>\n",
              "<table border=\"1\" class=\"dataframe\">\n",
              "  <thead>\n",
              "    <tr style=\"text-align: right;\">\n",
              "      <th></th>\n",
              "      <th>projectid</th>\n",
              "      <th>teacher_acctid</th>\n",
              "      <th>schoolid</th>\n",
              "      <th>school_ncesid</th>\n",
              "      <th>school_latitude</th>\n",
              "      <th>school_longitude</th>\n",
              "      <th>school_city</th>\n",
              "      <th>school_state</th>\n",
              "      <th>school_zip</th>\n",
              "      <th>school_metro</th>\n",
              "      <th>...</th>\n",
              "      <th>grade_level</th>\n",
              "      <th>fulfillment_labor_materials</th>\n",
              "      <th>total_price_excluding_optional_support</th>\n",
              "      <th>total_price_including_optional_support</th>\n",
              "      <th>students_reached</th>\n",
              "      <th>eligible_double_your_impact_match</th>\n",
              "      <th>eligible_almost_home_match</th>\n",
              "      <th>date_posted</th>\n",
              "      <th>donation_in_4_months</th>\n",
              "      <th>if_fully_funded_after_4_months</th>\n",
              "    </tr>\n",
              "  </thead>\n",
              "  <tbody>\n",
              "    <tr>\n",
              "      <th>0</th>\n",
              "      <td>316ed8fb3b81402ff6ac8f721bb31192</td>\n",
              "      <td>42d43fa6f37314365d08692e08680973</td>\n",
              "      <td>c0e6ce89b244764085691a1b8e28cb81</td>\n",
              "      <td>6.362701e+10</td>\n",
              "      <td>36.576340</td>\n",
              "      <td>-119.608713</td>\n",
              "      <td>Selma</td>\n",
              "      <td>CA</td>\n",
              "      <td>93662.0</td>\n",
              "      <td>NaN</td>\n",
              "      <td>...</td>\n",
              "      <td>Grades 6-8</td>\n",
              "      <td>30.0</td>\n",
              "      <td>555.81</td>\n",
              "      <td>653.89</td>\n",
              "      <td>32.0</td>\n",
              "      <td>f</td>\n",
              "      <td>f</td>\n",
              "      <td>2014-05-12</td>\n",
              "      <td>0.0</td>\n",
              "      <td>False</td>\n",
              "    </tr>\n",
              "    <tr>\n",
              "      <th>1</th>\n",
              "      <td>90de744e368a7e4883223ca49318ae30</td>\n",
              "      <td>864eb466462bf704bf7a16a585ef296a</td>\n",
              "      <td>d711e47810900c96f26a5d0be30c446d</td>\n",
              "      <td>4.837020e+11</td>\n",
              "      <td>32.911179</td>\n",
              "      <td>-96.723640</td>\n",
              "      <td>Dallas</td>\n",
              "      <td>TX</td>\n",
              "      <td>75243.0</td>\n",
              "      <td>urban</td>\n",
              "      <td>...</td>\n",
              "      <td>Grades PreK-2</td>\n",
              "      <td>30.0</td>\n",
              "      <td>296.47</td>\n",
              "      <td>348.79</td>\n",
              "      <td>22.0</td>\n",
              "      <td>f</td>\n",
              "      <td>f</td>\n",
              "      <td>2014-05-12</td>\n",
              "      <td>0.0</td>\n",
              "      <td>False</td>\n",
              "    </tr>\n",
              "    <tr>\n",
              "      <th>2</th>\n",
              "      <td>32943bb1063267de6ed19fc0ceb4b9a7</td>\n",
              "      <td>37f85135259ece793213aca9d8765542</td>\n",
              "      <td>665c3613013ba0a66e3a2a26b89f1b68</td>\n",
              "      <td>4.103270e+11</td>\n",
              "      <td>45.166039</td>\n",
              "      <td>-122.414576</td>\n",
              "      <td>Colton</td>\n",
              "      <td>OR</td>\n",
              "      <td>97017.0</td>\n",
              "      <td>rural</td>\n",
              "      <td>...</td>\n",
              "      <td>Grades PreK-2</td>\n",
              "      <td>30.0</td>\n",
              "      <td>430.89</td>\n",
              "      <td>506.93</td>\n",
              "      <td>17.0</td>\n",
              "      <td>f</td>\n",
              "      <td>f</td>\n",
              "      <td>2014-05-11</td>\n",
              "      <td>0.0</td>\n",
              "      <td>False</td>\n",
              "    </tr>\n",
              "    <tr>\n",
              "      <th>3</th>\n",
              "      <td>bb18f409abda2f264d5acda8cab577a9</td>\n",
              "      <td>2133fc46f951f1e7d60645b0f9e48a6c</td>\n",
              "      <td>4f12c3fa0c1cce823c7ba1df57e90ccb</td>\n",
              "      <td>3.600153e+11</td>\n",
              "      <td>40.641727</td>\n",
              "      <td>-73.965655</td>\n",
              "      <td>Brooklyn</td>\n",
              "      <td>NY</td>\n",
              "      <td>11226.0</td>\n",
              "      <td>urban</td>\n",
              "      <td>...</td>\n",
              "      <td>Grades 3-5</td>\n",
              "      <td>30.0</td>\n",
              "      <td>576.07</td>\n",
              "      <td>677.73</td>\n",
              "      <td>12.0</td>\n",
              "      <td>f</td>\n",
              "      <td>f</td>\n",
              "      <td>2014-05-11</td>\n",
              "      <td>0.0</td>\n",
              "      <td>False</td>\n",
              "    </tr>\n",
              "    <tr>\n",
              "      <th>4</th>\n",
              "      <td>24761b686e18e5eace634607acbcc19f</td>\n",
              "      <td>867ff478a63f5457eaf41049536c47cd</td>\n",
              "      <td>10179fd362d7b8cf0e89baa1ca3025bb</td>\n",
              "      <td>6.227100e+10</td>\n",
              "      <td>34.043939</td>\n",
              "      <td>-118.288371</td>\n",
              "      <td>Los Angeles</td>\n",
              "      <td>CA</td>\n",
              "      <td>90006.0</td>\n",
              "      <td>urban</td>\n",
              "      <td>...</td>\n",
              "      <td>Grades PreK-2</td>\n",
              "      <td>30.0</td>\n",
              "      <td>408.40</td>\n",
              "      <td>480.47</td>\n",
              "      <td>24.0</td>\n",
              "      <td>f</td>\n",
              "      <td>f</td>\n",
              "      <td>2014-05-11</td>\n",
              "      <td>0.0</td>\n",
              "      <td>False</td>\n",
              "    </tr>\n",
              "  </tbody>\n",
              "</table>\n",
              "<p>5 rows × 37 columns</p>\n",
              "</div>\n",
              "      <button class=\"colab-df-convert\" onclick=\"convertToInteractive('df-53e46856-60b7-4b33-bb65-6109518775bb')\"\n",
              "              title=\"Convert this dataframe to an interactive table.\"\n",
              "              style=\"display:none;\">\n",
              "        \n",
              "  <svg xmlns=\"http://www.w3.org/2000/svg\" height=\"24px\"viewBox=\"0 0 24 24\"\n",
              "       width=\"24px\">\n",
              "    <path d=\"M0 0h24v24H0V0z\" fill=\"none\"/>\n",
              "    <path d=\"M18.56 5.44l.94 2.06.94-2.06 2.06-.94-2.06-.94-.94-2.06-.94 2.06-2.06.94zm-11 1L8.5 8.5l.94-2.06 2.06-.94-2.06-.94L8.5 2.5l-.94 2.06-2.06.94zm10 10l.94 2.06.94-2.06 2.06-.94-2.06-.94-.94-2.06-.94 2.06-2.06.94z\"/><path d=\"M17.41 7.96l-1.37-1.37c-.4-.4-.92-.59-1.43-.59-.52 0-1.04.2-1.43.59L10.3 9.45l-7.72 7.72c-.78.78-.78 2.05 0 2.83L4 21.41c.39.39.9.59 1.41.59.51 0 1.02-.2 1.41-.59l7.78-7.78 2.81-2.81c.8-.78.8-2.07 0-2.86zM5.41 20L4 18.59l7.72-7.72 1.47 1.35L5.41 20z\"/>\n",
              "  </svg>\n",
              "      </button>\n",
              "      \n",
              "  <style>\n",
              "    .colab-df-container {\n",
              "      display:flex;\n",
              "      flex-wrap:wrap;\n",
              "      gap: 12px;\n",
              "    }\n",
              "\n",
              "    .colab-df-convert {\n",
              "      background-color: #E8F0FE;\n",
              "      border: none;\n",
              "      border-radius: 50%;\n",
              "      cursor: pointer;\n",
              "      display: none;\n",
              "      fill: #1967D2;\n",
              "      height: 32px;\n",
              "      padding: 0 0 0 0;\n",
              "      width: 32px;\n",
              "    }\n",
              "\n",
              "    .colab-df-convert:hover {\n",
              "      background-color: #E2EBFA;\n",
              "      box-shadow: 0px 1px 2px rgba(60, 64, 67, 0.3), 0px 1px 3px 1px rgba(60, 64, 67, 0.15);\n",
              "      fill: #174EA6;\n",
              "    }\n",
              "\n",
              "    [theme=dark] .colab-df-convert {\n",
              "      background-color: #3B4455;\n",
              "      fill: #D2E3FC;\n",
              "    }\n",
              "\n",
              "    [theme=dark] .colab-df-convert:hover {\n",
              "      background-color: #434B5C;\n",
              "      box-shadow: 0px 1px 3px 1px rgba(0, 0, 0, 0.15);\n",
              "      filter: drop-shadow(0px 1px 2px rgba(0, 0, 0, 0.3));\n",
              "      fill: #FFFFFF;\n",
              "    }\n",
              "  </style>\n",
              "\n",
              "      <script>\n",
              "        const buttonEl =\n",
              "          document.querySelector('#df-53e46856-60b7-4b33-bb65-6109518775bb button.colab-df-convert');\n",
              "        buttonEl.style.display =\n",
              "          google.colab.kernel.accessAllowed ? 'block' : 'none';\n",
              "\n",
              "        async function convertToInteractive(key) {\n",
              "          const element = document.querySelector('#df-53e46856-60b7-4b33-bb65-6109518775bb');\n",
              "          const dataTable =\n",
              "            await google.colab.kernel.invokeFunction('convertToInteractive',\n",
              "                                                     [key], {});\n",
              "          if (!dataTable) return;\n",
              "\n",
              "          const docLinkHtml = 'Like what you see? Visit the ' +\n",
              "            '<a target=\"_blank\" href=https://colab.research.google.com/notebooks/data_table.ipynb>data table notebook</a>'\n",
              "            + ' to learn more about interactive tables.';\n",
              "          element.innerHTML = '';\n",
              "          dataTable['output_type'] = 'display_data';\n",
              "          await google.colab.output.renderOutput(dataTable, element);\n",
              "          const docLink = document.createElement('div');\n",
              "          docLink.innerHTML = docLinkHtml;\n",
              "          element.appendChild(docLink);\n",
              "        }\n",
              "      </script>\n",
              "    </div>\n",
              "  </div>\n",
              "  "
            ]
          },
          "metadata": {},
          "execution_count": 11
        }
      ]
    },
    {
      "cell_type": "code",
      "source": [
        "pd.to_datetime(df['date_posted']).describe()"
      ],
      "metadata": {
        "colab": {
          "base_uri": "https://localhost:8080/"
        },
        "id": "31VOv-N78oNS",
        "outputId": "2fc6421d-9a37-4955-8db2-190ea58ad034"
      },
      "execution_count": 12,
      "outputs": [
        {
          "output_type": "stream",
          "name": "stderr",
          "text": [
            "<ipython-input-12-e3aa2acbd2c1>:1: FutureWarning: Treating datetime data as categorical rather than numeric in `.describe` is deprecated and will be removed in a future version of pandas. Specify `datetime_is_numeric=True` to silence this warning and adopt the future behavior now.\n",
            "  pd.to_datetime(df['date_posted']).describe()\n"
          ]
        },
        {
          "output_type": "execute_result",
          "data": {
            "text/plain": [
              "count                  664098\n",
              "unique                   4026\n",
              "top       2012-09-30 00:00:00\n",
              "freq                     1490\n",
              "first     2002-09-13 00:00:00\n",
              "last      2014-05-12 00:00:00\n",
              "Name: date_posted, dtype: object"
            ]
          },
          "metadata": {},
          "execution_count": 12
        }
      ]
    },
    {
      "cell_type": "code",
      "source": [
        "pd.to_datetime(df['date_posted']).sort_values().iloc[0]"
      ],
      "metadata": {
        "colab": {
          "base_uri": "https://localhost:8080/"
        },
        "id": "wlAQqCY69xla",
        "outputId": "8e33e72a-60e5-4119-d4f6-972bb9e5f2d7"
      },
      "execution_count": 13,
      "outputs": [
        {
          "output_type": "execute_result",
          "data": {
            "text/plain": [
              "Timestamp('2002-09-13 00:00:00')"
            ]
          },
          "metadata": {},
          "execution_count": 13
        }
      ]
    },
    {
      "cell_type": "code",
      "source": [
        "from datetime import datetime"
      ],
      "metadata": {
        "id": "tuFsKR4U-rd6"
      },
      "execution_count": 14,
      "outputs": []
    },
    {
      "cell_type": "code",
      "source": [
        "from dateutil.relativedelta import relativedelta"
      ],
      "metadata": {
        "id": "Li6mGOER-kxh"
      },
      "execution_count": 15,
      "outputs": []
    },
    {
      "cell_type": "code",
      "source": [
        "def chron_split_date_ranges(dates, train_length = relativedelta(years=1), val_length = relativedelta(months=1), retrain_length = relativedelta(weeks=2), min_f_col = relativedelta(months=1), min_l_col = relativedelta(months=4)):\n",
        "  sorted = dates.sort_values()\n",
        "  first_date = sorted.iloc[0]\n",
        "  last_date = sorted.iloc[-1]\n",
        "\n",
        "  split_dates = []\n",
        "\n",
        "  curr = first_date\n",
        "\n",
        "  while curr + val_length + train_length + 2 * min_l_col + 2 * min_f_col < last_date:\n",
        "    train_start = curr + min_f_col\n",
        "    val_start = train_start + train_length + min_l_col + min_f_col\n",
        "    \n",
        "    split_dates.append({\n",
        "        \"train_feature_collection\": (curr, train_start),\n",
        "        \"train\": (train_start, train_start + train_length),\n",
        "        \"train_label_buffer\": (train_start + train_length, train_start + train_length + min_l_col),\n",
        "        \"val_feature_collection\": (train_start + train_length + min_l_col, val_start),\n",
        "        \"val\": (val_start , val_start + val_length),\n",
        "        \"val_label_buffer\": (val_start + val_length, val_start + val_length + min_l_col)\n",
        "    })\n",
        "\n",
        "    curr += retrain_length\n",
        "  return split_dates"
      ],
      "metadata": {
        "id": "9RR81PuK9rQE"
      },
      "execution_count": 16,
      "outputs": []
    },
    {
      "cell_type": "code",
      "source": [
        "ranges = chron_split_date_ranges(pd.to_datetime(df['date_posted']))"
      ],
      "metadata": {
        "id": "xxLN3aGk_gY5"
      },
      "execution_count": 18,
      "outputs": []
    },
    {
      "cell_type": "code",
      "source": [
        "print(len(ranges),\"number of train/val pairs\")\n",
        "\n",
        "for i in range(len(ranges)-3, len(ranges)):\n",
        "  print(\"\\n\\n\")\n",
        "  print(\"Train\")\n",
        "  print(\"Earliest Proj Submission:\", ranges[i][\"train_feature_collection\"][0].strftime(\"%b %d, %Y\"))\n",
        "  print(\"Latest Proj Submission:\", ranges[i][\"train\"][1].strftime(\"%b %d, %Y\"))\n",
        "  print(\"Start Label Date:\", ranges[i][\"train\"][0].strftime(\"%b %d, %Y\"))\n",
        "  print(\"End Label Date:\", ranges[i][\"train_label_buffer\"][1].strftime(\"%b %d, %Y\"))\n",
        "  print()\n",
        "  print(\"Val\")\n",
        "  print(\"Earliest Proj Submission:\", ranges[i][\"val_feature_collection\"][0].strftime(\"%b %d, %Y\"))\n",
        "  print(\"Latest Proj Submission:\", ranges[i][\"val\"][1].strftime(\"%b %d, %Y\"))\n",
        "  print(\"Start Label Date:\", ranges[i][\"val\"][0].strftime(\"%b %d, %Y\"))\n",
        "  print(\"End Label Date:\", ranges[i][\"val_label_buffer\"][1].strftime(\"%b %d, %Y\"))"
      ],
      "metadata": {
        "colab": {
          "base_uri": "https://localhost:8080/"
        },
        "id": "sf859BrbAdFB",
        "outputId": "aab9557c-61af-4944-f66d-943cbfab312b"
      },
      "execution_count": 21,
      "outputs": [
        {
          "output_type": "stream",
          "name": "stdout",
          "text": [
            "255 number of train/val pairs\n",
            "\n",
            "\n",
            "\n",
            "Train\n",
            "Earliest Proj Submission: May 11, 2012\n",
            "Latest Proj Submission: Jun 11, 2013\n",
            "Start Label Date: Jun 11, 2012\n",
            "End Label Date: Oct 11, 2013\n",
            "\n",
            "Val\n",
            "Earliest Proj Submission: Oct 11, 2013\n",
            "Latest Proj Submission: Dec 11, 2013\n",
            "Start Label Date: Nov 11, 2013\n",
            "End Label Date: Apr 11, 2014\n",
            "\n",
            "\n",
            "\n",
            "Train\n",
            "Earliest Proj Submission: May 25, 2012\n",
            "Latest Proj Submission: Jun 25, 2013\n",
            "Start Label Date: Jun 25, 2012\n",
            "End Label Date: Oct 25, 2013\n",
            "\n",
            "Val\n",
            "Earliest Proj Submission: Oct 25, 2013\n",
            "Latest Proj Submission: Dec 25, 2013\n",
            "Start Label Date: Nov 25, 2013\n",
            "End Label Date: Apr 25, 2014\n",
            "\n",
            "\n",
            "\n",
            "Train\n",
            "Earliest Proj Submission: Jun 08, 2012\n",
            "Latest Proj Submission: Jul 08, 2013\n",
            "Start Label Date: Jul 08, 2012\n",
            "End Label Date: Nov 08, 2013\n",
            "\n",
            "Val\n",
            "Earliest Proj Submission: Nov 08, 2013\n",
            "Latest Proj Submission: Jan 08, 2014\n",
            "Start Label Date: Dec 08, 2013\n",
            "End Label Date: May 08, 2014\n"
          ]
        }
      ]
    },
    {
      "cell_type": "code",
      "source": [
        "df['date_posted'] = pd.to_datetime(df['date_posted'])\n",
        "#df_date_indx = df.set_index('date_posted')"
      ],
      "metadata": {
        "id": "w91LNhpnUpP5"
      },
      "execution_count": 40,
      "outputs": []
    },
    {
      "cell_type": "code",
      "source": [
        "def generate_train_val(df, range):\n",
        "  train = df.loc[(range[\"train\"][0] <= df['date_posted']) & (df['date_posted'] < range[\"train\"][1])]\n",
        "  val = df.loc[(range[\"val\"][0] <= df['date_posted']) & (df['date_posted'] < range[\"val\"][1])]\n",
        "  return train, val"
      ],
      "metadata": {
        "id": "e4v4jp3ATLRQ"
      },
      "execution_count": 70,
      "outputs": []
    },
    {
      "cell_type": "code",
      "source": [
        "for range in ranges:\n",
        "  train, val = generate_train_val(df, range)\n",
        "  # Do whatever"
      ],
      "metadata": {
        "id": "dMPYAu2kUuoD"
      },
      "execution_count": 73,
      "outputs": []
    },
    {
      "cell_type": "markdown",
      "source": [
        "# Common Sense analysis on demo data"
      ],
      "metadata": {
        "id": "eOEjyT3_NRW1"
      }
    },
    {
      "cell_type": "code",
      "source": [
        "!curl -s -OL https://dsapp-public-data-migrated.s3.us-west-2.amazonaws.com/donors_sampled_20210920_v3.dmp\n",
        "!PGPASSWORD=$DEMO_DATABASE_PASS pg_restore -h $DEMO_DATABASE_HOST -p $DEMO_DATABASE_PORT -d $DEMO_DATABASE_NAME -U $DEMO_DATABASE_USER -O -j 8 donors_sampled_20210920_v3.dmp"
      ],
      "metadata": {
        "id": "ImdiugfVIXcq"
      },
      "execution_count": null,
      "outputs": []
    },
    {
      "cell_type": "code",
      "source": [
        "!pip install SQLAlchemy==1.3.18 PyYAML==6.0 psycopg2-binary==2.9.3"
      ],
      "metadata": {
        "id": "Uj114AFLIpug",
        "outputId": "5258d151-b908-4315-926b-89cdd9fded8c",
        "colab": {
          "base_uri": "https://localhost:8080/"
        }
      },
      "execution_count": null,
      "outputs": [
        {
          "output_type": "stream",
          "name": "stdout",
          "text": [
            "Looking in indexes: https://pypi.org/simple, https://us-python.pkg.dev/colab-wheels/public/simple/\n",
            "Collecting SQLAlchemy==1.3.18\n",
            "  Downloading SQLAlchemy-1.3.18-cp38-cp38-manylinux2010_x86_64.whl (1.3 MB)\n",
            "\u001b[2K     \u001b[90m━━━━━━━━━━━━━━━━━━━━━━━━━━━━━━━━━━━━━━━━\u001b[0m \u001b[32m1.3/1.3 MB\u001b[0m \u001b[31m17.4 MB/s\u001b[0m eta \u001b[36m0:00:00\u001b[0m\n",
            "\u001b[?25hRequirement already satisfied: PyYAML==6.0 in /usr/local/lib/python3.8/dist-packages (6.0)\n",
            "Collecting psycopg2-binary==2.9.3\n",
            "  Downloading psycopg2_binary-2.9.3-cp38-cp38-manylinux_2_17_x86_64.manylinux2014_x86_64.whl (3.0 MB)\n",
            "\u001b[2K     \u001b[90m━━━━━━━━━━━━━━━━━━━━━━━━━━━━━━━━━━━━━━━━\u001b[0m \u001b[32m3.0/3.0 MB\u001b[0m \u001b[31m57.7 MB/s\u001b[0m eta \u001b[36m0:00:00\u001b[0m\n",
            "\u001b[?25hInstalling collected packages: SQLAlchemy, psycopg2-binary\n",
            "  Attempting uninstall: SQLAlchemy\n",
            "    Found existing installation: SQLAlchemy 1.4.46\n",
            "    Uninstalling SQLAlchemy-1.4.46:\n",
            "      Successfully uninstalled SQLAlchemy-1.4.46\n",
            "Successfully installed SQLAlchemy-1.3.18 psycopg2-binary-2.9.3\n"
          ]
        }
      ]
    },
    {
      "cell_type": "code",
      "source": [
        "import pandas as pd\n",
        "pd.set_option('display.max_columns', None)"
      ],
      "metadata": {
        "id": "ZIZEHiMpANsU"
      },
      "execution_count": null,
      "outputs": []
    },
    {
      "cell_type": "code",
      "source": [
        "from sqlalchemy.engine.url import URL\n",
        "from sqlalchemy import create_engine\n",
        "\n",
        "db_url = URL(\n",
        "            'postgres',\n",
        "            host='localhost',\n",
        "            username='postgres',\n",
        "            database='donors_choose',\n",
        "            password='postgres',\n",
        "            port=5432,\n",
        "        )\n",
        "\n",
        "db_engine = create_engine(db_url)"
      ],
      "metadata": {
        "id": "JRYwIn-UJI6t"
      },
      "execution_count": null,
      "outputs": []
    },
    {
      "cell_type": "code",
      "source": [
        "outcomes_df = pd.read_sql(\"SELECT * FROM data.outcomes\", db_engine)\n",
        "donations_df = pd.read_sql(\"SELECT * FROM data.donations\", db_engine)\n",
        "resources_df = pd.read_sql(\"SELECT * FROM data.resources\", db_engine)"
      ],
      "metadata": {
        "id": "6ImGAwpkvTcP"
      },
      "execution_count": null,
      "outputs": []
    },
    {
      "cell_type": "code",
      "source": [
        "essays_df = pd.read_sql(\"SELECT * FROM data.essays\", db_engine)\n",
        "ts_df = pd.read_sql(\"SELECT * FROM data.time_series_features\", db_engine)"
      ],
      "metadata": {
        "id": "ZQ8mI1wNVM4T"
      },
      "execution_count": null,
      "outputs": []
    },
    {
      "cell_type": "code",
      "source": [
        "projects_df.head()"
      ],
      "metadata": {
        "colab": {
          "base_uri": "https://localhost:8080/",
          "height": 357
        },
        "id": "4V2iwEAvVoaH",
        "outputId": "d82099c2-dee5-41b2-f37e-2abf0cb9b8ca"
      },
      "execution_count": null,
      "outputs": [
        {
          "output_type": "execute_result",
          "data": {
            "text/plain": [
              "                           schoolid                     projectid_str  \\\n",
              "0  29a2da790e38b6c8a1c70aced6b9c765  30c034618e67d00c641f9b5b7775c0f4   \n",
              "1  06ef48acbdf9b013d4bc4bfc8d328cc1  94199c544d9d2926c1820e5c6cde1eb6   \n",
              "2  06ef48acbdf9b013d4bc4bfc8d328cc1  61f42f174afef1ed2419ab948a647137   \n",
              "3  06ef48acbdf9b013d4bc4bfc8d328cc1  c966f5226f42aaaf6b115d7dbaefdea3   \n",
              "4  06ef48acbdf9b013d4bc4bfc8d328cc1  69e9c24111daa1e6ba64c6d5538e4df1   \n",
              "\n",
              "                     teacher_acctid school_ncesid  school_latitude  \\\n",
              "0  0903da60e148adc6280d55f5d94791a5  192013001182        41.428391   \n",
              "1  fb340c7ac3b22a5984c6a82602e4a510  450111000143        32.233070   \n",
              "2  fb340c7ac3b22a5984c6a82602e4a510  450111000143        32.233070   \n",
              "3  e0b5a72f41a376b28db9c2e838a24de5  450111000143        32.233070   \n",
              "4  32e86c49396707f71fdc0398ab2b844b  450111000143        32.233070   \n",
              "\n",
              "   school_longitude school_city school_state school_zip school_metro  \\\n",
              "0        -91.049135   Muscatine           IA      52761         None   \n",
              "1        -80.855905    Bluffton           SC      29910        rural   \n",
              "2        -80.855905    Bluffton           SC      29910        rural   \n",
              "3        -80.855905    Bluffton           SC      29910        rural   \n",
              "4        -80.855905    Bluffton           SC      29910        rural   \n",
              "\n",
              "                  school_district school_county  school_charter  \\\n",
              "0  Muscatine Cmty School District     Muscatine           False   \n",
              "1     Beaufort Co School District      Beaufort           False   \n",
              "2     Beaufort Co School District      Beaufort           False   \n",
              "3     Beaufort Co School District      Beaufort           False   \n",
              "4     Beaufort Co School District      Beaufort           False   \n",
              "\n",
              "   school_magnet  school_year_round  school_nlns  school_kipp  \\\n",
              "0          False              False        False        False   \n",
              "1          False              False        False        False   \n",
              "2          False              False        False        False   \n",
              "3          False              False        False        False   \n",
              "4          False              False        False        False   \n",
              "\n",
              "   school_charter_ready_promise teacher_prefix  teacher_teach_for_america  \\\n",
              "0                         False            Ms.                      False   \n",
              "1                         False            Ms.                      False   \n",
              "2                         False            Ms.                      False   \n",
              "3                         False           Mrs.                      False   \n",
              "4                         False           Mrs.                      False   \n",
              "\n",
              "   teacher_ny_teaching_fellow primary_focus_subject   primary_focus_area  \\\n",
              "0                       False      Applied Sciences       Math & Science   \n",
              "1                       False              Literacy  Literacy & Language   \n",
              "2                       False              Literacy  Literacy & Language   \n",
              "3                       False              Literacy  Literacy & Language   \n",
              "4                       False   History & Geography     History & Civics   \n",
              "\n",
              "  secondary_focus_subject secondary_focus_area resource_type poverty_level  \\\n",
              "0   College & Career Prep     Applied Learning      Supplies  high poverty   \n",
              "1                     ESL  Literacy & Language      Supplies  high poverty   \n",
              "2        Applied Sciences       Math & Science         Other  high poverty   \n",
              "3   Health & Life Science       Math & Science         Other  high poverty   \n",
              "4   Environmental Science       Math & Science         Books  high poverty   \n",
              "\n",
              "  grade_level  fulfillment_labor_materials  total_asking_price  \\\n",
              "0  Grades 6-8                         35.0              511.32   \n",
              "1  Grades 3-5                         35.0              167.43   \n",
              "2  Grades 3-5                         35.0              167.43   \n",
              "3  Grades 3-5                         35.0              162.14   \n",
              "4  Grades 3-5                         35.0              381.27   \n",
              "\n",
              "   total_price_including_optional_support  students_reached  \\\n",
              "0                                  601.55               100   \n",
              "1                                  192.45                40   \n",
              "2                                  196.98                45   \n",
              "3                                  190.75                25   \n",
              "4                                  448.55                25   \n",
              "\n",
              "   eligible_double_your_impact_match  eligible_almost_home_match date_posted  \\\n",
              "0                              False                       False  2012-08-06   \n",
              "1                              False                       False  2010-07-10   \n",
              "2                              False                       False  2011-06-09   \n",
              "3                              False                       False  2011-06-13   \n",
              "4                              False                       False  2012-07-15   \n",
              "\n",
              "   entity_id  \n",
              "0     234148  \n",
              "1     453579  \n",
              "2     353855  \n",
              "3     353178  \n",
              "4     239363  "
            ],
            "text/html": [
              "\n",
              "  <div id=\"df-98345da6-3771-4708-9649-40c43a8e4aee\">\n",
              "    <div class=\"colab-df-container\">\n",
              "      <div>\n",
              "<style scoped>\n",
              "    .dataframe tbody tr th:only-of-type {\n",
              "        vertical-align: middle;\n",
              "    }\n",
              "\n",
              "    .dataframe tbody tr th {\n",
              "        vertical-align: top;\n",
              "    }\n",
              "\n",
              "    .dataframe thead th {\n",
              "        text-align: right;\n",
              "    }\n",
              "</style>\n",
              "<table border=\"1\" class=\"dataframe\">\n",
              "  <thead>\n",
              "    <tr style=\"text-align: right;\">\n",
              "      <th></th>\n",
              "      <th>schoolid</th>\n",
              "      <th>projectid_str</th>\n",
              "      <th>teacher_acctid</th>\n",
              "      <th>school_ncesid</th>\n",
              "      <th>school_latitude</th>\n",
              "      <th>school_longitude</th>\n",
              "      <th>school_city</th>\n",
              "      <th>school_state</th>\n",
              "      <th>school_zip</th>\n",
              "      <th>school_metro</th>\n",
              "      <th>school_district</th>\n",
              "      <th>school_county</th>\n",
              "      <th>school_charter</th>\n",
              "      <th>school_magnet</th>\n",
              "      <th>school_year_round</th>\n",
              "      <th>school_nlns</th>\n",
              "      <th>school_kipp</th>\n",
              "      <th>school_charter_ready_promise</th>\n",
              "      <th>teacher_prefix</th>\n",
              "      <th>teacher_teach_for_america</th>\n",
              "      <th>teacher_ny_teaching_fellow</th>\n",
              "      <th>primary_focus_subject</th>\n",
              "      <th>primary_focus_area</th>\n",
              "      <th>secondary_focus_subject</th>\n",
              "      <th>secondary_focus_area</th>\n",
              "      <th>resource_type</th>\n",
              "      <th>poverty_level</th>\n",
              "      <th>grade_level</th>\n",
              "      <th>fulfillment_labor_materials</th>\n",
              "      <th>total_asking_price</th>\n",
              "      <th>total_price_including_optional_support</th>\n",
              "      <th>students_reached</th>\n",
              "      <th>eligible_double_your_impact_match</th>\n",
              "      <th>eligible_almost_home_match</th>\n",
              "      <th>date_posted</th>\n",
              "      <th>entity_id</th>\n",
              "    </tr>\n",
              "  </thead>\n",
              "  <tbody>\n",
              "    <tr>\n",
              "      <th>0</th>\n",
              "      <td>29a2da790e38b6c8a1c70aced6b9c765</td>\n",
              "      <td>30c034618e67d00c641f9b5b7775c0f4</td>\n",
              "      <td>0903da60e148adc6280d55f5d94791a5</td>\n",
              "      <td>192013001182</td>\n",
              "      <td>41.428391</td>\n",
              "      <td>-91.049135</td>\n",
              "      <td>Muscatine</td>\n",
              "      <td>IA</td>\n",
              "      <td>52761</td>\n",
              "      <td>None</td>\n",
              "      <td>Muscatine Cmty School District</td>\n",
              "      <td>Muscatine</td>\n",
              "      <td>False</td>\n",
              "      <td>False</td>\n",
              "      <td>False</td>\n",
              "      <td>False</td>\n",
              "      <td>False</td>\n",
              "      <td>False</td>\n",
              "      <td>Ms.</td>\n",
              "      <td>False</td>\n",
              "      <td>False</td>\n",
              "      <td>Applied Sciences</td>\n",
              "      <td>Math &amp; Science</td>\n",
              "      <td>College &amp; Career Prep</td>\n",
              "      <td>Applied Learning</td>\n",
              "      <td>Supplies</td>\n",
              "      <td>high poverty</td>\n",
              "      <td>Grades 6-8</td>\n",
              "      <td>35.0</td>\n",
              "      <td>511.32</td>\n",
              "      <td>601.55</td>\n",
              "      <td>100</td>\n",
              "      <td>False</td>\n",
              "      <td>False</td>\n",
              "      <td>2012-08-06</td>\n",
              "      <td>234148</td>\n",
              "    </tr>\n",
              "    <tr>\n",
              "      <th>1</th>\n",
              "      <td>06ef48acbdf9b013d4bc4bfc8d328cc1</td>\n",
              "      <td>94199c544d9d2926c1820e5c6cde1eb6</td>\n",
              "      <td>fb340c7ac3b22a5984c6a82602e4a510</td>\n",
              "      <td>450111000143</td>\n",
              "      <td>32.233070</td>\n",
              "      <td>-80.855905</td>\n",
              "      <td>Bluffton</td>\n",
              "      <td>SC</td>\n",
              "      <td>29910</td>\n",
              "      <td>rural</td>\n",
              "      <td>Beaufort Co School District</td>\n",
              "      <td>Beaufort</td>\n",
              "      <td>False</td>\n",
              "      <td>False</td>\n",
              "      <td>False</td>\n",
              "      <td>False</td>\n",
              "      <td>False</td>\n",
              "      <td>False</td>\n",
              "      <td>Ms.</td>\n",
              "      <td>False</td>\n",
              "      <td>False</td>\n",
              "      <td>Literacy</td>\n",
              "      <td>Literacy &amp; Language</td>\n",
              "      <td>ESL</td>\n",
              "      <td>Literacy &amp; Language</td>\n",
              "      <td>Supplies</td>\n",
              "      <td>high poverty</td>\n",
              "      <td>Grades 3-5</td>\n",
              "      <td>35.0</td>\n",
              "      <td>167.43</td>\n",
              "      <td>192.45</td>\n",
              "      <td>40</td>\n",
              "      <td>False</td>\n",
              "      <td>False</td>\n",
              "      <td>2010-07-10</td>\n",
              "      <td>453579</td>\n",
              "    </tr>\n",
              "    <tr>\n",
              "      <th>2</th>\n",
              "      <td>06ef48acbdf9b013d4bc4bfc8d328cc1</td>\n",
              "      <td>61f42f174afef1ed2419ab948a647137</td>\n",
              "      <td>fb340c7ac3b22a5984c6a82602e4a510</td>\n",
              "      <td>450111000143</td>\n",
              "      <td>32.233070</td>\n",
              "      <td>-80.855905</td>\n",
              "      <td>Bluffton</td>\n",
              "      <td>SC</td>\n",
              "      <td>29910</td>\n",
              "      <td>rural</td>\n",
              "      <td>Beaufort Co School District</td>\n",
              "      <td>Beaufort</td>\n",
              "      <td>False</td>\n",
              "      <td>False</td>\n",
              "      <td>False</td>\n",
              "      <td>False</td>\n",
              "      <td>False</td>\n",
              "      <td>False</td>\n",
              "      <td>Ms.</td>\n",
              "      <td>False</td>\n",
              "      <td>False</td>\n",
              "      <td>Literacy</td>\n",
              "      <td>Literacy &amp; Language</td>\n",
              "      <td>Applied Sciences</td>\n",
              "      <td>Math &amp; Science</td>\n",
              "      <td>Other</td>\n",
              "      <td>high poverty</td>\n",
              "      <td>Grades 3-5</td>\n",
              "      <td>35.0</td>\n",
              "      <td>167.43</td>\n",
              "      <td>196.98</td>\n",
              "      <td>45</td>\n",
              "      <td>False</td>\n",
              "      <td>False</td>\n",
              "      <td>2011-06-09</td>\n",
              "      <td>353855</td>\n",
              "    </tr>\n",
              "    <tr>\n",
              "      <th>3</th>\n",
              "      <td>06ef48acbdf9b013d4bc4bfc8d328cc1</td>\n",
              "      <td>c966f5226f42aaaf6b115d7dbaefdea3</td>\n",
              "      <td>e0b5a72f41a376b28db9c2e838a24de5</td>\n",
              "      <td>450111000143</td>\n",
              "      <td>32.233070</td>\n",
              "      <td>-80.855905</td>\n",
              "      <td>Bluffton</td>\n",
              "      <td>SC</td>\n",
              "      <td>29910</td>\n",
              "      <td>rural</td>\n",
              "      <td>Beaufort Co School District</td>\n",
              "      <td>Beaufort</td>\n",
              "      <td>False</td>\n",
              "      <td>False</td>\n",
              "      <td>False</td>\n",
              "      <td>False</td>\n",
              "      <td>False</td>\n",
              "      <td>False</td>\n",
              "      <td>Mrs.</td>\n",
              "      <td>False</td>\n",
              "      <td>False</td>\n",
              "      <td>Literacy</td>\n",
              "      <td>Literacy &amp; Language</td>\n",
              "      <td>Health &amp; Life Science</td>\n",
              "      <td>Math &amp; Science</td>\n",
              "      <td>Other</td>\n",
              "      <td>high poverty</td>\n",
              "      <td>Grades 3-5</td>\n",
              "      <td>35.0</td>\n",
              "      <td>162.14</td>\n",
              "      <td>190.75</td>\n",
              "      <td>25</td>\n",
              "      <td>False</td>\n",
              "      <td>False</td>\n",
              "      <td>2011-06-13</td>\n",
              "      <td>353178</td>\n",
              "    </tr>\n",
              "    <tr>\n",
              "      <th>4</th>\n",
              "      <td>06ef48acbdf9b013d4bc4bfc8d328cc1</td>\n",
              "      <td>69e9c24111daa1e6ba64c6d5538e4df1</td>\n",
              "      <td>32e86c49396707f71fdc0398ab2b844b</td>\n",
              "      <td>450111000143</td>\n",
              "      <td>32.233070</td>\n",
              "      <td>-80.855905</td>\n",
              "      <td>Bluffton</td>\n",
              "      <td>SC</td>\n",
              "      <td>29910</td>\n",
              "      <td>rural</td>\n",
              "      <td>Beaufort Co School District</td>\n",
              "      <td>Beaufort</td>\n",
              "      <td>False</td>\n",
              "      <td>False</td>\n",
              "      <td>False</td>\n",
              "      <td>False</td>\n",
              "      <td>False</td>\n",
              "      <td>False</td>\n",
              "      <td>Mrs.</td>\n",
              "      <td>False</td>\n",
              "      <td>False</td>\n",
              "      <td>History &amp; Geography</td>\n",
              "      <td>History &amp; Civics</td>\n",
              "      <td>Environmental Science</td>\n",
              "      <td>Math &amp; Science</td>\n",
              "      <td>Books</td>\n",
              "      <td>high poverty</td>\n",
              "      <td>Grades 3-5</td>\n",
              "      <td>35.0</td>\n",
              "      <td>381.27</td>\n",
              "      <td>448.55</td>\n",
              "      <td>25</td>\n",
              "      <td>False</td>\n",
              "      <td>False</td>\n",
              "      <td>2012-07-15</td>\n",
              "      <td>239363</td>\n",
              "    </tr>\n",
              "  </tbody>\n",
              "</table>\n",
              "</div>\n",
              "      <button class=\"colab-df-convert\" onclick=\"convertToInteractive('df-98345da6-3771-4708-9649-40c43a8e4aee')\"\n",
              "              title=\"Convert this dataframe to an interactive table.\"\n",
              "              style=\"display:none;\">\n",
              "        \n",
              "  <svg xmlns=\"http://www.w3.org/2000/svg\" height=\"24px\"viewBox=\"0 0 24 24\"\n",
              "       width=\"24px\">\n",
              "    <path d=\"M0 0h24v24H0V0z\" fill=\"none\"/>\n",
              "    <path d=\"M18.56 5.44l.94 2.06.94-2.06 2.06-.94-2.06-.94-.94-2.06-.94 2.06-2.06.94zm-11 1L8.5 8.5l.94-2.06 2.06-.94-2.06-.94L8.5 2.5l-.94 2.06-2.06.94zm10 10l.94 2.06.94-2.06 2.06-.94-2.06-.94-.94-2.06-.94 2.06-2.06.94z\"/><path d=\"M17.41 7.96l-1.37-1.37c-.4-.4-.92-.59-1.43-.59-.52 0-1.04.2-1.43.59L10.3 9.45l-7.72 7.72c-.78.78-.78 2.05 0 2.83L4 21.41c.39.39.9.59 1.41.59.51 0 1.02-.2 1.41-.59l7.78-7.78 2.81-2.81c.8-.78.8-2.07 0-2.86zM5.41 20L4 18.59l7.72-7.72 1.47 1.35L5.41 20z\"/>\n",
              "  </svg>\n",
              "      </button>\n",
              "      \n",
              "  <style>\n",
              "    .colab-df-container {\n",
              "      display:flex;\n",
              "      flex-wrap:wrap;\n",
              "      gap: 12px;\n",
              "    }\n",
              "\n",
              "    .colab-df-convert {\n",
              "      background-color: #E8F0FE;\n",
              "      border: none;\n",
              "      border-radius: 50%;\n",
              "      cursor: pointer;\n",
              "      display: none;\n",
              "      fill: #1967D2;\n",
              "      height: 32px;\n",
              "      padding: 0 0 0 0;\n",
              "      width: 32px;\n",
              "    }\n",
              "\n",
              "    .colab-df-convert:hover {\n",
              "      background-color: #E2EBFA;\n",
              "      box-shadow: 0px 1px 2px rgba(60, 64, 67, 0.3), 0px 1px 3px 1px rgba(60, 64, 67, 0.15);\n",
              "      fill: #174EA6;\n",
              "    }\n",
              "\n",
              "    [theme=dark] .colab-df-convert {\n",
              "      background-color: #3B4455;\n",
              "      fill: #D2E3FC;\n",
              "    }\n",
              "\n",
              "    [theme=dark] .colab-df-convert:hover {\n",
              "      background-color: #434B5C;\n",
              "      box-shadow: 0px 1px 3px 1px rgba(0, 0, 0, 0.15);\n",
              "      filter: drop-shadow(0px 1px 2px rgba(0, 0, 0, 0.3));\n",
              "      fill: #FFFFFF;\n",
              "    }\n",
              "  </style>\n",
              "\n",
              "      <script>\n",
              "        const buttonEl =\n",
              "          document.querySelector('#df-98345da6-3771-4708-9649-40c43a8e4aee button.colab-df-convert');\n",
              "        buttonEl.style.display =\n",
              "          google.colab.kernel.accessAllowed ? 'block' : 'none';\n",
              "\n",
              "        async function convertToInteractive(key) {\n",
              "          const element = document.querySelector('#df-98345da6-3771-4708-9649-40c43a8e4aee');\n",
              "          const dataTable =\n",
              "            await google.colab.kernel.invokeFunction('convertToInteractive',\n",
              "                                                     [key], {});\n",
              "          if (!dataTable) return;\n",
              "\n",
              "          const docLinkHtml = 'Like what you see? Visit the ' +\n",
              "            '<a target=\"_blank\" href=https://colab.research.google.com/notebooks/data_table.ipynb>data table notebook</a>'\n",
              "            + ' to learn more about interactive tables.';\n",
              "          element.innerHTML = '';\n",
              "          dataTable['output_type'] = 'display_data';\n",
              "          await google.colab.output.renderOutput(dataTable, element);\n",
              "          const docLink = document.createElement('div');\n",
              "          docLink.innerHTML = docLinkHtml;\n",
              "          element.appendChild(docLink);\n",
              "        }\n",
              "      </script>\n",
              "    </div>\n",
              "  </div>\n",
              "  "
            ]
          },
          "metadata": {},
          "execution_count": 40
        }
      ]
    },
    {
      "cell_type": "code",
      "source": [
        "donations_df.head()"
      ],
      "metadata": {
        "id": "p5Vpn86vuv-E",
        "outputId": "feaed8b0-b194-4b18-ad7c-17248e5fa5b5",
        "colab": {
          "base_uri": "https://localhost:8080/",
          "height": 357
        }
      },
      "execution_count": null,
      "outputs": [
        {
          "output_type": "execute_result",
          "data": {
            "text/plain": [
              "                         donationid                     projectid_str  \\\n",
              "0  705ef855c2d90eed594cf26e634add93  fb9d9bebbd2309cbd948a03c00ec65b0   \n",
              "1  59b71f584f3516f75d4e98d8acbaa65f  f93456e60338550f3ad7a2a0e87617dd   \n",
              "2  8bcc055f586e0343dd8779fdd8ac4775  f7848f096af41049e8dc6af81139d2b6   \n",
              "3  3afbbc4257049362dab620251c49a4a0  f3d5ec1500fe57584856d4cce2d66161   \n",
              "4  acf6e26e501def0b285834026459e592  f33b72a6093a64696d3a8e7ef2d0afa7   \n",
              "\n",
              "                       donor_acctid donor_city donor_state donor_zip  \\\n",
              "0  112631d2731d90f8ac0ae542d67904fe                   None      None   \n",
              "1  127936d3a07b33d3012bb23a9464532a     Austin          TX     78704   \n",
              "2  55223d1a24127d2fcce3a0b45e917b03    Chicago          IL     60093   \n",
              "3  88c6f8743b0340853b548404f8de9e5b       None          PR      None   \n",
              "4  85e51d426e69e46b785b0225117b7e8b       None        None      None   \n",
              "\n",
              "   is_teacher_acct      donation_timestamp  donation_to_project  \\\n",
              "0            False 2009-11-09 10:49:34.648                41.00   \n",
              "1            False 2011-09-02 08:48:01.447                85.00   \n",
              "2            False 2013-12-01 09:49:55.145                17.00   \n",
              "3            False 2013-05-13 09:41:48.006                 4.25   \n",
              "4             True 2011-01-11 18:58:57.280                 8.50   \n",
              "\n",
              "   donation_optional_support  donation_total dollar_amount  \\\n",
              "0                       9.00            50.0     10_to_100   \n",
              "1                      15.00           100.0    100_and_up   \n",
              "2                       3.00            20.0     10_to_100   \n",
              "3                       0.75             5.0      under_10   \n",
              "4                       1.50            10.0     10_to_100   \n",
              "\n",
              "   donation_included_optional_support    payment_method  \\\n",
              "0                                True  no_cash_received   \n",
              "1                                True            paypal   \n",
              "2                                True            amazon   \n",
              "3                                True  no_cash_received   \n",
              "4                                True        creditcard   \n",
              "\n",
              "   payment_included_acct_creadit  payment_included_campaign_gift_card  \\\n",
              "0                          False                                 True   \n",
              "1                          False                                False   \n",
              "2                          False                                False   \n",
              "3                          False                                 True   \n",
              "4                          False                                False   \n",
              "\n",
              "   payment_included_web_purchased_gift_card  payment_was_promo_matched  \\\n",
              "0                                     False                      False   \n",
              "1                                     False                      False   \n",
              "2                                     False                      False   \n",
              "3                                     False                      False   \n",
              "4                                     False                      False   \n",
              "\n",
              "   via_giving_page  for_honoree donation_message  entity_id  \n",
              "0            False        False             None     495172  \n",
              "1             True        False             None     336273  \n",
              "2            False        False             None      99049  \n",
              "3            False        False            Cause     173719  \n",
              "4             True        False             None     395246  "
            ],
            "text/html": [
              "\n",
              "  <div id=\"df-1dc25304-d25e-4224-b609-b6d4dd9ff7f9\">\n",
              "    <div class=\"colab-df-container\">\n",
              "      <div>\n",
              "<style scoped>\n",
              "    .dataframe tbody tr th:only-of-type {\n",
              "        vertical-align: middle;\n",
              "    }\n",
              "\n",
              "    .dataframe tbody tr th {\n",
              "        vertical-align: top;\n",
              "    }\n",
              "\n",
              "    .dataframe thead th {\n",
              "        text-align: right;\n",
              "    }\n",
              "</style>\n",
              "<table border=\"1\" class=\"dataframe\">\n",
              "  <thead>\n",
              "    <tr style=\"text-align: right;\">\n",
              "      <th></th>\n",
              "      <th>donationid</th>\n",
              "      <th>projectid_str</th>\n",
              "      <th>donor_acctid</th>\n",
              "      <th>donor_city</th>\n",
              "      <th>donor_state</th>\n",
              "      <th>donor_zip</th>\n",
              "      <th>is_teacher_acct</th>\n",
              "      <th>donation_timestamp</th>\n",
              "      <th>donation_to_project</th>\n",
              "      <th>donation_optional_support</th>\n",
              "      <th>donation_total</th>\n",
              "      <th>dollar_amount</th>\n",
              "      <th>donation_included_optional_support</th>\n",
              "      <th>payment_method</th>\n",
              "      <th>payment_included_acct_creadit</th>\n",
              "      <th>payment_included_campaign_gift_card</th>\n",
              "      <th>payment_included_web_purchased_gift_card</th>\n",
              "      <th>payment_was_promo_matched</th>\n",
              "      <th>via_giving_page</th>\n",
              "      <th>for_honoree</th>\n",
              "      <th>donation_message</th>\n",
              "      <th>entity_id</th>\n",
              "    </tr>\n",
              "  </thead>\n",
              "  <tbody>\n",
              "    <tr>\n",
              "      <th>0</th>\n",
              "      <td>705ef855c2d90eed594cf26e634add93</td>\n",
              "      <td>fb9d9bebbd2309cbd948a03c00ec65b0</td>\n",
              "      <td>112631d2731d90f8ac0ae542d67904fe</td>\n",
              "      <td></td>\n",
              "      <td>None</td>\n",
              "      <td>None</td>\n",
              "      <td>False</td>\n",
              "      <td>2009-11-09 10:49:34.648</td>\n",
              "      <td>41.00</td>\n",
              "      <td>9.00</td>\n",
              "      <td>50.0</td>\n",
              "      <td>10_to_100</td>\n",
              "      <td>True</td>\n",
              "      <td>no_cash_received</td>\n",
              "      <td>False</td>\n",
              "      <td>True</td>\n",
              "      <td>False</td>\n",
              "      <td>False</td>\n",
              "      <td>False</td>\n",
              "      <td>False</td>\n",
              "      <td>None</td>\n",
              "      <td>495172</td>\n",
              "    </tr>\n",
              "    <tr>\n",
              "      <th>1</th>\n",
              "      <td>59b71f584f3516f75d4e98d8acbaa65f</td>\n",
              "      <td>f93456e60338550f3ad7a2a0e87617dd</td>\n",
              "      <td>127936d3a07b33d3012bb23a9464532a</td>\n",
              "      <td>Austin</td>\n",
              "      <td>TX</td>\n",
              "      <td>78704</td>\n",
              "      <td>False</td>\n",
              "      <td>2011-09-02 08:48:01.447</td>\n",
              "      <td>85.00</td>\n",
              "      <td>15.00</td>\n",
              "      <td>100.0</td>\n",
              "      <td>100_and_up</td>\n",
              "      <td>True</td>\n",
              "      <td>paypal</td>\n",
              "      <td>False</td>\n",
              "      <td>False</td>\n",
              "      <td>False</td>\n",
              "      <td>False</td>\n",
              "      <td>True</td>\n",
              "      <td>False</td>\n",
              "      <td>None</td>\n",
              "      <td>336273</td>\n",
              "    </tr>\n",
              "    <tr>\n",
              "      <th>2</th>\n",
              "      <td>8bcc055f586e0343dd8779fdd8ac4775</td>\n",
              "      <td>f7848f096af41049e8dc6af81139d2b6</td>\n",
              "      <td>55223d1a24127d2fcce3a0b45e917b03</td>\n",
              "      <td>Chicago</td>\n",
              "      <td>IL</td>\n",
              "      <td>60093</td>\n",
              "      <td>False</td>\n",
              "      <td>2013-12-01 09:49:55.145</td>\n",
              "      <td>17.00</td>\n",
              "      <td>3.00</td>\n",
              "      <td>20.0</td>\n",
              "      <td>10_to_100</td>\n",
              "      <td>True</td>\n",
              "      <td>amazon</td>\n",
              "      <td>False</td>\n",
              "      <td>False</td>\n",
              "      <td>False</td>\n",
              "      <td>False</td>\n",
              "      <td>False</td>\n",
              "      <td>False</td>\n",
              "      <td>None</td>\n",
              "      <td>99049</td>\n",
              "    </tr>\n",
              "    <tr>\n",
              "      <th>3</th>\n",
              "      <td>3afbbc4257049362dab620251c49a4a0</td>\n",
              "      <td>f3d5ec1500fe57584856d4cce2d66161</td>\n",
              "      <td>88c6f8743b0340853b548404f8de9e5b</td>\n",
              "      <td>None</td>\n",
              "      <td>PR</td>\n",
              "      <td>None</td>\n",
              "      <td>False</td>\n",
              "      <td>2013-05-13 09:41:48.006</td>\n",
              "      <td>4.25</td>\n",
              "      <td>0.75</td>\n",
              "      <td>5.0</td>\n",
              "      <td>under_10</td>\n",
              "      <td>True</td>\n",
              "      <td>no_cash_received</td>\n",
              "      <td>False</td>\n",
              "      <td>True</td>\n",
              "      <td>False</td>\n",
              "      <td>False</td>\n",
              "      <td>False</td>\n",
              "      <td>False</td>\n",
              "      <td>Cause</td>\n",
              "      <td>173719</td>\n",
              "    </tr>\n",
              "    <tr>\n",
              "      <th>4</th>\n",
              "      <td>acf6e26e501def0b285834026459e592</td>\n",
              "      <td>f33b72a6093a64696d3a8e7ef2d0afa7</td>\n",
              "      <td>85e51d426e69e46b785b0225117b7e8b</td>\n",
              "      <td>None</td>\n",
              "      <td>None</td>\n",
              "      <td>None</td>\n",
              "      <td>True</td>\n",
              "      <td>2011-01-11 18:58:57.280</td>\n",
              "      <td>8.50</td>\n",
              "      <td>1.50</td>\n",
              "      <td>10.0</td>\n",
              "      <td>10_to_100</td>\n",
              "      <td>True</td>\n",
              "      <td>creditcard</td>\n",
              "      <td>False</td>\n",
              "      <td>False</td>\n",
              "      <td>False</td>\n",
              "      <td>False</td>\n",
              "      <td>True</td>\n",
              "      <td>False</td>\n",
              "      <td>None</td>\n",
              "      <td>395246</td>\n",
              "    </tr>\n",
              "  </tbody>\n",
              "</table>\n",
              "</div>\n",
              "      <button class=\"colab-df-convert\" onclick=\"convertToInteractive('df-1dc25304-d25e-4224-b609-b6d4dd9ff7f9')\"\n",
              "              title=\"Convert this dataframe to an interactive table.\"\n",
              "              style=\"display:none;\">\n",
              "        \n",
              "  <svg xmlns=\"http://www.w3.org/2000/svg\" height=\"24px\"viewBox=\"0 0 24 24\"\n",
              "       width=\"24px\">\n",
              "    <path d=\"M0 0h24v24H0V0z\" fill=\"none\"/>\n",
              "    <path d=\"M18.56 5.44l.94 2.06.94-2.06 2.06-.94-2.06-.94-.94-2.06-.94 2.06-2.06.94zm-11 1L8.5 8.5l.94-2.06 2.06-.94-2.06-.94L8.5 2.5l-.94 2.06-2.06.94zm10 10l.94 2.06.94-2.06 2.06-.94-2.06-.94-.94-2.06-.94 2.06-2.06.94z\"/><path d=\"M17.41 7.96l-1.37-1.37c-.4-.4-.92-.59-1.43-.59-.52 0-1.04.2-1.43.59L10.3 9.45l-7.72 7.72c-.78.78-.78 2.05 0 2.83L4 21.41c.39.39.9.59 1.41.59.51 0 1.02-.2 1.41-.59l7.78-7.78 2.81-2.81c.8-.78.8-2.07 0-2.86zM5.41 20L4 18.59l7.72-7.72 1.47 1.35L5.41 20z\"/>\n",
              "  </svg>\n",
              "      </button>\n",
              "      \n",
              "  <style>\n",
              "    .colab-df-container {\n",
              "      display:flex;\n",
              "      flex-wrap:wrap;\n",
              "      gap: 12px;\n",
              "    }\n",
              "\n",
              "    .colab-df-convert {\n",
              "      background-color: #E8F0FE;\n",
              "      border: none;\n",
              "      border-radius: 50%;\n",
              "      cursor: pointer;\n",
              "      display: none;\n",
              "      fill: #1967D2;\n",
              "      height: 32px;\n",
              "      padding: 0 0 0 0;\n",
              "      width: 32px;\n",
              "    }\n",
              "\n",
              "    .colab-df-convert:hover {\n",
              "      background-color: #E2EBFA;\n",
              "      box-shadow: 0px 1px 2px rgba(60, 64, 67, 0.3), 0px 1px 3px 1px rgba(60, 64, 67, 0.15);\n",
              "      fill: #174EA6;\n",
              "    }\n",
              "\n",
              "    [theme=dark] .colab-df-convert {\n",
              "      background-color: #3B4455;\n",
              "      fill: #D2E3FC;\n",
              "    }\n",
              "\n",
              "    [theme=dark] .colab-df-convert:hover {\n",
              "      background-color: #434B5C;\n",
              "      box-shadow: 0px 1px 3px 1px rgba(0, 0, 0, 0.15);\n",
              "      filter: drop-shadow(0px 1px 2px rgba(0, 0, 0, 0.3));\n",
              "      fill: #FFFFFF;\n",
              "    }\n",
              "  </style>\n",
              "\n",
              "      <script>\n",
              "        const buttonEl =\n",
              "          document.querySelector('#df-1dc25304-d25e-4224-b609-b6d4dd9ff7f9 button.colab-df-convert');\n",
              "        buttonEl.style.display =\n",
              "          google.colab.kernel.accessAllowed ? 'block' : 'none';\n",
              "\n",
              "        async function convertToInteractive(key) {\n",
              "          const element = document.querySelector('#df-1dc25304-d25e-4224-b609-b6d4dd9ff7f9');\n",
              "          const dataTable =\n",
              "            await google.colab.kernel.invokeFunction('convertToInteractive',\n",
              "                                                     [key], {});\n",
              "          if (!dataTable) return;\n",
              "\n",
              "          const docLinkHtml = 'Like what you see? Visit the ' +\n",
              "            '<a target=\"_blank\" href=https://colab.research.google.com/notebooks/data_table.ipynb>data table notebook</a>'\n",
              "            + ' to learn more about interactive tables.';\n",
              "          element.innerHTML = '';\n",
              "          dataTable['output_type'] = 'display_data';\n",
              "          await google.colab.output.renderOutput(dataTable, element);\n",
              "          const docLink = document.createElement('div');\n",
              "          docLink.innerHTML = docLinkHtml;\n",
              "          element.appendChild(docLink);\n",
              "        }\n",
              "      </script>\n",
              "    </div>\n",
              "  </div>\n",
              "  "
            ]
          },
          "metadata": {},
          "execution_count": 41
        }
      ]
    },
    {
      "cell_type": "code",
      "source": [
        "resources_df.head()"
      ],
      "metadata": {
        "id": "lgU9lymO-UvW",
        "outputId": "704f0758-5851-4cf9-840b-02420d492abb",
        "colab": {
          "base_uri": "https://localhost:8080/",
          "height": 305
        }
      },
      "execution_count": null,
      "outputs": [
        {
          "output_type": "execute_result",
          "data": {
            "text/plain": [
              "                         resourceid                     projectid_str  \\\n",
              "0  202d2fe1164630c3e18623345650175d  0000fa3aa8f6649abab23615b546016d   \n",
              "1  f0fa19ae0953d19e8ec670309fc8da72  071c87944d727b6dff382271125ff669   \n",
              "2  7ac0367031ced1660b7ce7bc903a29b1  07b961fee8623e35526bc6168d2911e9   \n",
              "3  40d597c5b2889f95e37ad3d795dece16  0859ba7d65068d8028b7b8a06c6a3f8c   \n",
              "4  51e72dfc8c2b4c1a51045b2c3ccd5579  0aca0bb0e24f7b3731ce6af5321628d7   \n",
              "\n",
              "  vendorid vendor_name project_resource_type           item_name  \\\n",
              "0        7   AKJ Books                 Books           Soft Rain   \n",
              "1     None        None                 Trips                None   \n",
              "2        7   AKJ Books                 Books  The Purple Balloon   \n",
              "3     None        None                 Trips                None   \n",
              "4        7   AKJ Books              Supplies      Graffiti Women   \n",
              "\n",
              "     item_number  item_unit_price  item_quantity  entity_id date_posted  \n",
              "0  9780440412427             4.43           30.0     255654  2012-04-07  \n",
              "1           None              NaN            NaN     218307  2012-09-14  \n",
              "2  9780375841460            13.25            1.0     376890  2011-03-06  \n",
              "3           None              NaN            NaN     604216  2007-11-08  \n",
              "4  9780810957473            25.55            1.0      88543  2013-10-03  "
            ],
            "text/html": [
              "\n",
              "  <div id=\"df-2190f09e-332b-4614-b53e-223f97220db2\">\n",
              "    <div class=\"colab-df-container\">\n",
              "      <div>\n",
              "<style scoped>\n",
              "    .dataframe tbody tr th:only-of-type {\n",
              "        vertical-align: middle;\n",
              "    }\n",
              "\n",
              "    .dataframe tbody tr th {\n",
              "        vertical-align: top;\n",
              "    }\n",
              "\n",
              "    .dataframe thead th {\n",
              "        text-align: right;\n",
              "    }\n",
              "</style>\n",
              "<table border=\"1\" class=\"dataframe\">\n",
              "  <thead>\n",
              "    <tr style=\"text-align: right;\">\n",
              "      <th></th>\n",
              "      <th>resourceid</th>\n",
              "      <th>projectid_str</th>\n",
              "      <th>vendorid</th>\n",
              "      <th>vendor_name</th>\n",
              "      <th>project_resource_type</th>\n",
              "      <th>item_name</th>\n",
              "      <th>item_number</th>\n",
              "      <th>item_unit_price</th>\n",
              "      <th>item_quantity</th>\n",
              "      <th>entity_id</th>\n",
              "      <th>date_posted</th>\n",
              "    </tr>\n",
              "  </thead>\n",
              "  <tbody>\n",
              "    <tr>\n",
              "      <th>0</th>\n",
              "      <td>202d2fe1164630c3e18623345650175d</td>\n",
              "      <td>0000fa3aa8f6649abab23615b546016d</td>\n",
              "      <td>7</td>\n",
              "      <td>AKJ Books</td>\n",
              "      <td>Books</td>\n",
              "      <td>Soft Rain</td>\n",
              "      <td>9780440412427</td>\n",
              "      <td>4.43</td>\n",
              "      <td>30.0</td>\n",
              "      <td>255654</td>\n",
              "      <td>2012-04-07</td>\n",
              "    </tr>\n",
              "    <tr>\n",
              "      <th>1</th>\n",
              "      <td>f0fa19ae0953d19e8ec670309fc8da72</td>\n",
              "      <td>071c87944d727b6dff382271125ff669</td>\n",
              "      <td>None</td>\n",
              "      <td>None</td>\n",
              "      <td>Trips</td>\n",
              "      <td>None</td>\n",
              "      <td>None</td>\n",
              "      <td>NaN</td>\n",
              "      <td>NaN</td>\n",
              "      <td>218307</td>\n",
              "      <td>2012-09-14</td>\n",
              "    </tr>\n",
              "    <tr>\n",
              "      <th>2</th>\n",
              "      <td>7ac0367031ced1660b7ce7bc903a29b1</td>\n",
              "      <td>07b961fee8623e35526bc6168d2911e9</td>\n",
              "      <td>7</td>\n",
              "      <td>AKJ Books</td>\n",
              "      <td>Books</td>\n",
              "      <td>The Purple Balloon</td>\n",
              "      <td>9780375841460</td>\n",
              "      <td>13.25</td>\n",
              "      <td>1.0</td>\n",
              "      <td>376890</td>\n",
              "      <td>2011-03-06</td>\n",
              "    </tr>\n",
              "    <tr>\n",
              "      <th>3</th>\n",
              "      <td>40d597c5b2889f95e37ad3d795dece16</td>\n",
              "      <td>0859ba7d65068d8028b7b8a06c6a3f8c</td>\n",
              "      <td>None</td>\n",
              "      <td>None</td>\n",
              "      <td>Trips</td>\n",
              "      <td>None</td>\n",
              "      <td>None</td>\n",
              "      <td>NaN</td>\n",
              "      <td>NaN</td>\n",
              "      <td>604216</td>\n",
              "      <td>2007-11-08</td>\n",
              "    </tr>\n",
              "    <tr>\n",
              "      <th>4</th>\n",
              "      <td>51e72dfc8c2b4c1a51045b2c3ccd5579</td>\n",
              "      <td>0aca0bb0e24f7b3731ce6af5321628d7</td>\n",
              "      <td>7</td>\n",
              "      <td>AKJ Books</td>\n",
              "      <td>Supplies</td>\n",
              "      <td>Graffiti Women</td>\n",
              "      <td>9780810957473</td>\n",
              "      <td>25.55</td>\n",
              "      <td>1.0</td>\n",
              "      <td>88543</td>\n",
              "      <td>2013-10-03</td>\n",
              "    </tr>\n",
              "  </tbody>\n",
              "</table>\n",
              "</div>\n",
              "      <button class=\"colab-df-convert\" onclick=\"convertToInteractive('df-2190f09e-332b-4614-b53e-223f97220db2')\"\n",
              "              title=\"Convert this dataframe to an interactive table.\"\n",
              "              style=\"display:none;\">\n",
              "        \n",
              "  <svg xmlns=\"http://www.w3.org/2000/svg\" height=\"24px\"viewBox=\"0 0 24 24\"\n",
              "       width=\"24px\">\n",
              "    <path d=\"M0 0h24v24H0V0z\" fill=\"none\"/>\n",
              "    <path d=\"M18.56 5.44l.94 2.06.94-2.06 2.06-.94-2.06-.94-.94-2.06-.94 2.06-2.06.94zm-11 1L8.5 8.5l.94-2.06 2.06-.94-2.06-.94L8.5 2.5l-.94 2.06-2.06.94zm10 10l.94 2.06.94-2.06 2.06-.94-2.06-.94-.94-2.06-.94 2.06-2.06.94z\"/><path d=\"M17.41 7.96l-1.37-1.37c-.4-.4-.92-.59-1.43-.59-.52 0-1.04.2-1.43.59L10.3 9.45l-7.72 7.72c-.78.78-.78 2.05 0 2.83L4 21.41c.39.39.9.59 1.41.59.51 0 1.02-.2 1.41-.59l7.78-7.78 2.81-2.81c.8-.78.8-2.07 0-2.86zM5.41 20L4 18.59l7.72-7.72 1.47 1.35L5.41 20z\"/>\n",
              "  </svg>\n",
              "      </button>\n",
              "      \n",
              "  <style>\n",
              "    .colab-df-container {\n",
              "      display:flex;\n",
              "      flex-wrap:wrap;\n",
              "      gap: 12px;\n",
              "    }\n",
              "\n",
              "    .colab-df-convert {\n",
              "      background-color: #E8F0FE;\n",
              "      border: none;\n",
              "      border-radius: 50%;\n",
              "      cursor: pointer;\n",
              "      display: none;\n",
              "      fill: #1967D2;\n",
              "      height: 32px;\n",
              "      padding: 0 0 0 0;\n",
              "      width: 32px;\n",
              "    }\n",
              "\n",
              "    .colab-df-convert:hover {\n",
              "      background-color: #E2EBFA;\n",
              "      box-shadow: 0px 1px 2px rgba(60, 64, 67, 0.3), 0px 1px 3px 1px rgba(60, 64, 67, 0.15);\n",
              "      fill: #174EA6;\n",
              "    }\n",
              "\n",
              "    [theme=dark] .colab-df-convert {\n",
              "      background-color: #3B4455;\n",
              "      fill: #D2E3FC;\n",
              "    }\n",
              "\n",
              "    [theme=dark] .colab-df-convert:hover {\n",
              "      background-color: #434B5C;\n",
              "      box-shadow: 0px 1px 3px 1px rgba(0, 0, 0, 0.15);\n",
              "      filter: drop-shadow(0px 1px 2px rgba(0, 0, 0, 0.3));\n",
              "      fill: #FFFFFF;\n",
              "    }\n",
              "  </style>\n",
              "\n",
              "      <script>\n",
              "        const buttonEl =\n",
              "          document.querySelector('#df-2190f09e-332b-4614-b53e-223f97220db2 button.colab-df-convert');\n",
              "        buttonEl.style.display =\n",
              "          google.colab.kernel.accessAllowed ? 'block' : 'none';\n",
              "\n",
              "        async function convertToInteractive(key) {\n",
              "          const element = document.querySelector('#df-2190f09e-332b-4614-b53e-223f97220db2');\n",
              "          const dataTable =\n",
              "            await google.colab.kernel.invokeFunction('convertToInteractive',\n",
              "                                                     [key], {});\n",
              "          if (!dataTable) return;\n",
              "\n",
              "          const docLinkHtml = 'Like what you see? Visit the ' +\n",
              "            '<a target=\"_blank\" href=https://colab.research.google.com/notebooks/data_table.ipynb>data table notebook</a>'\n",
              "            + ' to learn more about interactive tables.';\n",
              "          element.innerHTML = '';\n",
              "          dataTable['output_type'] = 'display_data';\n",
              "          await google.colab.output.renderOutput(dataTable, element);\n",
              "          const docLink = document.createElement('div');\n",
              "          docLink.innerHTML = docLinkHtml;\n",
              "          element.appendChild(docLink);\n",
              "        }\n",
              "      </script>\n",
              "    </div>\n",
              "  </div>\n",
              "  "
            ]
          },
          "metadata": {},
          "execution_count": 42
        }
      ]
    },
    {
      "cell_type": "code",
      "source": [
        "projects_df['date_posted'].describe()"
      ],
      "metadata": {
        "colab": {
          "base_uri": "https://localhost:8080/"
        },
        "id": "xqVjpHbyOJsO",
        "outputId": "e2aa66c4-adfe-4fcd-f2a0-02100e06ec5e"
      },
      "execution_count": null,
      "outputs": [
        {
          "output_type": "stream",
          "name": "stderr",
          "text": [
            "<ipython-input-43-8b090f1a4ccb>:1: FutureWarning: Treating datetime data as categorical rather than numeric in `.describe` is deprecated and will be removed in a future version of pandas. Specify `datetime_is_numeric=True` to silence this warning and adopt the future behavior now.\n",
            "  projects_df['date_posted'].describe()\n"
          ]
        },
        {
          "output_type": "execute_result",
          "data": {
            "text/plain": [
              "count                   16480\n",
              "unique                   2815\n",
              "top       2014-02-23 00:00:00\n",
              "freq                       53\n",
              "first     2002-09-19 00:00:00\n",
              "last      2014-05-11 00:00:00\n",
              "Name: date_posted, dtype: object"
            ]
          },
          "metadata": {},
          "execution_count": 43
        }
      ]
    },
    {
      "cell_type": "markdown",
      "source": [
        "We have data spanning around 12 years, so we can use feature and label constructions that require several months of feature and label availability and only lose a small portion of the data."
      ],
      "metadata": {
        "id": "ZZsQU5fyOP5-"
      }
    },
    {
      "cell_type": "code",
      "source": [
        "from datetime import timedelta\n",
        "import numpy as np"
      ],
      "metadata": {
        "id": "tJ-rvHxWWu95"
      },
      "execution_count": null,
      "outputs": []
    },
    {
      "cell_type": "code",
      "source": [
        "project_donations = {}\n",
        "project_requests = {}\n",
        "project_postedts = {}\n",
        "for i in range(len(projects_df)):\n",
        "  project_donations[projects_df.iloc[i]['projectid_str']] = 0\n",
        "  project_requests[projects_df.iloc[i]['projectid_str']] = projects_df.iloc[i]['total_asking_price'] \n",
        "  project_postedts[projects_df.iloc[i]['projectid_str']] = projects_df.iloc[i]['date_posted']\n",
        "\n",
        "for i in range(len(donations_df)):\n",
        "  project = donations_df.iloc[i]['projectid_str']\n",
        "  donation_ts = donations_df.iloc[i]['donation_timestamp']\n",
        "  posted_ts = project_postedts[project]\n",
        "  if donation_ts - posted_ts > timedelta(days = 120):\n",
        "    continue\n",
        "  project_donations[project] += donations_df.iloc[i]['donation_to_project']"
      ],
      "metadata": {
        "id": "-IcY7wiLYPzF"
      },
      "execution_count": null,
      "outputs": []
    },
    {
      "cell_type": "code",
      "source": [
        "project_funded = {}\n",
        "for project in project_requests:\n",
        "  if project_donations[project] >= project_requests[project]:\n",
        "    project_funded[project] = 1\n",
        "  else:\n",
        "    project_funded[project] = 0"
      ],
      "metadata": {
        "id": "3PaCXUkdVd7t"
      },
      "execution_count": null,
      "outputs": []
    },
    {
      "cell_type": "code",
      "source": [
        "essays_df['essay_length'] = essays_df['essay'].str.len()\n",
        "essays_df['need_length'] = essays_df['need_statement'].str.len()\n",
        "essays_df['title_length'] = essays_df['title'].str.len()"
      ],
      "metadata": {
        "id": "YFqwqLfQk1-0"
      },
      "execution_count": null,
      "outputs": []
    },
    {
      "cell_type": "code",
      "source": [
        "labeled_df = projects_df.merge(pd.DataFrame.from_dict({'projectid_str': project_funded.keys(), 'fully_funded_4mo': project_funded.values()}), on=['projectid_str'])\n",
        "labeled_df = labeled_df.merge(essays_df, on = ['projectid_str'], how = 'inner').dropna(subset = ['need_length'])"
      ],
      "metadata": {
        "id": "HYIEO-QEXNDD"
      },
      "execution_count": null,
      "outputs": []
    },
    {
      "cell_type": "code",
      "source": [
        "labeled_df['need_length'].describe()"
      ],
      "metadata": {
        "colab": {
          "base_uri": "https://localhost:8080/"
        },
        "id": "2fuF7oxdl0l8",
        "outputId": "464bfbde-79c6-4e98-e527-f7bc6c138e55"
      },
      "execution_count": null,
      "outputs": [
        {
          "output_type": "execute_result",
          "data": {
            "text/plain": [
              "count    16474.000000\n",
              "mean       123.577941\n",
              "std         64.897064\n",
              "min         23.000000\n",
              "25%         82.000000\n",
              "50%        113.000000\n",
              "75%        153.000000\n",
              "max       1124.000000\n",
              "Name: need_length, dtype: float64"
            ]
          },
          "metadata": {},
          "execution_count": 50
        }
      ]
    },
    {
      "cell_type": "code",
      "source": [
        "# Baseline Probability of a project being fully funded in 4 months\n",
        "labeled_df['fully_funded_4mo'].mean()"
      ],
      "metadata": {
        "colab": {
          "base_uri": "https://localhost:8080/"
        },
        "id": "fKqkFxTojU3q",
        "outputId": "021c0e0b-aadd-43d5-e9b0-c5ad8881b1c0"
      },
      "execution_count": null,
      "outputs": [
        {
          "output_type": "execute_result",
          "data": {
            "text/plain": [
              "0.5295010319291004"
            ]
          },
          "metadata": {},
          "execution_count": 53
        }
      ]
    },
    {
      "cell_type": "code",
      "source": [
        "# Projects farther North are more likely to be funded\n",
        "np.corrcoef(labeled_df['school_latitude'], labeled_df['fully_funded_4mo'])[0,1]"
      ],
      "metadata": {
        "colab": {
          "base_uri": "https://localhost:8080/"
        },
        "id": "474YkuSNa1_t",
        "outputId": "dc14f342-b1ef-4069-fa33-90b5506b62eb"
      },
      "execution_count": null,
      "outputs": [
        {
          "output_type": "execute_result",
          "data": {
            "text/plain": [
              "0.03547896838427393"
            ]
          },
          "metadata": {},
          "execution_count": 54
        }
      ]
    },
    {
      "cell_type": "code",
      "source": [
        "# Projects farther East are more likely to be funded\n",
        "np.corrcoef(labeled_df['school_longitude'], labeled_df['fully_funded_4mo'])[0,1]"
      ],
      "metadata": {
        "colab": {
          "base_uri": "https://localhost:8080/"
        },
        "id": "1mMg86lZkISd",
        "outputId": "4e589615-3a55-41fa-87d3-3dd3e0f2b29a"
      },
      "execution_count": null,
      "outputs": [
        {
          "output_type": "execute_result",
          "data": {
            "text/plain": [
              "-0.05465138145314809"
            ]
          },
          "metadata": {},
          "execution_count": 55
        }
      ]
    },
    {
      "cell_type": "code",
      "source": [
        "# Projects with smaller requested amounts are more likely to be funded\n",
        "np.corrcoef(labeled_df['total_asking_price'], labeled_df['fully_funded_4mo'])[0,1]"
      ],
      "metadata": {
        "colab": {
          "base_uri": "https://localhost:8080/"
        },
        "id": "_zdoEjKskhkl",
        "outputId": "7ea98553-92eb-4c77-8bac-7fa67a525931"
      },
      "execution_count": null,
      "outputs": [
        {
          "output_type": "execute_result",
          "data": {
            "text/plain": [
              "-0.11264815601741877"
            ]
          },
          "metadata": {},
          "execution_count": 56
        }
      ]
    },
    {
      "cell_type": "code",
      "source": [
        "# Weak correlation between number of students reached and probability of funding\n",
        "np.corrcoef(labeled_df['students_reached'], labeled_df['fully_funded_4mo'])[0,1]"
      ],
      "metadata": {
        "colab": {
          "base_uri": "https://localhost:8080/"
        },
        "id": "SGXGjMnZkoaX",
        "outputId": "af01bde2-d900-476e-ee3c-0d5bae1a5e51"
      },
      "execution_count": null,
      "outputs": [
        {
          "output_type": "execute_result",
          "data": {
            "text/plain": [
              "-0.008562035307620421"
            ]
          },
          "metadata": {},
          "execution_count": 57
        }
      ]
    },
    {
      "cell_type": "code",
      "source": [
        "# Longer titles positively correlated with full funding\n",
        "np.corrcoef(labeled_df['title_length'], labeled_df['fully_funded_4mo'])[0,1]"
      ],
      "metadata": {
        "colab": {
          "base_uri": "https://localhost:8080/"
        },
        "id": "qlg9hWWtlYDR",
        "outputId": "6f2deeae-1fc7-4ba4-8205-4f7d2887dccd"
      },
      "execution_count": null,
      "outputs": [
        {
          "output_type": "execute_result",
          "data": {
            "text/plain": [
              "0.0381443858355917"
            ]
          },
          "metadata": {},
          "execution_count": 58
        }
      ]
    },
    {
      "cell_type": "code",
      "source": [
        "np.corrcoef(labeled_df['need_length'], labeled_df['fully_funded_4mo'])[0,1]"
      ],
      "metadata": {
        "colab": {
          "base_uri": "https://localhost:8080/"
        },
        "id": "O5jgw1UflaqT",
        "outputId": "c0fe059e-2e8e-4c9f-cd7f-5733dd3ed005"
      },
      "execution_count": null,
      "outputs": [
        {
          "output_type": "execute_result",
          "data": {
            "text/plain": [
              "0.027217687745323516"
            ]
          },
          "metadata": {},
          "execution_count": 59
        }
      ]
    },
    {
      "cell_type": "code",
      "source": [
        "np.corrcoef(labeled_df['essay_length'], labeled_df['fully_funded_4mo'])[0,1]"
      ],
      "metadata": {
        "colab": {
          "base_uri": "https://localhost:8080/"
        },
        "id": "CJUKY0t9leYL",
        "outputId": "af5875c1-c38d-4f86-a53b-8f5b3627bb3e"
      },
      "execution_count": null,
      "outputs": [
        {
          "output_type": "execute_result",
          "data": {
            "text/plain": [
              "0.009384998757455482"
            ]
          },
          "metadata": {},
          "execution_count": 60
        }
      ]
    },
    {
      "cell_type": "markdown",
      "source": [
        "Many features of interest are categorical in nature and computing correlations between these features and the binary target isn't trivial.  To determine potentially informative categorical features, we can one hot encode the categories and calculate the empirical probability of funding given a sample in that category.  Variables where different categories have dramatically different empirical probabilities are most likely to be predictive, which we can quantify with mean absolute devation of each category's label mean."
      ],
      "metadata": {
        "id": "pMXXaqeya3qE"
      }
    },
    {
      "cell_type": "code",
      "source": [
        "labeled_df['poverty_level'].unique()"
      ],
      "metadata": {
        "colab": {
          "base_uri": "https://localhost:8080/"
        },
        "id": "hmyGVD-xamBZ",
        "outputId": "cabf7f1b-7966-4904-acda-3c9600db032f"
      },
      "execution_count": null,
      "outputs": [
        {
          "output_type": "execute_result",
          "data": {
            "text/plain": [
              "array(['high poverty', 'highest poverty', 'moderate poverty',\n",
              "       'low poverty'], dtype=object)"
            ]
          },
          "metadata": {},
          "execution_count": 61
        }
      ]
    },
    {
      "cell_type": "code",
      "source": [
        "labeled_df.groupby('poverty_level').mean()['fully_funded_4mo']"
      ],
      "metadata": {
        "colab": {
          "base_uri": "https://localhost:8080/"
        },
        "id": "eLLX85I0b0_Y",
        "outputId": "3e4687dc-03cd-4f9a-9228-74fc0ed91dfc"
      },
      "execution_count": null,
      "outputs": [
        {
          "output_type": "execute_result",
          "data": {
            "text/plain": [
              "poverty_level\n",
              "high poverty        0.494591\n",
              "highest poverty     0.560631\n",
              "low poverty         0.514045\n",
              "moderate poverty    0.458333\n",
              "Name: fully_funded_4mo, dtype: float64"
            ]
          },
          "metadata": {},
          "execution_count": 62
        }
      ]
    },
    {
      "cell_type": "code",
      "source": [
        "labeled_df.groupby('grade_level').mean()['fully_funded_4mo']"
      ],
      "metadata": {
        "colab": {
          "base_uri": "https://localhost:8080/"
        },
        "id": "bcoFpWLBi8vH",
        "outputId": "826f992c-894e-447c-e80c-638cf70a1453"
      },
      "execution_count": null,
      "outputs": [
        {
          "output_type": "execute_result",
          "data": {
            "text/plain": [
              "grade_level\n",
              "Grades 3-5       0.513767\n",
              "Grades 6-8       0.543106\n",
              "Grades 9-12      0.568407\n",
              "Grades PreK-2    0.514017\n",
              "Name: fully_funded_4mo, dtype: float64"
            ]
          },
          "metadata": {},
          "execution_count": 63
        }
      ]
    },
    {
      "cell_type": "code",
      "source": [
        "labeled_df.groupby('teacher_prefix').mean()['fully_funded_4mo']"
      ],
      "metadata": {
        "colab": {
          "base_uri": "https://localhost:8080/"
        },
        "id": "u3IXrJhvjAmL",
        "outputId": "8c580ccf-8d33-4e9d-acce-48f5806d4f48"
      },
      "execution_count": null,
      "outputs": [
        {
          "output_type": "execute_result",
          "data": {
            "text/plain": [
              "teacher_prefix\n",
              "Mr.     0.561348\n",
              "Mrs.    0.496842\n",
              "Ms.     0.557627\n",
              "Name: fully_funded_4mo, dtype: float64"
            ]
          },
          "metadata": {},
          "execution_count": 64
        }
      ]
    },
    {
      "cell_type": "code",
      "source": [
        "labeled_df.groupby('primary_focus_subject').mean()['fully_funded_4mo']"
      ],
      "metadata": {
        "colab": {
          "base_uri": "https://localhost:8080/"
        },
        "id": "ev1KZel3jJ7g",
        "outputId": "4c719dfa-69c8-491f-b242-76a03a8e4478"
      },
      "execution_count": null,
      "outputs": [
        {
          "output_type": "execute_result",
          "data": {
            "text/plain": [
              "primary_focus_subject\n",
              "Applied Sciences         0.551122\n",
              "Character Education      0.590308\n",
              "Civics & Government      0.792453\n",
              "College & Career Prep    0.455128\n",
              "Community Service        0.690476\n",
              "ESL                      0.486726\n",
              "Early Development        0.449180\n",
              "Economics                0.600000\n",
              "Environmental Science    0.573574\n",
              "Extracurricular          0.412698\n",
              "Foreign Languages        0.425373\n",
              "Gym & Fitness            0.445946\n",
              "Health & Life Science    0.571918\n",
              "Health & Wellness        0.489933\n",
              "History & Geography      0.572301\n",
              "Literacy                 0.524821\n",
              "Literature & Writing     0.543344\n",
              "Mathematics              0.520803\n",
              "Music                    0.611111\n",
              "Nutrition                0.461538\n",
              "Other                    0.399351\n",
              "Parent Involvement       0.468750\n",
              "Performing Arts          0.546341\n",
              "Social Sciences          0.487903\n",
              "Special Needs            0.477426\n",
              "Sports                   0.666667\n",
              "Visual Arts              0.542029\n",
              "Name: fully_funded_4mo, dtype: float64"
            ]
          },
          "metadata": {},
          "execution_count": 65
        }
      ]
    },
    {
      "cell_type": "code",
      "source": [
        "labeled_df.groupby('primary_focus_area').mean()['fully_funded_4mo']"
      ],
      "metadata": {
        "colab": {
          "base_uri": "https://localhost:8080/"
        },
        "id": "KRJ2Q6sOmuFl",
        "outputId": "bc43aa9f-821b-4762-dc64-e303edf27274"
      },
      "execution_count": null,
      "outputs": [
        {
          "output_type": "execute_result",
          "data": {
            "text/plain": [
              "primary_focus_area\n",
              "Applied Learning       0.472198\n",
              "Health & Sports        0.510490\n",
              "History & Civics       0.562724\n",
              "Literacy & Language    0.527152\n",
              "Math & Science         0.542361\n",
              "Music & The Arts       0.571148\n",
              "Special Needs          0.477426\n",
              "Name: fully_funded_4mo, dtype: float64"
            ]
          },
          "metadata": {},
          "execution_count": 66
        }
      ]
    },
    {
      "cell_type": "code",
      "source": [
        "labeled_df.groupby('resource_type').mean()['fully_funded_4mo']"
      ],
      "metadata": {
        "colab": {
          "base_uri": "https://localhost:8080/"
        },
        "id": "XLSleYIcm0Qk",
        "outputId": "b6d89011-dc55-4694-f191-e1648d7fe364"
      },
      "execution_count": null,
      "outputs": [
        {
          "output_type": "execute_result",
          "data": {
            "text/plain": [
              "resource_type\n",
              "Books         0.604280\n",
              "Other         0.516435\n",
              "Supplies      0.553119\n",
              "Technology    0.455551\n",
              "Trips         0.614583\n",
              "Visitors      0.434783\n",
              "Name: fully_funded_4mo, dtype: float64"
            ]
          },
          "metadata": {},
          "execution_count": 67
        }
      ]
    },
    {
      "cell_type": "markdown",
      "source": [
        "# QUESTION 2\n",
        "\n",
        "For this question, you'll develop a model to help DonorsChoose **identify 10% of projects with the highest risk of failing to meet their funding goal** for their digital content expert review and provide suggestions. In order to intervene early in the process, DonorsChoose wants to identify these projects to help **immediately upon being posted** to the site.\n",
        "\n",
        "Build and evaluate the performance of several machine learning models for this task. **Be sure to use comments or text blocks to discuss the choices and assumptions you're making along the way.** Feel free to use any python packages available (such as sklearn) for this."
      ],
      "metadata": {
        "id": "6y7NI6XAS-96"
      }
    },
    {
      "cell_type": "markdown",
      "source": [
        "In order to fairly evaluate models on this problem, we'll need to chronologically split the data into training, validation, and test sets. We make model decisions and select hyperparameters on a validation set in order to account for overfitting, then evaluate on a test set to account for selection bias in estimating our model's performance on future, unseen data.  \n",
        "\n",
        "The chronological split is necessary because our model will ultimately need to perform on projects farther into the future; it is possible that using older data in validation and test sets may constitute cheating and misrepresent a model's performance on future data.\n",
        "\n",
        "In using test performance as an estimate for future performance, we assume little or no distribution shift between our dataset and future projects in the real world.  This is unrealistic because funding behaviors by donators may change over time, as will the distribution of project features, descriptions, and legitimacy.  Furthermore, there may be differences between the collection of the original dataset and sampling live data in production which could result in covariate shift or data discrepancies."
      ],
      "metadata": {
        "id": "k2T4Gag2m9v3"
      }
    },
    {
      "cell_type": "code",
      "source": [
        "labeled_df = labeled_df.sort_values('date_posted_x').reset_index(drop = True)"
      ],
      "metadata": {
        "id": "1no-JSODqBI0"
      },
      "execution_count": null,
      "outputs": []
    },
    {
      "cell_type": "code",
      "source": [
        "num_cols = ['school_latitude', 'school_longitude', 'total_asking_price', 'title_length', 'need_length']\n",
        "cat_cols = ['poverty_level', 'grade_level', 'teacher_prefix']"
      ],
      "metadata": {
        "id": "nCpRxQQ8qkqh"
      },
      "execution_count": null,
      "outputs": []
    },
    {
      "cell_type": "code",
      "source": [
        "X = labeled_df[num_cols].join(pd.get_dummies(labeled_df[cat_cols]))\n",
        "train_X = X.iloc[:int(len(X) * .6)]\n",
        "X -= train_X.mean()\n",
        "X /= train_X.std()\n",
        "Y = labeled_df['fully_funded_4mo']"
      ],
      "metadata": {
        "id": "Dpd2fT0BsTpZ"
      },
      "execution_count": null,
      "outputs": []
    },
    {
      "cell_type": "code",
      "source": [
        "train_X = X.iloc[:int(len(X) * .6)]\n",
        "val_X = X.iloc[int(len(X) * .6): int(len(X) * .8)]\n",
        "test_X = X.iloc[int(len(X) * .8):]\n",
        "\n",
        "train_Y = Y.iloc[:int(len(X) * .6)]\n",
        "val_Y = Y.iloc[int(len(X) * .6): int(len(X) * .8)]\n",
        "test_Y = Y.iloc[int(len(X) * .8):]"
      ],
      "metadata": {
        "id": "p9ONhPfisbWa"
      },
      "execution_count": null,
      "outputs": []
    },
    {
      "cell_type": "code",
      "source": [
        "# TPR Baselines for each split\n",
        "print(1 - np.mean(train_Y), 1 - np.mean(val_Y), 1 - np.mean(test_Y))"
      ],
      "metadata": {
        "colab": {
          "base_uri": "https://localhost:8080/"
        },
        "id": "MM42Xy9Z6A-O",
        "outputId": "c21775dc-d191-427d-b131-6e67f2e7bbb7"
      },
      "execution_count": null,
      "outputs": [
        {
          "output_type": "stream",
          "name": "stdout",
          "text": [
            "0.4637798462161068 0.3766312594840667 0.5845220030349014\n"
          ]
        }
      ]
    },
    {
      "cell_type": "markdown",
      "source": [
        "Based on the wording of the task, it makes most sense to approach this problem with binary classification of whether or not a given project was fully funded within 4 month.  An alternative approach would be to train a regression predicting the dollar amount of donations received, or the numerical ratio of donations received to requested amount."
      ],
      "metadata": {
        "id": "4s6zBFhVuEz2"
      }
    },
    {
      "cell_type": "code",
      "source": [
        "from sklearn.neighbors import KNeighborsClassifier\n",
        "\n",
        "from sklearn.linear_model import LogisticRegression\n",
        "from sklearn.ensemble import RandomForestClassifier"
      ],
      "metadata": {
        "id": "qI4e96G9tepn"
      },
      "execution_count": null,
      "outputs": []
    },
    {
      "cell_type": "code",
      "source": [
        "def top_k_tpr(pred, vals, k = .1):\n",
        "  return 1 - np.mean(vals.iloc[np.argsort(pred)].values[:int(k*len(vals))])\n",
        "\n",
        "def evaluate_model(model):\n",
        "  model.fit(train_X, train_Y)\n",
        "  train_pred = model.predict(train_X)\n",
        "  val_pred = model.predict(val_X)\n",
        "  test_pred = model.predict(test_X)\n",
        "  print(f\"Train corr: {np.corrcoef(train_pred, train_Y)[0,1]}\\nTrain top 10% TPR: {top_k_tpr(train_pred, train_Y)}\\nVal corr: {np.corrcoef(val_pred, val_Y)[0,1]}\\nVal top 10% TPR: {top_k_tpr(val_pred, val_Y)}\\nTest corr: {np.corrcoef(test_pred, test_Y)[0,1]}\\nTest top 10% TPR: {top_k_tpr(test_pred, test_Y)}\")"
      ],
      "metadata": {
        "id": "QalluYEFueZv"
      },
      "execution_count": null,
      "outputs": []
    },
    {
      "cell_type": "code",
      "source": [
        "logreg = LogisticRegression(max_iter = 1000)\n",
        "evaluate_model(logreg)"
      ],
      "metadata": {
        "colab": {
          "base_uri": "https://localhost:8080/"
        },
        "id": "MJ1pVF-Othsd",
        "outputId": "3967dbae-4902-4d5b-ffa5-fddab25c4b48"
      },
      "execution_count": null,
      "outputs": [
        {
          "output_type": "stream",
          "name": "stdout",
          "text": [
            "Train corr: 0.24892472690790474\n",
            "Train top 10% TPR: 0.6366396761133604\n",
            "Val corr: 0.10927693517264568\n",
            "Val top 10% TPR: 0.452887537993921\n",
            "Test corr: 0.06958675915275872\n",
            "Test top 10% TPR: 0.541033434650456\n"
          ]
        }
      ]
    },
    {
      "cell_type": "code",
      "source": [
        "rfc = RandomForestClassifier()\n",
        "evaluate_model(rfc)"
      ],
      "metadata": {
        "colab": {
          "base_uri": "https://localhost:8080/"
        },
        "id": "kxT9nyI9tyZ5",
        "outputId": "7bf8a63b-0847-489c-a9d2-18f70107379c"
      },
      "execution_count": null,
      "outputs": [
        {
          "output_type": "stream",
          "name": "stdout",
          "text": [
            "Train corr: 0.9993899690454462\n",
            "Train top 10% TPR: 1.0\n",
            "Val corr: 0.16692597207749718\n",
            "Val top 10% TPR: 0.5197568389057751\n",
            "Test corr: 0.07700085419057597\n",
            "Test top 10% TPR: 0.6413373860182371\n"
          ]
        }
      ]
    },
    {
      "cell_type": "code",
      "source": [
        "nn = KNeighborsClassifier(n_neighbors=21)\n",
        "evaluate_model(nn)"
      ],
      "metadata": {
        "colab": {
          "base_uri": "https://localhost:8080/"
        },
        "id": "ei6F3r5dyUy6",
        "outputId": "f3245302-fc93-4cf6-c820-b4a70a6f48aa"
      },
      "execution_count": null,
      "outputs": [
        {
          "output_type": "stream",
          "name": "stdout",
          "text": [
            "Train corr: 0.29455486321522456\n",
            "Train top 10% TPR: 0.638663967611336\n",
            "Val corr: 0.06329253025113005\n",
            "Val top 10% TPR: 0.4042553191489362\n",
            "Test corr: 0.05552173503329483\n",
            "Test top 10% TPR: 0.5835866261398177\n"
          ]
        }
      ]
    },
    {
      "cell_type": "markdown",
      "source": [
        "# QUESTION 3\n",
        "\n",
        "Briefly discuss (in at most 1-2 paragraphs) the results of your analysis above: Which model would you select to deploy and why? Are there future analysis or improvements you would suggest? Are there other data sources you would ideally like to be able to incorporate into your models?"
      ],
      "metadata": {
        "id": "CSOIZcMFESpn"
      }
    },
    {
      "cell_type": "markdown",
      "source": [
        "Of the three candidate model classes, the random forest performed best in both of validation correlation and true positive rate of the top 10% most predicted at risk.  The random forest further performed the best on the test set as well, suggesting that it is most successful in capturing signals which generalize to unseen data.  Moreover, it outperforms a baseline TPR of the overall rate of failing to receive full funding.\n",
        "\n",
        "Future work should include a more complete ablation of features.  In this assignment, I excluded categorical features with many values because they would dramatically increase the dimension of the feature space, making models more prone to overfitting.  This could be addressed by grouping certain categories together, or, in the extreme case, using one vs. the rest.  I'm also interested in analyzing the text data beyond just length via sentiment analysis or pretrained embeddings."
      ],
      "metadata": {
        "id": "29xLFHcO5x8b"
      }
    },
    {
      "cell_type": "markdown",
      "source": [
        "# Submission\n",
        "\n",
        "To submit your exercise, please **save a copy** of this notebook containing your code and outputs (you can save it either to google drive or github, but make sure the course staff will have read permissions to access it).\n",
        "\n",
        "Provide a link to your copy of the notebook when you submit the assignment in canvas.\n",
        "\n",
        "Thank you and we're looking forward to a great semester in 10718!"
      ],
      "metadata": {
        "id": "XP2k3Z--DNju"
      }
    }
  ]
}