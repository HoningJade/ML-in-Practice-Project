{
  "cells": [
    {
      "cell_type": "markdown",
      "metadata": {
        "id": "MygD9O0cNBh6"
      },
      "source": [
        "# Baselines and Formulation\n"
      ]
    },
    {
      "cell_type": "markdown",
      "metadata": {
        "id": "1x6jG72qJqct"
      },
      "source": [
        "## Data Preparation"
      ]
    },
    {
      "cell_type": "code",
      "execution_count": null,
      "metadata": {
        "id": "iY8dwqamIIQc"
      },
      "outputs": [],
      "source": [
        "# Install and start postgresql-11 server\n",
        "!sudo apt-get -y -qq update\n",
        "!wget --quiet -O - https://www.postgresql.org/media/keys/ACCC4CF8.asc | sudo apt-key add -\n",
        "!echo \"deb http://apt.postgresql.org/pub/repos/apt/ `lsb_release -cs`-pgdg main\" |sudo tee  /etc/apt/sources.list.d/pgdg.list\n",
        "!sudo apt-get -y -qq update\n",
        "!sudo apt-get -y -qq install postgresql-11 postgresql-client-11\n",
        "!sudo service postgresql start\n",
        "\n",
        "# Setup a password `postgres` for username `postgres`\n",
        "!sudo -u postgres psql -U postgres -c \"ALTER USER postgres PASSWORD 'postgres';\"\n",
        "\n",
        "# Setup a database with name `donors_choose` to be used\n",
        "!sudo -u postgres psql -U postgres -c 'DROP DATABASE IF EXISTS donors_choose;'\n",
        "\n",
        "!sudo -u postgres psql -U postgres -c 'CREATE DATABASE donors_choose;'\n",
        "\n",
        "# Environment variables for connecting to the database\n",
        "%env DEMO_DATABASE_NAME=donors_choose\n",
        "%env DEMO_DATABASE_HOST=localhost\n",
        "%env DEMO_DATABASE_PORT=5432\n",
        "\n",
        "# Setup a database with name `donors_choose` to be used\n",
        "!sudo -u postgres psql -U postgres -c 'DROP DATABASE IF EXISTS donors_choose;'\n",
        "\n",
        "!sudo -u postgres psql -U postgres -c 'CREATE DATABASE donors_choose;'\n",
        "\n",
        "# Environment variables for connecting to the database\n",
        "%env DEMO_DATABASE_NAME=donors_choose\n",
        "%env DEMO_DATABASE_HOST=localhost\n",
        "%env DEMO_DATABASE_PORT=5432\n",
        "%env DEMO_DATABASE_USER=postgres\n",
        "%env DEMO_DATABASE_PASS=postgres"
      ]
    },
    {
      "cell_type": "code",
      "execution_count": null,
      "metadata": {
        "id": "2OWTM7IJs0_3"
      },
      "outputs": [],
      "source": [
        "# Download sampled DonorsChoose data and load it into our postgres server\n",
        "!curl -s -OL https://dsapp-public-data-migrated.s3.us-west-2.amazonaws.com/donors_sampled_20210920_v3.dmp\n",
        "!PGPASSWORD=$DEMO_DATABASE_PASS pg_restore -h $DEMO_DATABASE_HOST -p $DEMO_DATABASE_PORT -d $DEMO_DATABASE_NAME -U $DEMO_DATABASE_USER -O -j 8 donors_sampled_20210920_v3.dmp\n",
        "!pip install SQLAlchemy==1.3.18 PyYAML==6.0 psycopg2-binary==2.9.3\n",
        "from sqlalchemy.engine.url import URL\n",
        "from sqlalchemy import create_engine\n",
        "\n",
        "db_url = URL(\n",
        "            'postgres',\n",
        "            host='localhost',\n",
        "            username='postgres',\n",
        "            database='donors_choose',\n",
        "            password='postgres',\n",
        "            port=5432,\n",
        "        )\n",
        "\n",
        "db_engine = create_engine(db_url)\n",
        "full_projects = pd.read_sql(\"SELECT * FROM data.projects\", db_engine)\n",
        "full_resources = pd.read_sql(\"SELECT * FROM data.resources\", db_engine)\n",
        "full_donations = pd.read_sql(\"SELECT * FROM data.donations\", db_engine)\n",
        "\n",
        "\n",
        "full_projects=full_projects.rename(columns = {'projectid_str':'projectid', \"total_asking_price\":\"total_price_excluding_optional_support\"})\n",
        "full_donations = full_donations.rename(columns = {'projectid_str':'projectid'})"
      ]
    },
    {
      "cell_type": "code",
      "execution_count": null,
      "metadata": {
        "id": "t4ZA3QYJ8sW3"
      },
      "outputs": [],
      "source": [
        "!pip install kaggle\n",
        "\n",
        "!mkdir /root/.kaggle\n",
        "!touch /root/.kaggle/kaggle.json\n",
        "api_token = {\"username\":\"ploped123\",\"key\":\"eeeeba8fc52706723e4c1bcf41ae6fd3\"}\n",
        "\n",
        "with open('/root/.kaggle/kaggle.json', 'w') as file:\n",
        "    json.dump(api_token, file)\n",
        "\n",
        "!chmod 600 /root/.kaggle/kaggle.json\n",
        "\n",
        "!kaggle competitions download -c kdd-cup-2014-predicting-excitement-at-donors-choose"
      ]
    },
    {
      "cell_type": "code",
      "execution_count": null,
      "metadata": {
        "id": "HunBQJMX9gPN"
      },
      "outputs": [],
      "source": [
        "!ls /content"
      ]
    },
    {
      "cell_type": "code",
      "execution_count": null,
      "metadata": {
        "id": "76VVzgwkKbli"
      },
      "outputs": [],
      "source": [
        "!unzip /content/kdd-cup-2014-predicting-excitement-at-donors-choose.zip"
      ]
    },
    {
      "cell_type": "code",
      "execution_count": null,
      "metadata": {
        "id": "mK_ns8iP9jSM"
      },
      "outputs": [],
      "source": [
        "!unzip /content/resources.csv.zip\n",
        "!unzip /content/donations.csv.zip"
      ]
    },
    {
      "cell_type": "code",
      "execution_count": null,
      "metadata": {
        "id": "cDEORpu4-Glu"
      },
      "outputs": [],
      "source": [
        "!unzip /content/projects.csv.zip"
      ]
    },
    {
      "cell_type": "markdown",
      "source": [
        "## Obtain df"
      ],
      "metadata": {
        "id": "3UK_3w0PRRw8"
      }
    },
    {
      "cell_type": "code",
      "execution_count": 3,
      "metadata": {
        "id": "dDwjqJp-92WB"
      },
      "outputs": [],
      "source": [
        "import json\n",
        "import zipfile\n",
        "import os\n",
        "import pandas as pd\n",
        "import numpy as np"
      ]
    },
    {
      "cell_type": "code",
      "execution_count": 4,
      "metadata": {
        "id": "6gHx2YiBDH6x"
      },
      "outputs": [],
      "source": [
        "full_donations = pd.read_csv(\"/content/donations.csv\")\n",
        "full_projects = pd.read_csv(\"/content/projects.csv\")\n",
        "# full_essays = pd.read_csv(\"essays.csv\")\n",
        "full_resources = pd.read_csv(\"/content/resources.csv\")"
      ]
    },
    {
      "cell_type": "code",
      "execution_count": 5,
      "metadata": {
        "id": "g7koLM_mDH6y",
        "colab": {
          "base_uri": "https://localhost:8080/"
        },
        "outputId": "13fd9b20-e562-49f3-a6e4-4059d191cd47"
      },
      "outputs": [
        {
          "output_type": "stream",
          "name": "stdout",
          "text": [
            "Looking in indexes: https://pypi.org/simple, https://us-python.pkg.dev/colab-wheels/public/simple/\n",
            "Requirement already satisfied: textstat in /usr/local/lib/python3.10/dist-packages (0.7.3)\n",
            "Requirement already satisfied: pyphen in /usr/local/lib/python3.10/dist-packages (from textstat) (0.14.0)\n",
            "Looking in indexes: https://pypi.org/simple, https://us-python.pkg.dev/colab-wheels/public/simple/\n",
            "Requirement already satisfied: flair in /usr/local/lib/python3.10/dist-packages (0.12.2)\n",
            "Requirement already satisfied: bpemb>=0.3.2 in /usr/local/lib/python3.10/dist-packages (from flair) (0.3.4)\n",
            "Requirement already satisfied: more-itertools in /usr/local/lib/python3.10/dist-packages (from flair) (9.1.0)\n",
            "Requirement already satisfied: tabulate in /usr/local/lib/python3.10/dist-packages (from flair) (0.8.10)\n",
            "Requirement already satisfied: tqdm>=4.26.0 in /usr/local/lib/python3.10/dist-packages (from flair) (4.65.0)\n",
            "Requirement already satisfied: janome in /usr/local/lib/python3.10/dist-packages (from flair) (0.4.2)\n",
            "Requirement already satisfied: gdown==4.4.0 in /usr/local/lib/python3.10/dist-packages (from flair) (4.4.0)\n",
            "Requirement already satisfied: mpld3==0.3 in /usr/local/lib/python3.10/dist-packages (from flair) (0.3)\n",
            "Requirement already satisfied: regex in /usr/local/lib/python3.10/dist-packages (from flair) (2022.10.31)\n",
            "Requirement already satisfied: segtok>=1.5.7 in /usr/local/lib/python3.10/dist-packages (from flair) (1.5.11)\n",
            "Requirement already satisfied: gensim>=3.8.0 in /usr/local/lib/python3.10/dist-packages (from flair) (4.3.1)\n",
            "Requirement already satisfied: wikipedia-api in /usr/local/lib/python3.10/dist-packages (from flair) (0.5.8)\n",
            "Requirement already satisfied: matplotlib>=2.2.3 in /usr/local/lib/python3.10/dist-packages (from flair) (3.7.1)\n",
            "Requirement already satisfied: hyperopt>=0.2.7 in /usr/local/lib/python3.10/dist-packages (from flair) (0.2.7)\n",
            "Requirement already satisfied: pptree in /usr/local/lib/python3.10/dist-packages (from flair) (3.1)\n",
            "Requirement already satisfied: transformer-smaller-training-vocab>=0.2.1 in /usr/local/lib/python3.10/dist-packages (from flair) (0.2.3)\n",
            "Requirement already satisfied: python-dateutil>=2.6.1 in /usr/local/lib/python3.10/dist-packages (from flair) (2.8.2)\n",
            "Requirement already satisfied: deprecated>=1.2.4 in /usr/local/lib/python3.10/dist-packages (from flair) (1.2.13)\n",
            "Requirement already satisfied: scikit-learn>=0.21.3 in /usr/local/lib/python3.10/dist-packages (from flair) (1.2.2)\n",
            "Requirement already satisfied: boto3 in /usr/local/lib/python3.10/dist-packages (from flair) (1.26.123)\n",
            "Requirement already satisfied: huggingface-hub>=0.10.0 in /usr/local/lib/python3.10/dist-packages (from flair) (0.14.1)\n",
            "Requirement already satisfied: ftfy in /usr/local/lib/python3.10/dist-packages (from flair) (6.1.1)\n",
            "Requirement already satisfied: conllu>=4.0 in /usr/local/lib/python3.10/dist-packages (from flair) (4.5.2)\n",
            "Requirement already satisfied: torch!=1.8,>=1.5.0 in /usr/local/lib/python3.10/dist-packages (from flair) (2.0.0+cu118)\n",
            "Requirement already satisfied: pytorch-revgrad in /usr/local/lib/python3.10/dist-packages (from flair) (0.2.0)\n",
            "Requirement already satisfied: sqlitedict>=1.6.0 in /usr/local/lib/python3.10/dist-packages (from flair) (2.1.0)\n",
            "Requirement already satisfied: transformers[sentencepiece]>=4.18.0 in /usr/local/lib/python3.10/dist-packages (from flair) (4.28.1)\n",
            "Requirement already satisfied: lxml in /usr/local/lib/python3.10/dist-packages (from flair) (4.9.2)\n",
            "Requirement already satisfied: langdetect in /usr/local/lib/python3.10/dist-packages (from flair) (1.0.9)\n",
            "Requirement already satisfied: beautifulsoup4 in /usr/local/lib/python3.10/dist-packages (from gdown==4.4.0->flair) (4.11.2)\n",
            "Requirement already satisfied: six in /usr/local/lib/python3.10/dist-packages (from gdown==4.4.0->flair) (1.16.0)\n",
            "Requirement already satisfied: filelock in /usr/local/lib/python3.10/dist-packages (from gdown==4.4.0->flair) (3.12.0)\n",
            "Requirement already satisfied: requests[socks] in /usr/local/lib/python3.10/dist-packages (from gdown==4.4.0->flair) (2.27.1)\n",
            "Requirement already satisfied: sentencepiece in /usr/local/lib/python3.10/dist-packages (from bpemb>=0.3.2->flair) (0.1.98)\n",
            "Requirement already satisfied: numpy in /usr/local/lib/python3.10/dist-packages (from bpemb>=0.3.2->flair) (1.22.4)\n",
            "Requirement already satisfied: wrapt<2,>=1.10 in /usr/local/lib/python3.10/dist-packages (from deprecated>=1.2.4->flair) (1.14.1)\n",
            "Requirement already satisfied: smart-open>=1.8.1 in /usr/local/lib/python3.10/dist-packages (from gensim>=3.8.0->flair) (6.3.0)\n",
            "Requirement already satisfied: scipy>=1.7.0 in /usr/local/lib/python3.10/dist-packages (from gensim>=3.8.0->flair) (1.10.1)\n",
            "Requirement already satisfied: typing-extensions>=3.7.4.3 in /usr/local/lib/python3.10/dist-packages (from huggingface-hub>=0.10.0->flair) (4.5.0)\n",
            "Requirement already satisfied: fsspec in /usr/local/lib/python3.10/dist-packages (from huggingface-hub>=0.10.0->flair) (2023.4.0)\n",
            "Requirement already satisfied: pyyaml>=5.1 in /usr/local/lib/python3.10/dist-packages (from huggingface-hub>=0.10.0->flair) (6.0)\n",
            "Requirement already satisfied: packaging>=20.9 in /usr/local/lib/python3.10/dist-packages (from huggingface-hub>=0.10.0->flair) (23.1)\n",
            "Requirement already satisfied: py4j in /usr/local/lib/python3.10/dist-packages (from hyperopt>=0.2.7->flair) (0.10.9.7)\n",
            "Requirement already satisfied: networkx>=2.2 in /usr/local/lib/python3.10/dist-packages (from hyperopt>=0.2.7->flair) (3.1)\n",
            "Requirement already satisfied: cloudpickle in /usr/local/lib/python3.10/dist-packages (from hyperopt>=0.2.7->flair) (2.2.1)\n",
            "Requirement already satisfied: future in /usr/local/lib/python3.10/dist-packages (from hyperopt>=0.2.7->flair) (0.18.3)\n",
            "Requirement already satisfied: pyparsing>=2.3.1 in /usr/local/lib/python3.10/dist-packages (from matplotlib>=2.2.3->flair) (3.0.9)\n",
            "Requirement already satisfied: cycler>=0.10 in /usr/local/lib/python3.10/dist-packages (from matplotlib>=2.2.3->flair) (0.11.0)\n",
            "Requirement already satisfied: kiwisolver>=1.0.1 in /usr/local/lib/python3.10/dist-packages (from matplotlib>=2.2.3->flair) (1.4.4)\n",
            "Requirement already satisfied: pillow>=6.2.0 in /usr/local/lib/python3.10/dist-packages (from matplotlib>=2.2.3->flair) (8.4.0)\n",
            "Requirement already satisfied: contourpy>=1.0.1 in /usr/local/lib/python3.10/dist-packages (from matplotlib>=2.2.3->flair) (1.0.7)\n",
            "Requirement already satisfied: fonttools>=4.22.0 in /usr/local/lib/python3.10/dist-packages (from matplotlib>=2.2.3->flair) (4.39.3)\n",
            "Requirement already satisfied: joblib>=1.1.1 in /usr/local/lib/python3.10/dist-packages (from scikit-learn>=0.21.3->flair) (1.2.0)\n",
            "Requirement already satisfied: threadpoolctl>=2.0.0 in /usr/local/lib/python3.10/dist-packages (from scikit-learn>=0.21.3->flair) (3.1.0)\n",
            "Requirement already satisfied: sympy in /usr/local/lib/python3.10/dist-packages (from torch!=1.8,>=1.5.0->flair) (1.11.1)\n",
            "Requirement already satisfied: jinja2 in /usr/local/lib/python3.10/dist-packages (from torch!=1.8,>=1.5.0->flair) (3.1.2)\n",
            "Requirement already satisfied: triton==2.0.0 in /usr/local/lib/python3.10/dist-packages (from torch!=1.8,>=1.5.0->flair) (2.0.0)\n",
            "Requirement already satisfied: lit in /usr/local/lib/python3.10/dist-packages (from triton==2.0.0->torch!=1.8,>=1.5.0->flair) (16.0.2)\n",
            "Requirement already satisfied: cmake in /usr/local/lib/python3.10/dist-packages (from triton==2.0.0->torch!=1.8,>=1.5.0->flair) (3.25.2)\n",
            "Requirement already satisfied: datasets<3.0.0,>=2.0.0 in /usr/local/lib/python3.10/dist-packages (from transformer-smaller-training-vocab>=0.2.1->flair) (2.12.0)\n",
            "Requirement already satisfied: tokenizers!=0.11.3,<0.14,>=0.11.1 in /usr/local/lib/python3.10/dist-packages (from transformers[sentencepiece]>=4.18.0->flair) (0.13.3)\n",
            "Requirement already satisfied: protobuf<=3.20.2 in /usr/local/lib/python3.10/dist-packages (from transformers[sentencepiece]>=4.18.0->flair) (3.20.2)\n",
            "Requirement already satisfied: jmespath<2.0.0,>=0.7.1 in /usr/local/lib/python3.10/dist-packages (from boto3->flair) (1.0.1)\n",
            "Requirement already satisfied: s3transfer<0.7.0,>=0.6.0 in /usr/local/lib/python3.10/dist-packages (from boto3->flair) (0.6.0)\n",
            "Requirement already satisfied: botocore<1.30.0,>=1.29.123 in /usr/local/lib/python3.10/dist-packages (from boto3->flair) (1.29.123)\n",
            "Requirement already satisfied: wcwidth>=0.2.5 in /usr/local/lib/python3.10/dist-packages (from ftfy->flair) (0.2.6)\n",
            "Requirement already satisfied: urllib3<1.27,>=1.25.4 in /usr/local/lib/python3.10/dist-packages (from botocore<1.30.0,>=1.29.123->boto3->flair) (1.26.15)\n",
            "Requirement already satisfied: aiohttp in /usr/local/lib/python3.10/dist-packages (from datasets<3.0.0,>=2.0.0->transformer-smaller-training-vocab>=0.2.1->flair) (3.8.4)\n",
            "Requirement already satisfied: xxhash in /usr/local/lib/python3.10/dist-packages (from datasets<3.0.0,>=2.0.0->transformer-smaller-training-vocab>=0.2.1->flair) (3.2.0)\n",
            "Requirement already satisfied: pyarrow>=8.0.0 in /usr/local/lib/python3.10/dist-packages (from datasets<3.0.0,>=2.0.0->transformer-smaller-training-vocab>=0.2.1->flair) (9.0.0)\n",
            "Requirement already satisfied: responses<0.19 in /usr/local/lib/python3.10/dist-packages (from datasets<3.0.0,>=2.0.0->transformer-smaller-training-vocab>=0.2.1->flair) (0.18.0)\n",
            "Requirement already satisfied: dill<0.3.7,>=0.3.0 in /usr/local/lib/python3.10/dist-packages (from datasets<3.0.0,>=2.0.0->transformer-smaller-training-vocab>=0.2.1->flair) (0.3.6)\n",
            "Requirement already satisfied: pandas in /usr/local/lib/python3.10/dist-packages (from datasets<3.0.0,>=2.0.0->transformer-smaller-training-vocab>=0.2.1->flair) (1.5.3)\n",
            "Requirement already satisfied: multiprocess in /usr/local/lib/python3.10/dist-packages (from datasets<3.0.0,>=2.0.0->transformer-smaller-training-vocab>=0.2.1->flair) (0.70.14)\n",
            "Requirement already satisfied: idna<4,>=2.5 in /usr/local/lib/python3.10/dist-packages (from requests[socks]->gdown==4.4.0->flair) (3.4)\n",
            "Requirement already satisfied: charset-normalizer~=2.0.0 in /usr/local/lib/python3.10/dist-packages (from requests[socks]->gdown==4.4.0->flair) (2.0.12)\n",
            "Requirement already satisfied: certifi>=2017.4.17 in /usr/local/lib/python3.10/dist-packages (from requests[socks]->gdown==4.4.0->flair) (2022.12.7)\n",
            "Requirement already satisfied: soupsieve>1.2 in /usr/local/lib/python3.10/dist-packages (from beautifulsoup4->gdown==4.4.0->flair) (2.4.1)\n",
            "Requirement already satisfied: MarkupSafe>=2.0 in /usr/local/lib/python3.10/dist-packages (from jinja2->torch!=1.8,>=1.5.0->flair) (2.1.2)\n",
            "Requirement already satisfied: PySocks!=1.5.7,>=1.5.6 in /usr/local/lib/python3.10/dist-packages (from requests[socks]->gdown==4.4.0->flair) (1.7.1)\n",
            "Requirement already satisfied: mpmath>=0.19 in /usr/local/lib/python3.10/dist-packages (from sympy->torch!=1.8,>=1.5.0->flair) (1.3.0)\n",
            "Requirement already satisfied: yarl<2.0,>=1.0 in /usr/local/lib/python3.10/dist-packages (from aiohttp->datasets<3.0.0,>=2.0.0->transformer-smaller-training-vocab>=0.2.1->flair) (1.9.2)\n",
            "Requirement already satisfied: attrs>=17.3.0 in /usr/local/lib/python3.10/dist-packages (from aiohttp->datasets<3.0.0,>=2.0.0->transformer-smaller-training-vocab>=0.2.1->flair) (23.1.0)\n",
            "Requirement already satisfied: aiosignal>=1.1.2 in /usr/local/lib/python3.10/dist-packages (from aiohttp->datasets<3.0.0,>=2.0.0->transformer-smaller-training-vocab>=0.2.1->flair) (1.3.1)\n",
            "Requirement already satisfied: async-timeout<5.0,>=4.0.0a3 in /usr/local/lib/python3.10/dist-packages (from aiohttp->datasets<3.0.0,>=2.0.0->transformer-smaller-training-vocab>=0.2.1->flair) (4.0.2)\n",
            "Requirement already satisfied: frozenlist>=1.1.1 in /usr/local/lib/python3.10/dist-packages (from aiohttp->datasets<3.0.0,>=2.0.0->transformer-smaller-training-vocab>=0.2.1->flair) (1.3.3)\n",
            "Requirement already satisfied: multidict<7.0,>=4.5 in /usr/local/lib/python3.10/dist-packages (from aiohttp->datasets<3.0.0,>=2.0.0->transformer-smaller-training-vocab>=0.2.1->flair) (6.0.4)\n",
            "Requirement already satisfied: pytz>=2020.1 in /usr/local/lib/python3.10/dist-packages (from pandas->datasets<3.0.0,>=2.0.0->transformer-smaller-training-vocab>=0.2.1->flair) (2022.7.1)\n"
          ]
        }
      ],
      "source": [
        "from datetime import timedelta\n",
        "!pip install textstat\n",
        "!pip install flair\n",
        "\n",
        "import textstat\n",
        "\n",
        "from nltk.sentiment.vader import SentimentIntensityAnalyzer\n",
        "from nltk import tokenize\n",
        "\n",
        "import flair"
      ]
    },
    {
      "cell_type": "markdown",
      "metadata": {
        "id": "7wEKl_gyM1Eh"
      },
      "source": [
        "## Feature Engineering"
      ]
    },
    {
      "cell_type": "code",
      "execution_count": 6,
      "metadata": {
        "id": "GpeZ5PXWLQPV"
      },
      "outputs": [],
      "source": [
        "a = pd.merge(full_projects, full_donations, on=['projectid'], how='left')\n",
        "a['in_4_months'] = (pd.to_datetime(a['donation_timestamp']) - pd.to_datetime(a['date_posted'])) < timedelta(days=120)\n",
        "a['in_1_months'] = (pd.to_datetime(a['donation_timestamp']) - pd.to_datetime(a['date_posted'])) < timedelta(days=30)\n",
        "a['donation_1mo'] = a['donation_to_project'].values\n",
        "values = {'donation_to_project': 0.0}\n",
        "a = a.fillna(value=values)\n",
        "a.loc[a['in_4_months'] == False, 'donation_to_project'] = 0.0\n",
        "a.loc[a['in_1_months'] == False, 'donation_1mo'] = 0.0\n",
        "\n",
        "donation_in_4_months = a.groupby(['projectid'])['donation_to_project'].sum().reset_index(name='donation_in_4_months')\n",
        "donation_in_1_months = a.groupby(['projectid'])['donation_1mo'].sum().reset_index(name='donation_in_1_months')\n",
        "df = pd.merge(full_projects, donation_in_4_months, on=['projectid'], how='left')\n",
        "df = pd.merge(df, donation_in_1_months, on=['projectid'], how='left')\n",
        "\n",
        "del a"
      ]
    },
    {
      "cell_type": "code",
      "execution_count": 7,
      "metadata": {
        "id": "YvIcSIe8LzQK",
        "colab": {
          "base_uri": "https://localhost:8080/"
        },
        "outputId": "028e2f88-1735-4ebf-eb38-931d64be08fc"
      },
      "outputs": [
        {
          "output_type": "stream",
          "name": "stdout",
          "text": [
            "Baserate % projects fully funded: 0.5480215269433126\n",
            "Baserate % projects fully funded 1mo: 0.30470804007842217\n"
          ]
        },
        {
          "output_type": "execute_result",
          "data": {
            "text/plain": [
              "0         0.000000\n",
              "1         0.000000\n",
              "2         0.000000\n",
              "3         0.000000\n",
              "4         0.000000\n",
              "            ...   \n",
              "664093    1.099567\n",
              "664094    1.099203\n",
              "664095    1.000000\n",
              "664096    1.000000\n",
              "664097    1.000000\n",
              "Name: fund percentage, Length: 664098, dtype: float64"
            ]
          },
          "metadata": {},
          "execution_count": 7
        }
      ],
      "source": [
        "df['is_fully_funded_after_4_months'] = df['total_price_excluding_optional_support'] <= df['donation_in_4_months']\n",
        "df['fund percentage'] = df['donation_in_4_months'] / df['total_price_excluding_optional_support']\n",
        "\n",
        "# df['is_fully_funded_after_4_months'] = df['total_asking_price'] <= df['donation_in_4_months']\n",
        "df['is_fully_funded_after_4_months'].value_counts()\n",
        "print(\"Baserate % projects fully funded:\", df['is_fully_funded_after_4_months'].mean())\n",
        "\n",
        "df['pct_funded_1mo'] = df['donation_in_1_months'] / df['total_price_excluding_optional_support']\n",
        "df['is_fully_funded_after_1_months'] = df['total_price_excluding_optional_support'] <= df['donation_in_1_months']\n",
        "#df['is_fully_funded_after_1_months'] = df['total_asking_price'] <= df['donation_in_1_months']\n",
        "df['is_fully_funded_after_1_months'].value_counts()\n",
        "print(\"Baserate % projects fully funded 1mo:\", df['is_fully_funded_after_1_months'].mean())\n",
        "df['fund percentage']"
      ]
    },
    {
      "cell_type": "code",
      "execution_count": 8,
      "metadata": {
        "id": "bZl0E-Hq9Ccc"
      },
      "outputs": [],
      "source": [
        "df['date_posted'] = pd.to_datetime(df['date_posted'])\n",
        "df['children_helped_per_dollar'] = df['students_reached']/df['total_price_excluding_optional_support']"
      ]
    },
    {
      "cell_type": "code",
      "execution_count": 9,
      "metadata": {
        "id": "zmosoRB8QfIV"
      },
      "outputs": [],
      "source": [
        "from sklearn.preprocessing import OneHotEncoder\n",
        "one_hot_feature_cols = ['grade_level', 'teacher_prefix', 'school_state']\n",
        "df = df.replace({'school_charter': {'t': 1, 'f': 0},\n",
        "                 'school_kipp': {'t': 1, 'f': 0}})\n",
        "\n",
        "encoder = OneHotEncoder(handle_unknown='ignore')\n",
        "\n",
        "#perform one-hot encoding\n",
        "encoder_df = pd.DataFrame(encoder.fit_transform(df[one_hot_feature_cols]).toarray())\n",
        "encoder_df.columns = encoder.get_feature_names_out()\n",
        "#merge one-hot encoded columns back with original DataFrame\n",
        "final_X = df.join(encoder_df)\n",
        "#drop the original columns\n",
        "final_X = final_X.drop(one_hot_feature_cols, axis=1)\n",
        "\n",
        "df = final_X\n",
        "\n",
        "# # row 28-36\n",
        "feature_cols_projects = ['school_charter', 'school_kipp', 'total_price_excluding_optional_support', 'students_reached', 'teacher_acctid', 'school_city', 'date_posted'] + list(final_X.columns[-50:])"
      ]
    },
    {
      "cell_type": "code",
      "execution_count": 10,
      "metadata": {
        "id": "FnvZ5MSiQfIW",
        "colab": {
          "base_uri": "https://localhost:8080/"
        },
        "outputId": "26877304-8769-4728-dcd6-efcd6a95823a"
      },
      "outputs": [
        {
          "output_type": "execute_result",
          "data": {
            "text/plain": [
              "Index(['projectid', 'teacher_acctid', 'schoolid', 'school_ncesid',\n",
              "       'school_latitude', 'school_longitude', 'school_city', 'school_zip',\n",
              "       'school_metro', 'school_district',\n",
              "       ...\n",
              "       'school_state_SD', 'school_state_TN', 'school_state_TX',\n",
              "       'school_state_UT', 'school_state_VA', 'school_state_VT',\n",
              "       'school_state_WA', 'school_state_WI', 'school_state_WV',\n",
              "       'school_state_WY'],\n",
              "      dtype='object', length=102)"
            ]
          },
          "metadata": {},
          "execution_count": 10
        }
      ],
      "source": [
        "df.columns"
      ]
    },
    {
      "cell_type": "code",
      "execution_count": 11,
      "metadata": {
        "id": "kYbaYBXmogpb"
      },
      "outputs": [],
      "source": [
        "import numpy as np"
      ]
    },
    {
      "cell_type": "code",
      "execution_count": 12,
      "metadata": {
        "id": "mVjcnYOGQfIY",
        "colab": {
          "base_uri": "https://localhost:8080/"
        },
        "outputId": "0821e5d2-2e6b-49d1-c7c6-be84516fcd79"
      },
      "outputs": [
        {
          "output_type": "stream",
          "name": "stderr",
          "text": [
            "<ipython-input-12-4fa936b62856>:2: SettingWithCopyWarning: \n",
            "A value is trying to be set on a copy of a slice from a DataFrame.\n",
            "Try using .loc[row_indexer,col_indexer] = value instead\n",
            "\n",
            "See the caveats in the documentation: https://pandas.pydata.org/pandas-docs/stable/user_guide/indexing.html#returning-a-view-versus-a-copy\n",
            "  resource_df['project_resource_type'] = resource_df['project_resource_type'].astype('str')\n",
            "<ipython-input-12-4fa936b62856>:14: SettingWithCopyWarning: \n",
            "A value is trying to be set on a copy of a slice from a DataFrame.\n",
            "Try using .loc[row_indexer,col_indexer] = value instead\n",
            "\n",
            "See the caveats in the documentation: https://pandas.pydata.org/pandas-docs/stable/user_guide/indexing.html#returning-a-view-versus-a-copy\n",
            "  resource_df['avg_unit_price'] = resource_df.apply(lambda row: avg_unit_price[row['project_resource_type']], axis=1) # This could take a minute to run\n",
            "<ipython-input-12-4fa936b62856>:15: SettingWithCopyWarning: \n",
            "A value is trying to be set on a copy of a slice from a DataFrame.\n",
            "Try using .loc[row_indexer,col_indexer] = value instead\n",
            "\n",
            "See the caveats in the documentation: https://pandas.pydata.org/pandas-docs/stable/user_guide/indexing.html#returning-a-view-versus-a-copy\n",
            "  resource_df['avg_quantity'] = resource_df.apply(lambda row: avg_quantity[row['project_resource_type']], axis=1)\n",
            "<ipython-input-12-4fa936b62856>:17: SettingWithCopyWarning: \n",
            "A value is trying to be set on a copy of a slice from a DataFrame.\n",
            "Try using .loc[row_indexer,col_indexer] = value instead\n",
            "\n",
            "See the caveats in the documentation: https://pandas.pydata.org/pandas-docs/stable/user_guide/indexing.html#returning-a-view-versus-a-copy\n",
            "  resource_df['item_unit_price'] = resource_df['item_unit_price'].fillna(resource_df['avg_unit_price'])\n",
            "<ipython-input-12-4fa936b62856>:18: SettingWithCopyWarning: \n",
            "A value is trying to be set on a copy of a slice from a DataFrame.\n",
            "Try using .loc[row_indexer,col_indexer] = value instead\n",
            "\n",
            "See the caveats in the documentation: https://pandas.pydata.org/pandas-docs/stable/user_guide/indexing.html#returning-a-view-versus-a-copy\n",
            "  resource_df['item_quantity'] = resource_df['item_quantity'].fillna(resource_df['avg_quantity'])\n"
          ]
        }
      ],
      "source": [
        "resource_df = full_resources[['resourceid', 'projectid', 'project_resource_type', 'item_unit_price', 'item_quantity']]\n",
        "resource_df['project_resource_type'] = resource_df['project_resource_type'].astype('str')\n",
        "\n",
        "# Fill in missing values of item_unit_price & item_quantity\n",
        "resource_types = np.unique(resource_df['project_resource_type'].tolist())\n",
        "avg_unit_price = {}\n",
        "avg_quantity = {}\n",
        "for rtype in resource_types:\n",
        "  avg = resource_df.loc[resource_df['project_resource_type'] == rtype]['item_unit_price'].mean()\n",
        "  avg_unit_price[rtype] = avg\n",
        "  avg_num = np.floor(resource_df.loc[resource_df['project_resource_type'] == rtype]['item_quantity'].mean())\n",
        "  avg_quantity[rtype] = avg_num\n",
        "\n",
        "resource_df['avg_unit_price'] = resource_df.apply(lambda row: avg_unit_price[row['project_resource_type']], axis=1) # This could take a minute to run\n",
        "resource_df['avg_quantity'] = resource_df.apply(lambda row: avg_quantity[row['project_resource_type']], axis=1)\n",
        "\n",
        "resource_df['item_unit_price'] = resource_df['item_unit_price'].fillna(resource_df['avg_unit_price'])\n",
        "resource_df['item_quantity'] = resource_df['item_quantity'].fillna(resource_df['avg_quantity'])\n",
        "\n",
        "resource_df = resource_df.groupby('projectid').agg({'item_unit_price':'mean', 'item_quantity':'sum'}).reset_index().rename(columns={'item_unit_price':'avg_unit_price', 'item_quantity':'total_item_quantity'})\n",
        "df = df.merge(resource_df, how='left', on='projectid')"
      ]
    },
    {
      "cell_type": "code",
      "execution_count": 13,
      "metadata": {
        "id": "Kf6z5hxescIC",
        "colab": {
          "base_uri": "https://localhost:8080/"
        },
        "outputId": "c86d8e92-cfa8-41f2-b412-48f791c4d6c3"
      },
      "outputs": [
        {
          "output_type": "stream",
          "name": "stdout",
          "text": [
            "\n",
            "Index(['students_reached', 'children_helped_per_dollar', 'avg_unit_price',\n",
            "       'total_item_quantity', 'pct_funded_1mo', 'school_charter',\n",
            "       'school_kipp', 'total_price_excluding_optional_support',\n",
            "       'students_reached', 'teacher_acctid', 'school_city', 'date_posted',\n",
            "       'school_state_AR', 'school_state_AZ', 'school_state_CA',\n",
            "       'school_state_CO', 'school_state_CT', 'school_state_DC',\n",
            "       'school_state_DE', 'school_state_FL', 'school_state_GA',\n",
            "       'school_state_HI', 'school_state_IA', 'school_state_ID',\n",
            "       'school_state_IL', 'school_state_IN', 'school_state_KS',\n",
            "       'school_state_KY', 'school_state_LA', 'school_state_La',\n",
            "       'school_state_MA', 'school_state_MD', 'school_state_ME',\n",
            "       'school_state_MI', 'school_state_MN', 'school_state_MO',\n",
            "       'school_state_MS', 'school_state_MT', 'school_state_NC',\n",
            "       'school_state_ND', 'school_state_NE', 'school_state_NH',\n",
            "       'school_state_NJ', 'school_state_NM', 'school_state_NV',\n",
            "       'school_state_NY', 'school_state_OH', 'school_state_OK',\n",
            "       'school_state_OR', 'school_state_PA', 'school_state_RI',\n",
            "       'school_state_SC', 'school_state_SD', 'school_state_TN',\n",
            "       'school_state_TX', 'school_state_UT', 'school_state_VA',\n",
            "       'school_state_VT', 'school_state_WA', 'school_state_WI',\n",
            "       'school_state_WV', 'school_state_WY', 'projectid', 'fund percentage',\n",
            "       'is_fully_funded_after_4_months', 'primary_focus_area:Applied_Learning',\n",
            "       'primary_focus_area:Health_&_Sports',\n",
            "       'primary_focus_area:History_&_Civics',\n",
            "       'primary_focus_area:Literacy_&_Language',\n",
            "       'primary_focus_area:Math_&_Science',\n",
            "       'primary_focus_area:Music_&_The_Arts',\n",
            "       'primary_focus_area:Special_Needs', 'resource_type:Books',\n",
            "       'resource_type:Other', 'resource_type:Supplies',\n",
            "       'resource_type:Technology', 'resource_type:Trips',\n",
            "       'resource_type:Visitors', 'poverty_level:high_poverty',\n",
            "       'poverty_level:highest_poverty', 'poverty_level:low_poverty',\n",
            "       'poverty_level:moderate_poverty'],\n",
            "      dtype='object')\n"
          ]
        }
      ],
      "source": [
        "resstat_cols = ['students_reached', 'children_helped_per_dollar', 'primary_focus_area', 'resource_type', 'poverty_level']\n",
        "\n",
        "#text_cols = ['title_len', 'title_sentnet', 'title_sentpol', 'short_description_len', 'short_description_sentnet', 'short_description_sentpol','essay_len', 'need_statement_len']\n",
        "res_cols = ['avg_unit_price', 'total_item_quantity']\n",
        "don_cols = ['pct_funded_1mo']\n",
        "features = resstat_cols + res_cols + don_cols + feature_cols_projects + ['projectid'] + ['fund percentage']\n",
        "Y = ['is_fully_funded_after_4_months']\n",
        "print()\n",
        "df_final = df[features + Y]\n",
        "\n",
        "# Silences a warning that doesn't affect anything\n",
        "pd.options.mode.chained_assignment = None\n",
        "\n",
        "for i in ['primary_focus_area', 'resource_type', 'poverty_level']:\n",
        "  new_addition = pd.get_dummies(df_final[i])\n",
        "  new_addition.columns = [i + \":\" + x.replace(\" \",\"_\") for x in new_addition.columns]\n",
        "  for col_name in new_addition.columns:\n",
        "    df_final[col_name] = new_addition[col_name].copy(deep=True)\n",
        "df_final.drop(columns = ['primary_focus_area', 'resource_type', 'poverty_level'], inplace=True)\n",
        "print(df_final.columns)"
      ]
    },
    {
      "cell_type": "code",
      "execution_count": 14,
      "metadata": {
        "id": "tuFsKR4U-rd6"
      },
      "outputs": [],
      "source": [
        "from datetime import datetime"
      ]
    },
    {
      "cell_type": "code",
      "execution_count": 15,
      "metadata": {
        "id": "Li6mGOER-kxh"
      },
      "outputs": [],
      "source": [
        "from dateutil.relativedelta import relativedelta"
      ]
    },
    {
      "cell_type": "code",
      "execution_count": 16,
      "metadata": {
        "id": "9RR81PuK9rQE"
      },
      "outputs": [],
      "source": [
        "def chron_split_date_ranges(dates, train_length = relativedelta(weeks=3), val_length = relativedelta(weeks=1), retrain_length = relativedelta(weeks=2), min_f_col = relativedelta(months=1), min_l_col = relativedelta(months=4)):\n",
        "  sorted = dates.sort_values()\n",
        "  first_date = sorted.iloc[0]\n",
        "  last_date = sorted.iloc[-1]\n",
        "\n",
        "  split_dates = []\n",
        "\n",
        "  curr = first_date\n",
        "\n",
        "  while curr + val_length + train_length + 2 * min_l_col + 2 * min_f_col < last_date:\n",
        "    train_start = curr + min_f_col\n",
        "    val_start = train_start + train_length + min_l_col + min_f_col\n",
        "    \n",
        "    split_dates.append({\n",
        "        \"train_feature_collection\": (curr, train_start),\n",
        "        \"train\": (train_start, train_start + train_length),\n",
        "        \"train_label_buffer\": (train_start + train_length, train_start + train_length + min_l_col),\n",
        "        \"val_feature_collection\": (train_start + train_length + min_l_col, val_start),\n",
        "        \"val\": (val_start , val_start + val_length),\n",
        "        \"val_label_buffer\": (val_start + val_length, val_start + val_length + min_l_col),\n",
        "        \"train_label\": (train_start + min_l_col, train_start + train_length + min_l_col),\n",
        "        \"val_label\": (val_start + min_l_col, val_start + val_length + min_l_col)\n",
        "    })\n",
        "\n",
        "    curr += retrain_length\n",
        "  return split_dates"
      ]
    },
    {
      "cell_type": "code",
      "execution_count": 17,
      "metadata": {
        "id": "xxLN3aGk_gY5"
      },
      "outputs": [],
      "source": [
        "split = chron_split_date_ranges(pd.to_datetime(df['date_posted']))[-1]  \n",
        "#split1 = chron_split_date_ranges(pd.to_datetime(df['date_posted']))[-2]  \n",
        "#split2 = chron_split_date_ranges(pd.to_datetime(df['date_posted']))[-3]  \n",
        "#split3 = chron_split_date_ranges(pd.to_datetime(df['date_posted']))[-4]  "
      ]
    },
    {
      "cell_type": "code",
      "execution_count": 18,
      "metadata": {
        "id": "e4v4jp3ATLRQ"
      },
      "outputs": [],
      "source": [
        "# compute success rate grouped by 'feature', only use historical data\n",
        "def compute_success_rate_by_feature(data, date, feature_names):\n",
        "  data_before_date = df_final[df_final['date_posted'] < (date - timedelta(days=120))]\n",
        "  for feature_name in feature_names:\n",
        "    num_of_success = dict(data_before_date.groupby([feature_name])['is_fully_funded_after_4_months'].sum())\n",
        "    num_of_projects = dict(data_before_date.groupby([feature_name]).size())\n",
        "    data['num_of_success_projects_' + feature_name]= data[feature_name].map(num_of_success)\n",
        "    data['num_of_projects_' + feature_name]= data[feature_name].map(num_of_projects)\n",
        "    data['success_rate_' + feature_name]= data['num_of_success_projects_' + feature_name] / data['num_of_projects_' + feature_name]\n",
        "    #drop 'school city'\n",
        "  data = data.drop(feature_names + ['projectid', 'date_posted'], axis=1)\n",
        "  data = data.fillna(0)\n",
        "\n",
        "  return data\n",
        "\n",
        "def generate_train_val(df, split):\n",
        "  train = df.loc[(split[\"train\"][0] <= df['date_posted']) & (df['date_posted'] < split[\"train\"][1])].fillna(0)\n",
        "  train = compute_success_rate_by_feature(train, split[\"train\"][0], ['school_city', 'teacher_acctid'])\n",
        "\n",
        "  val = df.loc[(split[\"val\"][0] <= df['date_posted']) & (df['date_posted'] < split[\"val\"][1])].fillna(0)\n",
        "  val = compute_success_rate_by_feature(val, split[\"train\"][0], ['school_city', 'teacher_acctid'])\n",
        "  return pd.DataFrame(train), pd.DataFrame(val)\n"
      ]
    },
    {
      "cell_type": "code",
      "execution_count": 19,
      "metadata": {
        "id": "AkzA9Bi4bEci"
      },
      "outputs": [],
      "source": [
        "train, val = generate_train_val(df_final, split)\n",
        "#train1, val1 = generate_train_val(df_final, split1)\n",
        "#train2, val2 = generate_train_val(df_final, split2)\n",
        "#train3, val3 = generate_train_val(df_final, split3)"
      ]
    },
    {
      "cell_type": "code",
      "execution_count": 20,
      "metadata": {
        "id": "Et0zlGzDcqfU"
      },
      "outputs": [],
      "source": [
        "train_X = train.drop(columns=['is_fully_funded_after_4_months', 'fund percentage']).reset_index()\n",
        "train_Y = train['fund percentage'] #train['is_fully_funded_after_4_months'].values\n",
        "val_X = val.drop(columns=['is_fully_funded_after_4_months', 'fund percentage']).reset_index()\n",
        "val_Y = val['fund percentage'].values\n",
        "\n",
        "def drop_columns(train, val):\n",
        "  train_X = train.drop(columns=['is_fully_funded_after_4_months']).reset_index()\n",
        "  train_Y = train['is_fully_funded_after_4_months'].values\n",
        "  val_X = val.drop(columns=['is_fully_funded_after_4_months']).reset_index()\n",
        "  val_Y = val['is_fully_funded_after_4_months'].values\n",
        "  return train_X, train_Y, val_X, val_Y"
      ]
    },
    {
      "cell_type": "code",
      "source": [
        "del df"
      ],
      "metadata": {
        "id": "BJ3R89BuItzC"
      },
      "execution_count": 21,
      "outputs": []
    },
    {
      "cell_type": "markdown",
      "source": [
        "# Gaussian Process Regression"
      ],
      "metadata": {
        "id": "9P7ZZyHDta4o"
      }
    },
    {
      "cell_type": "code",
      "source": [
        "selected = ['pct_funded_1mo', 'children_helped_per_dollar', 'poverty_level:moderate_poverty']\n",
        "xx = train_X[selected]\n",
        "vx = val_X[selected]\n",
        "xx.shape"
      ],
      "metadata": {
        "id": "qO1Ce0EnRFET"
      },
      "execution_count": null,
      "outputs": []
    },
    {
      "cell_type": "code",
      "source": [
        "from sklearn.gaussian_process import GaussianProcessRegressor\n",
        "from sklearn.gaussian_process.kernels import DotProduct, WhiteKernel\n",
        "import time\n",
        "start = time.time()\n",
        "kernel = DotProduct() + WhiteKernel()\n",
        "regressor = GaussianProcessRegressor(kernel=kernel, copy_X_train=False)\n",
        "regressor.fit(xx, train_Y)\n",
        "predictions = regressor.predict(vx)\n",
        "end = time.time()\n",
        "print(end - start)\n",
        "acc = 0\n",
        "for i in range(len(predictions)):\n",
        "  if predictions[i] >= 1 and val_Y[i] >= 1:\n",
        "    acc += 1\n",
        "  elif predictions[i] < 1 and val_Y[i] < 1:\n",
        "    acc += 1\n",
        "print(acc / len(predictions))\n",
        "print(regressor.score(xx, train_Y))"
      ],
      "metadata": {
        "id": "lBuD39KLtnui"
      },
      "execution_count": null,
      "outputs": []
    },
    {
      "cell_type": "code",
      "source": [
        "from sklearn.gaussian_process import GaussianProcessRegressor\n",
        "from sklearn.gaussian_process.kernels import RBF, WhiteKernel\n",
        "kernel = RBF(length_scale=10, length_scale_bounds=(1e-200, 1e20)) # 1.0 * RBF(length_scale=1e-1, length_scale_bounds=(1e-2, 1e3)) + WhiteKernel(noise_level=1e-2, noise_level_bounds=(1e-10, 1e1)) \n",
        "regressor = GaussianProcessRegressor(kernel=kernel, alpha=1e-10, copy_X_train=False)\n",
        "regressor.fit(xx, train_Y)\n",
        "predictions = regressor.predict(vx)\n",
        "print(predictions)\n",
        "acc = 0\n",
        "for i in range(len(predictions)):\n",
        "  if predictions[i] >= 1 and val_Y[i] >= 1:\n",
        "    acc += 1\n",
        "  elif predictions[i] < 1 and val_Y[i] < 1:\n",
        "    acc += 1\n",
        "print(acc / len(predictions))\n",
        "print(regressor.score(xx, train_Y))"
      ],
      "metadata": {
        "id": "wv7SMKC4hRB8"
      },
      "execution_count": null,
      "outputs": []
    },
    {
      "cell_type": "code",
      "source": [
        "from sklearn.gaussian_process import GaussianProcessRegressor\n",
        "from sklearn.gaussian_process.kernels import RBF, WhiteKernel\n",
        "kernel = WhiteKernel(noise_level=1.0, noise_level_bounds=(1e-10, 1e+1))\n",
        "regressor = GaussianProcessRegressor(kernel=kernel, alpha=1e-10, copy_X_train=False)\n",
        "regressor.fit(xx, train_Y)\n",
        "predictions = regressor.predict(vx)\n",
        "print(predictions)\n",
        "acc = 0\n",
        "for i in range(len(predictions)):\n",
        "  if predictions[i] >= 1 and val_Y[i] >= 1:\n",
        "    acc += 1\n",
        "  elif predictions[i] < 1 and val_Y[i] < 1:\n",
        "    acc += 1\n",
        "print(acc / len(predictions))\n",
        "print(regressor.score(xx, train_Y))"
      ],
      "metadata": {
        "id": "fnv5UFl-qkM9"
      },
      "execution_count": null,
      "outputs": []
    },
    {
      "cell_type": "code",
      "source": [
        "from sklearn.neural_network import MLPRegressor\n",
        "max_res = 0\n",
        "feature_selected = None\n",
        "selected = [\"pct_funded_1mo\", \"children_helped_per_dollar\"]\n",
        "\n",
        "def grid_search(train_X, train_Y):\n",
        "  maxres = 0\n",
        "  for num in range(5, 300, 5):\n",
        "    start = time.time()\n",
        "    model = MLPRegressor(hidden_layer_sizes=(num, num, num), activation='relu', random_state=1, max_iter=5000)\n",
        "    model.fit(train_X[selected], train_Y)\n",
        "    train_pred = model.predict(train_X[selected])\n",
        "    val_pred = model.predict(val_X[selected]) \n",
        "    acc = 0\n",
        "    end = time.time()\n",
        "    print(end - start)\n",
        "    for i in range(len(val_pred)):\n",
        "      if val_pred[i] >= 1 and val_Y[i] >= 1:\n",
        "        acc += 1\n",
        "      elif val_pred[i] < 1 and val_Y[i] < 1:\n",
        "        acc += 1\n",
        "    curacc = acc / len(val_pred)\n",
        "    if curacc > maxres:\n",
        "      maxres = curacc\n",
        "  print(maxres)\n",
        "grid_search(train_X, train_Y)"
      ],
      "metadata": {
        "id": "SV3Ig2a2vVQm"
      },
      "execution_count": null,
      "outputs": []
    },
    {
      "cell_type": "markdown",
      "metadata": {
        "id": "xQy2dD_8KFh2"
      },
      "source": [
        "# ML Baselines"
      ]
    },
    {
      "cell_type": "markdown",
      "metadata": {
        "id": "hbRFOIwj_0op"
      },
      "source": [
        "## NN"
      ]
    },
    {
      "cell_type": "markdown",
      "source": [
        "grid search -- parameters over last 2nd, 3rd, and 4th splits"
      ],
      "metadata": {
        "id": "P6C_lLEv3-rs"
      }
    },
    {
      "cell_type": "code",
      "execution_count": null,
      "metadata": {
        "id": "DBDFnrGmLz9X"
      },
      "outputs": [],
      "source": [
        "from sklearn.neural_network import MLPRegressor\n",
        "max_res = 0\n",
        "feature_selected = None\n",
        "selected = [\"pct_funded_1mo\", \"children_helped_per_dollar\"]\n",
        "maxres = 0\n",
        "maxnum = 0\n",
        "def grid_search(train_X, train_Y):\n",
        "  for num in range(5, 300, 5):\n",
        "    model = MLPRegressor(hidden_layer_sizes=(num, num, num), activation='relu', random_state=1, max_iter=5000)\n",
        "    model.fit(train_X[selected], train_Y)\n",
        "    train_pred = model.predict(train_X[selected])\n",
        "    val_pred = model.predict(val_X[selected]) \n",
        "    train_rank = np.argsort(train_pred)\n",
        "    val_rank = np.argsort(val_pred)\n",
        "    results = []\n",
        "    for threshold in np.linspace(0.01, 1, 100):\n",
        "      precision_train = 1 - np.mean(train_Y[train_rank][:int(threshold * len(train_X))])\n",
        "      precision_val = 1 - np.mean(val_Y[val_rank][:int(threshold * len(val_X))])\n",
        "      recall_train = np.sum(train_Y[train_rank][:int(threshold * len(train_X))] == False)/np.sum(train_Y==False)\n",
        "      recall_val = np.sum(val_Y[val_rank][:int(threshold * len(val_X))] == False)/np.sum(val_Y==False)\n",
        "      results.append([precision_train, recall_train, precision_val, recall_val])\n",
        "    results = np.array(results)\n",
        "    print(results[9, 2]) \n",
        "    if maxres < results[9, 2]:\n",
        "      maxres = results[9, 2]\n",
        "      maxnum = num\n",
        "  print(\"optimal: \", maxres, maxnum)"
      ]
    },
    {
      "cell_type": "markdown",
      "source": [
        "grid search -- features  over last 2nd, 3rd, and 4th splits"
      ],
      "metadata": {
        "id": "dC8wLbVPEw2O"
      }
    },
    {
      "cell_type": "code",
      "execution_count": null,
      "metadata": {
        "id": "k5AMlrSy_2CH"
      },
      "outputs": [],
      "source": [
        "from sklearn.neural_network import MLPRegressor\n",
        "max_res = 0\n",
        "feature_selected = None\n",
        "def feature_search(train_X, train_Y):\n",
        "  for i in train_X.columns[1:]:\n",
        "    selected = ['pct_funded_1mo', 'children_helped_per_dollar', 'students_reached'] #[\"pct_funded_1mo\", \"children_helped_per_dollar\"]\n",
        "    selected.append(i)\n",
        "    #print(selected) \n",
        "    #print(train_X[selected])\n",
        "    # creating a MLP model\n",
        "    model = MLPRegressor(hidden_layer_sizes=(10,10), activation='tanh', random_state=1, max_iter=500)\n",
        "    model.fit(train_X[selected], train_Y)\n",
        "    train_pred = model.predict(train_X[selected])\n",
        "    val_pred = model.predict(val_X[selected]) \n",
        "    #print(val_pred)\n",
        "    train_rank = np.argsort(train_pred)\n",
        "    val_rank = np.argsort(val_pred)\n",
        "    results = []\n",
        "    for threshold in np.linspace(0.01, 1, 100):\n",
        "        precision_train = 1 - np.mean(train_Y[train_rank][:int(threshold * len(train_X))])\n",
        "        precision_val = 1 - np.mean(val_Y[val_rank][:int(threshold * len(val_X))])\n",
        "        recall_train = np.sum(train_Y[train_rank][:int(threshold * len(train_X))] == False)/np.sum(train_Y==False)\n",
        "        recall_val = np.sum(val_Y[val_rank][:int(threshold * len(val_X))] == False)/np.sum(val_Y==False)\n",
        "        results.append([precision_train, recall_train, precision_val, recall_val])\n",
        "    results = np.array(results)\n",
        "    print(results[9, 2]) \n",
        "    if max_res < results[9, 2]:\n",
        "      max_res = results[9, 2]\n",
        "      feature_selected = selected\n",
        "  print(max_res, feature_selected)"
      ]
    },
    {
      "cell_type": "markdown",
      "source": [
        "results over time"
      ],
      "metadata": {
        "id": "LiNC5EPDJV3d"
      }
    },
    {
      "cell_type": "code",
      "source": [
        "whole_split = chron_split_date_ranges(pd.to_datetime(df['date_posted']))\n",
        "selected = ['pct_funded_1mo', 'children_helped_per_dollar', 'students_reached', 'num_of_success_projects_teacher_acctid']\n",
        "lr_res = []\n",
        "for s in whole_split:\n",
        "  #print(s)\n",
        "  curtrain, curval = generate_train_val(df_final, s)\n",
        "  curtrain_X = curtrain.drop(columns=['is_fully_funded_after_4_months']).reset_index()\n",
        "  curtrain_Y = curtrain['is_fully_funded_after_4_months'].values\n",
        "  curval_X = curval.drop(columns=['is_fully_funded_after_4_months']).reset_index()\n",
        "  curval_Y = curval['is_fully_funded_after_4_months'].values\n",
        "  curtrain_X[np.isinf(curtrain_X)==True] = 0\n",
        "  curval_X[np.isinf(curval_X)==True] = 0\n",
        "  logmodel = MLPRegressor(hidden_layer_sizes=(10,10), activation='tanh', random_state=1, max_iter=500)\n",
        "  logmodel.fit(curtrain_X[selected], curtrain_Y)\n",
        "  train_pred = logmodel.predict(curtrain_X[selected])\n",
        "  val_pred = logmodel.predict(curval_X[selected]) # f(x)\n",
        "  res = logmodel.predict(curval_X[selected]) # f(x)>0.5\n",
        "  train_rank = np.argsort(train_pred)\n",
        "  val_rank = np.argsort(val_pred)\n",
        "  results = []\n",
        "  threshold = 0.1\n",
        "  precision_val = 1 - np.mean(curval_Y[val_rank][:int(threshold * len(curval_X))])\n",
        "  print(precision_val)  \n",
        "  lr_res.append(precision_val)"
      ],
      "metadata": {
        "id": "WN3I88LAJVZg"
      },
      "execution_count": null,
      "outputs": []
    },
    {
      "cell_type": "code",
      "source": [
        "(lr_res[-2]+lr_res[-4]+lr_res[-3])/3"
      ],
      "metadata": {
        "colab": {
          "base_uri": "https://localhost:8080/"
        },
        "id": "ss2yvuv2S299",
        "outputId": "76f11b85-69eb-4e9a-f734-6125256fbcaf"
      },
      "execution_count": null,
      "outputs": [
        {
          "output_type": "execute_result",
          "data": {
            "text/plain": [
              "0.8574956540974523"
            ]
          },
          "metadata": {},
          "execution_count": 56
        }
      ]
    },
    {
      "cell_type": "code",
      "source": [
        "file1 = open('nn.txt', 'w')\n",
        "file1.writelines(str(lr_res))\n",
        "file1.close()"
      ],
      "metadata": {
        "id": "OoT0l6LhTXJo"
      },
      "execution_count": null,
      "outputs": []
    },
    {
      "cell_type": "markdown",
      "source": [
        "most recent PR-K graphs"
      ],
      "metadata": {
        "id": "Vtm2B5wEUiXj"
      }
    },
    {
      "cell_type": "code",
      "source": [
        "selected = ['pct_funded_1mo', 'children_helped_per_dollar', 'students_reached'] #[\"pct_funded_1mo\", \"children_helped_per_dollar\"]\n",
        "model = MLPRegressor(hidden_layer_sizes=(10,10), activation='tanh', random_state=1, max_iter=500)\n",
        "model.fit(train_X[selected], train_Y)\n",
        "train_pred = model.predict(train_X[selected])\n",
        "val_pred = model.predict(val_X[selected]) \n",
        "train_rank = np.argsort(train_pred)\n",
        "val_rank = np.argsort(val_pred)\n",
        "results = []\n",
        "for threshold in np.linspace(0.01, 1, 100):\n",
        "    precision_train = 1 - np.mean(train_Y[train_rank][:int(threshold * len(train_X))])\n",
        "    precision_val = 1 - np.mean(val_Y[val_rank][:int(threshold * len(val_X))])\n",
        "    recall_train = np.sum(train_Y[train_rank][:int(threshold * len(train_X))] == False)/np.sum(train_Y==False)\n",
        "    recall_val = np.sum(val_Y[val_rank][:int(threshold * len(val_X))] == False)/np.sum(val_Y==False)\n",
        "    results.append([precision_train, recall_train, precision_val, recall_val])\n",
        "results = np.array(results)\n",
        "print(results[9, 2])  # 0.683 for l2"
      ],
      "metadata": {
        "colab": {
          "base_uri": "https://localhost:8080/"
        },
        "id": "P92UgohMVgHC",
        "outputId": "6e5a0704-a12a-48d7-dd97-a5b4aeb9913c"
      },
      "execution_count": null,
      "outputs": [
        {
          "output_type": "stream",
          "name": "stdout",
          "text": [
            "0.9323144104803494\n"
          ]
        }
      ]
    },
    {
      "cell_type": "code",
      "source": [
        "import matplotlib.pyplot as plt\n",
        "\n",
        "ax1 = plt.subplot()\n",
        "plt.plot(range(100), results[:,0], 'b')\n",
        "plt.ylabel('precision', color='b')\n",
        "\n",
        "ax2 = ax1.twinx()\n",
        "plt.plot(range(100), results[:,1], 'r')\n",
        "plt.ylabel('recall', color='r')\n",
        "plt.title(\"Train PR-k Curve - NN\")\n",
        "plt.xlabel(\"Percentage of population selected\")\n",
        "plt.show()"
      ],
      "metadata": {
        "colab": {
          "base_uri": "https://localhost:8080/",
          "height": 281
        },
        "id": "25nD7Te0Ui-m",
        "outputId": "b97e737d-0570-4339-f658-c8100059e6f0"
      },
      "execution_count": null,
      "outputs": [
        {
          "output_type": "display_data",
          "data": {
            "text/plain": [
              "<Figure size 432x288 with 2 Axes>"
            ],
            "image/png": "[encoded data removed]"
          },
          "metadata": {
            "needs_background": "light"
          }
        }
      ]
    },
    {
      "cell_type": "code",
      "source": [
        "ax1 = plt.subplot()\n",
        "plt.plot(range(100), results[:,2], 'b')\n",
        "plt.ylabel('precision', color='b')\n",
        "\n",
        "ax2 = ax1.twinx()\n",
        "plt.plot(range(100), results[:,3], 'r')\n",
        "plt.ylabel('recall', color='r')\n",
        "plt.title(\"Val PR-k Curve - NN\")\n",
        "plt.show()"
      ],
      "metadata": {
        "colab": {
          "base_uri": "https://localhost:8080/",
          "height": 281
        },
        "id": "ju4yFzfRUzTd",
        "outputId": "fa14c409-cfcb-4e26-b526-95c56fcb977f"
      },
      "execution_count": null,
      "outputs": [
        {
          "output_type": "display_data",
          "data": {
            "text/plain": [
              "<Figure size 432x288 with 2 Axes>"
            ],
            "image/png": "[encoded data removed]"
          },
          "metadata": {
            "needs_background": "light"
          }
        }
      ]
    },
    {
      "cell_type": "markdown",
      "metadata": {
        "id": "mY7_14lUwqkH"
      },
      "source": [
        "## Logistic Regression"
      ]
    },
    {
      "cell_type": "code",
      "execution_count": null,
      "metadata": {
        "id": "wcJVUaAFWiuc"
      },
      "outputs": [],
      "source": [
        "from sklearn.linear_model import LogisticRegression\n",
        "import time"
      ]
    },
    {
      "cell_type": "markdown",
      "metadata": {
        "id": "tiL3sbYcailC"
      },
      "source": [
        "grid search feature selection"
      ]
    },
    {
      "cell_type": "code",
      "execution_count": 53,
      "metadata": {
        "id": "UQ5m7dBBS_f1",
        "colab": {
          "base_uri": "https://localhost:8080/",
          "height": 240
        },
        "outputId": "558c76ba-7b6e-472e-ee15-cc4075c982ef"
      },
      "outputs": [
        {
          "output_type": "error",
          "ename": "NameError",
          "evalue": "ignored",
          "traceback": [
            "\u001b[0;31m---------------------------------------------------------------------------\u001b[0m",
            "\u001b[0;31mNameError\u001b[0m                                 Traceback (most recent call last)",
            "\u001b[0;32m<ipython-input-53-b5611eb6d388>\u001b[0m in \u001b[0;36m<cell line: 3>\u001b[0;34m()\u001b[0m\n\u001b[1;32m      6\u001b[0m   \u001b[0;31m#print(selected)\u001b[0m\u001b[0;34m\u001b[0m\u001b[0;34m\u001b[0m\u001b[0m\n\u001b[1;32m      7\u001b[0m   \u001b[0;31m#print(train_X[selected])\u001b[0m\u001b[0;34m\u001b[0m\u001b[0;34m\u001b[0m\u001b[0m\n\u001b[0;32m----> 8\u001b[0;31m   \u001b[0mstart\u001b[0m \u001b[0;34m=\u001b[0m \u001b[0mtime\u001b[0m\u001b[0;34m.\u001b[0m\u001b[0mtime\u001b[0m\u001b[0;34m(\u001b[0m\u001b[0;34m)\u001b[0m\u001b[0;34m\u001b[0m\u001b[0;34m\u001b[0m\u001b[0m\n\u001b[0m\u001b[1;32m      9\u001b[0m   \u001b[0mlogmodel\u001b[0m \u001b[0;34m=\u001b[0m \u001b[0mLogisticRegression\u001b[0m\u001b[0;34m(\u001b[0m\u001b[0mpenalty\u001b[0m\u001b[0;34m=\u001b[0m\u001b[0;34m'none'\u001b[0m\u001b[0;34m,\u001b[0m \u001b[0mmax_iter\u001b[0m\u001b[0;34m=\u001b[0m\u001b[0;36m100000000\u001b[0m\u001b[0;34m)\u001b[0m\u001b[0;34m\u001b[0m\u001b[0;34m\u001b[0m\u001b[0m\n\u001b[1;32m     10\u001b[0m   \u001b[0mlogmodel\u001b[0m\u001b[0;34m.\u001b[0m\u001b[0mfit\u001b[0m\u001b[0;34m(\u001b[0m\u001b[0mtrain_X\u001b[0m\u001b[0;34m[\u001b[0m\u001b[0mselected\u001b[0m\u001b[0;34m]\u001b[0m\u001b[0;34m,\u001b[0m \u001b[0mtrain_Y\u001b[0m\u001b[0;34m)\u001b[0m\u001b[0;34m\u001b[0m\u001b[0;34m\u001b[0m\u001b[0m\n",
            "\u001b[0;31mNameError\u001b[0m: name 'time' is not defined"
          ]
        }
      ],
      "source": [
        "max_res = 0\n",
        "feature_selected = None\n",
        "for i in train_X.columns[1:]:\n",
        "  selected = [\"pct_funded_1mo\", \"children_helped_per_dollar\"]\n",
        "  selected.append(i)\n",
        "  #print(selected) \n",
        "  #print(train_X[selected])\n",
        "  start = time.time()\n",
        "  logmodel = LogisticRegression(penalty='none', max_iter=100000000)\n",
        "  logmodel.fit(train_X[selected], train_Y)\n",
        "  train_pred = logmodel.predict_proba(train_X[selected])\n",
        "  val_pred = logmodel.predict_proba(val_X[selected]) # f(x)\n",
        "  res = logmodel.predict(val_X[selected]) # f(x)>0.5\n",
        "  train_rank = np.argsort(train_pred[:,1])\n",
        "  val_rank = np.argsort(val_pred[:,1])\n",
        "  results = []\n",
        "  for threshold in np.linspace(0.01, 1, 100):\n",
        "      precision_train = 1 - np.mean(train_Y[train_rank][:int(threshold * len(train_X))])\n",
        "      precision_val = 1 - np.mean(val_Y[val_rank][:int(threshold * len(val_X))])\n",
        "      recall_train = np.sum(train_Y[train_rank][:int(threshold * len(train_X))] == False)/np.sum(train_Y==False)\n",
        "      recall_val = np.sum(val_Y[val_rank][:int(threshold * len(val_X))] == False)/np.sum(val_Y==False)\n",
        "      results.append([precision_train, recall_train, precision_val, recall_val])\n",
        "  results = np.array(results)\n",
        "  #print(results[9, 2]) \n",
        "  if max_res < results[9, 2]:\n",
        "    max_res = results[9, 2]\n",
        "    feature_selected = selected\n",
        "print(max_res, feature_selected)"
      ]
    },
    {
      "cell_type": "markdown",
      "metadata": {
        "id": "Z_K8TfuvLCD4"
      },
      "source": [
        "most recent PR-K graphs"
      ]
    },
    {
      "cell_type": "code",
      "execution_count": null,
      "metadata": {
        "id": "mc6HhbOIWiuc"
      },
      "outputs": [],
      "source": [
        "selected = feature_selected\n",
        "start = time.time()\n",
        "logmodel = LogisticRegression(penalty='none', max_iter=100000000)\n",
        "logmodel.fit(train_X[selected], train_Y)\n",
        "runtime = time.time() - start\n",
        "print(runtime)"
      ]
    },
    {
      "cell_type": "code",
      "execution_count": null,
      "metadata": {
        "id": "M2vFxwJrYCrT"
      },
      "outputs": [],
      "source": [
        "#print(val_X)"
      ]
    },
    {
      "cell_type": "code",
      "execution_count": null,
      "metadata": {
        "id": "XCyu_QWtWiuc"
      },
      "outputs": [],
      "source": [
        "train_pred = logmodel.predict_proba(train_X[selected])\n",
        "val_pred = logmodel.predict_proba(val_X[selected]) # f(x)\n",
        "res = logmodel.predict(val_X[selected]) # f(x)>0.5"
      ]
    },
    {
      "cell_type": "code",
      "execution_count": null,
      "metadata": {
        "id": "Q2pXIEGueXU4"
      },
      "outputs": [],
      "source": [
        "print(val_pred[:,1])"
      ]
    },
    {
      "cell_type": "code",
      "execution_count": null,
      "metadata": {
        "id": "DdqhCqK-JI5f"
      },
      "outputs": [],
      "source": [
        "print(res)"
      ]
    },
    {
      "cell_type": "code",
      "execution_count": null,
      "metadata": {
        "id": "juYLULTlG_wN"
      },
      "outputs": [],
      "source": [
        "train_rank = np.argsort(train_pred[:,1])\n",
        "val_rank = np.argsort(val_pred[:,1])"
      ]
    },
    {
      "cell_type": "code",
      "execution_count": null,
      "metadata": {
        "id": "F-F5G6QtWiuc"
      },
      "outputs": [],
      "source": [
        "results = []\n",
        "for threshold in np.linspace(0.01, 1, 100):\n",
        "    precision_train = 1 - np.mean(train_Y[train_rank][:int(threshold * len(train_X))])\n",
        "    precision_val = 1 - np.mean(val_Y[val_rank][:int(threshold * len(val_X))])\n",
        "    recall_train = np.sum(train_Y[train_rank][:int(threshold * len(train_X))] == False)/np.sum(train_Y==False)\n",
        "    recall_val = np.sum(val_Y[val_rank][:int(threshold * len(val_X))] == False)/np.sum(val_Y==False)\n",
        "    results.append([precision_train, recall_train, precision_val, recall_val])\n",
        "results = np.array(results)\n",
        "print(results[9, 2])  # 0.683 for l2"
      ]
    },
    {
      "cell_type": "code",
      "execution_count": null,
      "metadata": {
        "id": "g5xhnqAsWiud"
      },
      "outputs": [],
      "source": [
        "import matplotlib.pyplot as plt\n",
        "\n",
        "ax1 = plt.subplot()\n",
        "plt.plot(range(100), results[:,0], 'b')\n",
        "plt.ylabel('precision', color='b')\n",
        "\n",
        "ax2 = ax1.twinx()\n",
        "plt.plot(range(100), results[:,1], 'r')\n",
        "plt.ylabel('recall', color='r')\n",
        "plt.title(\"Train PR-k Curve - Logistic Regression\")\n",
        "plt.xlabel(\"Percentage of population selected\")\n",
        "plt.show()"
      ]
    },
    {
      "cell_type": "code",
      "execution_count": null,
      "metadata": {
        "id": "sPypJy25Wiud"
      },
      "outputs": [],
      "source": [
        "ax1 = plt.subplot()\n",
        "plt.plot(range(100), results[:,2], 'b')\n",
        "plt.ylabel('precision', color='b')\n",
        "\n",
        "ax2 = ax1.twinx()\n",
        "plt.plot(range(100), results[:,3], 'r')\n",
        "plt.ylabel('recall', color='r')\n",
        "plt.title(\"Val PR-k Curve - Logistic Regression\")\n",
        "plt.show()"
      ]
    },
    {
      "cell_type": "code",
      "execution_count": null,
      "metadata": {
        "id": "q7WQeKPjWiud"
      },
      "outputs": [],
      "source": [
        "# train_X.columns[np.argsort(logmodel.feature_importances_)[::-1]]"
      ]
    },
    {
      "cell_type": "markdown",
      "metadata": {
        "id": "bL-qajovLQrR"
      },
      "source": [
        "whole dataset evaluation (precision, recall, tfp)"
      ]
    },
    {
      "cell_type": "code",
      "execution_count": null,
      "metadata": {
        "id": "epKMgrVSbKf-"
      },
      "outputs": [],
      "source": [
        "whole_split = chron_split_date_ranges(pd.to_datetime(df['date_posted']))"
      ]
    },
    {
      "cell_type": "code",
      "execution_count": null,
      "metadata": {
        "id": "rfAiLwSrbOwU"
      },
      "outputs": [],
      "source": [
        "lr_res = []\n",
        "for s in whole_split:\n",
        "  #print(s)\n",
        "  curtrain, curval = generate_train_val(df_final, s)\n",
        "  curtrain_X = curtrain.drop(columns=['is_fully_funded_after_4_months']).reset_index()\n",
        "  curtrain_Y = curtrain['is_fully_funded_after_4_months'].values\n",
        "  curval_X = curval.drop(columns=['is_fully_funded_after_4_months']).reset_index()\n",
        "  curval_Y = curval['is_fully_funded_after_4_months'].values\n",
        "  #curtrain_X.dropna(inplace=True)\n",
        "  #indices_to_keep = ~curtrain_X.isin([np.nan, np.inf, -np.inf]).any(axis=1)\n",
        "  #curtrain_X[indices_to_keep].astype(np.float64)\n",
        "  #curtrain_X.dropna(inplace=True)\n",
        "  curtrain_X[np.isinf(curtrain_X)==True] = 0\n",
        "  curval_X[np.isinf(curval_X)==True] = 0\n",
        "  logmodel = LogisticRegression(penalty='none', max_iter=100000000)\n",
        "  logmodel.fit(curtrain_X[selected], curtrain_Y)\n",
        "  train_pred = logmodel.predict_proba(curtrain_X[selected])\n",
        "  val_pred = logmodel.predict_proba(curval_X[selected]) # f(x)\n",
        "  res = logmodel.predict(curval_X[selected]) # f(x)>0.5\n",
        "  train_rank = np.argsort(train_pred[:,1])\n",
        "  val_rank = np.argsort(val_pred[:,1])\n",
        "  results = []\n",
        "  threshold = 0.1\n",
        "  #precision_train = 1 - np.mean(curtrain_Y[train_rank][:int(threshold * len(curtrain_X))])\n",
        "  precision_val = 1 - np.mean(curval_Y[val_rank][:int(threshold * len(curval_X))])\n",
        "  #recall_train = np.sum(train_Y[train_rank][:int(threshold * len(train_X))] == False)/np.sum(train_Y==False)\n",
        "  #recall_val = np.sum(val_Y[val_rank][:int(threshold * len(val_X))] == False)/np.sum(val_Y==False)\n",
        "  # results.append([precision_train, recall_train, precision_val, recall_val])\n",
        "  # results = np.array(results)\n",
        "  print(precision_val)  # 0.683 for l2\n",
        "  lr_res.append(precision_val)"
      ]
    },
    {
      "cell_type": "code",
      "execution_count": null,
      "metadata": {
        "id": "Bq78Ro7yankd"
      },
      "outputs": [],
      "source": [
        "file1 = open('lr.txt', 'w')\n",
        "file1.writelines(str(y_value))\n",
        "file1.close()"
      ]
    },
    {
      "cell_type": "markdown",
      "source": [
        "most recent graph"
      ],
      "metadata": {
        "id": "Z0ht8To9VIxc"
      }
    },
    {
      "cell_type": "code",
      "execution_count": null,
      "metadata": {
        "id": "7MEXcFsuVED9"
      },
      "outputs": [],
      "source": [
        "selected = feature_selected\n",
        "start = time.time()\n",
        "logmodel = LogisticRegression(penalty='none', max_iter=100000000)\n",
        "logmodel.fit(train_X[selected], train_Y)\n",
        "runtime = time.time() - start\n",
        "print(runtime)"
      ]
    },
    {
      "cell_type": "code",
      "execution_count": null,
      "metadata": {
        "id": "upbwPAc3VED-"
      },
      "outputs": [],
      "source": [
        "results = []\n",
        "for threshold in np.linspace(0.01, 1, 100):\n",
        "    precision_train = 1 - np.mean(train_Y[train_rank][:int(threshold * len(train_X))])\n",
        "    precision_val = 1 - np.mean(val_Y[val_rank][:int(threshold * len(val_X))])\n",
        "    recall_train = np.sum(train_Y[train_rank][:int(threshold * len(train_X))] == False)/np.sum(train_Y==False)\n",
        "    recall_val = np.sum(val_Y[val_rank][:int(threshold * len(val_X))] == False)/np.sum(val_Y==False)\n",
        "    results.append([precision_train, recall_train, precision_val, recall_val])\n",
        "results = np.array(results)\n",
        "print(results[9, 2])  # 0.683 for l2"
      ]
    },
    {
      "cell_type": "markdown",
      "metadata": {
        "id": "k9YqxjdTVIDu"
      },
      "source": [
        "## Decision Tree"
      ]
    },
    {
      "cell_type": "code",
      "execution_count": null,
      "metadata": {
        "id": "FZ9WrgE7VUtE"
      },
      "outputs": [],
      "source": [
        "from sklearn.tree import DecisionTreeClassifier \n",
        "clf = DecisionTreeClassifier()\n",
        "\n",
        "# Train Decision Tree Classifer\n",
        "clf = clf.fit(train_X, train_Y)\n"
      ]
    },
    {
      "cell_type": "code",
      "execution_count": null,
      "metadata": {
        "id": "AaRctgRbV0vP"
      },
      "outputs": [],
      "source": [
        "train_pred = clf.predict_proba(train_X)[:,1]\n",
        "val_pred = clf.predict_proba(val_X)[:,1]"
      ]
    },
    {
      "cell_type": "code",
      "execution_count": null,
      "metadata": {
        "id": "46uabMMzV_yV"
      },
      "outputs": [],
      "source": [
        "train_rank = np.argsort(train_pred)\n",
        "val_rank = np.argsort(val_pred)\n",
        "\n",
        "results = []\n",
        "for threshold in np.linspace(0.01, 1, 100):\n",
        "    precision_train = 1 - np.mean(train_Y[train_rank][:int(threshold * len(train_X))])\n",
        "    precision_val = 1 - np.mean(val_Y[val_rank][:int(threshold * len(val_X))])\n",
        "    recall_train = np.sum(train_Y[train_rank][:int(threshold * len(train_X))] == False)/np.sum(train_Y==False)\n",
        "    recall_val = np.sum(val_Y[val_rank][:int(threshold * len(val_X))] == False)/np.sum(val_Y==False)\n",
        "    results.append([precision_train, recall_train, precision_val, recall_val])\n",
        "results = np.array(results)\n",
        "print(results[9, 2])"
      ]
    },
    {
      "cell_type": "code",
      "execution_count": null,
      "metadata": {
        "id": "HcLnb2w3ZMN2"
      },
      "outputs": [],
      "source": [
        "import matplotlib.pyplot as plt\n",
        "ax1 = plt.subplot()\n",
        "plt.plot(range(100), results[:,0], 'b')\n",
        "plt.ylabel('precision', color='b')\n",
        "\n",
        "ax2 = ax1.twinx()\n",
        "plt.plot(range(100), results[:,1], 'r')\n",
        "plt.ylabel('recall', color='r')\n",
        "plt.title(\"Train PR-k Curve - Decision Tree Classifier\")\n",
        "plt.xlabel(\"Percentage of population selected\")\n",
        "plt.show()"
      ]
    },
    {
      "cell_type": "code",
      "execution_count": null,
      "metadata": {
        "id": "Ws0qH3bHZXjL"
      },
      "outputs": [],
      "source": [
        "ax1 = plt.subplot()\n",
        "plt.plot(range(100), results[:,2], 'b')\n",
        "plt.ylabel('precision', color='b')\n",
        "\n",
        "ax2 = ax1.twinx()\n",
        "plt.plot(range(100), results[:,3], 'r')\n",
        "plt.ylabel('recall', color='r')\n",
        "plt.title(\"Val PR-k Curve - Decision Tree Classifier\")\n",
        "plt.show()\n"
      ]
    },
    {
      "cell_type": "code",
      "execution_count": null,
      "metadata": {
        "id": "CEgmqyELZ3FP"
      },
      "outputs": [],
      "source": [
        "whole_split = chron_split_date_ranges(pd.to_datetime(df['date_posted']))"
      ]
    },
    {
      "cell_type": "code",
      "execution_count": null,
      "metadata": {
        "id": "Q_d6s0kDZ3vu"
      },
      "outputs": [],
      "source": [
        "decision_tree_res = []\n",
        "for s in whole_split:\n",
        "  #print(s)\n",
        "  curtrain, curval = generate_train_val(df_final, s)\n",
        "  curtrain_X = curtrain.drop(columns=['is_fully_funded_after_4_months']).reset_index()\n",
        "  curtrain_Y = curtrain['is_fully_funded_after_4_months'].values\n",
        "  curval_X = curval.drop(columns=['is_fully_funded_after_4_months']).reset_index()\n",
        "  curval_Y = curval['is_fully_funded_after_4_months'].values\n",
        "  #curtrain_X.dropna(inplace=True)\n",
        "  #indices_to_keep = ~curtrain_X.isin([np.nan, np.inf, -np.inf]).any(axis=1)\n",
        "  #curtrain_X[indices_to_keep].astype(np.float64)\n",
        "  #curtrain_X.dropna(inplace=True)\n",
        "  curtrain_X[np.isinf(curtrain_X)==True] = 0\n",
        "  curval_X[np.isinf(curval_X)==True] = 0\n",
        "  clf = DecisionTreeClassifier()\n",
        "\n",
        "  # Train Decision Tree Classifer\n",
        "  clf = clf.fit(curtrain_X, curtrain_Y)\n",
        "  train_pred = clf.predict_proba(curtrain_X)\n",
        "  val_pred = clf.predict_proba(curval_X) # f(x)\n",
        "  res = clf.predict(curval_X) # f(x)>0.5\n",
        "  train_rank = np.argsort(train_pred[:,1])\n",
        "  val_rank = np.argsort(val_pred[:,1])\n",
        "  results = []\n",
        "  threshold = 0.1\n",
        "  #precision_train = 1 - np.mean(curtrain_Y[train_rank][:int(threshold * len(curtrain_X))])\n",
        "  precision_val = 1 - np.mean(curval_Y[val_rank][:int(threshold * len(curval_X))])\n",
        "  #recall_train = np.sum(train_Y[train_rank][:int(threshold * len(train_X))] == False)/np.sum(train_Y==False)\n",
        "  #recall_val = np.sum(val_Y[val_rank][:int(threshold * len(val_X))] == False)/np.sum(val_Y==False)\n",
        "  # results.append([precision_train, recall_train, precision_val, recall_val])\n",
        "  # results = np.array(results)\n",
        "  print(precision_val)  # 0.683 for l2\n",
        "  decision_tree_res.append(precision_val)"
      ]
    },
    {
      "cell_type": "markdown",
      "metadata": {
        "id": "-W8J1QHKS9pl"
      },
      "source": [
        "# Random Forest"
      ]
    },
    {
      "cell_type": "code",
      "execution_count": null,
      "metadata": {
        "id": "0ROadQSNS_pg"
      },
      "outputs": [],
      "source": [
        "from sklearn.ensemble import RandomForestClassifier as rfc"
      ]
    },
    {
      "cell_type": "code",
      "execution_count": null,
      "metadata": {
        "id": "RTicvMHeTFUi"
      },
      "outputs": [],
      "source": [
        "whole_split = chron_split_date_ranges(pd.to_datetime(df['date_posted']))"
      ]
    },
    {
      "cell_type": "code",
      "execution_count": null,
      "metadata": {
        "id": "wS8jZmQkTHSv"
      },
      "outputs": [],
      "source": [
        "rf_res = []\n",
        "for i, s in enumerate(whole_split):\n",
        "  print(i)\n",
        "  curtrain, curval = generate_train_val(df_final, s)\n",
        "  curtrain_X = curtrain.drop(columns=['is_fully_funded_after_4_months']).reset_index()\n",
        "  curtrain_Y = curtrain['is_fully_funded_after_4_months'].values\n",
        "  curval_X = curval.drop(columns=['is_fully_funded_after_4_months']).reset_index()\n",
        "  curval_Y = curval['is_fully_funded_after_4_months'].values\n",
        "\n",
        "  curtrain_X[np.isinf(curtrain_X)==True] = 0\n",
        "  curval_X[np.isinf(curval_X)==True] = 0\n",
        "  clf = rfc()\n",
        "\n",
        "  # Train Decision Tree Classifer\n",
        "  clf = clf.fit(curtrain_X, curtrain_Y)\n",
        "  train_pred = clf.predict_proba(curtrain_X)\n",
        "  val_pred = clf.predict_proba(curval_X) # f(x)\n",
        "  res = clf.predict(curval_X) # f(x)>0.5\n",
        "  train_rank = np.argsort(train_pred[:,1])\n",
        "  val_rank = np.argsort(val_pred[:,1])\n",
        "  threshold = 0.1\n",
        "  precision_val = 1 - np.mean(curval_Y[val_rank][:int(threshold * len(curval_X))])\n",
        "  print(precision_val)  # 0.683 for l2\n",
        "  rf_res.append(precision_val)"
      ]
    },
    {
      "cell_type": "markdown",
      "metadata": {
        "id": "g4H1z7BcYvTN"
      },
      "source": [
        "# Commonsense baseline over time - children helped per dollar"
      ]
    },
    {
      "cell_type": "code",
      "execution_count": null,
      "metadata": {
        "id": "yMdECc5eYy13"
      },
      "outputs": [],
      "source": [
        "split = chron_split_date_ranges(pd.to_datetime(df['date_posted']))\n",
        "baseline_results = []\n",
        "\n",
        "for split_ in split:\n",
        "  train, val = generate_train_val(df_final, split_)\n",
        "  train_X = train.drop(columns=['is_fully_funded_after_4_months']).reset_index().drop(columns=[\"index\"])\n",
        "  train_Y = train['is_fully_funded_after_4_months'].values\n",
        "  val_X = val.drop(columns=['is_fully_funded_after_4_months']).reset_index().drop(columns=[\"index\"])\n",
        "  val_Y = val['is_fully_funded_after_4_months'].values\n",
        "  train_select = train_X.sort_values([\"children_helped_per_dollar\"])\n",
        "  val_select = val_X.sort_values([\"children_helped_per_dollar\"])\n",
        "  train_rank = train_select.index.values\n",
        "  val_rank = val_select.index.values\n",
        "  threshold = 0.1\n",
        "  precision_val = 1 - np.mean(val_Y[val_rank][:int(threshold * len(val_X))])\n",
        "  baseline_results.append(precision_val)"
      ]
    },
    {
      "cell_type": "markdown",
      "metadata": {
        "id": "zRakZGR_ZEGP"
      },
      "source": [
        "# Base rate over time"
      ]
    },
    {
      "cell_type": "code",
      "execution_count": null,
      "metadata": {
        "id": "23QKpG51ZFWH"
      },
      "outputs": [],
      "source": [
        "split = chron_split_date_ranges(pd.to_datetime(df['date_posted']))\n",
        "base_rate = []\n",
        "\n",
        "for split_ in split:\n",
        "  train, val = generate_train_val(df_final, split_)\n",
        "  train_X = train.drop(columns=['is_fully_funded_after_4_months']).reset_index().drop(columns=[\"index\"])\n",
        "  train_Y = train['is_fully_funded_after_4_months'].values\n",
        "  val_X = val.drop(columns=['is_fully_funded_after_4_months']).reset_index().drop(columns=[\"index\"])\n",
        "  val_Y = val['is_fully_funded_after_4_months'].values\n",
        "  percentage_not_funded = 1 - val_Y.sum() / len(val_Y)\n",
        "  base_rate.append(percentage_not_funded)"
      ]
    },
    {
      "cell_type": "markdown",
      "metadata": {
        "id": "-BdytZ1EZSfn"
      },
      "source": [
        "# Plotting all results over time (logistic regression, nearest neighbor, decision tree, RF, baseline, base rate)"
      ]
    },
    {
      "cell_type": "code",
      "execution_count": null,
      "metadata": {
        "id": "eacrvgu3ZP7J"
      },
      "outputs": [],
      "source": [
        "import matplotlib.pyplot as plt\n",
        "\n",
        "fig, ax = plt.subplots()\n",
        "fig.set_figwidth(10)\n",
        "fig.set_figheight(6)\n",
        "\n",
        "split = chron_split_date_ranges(pd.to_datetime(df['date_posted']))\n",
        "val_start_dates = []\n",
        "for s in split:\n",
        "  val_start_dates.append(s['val'][0])\n",
        "\n",
        "ax.plot(val_start_dates, base_rate, label='base rate')\n",
        "ax.plot(val_start_dates, baseline_results, label='baseline - children helped per dollar')\n",
        "ax.plot(val_start_dates, decision_tree_res, label='decision tree')\n",
        "ax.plot(val_start_dates, lr_res, label='logistic regression')\n",
        "ax.plot(val_start_dates, rf_res, label='random forest')\n",
        "ax.legend()\n",
        "\n",
        "ax.set_xlabel('Evaluation Start Date')\n",
        "ax.set_ylabel('Precision at top 10%')"
      ]
    }
  ],
  "metadata": {
    "colab": {
      "provenance": [],
      "collapsed_sections": [
        "1x6jG72qJqct",
        "3UK_3w0PRRw8",
        "xQy2dD_8KFh2",
        "k9YqxjdTVIDu",
        "-W8J1QHKS9pl",
        "zRakZGR_ZEGP",
        "-BdytZ1EZSfn"
      ]
    },
    "kernelspec": {
      "display_name": "Python 3 (ipykernel)",
      "language": "python",
      "name": "python3"
    },
    "language_info": {
      "codemirror_mode": {
        "name": "ipython",
        "version": 3
      },
      "file_extension": ".py",
      "mimetype": "text/x-python",
      "name": "python",
      "nbconvert_exporter": "python",
      "pygments_lexer": "ipython3",
      "version": "3.7.9"
    }
  },
  "nbformat": 4,
  "nbformat_minor": 0
}