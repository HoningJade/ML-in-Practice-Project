{
  "nbformat": 4,
  "nbformat_minor": 0,
  "metadata": {
    "colab": {
      "provenance": []
    },
    "kernelspec": {
      "name": "python3",
      "display_name": "Python 3"
    },
    "language_info": {
      "name": "python"
    }
  },
  "cells": [
    {
      "cell_type": "code",
      "execution_count": 1,
      "metadata": {
        "id": "xhaml7aMAUyT"
      },
      "outputs": [],
      "source": [
        "import json\n",
        "import zipfile\n",
        "import os\n",
        "import pandas as pd\n",
        "import numpy as np"
      ]
    },
    {
      "cell_type": "code",
      "source": [
        "# Install and start postgresql-11 server\n",
        "!sudo apt-get -y -qq update\n",
        "!wget --quiet -O - https://www.postgresql.org/media/keys/ACCC4CF8.asc | sudo apt-key add -\n",
        "!echo \"deb http://apt.postgresql.org/pub/repos/apt/ `lsb_release -cs`-pgdg main\" |sudo tee  /etc/apt/sources.list.d/pgdg.list\n",
        "!sudo apt-get -y -qq update\n",
        "!sudo apt-get -y -qq install postgresql-11 postgresql-client-11\n",
        "!sudo service postgresql start\n",
        "\n",
        "# Setup a password `postgres` for username `postgres`\n",
        "!sudo -u postgres psql -U postgres -c \"ALTER USER postgres PASSWORD 'postgres';\"\n",
        "\n",
        "# Setup a database with name `donors_choose` to be used\n",
        "!sudo -u postgres psql -U postgres -c 'DROP DATABASE IF EXISTS donors_choose;'\n",
        "\n",
        "!sudo -u postgres psql -U postgres -c 'CREATE DATABASE donors_choose;'\n",
        "\n",
        "# Environment variables for connecting to the database\n",
        "%env DEMO_DATABASE_NAME=donors_choose\n",
        "%env DEMO_DATABASE_HOST=localhost\n",
        "%env DEMO_DATABASE_PORT=5432\n",
        "\n",
        "# Setup a database with name `donors_choose` to be used\n",
        "!sudo -u postgres psql -U postgres -c 'DROP DATABASE IF EXISTS donors_choose;'\n",
        "\n",
        "!sudo -u postgres psql -U postgres -c 'CREATE DATABASE donors_choose;'\n",
        "\n",
        "# Environment variables for connecting to the database\n",
        "%env DEMO_DATABASE_NAME=donors_choose\n",
        "%env DEMO_DATABASE_HOST=localhost\n",
        "%env DEMO_DATABASE_PORT=5432\n",
        "%env DEMO_DATABASE_USER=postgres\n",
        "%env DEMO_DATABASE_PASS=postgres"
      ],
      "metadata": {
        "colab": {
          "base_uri": "https://localhost:8080/"
        },
        "id": "HOYh73hWAVUX",
        "outputId": "ebc4e77e-73b2-46dc-9900-41a08025114b"
      },
      "execution_count": 2,
      "outputs": [
        {
          "output_type": "stream",
          "name": "stdout",
          "text": [
            "OK\n",
            "deb http://apt.postgresql.org/pub/repos/apt/ focal-pgdg main\n",
            "debconf: unable to initialize frontend: Dialog\n",
            "debconf: (No usable dialog-like program is installed, so the dialog based frontend cannot be used. at /usr/share/perl5/Debconf/FrontEnd/Dialog.pm line 76, <> line 13.)\n",
            "debconf: falling back to frontend: Readline\n",
            "debconf: unable to initialize frontend: Readline\n",
            "debconf: (This frontend requires a controlling tty.)\n",
            "debconf: falling back to frontend: Teletype\n",
            "dpkg-preconfigure: unable to re-open stdin: \n",
            "Selecting previously unselected package cron.\n",
            "(Reading database ... 128285 files and directories currently installed.)\n",
            "Preparing to unpack .../00-cron_3.0pl1-136ubuntu1_amd64.deb ...\n",
            "Unpacking cron (3.0pl1-136ubuntu1) ...\n",
            "Selecting previously unselected package libjson-perl.\n",
            "Preparing to unpack .../01-libjson-perl_4.02000-2_all.deb ...\n",
            "Unpacking libjson-perl (4.02000-2) ...\n",
            "Selecting previously unselected package netbase.\n",
            "Preparing to unpack .../02-netbase_6.1_all.deb ...\n",
            "Unpacking netbase (6.1) ...\n",
            "Selecting previously unselected package postgresql-client-common.\n",
            "Preparing to unpack .../03-postgresql-client-common_248.pgdg20.04+1_all.deb ...\n",
            "Unpacking postgresql-client-common (248.pgdg20.04+1) ...\n",
            "Selecting previously unselected package ssl-cert.\n",
            "Preparing to unpack .../04-ssl-cert_1.0.39_all.deb ...\n",
            "Unpacking ssl-cert (1.0.39) ...\n",
            "Selecting previously unselected package postgresql-common.\n",
            "Preparing to unpack .../05-postgresql-common_248.pgdg20.04+1_all.deb ...\n",
            "Adding 'diversion of /usr/bin/pg_config to /usr/bin/pg_config.libpq-dev by postgresql-common'\n",
            "Unpacking postgresql-common (248.pgdg20.04+1) ...\n",
            "Selecting previously unselected package logrotate.\n",
            "Preparing to unpack .../06-logrotate_3.14.0-4ubuntu3_amd64.deb ...\n",
            "Unpacking logrotate (3.14.0-4ubuntu3) ...\n",
            "Selecting previously unselected package libcommon-sense-perl.\n",
            "Preparing to unpack .../07-libcommon-sense-perl_3.74-2build6_amd64.deb ...\n",
            "Unpacking libcommon-sense-perl (3.74-2build6) ...\n",
            "Selecting previously unselected package libtypes-serialiser-perl.\n",
            "Preparing to unpack .../08-libtypes-serialiser-perl_1.0-1_all.deb ...\n",
            "Unpacking libtypes-serialiser-perl (1.0-1) ...\n",
            "Selecting previously unselected package libjson-xs-perl.\n",
            "Preparing to unpack .../09-libjson-xs-perl_4.020-1build1_amd64.deb ...\n",
            "Unpacking libjson-xs-perl (4.020-1build1) ...\n",
            "Selecting previously unselected package postgresql-client-11.\n",
            "Preparing to unpack .../10-postgresql-client-11_11.19-1.pgdg20.04+1_amd64.deb ...\n",
            "Unpacking postgresql-client-11 (11.19-1.pgdg20.04+1) ...\n",
            "Selecting previously unselected package postgresql-11.\n",
            "Preparing to unpack .../11-postgresql-11_11.19-1.pgdg20.04+1_amd64.deb ...\n",
            "Unpacking postgresql-11 (11.19-1.pgdg20.04+1) ...\n",
            "Selecting previously unselected package sysstat.\n",
            "Preparing to unpack .../12-sysstat_12.2.0-2ubuntu0.2_amd64.deb ...\n",
            "Unpacking sysstat (12.2.0-2ubuntu0.2) ...\n",
            "Setting up logrotate (3.14.0-4ubuntu3) ...\n",
            "Created symlink /etc/systemd/system/timers.target.wants/logrotate.timer → /lib/systemd/system/logrotate.timer.\n",
            "Setting up cron (3.0pl1-136ubuntu1) ...\n",
            "Adding group `crontab' (GID 113) ...\n",
            "Done.\n",
            "invoke-rc.d: could not determine current runlevel\n",
            "invoke-rc.d: policy-rc.d denied execution of start.\n",
            "Created symlink /etc/systemd/system/multi-user.target.wants/cron.service → /lib/systemd/system/cron.service.\n",
            "Setting up libcommon-sense-perl (3.74-2build6) ...\n",
            "Setting up ssl-cert (1.0.39) ...\n",
            "debconf: unable to initialize frontend: Dialog\n",
            "debconf: (No usable dialog-like program is installed, so the dialog based frontend cannot be used. at /usr/share/perl5/Debconf/FrontEnd/Dialog.pm line 76.)\n",
            "debconf: falling back to frontend: Readline\n",
            "Setting up libtypes-serialiser-perl (1.0-1) ...\n",
            "Setting up libjson-perl (4.02000-2) ...\n",
            "Setting up netbase (6.1) ...\n",
            "Setting up sysstat (12.2.0-2ubuntu0.2) ...\n",
            "debconf: unable to initialize frontend: Dialog\n",
            "debconf: (No usable dialog-like program is installed, so the dialog based frontend cannot be used. at /usr/share/perl5/Debconf/FrontEnd/Dialog.pm line 76.)\n",
            "debconf: falling back to frontend: Readline\n",
            "\n",
            "Creating config file /etc/default/sysstat with new version\n",
            "update-alternatives: using /usr/bin/sar.sysstat to provide /usr/bin/sar (sar) in auto mode\n",
            "Created symlink /etc/systemd/system/multi-user.target.wants/sysstat.service → /lib/systemd/system/sysstat.service.\n",
            "Setting up postgresql-client-common (248.pgdg20.04+1) ...\n",
            "Setting up libjson-xs-perl (4.020-1build1) ...\n",
            "Setting up postgresql-client-11 (11.19-1.pgdg20.04+1) ...\n",
            "update-alternatives: using /usr/share/postgresql/11/man/man1/psql.1.gz to provide /usr/share/man/man1/psql.1.gz (psql.1.gz) in auto mode\n",
            "Setting up postgresql-common (248.pgdg20.04+1) ...\n",
            "debconf: unable to initialize frontend: Dialog\n",
            "debconf: (No usable dialog-like program is installed, so the dialog based frontend cannot be used. at /usr/share/perl5/Debconf/FrontEnd/Dialog.pm line 76.)\n",
            "debconf: falling back to frontend: Readline\n",
            "Adding user postgres to group ssl-cert\n",
            "\n",
            "Creating config file /etc/postgresql-common/createcluster.conf with new version\n",
            "Building PostgreSQL dictionaries from installed myspell/hunspell packages...\n",
            "  en_us\n",
            "Removing obsolete dictionary files:\n",
            "'/etc/apt/trusted.gpg.d/apt.postgresql.org.gpg' -> '/usr/share/postgresql-common/pgdg/apt.postgresql.org.gpg'\n",
            "invoke-rc.d: could not determine current runlevel\n",
            "invoke-rc.d: policy-rc.d denied execution of start.\n",
            "Created symlink /etc/systemd/system/multi-user.target.wants/postgresql.service → /lib/systemd/system/postgresql.service.\n",
            "Setting up postgresql-11 (11.19-1.pgdg20.04+1) ...\n",
            "debconf: unable to initialize frontend: Dialog\n",
            "debconf: (No usable dialog-like program is installed, so the dialog based frontend cannot be used. at /usr/share/perl5/Debconf/FrontEnd/Dialog.pm line 76.)\n",
            "debconf: falling back to frontend: Readline\n",
            "Creating new PostgreSQL cluster 11/main ...\n",
            "/usr/lib/postgresql/11/bin/initdb -D /var/lib/postgresql/11/main --auth-local peer --auth-host md5\n",
            "The files belonging to this database system will be owned by user \"postgres\".\n",
            "This user must also own the server process.\n",
            "\n",
            "The database cluster will be initialized with locale \"en_US.UTF-8\".\n",
            "The default database encoding has accordingly been set to \"UTF8\".\n",
            "The default text search configuration will be set to \"english\".\n",
            "\n",
            "Data page checksums are disabled.\n",
            "\n",
            "fixing permissions on existing directory /var/lib/postgresql/11/main ... ok\n",
            "creating subdirectories ... ok\n",
            "selecting default max_connections ... 100\n",
            "selecting default shared_buffers ... 128MB\n",
            "selecting default timezone ... Etc/UTC\n",
            "selecting dynamic shared memory implementation ... posix\n",
            "creating configuration files ... ok\n",
            "running bootstrap script ... ok\n",
            "performing post-bootstrap initialization ... ok\n",
            "syncing data to disk ... ok\n",
            "\n",
            "Success. You can now start the database server using:\n",
            "\n",
            "    pg_ctlcluster 11 main start\n",
            "\n",
            "update-alternatives: using /usr/share/postgresql/11/man/man1/postmaster.1.gz to provide /usr/share/man/man1/postmaster.1.gz (postmaster.1.gz) in auto mode\n",
            "invoke-rc.d: could not determine current runlevel\n",
            "invoke-rc.d: policy-rc.d denied execution of start.\n",
            "Processing triggers for man-db (2.9.1-1) ...\n",
            "Processing triggers for systemd (245.4-4ubuntu3.20) ...\n",
            " * Starting PostgreSQL 11 database server\n",
            "   ...done.\n",
            "ALTER ROLE\n",
            "NOTICE:  database \"donors_choose\" does not exist, skipping\n",
            "DROP DATABASE\n",
            "CREATE DATABASE\n",
            "env: DEMO_DATABASE_NAME=donors_choose\n",
            "env: DEMO_DATABASE_HOST=localhost\n",
            "env: DEMO_DATABASE_PORT=5432\n",
            "DROP DATABASE\n",
            "CREATE DATABASE\n",
            "env: DEMO_DATABASE_NAME=donors_choose\n",
            "env: DEMO_DATABASE_HOST=localhost\n",
            "env: DEMO_DATABASE_PORT=5432\n",
            "env: DEMO_DATABASE_USER=postgres\n",
            "env: DEMO_DATABASE_PASS=postgres\n"
          ]
        }
      ]
    },
    {
      "cell_type": "code",
      "source": [
        "# Download sampled DonorsChoose data and load it into our postgres server\n",
        "!curl -s -OL https://dsapp-public-data-migrated.s3.us-west-2.amazonaws.com/donors_sampled_20210920_v3.dmp\n",
        "!PGPASSWORD=$DEMO_DATABASE_PASS pg_restore -h $DEMO_DATABASE_HOST -p $DEMO_DATABASE_PORT -d $DEMO_DATABASE_NAME -U $DEMO_DATABASE_USER -O -j 8 donors_sampled_20210920_v3.dmp\n",
        "!pip install SQLAlchemy==1.3.18 PyYAML==6.0 psycopg2-binary==2.9.3\n",
        "from sqlalchemy.engine.url import URL\n",
        "from sqlalchemy import create_engine\n",
        "\n",
        "db_url = URL(\n",
        "            'postgres',\n",
        "            host='localhost',\n",
        "            username='postgres',\n",
        "            database='donors_choose',\n",
        "            password='postgres',\n",
        "            port=5432,\n",
        "        )\n",
        "\n",
        "db_engine = create_engine(db_url)\n",
        "full_projects = pd.read_sql(\"SELECT * FROM data.projects\", db_engine)\n",
        "full_resources = pd.read_sql(\"SELECT * FROM data.resources\", db_engine)\n",
        "full_donations = pd.read_sql(\"SELECT * FROM data.donations\", db_engine)\n",
        "\n",
        "\n",
        "full_projects=full_projects.rename(columns = {'projectid_str':'projectid', \"total_asking_price\":\"total_price_excluding_optional_support\"})\n",
        "full_donations = full_donations.rename(columns = {'projectid_str':'projectid'})"
      ],
      "metadata": {
        "colab": {
          "base_uri": "https://localhost:8080/"
        },
        "id": "se7wUc3CAZ6q",
        "outputId": "b9c03d80-6c80-4a15-9136-d898f288301a"
      },
      "execution_count": 3,
      "outputs": [
        {
          "output_type": "stream",
          "name": "stdout",
          "text": [
            "Looking in indexes: https://pypi.org/simple, https://us-python.pkg.dev/colab-wheels/public/simple/\n",
            "Collecting SQLAlchemy==1.3.18\n",
            "  Downloading SQLAlchemy-1.3.18.tar.gz (6.0 MB)\n",
            "\u001b[2K     \u001b[90m━━━━━━━━━━━━━━━━━━━━━━━━━━━━━━━━━━━━━━━━\u001b[0m \u001b[32m6.0/6.0 MB\u001b[0m \u001b[31m35.1 MB/s\u001b[0m eta \u001b[36m0:00:00\u001b[0m\n",
            "\u001b[?25h  Preparing metadata (setup.py) ... \u001b[?25l\u001b[?25hdone\n",
            "Requirement already satisfied: PyYAML==6.0 in /usr/local/lib/python3.9/dist-packages (6.0)\n",
            "Collecting psycopg2-binary==2.9.3\n",
            "  Downloading psycopg2_binary-2.9.3-cp39-cp39-manylinux_2_17_x86_64.manylinux2014_x86_64.whl (3.0 MB)\n",
            "\u001b[2K     \u001b[90m━━━━━━━━━━━━━━━━━━━━━━━━━━━━━━━━━━━━━━━━\u001b[0m \u001b[32m3.0/3.0 MB\u001b[0m \u001b[31m71.1 MB/s\u001b[0m eta \u001b[36m0:00:00\u001b[0m\n",
            "\u001b[?25hBuilding wheels for collected packages: SQLAlchemy\n",
            "  Building wheel for SQLAlchemy (setup.py) ... \u001b[?25l\u001b[?25hdone\n",
            "  Created wheel for SQLAlchemy: filename=SQLAlchemy-1.3.18-cp39-cp39-linux_x86_64.whl size=1250896 sha256=17548c059c1c9b36cce7d37470acfa4f3c06d5fc3920a3e7f1be0c73c709bb53\n",
            "  Stored in directory: /root/.cache/pip/wheels/a9/64/4b/d932f1cde56100ccee97a4488f9ef96427a392979405170800\n",
            "Successfully built SQLAlchemy\n",
            "Installing collected packages: SQLAlchemy, psycopg2-binary\n",
            "  Attempting uninstall: SQLAlchemy\n",
            "    Found existing installation: SQLAlchemy 1.4.47\n",
            "    Uninstalling SQLAlchemy-1.4.47:\n",
            "      Successfully uninstalled SQLAlchemy-1.4.47\n",
            "Successfully installed SQLAlchemy-1.3.18 psycopg2-binary-2.9.3\n"
          ]
        }
      ]
    },
    {
      "cell_type": "code",
      "source": [
        "import json\n",
        "import zipfile\n",
        "import os\n",
        "import pandas as pd"
      ],
      "metadata": {
        "id": "VlbzZffyAdzR"
      },
      "execution_count": 4,
      "outputs": []
    },
    {
      "cell_type": "code",
      "source": [
        "!pip install kaggle\n",
        "\n",
        "!mkdir /root/.kaggle\n",
        "!touch /root/.kaggle/kaggle.json\n",
        "api_token = {\"username\":\"ploped123\",\"key\":\"eeeeba8fc52706723e4c1bcf41ae6fd3\"}\n",
        "\n",
        "with open('/root/.kaggle/kaggle.json', 'w') as file:\n",
        "    json.dump(api_token, file)\n",
        "\n",
        "!chmod 600 /root/.kaggle/kaggle.json\n",
        "\n",
        "!kaggle competitions download -c kdd-cup-2014-predicting-excitement-at-donors-choose"
      ],
      "metadata": {
        "colab": {
          "base_uri": "https://localhost:8080/"
        },
        "id": "ogYW8MkiAsic",
        "outputId": "c33f0110-0946-424b-9bab-a55f9f8f4218"
      },
      "execution_count": 5,
      "outputs": [
        {
          "output_type": "stream",
          "name": "stdout",
          "text": [
            "Looking in indexes: https://pypi.org/simple, https://us-python.pkg.dev/colab-wheels/public/simple/\n",
            "Requirement already satisfied: kaggle in /usr/local/lib/python3.9/dist-packages (1.5.13)\n",
            "Requirement already satisfied: urllib3 in /usr/local/lib/python3.9/dist-packages (from kaggle) (1.26.15)\n",
            "Requirement already satisfied: certifi in /usr/local/lib/python3.9/dist-packages (from kaggle) (2022.12.7)\n",
            "Requirement already satisfied: tqdm in /usr/local/lib/python3.9/dist-packages (from kaggle) (4.65.0)\n",
            "Requirement already satisfied: six>=1.10 in /usr/local/lib/python3.9/dist-packages (from kaggle) (1.16.0)\n",
            "Requirement already satisfied: python-dateutil in /usr/local/lib/python3.9/dist-packages (from kaggle) (2.8.2)\n",
            "Requirement already satisfied: python-slugify in /usr/local/lib/python3.9/dist-packages (from kaggle) (8.0.1)\n",
            "Requirement already satisfied: requests in /usr/local/lib/python3.9/dist-packages (from kaggle) (2.27.1)\n",
            "Requirement already satisfied: text-unidecode>=1.3 in /usr/local/lib/python3.9/dist-packages (from python-slugify->kaggle) (1.3)\n",
            "Requirement already satisfied: charset-normalizer~=2.0.0 in /usr/local/lib/python3.9/dist-packages (from requests->kaggle) (2.0.12)\n",
            "Requirement already satisfied: idna<4,>=2.5 in /usr/local/lib/python3.9/dist-packages (from requests->kaggle) (3.4)\n",
            "Downloading kdd-cup-2014-predicting-excitement-at-donors-choose.zip to /content\n",
            " 99% 918M/926M [00:05<00:00, 170MB/s]\n",
            "100% 926M/926M [00:05<00:00, 171MB/s]\n"
          ]
        }
      ]
    },
    {
      "cell_type": "code",
      "source": [
        "!ls /content"
      ],
      "metadata": {
        "colab": {
          "base_uri": "https://localhost:8080/"
        },
        "id": "D3zrmRjJAuoy",
        "outputId": "7924d57a-4e77-43c7-94d1-228adf0eba79"
      },
      "execution_count": 6,
      "outputs": [
        {
          "output_type": "stream",
          "name": "stdout",
          "text": [
            "donors_sampled_20210920_v3.dmp\t\t\t\t sample_data\n",
            "kdd-cup-2014-predicting-excitement-at-donors-choose.zip\n"
          ]
        }
      ]
    },
    {
      "cell_type": "code",
      "source": [
        "!unzip /content/kdd-cup-2014-predicting-excitement-at-donors-choose.zip"
      ],
      "metadata": {
        "colab": {
          "base_uri": "https://localhost:8080/"
        },
        "id": "6-CBXLgrAy58",
        "outputId": "73a76c92-ff3e-40b7-f8d3-75b143c2ccfb"
      },
      "execution_count": 7,
      "outputs": [
        {
          "output_type": "stream",
          "name": "stdout",
          "text": [
            "Archive:  /content/kdd-cup-2014-predicting-excitement-at-donors-choose.zip\n",
            "  inflating: donations.csv.zip       \n",
            "  inflating: essays.csv.zip          \n",
            "  inflating: outcomes.csv.zip        \n",
            "  inflating: projects.csv.zip        \n",
            "  inflating: resources.csv.zip       \n",
            "  inflating: sampleSubmission.csv.zip  \n"
          ]
        }
      ]
    },
    {
      "cell_type": "code",
      "source": [
        "!unzip /content/resources.csv.zip\n",
        "!unzip /content/donations.csv.zip"
      ],
      "metadata": {
        "colab": {
          "base_uri": "https://localhost:8080/"
        },
        "id": "P1StFNZvA1E5",
        "outputId": "2d322df7-b1a8-486b-afab-b83f858c7ac5"
      },
      "execution_count": 8,
      "outputs": [
        {
          "output_type": "stream",
          "name": "stdout",
          "text": [
            "Archive:  /content/resources.csv.zip\n",
            "  inflating: resources.csv           \n",
            "Archive:  /content/donations.csv.zip\n",
            "  inflating: donations.csv           \n"
          ]
        }
      ]
    },
    {
      "cell_type": "code",
      "source": [
        "!unzip /content/projects.csv.zip"
      ],
      "metadata": {
        "colab": {
          "base_uri": "https://localhost:8080/"
        },
        "id": "HngTM8IwA5Kq",
        "outputId": "81f3bdd5-d49f-4723-a1ea-19edb62c63df"
      },
      "execution_count": 9,
      "outputs": [
        {
          "output_type": "stream",
          "name": "stdout",
          "text": [
            "Archive:  /content/projects.csv.zip\n",
            "  inflating: projects.csv            \n"
          ]
        }
      ]
    },
    {
      "cell_type": "code",
      "source": [
        "full_donations = pd.read_csv(\"/content/donations.csv\")\n",
        "full_projects = pd.read_csv(\"/content/projects.csv\")\n",
        "# full_essays = pd.read_csv(\"essays.csv\")\n",
        "full_resources = pd.read_csv(\"/content/resources.csv\")"
      ],
      "metadata": {
        "id": "sTLjenepA7jO"
      },
      "execution_count": 11,
      "outputs": []
    },
    {
      "cell_type": "code",
      "source": [
        "from datetime import timedelta\n",
        "!pip install textstat\n",
        "!pip install flair\n",
        "\n",
        "import textstat\n",
        "\n",
        "from nltk.sentiment.vader import SentimentIntensityAnalyzer\n",
        "from nltk import tokenize\n",
        "\n",
        "import flair"
      ],
      "metadata": {
        "colab": {
          "base_uri": "https://localhost:8080/"
        },
        "id": "GR5-zu3-Q2Lm",
        "outputId": "82589a41-8dd8-411e-e83b-128c53a24e2a"
      },
      "execution_count": 12,
      "outputs": [
        {
          "output_type": "stream",
          "name": "stdout",
          "text": [
            "Looking in indexes: https://pypi.org/simple, https://us-python.pkg.dev/colab-wheels/public/simple/\n",
            "Collecting textstat\n",
            "  Downloading textstat-0.7.3-py3-none-any.whl (105 kB)\n",
            "\u001b[2K     \u001b[90m━━━━━━━━━━━━━━━━━━━━━━━━━━━━━━━━━━━━━━━\u001b[0m \u001b[32m105.1/105.1 KB\u001b[0m \u001b[31m3.8 MB/s\u001b[0m eta \u001b[36m0:00:00\u001b[0m\n",
            "\u001b[?25hCollecting pyphen\n",
            "  Downloading pyphen-0.14.0-py3-none-any.whl (2.0 MB)\n",
            "\u001b[2K     \u001b[90m━━━━━━━━━━━━━━━━━━━━━━━━━━━━━━━━━━━━━━━━\u001b[0m \u001b[32m2.0/2.0 MB\u001b[0m \u001b[31m27.2 MB/s\u001b[0m eta \u001b[36m0:00:00\u001b[0m\n",
            "\u001b[?25hInstalling collected packages: pyphen, textstat\n",
            "Successfully installed pyphen-0.14.0 textstat-0.7.3\n",
            "Looking in indexes: https://pypi.org/simple, https://us-python.pkg.dev/colab-wheels/public/simple/\n",
            "Collecting flair\n",
            "  Downloading flair-0.12.1-py3-none-any.whl (374 kB)\n",
            "\u001b[2K     \u001b[90m━━━━━━━━━━━━━━━━━━━━━━━━━━━━━━━━━━━━━━━\u001b[0m \u001b[32m374.3/374.3 KB\u001b[0m \u001b[31m6.8 MB/s\u001b[0m eta \u001b[36m0:00:00\u001b[0m\n",
            "\u001b[?25hRequirement already satisfied: scikit-learn>=0.21.3 in /usr/local/lib/python3.9/dist-packages (from flair) (1.2.2)\n",
            "Requirement already satisfied: lxml in /usr/local/lib/python3.9/dist-packages (from flair) (4.9.2)\n",
            "Collecting transformer-smaller-training-vocab>=0.2.0\n",
            "  Downloading transformer_smaller_training_vocab-0.2.3-py3-none-any.whl (12 kB)\n",
            "Requirement already satisfied: tqdm>=4.26.0 in /usr/local/lib/python3.9/dist-packages (from flair) (4.65.0)\n",
            "Collecting deprecated>=1.2.4\n",
            "  Downloading Deprecated-1.2.13-py2.py3-none-any.whl (9.6 kB)\n",
            "Collecting conllu>=4.0\n",
            "  Downloading conllu-4.5.2-py2.py3-none-any.whl (16 kB)\n",
            "Collecting mpld3==0.3\n",
            "  Downloading mpld3-0.3.tar.gz (788 kB)\n",
            "\u001b[2K     \u001b[90m━━━━━━━━━━━━━━━━━━━━━━━━━━━━━━━━━━━━━━\u001b[0m \u001b[32m788.5/788.5 KB\u001b[0m \u001b[31m31.7 MB/s\u001b[0m eta \u001b[36m0:00:00\u001b[0m\n",
            "\u001b[?25h  Preparing metadata (setup.py) ... \u001b[?25l\u001b[?25hdone\n",
            "Collecting pptree\n",
            "  Downloading pptree-3.1.tar.gz (3.0 kB)\n",
            "  Preparing metadata (setup.py) ... \u001b[?25l\u001b[?25hdone\n",
            "Collecting pytorch-revgrad\n",
            "  Downloading pytorch_revgrad-0.2.0-py3-none-any.whl (4.6 kB)\n",
            "Collecting boto3\n",
            "  Downloading boto3-1.26.101-py3-none-any.whl (135 kB)\n",
            "\u001b[2K     \u001b[90m━━━━━━━━━━━━━━━━━━━━━━━━━━━━━━━━━━━━━━\u001b[0m \u001b[32m135.5/135.5 KB\u001b[0m \u001b[31m15.5 MB/s\u001b[0m eta \u001b[36m0:00:00\u001b[0m\n",
            "\u001b[?25hCollecting segtok>=1.5.7\n",
            "  Downloading segtok-1.5.11-py3-none-any.whl (24 kB)\n",
            "Requirement already satisfied: torch!=1.8,>=1.5.0 in /usr/local/lib/python3.9/dist-packages (from flair) (1.13.1+cu116)\n",
            "Requirement already satisfied: tabulate in /usr/local/lib/python3.9/dist-packages (from flair) (0.8.10)\n",
            "Collecting janome\n",
            "  Downloading Janome-0.4.2-py2.py3-none-any.whl (19.7 MB)\n",
            "\u001b[2K     \u001b[90m━━━━━━━━━━━━━━━━━━━━━━━━━━━━━━━━━━━━━━━━\u001b[0m \u001b[32m19.7/19.7 MB\u001b[0m \u001b[31m61.0 MB/s\u001b[0m eta \u001b[36m0:00:00\u001b[0m\n",
            "\u001b[?25hCollecting langdetect\n",
            "  Downloading langdetect-1.0.9.tar.gz (981 kB)\n",
            "\u001b[2K     \u001b[90m━━━━━━━━━━━━━━━━━━━━━━━━━━━━━━━━━━━━━━\u001b[0m \u001b[32m981.5/981.5 KB\u001b[0m \u001b[31m49.9 MB/s\u001b[0m eta \u001b[36m0:00:00\u001b[0m\n",
            "\u001b[?25h  Preparing metadata (setup.py) ... \u001b[?25l\u001b[?25hdone\n",
            "Requirement already satisfied: gensim>=3.8.0 in /usr/local/lib/python3.9/dist-packages (from flair) (4.3.1)\n",
            "Collecting bpemb>=0.3.2\n",
            "  Downloading bpemb-0.3.4-py3-none-any.whl (19 kB)\n",
            "Requirement already satisfied: python-dateutil>=2.6.1 in /usr/local/lib/python3.9/dist-packages (from flair) (2.8.2)\n",
            "Collecting huggingface-hub==0.10.0\n",
            "  Downloading huggingface_hub-0.10.0-py3-none-any.whl (163 kB)\n",
            "\u001b[2K     \u001b[90m━━━━━━━━━━━━━━━━━━━━━━━━━━━━━━━━━━━━━━\u001b[0m \u001b[32m163.5/163.5 KB\u001b[0m \u001b[31m16.2 MB/s\u001b[0m eta \u001b[36m0:00:00\u001b[0m\n",
            "\u001b[?25hRequirement already satisfied: regex in /usr/local/lib/python3.9/dist-packages (from flair) (2022.10.31)\n",
            "Collecting transformers[sentencepiece]>=4.18.0\n",
            "  Downloading transformers-4.27.3-py3-none-any.whl (6.8 MB)\n",
            "\u001b[2K     \u001b[90m━━━━━━━━━━━━━━━━━━━━━━━━━━━━━━━━━━━━━━━━\u001b[0m \u001b[32m6.8/6.8 MB\u001b[0m \u001b[31m79.2 MB/s\u001b[0m eta \u001b[36m0:00:00\u001b[0m\n",
            "\u001b[?25hCollecting gdown==4.4.0\n",
            "  Downloading gdown-4.4.0.tar.gz (14 kB)\n",
            "  Installing build dependencies ... \u001b[?25l\u001b[?25hdone\n",
            "  Getting requirements to build wheel ... \u001b[?25l\u001b[?25hdone\n",
            "  Preparing metadata (pyproject.toml) ... \u001b[?25l\u001b[?25hdone\n",
            "Requirement already satisfied: matplotlib>=2.2.3 in /usr/local/lib/python3.9/dist-packages (from flair) (3.7.1)\n",
            "Collecting sqlitedict>=1.6.0\n",
            "  Downloading sqlitedict-2.1.0.tar.gz (21 kB)\n",
            "  Preparing metadata (setup.py) ... \u001b[?25l\u001b[?25hdone\n",
            "Collecting ftfy\n",
            "  Downloading ftfy-6.1.1-py3-none-any.whl (53 kB)\n",
            "\u001b[2K     \u001b[90m━━━━━━━━━━━━━━━━━━━━━━━━━━━━━━━━━━━━━━━━\u001b[0m \u001b[32m53.1/53.1 KB\u001b[0m \u001b[31m4.3 MB/s\u001b[0m eta \u001b[36m0:00:00\u001b[0m\n",
            "\u001b[?25hCollecting wikipedia-api\n",
            "  Downloading Wikipedia_API-0.5.8-py3-none-any.whl (13 kB)\n",
            "Requirement already satisfied: more-itertools in /usr/local/lib/python3.9/dist-packages (from flair) (9.1.0)\n",
            "Requirement already satisfied: hyperopt>=0.2.7 in /usr/local/lib/python3.9/dist-packages (from flair) (0.2.7)\n",
            "Requirement already satisfied: six in /usr/local/lib/python3.9/dist-packages (from gdown==4.4.0->flair) (1.16.0)\n",
            "Requirement already satisfied: beautifulsoup4 in /usr/local/lib/python3.9/dist-packages (from gdown==4.4.0->flair) (4.11.2)\n",
            "Requirement already satisfied: requests[socks] in /usr/local/lib/python3.9/dist-packages (from gdown==4.4.0->flair) (2.27.1)\n",
            "Requirement already satisfied: filelock in /usr/local/lib/python3.9/dist-packages (from gdown==4.4.0->flair) (3.10.2)\n",
            "Requirement already satisfied: typing-extensions>=3.7.4.3 in /usr/local/lib/python3.9/dist-packages (from huggingface-hub==0.10.0->flair) (4.5.0)\n",
            "Requirement already satisfied: packaging>=20.9 in /usr/local/lib/python3.9/dist-packages (from huggingface-hub==0.10.0->flair) (23.0)\n",
            "Requirement already satisfied: pyyaml>=5.1 in /usr/local/lib/python3.9/dist-packages (from huggingface-hub==0.10.0->flair) (6.0)\n",
            "Collecting sentencepiece\n",
            "  Downloading sentencepiece-0.1.97-cp39-cp39-manylinux_2_17_x86_64.manylinux2014_x86_64.whl (1.3 MB)\n",
            "\u001b[2K     \u001b[90m━━━━━━━━━━━━━━━━━━━━━━━━━━━━━━━━━━━━━━━━\u001b[0m \u001b[32m1.3/1.3 MB\u001b[0m \u001b[31m64.7 MB/s\u001b[0m eta \u001b[36m0:00:00\u001b[0m\n",
            "\u001b[?25hRequirement already satisfied: numpy in /usr/local/lib/python3.9/dist-packages (from bpemb>=0.3.2->flair) (1.22.4)\n",
            "Requirement already satisfied: wrapt<2,>=1.10 in /usr/local/lib/python3.9/dist-packages (from deprecated>=1.2.4->flair) (1.15.0)\n",
            "Requirement already satisfied: smart-open>=1.8.1 in /usr/local/lib/python3.9/dist-packages (from gensim>=3.8.0->flair) (6.3.0)\n",
            "Requirement already satisfied: scipy>=1.7.0 in /usr/local/lib/python3.9/dist-packages (from gensim>=3.8.0->flair) (1.10.1)\n",
            "Requirement already satisfied: cloudpickle in /usr/local/lib/python3.9/dist-packages (from hyperopt>=0.2.7->flair) (2.2.1)\n",
            "Requirement already satisfied: py4j in /usr/local/lib/python3.9/dist-packages (from hyperopt>=0.2.7->flair) (0.10.9.7)\n",
            "Requirement already satisfied: future in /usr/local/lib/python3.9/dist-packages (from hyperopt>=0.2.7->flair) (0.18.3)\n",
            "Requirement already satisfied: networkx>=2.2 in /usr/local/lib/python3.9/dist-packages (from hyperopt>=0.2.7->flair) (3.0)\n",
            "Requirement already satisfied: fonttools>=4.22.0 in /usr/local/lib/python3.9/dist-packages (from matplotlib>=2.2.3->flair) (4.39.2)\n",
            "Requirement already satisfied: contourpy>=1.0.1 in /usr/local/lib/python3.9/dist-packages (from matplotlib>=2.2.3->flair) (1.0.7)\n",
            "Requirement already satisfied: pillow>=6.2.0 in /usr/local/lib/python3.9/dist-packages (from matplotlib>=2.2.3->flair) (8.4.0)\n",
            "Requirement already satisfied: pyparsing>=2.3.1 in /usr/local/lib/python3.9/dist-packages (from matplotlib>=2.2.3->flair) (3.0.9)\n",
            "Requirement already satisfied: cycler>=0.10 in /usr/local/lib/python3.9/dist-packages (from matplotlib>=2.2.3->flair) (0.11.0)\n",
            "Requirement already satisfied: kiwisolver>=1.0.1 in /usr/local/lib/python3.9/dist-packages (from matplotlib>=2.2.3->flair) (1.4.4)\n",
            "Requirement already satisfied: importlib-resources>=3.2.0 in /usr/local/lib/python3.9/dist-packages (from matplotlib>=2.2.3->flair) (5.12.0)\n",
            "Requirement already satisfied: threadpoolctl>=2.0.0 in /usr/local/lib/python3.9/dist-packages (from scikit-learn>=0.21.3->flair) (3.1.0)\n",
            "Requirement already satisfied: joblib>=1.1.1 in /usr/local/lib/python3.9/dist-packages (from scikit-learn>=0.21.3->flair) (1.1.1)\n",
            "Collecting datasets<3.0.0,>=2.0.0\n",
            "  Downloading datasets-2.10.1-py3-none-any.whl (469 kB)\n",
            "\u001b[2K     \u001b[90m━━━━━━━━━━━━━━━━━━━━━━━━━━━━━━━━━━━━━━\u001b[0m \u001b[32m469.0/469.0 KB\u001b[0m \u001b[31m30.6 MB/s\u001b[0m eta \u001b[36m0:00:00\u001b[0m\n",
            "\u001b[?25hCollecting transformers[sentencepiece]>=4.18.0\n",
            "  Downloading transformers-4.27.2-py3-none-any.whl (6.8 MB)\n",
            "\u001b[2K     \u001b[90m━━━━━━━━━━━━━━━━━━━━━━━━━━━━━━━━━━━━━━━━\u001b[0m \u001b[32m6.8/6.8 MB\u001b[0m \u001b[31m84.9 MB/s\u001b[0m eta \u001b[36m0:00:00\u001b[0m\n",
            "\u001b[?25h  Downloading transformers-4.27.1-py3-none-any.whl (6.7 MB)\n",
            "\u001b[2K     \u001b[90m━━━━━━━━━━━━━━━━━━━━━━━━━━━━━━━━━━━━━━━━\u001b[0m \u001b[32m6.7/6.7 MB\u001b[0m \u001b[31m79.7 MB/s\u001b[0m eta \u001b[36m0:00:00\u001b[0m\n",
            "\u001b[?25h  Downloading transformers-4.27.0-py3-none-any.whl (6.8 MB)\n",
            "\u001b[2K     \u001b[90m━━━━━━━━━━━━━━━━━━━━━━━━━━━━━━━━━━━━━━━━\u001b[0m \u001b[32m6.8/6.8 MB\u001b[0m \u001b[31m76.5 MB/s\u001b[0m eta \u001b[36m0:00:00\u001b[0m\n",
            "\u001b[?25h  Downloading transformers-4.26.1-py3-none-any.whl (6.3 MB)\n",
            "\u001b[2K     \u001b[90m━━━━━━━━━━━━━━━━━━━━━━━━━━━━━━━━━━━━━━━━\u001b[0m \u001b[32m6.3/6.3 MB\u001b[0m \u001b[31m70.7 MB/s\u001b[0m eta \u001b[36m0:00:00\u001b[0m\n",
            "\u001b[?25h  Downloading transformers-4.26.0-py3-none-any.whl (6.3 MB)\n",
            "\u001b[2K     \u001b[90m━━━━━━━━━━━━━━━━━━━━━━━━━━━━━━━━━━━━━━━━\u001b[0m \u001b[32m6.3/6.3 MB\u001b[0m \u001b[31m65.6 MB/s\u001b[0m eta \u001b[36m0:00:00\u001b[0m\n",
            "\u001b[?25h  Downloading transformers-4.25.1-py3-none-any.whl (5.8 MB)\n",
            "\u001b[2K     \u001b[90m━━━━━━━━━━━━━━━━━━━━━━━━━━━━━━━━━━━━━━━━\u001b[0m \u001b[32m5.8/5.8 MB\u001b[0m \u001b[31m63.4 MB/s\u001b[0m eta \u001b[36m0:00:00\u001b[0m\n",
            "\u001b[?25hCollecting tokenizers!=0.11.3,<0.14,>=0.11.1\n",
            "  Downloading tokenizers-0.13.2-cp39-cp39-manylinux_2_17_x86_64.manylinux2014_x86_64.whl (7.6 MB)\n",
            "\u001b[2K     \u001b[90m━━━━━━━━━━━━━━━━━━━━━━━━━━━━━━━━━━━━━━━━\u001b[0m \u001b[32m7.6/7.6 MB\u001b[0m \u001b[31m42.6 MB/s\u001b[0m eta \u001b[36m0:00:00\u001b[0m\n",
            "\u001b[?25hRequirement already satisfied: protobuf<=3.20.2 in /usr/local/lib/python3.9/dist-packages (from transformers[sentencepiece]>=4.18.0->flair) (3.19.6)\n",
            "Collecting s3transfer<0.7.0,>=0.6.0\n",
            "  Downloading s3transfer-0.6.0-py3-none-any.whl (79 kB)\n",
            "\u001b[2K     \u001b[90m━━━━━━━━━━━━━━━━━━━━━━━━━━━━━━━━━━━━━━━\u001b[0m \u001b[32m79.6/79.6 KB\u001b[0m \u001b[31m434.5 kB/s\u001b[0m eta \u001b[36m0:00:00\u001b[0m\n",
            "\u001b[?25hCollecting jmespath<2.0.0,>=0.7.1\n",
            "  Downloading jmespath-1.0.1-py3-none-any.whl (20 kB)\n",
            "Collecting botocore<1.30.0,>=1.29.101\n",
            "  Downloading botocore-1.29.101-py3-none-any.whl (10.6 MB)\n",
            "\u001b[2K     \u001b[90m━━━━━━━━━━━━━━━━━━━━━━━━━━━━━━━━━━━━━━━━\u001b[0m \u001b[32m10.6/10.6 MB\u001b[0m \u001b[31m59.4 MB/s\u001b[0m eta \u001b[36m0:00:00\u001b[0m\n",
            "\u001b[?25hRequirement already satisfied: wcwidth>=0.2.5 in /usr/local/lib/python3.9/dist-packages (from ftfy->flair) (0.2.6)\n",
            "Requirement already satisfied: urllib3<1.27,>=1.25.4 in /usr/local/lib/python3.9/dist-packages (from botocore<1.30.0,>=1.29.101->boto3->flair) (1.26.15)\n",
            "Requirement already satisfied: pandas in /usr/local/lib/python3.9/dist-packages (from datasets<3.0.0,>=2.0.0->transformer-smaller-training-vocab>=0.2.0->flair) (1.4.4)\n",
            "Collecting dill<0.3.7,>=0.3.0\n",
            "  Downloading dill-0.3.6-py3-none-any.whl (110 kB)\n",
            "\u001b[2K     \u001b[90m━━━━━━━━━━━━━━━━━━━━━━━━━━━━━━━━━━━━━━\u001b[0m \u001b[32m110.5/110.5 KB\u001b[0m \u001b[31m11.7 MB/s\u001b[0m eta \u001b[36m0:00:00\u001b[0m\n",
            "\u001b[?25hCollecting xxhash\n",
            "  Downloading xxhash-3.2.0-cp39-cp39-manylinux_2_17_x86_64.manylinux2014_x86_64.whl (212 kB)\n",
            "\u001b[2K     \u001b[90m━━━━━━━━━━━━━━━━━━━━━━━━━━━━━━━━━━━━━━\u001b[0m \u001b[32m212.2/212.2 KB\u001b[0m \u001b[31m20.4 MB/s\u001b[0m eta \u001b[36m0:00:00\u001b[0m\n",
            "\u001b[?25hCollecting multiprocess\n",
            "  Downloading multiprocess-0.70.14-py39-none-any.whl (132 kB)\n",
            "\u001b[2K     \u001b[90m━━━━━━━━━━━━━━━━━━━━━━━━━━━━━━━━━━━━━━\u001b[0m \u001b[32m132.9/132.9 KB\u001b[0m \u001b[31m14.1 MB/s\u001b[0m eta \u001b[36m0:00:00\u001b[0m\n",
            "\u001b[?25hRequirement already satisfied: pyarrow>=6.0.0 in /usr/local/lib/python3.9/dist-packages (from datasets<3.0.0,>=2.0.0->transformer-smaller-training-vocab>=0.2.0->flair) (9.0.0)\n",
            "Requirement already satisfied: fsspec[http]>=2021.11.1 in /usr/local/lib/python3.9/dist-packages (from datasets<3.0.0,>=2.0.0->transformer-smaller-training-vocab>=0.2.0->flair) (2023.3.0)\n",
            "Collecting responses<0.19\n",
            "  Downloading responses-0.18.0-py3-none-any.whl (38 kB)\n",
            "Collecting aiohttp\n",
            "  Downloading aiohttp-3.8.4-cp39-cp39-manylinux_2_17_x86_64.manylinux2014_x86_64.whl (1.0 MB)\n",
            "\u001b[2K     \u001b[90m━━━━━━━━━━━━━━━━━━━━━━━━━━━━━━━━━━━━━━━━\u001b[0m \u001b[32m1.0/1.0 MB\u001b[0m \u001b[31m60.4 MB/s\u001b[0m eta \u001b[36m0:00:00\u001b[0m\n",
            "\u001b[?25hRequirement already satisfied: zipp>=3.1.0 in /usr/local/lib/python3.9/dist-packages (from importlib-resources>=3.2.0->matplotlib>=2.2.3->flair) (3.15.0)\n",
            "Requirement already satisfied: certifi>=2017.4.17 in /usr/local/lib/python3.9/dist-packages (from requests[socks]->gdown==4.4.0->flair) (2022.12.7)\n",
            "Requirement already satisfied: idna<4,>=2.5 in /usr/local/lib/python3.9/dist-packages (from requests[socks]->gdown==4.4.0->flair) (3.4)\n",
            "Requirement already satisfied: charset-normalizer~=2.0.0 in /usr/local/lib/python3.9/dist-packages (from requests[socks]->gdown==4.4.0->flair) (2.0.12)\n",
            "Requirement already satisfied: soupsieve>1.2 in /usr/local/lib/python3.9/dist-packages (from beautifulsoup4->gdown==4.4.0->flair) (2.4)\n",
            "Requirement already satisfied: PySocks!=1.5.7,>=1.5.6 in /usr/local/lib/python3.9/dist-packages (from requests[socks]->gdown==4.4.0->flair) (1.7.1)\n",
            "Collecting aiosignal>=1.1.2\n",
            "  Downloading aiosignal-1.3.1-py3-none-any.whl (7.6 kB)\n",
            "Collecting async-timeout<5.0,>=4.0.0a3\n",
            "  Downloading async_timeout-4.0.2-py3-none-any.whl (5.8 kB)\n",
            "Collecting multidict<7.0,>=4.5\n",
            "  Downloading multidict-6.0.4-cp39-cp39-manylinux_2_17_x86_64.manylinux2014_x86_64.whl (114 kB)\n",
            "\u001b[2K     \u001b[90m━━━━━━━━━━━━━━━━━━━━━━━━━━━━━━━━━━━━━━\u001b[0m \u001b[32m114.2/114.2 KB\u001b[0m \u001b[31m12.3 MB/s\u001b[0m eta \u001b[36m0:00:00\u001b[0m\n",
            "\u001b[?25hCollecting frozenlist>=1.1.1\n",
            "  Downloading frozenlist-1.3.3-cp39-cp39-manylinux_2_5_x86_64.manylinux1_x86_64.manylinux_2_17_x86_64.manylinux2014_x86_64.whl (158 kB)\n",
            "\u001b[2K     \u001b[90m━━━━━━━━━━━━━━━━━━━━━━━━━━━━━━━━━━━━━━\u001b[0m \u001b[32m158.8/158.8 KB\u001b[0m \u001b[31m17.9 MB/s\u001b[0m eta \u001b[36m0:00:00\u001b[0m\n",
            "\u001b[?25hRequirement already satisfied: attrs>=17.3.0 in /usr/local/lib/python3.9/dist-packages (from aiohttp->datasets<3.0.0,>=2.0.0->transformer-smaller-training-vocab>=0.2.0->flair) (22.2.0)\n",
            "Collecting yarl<2.0,>=1.0\n",
            "  Downloading yarl-1.8.2-cp39-cp39-manylinux_2_17_x86_64.manylinux2014_x86_64.whl (264 kB)\n",
            "\u001b[2K     \u001b[90m━━━━━━━━━━━━━━━━━━━━━━━━━━━━━━━━━━━━━━\u001b[0m \u001b[32m264.6/264.6 KB\u001b[0m \u001b[31m25.3 MB/s\u001b[0m eta \u001b[36m0:00:00\u001b[0m\n",
            "\u001b[?25hRequirement already satisfied: pytz>=2020.1 in /usr/local/lib/python3.9/dist-packages (from pandas->datasets<3.0.0,>=2.0.0->transformer-smaller-training-vocab>=0.2.0->flair) (2022.7.1)\n",
            "Building wheels for collected packages: gdown, mpld3, sqlitedict, langdetect, pptree\n",
            "  Building wheel for gdown (pyproject.toml) ... \u001b[?25l\u001b[?25hdone\n",
            "  Created wheel for gdown: filename=gdown-4.4.0-py3-none-any.whl size=14776 sha256=174a8d6b89c83a829023eeaab2733fe85ed90f0ca0b1f5ac439eac2187a2917e\n",
            "  Stored in directory: /root/.cache/pip/wheels/7d/37/b6/b2a79c75e898c0b8e46ff255102602d7159a10d9af0d80641a\n",
            "  Building wheel for mpld3 (setup.py) ... \u001b[?25l\u001b[?25hdone\n",
            "  Created wheel for mpld3: filename=mpld3-0.3-py3-none-any.whl size=116702 sha256=738747038d54701e06dc78e0f6bc9d67758128a922af96a70b90fff22647a2c0\n",
            "  Stored in directory: /root/.cache/pip/wheels/a6/f4/e6/e40ff9021f6b3854af70fa8ea004f5ab95672817462df08fed\n",
            "  Building wheel for sqlitedict (setup.py) ... \u001b[?25l\u001b[?25hdone\n",
            "  Created wheel for sqlitedict: filename=sqlitedict-2.1.0-py3-none-any.whl size=16863 sha256=3aa5d318f4b30219bef4d676cfa00812d4c06424ad5fb03ec0cf30033f4de561\n",
            "  Stored in directory: /root/.cache/pip/wheels/f6/48/c4/942f7a1d556fddd2348cb9ac262f251873dfd8a39afec5678e\n",
            "  Building wheel for langdetect (setup.py) ... \u001b[?25l\u001b[?25hdone\n",
            "  Created wheel for langdetect: filename=langdetect-1.0.9-py3-none-any.whl size=993243 sha256=38f6fc01b4e25ccec00643c48c7d4aec2cb5215a23cf18f6545eb9e2f3e8d8cd\n",
            "  Stored in directory: /root/.cache/pip/wheels/d1/c1/d9/7e068de779d863bc8f8fc9467d85e25cfe47fa5051fff1a1bb\n",
            "  Building wheel for pptree (setup.py) ... \u001b[?25l\u001b[?25hdone\n",
            "  Created wheel for pptree: filename=pptree-3.1-py3-none-any.whl size=4629 sha256=323fb366f47262f7dfa0e745cf45aef65564a8667dd4e939b0337460d2219ab2\n",
            "  Stored in directory: /root/.cache/pip/wheels/52/0e/51/514e690004ea9713bc3fdb678d5e2768fcc597d0c3b6a3abd2\n",
            "Successfully built gdown mpld3 sqlitedict langdetect pptree\n",
            "Installing collected packages: tokenizers, sqlitedict, sentencepiece, pptree, mpld3, janome, xxhash, segtok, multidict, langdetect, jmespath, ftfy, frozenlist, dill, deprecated, conllu, async-timeout, yarl, wikipedia-api, responses, pytorch-revgrad, multiprocess, huggingface-hub, botocore, aiosignal, transformers, s3transfer, gdown, bpemb, aiohttp, boto3, datasets, transformer-smaller-training-vocab, flair\n",
            "  Attempting uninstall: gdown\n",
            "    Found existing installation: gdown 4.6.4\n",
            "    Uninstalling gdown-4.6.4:\n",
            "      Successfully uninstalled gdown-4.6.4\n",
            "Successfully installed aiohttp-3.8.4 aiosignal-1.3.1 async-timeout-4.0.2 boto3-1.26.101 botocore-1.29.101 bpemb-0.3.4 conllu-4.5.2 datasets-2.10.1 deprecated-1.2.13 dill-0.3.6 flair-0.12.1 frozenlist-1.3.3 ftfy-6.1.1 gdown-4.4.0 huggingface-hub-0.10.0 janome-0.4.2 jmespath-1.0.1 langdetect-1.0.9 mpld3-0.3 multidict-6.0.4 multiprocess-0.70.14 pptree-3.1 pytorch-revgrad-0.2.0 responses-0.18.0 s3transfer-0.6.0 segtok-1.5.11 sentencepiece-0.1.97 sqlitedict-2.1.0 tokenizers-0.13.2 transformer-smaller-training-vocab-0.2.3 transformers-4.25.1 wikipedia-api-0.5.8 xxhash-3.2.0 yarl-1.8.2\n"
          ]
        }
      ]
    },
    {
      "cell_type": "code",
      "source": [],
      "metadata": {
        "id": "FyxclWzHQ4XG"
      },
      "execution_count": null,
      "outputs": []
    },
    {
      "cell_type": "code",
      "source": [
        "a = pd.merge(full_projects, full_donations, on=['projectid'], how='left')\n",
        "a['in_4_months'] = (pd.to_datetime(a['donation_timestamp']) - pd.to_datetime(a['date_posted'])) < timedelta(days=120)\n",
        "a['in_1_months'] = (pd.to_datetime(a['donation_timestamp']) - pd.to_datetime(a['date_posted'])) < timedelta(days=30)\n",
        "a['donation_1mo'] = a['donation_to_project'].values\n",
        "values = {'donation_to_project': 0.0}\n",
        "a = a.fillna(value=values)\n",
        "a.loc[a['in_4_months'] == False, 'donation_to_project'] = 0.0\n",
        "a.loc[a['in_1_months'] == False, 'donation_1mo'] = 0.0\n",
        "\n",
        "donation_in_4_months = a.groupby(['projectid'])['donation_to_project'].sum().reset_index(name='donation_in_4_months')\n",
        "donation_in_1_months = a.groupby(['projectid'])['donation_1mo'].sum().reset_index(name='donation_in_1_months')\n",
        "df = pd.merge(full_projects, donation_in_4_months, on=['projectid'], how='left')\n",
        "df = pd.merge(df, donation_in_1_months, on=['projectid'], how='left')\n",
        "\n",
        "del a"
      ],
      "metadata": {
        "id": "R6uPknWLA_Ra"
      },
      "execution_count": 13,
      "outputs": []
    },
    {
      "cell_type": "code",
      "source": [
        "df['is_fully_funded_after_4_months'] = df['total_price_excluding_optional_support'] <= df['donation_in_4_months']\n",
        "# df['is_fully_funded_after_4_months'] = df['total_asking_price'] <= df['donation_in_4_months']\n",
        "df['is_fully_funded_after_4_months'].value_counts()\n",
        "print(\"Baserate % projects fully funded:\", df['is_fully_funded_after_4_months'].mean())\n",
        "\n",
        "df['pct_funded_1mo'] = df['donation_in_1_months'] / df['total_price_excluding_optional_support']\n",
        "df['is_fully_funded_after_1_months'] = df['total_price_excluding_optional_support'] <= df['donation_in_1_months']\n",
        "#df['is_fully_funded_after_1_months'] = df['total_asking_price'] <= df['donation_in_1_months']\n",
        "df['is_fully_funded_after_1_months'].value_counts()\n",
        "print(\"Baserate % projects fully funded 1mo:\", df['is_fully_funded_after_1_months'].mean())"
      ],
      "metadata": {
        "colab": {
          "base_uri": "https://localhost:8080/"
        },
        "id": "0ZfYwujISBLM",
        "outputId": "c9cf8497-c8b8-4bfd-c866-b3edd8340297"
      },
      "execution_count": 14,
      "outputs": [
        {
          "output_type": "stream",
          "name": "stdout",
          "text": [
            "Baserate % projects fully funded: 0.5480215269433126\n",
            "Baserate % projects fully funded 1mo: 0.30470804007842217\n"
          ]
        }
      ]
    },
    {
      "cell_type": "code",
      "source": [
        "df['date_posted'] = pd.to_datetime(df['date_posted'])\n",
        "df['children_helped_per_dollar'] = df['students_reached']/df['total_price_excluding_optional_support']"
      ],
      "metadata": {
        "id": "DraGuMa8SKt4"
      },
      "execution_count": 15,
      "outputs": []
    },
    {
      "cell_type": "code",
      "source": [
        "print(df.columns, df.shape)"
      ],
      "metadata": {
        "colab": {
          "base_uri": "https://localhost:8080/"
        },
        "id": "FTuZX0eMSPhT",
        "outputId": "528f967c-2e67-4c01-d607-964ee9274a8e"
      },
      "execution_count": 16,
      "outputs": [
        {
          "output_type": "stream",
          "name": "stdout",
          "text": [
            "Index(['projectid', 'teacher_acctid', 'schoolid', 'school_ncesid',\n",
            "       'school_latitude', 'school_longitude', 'school_city', 'school_state',\n",
            "       'school_zip', 'school_metro', 'school_district', 'school_county',\n",
            "       'school_charter', 'school_magnet', 'school_year_round', 'school_nlns',\n",
            "       'school_kipp', 'school_charter_ready_promise', 'teacher_prefix',\n",
            "       'teacher_teach_for_america', 'teacher_ny_teaching_fellow',\n",
            "       'primary_focus_subject', 'primary_focus_area',\n",
            "       'secondary_focus_subject', 'secondary_focus_area', 'resource_type',\n",
            "       'poverty_level', 'grade_level', 'fulfillment_labor_materials',\n",
            "       'total_price_excluding_optional_support',\n",
            "       'total_price_including_optional_support', 'students_reached',\n",
            "       'eligible_double_your_impact_match', 'eligible_almost_home_match',\n",
            "       'date_posted', 'donation_in_4_months', 'donation_in_1_months',\n",
            "       'is_fully_funded_after_4_months', 'pct_funded_1mo',\n",
            "       'is_fully_funded_after_1_months', 'children_helped_per_dollar'],\n",
            "      dtype='object') (664098, 41)\n"
          ]
        }
      ]
    },
    {
      "cell_type": "code",
      "source": [
        "from sklearn.preprocessing import OneHotEncoder\n",
        "one_hot_feature_cols = ['grade_level', 'teacher_prefix']\n",
        "df = df.replace({'school_charter': {'t': 1, 'f': 0},\n",
        "                 'school_kipp': {'t': 1, 'f': 0}})\n",
        "\n",
        "encoder = OneHotEncoder(handle_unknown='ignore')\n",
        "\n",
        "#perform one-hot encoding\n",
        "encoder_df = pd.DataFrame(encoder.fit_transform(df[one_hot_feature_cols]).toarray())\n",
        "encoder_df.columns = encoder.get_feature_names_out()\n",
        "#merge one-hot encoded columns back with original DataFrame\n",
        "final_X = df.join(encoder_df)\n",
        "#drop the original columns\n",
        "final_X = final_X.drop(one_hot_feature_cols, axis=1)\n",
        "\n",
        "#df = final_X\n",
        "\n",
        "# # row 28-36\n",
        "feature_cols_projects = ['school_charter', 'school_kipp', 'total_price_excluding_optional_support', 'students_reached', 'teacher_acctid', 'school_city', 'date_posted'] + list(final_X.columns[-50:])"
      ],
      "metadata": {
        "id": "gtI6RP16SUre"
      },
      "execution_count": 20,
      "outputs": []
    },
    {
      "cell_type": "code",
      "source": [
        "df = final_X\n",
        "print(final_X.columns)"
      ],
      "metadata": {
        "colab": {
          "base_uri": "https://localhost:8080/"
        },
        "id": "bpP6FFNNSsEH",
        "outputId": "c88d0f20-9f7a-447c-e8ae-ed7a972203f0"
      },
      "execution_count": 23,
      "outputs": [
        {
          "output_type": "stream",
          "name": "stdout",
          "text": [
            "Index(['projectid', 'teacher_acctid', 'schoolid', 'school_ncesid',\n",
            "       'school_latitude', 'school_longitude', 'school_city', 'school_state',\n",
            "       'school_zip', 'school_metro', 'school_district', 'school_county',\n",
            "       'school_charter', 'school_magnet', 'school_year_round', 'school_nlns',\n",
            "       'school_kipp', 'school_charter_ready_promise',\n",
            "       'teacher_teach_for_america', 'teacher_ny_teaching_fellow',\n",
            "       'primary_focus_subject', 'primary_focus_area',\n",
            "       'secondary_focus_subject', 'secondary_focus_area', 'resource_type',\n",
            "       'poverty_level', 'fulfillment_labor_materials',\n",
            "       'total_price_excluding_optional_support',\n",
            "       'total_price_including_optional_support', 'students_reached',\n",
            "       'eligible_double_your_impact_match', 'eligible_almost_home_match',\n",
            "       'date_posted', 'donation_in_4_months', 'donation_in_1_months',\n",
            "       'is_fully_funded_after_4_months', 'pct_funded_1mo',\n",
            "       'is_fully_funded_after_1_months', 'children_helped_per_dollar',\n",
            "       'grade_level_Grades 3-5', 'grade_level_Grades 6-8',\n",
            "       'grade_level_Grades 9-12', 'grade_level_Grades PreK-2',\n",
            "       'grade_level_nan', 'teacher_prefix_Dr.', 'teacher_prefix_Mr.',\n",
            "       'teacher_prefix_Mr. & Mrs.', 'teacher_prefix_Mrs.',\n",
            "       'teacher_prefix_Ms.', 'teacher_prefix_nan'],\n",
            "      dtype='object')\n"
          ]
        }
      ]
    },
    {
      "cell_type": "code",
      "source": [
        "!unzip /content/essays.csv.zip\n",
        "full_essays = pd.read_csv(\"/content/essays.csv\")\n",
        "full_essays.head()"
      ],
      "metadata": {
        "colab": {
          "base_uri": "https://localhost:8080/",
          "height": 241
        },
        "id": "ph1-9K-ASsOE",
        "outputId": "b2623707-ca43-4714-9464-778a6fb8b22f"
      },
      "execution_count": 22,
      "outputs": [
        {
          "output_type": "stream",
          "name": "stdout",
          "text": [
            "Archive:  /content/essays.csv.zip\n",
            "  inflating: essays.csv              \n"
          ]
        },
        {
          "output_type": "execute_result",
          "data": {
            "text/plain": [
              "                          projectid                    teacher_acctid  \\\n",
              "0  ffffc4f85b60efc5b52347df489d0238  c24011b20fc161ed02248e85beb59a90   \n",
              "1  ffffac55ee02a49d1abc87ba6fc61135  947066d0af47e0566f334566553dd6a6   \n",
              "2  ffff97ed93720407d70a2787475932b0  462270f5d5c212162fcab11afa2623cb   \n",
              "3  ffff7266778f71242675416e600b94e1  b9a8f14199e0d8109200ece179281f4f   \n",
              "4  ffff418bb42fad24347527ad96100f81  e885fb002a1d0d39aaed9d21a7683549   \n",
              "\n",
              "                                          title  \\\n",
              "0                                         iMath   \n",
              "1                     Recording Rockin' Readers   \n",
              "2  Kindergarten In Need of Important Materials!   \n",
              "3                               Let's Find Out!   \n",
              "4                        Whistle While We Work!   \n",
              "\n",
              "                                   short_description  \\\n",
              "0  It is imperative that teachers bring technolog...   \n",
              "1  Can you imagine having to translate everything...   \n",
              "2  It takes a special person to donate to a group...   \n",
              "3  My Kindergarten students come from a variety o...   \n",
              "4  By using the cross curricular games requested,...   \n",
              "\n",
              "                                      need_statement  \\\n",
              "0                       My students need four iPods.   \n",
              "1                     My students need a camcorder.    \n",
              "2  My students need 17 assorted classroom materia...   \n",
              "3  My students need 25 copies of Scholastic's \"Le...   \n",
              "4  My students need grade level appropriate games...   \n",
              "\n",
              "                                               essay  \n",
              "0  I am a fourth year fifth grade math teacher. T...  \n",
              "1  Can you imagine having to translate everything...  \n",
              "2  Hi. I teach a wonderful group of 4-5 year old ...  \n",
              "3  My Kindergarten students come from a variety o...  \n",
              "4  All work and no play makes school a dull place...  "
            ],
            "text/html": [
              "\n",
              "  <div id=\"df-ff632dc0-8d14-469f-bba1-6bf136e67f92\">\n",
              "    <div class=\"colab-df-container\">\n",
              "      <div>\n",
              "<style scoped>\n",
              "    .dataframe tbody tr th:only-of-type {\n",
              "        vertical-align: middle;\n",
              "    }\n",
              "\n",
              "    .dataframe tbody tr th {\n",
              "        vertical-align: top;\n",
              "    }\n",
              "\n",
              "    .dataframe thead th {\n",
              "        text-align: right;\n",
              "    }\n",
              "</style>\n",
              "<table border=\"1\" class=\"dataframe\">\n",
              "  <thead>\n",
              "    <tr style=\"text-align: right;\">\n",
              "      <th></th>\n",
              "      <th>projectid</th>\n",
              "      <th>teacher_acctid</th>\n",
              "      <th>title</th>\n",
              "      <th>short_description</th>\n",
              "      <th>need_statement</th>\n",
              "      <th>essay</th>\n",
              "    </tr>\n",
              "  </thead>\n",
              "  <tbody>\n",
              "    <tr>\n",
              "      <th>0</th>\n",
              "      <td>ffffc4f85b60efc5b52347df489d0238</td>\n",
              "      <td>c24011b20fc161ed02248e85beb59a90</td>\n",
              "      <td>iMath</td>\n",
              "      <td>It is imperative that teachers bring technolog...</td>\n",
              "      <td>My students need four iPods.</td>\n",
              "      <td>I am a fourth year fifth grade math teacher. T...</td>\n",
              "    </tr>\n",
              "    <tr>\n",
              "      <th>1</th>\n",
              "      <td>ffffac55ee02a49d1abc87ba6fc61135</td>\n",
              "      <td>947066d0af47e0566f334566553dd6a6</td>\n",
              "      <td>Recording Rockin' Readers</td>\n",
              "      <td>Can you imagine having to translate everything...</td>\n",
              "      <td>My students need a camcorder.</td>\n",
              "      <td>Can you imagine having to translate everything...</td>\n",
              "    </tr>\n",
              "    <tr>\n",
              "      <th>2</th>\n",
              "      <td>ffff97ed93720407d70a2787475932b0</td>\n",
              "      <td>462270f5d5c212162fcab11afa2623cb</td>\n",
              "      <td>Kindergarten In Need of Important Materials!</td>\n",
              "      <td>It takes a special person to donate to a group...</td>\n",
              "      <td>My students need 17 assorted classroom materia...</td>\n",
              "      <td>Hi. I teach a wonderful group of 4-5 year old ...</td>\n",
              "    </tr>\n",
              "    <tr>\n",
              "      <th>3</th>\n",
              "      <td>ffff7266778f71242675416e600b94e1</td>\n",
              "      <td>b9a8f14199e0d8109200ece179281f4f</td>\n",
              "      <td>Let's Find Out!</td>\n",
              "      <td>My Kindergarten students come from a variety o...</td>\n",
              "      <td>My students need 25 copies of Scholastic's \"Le...</td>\n",
              "      <td>My Kindergarten students come from a variety o...</td>\n",
              "    </tr>\n",
              "    <tr>\n",
              "      <th>4</th>\n",
              "      <td>ffff418bb42fad24347527ad96100f81</td>\n",
              "      <td>e885fb002a1d0d39aaed9d21a7683549</td>\n",
              "      <td>Whistle While We Work!</td>\n",
              "      <td>By using the cross curricular games requested,...</td>\n",
              "      <td>My students need grade level appropriate games...</td>\n",
              "      <td>All work and no play makes school a dull place...</td>\n",
              "    </tr>\n",
              "  </tbody>\n",
              "</table>\n",
              "</div>\n",
              "      <button class=\"colab-df-convert\" onclick=\"convertToInteractive('df-ff632dc0-8d14-469f-bba1-6bf136e67f92')\"\n",
              "              title=\"Convert this dataframe to an interactive table.\"\n",
              "              style=\"display:none;\">\n",
              "        \n",
              "  <svg xmlns=\"http://www.w3.org/2000/svg\" height=\"24px\"viewBox=\"0 0 24 24\"\n",
              "       width=\"24px\">\n",
              "    <path d=\"M0 0h24v24H0V0z\" fill=\"none\"/>\n",
              "    <path d=\"M18.56 5.44l.94 2.06.94-2.06 2.06-.94-2.06-.94-.94-2.06-.94 2.06-2.06.94zm-11 1L8.5 8.5l.94-2.06 2.06-.94-2.06-.94L8.5 2.5l-.94 2.06-2.06.94zm10 10l.94 2.06.94-2.06 2.06-.94-2.06-.94-.94-2.06-.94 2.06-2.06.94z\"/><path d=\"M17.41 7.96l-1.37-1.37c-.4-.4-.92-.59-1.43-.59-.52 0-1.04.2-1.43.59L10.3 9.45l-7.72 7.72c-.78.78-.78 2.05 0 2.83L4 21.41c.39.39.9.59 1.41.59.51 0 1.02-.2 1.41-.59l7.78-7.78 2.81-2.81c.8-.78.8-2.07 0-2.86zM5.41 20L4 18.59l7.72-7.72 1.47 1.35L5.41 20z\"/>\n",
              "  </svg>\n",
              "      </button>\n",
              "      \n",
              "  <style>\n",
              "    .colab-df-container {\n",
              "      display:flex;\n",
              "      flex-wrap:wrap;\n",
              "      gap: 12px;\n",
              "    }\n",
              "\n",
              "    .colab-df-convert {\n",
              "      background-color: #E8F0FE;\n",
              "      border: none;\n",
              "      border-radius: 50%;\n",
              "      cursor: pointer;\n",
              "      display: none;\n",
              "      fill: #1967D2;\n",
              "      height: 32px;\n",
              "      padding: 0 0 0 0;\n",
              "      width: 32px;\n",
              "    }\n",
              "\n",
              "    .colab-df-convert:hover {\n",
              "      background-color: #E2EBFA;\n",
              "      box-shadow: 0px 1px 2px rgba(60, 64, 67, 0.3), 0px 1px 3px 1px rgba(60, 64, 67, 0.15);\n",
              "      fill: #174EA6;\n",
              "    }\n",
              "\n",
              "    [theme=dark] .colab-df-convert {\n",
              "      background-color: #3B4455;\n",
              "      fill: #D2E3FC;\n",
              "    }\n",
              "\n",
              "    [theme=dark] .colab-df-convert:hover {\n",
              "      background-color: #434B5C;\n",
              "      box-shadow: 0px 1px 3px 1px rgba(0, 0, 0, 0.15);\n",
              "      filter: drop-shadow(0px 1px 2px rgba(0, 0, 0, 0.3));\n",
              "      fill: #FFFFFF;\n",
              "    }\n",
              "  </style>\n",
              "\n",
              "      <script>\n",
              "        const buttonEl =\n",
              "          document.querySelector('#df-ff632dc0-8d14-469f-bba1-6bf136e67f92 button.colab-df-convert');\n",
              "        buttonEl.style.display =\n",
              "          google.colab.kernel.accessAllowed ? 'block' : 'none';\n",
              "\n",
              "        async function convertToInteractive(key) {\n",
              "          const element = document.querySelector('#df-ff632dc0-8d14-469f-bba1-6bf136e67f92');\n",
              "          const dataTable =\n",
              "            await google.colab.kernel.invokeFunction('convertToInteractive',\n",
              "                                                     [key], {});\n",
              "          if (!dataTable) return;\n",
              "\n",
              "          const docLinkHtml = 'Like what you see? Visit the ' +\n",
              "            '<a target=\"_blank\" href=https://colab.research.google.com/notebooks/data_table.ipynb>data table notebook</a>'\n",
              "            + ' to learn more about interactive tables.';\n",
              "          element.innerHTML = '';\n",
              "          dataTable['output_type'] = 'display_data';\n",
              "          await google.colab.output.renderOutput(dataTable, element);\n",
              "          const docLink = document.createElement('div');\n",
              "          docLink.innerHTML = docLinkHtml;\n",
              "          element.appendChild(docLink);\n",
              "        }\n",
              "      </script>\n",
              "    </div>\n",
              "  </div>\n",
              "  "
            ]
          },
          "metadata": {},
          "execution_count": 22
        }
      ]
    },
    {
      "cell_type": "code",
      "source": [
        "import nltk\n",
        "nltk.download('vader_lexicon')\n",
        "sid = SentimentIntensityAnalyzer()"
      ],
      "metadata": {
        "colab": {
          "base_uri": "https://localhost:8080/"
        },
        "id": "HXrQ5durSsRN",
        "outputId": "6b936a39-3d91-4e66-fdec-87106039e367"
      },
      "execution_count": 24,
      "outputs": [
        {
          "output_type": "stream",
          "name": "stderr",
          "text": [
            "[nltk_data] Downloading package vader_lexicon to /root/nltk_data...\n"
          ]
        }
      ]
    },
    {
      "cell_type": "code",
      "source": [
        "sid = SentimentIntensityAnalyzer()\n",
        "for col in ['title','short_description', 'need_statement', 'essay']:\n",
        "  print(col)\n",
        "  full_essays[col + '_len'] = full_essays[col].str.len()\n",
        "  full_essays[col + '_wordlen'] = full_essays[col].astype(str).apply(lambda x: len(x) / len(x.split(' ')))\n",
        "\n",
        "for col in ['title','short_description']:\n",
        "  print(col)\n",
        "  full_essays[col + '_sent'] = full_essays[col].astype(str).apply(lambda x: sid.polarity_scores(x))\n",
        "  full_essays[col + '_sentnet'] = full_essays[col + '_sent'].apply(lambda x: x['pos'] - x['neg'])\n",
        "  full_essays[col + '_sentpol'] = full_essays[col + '_sent'].apply(lambda x: x['pos'] + x['neg'])"
      ],
      "metadata": {
        "colab": {
          "base_uri": "https://localhost:8080/"
        },
        "id": "REfWehQ0SsUD",
        "outputId": "3641848b-36c8-4148-fd6b-2becc493448c"
      },
      "execution_count": 25,
      "outputs": [
        {
          "output_type": "stream",
          "name": "stdout",
          "text": [
            "title\n",
            "short_description\n",
            "need_statement\n",
            "essay\n",
            "title\n",
            "short_description\n"
          ]
        }
      ]
    },
    {
      "cell_type": "code",
      "source": [
        "full_essays = full_essays.drop(columns=['teacher_acctid', 'title', 'short_description', 'need_statement', 'essay'])"
      ],
      "metadata": {
        "id": "Htr5S-A7SsWk"
      },
      "execution_count": 26,
      "outputs": []
    },
    {
      "cell_type": "code",
      "source": [
        "df = pd.merge(df, full_essays, on=['projectid'], how='left')"
      ],
      "metadata": {
        "id": "9_qPKJgaSsZT"
      },
      "execution_count": 27,
      "outputs": []
    },
    {
      "cell_type": "code",
      "source": [
        "df.columns"
      ],
      "metadata": {
        "colab": {
          "base_uri": "https://localhost:8080/"
        },
        "id": "pEaO-kZwSscI",
        "outputId": "b7917a6f-3d26-482b-8491-8fe68b46eca2"
      },
      "execution_count": 28,
      "outputs": [
        {
          "output_type": "execute_result",
          "data": {
            "text/plain": [
              "Index(['projectid', 'teacher_acctid', 'schoolid', 'school_ncesid',\n",
              "       'school_latitude', 'school_longitude', 'school_city', 'school_state',\n",
              "       'school_zip', 'school_metro', 'school_district', 'school_county',\n",
              "       'school_charter', 'school_magnet', 'school_year_round', 'school_nlns',\n",
              "       'school_kipp', 'school_charter_ready_promise',\n",
              "       'teacher_teach_for_america', 'teacher_ny_teaching_fellow',\n",
              "       'primary_focus_subject', 'primary_focus_area',\n",
              "       'secondary_focus_subject', 'secondary_focus_area', 'resource_type',\n",
              "       'poverty_level', 'fulfillment_labor_materials',\n",
              "       'total_price_excluding_optional_support',\n",
              "       'total_price_including_optional_support', 'students_reached',\n",
              "       'eligible_double_your_impact_match', 'eligible_almost_home_match',\n",
              "       'date_posted', 'donation_in_4_months', 'donation_in_1_months',\n",
              "       'is_fully_funded_after_4_months', 'pct_funded_1mo',\n",
              "       'is_fully_funded_after_1_months', 'children_helped_per_dollar',\n",
              "       'grade_level_Grades 3-5', 'grade_level_Grades 6-8',\n",
              "       'grade_level_Grades 9-12', 'grade_level_Grades PreK-2',\n",
              "       'grade_level_nan', 'teacher_prefix_Dr.', 'teacher_prefix_Mr.',\n",
              "       'teacher_prefix_Mr. & Mrs.', 'teacher_prefix_Mrs.',\n",
              "       'teacher_prefix_Ms.', 'teacher_prefix_nan', 'title_len',\n",
              "       'title_wordlen', 'short_description_len', 'short_description_wordlen',\n",
              "       'need_statement_len', 'need_statement_wordlen', 'essay_len',\n",
              "       'essay_wordlen', 'title_sent', 'title_sentnet', 'title_sentpol',\n",
              "       'short_description_sent', 'short_description_sentnet',\n",
              "       'short_description_sentpol'],\n",
              "      dtype='object')"
            ]
          },
          "metadata": {},
          "execution_count": 28
        }
      ]
    },
    {
      "cell_type": "code",
      "source": [
        "import numpy as np"
      ],
      "metadata": {
        "id": "QrmS2JbgSsem"
      },
      "execution_count": 29,
      "outputs": []
    },
    {
      "cell_type": "code",
      "source": [
        "resource_df = full_resources[['resourceid', 'projectid', 'project_resource_type', 'item_unit_price', 'item_quantity']]\n",
        "resource_df['project_resource_type'] = resource_df['project_resource_type'].astype('str')\n",
        "\n",
        "# Fill in missing values of item_unit_price & item_quantity\n",
        "resource_types = np.unique(resource_df['project_resource_type'].tolist())\n",
        "avg_unit_price = {}\n",
        "avg_quantity = {}\n",
        "for rtype in resource_types:\n",
        "  avg = resource_df.loc[resource_df['project_resource_type'] == rtype]['item_unit_price'].mean()\n",
        "  avg_unit_price[rtype] = avg\n",
        "  avg_num = np.floor(resource_df.loc[resource_df['project_resource_type'] == rtype]['item_quantity'].mean())\n",
        "  avg_quantity[rtype] = avg_num\n",
        "\n",
        "resource_df['avg_unit_price'] = resource_df.apply(lambda row: avg_unit_price[row['project_resource_type']], axis=1) # This could take a minute to run\n",
        "resource_df['avg_quantity'] = resource_df.apply(lambda row: avg_quantity[row['project_resource_type']], axis=1)\n",
        "\n",
        "resource_df['item_unit_price'] = resource_df['item_unit_price'].fillna(resource_df['avg_unit_price'])\n",
        "resource_df['item_quantity'] = resource_df['item_quantity'].fillna(resource_df['avg_quantity'])\n",
        "\n",
        "resource_df = resource_df.groupby('projectid').agg({'item_unit_price':'mean', 'item_quantity':'sum'}).reset_index().rename(columns={'item_unit_price':'avg_unit_price', 'item_quantity':'total_item_quantity'})\n",
        "df = df.merge(resource_df, how='left', on='projectid')"
      ],
      "metadata": {
        "colab": {
          "base_uri": "https://localhost:8080/"
        },
        "id": "pes2WLnySsho",
        "outputId": "070fb217-d352-42e0-ad89-ad84d736aeb1"
      },
      "execution_count": 30,
      "outputs": [
        {
          "output_type": "stream",
          "name": "stderr",
          "text": [
            "<ipython-input-30-4fa936b62856>:2: SettingWithCopyWarning: \n",
            "A value is trying to be set on a copy of a slice from a DataFrame.\n",
            "Try using .loc[row_indexer,col_indexer] = value instead\n",
            "\n",
            "See the caveats in the documentation: https://pandas.pydata.org/pandas-docs/stable/user_guide/indexing.html#returning-a-view-versus-a-copy\n",
            "  resource_df['project_resource_type'] = resource_df['project_resource_type'].astype('str')\n",
            "<ipython-input-30-4fa936b62856>:14: SettingWithCopyWarning: \n",
            "A value is trying to be set on a copy of a slice from a DataFrame.\n",
            "Try using .loc[row_indexer,col_indexer] = value instead\n",
            "\n",
            "See the caveats in the documentation: https://pandas.pydata.org/pandas-docs/stable/user_guide/indexing.html#returning-a-view-versus-a-copy\n",
            "  resource_df['avg_unit_price'] = resource_df.apply(lambda row: avg_unit_price[row['project_resource_type']], axis=1) # This could take a minute to run\n",
            "<ipython-input-30-4fa936b62856>:15: SettingWithCopyWarning: \n",
            "A value is trying to be set on a copy of a slice from a DataFrame.\n",
            "Try using .loc[row_indexer,col_indexer] = value instead\n",
            "\n",
            "See the caveats in the documentation: https://pandas.pydata.org/pandas-docs/stable/user_guide/indexing.html#returning-a-view-versus-a-copy\n",
            "  resource_df['avg_quantity'] = resource_df.apply(lambda row: avg_quantity[row['project_resource_type']], axis=1)\n",
            "<ipython-input-30-4fa936b62856>:17: SettingWithCopyWarning: \n",
            "A value is trying to be set on a copy of a slice from a DataFrame.\n",
            "Try using .loc[row_indexer,col_indexer] = value instead\n",
            "\n",
            "See the caveats in the documentation: https://pandas.pydata.org/pandas-docs/stable/user_guide/indexing.html#returning-a-view-versus-a-copy\n",
            "  resource_df['item_unit_price'] = resource_df['item_unit_price'].fillna(resource_df['avg_unit_price'])\n",
            "<ipython-input-30-4fa936b62856>:18: SettingWithCopyWarning: \n",
            "A value is trying to be set on a copy of a slice from a DataFrame.\n",
            "Try using .loc[row_indexer,col_indexer] = value instead\n",
            "\n",
            "See the caveats in the documentation: https://pandas.pydata.org/pandas-docs/stable/user_guide/indexing.html#returning-a-view-versus-a-copy\n",
            "  resource_df['item_quantity'] = resource_df['item_quantity'].fillna(resource_df['avg_quantity'])\n"
          ]
        }
      ]
    },
    {
      "cell_type": "code",
      "source": [
        "print(set(['students_reached', 'children_helped_per_dollar', 'primary_focus_area', 'resource_type', 'poverty_level']) - set(df.columns))\n",
        "print(df.columns)"
      ],
      "metadata": {
        "colab": {
          "base_uri": "https://localhost:8080/"
        },
        "id": "rFKPBemHYMbX",
        "outputId": "78dc5afd-b371-434b-b14a-f4c5278d4f48"
      },
      "execution_count": 43,
      "outputs": [
        {
          "output_type": "stream",
          "name": "stdout",
          "text": [
            "set()\n",
            "Index(['projectid', 'teacher_acctid', 'schoolid', 'school_ncesid',\n",
            "       'school_latitude', 'school_longitude', 'school_city', 'school_state',\n",
            "       'school_zip', 'school_metro', 'school_district', 'school_county',\n",
            "       'school_charter', 'school_magnet', 'school_year_round', 'school_nlns',\n",
            "       'school_kipp', 'school_charter_ready_promise',\n",
            "       'teacher_teach_for_america', 'teacher_ny_teaching_fellow',\n",
            "       'primary_focus_subject', 'primary_focus_area',\n",
            "       'secondary_focus_subject', 'secondary_focus_area', 'resource_type',\n",
            "       'poverty_level', 'fulfillment_labor_materials',\n",
            "       'total_price_excluding_optional_support',\n",
            "       'total_price_including_optional_support', 'students_reached',\n",
            "       'eligible_double_your_impact_match', 'eligible_almost_home_match',\n",
            "       'date_posted', 'donation_in_4_months', 'donation_in_1_months',\n",
            "       'is_fully_funded_after_4_months', 'pct_funded_1mo',\n",
            "       'is_fully_funded_after_1_months', 'children_helped_per_dollar',\n",
            "       'grade_level_Grades 3-5', 'grade_level_Grades 6-8',\n",
            "       'grade_level_Grades 9-12', 'grade_level_Grades PreK-2',\n",
            "       'grade_level_nan', 'teacher_prefix_Dr.', 'teacher_prefix_Mr.',\n",
            "       'teacher_prefix_Mr. & Mrs.', 'teacher_prefix_Mrs.',\n",
            "       'teacher_prefix_Ms.', 'teacher_prefix_nan', 'title_len',\n",
            "       'title_wordlen', 'short_description_len', 'short_description_wordlen',\n",
            "       'need_statement_len', 'need_statement_wordlen', 'essay_len',\n",
            "       'essay_wordlen', 'title_sent', 'title_sentnet', 'title_sentpol',\n",
            "       'short_description_sent', 'short_description_sentnet',\n",
            "       'short_description_sentpol', 'avg_unit_price', 'total_item_quantity'],\n",
            "      dtype='object')\n"
          ]
        }
      ]
    },
    {
      "cell_type": "markdown",
      "source": [],
      "metadata": {
        "id": "KOiBudOoYJGB"
      }
    },
    {
      "cell_type": "code",
      "source": [
        "resstat_cols = ['students_reached', 'children_helped_per_dollar', 'primary_focus_area', 'resource_type', 'poverty_level']\n",
        "\n",
        "text_cols = ['title_len', 'title_sentnet', 'title_sentpol', 'short_description_len', 'short_description_sentnet', 'short_description_sentpol','essay_len', 'need_statement_len']\n",
        "res_cols = ['avg_unit_price', 'total_item_quantity']\n",
        "don_cols = ['pct_funded_1mo']\n",
        "features = ['projectid',\n",
        "       'school_latitude', 'school_longitude', 'school_city', 'school_state',\n",
        "       'school_zip', 'school_metro', 'school_district', 'school_county',\n",
        "       'school_charter', 'school_magnet', 'school_year_round', 'school_nlns',\n",
        "       'school_kipp', 'school_charter_ready_promise',\n",
        "       'teacher_teach_for_america', 'teacher_ny_teaching_fellow',\n",
        "       'primary_focus_subject', 'primary_focus_area',\n",
        "       'secondary_focus_subject', 'secondary_focus_area', 'resource_type',\n",
        "       'poverty_level', 'fulfillment_labor_materials',\n",
        "       'total_price_excluding_optional_support',\n",
        "       'total_price_including_optional_support', 'students_reached',\n",
        "       'eligible_double_your_impact_match', 'eligible_almost_home_match',\n",
        "       'date_posted', 'donation_in_4_months', 'donation_in_1_months',\n",
        "       'is_fully_funded_after_4_months', 'pct_funded_1mo',\n",
        "       'is_fully_funded_after_1_months', 'children_helped_per_dollar',\n",
        "       'grade_level_Grades 3-5', 'grade_level_Grades 6-8',\n",
        "       'grade_level_Grades 9-12', 'grade_level_Grades PreK-2',\n",
        "       'grade_level_nan', 'teacher_prefix_Dr.', 'teacher_prefix_Mr.',\n",
        "       'teacher_prefix_Mr. & Mrs.', 'teacher_prefix_Mrs.',\n",
        "       'teacher_prefix_Ms.', 'teacher_prefix_nan', 'title_len',\n",
        "       'title_wordlen', 'short_description_len', 'short_description_wordlen',\n",
        "       'need_statement_len', 'need_statement_wordlen', 'essay_len',\n",
        "       'essay_wordlen', 'title_sent', 'title_sentnet', 'title_sentpol',\n",
        "       'short_description_sent', 'short_description_sentnet',\n",
        "       'short_description_sentpol', 'avg_unit_price', 'total_item_quantity']\n",
        "#Y = ['is_fully_funded_after_4_months']\n",
        "#print(features)\n",
        "#print()\n",
        "df_final = df[features].copy(deep=True)\n",
        "\n",
        "print(sorted(list(df.columns)))\n",
        "print(sorted(list(df_final.columns)))\n",
        "\n",
        "# Silences a warning that doesn't affect anything\n",
        "pd.options.mode.chained_assignment = None\n",
        "\n",
        "for i in reversed(['primary_focus_area', 'resource_type', 'poverty_level']):\n",
        "  new_addition = pd.get_dummies(df_final[i])\n",
        "  new_addition.columns = [i + \":\" + x.replace(\" \",\"_\") for x in new_addition.columns]\n",
        "  for col_name in new_addition.columns:\n",
        "    df_final[col_name] = new_addition[col_name].copy(deep=True)\n",
        "df_final.drop(columns = ['primary_focus_area', 'resource_type', 'poverty_level'], inplace=True)\n",
        "print(df_final.columns)"
      ],
      "metadata": {
        "colab": {
          "base_uri": "https://localhost:8080/"
        },
        "id": "s4IHrbGOVmRf",
        "outputId": "d1535d2b-8f69-4fec-a8cf-731e2bf45f24"
      },
      "execution_count": 45,
      "outputs": [
        {
          "output_type": "stream",
          "name": "stdout",
          "text": [
            "['avg_unit_price', 'children_helped_per_dollar', 'date_posted', 'donation_in_1_months', 'donation_in_4_months', 'eligible_almost_home_match', 'eligible_double_your_impact_match', 'essay_len', 'essay_wordlen', 'fulfillment_labor_materials', 'grade_level_Grades 3-5', 'grade_level_Grades 6-8', 'grade_level_Grades 9-12', 'grade_level_Grades PreK-2', 'grade_level_nan', 'is_fully_funded_after_1_months', 'is_fully_funded_after_4_months', 'need_statement_len', 'need_statement_wordlen', 'pct_funded_1mo', 'poverty_level', 'primary_focus_area', 'primary_focus_subject', 'projectid', 'resource_type', 'school_charter', 'school_charter_ready_promise', 'school_city', 'school_county', 'school_district', 'school_kipp', 'school_latitude', 'school_longitude', 'school_magnet', 'school_metro', 'school_ncesid', 'school_nlns', 'school_state', 'school_year_round', 'school_zip', 'schoolid', 'secondary_focus_area', 'secondary_focus_subject', 'short_description_len', 'short_description_sent', 'short_description_sentnet', 'short_description_sentpol', 'short_description_wordlen', 'students_reached', 'teacher_acctid', 'teacher_ny_teaching_fellow', 'teacher_prefix_Dr.', 'teacher_prefix_Mr.', 'teacher_prefix_Mr. & Mrs.', 'teacher_prefix_Mrs.', 'teacher_prefix_Ms.', 'teacher_prefix_nan', 'teacher_teach_for_america', 'title_len', 'title_sent', 'title_sentnet', 'title_sentpol', 'title_wordlen', 'total_item_quantity', 'total_price_excluding_optional_support', 'total_price_including_optional_support']\n",
            "['avg_unit_price', 'children_helped_per_dollar', 'date_posted', 'donation_in_1_months', 'donation_in_4_months', 'eligible_almost_home_match', 'eligible_double_your_impact_match', 'essay_len', 'essay_wordlen', 'fulfillment_labor_materials', 'grade_level_Grades 3-5', 'grade_level_Grades 6-8', 'grade_level_Grades 9-12', 'grade_level_Grades PreK-2', 'grade_level_nan', 'is_fully_funded_after_1_months', 'is_fully_funded_after_4_months', 'need_statement_len', 'need_statement_wordlen', 'pct_funded_1mo', 'poverty_level', 'primary_focus_area', 'primary_focus_subject', 'projectid', 'resource_type', 'school_charter', 'school_charter_ready_promise', 'school_city', 'school_county', 'school_district', 'school_kipp', 'school_latitude', 'school_longitude', 'school_magnet', 'school_metro', 'school_nlns', 'school_state', 'school_year_round', 'school_zip', 'secondary_focus_area', 'secondary_focus_subject', 'short_description_len', 'short_description_sent', 'short_description_sentnet', 'short_description_sentpol', 'short_description_wordlen', 'students_reached', 'teacher_ny_teaching_fellow', 'teacher_prefix_Dr.', 'teacher_prefix_Mr.', 'teacher_prefix_Mr. & Mrs.', 'teacher_prefix_Mrs.', 'teacher_prefix_Ms.', 'teacher_prefix_nan', 'teacher_teach_for_america', 'title_len', 'title_sent', 'title_sentnet', 'title_sentpol', 'title_wordlen', 'total_item_quantity', 'total_price_excluding_optional_support', 'total_price_including_optional_support']\n",
            "Index(['projectid', 'school_latitude', 'school_longitude', 'school_city',\n",
            "       'school_state', 'school_zip', 'school_metro', 'school_district',\n",
            "       'school_county', 'school_charter', 'school_magnet', 'school_year_round',\n",
            "       'school_nlns', 'school_kipp', 'school_charter_ready_promise',\n",
            "       'teacher_teach_for_america', 'teacher_ny_teaching_fellow',\n",
            "       'primary_focus_subject', 'secondary_focus_subject',\n",
            "       'secondary_focus_area', 'fulfillment_labor_materials',\n",
            "       'total_price_excluding_optional_support',\n",
            "       'total_price_including_optional_support', 'students_reached',\n",
            "       'eligible_double_your_impact_match', 'eligible_almost_home_match',\n",
            "       'date_posted', 'donation_in_4_months', 'donation_in_1_months',\n",
            "       'is_fully_funded_after_4_months', 'pct_funded_1mo',\n",
            "       'is_fully_funded_after_1_months', 'children_helped_per_dollar',\n",
            "       'grade_level_Grades 3-5', 'grade_level_Grades 6-8',\n",
            "       'grade_level_Grades 9-12', 'grade_level_Grades PreK-2',\n",
            "       'grade_level_nan', 'teacher_prefix_Dr.', 'teacher_prefix_Mr.',\n",
            "       'teacher_prefix_Mr. & Mrs.', 'teacher_prefix_Mrs.',\n",
            "       'teacher_prefix_Ms.', 'teacher_prefix_nan', 'title_len',\n",
            "       'title_wordlen', 'short_description_len', 'short_description_wordlen',\n",
            "       'need_statement_len', 'need_statement_wordlen', 'essay_len',\n",
            "       'essay_wordlen', 'title_sent', 'title_sentnet', 'title_sentpol',\n",
            "       'short_description_sent', 'short_description_sentnet',\n",
            "       'short_description_sentpol', 'avg_unit_price', 'total_item_quantity',\n",
            "       'poverty_level:high_poverty', 'poverty_level:highest_poverty',\n",
            "       'poverty_level:low_poverty', 'poverty_level:moderate_poverty',\n",
            "       'resource_type:Books', 'resource_type:Other', 'resource_type:Supplies',\n",
            "       'resource_type:Technology', 'resource_type:Trips',\n",
            "       'resource_type:Visitors', 'primary_focus_area:Applied_Learning',\n",
            "       'primary_focus_area:Health_&_Sports',\n",
            "       'primary_focus_area:History_&_Civics',\n",
            "       'primary_focus_area:Literacy_&_Language',\n",
            "       'primary_focus_area:Math_&_Science',\n",
            "       'primary_focus_area:Music_&_The_Arts',\n",
            "       'primary_focus_area:Special_Needs'],\n",
            "      dtype='object')\n"
          ]
        }
      ]
    },
    {
      "cell_type": "code",
      "source": [
        "with pd.option_context('display.max_rows', None, 'display.max_columns', None):\n",
        "    print(df_final.dtypes)"
      ],
      "metadata": {
        "colab": {
          "base_uri": "https://localhost:8080/"
        },
        "id": "zosk0gHhVmY7",
        "outputId": "4e935a2b-7bb4-497e-9136-482d55169280"
      },
      "execution_count": 48,
      "outputs": [
        {
          "output_type": "stream",
          "name": "stdout",
          "text": [
            "projectid                                         object\n",
            "school_latitude                                  float64\n",
            "school_longitude                                 float64\n",
            "school_city                                       object\n",
            "school_state                                      object\n",
            "school_zip                                       float64\n",
            "school_metro                                      object\n",
            "school_district                                   object\n",
            "school_county                                     object\n",
            "school_charter                                     int64\n",
            "school_magnet                                     object\n",
            "school_year_round                                 object\n",
            "school_nlns                                       object\n",
            "school_kipp                                        int64\n",
            "school_charter_ready_promise                      object\n",
            "teacher_teach_for_america                         object\n",
            "teacher_ny_teaching_fellow                        object\n",
            "primary_focus_subject                             object\n",
            "secondary_focus_subject                           object\n",
            "secondary_focus_area                              object\n",
            "fulfillment_labor_materials                      float64\n",
            "total_price_excluding_optional_support           float64\n",
            "total_price_including_optional_support           float64\n",
            "students_reached                                 float64\n",
            "eligible_double_your_impact_match                 object\n",
            "eligible_almost_home_match                        object\n",
            "date_posted                               datetime64[ns]\n",
            "donation_in_4_months                             float64\n",
            "donation_in_1_months                             float64\n",
            "is_fully_funded_after_4_months                      bool\n",
            "pct_funded_1mo                                   float64\n",
            "is_fully_funded_after_1_months                      bool\n",
            "children_helped_per_dollar                       float64\n",
            "grade_level_Grades 3-5                           float64\n",
            "grade_level_Grades 6-8                           float64\n",
            "grade_level_Grades 9-12                          float64\n",
            "grade_level_Grades PreK-2                        float64\n",
            "grade_level_nan                                  float64\n",
            "teacher_prefix_Dr.                               float64\n",
            "teacher_prefix_Mr.                               float64\n",
            "teacher_prefix_Mr. & Mrs.                        float64\n",
            "teacher_prefix_Mrs.                              float64\n",
            "teacher_prefix_Ms.                               float64\n",
            "teacher_prefix_nan                               float64\n",
            "title_len                                        float64\n",
            "title_wordlen                                    float64\n",
            "short_description_len                            float64\n",
            "short_description_wordlen                        float64\n",
            "need_statement_len                               float64\n",
            "need_statement_wordlen                           float64\n",
            "essay_len                                        float64\n",
            "essay_wordlen                                    float64\n",
            "title_sent                                        object\n",
            "title_sentnet                                    float64\n",
            "title_sentpol                                    float64\n",
            "short_description_sent                            object\n",
            "short_description_sentnet                        float64\n",
            "short_description_sentpol                        float64\n",
            "avg_unit_price                                   float64\n",
            "total_item_quantity                              float64\n",
            "poverty_level:high_poverty                         uint8\n",
            "poverty_level:highest_poverty                      uint8\n",
            "poverty_level:low_poverty                          uint8\n",
            "poverty_level:moderate_poverty                     uint8\n",
            "resource_type:Books                                uint8\n",
            "resource_type:Other                                uint8\n",
            "resource_type:Supplies                             uint8\n",
            "resource_type:Technology                           uint8\n",
            "resource_type:Trips                                uint8\n",
            "resource_type:Visitors                             uint8\n",
            "primary_focus_area:Applied_Learning                uint8\n",
            "primary_focus_area:Health_&_Sports                 uint8\n",
            "primary_focus_area:History_&_Civics                uint8\n",
            "primary_focus_area:Literacy_&_Language             uint8\n",
            "primary_focus_area:Math_&_Science                  uint8\n",
            "primary_focus_area:Music_&_The_Arts                uint8\n",
            "primary_focus_area:Special_Needs                   uint8\n",
            "dtype: object\n"
          ]
        }
      ]
    },
    {
      "cell_type": "code",
      "source": [
        "final_cols = ['school_latitude', 'school_longitude', \n",
        "        'school_kipp', 'fulfillment_labor_materials',\n",
        "       'total_price_excluding_optional_support',\n",
        "       'total_price_including_optional_support', 'students_reached',\n",
        "       'date_posted', 'donation_in_1_months',\n",
        "       'pct_funded_1mo',\n",
        "       'is_fully_funded_after_1_months', 'children_helped_per_dollar',\n",
        "       'grade_level_Grades 3-5', 'grade_level_Grades 6-8',\n",
        "       'grade_level_Grades 9-12', 'grade_level_Grades PreK-2',\n",
        "       'grade_level_nan', 'teacher_prefix_Dr.', 'teacher_prefix_Mr.',\n",
        "       'teacher_prefix_Mr. & Mrs.', 'teacher_prefix_Mrs.',\n",
        "       'teacher_prefix_Ms.', 'teacher_prefix_nan', 'title_len',\n",
        "       'title_wordlen', 'short_description_len', 'short_description_wordlen',\n",
        "       'need_statement_len', 'need_statement_wordlen', 'essay_len',\n",
        "       'essay_wordlen', 'title_sentnet', 'title_sentpol', 'short_description_sentnet',\n",
        "       'short_description_sentpol', 'avg_unit_price', 'total_item_quantity',\n",
        "       'poverty_level:high_poverty', 'poverty_level:highest_poverty',\n",
        "       'poverty_level:low_poverty', 'poverty_level:moderate_poverty',\n",
        "       'resource_type:Books', 'resource_type:Other', 'resource_type:Supplies',\n",
        "       'resource_type:Technology', 'resource_type:Trips',\n",
        "       'resource_type:Visitors', 'primary_focus_area:Applied_Learning',\n",
        "       'primary_focus_area:Health_&_Sports',\n",
        "       'primary_focus_area:History_&_Civics',\n",
        "       'primary_focus_area:Literacy_&_Language',\n",
        "       'primary_focus_area:Math_&_Science',\n",
        "       'primary_focus_area:Music_&_The_Arts',\n",
        "       'primary_focus_area:Special_Needs',\n",
        "       'is_fully_funded_after_4_months']\n",
        "df_export = df_final[final_cols]"
      ],
      "metadata": {
        "id": "C1RM6ue8Vmbr"
      },
      "execution_count": 57,
      "outputs": []
    },
    {
      "cell_type": "code",
      "source": [
        "df_export = df_export.set_index('date_posted')\n",
        "\n",
        "with pd.option_context('display.max_rows', None, 'display.max_columns', None):\n",
        "    print(df_export.dtypes)\n",
        "print(test_df.index)"
      ],
      "metadata": {
        "colab": {
          "base_uri": "https://localhost:8080/"
        },
        "id": "ThqG0mGoVmeK",
        "outputId": "233078e0-b092-479f-b79c-f02c46e46a81"
      },
      "execution_count": 58,
      "outputs": [
        {
          "output_type": "stream",
          "name": "stdout",
          "text": [
            "school_latitude                           float64\n",
            "school_longitude                          float64\n",
            "school_kipp                                 int64\n",
            "fulfillment_labor_materials               float64\n",
            "total_price_excluding_optional_support    float64\n",
            "total_price_including_optional_support    float64\n",
            "students_reached                          float64\n",
            "donation_in_1_months                      float64\n",
            "pct_funded_1mo                            float64\n",
            "is_fully_funded_after_1_months               bool\n",
            "children_helped_per_dollar                float64\n",
            "grade_level_Grades 3-5                    float64\n",
            "grade_level_Grades 6-8                    float64\n",
            "grade_level_Grades 9-12                   float64\n",
            "grade_level_Grades PreK-2                 float64\n",
            "grade_level_nan                           float64\n",
            "teacher_prefix_Dr.                        float64\n",
            "teacher_prefix_Mr.                        float64\n",
            "teacher_prefix_Mr. & Mrs.                 float64\n",
            "teacher_prefix_Mrs.                       float64\n",
            "teacher_prefix_Ms.                        float64\n",
            "teacher_prefix_nan                        float64\n",
            "title_len                                 float64\n",
            "title_wordlen                             float64\n",
            "short_description_len                     float64\n",
            "short_description_wordlen                 float64\n",
            "need_statement_len                        float64\n",
            "need_statement_wordlen                    float64\n",
            "essay_len                                 float64\n",
            "essay_wordlen                             float64\n",
            "title_sentnet                             float64\n",
            "title_sentpol                             float64\n",
            "short_description_sentnet                 float64\n",
            "short_description_sentpol                 float64\n",
            "avg_unit_price                            float64\n",
            "total_item_quantity                       float64\n",
            "poverty_level:high_poverty                  uint8\n",
            "poverty_level:highest_poverty               uint8\n",
            "poverty_level:low_poverty                   uint8\n",
            "poverty_level:moderate_poverty              uint8\n",
            "resource_type:Books                         uint8\n",
            "resource_type:Other                         uint8\n",
            "resource_type:Supplies                      uint8\n",
            "resource_type:Technology                    uint8\n",
            "resource_type:Trips                         uint8\n",
            "resource_type:Visitors                      uint8\n",
            "primary_focus_area:Applied_Learning         uint8\n",
            "primary_focus_area:Health_&_Sports          uint8\n",
            "primary_focus_area:History_&_Civics         uint8\n",
            "primary_focus_area:Literacy_&_Language      uint8\n",
            "primary_focus_area:Math_&_Science           uint8\n",
            "primary_focus_area:Music_&_The_Arts         uint8\n",
            "primary_focus_area:Special_Needs            uint8\n",
            "is_fully_funded_after_4_months               bool\n",
            "dtype: object\n",
            "DatetimeIndex(['2014-05-12', '2014-05-12', '2014-05-11', '2014-05-11',\n",
            "               '2014-05-11', '2014-05-11', '2014-05-11', '2014-05-11',\n",
            "               '2014-05-11', '2014-05-11',\n",
            "               ...\n",
            "               '2002-09-17', '2002-09-17', '2002-09-17', '2002-09-17',\n",
            "               '2002-09-17', '2002-09-17', '2002-09-17', '2002-09-16',\n",
            "               '2002-09-13', '2002-09-13'],\n",
            "              dtype='datetime64[ns]', name='date_posted', length=664098, freq=None)\n"
          ]
        }
      ]
    },
    {
      "cell_type": "code",
      "source": [
        "for col in ['is_fully_funded_after_1_months', 'is_fully_funded_after_4_months']:\n",
        "  df_export[col] = df_export[col].astype(int)"
      ],
      "metadata": {
        "id": "cQ_B_BQsbsRn"
      },
      "execution_count": 60,
      "outputs": []
    },
    {
      "cell_type": "code",
      "source": [
        "# Identify rows with infinite values\n",
        "inf_rows = np.any(np.isinf(df_export), axis=1)\n",
        "\n",
        "# Drop rows with infinite values\n",
        "df_export = df_export.drop(index=df_export.index[inf_rows])\n",
        "\n",
        "#print(df_export.columns)"
      ],
      "metadata": {
        "id": "IZ4F_lEtVmgm"
      },
      "execution_count": 94,
      "outputs": []
    },
    {
      "cell_type": "code",
      "source": [
        "df_export = df_export.fillna(df_export.mean())\n",
        "\n",
        "df_export.to_csv('final_dataset.csv')"
      ],
      "metadata": {
        "id": "6HxMQCYsmVYL"
      },
      "execution_count": 98,
      "outputs": []
    },
    {
      "cell_type": "code",
      "source": [
        "df_new = df_export\n",
        "\n",
        "pos_label = df_new['is_fully_funded_after_4_months'] == 1\n",
        "\n",
        "y = df_new['is_fully_funded_after_4_months'].to_numpy()\n",
        "\n",
        "df_new = df_new.drop([#'primary_focus_area:Applied_Learning',\n",
        "      #  'primary_focus_area:Health_&_Sports',\n",
        "      #  'primary_focus_area:History_&_Civics',\n",
        "      #  'primary_focus_area:Literacy_&_Language',\n",
        "      #  'primary_focus_area:Math_&_Science',\n",
        "      #  'primary_focus_area:Music_&_The_Arts',\n",
        "      #  'primary_focus_area:Special_Needs',\n",
        "       'is_fully_funded_after_4_months'], axis=1)\n",
        "df_new = df_new[['resource_type:Technology',\n",
        "                 'poverty_level:highest_poverty',\n",
        "                 'primary_focus_area:Applied_Learning', 'school_latitude', 'school_longitude', 'school_kipp',\n",
        "        'primary_focus_area:Health_&_Sports',\n",
        "       'primary_focus_area:History_&_Civics',\n",
        "       'primary_focus_area:Literacy_&_Language',\n",
        "       'primary_focus_area:Math_&_Science',\n",
        "       'primary_focus_area:Music_&_The_Arts',\n",
        "       'primary_focus_area:Special_Needs',\n",
        "       'fulfillment_labor_materials', 'total_price_excluding_optional_support',\n",
        "       'total_price_including_optional_support', 'students_reached',\n",
        "       'donation_in_1_months', 'pct_funded_1mo',\n",
        "       'is_fully_funded_after_1_months', 'children_helped_per_dollar',\n",
        "       'grade_level_Grades 3-5', 'grade_level_Grades 6-8',\n",
        "       'grade_level_Grades 9-12', 'grade_level_Grades PreK-2',\n",
        "       'grade_level_nan', 'teacher_prefix_Dr.', 'teacher_prefix_Mr.',\n",
        "       'teacher_prefix_Mr. & Mrs.', 'teacher_prefix_Mrs.',\n",
        "       'teacher_prefix_Ms.', 'teacher_prefix_nan', 'title_len',\n",
        "       'title_wordlen', 'short_description_len', 'short_description_wordlen',\n",
        "       'need_statement_len', 'need_statement_wordlen', 'essay_len',\n",
        "       'essay_wordlen', 'title_sentnet', 'title_sentpol',\n",
        "       'short_description_sentnet', 'short_description_sentpol',\n",
        "       'avg_unit_price', 'total_item_quantity', 'poverty_level:high_poverty',\n",
        "        'poverty_level:low_poverty',\n",
        "       'poverty_level:moderate_poverty', \n",
        "       #'resource_type:Books',\n",
        "      #  'resource_type:Other', 'resource_type:Supplies',\n",
        "      #   'resource_type:Trips',\n",
        "      #  'resource_type:Visitors'\n",
        "       ]]\n",
        "X = df_new.to_numpy()\n",
        "\n",
        "print(np.sum(np.isnan(X)))\n",
        "\n",
        "print(X.max(), X.min())\n",
        "print(X.shape, y.shape)"
      ],
      "metadata": {
        "colab": {
          "base_uri": "https://localhost:8080/"
        },
        "id": "tZBZWp-qVmje",
        "outputId": "4abfa1e5-dc37-43d4-ae5b-21558ba9ab47"
      },
      "execution_count": 154,
      "outputs": [
        {
          "output_type": "stream",
          "name": "stdout",
          "text": [
            "0\n",
            "12500020.73 -176.634989\n",
            "(663469, 48) (663469,)\n"
          ]
        }
      ]
    },
    {
      "cell_type": "code",
      "source": [
        "from xgboost import XGBClassifier\n",
        "from sklearn.model_selection import train_test_split\n",
        "from sklearn.metrics import accuracy_score\n",
        "\n",
        "X_train, X_test, y_train, y_test = train_test_split(X, y, test_size=0.2, random_state=234)\n",
        "train_minority = X_train[:,0]\n",
        "#X_train = X_train[:,1:]\n",
        "\n",
        "test_minority = X_test[:,0]\n",
        "#X_test = X_test[:,1:]"
      ],
      "metadata": {
        "id": "8XbWlXumhep9"
      },
      "execution_count": 155,
      "outputs": []
    },
    {
      "cell_type": "code",
      "source": [
        "X_minority = X[:,0]\n",
        "\n",
        "\n",
        "# Dataset Discrimination\n",
        "print(np.mean(y), np.mean(X_minority))\n",
        "b = (sum(y*X_minority)/sum(X_minority))\n",
        "w = (sum(y*(1-X_minority))/sum(1-X_minority))\n",
        "\n",
        "print(list(df_new.columns)[0], w - b, np.mean(X[:,0]))"
      ],
      "metadata": {
        "colab": {
          "base_uri": "https://localhost:8080/"
        },
        "id": "QPPIvVguzBmW",
        "outputId": "5bf97db5-b590-461d-b854-2c547ddf9459"
      },
      "execution_count": 184,
      "outputs": [
        {
          "output_type": "stream",
          "name": "stdout",
          "text": [
            "0.5477949987113189 0.3256218451804078\n",
            "resource_type:Technology 0.09418890316727463 0.3256218451804078\n"
          ]
        }
      ]
    },
    {
      "cell_type": "code",
      "source": [
        "model = XGBClassifier()\n",
        "model.fit(X_train, y_train)"
      ],
      "metadata": {
        "colab": {
          "base_uri": "https://localhost:8080/",
          "height": 248
        },
        "id": "3HshOgsifVFa",
        "outputId": "a82f08f4-288b-4c15-9e00-1ece62f32c99"
      },
      "execution_count": 158,
      "outputs": [
        {
          "output_type": "execute_result",
          "data": {
            "text/plain": [
              "XGBClassifier(base_score=None, booster=None, callbacks=None,\n",
              "              colsample_bylevel=None, colsample_bynode=None,\n",
              "              colsample_bytree=None, early_stopping_rounds=None,\n",
              "              enable_categorical=False, eval_metric=None, feature_types=None,\n",
              "              gamma=None, gpu_id=None, grow_policy=None, importance_type=None,\n",
              "              interaction_constraints=None, learning_rate=None, max_bin=None,\n",
              "              max_cat_threshold=None, max_cat_to_onehot=None,\n",
              "              max_delta_step=None, max_depth=None, max_leaves=None,\n",
              "              min_child_weight=None, missing=nan, monotone_constraints=None,\n",
              "              n_estimators=100, n_jobs=None, num_parallel_tree=None,\n",
              "              predictor=None, random_state=None, ...)"
            ],
            "text/html": [
              "<style>#sk-container-id-4 {color: black;background-color: white;}#sk-container-id-4 pre{padding: 0;}#sk-container-id-4 div.sk-toggleable {background-color: white;}#sk-container-id-4 label.sk-toggleable__label {cursor: pointer;display: block;width: 100%;margin-bottom: 0;padding: 0.3em;box-sizing: border-box;text-align: center;}#sk-container-id-4 label.sk-toggleable__label-arrow:before {content: \"▸\";float: left;margin-right: 0.25em;color: #696969;}#sk-container-id-4 label.sk-toggleable__label-arrow:hover:before {color: black;}#sk-container-id-4 div.sk-estimator:hover label.sk-toggleable__label-arrow:before {color: black;}#sk-container-id-4 div.sk-toggleable__content {max-height: 0;max-width: 0;overflow: hidden;text-align: left;background-color: #f0f8ff;}#sk-container-id-4 div.sk-toggleable__content pre {margin: 0.2em;color: black;border-radius: 0.25em;background-color: #f0f8ff;}#sk-container-id-4 input.sk-toggleable__control:checked~div.sk-toggleable__content {max-height: 200px;max-width: 100%;overflow: auto;}#sk-container-id-4 input.sk-toggleable__control:checked~label.sk-toggleable__label-arrow:before {content: \"▾\";}#sk-container-id-4 div.sk-estimator input.sk-toggleable__control:checked~label.sk-toggleable__label {background-color: #d4ebff;}#sk-container-id-4 div.sk-label input.sk-toggleable__control:checked~label.sk-toggleable__label {background-color: #d4ebff;}#sk-container-id-4 input.sk-hidden--visually {border: 0;clip: rect(1px 1px 1px 1px);clip: rect(1px, 1px, 1px, 1px);height: 1px;margin: -1px;overflow: hidden;padding: 0;position: absolute;width: 1px;}#sk-container-id-4 div.sk-estimator {font-family: monospace;background-color: #f0f8ff;border: 1px dotted black;border-radius: 0.25em;box-sizing: border-box;margin-bottom: 0.5em;}#sk-container-id-4 div.sk-estimator:hover {background-color: #d4ebff;}#sk-container-id-4 div.sk-parallel-item::after {content: \"\";width: 100%;border-bottom: 1px solid gray;flex-grow: 1;}#sk-container-id-4 div.sk-label:hover label.sk-toggleable__label {background-color: #d4ebff;}#sk-container-id-4 div.sk-serial::before {content: \"\";position: absolute;border-left: 1px solid gray;box-sizing: border-box;top: 0;bottom: 0;left: 50%;z-index: 0;}#sk-container-id-4 div.sk-serial {display: flex;flex-direction: column;align-items: center;background-color: white;padding-right: 0.2em;padding-left: 0.2em;position: relative;}#sk-container-id-4 div.sk-item {position: relative;z-index: 1;}#sk-container-id-4 div.sk-parallel {display: flex;align-items: stretch;justify-content: center;background-color: white;position: relative;}#sk-container-id-4 div.sk-item::before, #sk-container-id-4 div.sk-parallel-item::before {content: \"\";position: absolute;border-left: 1px solid gray;box-sizing: border-box;top: 0;bottom: 0;left: 50%;z-index: -1;}#sk-container-id-4 div.sk-parallel-item {display: flex;flex-direction: column;z-index: 1;position: relative;background-color: white;}#sk-container-id-4 div.sk-parallel-item:first-child::after {align-self: flex-end;width: 50%;}#sk-container-id-4 div.sk-parallel-item:last-child::after {align-self: flex-start;width: 50%;}#sk-container-id-4 div.sk-parallel-item:only-child::after {width: 0;}#sk-container-id-4 div.sk-dashed-wrapped {border: 1px dashed gray;margin: 0 0.4em 0.5em 0.4em;box-sizing: border-box;padding-bottom: 0.4em;background-color: white;}#sk-container-id-4 div.sk-label label {font-family: monospace;font-weight: bold;display: inline-block;line-height: 1.2em;}#sk-container-id-4 div.sk-label-container {text-align: center;}#sk-container-id-4 div.sk-container {/* jupyter's `normalize.less` sets `[hidden] { display: none; }` but bootstrap.min.css set `[hidden] { display: none !important; }` so we also need the `!important` here to be able to override the default hidden behavior on the sphinx rendered scikit-learn.org. See: https://github.com/scikit-learn/scikit-learn/issues/21755 */display: inline-block !important;position: relative;}#sk-container-id-4 div.sk-text-repr-fallback {display: none;}</style><div id=\"sk-container-id-4\" class=\"sk-top-container\"><div class=\"sk-text-repr-fallback\"><pre>XGBClassifier(base_score=None, booster=None, callbacks=None,\n",
              "              colsample_bylevel=None, colsample_bynode=None,\n",
              "              colsample_bytree=None, early_stopping_rounds=None,\n",
              "              enable_categorical=False, eval_metric=None, feature_types=None,\n",
              "              gamma=None, gpu_id=None, grow_policy=None, importance_type=None,\n",
              "              interaction_constraints=None, learning_rate=None, max_bin=None,\n",
              "              max_cat_threshold=None, max_cat_to_onehot=None,\n",
              "              max_delta_step=None, max_depth=None, max_leaves=None,\n",
              "              min_child_weight=None, missing=nan, monotone_constraints=None,\n",
              "              n_estimators=100, n_jobs=None, num_parallel_tree=None,\n",
              "              predictor=None, random_state=None, ...)</pre><b>In a Jupyter environment, please rerun this cell to show the HTML representation or trust the notebook. <br />On GitHub, the HTML representation is unable to render, please try loading this page with nbviewer.org.</b></div><div class=\"sk-container\" hidden><div class=\"sk-item\"><div class=\"sk-estimator sk-toggleable\"><input class=\"sk-toggleable__control sk-hidden--visually\" id=\"sk-estimator-id-4\" type=\"checkbox\" checked><label for=\"sk-estimator-id-4\" class=\"sk-toggleable__label sk-toggleable__label-arrow\">XGBClassifier</label><div class=\"sk-toggleable__content\"><pre>XGBClassifier(base_score=None, booster=None, callbacks=None,\n",
              "              colsample_bylevel=None, colsample_bynode=None,\n",
              "              colsample_bytree=None, early_stopping_rounds=None,\n",
              "              enable_categorical=False, eval_metric=None, feature_types=None,\n",
              "              gamma=None, gpu_id=None, grow_policy=None, importance_type=None,\n",
              "              interaction_constraints=None, learning_rate=None, max_bin=None,\n",
              "              max_cat_threshold=None, max_cat_to_onehot=None,\n",
              "              max_delta_step=None, max_depth=None, max_leaves=None,\n",
              "              min_child_weight=None, missing=nan, monotone_constraints=None,\n",
              "              n_estimators=100, n_jobs=None, num_parallel_tree=None,\n",
              "              predictor=None, random_state=None, ...)</pre></div></div></div></div></div>"
            ]
          },
          "metadata": {},
          "execution_count": 158
        }
      ]
    },
    {
      "cell_type": "code",
      "source": [
        "y_train_pred = model.predict(X_train)\n",
        "train_preds = [round(value) for value in y_train_pred]\n",
        "accuracy = accuracy_score(y_train, train_preds)\n",
        "print(\"Train Accuracy: %.2f%%\" % (accuracy * 100.0))"
      ],
      "metadata": {
        "colab": {
          "base_uri": "https://localhost:8080/"
        },
        "id": "ygg5OZagfVIB",
        "outputId": "59447eab-5055-4ce4-d891-ffd5ff18e65f"
      },
      "execution_count": 159,
      "outputs": [
        {
          "output_type": "stream",
          "name": "stdout",
          "text": [
            "Train Accuracy: 82.89%\n"
          ]
        }
      ]
    },
    {
      "cell_type": "code",
      "source": [
        "y_test_pred = model.predict(X_test)\n",
        "test_preds = [round(value) for value in y_test_pred]\n",
        "accuracy = accuracy_score(y_test, test_preds)\n",
        "print(\"Test Accuracy: %.2f%%\" % (accuracy * 100.0))"
      ],
      "metadata": {
        "colab": {
          "base_uri": "https://localhost:8080/"
        },
        "id": "YRX87Y2-fVK6",
        "outputId": "a6007423-ef97-4e81-d50b-db49e43e479c"
      },
      "execution_count": 160,
      "outputs": [
        {
          "output_type": "stream",
          "name": "stdout",
          "text": [
            "Test Accuracy: 81.94%\n"
          ]
        }
      ]
    },
    {
      "cell_type": "code",
      "source": [
        "y_pred = model.predict(X)\n",
        "y_pred = [round(value) for value in y_pred]\n",
        "\n",
        "\n",
        "# Classifier Discrimination\n",
        "b = (sum(y_pred*X_minority)/sum(X_minority))\n",
        "w = (sum(y_pred*(1-X_minority))/sum(1-X_minority))\n",
        "\n",
        "print(list(df_new.columns)[0], w - b)"
      ],
      "metadata": {
        "colab": {
          "base_uri": "https://localhost:8080/"
        },
        "id": "uXAIwG5LfVNW",
        "outputId": "b2659d22-36da-4eb2-9029-cf7c08e29815"
      },
      "execution_count": 163,
      "outputs": [
        {
          "output_type": "stream",
          "name": "stdout",
          "text": [
            "resource_type:Technology 0.12276929446714036\n"
          ]
        }
      ]
    },
    {
      "cell_type": "code",
      "source": [
        "w = np.zeros(y_train.shape)\n",
        "\n",
        "for label in [0, 1]:\n",
        "  for sensitive_attr_val in [0, 1]:\n",
        "    num = np.sum(X_train[:,0] == sensitive_attr_val)*np.sum(y_train == label)\n",
        "    den = len(X_train)*np.sum((X_train[:,0] == sensitive_attr_val)*(y_train == label))\n",
        "    w += (X_train[:,0] == sensitive_attr_val)*(y_train == label) * (num/den)\n",
        "    print(label, sensitive_attr_val, num/den)"
      ],
      "metadata": {
        "colab": {
          "base_uri": "https://localhost:8080/"
        },
        "id": "KwUbGbSAfVQV",
        "outputId": "249cac85-45a4-4296-9b16-840fbf064156"
      },
      "execution_count": 181,
      "outputs": [
        {
          "output_type": "stream",
          "name": "stdout",
          "text": [
            "0 0 1.0722876652406401\n",
            "0 1 0.8776516831623297\n",
            "1 0 0.9472819893265988\n",
            "1 1 1.1300466018359698\n"
          ]
        }
      ]
    },
    {
      "cell_type": "code",
      "source": [
        "print(set(w))"
      ],
      "metadata": {
        "colab": {
          "base_uri": "https://localhost:8080/"
        },
        "id": "TLoDsg61fVTV",
        "outputId": "9156c618-1f15-435c-88a7-acc3e1971c88"
      },
      "execution_count": 174,
      "outputs": [
        {
          "output_type": "stream",
          "name": "stdout",
          "text": [
            "{0.9472819893265988, 1.1300466018359698, 0.8776516831623297, 1.0722876652406401}\n"
          ]
        }
      ]
    },
    {
      "cell_type": "code",
      "source": [
        "model_reweigh = XGBClassifier()\n",
        "model_reweigh.fit(X_train, y_train, sample_weight=w)"
      ],
      "metadata": {
        "colab": {
          "base_uri": "https://localhost:8080/",
          "height": 248
        },
        "id": "VXE05FbZfVWb",
        "outputId": "15efd683-6637-4ea6-ae1a-c343bd1e93d0"
      },
      "execution_count": 175,
      "outputs": [
        {
          "output_type": "execute_result",
          "data": {
            "text/plain": [
              "XGBClassifier(base_score=None, booster=None, callbacks=None,\n",
              "              colsample_bylevel=None, colsample_bynode=None,\n",
              "              colsample_bytree=None, early_stopping_rounds=None,\n",
              "              enable_categorical=False, eval_metric=None, feature_types=None,\n",
              "              gamma=None, gpu_id=None, grow_policy=None, importance_type=None,\n",
              "              interaction_constraints=None, learning_rate=None, max_bin=None,\n",
              "              max_cat_threshold=None, max_cat_to_onehot=None,\n",
              "              max_delta_step=None, max_depth=None, max_leaves=None,\n",
              "              min_child_weight=None, missing=nan, monotone_constraints=None,\n",
              "              n_estimators=100, n_jobs=None, num_parallel_tree=None,\n",
              "              predictor=None, random_state=None, ...)"
            ],
            "text/html": [
              "<style>#sk-container-id-5 {color: black;background-color: white;}#sk-container-id-5 pre{padding: 0;}#sk-container-id-5 div.sk-toggleable {background-color: white;}#sk-container-id-5 label.sk-toggleable__label {cursor: pointer;display: block;width: 100%;margin-bottom: 0;padding: 0.3em;box-sizing: border-box;text-align: center;}#sk-container-id-5 label.sk-toggleable__label-arrow:before {content: \"▸\";float: left;margin-right: 0.25em;color: #696969;}#sk-container-id-5 label.sk-toggleable__label-arrow:hover:before {color: black;}#sk-container-id-5 div.sk-estimator:hover label.sk-toggleable__label-arrow:before {color: black;}#sk-container-id-5 div.sk-toggleable__content {max-height: 0;max-width: 0;overflow: hidden;text-align: left;background-color: #f0f8ff;}#sk-container-id-5 div.sk-toggleable__content pre {margin: 0.2em;color: black;border-radius: 0.25em;background-color: #f0f8ff;}#sk-container-id-5 input.sk-toggleable__control:checked~div.sk-toggleable__content {max-height: 200px;max-width: 100%;overflow: auto;}#sk-container-id-5 input.sk-toggleable__control:checked~label.sk-toggleable__label-arrow:before {content: \"▾\";}#sk-container-id-5 div.sk-estimator input.sk-toggleable__control:checked~label.sk-toggleable__label {background-color: #d4ebff;}#sk-container-id-5 div.sk-label input.sk-toggleable__control:checked~label.sk-toggleable__label {background-color: #d4ebff;}#sk-container-id-5 input.sk-hidden--visually {border: 0;clip: rect(1px 1px 1px 1px);clip: rect(1px, 1px, 1px, 1px);height: 1px;margin: -1px;overflow: hidden;padding: 0;position: absolute;width: 1px;}#sk-container-id-5 div.sk-estimator {font-family: monospace;background-color: #f0f8ff;border: 1px dotted black;border-radius: 0.25em;box-sizing: border-box;margin-bottom: 0.5em;}#sk-container-id-5 div.sk-estimator:hover {background-color: #d4ebff;}#sk-container-id-5 div.sk-parallel-item::after {content: \"\";width: 100%;border-bottom: 1px solid gray;flex-grow: 1;}#sk-container-id-5 div.sk-label:hover label.sk-toggleable__label {background-color: #d4ebff;}#sk-container-id-5 div.sk-serial::before {content: \"\";position: absolute;border-left: 1px solid gray;box-sizing: border-box;top: 0;bottom: 0;left: 50%;z-index: 0;}#sk-container-id-5 div.sk-serial {display: flex;flex-direction: column;align-items: center;background-color: white;padding-right: 0.2em;padding-left: 0.2em;position: relative;}#sk-container-id-5 div.sk-item {position: relative;z-index: 1;}#sk-container-id-5 div.sk-parallel {display: flex;align-items: stretch;justify-content: center;background-color: white;position: relative;}#sk-container-id-5 div.sk-item::before, #sk-container-id-5 div.sk-parallel-item::before {content: \"\";position: absolute;border-left: 1px solid gray;box-sizing: border-box;top: 0;bottom: 0;left: 50%;z-index: -1;}#sk-container-id-5 div.sk-parallel-item {display: flex;flex-direction: column;z-index: 1;position: relative;background-color: white;}#sk-container-id-5 div.sk-parallel-item:first-child::after {align-self: flex-end;width: 50%;}#sk-container-id-5 div.sk-parallel-item:last-child::after {align-self: flex-start;width: 50%;}#sk-container-id-5 div.sk-parallel-item:only-child::after {width: 0;}#sk-container-id-5 div.sk-dashed-wrapped {border: 1px dashed gray;margin: 0 0.4em 0.5em 0.4em;box-sizing: border-box;padding-bottom: 0.4em;background-color: white;}#sk-container-id-5 div.sk-label label {font-family: monospace;font-weight: bold;display: inline-block;line-height: 1.2em;}#sk-container-id-5 div.sk-label-container {text-align: center;}#sk-container-id-5 div.sk-container {/* jupyter's `normalize.less` sets `[hidden] { display: none; }` but bootstrap.min.css set `[hidden] { display: none !important; }` so we also need the `!important` here to be able to override the default hidden behavior on the sphinx rendered scikit-learn.org. See: https://github.com/scikit-learn/scikit-learn/issues/21755 */display: inline-block !important;position: relative;}#sk-container-id-5 div.sk-text-repr-fallback {display: none;}</style><div id=\"sk-container-id-5\" class=\"sk-top-container\"><div class=\"sk-text-repr-fallback\"><pre>XGBClassifier(base_score=None, booster=None, callbacks=None,\n",
              "              colsample_bylevel=None, colsample_bynode=None,\n",
              "              colsample_bytree=None, early_stopping_rounds=None,\n",
              "              enable_categorical=False, eval_metric=None, feature_types=None,\n",
              "              gamma=None, gpu_id=None, grow_policy=None, importance_type=None,\n",
              "              interaction_constraints=None, learning_rate=None, max_bin=None,\n",
              "              max_cat_threshold=None, max_cat_to_onehot=None,\n",
              "              max_delta_step=None, max_depth=None, max_leaves=None,\n",
              "              min_child_weight=None, missing=nan, monotone_constraints=None,\n",
              "              n_estimators=100, n_jobs=None, num_parallel_tree=None,\n",
              "              predictor=None, random_state=None, ...)</pre><b>In a Jupyter environment, please rerun this cell to show the HTML representation or trust the notebook. <br />On GitHub, the HTML representation is unable to render, please try loading this page with nbviewer.org.</b></div><div class=\"sk-container\" hidden><div class=\"sk-item\"><div class=\"sk-estimator sk-toggleable\"><input class=\"sk-toggleable__control sk-hidden--visually\" id=\"sk-estimator-id-5\" type=\"checkbox\" checked><label for=\"sk-estimator-id-5\" class=\"sk-toggleable__label sk-toggleable__label-arrow\">XGBClassifier</label><div class=\"sk-toggleable__content\"><pre>XGBClassifier(base_score=None, booster=None, callbacks=None,\n",
              "              colsample_bylevel=None, colsample_bynode=None,\n",
              "              colsample_bytree=None, early_stopping_rounds=None,\n",
              "              enable_categorical=False, eval_metric=None, feature_types=None,\n",
              "              gamma=None, gpu_id=None, grow_policy=None, importance_type=None,\n",
              "              interaction_constraints=None, learning_rate=None, max_bin=None,\n",
              "              max_cat_threshold=None, max_cat_to_onehot=None,\n",
              "              max_delta_step=None, max_depth=None, max_leaves=None,\n",
              "              min_child_weight=None, missing=nan, monotone_constraints=None,\n",
              "              n_estimators=100, n_jobs=None, num_parallel_tree=None,\n",
              "              predictor=None, random_state=None, ...)</pre></div></div></div></div></div>"
            ]
          },
          "metadata": {},
          "execution_count": 175
        }
      ]
    },
    {
      "cell_type": "code",
      "source": [
        "y_train_pred = model_reweigh.predict(X_train)\n",
        "train_preds = [round(value) for value in y_train_pred]\n",
        "accuracy = accuracy_score(y_train, train_preds)\n",
        "print(\"Train Accuracy: %.2f%%\" % (accuracy * 100.0))"
      ],
      "metadata": {
        "colab": {
          "base_uri": "https://localhost:8080/"
        },
        "id": "3aunHpW2Vmmj",
        "outputId": "07f16b4e-50aa-4e82-971a-7f3421a7c0da"
      },
      "execution_count": 176,
      "outputs": [
        {
          "output_type": "stream",
          "name": "stdout",
          "text": [
            "Train Accuracy: 82.82%\n"
          ]
        }
      ]
    },
    {
      "cell_type": "code",
      "source": [
        "y_test_pred = model_reweigh.predict(X_test)\n",
        "test_preds = [round(value) for value in y_test_pred]\n",
        "accuracy = accuracy_score(y_test, test_preds)\n",
        "print(\"Test Accuracy: %.2f%%\" % (accuracy * 100.0))"
      ],
      "metadata": {
        "colab": {
          "base_uri": "https://localhost:8080/"
        },
        "id": "5eEtctmj_2W_",
        "outputId": "e184ca80-0d18-4bb7-84cc-07e4db8cbb48"
      },
      "execution_count": 177,
      "outputs": [
        {
          "output_type": "stream",
          "name": "stdout",
          "text": [
            "Test Accuracy: 81.88%\n"
          ]
        }
      ]
    },
    {
      "cell_type": "code",
      "source": [
        "y_pred = model_reweigh.predict(X)\n",
        "y_pred = [round(value) for value in y_pred]\n",
        "\n",
        "\n",
        "# Classifier Discrimination\n",
        "b = (sum(y_pred*X_minority)/sum(X_minority))\n",
        "w = (sum(y_pred*(1-X_minority))/sum(1-X_minority))\n",
        "\n",
        "print(list(df_new.columns)[0], w - b)"
      ],
      "metadata": {
        "colab": {
          "base_uri": "https://localhost:8080/"
        },
        "id": "6cBRjYGj_2aK",
        "outputId": "308403b0-8e20-4076-ac32-80f528db26b5"
      },
      "execution_count": 178,
      "outputs": [
        {
          "output_type": "stream",
          "name": "stdout",
          "text": [
            "resource_type:Technology 0.07098916211874146\n"
          ]
        }
      ]
    },
    {
      "cell_type": "code",
      "source": [
        "from numpy import random\n",
        "\n",
        "random.seed(345)\n",
        "\n",
        "final_samples = np.zeros((530773, 48))\n",
        "final_ys = np.zeros(530773)\n",
        "s = 0\n",
        "for label in [0, 1]:\n",
        "  for sensitive_attr_val in [0, 1]:\n",
        "    num = np.sum(X_train[:,0] == sensitive_attr_val)*np.sum(y_train == label)\n",
        "    den = len(X_train)*np.sum((X_train[:,0] == sensitive_attr_val)*(y_train == label))\n",
        "    (X_train[:,0] == sensitive_attr_val)*(y_train == label) * (num/den)\n",
        "    #print(label, sensitive_attr_val, int(np.sum(X_train[:,0] == sensitive_attr_val)*np.sum(y_train == label)/len(X_train)))\n",
        "    nxt = int(np.sum(X_train[:,0] == sensitive_attr_val)*np.sum(y_train == label)/len(X_train))\n",
        "\n",
        "    #print((np.arange(len(X_train))*(X_train[:,0] == sensitive_attr_val)*(y_train == label))[:100])\n",
        "    #print(list(set(np.arange(len(X_train))*(X_train[:,0] == sensitive_attr_val)*(y_train == label)) - set([0]))[:100])\n",
        "    samples = random.choice(list(set(np.arange(len(X_train))*(X_train[:,0] == sensitive_attr_val)*(y_train == label)) - set([0])), size = nxt)\n",
        "\n",
        "    final_samples[s:s+nxt] = X_train[samples]\n",
        "    final_ys[s:s+nxt] = y_train[samples]\n",
        "    s += nxt"
      ],
      "metadata": {
        "id": "zlWulog6_2cs"
      },
      "execution_count": 195,
      "outputs": []
    },
    {
      "cell_type": "code",
      "source": [
        "model_sample = XGBClassifier()\n",
        "model_sample.fit(final_samples, final_ys)"
      ],
      "metadata": {
        "colab": {
          "base_uri": "https://localhost:8080/",
          "height": 248
        },
        "id": "3VNR_GwH_2fk",
        "outputId": "4b972c0b-837d-463e-9f92-057545be9b02"
      },
      "execution_count": 196,
      "outputs": [
        {
          "output_type": "execute_result",
          "data": {
            "text/plain": [
              "XGBClassifier(base_score=None, booster=None, callbacks=None,\n",
              "              colsample_bylevel=None, colsample_bynode=None,\n",
              "              colsample_bytree=None, early_stopping_rounds=None,\n",
              "              enable_categorical=False, eval_metric=None, feature_types=None,\n",
              "              gamma=None, gpu_id=None, grow_policy=None, importance_type=None,\n",
              "              interaction_constraints=None, learning_rate=None, max_bin=None,\n",
              "              max_cat_threshold=None, max_cat_to_onehot=None,\n",
              "              max_delta_step=None, max_depth=None, max_leaves=None,\n",
              "              min_child_weight=None, missing=nan, monotone_constraints=None,\n",
              "              n_estimators=100, n_jobs=None, num_parallel_tree=None,\n",
              "              predictor=None, random_state=None, ...)"
            ],
            "text/html": [
              "<style>#sk-container-id-6 {color: black;background-color: white;}#sk-container-id-6 pre{padding: 0;}#sk-container-id-6 div.sk-toggleable {background-color: white;}#sk-container-id-6 label.sk-toggleable__label {cursor: pointer;display: block;width: 100%;margin-bottom: 0;padding: 0.3em;box-sizing: border-box;text-align: center;}#sk-container-id-6 label.sk-toggleable__label-arrow:before {content: \"▸\";float: left;margin-right: 0.25em;color: #696969;}#sk-container-id-6 label.sk-toggleable__label-arrow:hover:before {color: black;}#sk-container-id-6 div.sk-estimator:hover label.sk-toggleable__label-arrow:before {color: black;}#sk-container-id-6 div.sk-toggleable__content {max-height: 0;max-width: 0;overflow: hidden;text-align: left;background-color: #f0f8ff;}#sk-container-id-6 div.sk-toggleable__content pre {margin: 0.2em;color: black;border-radius: 0.25em;background-color: #f0f8ff;}#sk-container-id-6 input.sk-toggleable__control:checked~div.sk-toggleable__content {max-height: 200px;max-width: 100%;overflow: auto;}#sk-container-id-6 input.sk-toggleable__control:checked~label.sk-toggleable__label-arrow:before {content: \"▾\";}#sk-container-id-6 div.sk-estimator input.sk-toggleable__control:checked~label.sk-toggleable__label {background-color: #d4ebff;}#sk-container-id-6 div.sk-label input.sk-toggleable__control:checked~label.sk-toggleable__label {background-color: #d4ebff;}#sk-container-id-6 input.sk-hidden--visually {border: 0;clip: rect(1px 1px 1px 1px);clip: rect(1px, 1px, 1px, 1px);height: 1px;margin: -1px;overflow: hidden;padding: 0;position: absolute;width: 1px;}#sk-container-id-6 div.sk-estimator {font-family: monospace;background-color: #f0f8ff;border: 1px dotted black;border-radius: 0.25em;box-sizing: border-box;margin-bottom: 0.5em;}#sk-container-id-6 div.sk-estimator:hover {background-color: #d4ebff;}#sk-container-id-6 div.sk-parallel-item::after {content: \"\";width: 100%;border-bottom: 1px solid gray;flex-grow: 1;}#sk-container-id-6 div.sk-label:hover label.sk-toggleable__label {background-color: #d4ebff;}#sk-container-id-6 div.sk-serial::before {content: \"\";position: absolute;border-left: 1px solid gray;box-sizing: border-box;top: 0;bottom: 0;left: 50%;z-index: 0;}#sk-container-id-6 div.sk-serial {display: flex;flex-direction: column;align-items: center;background-color: white;padding-right: 0.2em;padding-left: 0.2em;position: relative;}#sk-container-id-6 div.sk-item {position: relative;z-index: 1;}#sk-container-id-6 div.sk-parallel {display: flex;align-items: stretch;justify-content: center;background-color: white;position: relative;}#sk-container-id-6 div.sk-item::before, #sk-container-id-6 div.sk-parallel-item::before {content: \"\";position: absolute;border-left: 1px solid gray;box-sizing: border-box;top: 0;bottom: 0;left: 50%;z-index: -1;}#sk-container-id-6 div.sk-parallel-item {display: flex;flex-direction: column;z-index: 1;position: relative;background-color: white;}#sk-container-id-6 div.sk-parallel-item:first-child::after {align-self: flex-end;width: 50%;}#sk-container-id-6 div.sk-parallel-item:last-child::after {align-self: flex-start;width: 50%;}#sk-container-id-6 div.sk-parallel-item:only-child::after {width: 0;}#sk-container-id-6 div.sk-dashed-wrapped {border: 1px dashed gray;margin: 0 0.4em 0.5em 0.4em;box-sizing: border-box;padding-bottom: 0.4em;background-color: white;}#sk-container-id-6 div.sk-label label {font-family: monospace;font-weight: bold;display: inline-block;line-height: 1.2em;}#sk-container-id-6 div.sk-label-container {text-align: center;}#sk-container-id-6 div.sk-container {/* jupyter's `normalize.less` sets `[hidden] { display: none; }` but bootstrap.min.css set `[hidden] { display: none !important; }` so we also need the `!important` here to be able to override the default hidden behavior on the sphinx rendered scikit-learn.org. See: https://github.com/scikit-learn/scikit-learn/issues/21755 */display: inline-block !important;position: relative;}#sk-container-id-6 div.sk-text-repr-fallback {display: none;}</style><div id=\"sk-container-id-6\" class=\"sk-top-container\"><div class=\"sk-text-repr-fallback\"><pre>XGBClassifier(base_score=None, booster=None, callbacks=None,\n",
              "              colsample_bylevel=None, colsample_bynode=None,\n",
              "              colsample_bytree=None, early_stopping_rounds=None,\n",
              "              enable_categorical=False, eval_metric=None, feature_types=None,\n",
              "              gamma=None, gpu_id=None, grow_policy=None, importance_type=None,\n",
              "              interaction_constraints=None, learning_rate=None, max_bin=None,\n",
              "              max_cat_threshold=None, max_cat_to_onehot=None,\n",
              "              max_delta_step=None, max_depth=None, max_leaves=None,\n",
              "              min_child_weight=None, missing=nan, monotone_constraints=None,\n",
              "              n_estimators=100, n_jobs=None, num_parallel_tree=None,\n",
              "              predictor=None, random_state=None, ...)</pre><b>In a Jupyter environment, please rerun this cell to show the HTML representation or trust the notebook. <br />On GitHub, the HTML representation is unable to render, please try loading this page with nbviewer.org.</b></div><div class=\"sk-container\" hidden><div class=\"sk-item\"><div class=\"sk-estimator sk-toggleable\"><input class=\"sk-toggleable__control sk-hidden--visually\" id=\"sk-estimator-id-6\" type=\"checkbox\" checked><label for=\"sk-estimator-id-6\" class=\"sk-toggleable__label sk-toggleable__label-arrow\">XGBClassifier</label><div class=\"sk-toggleable__content\"><pre>XGBClassifier(base_score=None, booster=None, callbacks=None,\n",
              "              colsample_bylevel=None, colsample_bynode=None,\n",
              "              colsample_bytree=None, early_stopping_rounds=None,\n",
              "              enable_categorical=False, eval_metric=None, feature_types=None,\n",
              "              gamma=None, gpu_id=None, grow_policy=None, importance_type=None,\n",
              "              interaction_constraints=None, learning_rate=None, max_bin=None,\n",
              "              max_cat_threshold=None, max_cat_to_onehot=None,\n",
              "              max_delta_step=None, max_depth=None, max_leaves=None,\n",
              "              min_child_weight=None, missing=nan, monotone_constraints=None,\n",
              "              n_estimators=100, n_jobs=None, num_parallel_tree=None,\n",
              "              predictor=None, random_state=None, ...)</pre></div></div></div></div></div>"
            ]
          },
          "metadata": {},
          "execution_count": 196
        }
      ]
    },
    {
      "cell_type": "code",
      "source": [
        "y_train_pred = model_sample.predict(X_train)\n",
        "train_preds = [round(value) for value in y_train_pred]\n",
        "accuracy = accuracy_score(y_train, train_preds)\n",
        "print(\"Train Accuracy: %.2f%%\" % (accuracy * 100.0))"
      ],
      "metadata": {
        "colab": {
          "base_uri": "https://localhost:8080/"
        },
        "id": "OxVKdnoZ_2ke",
        "outputId": "34b0c27c-5224-4536-a4a0-cf7b80e249b0"
      },
      "execution_count": 197,
      "outputs": [
        {
          "output_type": "stream",
          "name": "stdout",
          "text": [
            "Train Accuracy: 82.57%\n"
          ]
        }
      ]
    },
    {
      "cell_type": "code",
      "source": [
        "y_test_pred = model_sample.predict(X_test)\n",
        "test_preds = [round(value) for value in y_test_pred]\n",
        "accuracy = accuracy_score(y_test, test_preds)\n",
        "print(\"Test Accuracy: %.2f%%\" % (accuracy * 100.0))"
      ],
      "metadata": {
        "colab": {
          "base_uri": "https://localhost:8080/"
        },
        "id": "18RL4O8K_2no",
        "outputId": "1885e9d6-c5e9-4a55-d958-c49ffe8b92d3"
      },
      "execution_count": 198,
      "outputs": [
        {
          "output_type": "stream",
          "name": "stdout",
          "text": [
            "Test Accuracy: 81.75%\n"
          ]
        }
      ]
    },
    {
      "cell_type": "code",
      "source": [
        "y_pred = model_sample.predict(X)\n",
        "y_pred = [round(value) for value in y_pred]\n",
        "\n",
        "\n",
        "# Classifier Discrimination\n",
        "b = (sum(y_pred*X_minority)/sum(X_minority))\n",
        "w = (sum(y_pred*(1-X_minority))/sum(1-X_minority))\n",
        "\n",
        "print(list(df_new.columns)[0], w - b)"
      ],
      "metadata": {
        "colab": {
          "base_uri": "https://localhost:8080/"
        },
        "id": "8rZz7IqI_2rJ",
        "outputId": "49e5ecd8-fbec-4c96-e8a3-b34e7399f2de"
      },
      "execution_count": 199,
      "outputs": [
        {
          "output_type": "stream",
          "name": "stdout",
          "text": [
            "resource_type:Technology 0.06971685262761973\n"
          ]
        }
      ]
    },
    {
      "cell_type": "code",
      "source": [],
      "metadata": {
        "id": "ZxggLU1Q_2vw"
      },
      "execution_count": null,
      "outputs": []
    },
    {
      "cell_type": "code",
      "source": [
        "import matplotlib.pyplot as plt\n",
        "\n",
        "x = []\n",
        "y = []\n",
        "\n",
        "for sub in ['Literacy & Language', 'History & Civics', 'Math & Science', 'Health & Sports', 'Applied Learning', 'Special Needs', 'Music & The Arts']:\n",
        "  print(sub, df[df['primary_focus_area'] == sub].shape[0])\n",
        "  x.append(sub)\n",
        "  y.append(df[df['primary_focus_area'] == sub].shape[0])\n",
        "\n",
        "plt.bar(x, y)\n",
        "plt.title(\"Number of Datapoints by Subject\")\n",
        "plt.xlabel(\"Primary Subject\")\n",
        "plt.ylabel(\"Number of Datapoints\")\n",
        "plt.xticks(rotation=90)\n",
        "plt.show()"
      ],
      "metadata": {
        "colab": {
          "base_uri": "https://localhost:8080/",
          "height": 514
        },
        "id": "a5rcBUBlDAXe",
        "outputId": "3a10960f-d0ee-4163-bb26-d48a7443e4f9"
      },
      "execution_count": null,
      "outputs": [
        {
          "output_type": "stream",
          "name": "stdout",
          "text": [
            "Literacy & Language 298758\n",
            "History & Civics 31131\n",
            "Math & Science 164339\n",
            "Health & Sports 18445\n",
            "Applied Learning 49534\n",
            "Special Needs 41959\n",
            "Music & The Arts 59893\n"
          ]
        },
        {
          "output_type": "display_data",
          "data": {
            "text/plain": [
              "<Figure size 432x288 with 1 Axes>"
            ],
            "image/png": "[encoded data removed]"
          },
          "metadata": {
            "needs_background": "light"
          }
        }
      ]
    },
    {
      "cell_type": "code",
      "source": [
        "df = df_export\n",
        "\n",
        "minority_df = df[df['primary_focus_area:Applied_Learning'] == 1]\n",
        "majority_df = df[df['primary_focus_area:Applied_Learning'] != 1]\n",
        "\n",
        "minority_df = minority_df.drop(['primary_focus_area:Applied_Learning',\n",
        "       'primary_focus_area:Health_&_Sports',\n",
        "       'primary_focus_area:History_&_Civics',\n",
        "       'primary_focus_area:Literacy_&_Language',\n",
        "       'primary_focus_area:Math_&_Science',\n",
        "       'primary_focus_area:Music_&_The_Arts',\n",
        "       'primary_focus_area:Special_Needs'], axis=1)\n",
        "majority_df = majority_df.drop(['primary_focus_area:Applied_Learning',\n",
        "       'primary_focus_area:Health_&_Sports',\n",
        "       'primary_focus_area:History_&_Civics',\n",
        "       'primary_focus_area:Literacy_&_Language',\n",
        "       'primary_focus_area:Math_&_Science',\n",
        "       'primary_focus_area:Music_&_The_Arts',\n",
        "       'primary_focus_area:Special_Needs'], axis=1)\n",
        "\n",
        "print(\"Minority data is\", majority_df.shape[0]/minority_df.shape[0], \"times smaller than the majority\")"
      ],
      "metadata": {
        "colab": {
          "base_uri": "https://localhost:8080/"
        },
        "id": "r47yTmH_Dmlo",
        "outputId": "505f5e2c-1919-40de-95aa-e7f02190062b"
      },
      "execution_count": 66,
      "outputs": [
        {
          "output_type": "stream",
          "name": "stdout",
          "text": [
            "Minority data is 12.40691242378972 times smaller than the majority\n"
          ]
        }
      ]
    },
    {
      "cell_type": "code",
      "source": [
        "print(minority_df['is_fully_funded_after_4_months'].mean())\n",
        "print(majority_df['is_fully_funded_after_4_months'].mean())"
      ],
      "metadata": {
        "colab": {
          "base_uri": "https://localhost:8080/"
        },
        "id": "MSOqLRRMFfA2",
        "outputId": "73a07203-8fbe-42d3-d607-29ebd0f13b11"
      },
      "execution_count": 67,
      "outputs": [
        {
          "output_type": "stream",
          "name": "stdout",
          "text": [
            "0.5054508014696976\n",
            "0.5514527372250897\n"
          ]
        }
      ]
    },
    {
      "cell_type": "code",
      "source": [
        "from sklearn.linear_model import LogisticRegression\n",
        "\n",
        "group_labels = df['primary_focus_area:Applied_Learning'] == 1\n",
        "\n",
        "data = \n",
        "\n",
        "# Train a classifier for group A\n",
        "mask_A = (group_labels == True)\n",
        "X_A, y_A = X[mask_A], y[mask_A]\n",
        "clf_A = LogisticRegression()\n",
        "clf_A.fit(X_A, y_A)\n",
        "\n",
        "# Train a classifier for group B\n",
        "mask_B = (group_labels == False)\n",
        "X_B, y_B = X[mask_B], y[mask_B]\n",
        "clf_B = LogisticRegression()\n",
        "clf_B.fit(X_B, y_B)"
      ],
      "metadata": {
        "id": "ElOCdZj8TSZT",
        "colab": {
          "base_uri": "https://localhost:8080/",
          "height": 236
        },
        "outputId": "0e6573f5-8ca7-46b5-b136-f88c1e786db2"
      },
      "execution_count": 68,
      "outputs": [
        {
          "output_type": "error",
          "ename": "NameError",
          "evalue": "ignored",
          "traceback": [
            "\u001b[0;31m---------------------------------------------------------------------------\u001b[0m",
            "\u001b[0;31mNameError\u001b[0m                                 Traceback (most recent call last)",
            "\u001b[0;32m<ipython-input-68-f1dd6f3a6f50>\u001b[0m in \u001b[0;36m<module>\u001b[0;34m\u001b[0m\n\u001b[1;32m      5\u001b[0m \u001b[0;31m# Train a classifier for group A\u001b[0m\u001b[0;34m\u001b[0m\u001b[0;34m\u001b[0m\u001b[0m\n\u001b[1;32m      6\u001b[0m \u001b[0mmask_A\u001b[0m \u001b[0;34m=\u001b[0m \u001b[0;34m(\u001b[0m\u001b[0mgroup_labels\u001b[0m \u001b[0;34m==\u001b[0m \u001b[0;32mTrue\u001b[0m\u001b[0;34m)\u001b[0m\u001b[0;34m\u001b[0m\u001b[0;34m\u001b[0m\u001b[0m\n\u001b[0;32m----> 7\u001b[0;31m \u001b[0mX_A\u001b[0m\u001b[0;34m,\u001b[0m \u001b[0my_A\u001b[0m \u001b[0;34m=\u001b[0m \u001b[0mX\u001b[0m\u001b[0;34m[\u001b[0m\u001b[0mmask_A\u001b[0m\u001b[0;34m]\u001b[0m\u001b[0;34m,\u001b[0m \u001b[0my\u001b[0m\u001b[0;34m[\u001b[0m\u001b[0mmask_A\u001b[0m\u001b[0;34m]\u001b[0m\u001b[0;34m\u001b[0m\u001b[0;34m\u001b[0m\u001b[0m\n\u001b[0m\u001b[1;32m      8\u001b[0m \u001b[0mclf_A\u001b[0m \u001b[0;34m=\u001b[0m \u001b[0mLogisticRegression\u001b[0m\u001b[0;34m(\u001b[0m\u001b[0;34m)\u001b[0m\u001b[0;34m\u001b[0m\u001b[0;34m\u001b[0m\u001b[0m\n\u001b[1;32m      9\u001b[0m \u001b[0mclf_A\u001b[0m\u001b[0;34m.\u001b[0m\u001b[0mfit\u001b[0m\u001b[0;34m(\u001b[0m\u001b[0mX_A\u001b[0m\u001b[0;34m,\u001b[0m \u001b[0my_A\u001b[0m\u001b[0;34m)\u001b[0m\u001b[0;34m\u001b[0m\u001b[0;34m\u001b[0m\u001b[0m\n",
            "\u001b[0;31mNameError\u001b[0m: name 'X' is not defined"
          ]
        }
      ]
    },
    {
      "cell_type": "code",
      "source": [
        "def compute_joint_loss(group_labels, y_A, z_A, y_B, z_B, lamb=0.5):\n",
        "  n = len(y_A) + len(y_B)\n",
        "  avg_z =  1/2 * (np.sum(z_A) + np.sum(z_B))\n",
        "  diff_pos = (np.abs(np.sum(z_A) - avg_z) + np.abs(np.sum(z_B) - avg_z)) * (1-lamb)/n\n",
        "  tmp = lamb*(np.mean(np.abs(y_A-z_A)))\n",
        "  tmp2 = lamb * (np.mean(np.abs(y_B-z_B)))\n",
        "  return tmp + tmp2 + diff_pos\n",
        "\n",
        "# Step 1: Train a classifier on group A to get different profiles\n",
        "classifier_A = clf_A\n",
        "profiles_A = np.arange(100)/100\n",
        "\n",
        "# Step 2: Train a classifier on group B to get different profiles\n",
        "classifier_B = clf_B\n",
        "profiles_B = np.arange(100)/100\n",
        "\n",
        "# Step 3: Select the profile that minimizes joint loss\n",
        "joint_loss_min = float('inf')\n",
        "selected_profile_A = None\n",
        "selected_profile_B = None\n",
        "\n",
        "A_prob = clf_A.predict_proba(X_A)[:,1]\n",
        "B_prob = clf_B.predict_proba(X_B)[:,1]\n",
        "for profile_A in profiles_A:\n",
        "    for profile_B in profiles_B:\n",
        "        joint_loss = compute_joint_loss(group_labels, (A_prob > profile_A).astype(np.int32), y_A, (B_prob > profile_B).astype(np.int32), y_B)\n",
        "        if joint_loss < joint_loss_min:\n",
        "            # print(\"A: new_profile: \", profile_A, \"old_profile: \", selected_profile_A)\n",
        "            # print(\"B: new_profile: \", profile_B, \"old_profile: \", selected_profile_B)\n",
        "            # print(\"new_loss: \", joint_loss, \"old_loss: \", joint_loss_min)\n",
        "            joint_loss_min = joint_loss\n",
        "            selected_profile_A = profile_A\n",
        "            selected_profile_B = profile_B\n",
        "\n",
        "# The selected profiles can now be used to make predictions on new data\n",
        "predictions_A = clf_A.predict_proba(X_A) > selected_profile_A\n",
        "predictions_B = clf_B.predict_proba(X_B) > selected_profile_B"
      ],
      "metadata": {
        "id": "HHu9jVmQGQXJ"
      },
      "execution_count": null,
      "outputs": []
    }
  ]
}