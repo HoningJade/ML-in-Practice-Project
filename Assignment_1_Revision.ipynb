{
  "cells": [
    {
      "cell_type": "markdown",
      "metadata": {
        "id": "MygD9O0cNBh6"
      },
      "source": [
        "# Baselines and Formulation\n"
      ]
    },
    {
      "cell_type": "code",
      "execution_count": 1,
      "metadata": {
        "colab": {
          "base_uri": "https://localhost:8080/"
        },
        "id": "iY8dwqamIIQc",
        "outputId": "15f38130-0462-4c70-cad0-aa44635af7d6"
      },
      "outputs": [
        {
          "output_type": "stream",
          "name": "stdout",
          "text": [
            "OK\n",
            "deb http://apt.postgresql.org/pub/repos/apt/ focal-pgdg main\n",
            "debconf: unable to initialize frontend: Dialog\n",
            "debconf: (No usable dialog-like program is installed, so the dialog based frontend cannot be used. at /usr/share/perl5/Debconf/FrontEnd/Dialog.pm line 76, <> line 13.)\n",
            "debconf: falling back to frontend: Readline\n",
            "debconf: unable to initialize frontend: Readline\n",
            "debconf: (This frontend requires a controlling tty.)\n",
            "debconf: falling back to frontend: Teletype\n",
            "dpkg-preconfigure: unable to re-open stdin: \n",
            "Selecting previously unselected package cron.\n",
            "(Reading database ... 129496 files and directories currently installed.)\n",
            "Preparing to unpack .../00-cron_3.0pl1-136ubuntu1_amd64.deb ...\n",
            "Unpacking cron (3.0pl1-136ubuntu1) ...\n",
            "Selecting previously unselected package libjson-perl.\n",
            "Preparing to unpack .../01-libjson-perl_4.02000-2_all.deb ...\n",
            "Unpacking libjson-perl (4.02000-2) ...\n",
            "Selecting previously unselected package netbase.\n",
            "Preparing to unpack .../02-netbase_6.1_all.deb ...\n",
            "Unpacking netbase (6.1) ...\n",
            "Selecting previously unselected package postgresql-client-common.\n",
            "Preparing to unpack .../03-postgresql-client-common_246.pgdg20.04+1_all.deb ...\n",
            "Unpacking postgresql-client-common (246.pgdg20.04+1) ...\n",
            "Selecting previously unselected package ssl-cert.\n",
            "Preparing to unpack .../04-ssl-cert_1.0.39_all.deb ...\n",
            "Unpacking ssl-cert (1.0.39) ...\n",
            "Selecting previously unselected package postgresql-common.\n",
            "Preparing to unpack .../05-postgresql-common_246.pgdg20.04+1_all.deb ...\n",
            "Adding 'diversion of /usr/bin/pg_config to /usr/bin/pg_config.libpq-dev by postgresql-common'\n",
            "Unpacking postgresql-common (246.pgdg20.04+1) ...\n",
            "Selecting previously unselected package logrotate.\n",
            "Preparing to unpack .../06-logrotate_3.14.0-4ubuntu3_amd64.deb ...\n",
            "Unpacking logrotate (3.14.0-4ubuntu3) ...\n",
            "Selecting previously unselected package libcommon-sense-perl.\n",
            "Preparing to unpack .../07-libcommon-sense-perl_3.74-2build6_amd64.deb ...\n",
            "Unpacking libcommon-sense-perl (3.74-2build6) ...\n",
            "Selecting previously unselected package libtypes-serialiser-perl.\n",
            "Preparing to unpack .../08-libtypes-serialiser-perl_1.0-1_all.deb ...\n",
            "Unpacking libtypes-serialiser-perl (1.0-1) ...\n",
            "Selecting previously unselected package libjson-xs-perl.\n",
            "Preparing to unpack .../09-libjson-xs-perl_4.020-1build1_amd64.deb ...\n",
            "Unpacking libjson-xs-perl (4.020-1build1) ...\n",
            "Selecting previously unselected package postgresql-client-11.\n",
            "Preparing to unpack .../10-postgresql-client-11_11.18-1.pgdg20.04+1_amd64.deb ...\n",
            "Unpacking postgresql-client-11 (11.18-1.pgdg20.04+1) ...\n",
            "Selecting previously unselected package postgresql-11.\n",
            "Preparing to unpack .../11-postgresql-11_11.18-1.pgdg20.04+1_amd64.deb ...\n",
            "Unpacking postgresql-11 (11.18-1.pgdg20.04+1) ...\n",
            "Selecting previously unselected package sysstat.\n",
            "Preparing to unpack .../12-sysstat_12.2.0-2ubuntu0.2_amd64.deb ...\n",
            "Unpacking sysstat (12.2.0-2ubuntu0.2) ...\n",
            "Setting up logrotate (3.14.0-4ubuntu3) ...\n",
            "Created symlink /etc/systemd/system/timers.target.wants/logrotate.timer → /lib/systemd/system/logrotate.timer.\n",
            "Setting up cron (3.0pl1-136ubuntu1) ...\n",
            "Adding group `crontab' (GID 113) ...\n",
            "Done.\n",
            "invoke-rc.d: could not determine current runlevel\n",
            "invoke-rc.d: policy-rc.d denied execution of start.\n",
            "Created symlink /etc/systemd/system/multi-user.target.wants/cron.service → /lib/systemd/system/cron.service.\n",
            "Setting up libcommon-sense-perl (3.74-2build6) ...\n",
            "Setting up ssl-cert (1.0.39) ...\n",
            "debconf: unable to initialize frontend: Dialog\n",
            "debconf: (No usable dialog-like program is installed, so the dialog based frontend cannot be used. at /usr/share/perl5/Debconf/FrontEnd/Dialog.pm line 76.)\n",
            "debconf: falling back to frontend: Readline\n",
            "Setting up libtypes-serialiser-perl (1.0-1) ...\n",
            "Setting up libjson-perl (4.02000-2) ...\n",
            "Setting up netbase (6.1) ...\n",
            "Setting up sysstat (12.2.0-2ubuntu0.2) ...\n",
            "debconf: unable to initialize frontend: Dialog\n",
            "debconf: (No usable dialog-like program is installed, so the dialog based frontend cannot be used. at /usr/share/perl5/Debconf/FrontEnd/Dialog.pm line 76.)\n",
            "debconf: falling back to frontend: Readline\n",
            "\n",
            "Creating config file /etc/default/sysstat with new version\n",
            "update-alternatives: using /usr/bin/sar.sysstat to provide /usr/bin/sar (sar) in auto mode\n",
            "Created symlink /etc/systemd/system/multi-user.target.wants/sysstat.service → /lib/systemd/system/sysstat.service.\n",
            "Setting up postgresql-client-common (246.pgdg20.04+1) ...\n",
            "Setting up libjson-xs-perl (4.020-1build1) ...\n",
            "Setting up postgresql-client-11 (11.18-1.pgdg20.04+1) ...\n",
            "update-alternatives: using /usr/share/postgresql/11/man/man1/psql.1.gz to provide /usr/share/man/man1/psql.1.gz (psql.1.gz) in auto mode\n",
            "Setting up postgresql-common (246.pgdg20.04+1) ...\n",
            "debconf: unable to initialize frontend: Dialog\n",
            "debconf: (No usable dialog-like program is installed, so the dialog based frontend cannot be used. at /usr/share/perl5/Debconf/FrontEnd/Dialog.pm line 76.)\n",
            "debconf: falling back to frontend: Readline\n",
            "Adding user postgres to group ssl-cert\n",
            "\n",
            "Creating config file /etc/postgresql-common/createcluster.conf with new version\n",
            "Building PostgreSQL dictionaries from installed myspell/hunspell packages...\n",
            "  en_us\n",
            "Removing obsolete dictionary files:\n",
            "'/etc/apt/trusted.gpg.d/apt.postgresql.org.gpg' -> '/usr/share/postgresql-common/pgdg/apt.postgresql.org.gpg'\n",
            "invoke-rc.d: could not determine current runlevel\n",
            "invoke-rc.d: policy-rc.d denied execution of start.\n",
            "Created symlink /etc/systemd/system/multi-user.target.wants/postgresql.service → /lib/systemd/system/postgresql.service.\n",
            "Setting up postgresql-11 (11.18-1.pgdg20.04+1) ...\n",
            "debconf: unable to initialize frontend: Dialog\n",
            "debconf: (No usable dialog-like program is installed, so the dialog based frontend cannot be used. at /usr/share/perl5/Debconf/FrontEnd/Dialog.pm line 76.)\n",
            "debconf: falling back to frontend: Readline\n",
            "Creating new PostgreSQL cluster 11/main ...\n",
            "/usr/lib/postgresql/11/bin/initdb -D /var/lib/postgresql/11/main --auth-local peer --auth-host md5\n",
            "The files belonging to this database system will be owned by user \"postgres\".\n",
            "This user must also own the server process.\n",
            "\n",
            "The database cluster will be initialized with locale \"en_US.UTF-8\".\n",
            "The default database encoding has accordingly been set to \"UTF8\".\n",
            "The default text search configuration will be set to \"english\".\n",
            "\n",
            "Data page checksums are disabled.\n",
            "\n",
            "fixing permissions on existing directory /var/lib/postgresql/11/main ... ok\n",
            "creating subdirectories ... ok\n",
            "selecting default max_connections ... 100\n",
            "selecting default shared_buffers ... 128MB\n",
            "selecting default timezone ... Etc/UTC\n",
            "selecting dynamic shared memory implementation ... posix\n",
            "creating configuration files ... ok\n",
            "running bootstrap script ... ok\n",
            "performing post-bootstrap initialization ... ok\n",
            "syncing data to disk ... ok\n",
            "\n",
            "Success. You can now start the database server using:\n",
            "\n",
            "    pg_ctlcluster 11 main start\n",
            "\n",
            "update-alternatives: using /usr/share/postgresql/11/man/man1/postmaster.1.gz to provide /usr/share/man/man1/postmaster.1.gz (postmaster.1.gz) in auto mode\n",
            "invoke-rc.d: could not determine current runlevel\n",
            "invoke-rc.d: policy-rc.d denied execution of start.\n",
            "Processing triggers for man-db (2.9.1-1) ...\n",
            "Processing triggers for systemd (245.4-4ubuntu3.19) ...\n",
            " * Starting PostgreSQL 11 database server\n",
            "   ...done.\n",
            "ALTER ROLE\n",
            "NOTICE:  database \"donors_choose\" does not exist, skipping\n",
            "DROP DATABASE\n",
            "CREATE DATABASE\n",
            "env: DEMO_DATABASE_NAME=donors_choose\n",
            "env: DEMO_DATABASE_HOST=localhost\n",
            "env: DEMO_DATABASE_PORT=5432\n",
            "DROP DATABASE\n",
            "CREATE DATABASE\n",
            "env: DEMO_DATABASE_NAME=donors_choose\n",
            "env: DEMO_DATABASE_HOST=localhost\n",
            "env: DEMO_DATABASE_PORT=5432\n",
            "env: DEMO_DATABASE_USER=postgres\n",
            "env: DEMO_DATABASE_PASS=postgres\n"
          ]
        }
      ],
      "source": [
        "# Install and start postgresql-11 server\n",
        "!sudo apt-get -y -qq update\n",
        "!wget --quiet -O - https://www.postgresql.org/media/keys/ACCC4CF8.asc | sudo apt-key add -\n",
        "!echo \"deb http://apt.postgresql.org/pub/repos/apt/ `lsb_release -cs`-pgdg main\" |sudo tee  /etc/apt/sources.list.d/pgdg.list\n",
        "!sudo apt-get -y -qq update\n",
        "!sudo apt-get -y -qq install postgresql-11 postgresql-client-11\n",
        "!sudo service postgresql start\n",
        "\n",
        "# Setup a password `postgres` for username `postgres`\n",
        "!sudo -u postgres psql -U postgres -c \"ALTER USER postgres PASSWORD 'postgres';\"\n",
        "\n",
        "# Setup a database with name `donors_choose` to be used\n",
        "!sudo -u postgres psql -U postgres -c 'DROP DATABASE IF EXISTS donors_choose;'\n",
        "\n",
        "!sudo -u postgres psql -U postgres -c 'CREATE DATABASE donors_choose;'\n",
        "\n",
        "# Environment variables for connecting to the database\n",
        "%env DEMO_DATABASE_NAME=donors_choose\n",
        "%env DEMO_DATABASE_HOST=localhost\n",
        "%env DEMO_DATABASE_PORT=5432\n",
        "\n",
        "# Setup a database with name `donors_choose` to be used\n",
        "!sudo -u postgres psql -U postgres -c 'DROP DATABASE IF EXISTS donors_choose;'\n",
        "\n",
        "!sudo -u postgres psql -U postgres -c 'CREATE DATABASE donors_choose;'\n",
        "\n",
        "# Environment variables for connecting to the database\n",
        "%env DEMO_DATABASE_NAME=donors_choose\n",
        "%env DEMO_DATABASE_HOST=localhost\n",
        "%env DEMO_DATABASE_PORT=5432\n",
        "%env DEMO_DATABASE_USER=postgres\n",
        "%env DEMO_DATABASE_PASS=postgres"
      ]
    },
    {
      "cell_type": "code",
      "execution_count": 2,
      "metadata": {
        "colab": {
          "base_uri": "https://localhost:8080/"
        },
        "id": "t4ZA3QYJ8sW3",
        "outputId": "83063bce-9064-44e6-fefd-cc25e23dbee5"
      },
      "outputs": [
        {
          "output_type": "stream",
          "name": "stdout",
          "text": [
            "Looking in indexes: https://pypi.org/simple, https://us-python.pkg.dev/colab-wheels/public/simple/\n",
            "Requirement already satisfied: kaggle in /usr/local/lib/python3.8/dist-packages (1.5.12)\n",
            "Requirement already satisfied: requests in /usr/local/lib/python3.8/dist-packages (from kaggle) (2.25.1)\n",
            "Requirement already satisfied: urllib3 in /usr/local/lib/python3.8/dist-packages (from kaggle) (1.24.3)\n",
            "Requirement already satisfied: tqdm in /usr/local/lib/python3.8/dist-packages (from kaggle) (4.64.1)\n",
            "Requirement already satisfied: six>=1.10 in /usr/local/lib/python3.8/dist-packages (from kaggle) (1.15.0)\n",
            "Requirement already satisfied: certifi in /usr/local/lib/python3.8/dist-packages (from kaggle) (2022.12.7)\n",
            "Requirement already satisfied: python-slugify in /usr/local/lib/python3.8/dist-packages (from kaggle) (8.0.0)\n",
            "Requirement already satisfied: python-dateutil in /usr/local/lib/python3.8/dist-packages (from kaggle) (2.8.2)\n",
            "Requirement already satisfied: text-unidecode>=1.3 in /usr/local/lib/python3.8/dist-packages (from python-slugify->kaggle) (1.3)\n",
            "Requirement already satisfied: chardet<5,>=3.0.2 in /usr/local/lib/python3.8/dist-packages (from requests->kaggle) (4.0.0)\n",
            "Requirement already satisfied: idna<3,>=2.5 in /usr/local/lib/python3.8/dist-packages (from requests->kaggle) (2.10)\n",
            "Downloading kdd-cup-2014-predicting-excitement-at-donors-choose.zip to /content\n",
            "100% 924M/926M [00:31<00:00, 28.1MB/s]\n",
            "100% 926M/926M [00:31<00:00, 30.9MB/s]\n"
          ]
        }
      ],
      "source": [
        "!pip install kaggle\n",
        "\n",
        "!mkdir /root/.kaggle\n",
        "!touch /root/.kaggle/kaggle.json\n",
        "api_token = {\"username\":\"ploped123\",\"key\":\"eeeeba8fc52706723e4c1bcf41ae6fd3\"}\n",
        "\n",
        "import json\n",
        "import zipfile\n",
        "import os\n",
        "import pandas as pd\n",
        "with open('/root/.kaggle/kaggle.json', 'w') as file:\n",
        "    json.dump(api_token, file)\n",
        "\n",
        "!chmod 600 /root/.kaggle/kaggle.json\n",
        "\n",
        "!kaggle competitions download -c kdd-cup-2014-predicting-excitement-at-donors-choose"
      ]
    },
    {
      "cell_type": "code",
      "execution_count": 3,
      "metadata": {
        "colab": {
          "base_uri": "https://localhost:8080/"
        },
        "id": "HunBQJMX9gPN",
        "outputId": "7147216e-8f7f-48bb-be9b-ab53dd324f2b"
      },
      "outputs": [
        {
          "output_type": "stream",
          "name": "stdout",
          "text": [
            "kdd-cup-2014-predicting-excitement-at-donors-choose.zip  sample_data\n"
          ]
        }
      ],
      "source": [
        "!ls /content"
      ]
    },
    {
      "cell_type": "code",
      "execution_count": 4,
      "metadata": {
        "colab": {
          "base_uri": "https://localhost:8080/"
        },
        "id": "76VVzgwkKbli",
        "outputId": "e7e8a36d-2903-4f8d-9af6-862b2e9374f5"
      },
      "outputs": [
        {
          "output_type": "stream",
          "name": "stdout",
          "text": [
            "Archive:  /content/kdd-cup-2014-predicting-excitement-at-donors-choose.zip\n",
            "  inflating: donations.csv.zip       \n",
            "  inflating: essays.csv.zip          \n",
            "  inflating: outcomes.csv.zip        \n",
            "  inflating: projects.csv.zip        \n",
            "  inflating: resources.csv.zip       \n",
            "  inflating: sampleSubmission.csv.zip  \n"
          ]
        }
      ],
      "source": [
        "!unzip /content/kdd-cup-2014-predicting-excitement-at-donors-choose.zip"
      ]
    },
    {
      "cell_type": "code",
      "execution_count": 5,
      "metadata": {
        "colab": {
          "base_uri": "https://localhost:8080/"
        },
        "id": "mK_ns8iP9jSM",
        "outputId": "af66febe-b891-4023-f907-e8f92e3073c1"
      },
      "outputs": [
        {
          "output_type": "stream",
          "name": "stdout",
          "text": [
            "Archive:  /content/donations.csv.zip\n",
            "  inflating: donations.csv           \n"
          ]
        }
      ],
      "source": [
        "!unzip /content/donations.csv.zip"
      ]
    },
    {
      "cell_type": "code",
      "execution_count": 6,
      "metadata": {
        "colab": {
          "base_uri": "https://localhost:8080/"
        },
        "id": "cDEORpu4-Glu",
        "outputId": "7d07835a-8cfd-4c8b-8a55-13d16c508fd3"
      },
      "outputs": [
        {
          "output_type": "stream",
          "name": "stdout",
          "text": [
            "Archive:  /content/projects.csv.zip\n",
            "  inflating: projects.csv            \n"
          ]
        }
      ],
      "source": [
        "!unzip /content/projects.csv.zip"
      ]
    },
    {
      "cell_type": "code",
      "execution_count": 7,
      "metadata": {
        "id": "dDwjqJp-92WB"
      },
      "outputs": [],
      "source": [
        "full_donations = pd.read_csv(\"/content/donations.csv\")\n",
        "full_projects = pd.read_csv(\"/content/projects.csv\")"
      ]
    },
    {
      "cell_type": "code",
      "execution_count": 8,
      "metadata": {
        "id": "8LZDfVxULbz8"
      },
      "outputs": [],
      "source": [
        "from datetime import timedelta"
      ]
    },
    {
      "cell_type": "markdown",
      "metadata": {
        "id": "7wEKl_gyM1Eh"
      },
      "source": [
        "## Calculating base rate on full dataset"
      ]
    },
    {
      "cell_type": "code",
      "execution_count": 9,
      "metadata": {
        "id": "GpeZ5PXWLQPV"
      },
      "outputs": [],
      "source": [
        "a = pd.merge(full_projects, full_donations, on=['projectid'], how='left')\n",
        "a['in_4_months'] = (pd.to_datetime(a['donation_timestamp']) - pd.to_datetime(a['date_posted'])) < timedelta(days=120)\n",
        "values = {'donation_to_project': 0.0}\n",
        "a = a.fillna(value=values)\n",
        "a.loc[a['in_4_months'] == False, 'donation_to_project'] = 0.0\n",
        "donation_in_4_months = a.groupby(['projectid'])['donation_to_project'].sum().reset_index(name='donation_in_4_months')\n",
        "df = pd.merge(full_projects, donation_in_4_months, on=['projectid'], how='left')\n"
      ]
    },
    {
      "cell_type": "code",
      "execution_count": 10,
      "metadata": {
        "colab": {
          "base_uri": "https://localhost:8080/"
        },
        "id": "YvIcSIe8LzQK",
        "outputId": "55cb0da6-b4fc-4b7c-9f2a-bfb3fc402f71"
      },
      "outputs": [
        {
          "output_type": "stream",
          "name": "stdout",
          "text": [
            "Baserate % projects fully funded: 0.5480215269433126\n"
          ]
        }
      ],
      "source": [
        "df['if_fully_funded_after_4_months'] = df['total_price_excluding_optional_support'] <= df['donation_in_4_months']\n",
        "df['if_fully_funded_after_4_months'].value_counts()\n",
        "print(\"Baserate % projects fully funded:\", df['if_fully_funded_after_4_months'].mean())"
      ]
    },
    {
      "cell_type": "markdown",
      "source": [
        "# Baseline 1: 10% of projects that have the largest total ask amount"
      ],
      "metadata": {
        "id": "afN-_H2S3V48"
      }
    },
    {
      "cell_type": "code",
      "source": [
        "df_select = df.sort_values(\"total_price_excluding_optional_support\", ascending=False)[\"if_fully_funded_after_4_months\"].to_list()[:df.shape[0]//10]\n",
        "tp = 1 - sum(df_select)/len(df_select)\n",
        "print(f\"Among the 10% of projects with the largest total ask amount, {tp*100}% are not fully funded after 4 months.\")"
      ],
      "metadata": {
        "colab": {
          "base_uri": "https://localhost:8080/"
        },
        "id": "wTZgy5tO3VLn",
        "outputId": "c85680a4-53a9-4b97-9f8b-8d7d3dad003c"
      },
      "execution_count": 11,
      "outputs": [
        {
          "output_type": "stream",
          "name": "stdout",
          "text": [
            "Among the 10% of projects with the largest total ask amount, 63.34683551928202% are not fully funded after 4 months.\n"
          ]
        }
      ]
    },
    {
      "cell_type": "markdown",
      "source": [
        "# Baseline 2: 10% of projects that impact the smallest number of students per dollar requested"
      ],
      "metadata": {
        "id": "E5GP9yRx-Lum"
      }
    },
    {
      "cell_type": "code",
      "source": [
        "df['children_helped_per_dollar'] = df['students_reached']/df['total_price_excluding_optional_support']\n",
        "df_select = df.sort_values(\"children_helped_per_dollar\")[\"if_fully_funded_after_4_months\"].to_list()[:df.shape[0]//10]\n",
        "tp = 1 - sum(df_select)/len(df_select)\n",
        "print(f\"Among the 10% of projects that impact the smallest number of students per dollar requested, {tp*100}% are not fully funded after 4 months.\")"
      ],
      "metadata": {
        "colab": {
          "base_uri": "https://localhost:8080/"
        },
        "id": "S-Hh3Ure-PvE",
        "outputId": "c320f1e1-f8f6-4ffa-9f41-5d2fe4b919ec"
      },
      "execution_count": 12,
      "outputs": [
        {
          "output_type": "stream",
          "name": "stdout",
          "text": [
            "Among the 10% of projects that impact the smallest number of students per dollar requested, 56.67002966465389% are not fully funded after 4 months.\n"
          ]
        }
      ]
    },
    {
      "cell_type": "markdown",
      "source": [
        "# Baseline 3: 10% of projects that had the lowest donations in the first month, ties broken by smallest children/dollar impact"
      ],
      "metadata": {
        "id": "IEKgzyzHV5b4"
      }
    },
    {
      "cell_type": "code",
      "source": [
        "a = pd.merge(full_projects, full_donations, on=['projectid'], how='left')\n",
        "a['in_4_months'] = (pd.to_datetime(a['donation_timestamp']) - pd.to_datetime(a['date_posted'])) < timedelta(days=120)\n",
        "a['in_1_months'] = (pd.to_datetime(a['donation_timestamp']) - pd.to_datetime(a['date_posted'])) < timedelta(days=30)\n",
        "a['donation_1mo'] = a['donation_to_project'].values\n",
        "values = {'donation_to_project': 0.0}\n",
        "a = a.fillna(value=values)\n",
        "a.loc[a['in_4_months'] == False, 'donation_to_project'] = 0.0\n",
        "a.loc[a['in_1_months'] == False, 'donation_1mo'] = 0.0\n",
        "donation_in_4_months = a.groupby(['projectid'])['donation_to_project'].sum().reset_index(name='donation_in_4_months')\n",
        "donation_in_1_months = a.groupby(['projectid'])['donation_1mo'].sum().reset_index(name='donation_in_1_months')\n",
        "df = pd.merge(full_projects, donation_in_4_months, on=['projectid'], how='left')\n",
        "df = pd.merge(df, donation_in_1_months, on=['projectid'], how='left')\n",
        "df['pct_funded_1mo'] = df['donation_in_1_months'] / df['total_price_excluding_optional_support']\n",
        "df['children_helped_per_dollar'] = df['students_reached']/df['total_price_excluding_optional_support']\n",
        "\n",
        "df['if_fully_funded_after_4_months'] = df['total_price_excluding_optional_support'] <= df['donation_in_4_months']\n",
        "df['if_fully_funded_after_4_months'].value_counts()\n",
        "\n",
        "df_select = df.sort_values([\"pct_funded_1mo\", \"children_helped_per_dollar\"])[\"if_fully_funded_after_4_months\"].to_list()[:df.shape[0]//10]\n",
        "tp = 1 - sum(df_select)/len(df_select)\n",
        "print(f\"Among the 10% of projects that impact the smallest number of students per dollar requested, {tp*100}% are not fully funded after 4 months.\")"
      ],
      "metadata": {
        "colab": {
          "base_uri": "https://localhost:8080/"
        },
        "id": "DNU29Hf9V3Fb",
        "outputId": "6076eae6-e2f7-49df-8da5-ed2abf7872ab"
      },
      "execution_count": 19,
      "outputs": [
        {
          "output_type": "stream",
          "name": "stdout",
          "text": [
            "Among the 10% of projects that impact the smallest number of students per dollar requested, 81.28416329112018% are not fully funded after 4 months.\n"
          ]
        }
      ]
    },
    {
      "cell_type": "code",
      "source": [],
      "metadata": {
        "id": "7cN72_CGXk4z"
      },
      "execution_count": null,
      "outputs": []
    }
  ],
  "metadata": {
    "colab": {
      "provenance": []
    },
    "kernelspec": {
      "display_name": "Python 3",
      "language": "python",
      "name": "python3"
    },
    "language_info": {
      "codemirror_mode": {
        "name": "ipython",
        "version": 3
      },
      "file_extension": ".py",
      "mimetype": "text/x-python",
      "name": "python",
      "nbconvert_exporter": "python",
      "pygments_lexer": "ipython3",
      "version": "3.8.5"
    }
  },
  "nbformat": 4,
  "nbformat_minor": 0
}