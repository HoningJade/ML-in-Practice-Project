{
  "nbformat": 4,
  "nbformat_minor": 0,
  "metadata": {
    "colab": {
      "provenance": []
    },
    "kernelspec": {
      "name": "python3",
      "display_name": "Python 3"
    },
    "language_info": {
      "name": "python"
    }
  },
  "cells": [
    {
      "cell_type": "markdown",
      "source": [
        "### The Modeling Problem\n",
        "\n",
        "We assume that DonorsChoose has hired a digital content expert who will review projects and help teachers improve their postings and increase their chances of reaching their funding threshold. Because this individualized review is a labor-intensive process, the digital content expert has ** time to review and support only 10% of the projects posted to the platform on a given day**. \n",
        "\n",
        "Our task is to help this content expert focus their limited resources on projects that most need the help. As such, we want to build a model to **identify projects that are least likely to be fully funded before they expire**  and pass them off to the digital content expert for review.\n"
      ],
      "metadata": {
        "id": "Zw1i3ELeKDLD"
      }
    },
    {
      "cell_type": "markdown",
      "source": [
        "# Getting Set Up"
      ],
      "metadata": {
        "id": "BjRBddip6lPI"
      }
    },
    {
      "cell_type": "code",
      "execution_count": 1,
      "metadata": {
        "id": "iY8dwqamIIQc",
        "colab": {
          "base_uri": "https://localhost:8080/"
        },
        "outputId": "0157c65a-fd45-4908-da00-07fceb57554f"
      },
      "outputs": [
        {
          "output_type": "stream",
          "name": "stdout",
          "text": [
            "Looking in indexes: https://pypi.org/simple, https://us-python.pkg.dev/colab-wheels/public/simple/\n",
            "Requirement already satisfied: kaggle in /usr/local/lib/python3.8/dist-packages (1.5.12)\n",
            "Requirement already satisfied: python-dateutil in /usr/local/lib/python3.8/dist-packages (from kaggle) (2.8.2)\n",
            "Requirement already satisfied: certifi in /usr/local/lib/python3.8/dist-packages (from kaggle) (2022.12.7)\n",
            "Requirement already satisfied: requests in /usr/local/lib/python3.8/dist-packages (from kaggle) (2.25.1)\n",
            "Requirement already satisfied: tqdm in /usr/local/lib/python3.8/dist-packages (from kaggle) (4.64.1)\n",
            "Requirement already satisfied: python-slugify in /usr/local/lib/python3.8/dist-packages (from kaggle) (7.0.0)\n",
            "Requirement already satisfied: urllib3 in /usr/local/lib/python3.8/dist-packages (from kaggle) (1.24.3)\n",
            "Requirement already satisfied: six>=1.10 in /usr/local/lib/python3.8/dist-packages (from kaggle) (1.15.0)\n",
            "Requirement already satisfied: text-unidecode>=1.3 in /usr/local/lib/python3.8/dist-packages (from python-slugify->kaggle) (1.3)\n",
            "Requirement already satisfied: idna<3,>=2.5 in /usr/local/lib/python3.8/dist-packages (from requests->kaggle) (2.10)\n",
            "Requirement already satisfied: chardet<5,>=3.0.2 in /usr/local/lib/python3.8/dist-packages (from requests->kaggle) (4.0.0)\n",
            "Downloading kdd-cup-2014-predicting-excitement-at-donors-choose.zip to /content\n",
            "100% 922M/926M [00:11<00:00, 112MB/s] \n",
            "100% 926M/926M [00:11<00:00, 81.4MB/s]\n"
          ]
        }
      ],
      "source": [
        "!pip install kaggle\n",
        "\n",
        "!mkdir /root/.kaggle\n",
        "!touch /root/.kaggle/kaggle.json\n",
        "api_token = {\"username\":\"ploped123\",\"key\":\"eeeeba8fc52706723e4c1bcf41ae6fd3\"}\n",
        "\n",
        "import json\n",
        "import zipfile\n",
        "import os\n",
        "with open('/root/.kaggle/kaggle.json', 'w') as file:\n",
        "    json.dump(api_token, file)\n",
        "\n",
        "!chmod 600 /root/.kaggle/kaggle.json\n",
        "\n",
        "!kaggle competitions download -c kdd-cup-2014-predicting-excitement-at-donors-choose"
      ]
    },
    {
      "cell_type": "code",
      "source": [
        "import zipfile\n",
        "\n",
        "z= zipfile.ZipFile('kdd-cup-2014-predicting-excitement-at-donors-choose.zip')\n",
        "z.extractall(\"/\")"
      ],
      "metadata": {
        "id": "1GhPIebQN29g"
      },
      "execution_count": 5,
      "outputs": []
    },
    {
      "cell_type": "code",
      "source": [
        "import pandas as pd\n",
        "pd.set_option('display.max_columns', None)"
      ],
      "metadata": {
        "id": "ZIZEHiMpANsU"
      },
      "execution_count": 7,
      "outputs": []
    },
    {
      "cell_type": "code",
      "source": [
        "donations_df = pd.read_csv(\"donations.csv.zip\")\n",
        "projects_df = pd.read_csv(\"projects.csv.zip\")"
      ],
      "metadata": {
        "id": "-PpEvZf4B5Rk"
      },
      "execution_count": 9,
      "outputs": []
    },
    {
      "cell_type": "markdown",
      "source": [
        "# Getting the Baseline Rate"
      ],
      "metadata": {
        "id": "RBZOnL7UQ-mj"
      }
    },
    {
      "cell_type": "code",
      "source": [
        "from datetime import timedelta\n",
        "donations_df['donation_timestamp'] = pd.to_datetime(donations_df.donation_timestamp)\n",
        "projects_df['date_posted'] = pd.to_datetime(projects_df.date_posted)\n",
        "\n",
        "a = pd.merge(projects_df, donations_df, on=['projectid'], how='left')\n",
        "a['in_4_months'] = (a['donation_timestamp'] - a['date_posted']) < timedelta(days=120)\n",
        "\n",
        "values = {\"donation_to_project\": 0.0}\n",
        "a = a.fillna(value=values)\n",
        "a.loc[a['in_4_months'] == False, 'donation_to_project'] = 0.0\n",
        "\n",
        "donation_in_4_months = a.groupby(['projectid'])['donation_to_project'].sum().reset_index(name='donation_in_4_months')\n",
        "df = pd.merge(projects_df, donation_in_4_months, on=['projectid'], how='left')\n",
        "df['if_fully_funded_after_4_months'] = df['total_price_excluding_optional_support'] <= df['donation_in_4_months']\n",
        "df['if_fully_funded_after_4_months'].value_counts()"
      ],
      "metadata": {
        "colab": {
          "base_uri": "https://localhost:8080/"
        },
        "id": "iUdzN-BkNM6Y",
        "outputId": "c705709c-38b4-4c84-8e5f-7995d487f03b"
      },
      "execution_count": 10,
      "outputs": [
        {
          "output_type": "execute_result",
          "data": {
            "text/plain": [
              "True     363940\n",
              "False    300158\n",
              "Name: if_fully_funded_after_4_months, dtype: int64"
            ]
          },
          "metadata": {},
          "execution_count": 10
        }
      ]
    },
    {
      "cell_type": "code",
      "source": [
        "ratio = df['if_fully_funded_after_4_months'].value_counts()[1] / (df['if_fully_funded_after_4_months'].value_counts()[0] + df['if_fully_funded_after_4_months'].value_counts()[1])\n",
        "print(\"Percentage of projects that are fully funded is: %.2f\" % (ratio*100) + \"%\")"
      ],
      "metadata": {
        "colab": {
          "base_uri": "https://localhost:8080/"
        },
        "id": "h84yIMkhRa6w",
        "outputId": "685bad7f-7ada-4022-956a-4f2f54e603d5"
      },
      "execution_count": 28,
      "outputs": [
        {
          "output_type": "stream",
          "name": "stdout",
          "text": [
            "Percentage of projects that are fully funded is: 54.80%\n"
          ]
        }
      ]
    }
  ]
}