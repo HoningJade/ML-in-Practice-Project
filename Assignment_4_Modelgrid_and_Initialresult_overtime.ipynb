{
  "cells": [
    {
      "cell_type": "markdown",
      "metadata": {
        "id": "MygD9O0cNBh6"
      },
      "source": [
        "# Baselines and Formulation\n"
      ]
    },
    {
      "cell_type": "markdown",
      "metadata": {
        "id": "1x6jG72qJqct"
      },
      "source": [
        "## Data Preparation"
      ]
    },
    {
      "cell_type": "code",
      "execution_count": 1,
      "metadata": {
        "id": "dDwjqJp-92WB"
      },
      "outputs": [],
      "source": [
        "import json\n",
        "import zipfile\n",
        "import os\n",
        "import pandas as pd\n",
        "import numpy as np"
      ]
    },
    {
      "cell_type": "code",
      "execution_count": 1,
      "metadata": {
        "colab": {
          "base_uri": "https://localhost:8080/"
        },
        "id": "iY8dwqamIIQc",
        "outputId": "2de853b7-46ff-4d80-cebe-f3719550fa66"
      },
      "outputs": [
        {
          "output_type": "stream",
          "name": "stdout",
          "text": [
            "OK\n",
            "deb http://apt.postgresql.org/pub/repos/apt/ focal-pgdg main\n",
            "debconf: unable to initialize frontend: Dialog\n",
            "debconf: (No usable dialog-like program is installed, so the dialog based frontend cannot be used. at /usr/share/perl5/Debconf/FrontEnd/Dialog.pm line 76, <> line 13.)\n",
            "debconf: falling back to frontend: Readline\n",
            "debconf: unable to initialize frontend: Readline\n",
            "debconf: (This frontend requires a controlling tty.)\n",
            "debconf: falling back to frontend: Teletype\n",
            "dpkg-preconfigure: unable to re-open stdin: \n",
            "Selecting previously unselected package cron.\n",
            "(Reading database ... 128126 files and directories currently installed.)\n",
            "Preparing to unpack .../00-cron_3.0pl1-136ubuntu1_amd64.deb ...\n",
            "Unpacking cron (3.0pl1-136ubuntu1) ...\n",
            "Selecting previously unselected package libjson-perl.\n",
            "Preparing to unpack .../01-libjson-perl_4.02000-2_all.deb ...\n",
            "Unpacking libjson-perl (4.02000-2) ...\n",
            "Selecting previously unselected package netbase.\n",
            "Preparing to unpack .../02-netbase_6.1_all.deb ...\n",
            "Unpacking netbase (6.1) ...\n",
            "Selecting previously unselected package postgresql-client-common.\n",
            "Preparing to unpack .../03-postgresql-client-common_247.pgdg20.04+1_all.deb ...\n",
            "Unpacking postgresql-client-common (247.pgdg20.04+1) ...\n",
            "Selecting previously unselected package ssl-cert.\n",
            "Preparing to unpack .../04-ssl-cert_1.0.39_all.deb ...\n",
            "Unpacking ssl-cert (1.0.39) ...\n",
            "Selecting previously unselected package postgresql-common.\n",
            "Preparing to unpack .../05-postgresql-common_247.pgdg20.04+1_all.deb ...\n",
            "Adding 'diversion of /usr/bin/pg_config to /usr/bin/pg_config.libpq-dev by postgresql-common'\n",
            "Unpacking postgresql-common (247.pgdg20.04+1) ...\n",
            "Selecting previously unselected package logrotate.\n",
            "Preparing to unpack .../06-logrotate_3.14.0-4ubuntu3_amd64.deb ...\n",
            "Unpacking logrotate (3.14.0-4ubuntu3) ...\n",
            "Selecting previously unselected package libcommon-sense-perl.\n",
            "Preparing to unpack .../07-libcommon-sense-perl_3.74-2build6_amd64.deb ...\n",
            "Unpacking libcommon-sense-perl (3.74-2build6) ...\n",
            "Selecting previously unselected package libtypes-serialiser-perl.\n",
            "Preparing to unpack .../08-libtypes-serialiser-perl_1.0-1_all.deb ...\n",
            "Unpacking libtypes-serialiser-perl (1.0-1) ...\n",
            "Selecting previously unselected package libjson-xs-perl.\n",
            "Preparing to unpack .../09-libjson-xs-perl_4.020-1build1_amd64.deb ...\n",
            "Unpacking libjson-xs-perl (4.020-1build1) ...\n",
            "Selecting previously unselected package postgresql-client-11.\n",
            "Preparing to unpack .../10-postgresql-client-11_11.19-1.pgdg20.04+1_amd64.deb ...\n",
            "Unpacking postgresql-client-11 (11.19-1.pgdg20.04+1) ...\n",
            "Selecting previously unselected package postgresql-11.\n",
            "Preparing to unpack .../11-postgresql-11_11.19-1.pgdg20.04+1_amd64.deb ...\n",
            "Unpacking postgresql-11 (11.19-1.pgdg20.04+1) ...\n",
            "Selecting previously unselected package sysstat.\n",
            "Preparing to unpack .../12-sysstat_12.2.0-2ubuntu0.2_amd64.deb ...\n",
            "Unpacking sysstat (12.2.0-2ubuntu0.2) ...\n",
            "Setting up logrotate (3.14.0-4ubuntu3) ...\n",
            "Created symlink /etc/systemd/system/timers.target.wants/logrotate.timer → /lib/systemd/system/logrotate.timer.\n",
            "Setting up cron (3.0pl1-136ubuntu1) ...\n",
            "Adding group `crontab' (GID 113) ...\n",
            "Done.\n",
            "invoke-rc.d: could not determine current runlevel\n",
            "invoke-rc.d: policy-rc.d denied execution of start.\n",
            "Created symlink /etc/systemd/system/multi-user.target.wants/cron.service → /lib/systemd/system/cron.service.\n",
            "Setting up libcommon-sense-perl (3.74-2build6) ...\n",
            "Setting up ssl-cert (1.0.39) ...\n",
            "debconf: unable to initialize frontend: Dialog\n",
            "debconf: (No usable dialog-like program is installed, so the dialog based frontend cannot be used. at /usr/share/perl5/Debconf/FrontEnd/Dialog.pm line 76.)\n",
            "debconf: falling back to frontend: Readline\n",
            "Setting up libtypes-serialiser-perl (1.0-1) ...\n",
            "Setting up libjson-perl (4.02000-2) ...\n",
            "Setting up netbase (6.1) ...\n",
            "Setting up sysstat (12.2.0-2ubuntu0.2) ...\n",
            "debconf: unable to initialize frontend: Dialog\n",
            "debconf: (No usable dialog-like program is installed, so the dialog based frontend cannot be used. at /usr/share/perl5/Debconf/FrontEnd/Dialog.pm line 76.)\n",
            "debconf: falling back to frontend: Readline\n",
            "\n",
            "Creating config file /etc/default/sysstat with new version\n",
            "update-alternatives: using /usr/bin/sar.sysstat to provide /usr/bin/sar (sar) in auto mode\n",
            "Created symlink /etc/systemd/system/multi-user.target.wants/sysstat.service → /lib/systemd/system/sysstat.service.\n",
            "Setting up postgresql-client-common (247.pgdg20.04+1) ...\n",
            "Setting up libjson-xs-perl (4.020-1build1) ...\n",
            "Setting up postgresql-client-11 (11.19-1.pgdg20.04+1) ...\n",
            "update-alternatives: using /usr/share/postgresql/11/man/man1/psql.1.gz to provide /usr/share/man/man1/psql.1.gz (psql.1.gz) in auto mode\n",
            "Setting up postgresql-common (247.pgdg20.04+1) ...\n",
            "debconf: unable to initialize frontend: Dialog\n",
            "debconf: (No usable dialog-like program is installed, so the dialog based frontend cannot be used. at /usr/share/perl5/Debconf/FrontEnd/Dialog.pm line 76.)\n",
            "debconf: falling back to frontend: Readline\n",
            "Adding user postgres to group ssl-cert\n",
            "\n",
            "Creating config file /etc/postgresql-common/createcluster.conf with new version\n",
            "Building PostgreSQL dictionaries from installed myspell/hunspell packages...\n",
            "  en_us\n",
            "Removing obsolete dictionary files:\n",
            "'/etc/apt/trusted.gpg.d/apt.postgresql.org.gpg' -> '/usr/share/postgresql-common/pgdg/apt.postgresql.org.gpg'\n",
            "invoke-rc.d: could not determine current runlevel\n",
            "invoke-rc.d: policy-rc.d denied execution of start.\n",
            "Created symlink /etc/systemd/system/multi-user.target.wants/postgresql.service → /lib/systemd/system/postgresql.service.\n",
            "Setting up postgresql-11 (11.19-1.pgdg20.04+1) ...\n",
            "debconf: unable to initialize frontend: Dialog\n",
            "debconf: (No usable dialog-like program is installed, so the dialog based frontend cannot be used. at /usr/share/perl5/Debconf/FrontEnd/Dialog.pm line 76.)\n",
            "debconf: falling back to frontend: Readline\n",
            "Creating new PostgreSQL cluster 11/main ...\n",
            "/usr/lib/postgresql/11/bin/initdb -D /var/lib/postgresql/11/main --auth-local peer --auth-host md5\n",
            "The files belonging to this database system will be owned by user \"postgres\".\n",
            "This user must also own the server process.\n",
            "\n",
            "The database cluster will be initialized with locale \"en_US.UTF-8\".\n",
            "The default database encoding has accordingly been set to \"UTF8\".\n",
            "The default text search configuration will be set to \"english\".\n",
            "\n",
            "Data page checksums are disabled.\n",
            "\n",
            "fixing permissions on existing directory /var/lib/postgresql/11/main ... ok\n",
            "creating subdirectories ... ok\n",
            "selecting default max_connections ... 100\n",
            "selecting default shared_buffers ... 128MB\n",
            "selecting default timezone ... Etc/UTC\n",
            "selecting dynamic shared memory implementation ... posix\n",
            "creating configuration files ... ok\n",
            "running bootstrap script ... ok\n",
            "performing post-bootstrap initialization ... ok\n",
            "syncing data to disk ... ok\n",
            "\n",
            "Success. You can now start the database server using:\n",
            "\n",
            "    pg_ctlcluster 11 main start\n",
            "\n",
            "update-alternatives: using /usr/share/postgresql/11/man/man1/postmaster.1.gz to provide /usr/share/man/man1/postmaster.1.gz (postmaster.1.gz) in auto mode\n",
            "invoke-rc.d: could not determine current runlevel\n",
            "invoke-rc.d: policy-rc.d denied execution of start.\n",
            "Processing triggers for man-db (2.9.1-1) ...\n",
            "Processing triggers for systemd (245.4-4ubuntu3.19) ...\n",
            " * Starting PostgreSQL 11 database server\n",
            "   ...done.\n",
            "ALTER ROLE\n",
            "NOTICE:  database \"donors_choose\" does not exist, skipping\n",
            "DROP DATABASE\n",
            "CREATE DATABASE\n",
            "env: DEMO_DATABASE_NAME=donors_choose\n",
            "env: DEMO_DATABASE_HOST=localhost\n",
            "env: DEMO_DATABASE_PORT=5432\n",
            "DROP DATABASE\n",
            "CREATE DATABASE\n",
            "env: DEMO_DATABASE_NAME=donors_choose\n",
            "env: DEMO_DATABASE_HOST=localhost\n",
            "env: DEMO_DATABASE_PORT=5432\n",
            "env: DEMO_DATABASE_USER=postgres\n",
            "env: DEMO_DATABASE_PASS=postgres\n"
          ]
        }
      ],
      "source": [
        "# Install and start postgresql-11 server\n",
        "!sudo apt-get -y -qq update\n",
        "!wget --quiet -O - https://www.postgresql.org/media/keys/ACCC4CF8.asc | sudo apt-key add -\n",
        "!echo \"deb http://apt.postgresql.org/pub/repos/apt/ `lsb_release -cs`-pgdg main\" |sudo tee  /etc/apt/sources.list.d/pgdg.list\n",
        "!sudo apt-get -y -qq update\n",
        "!sudo apt-get -y -qq install postgresql-11 postgresql-client-11\n",
        "!sudo service postgresql start\n",
        "\n",
        "# Setup a password `postgres` for username `postgres`\n",
        "!sudo -u postgres psql -U postgres -c \"ALTER USER postgres PASSWORD 'postgres';\"\n",
        "\n",
        "# Setup a database with name `donors_choose` to be used\n",
        "!sudo -u postgres psql -U postgres -c 'DROP DATABASE IF EXISTS donors_choose;'\n",
        "\n",
        "!sudo -u postgres psql -U postgres -c 'CREATE DATABASE donors_choose;'\n",
        "\n",
        "# Environment variables for connecting to the database\n",
        "%env DEMO_DATABASE_NAME=donors_choose\n",
        "%env DEMO_DATABASE_HOST=localhost\n",
        "%env DEMO_DATABASE_PORT=5432\n",
        "\n",
        "# Setup a database with name `donors_choose` to be used\n",
        "!sudo -u postgres psql -U postgres -c 'DROP DATABASE IF EXISTS donors_choose;'\n",
        "\n",
        "!sudo -u postgres psql -U postgres -c 'CREATE DATABASE donors_choose;'\n",
        "\n",
        "# Environment variables for connecting to the database\n",
        "%env DEMO_DATABASE_NAME=donors_choose\n",
        "%env DEMO_DATABASE_HOST=localhost\n",
        "%env DEMO_DATABASE_PORT=5432\n",
        "%env DEMO_DATABASE_USER=postgres\n",
        "%env DEMO_DATABASE_PASS=postgres"
      ]
    },
    {
      "cell_type": "code",
      "source": [
        "# Download sampled DonorsChoose data and load it into our postgres server\n",
        "!curl -s -OL https://dsapp-public-data-migrated.s3.us-west-2.amazonaws.com/donors_sampled_20210920_v3.dmp\n",
        "!PGPASSWORD=$DEMO_DATABASE_PASS pg_restore -h $DEMO_DATABASE_HOST -p $DEMO_DATABASE_PORT -d $DEMO_DATABASE_NAME -U $DEMO_DATABASE_USER -O -j 8 donors_sampled_20210920_v3.dmp\n",
        "!pip install SQLAlchemy==1.3.18 PyYAML==6.0 psycopg2-binary==2.9.3\n",
        "from sqlalchemy.engine.url import URL\n",
        "from sqlalchemy import create_engine\n",
        "\n",
        "db_url = URL(\n",
        "            'postgres',\n",
        "            host='localhost',\n",
        "            username='postgres',\n",
        "            database='donors_choose',\n",
        "            password='postgres',\n",
        "            port=5432,\n",
        "        )\n",
        "\n",
        "db_engine = create_engine(db_url)\n",
        "full_projects = pd.read_sql(\"SELECT * FROM data.projects\", db_engine)\n",
        "full_resources = pd.read_sql(\"SELECT * FROM data.resources\", db_engine)\n",
        "full_donations = pd.read_sql(\"SELECT * FROM data.donations\", db_engine)\n"
      ],
      "metadata": {
        "colab": {
          "base_uri": "https://localhost:8080/"
        },
        "id": "2OWTM7IJs0_3",
        "outputId": "9acd5f3f-1afd-43d1-f716-5f4bb05867fa"
      },
      "execution_count": 4,
      "outputs": [
        {
          "output_type": "stream",
          "name": "stdout",
          "text": [
            "pg_restore: [archiver (db)] Error while PROCESSING TOC:\n",
            "pg_restore: [archiver (db)] Error from TOC entry 5; 2615 8563827 SCHEMA data dssg_admin\n",
            "pg_restore: [archiver (db)] could not execute query: ERROR:  schema \"data\" already exists\n",
            "    Command was: CREATE SCHEMA data;\n",
            "\n",
            "\n",
            "\n",
            "pg_restore: [archiver (db)] Error from TOC entry 197; 1259 8563828 TABLE donations dssg_admin\n",
            "pg_restore: [archiver (db)] could not execute query: ERROR:  relation \"donations\" already exists\n",
            "    Command was: CREATE TABLE data.donations (\n",
            "    donationid character varying(50),\n",
            "    projectid_str character varying(50),\n",
            "    donor_acctid character varying(50),\n",
            "    donor_city character varying(50),\n",
            "    donor_state character varying(10),\n",
            "    donor_zip character varying(10),\n",
            "    is_teacher_acct boolean,\n",
            "    donation_timestamp timestamp without time zone,\n",
            "    donation_to_project numeric,\n",
            "    donation_optional_support numeric,\n",
            "    donation_total numeric,\n",
            "    dollar_amount character varying(50),\n",
            "    donation_included_optional_support boolean,\n",
            "    payment_method character varying(100),\n",
            "    payment_included_acct_creadit boolean,\n",
            "    payment_included_campaign_gift_card boolean,\n",
            "    payment_included_web_purchased_gift_card boolean,\n",
            "    payment_was_promo_matched boolean,\n",
            "    via_giving_page boolean,\n",
            "    for_honoree boolean,\n",
            "    donation_message text,\n",
            "    entity_id integer\n",
            ");\n",
            "\n",
            "\n",
            "\n",
            "pg_restore: [archiver (db)] Error from TOC entry 198; 1259 8563834 TABLE essays dssg_admin\n",
            "pg_restore: [archiver (db)] could not execute query: ERROR:  relation \"essays\" already exists\n",
            "    Command was: CREATE TABLE data.essays (\n",
            "    projectid_str character varying(50),\n",
            "    teacher_acctid character varying(50),\n",
            "    title text,\n",
            "    short_description text,\n",
            "    need_statement text,\n",
            "    essay text,\n",
            "    entity_id integer,\n",
            "    date_posted timestamp(6) without time zone\n",
            ");\n",
            "\n",
            "\n",
            "\n",
            "pg_restore: [archiver (db)] Error from TOC entry 199; 1259 8563840 TABLE outcomes dssg_admin\n",
            "pg_restore: [archiver (db)] could not execute query: ERROR:  relation \"outcomes\" already exists\n",
            "    Command was: CREATE TABLE data.outcomes (\n",
            "    projectid_str character varying(50),\n",
            "    is_exciting boolean,\n",
            "    at_least_1_teacher_referred_donor boolean,\n",
            "    fully_funded boolean,\n",
            "    at_least_1_green_donation boolean,\n",
            "    great_chat boolean,\n",
            "    three_or_more_non_teacher_referred_donors boolean,\n",
            "    one_non_teacher_referred_donor_giving_100_plus boolean,\n",
            "    donation_from_thoughtful_donor boolean,\n",
            "    great_messages_proportion numeric,\n",
            "    teacher_reffered_count numeric,\n",
            "    non_teacher_referred_count numeric,\n",
            "    entity_id integer\n",
            ");\n",
            "\n",
            "\n",
            "\n",
            "pg_restore: [archiver (db)] Error from TOC entry 200; 1259 8563846 TABLE projects dssg_admin\n",
            "pg_restore: [archiver (db)] could not execute query: ERROR:  relation \"projects\" already exists\n",
            "    Command was: CREATE TABLE data.projects (\n",
            "    schoolid character varying(50),\n",
            "    projectid_str character varying(50),\n",
            "    teacher_acctid character varying(50),\n",
            "    school_ncesid character varying(15),\n",
            "    school_latitude double precision,\n",
            "    school_longitude double precision,\n",
            "    school_city character varying(50),\n",
            "    school_state character varying(10),\n",
            "    school_zip character varying(10),\n",
            "    school_metro character varying(30),\n",
            "    school_district text,\n",
            "    school_county text,\n",
            "    school_charter boolean,\n",
            "    school_magnet boolean,\n",
            "    school_year_round boolean,\n",
            "    school_nlns boolean,\n",
            "    school_kipp boolean,\n",
            "    school_charter_ready_promise boolean,\n",
            "    teacher_prefix character varying(30),\n",
            "    teacher_teach_for_america boolean,\n",
            "    teacher_ny_teaching_fellow boolean,\n",
            "    primary_focus_subject text,\n",
            "    primary_focus_area text,\n",
            "    secondary_focus_subject text,\n",
            "    secondary_focus_area text,\n",
            "    resource_type text,\n",
            "    poverty_level character varying(30),\n",
            "    grade_level character varying(30),\n",
            "    fulfillment_labor_materials numeric,\n",
            "    total_asking_price numeric,\n",
            "    total_price_including_optional_support numeric,\n",
            "    students_reached integer,\n",
            "    eligible_double_your_impact_match boolean,\n",
            "    eligible_almost_home_match boolean,\n",
            "    date_posted timestamp without time zone,\n",
            "    entity_id integer NOT NULL\n",
            ");\n",
            "\n",
            "\n",
            "\n",
            "pg_restore: [archiver (db)] Error from TOC entry 201; 1259 8563852 TABLE resources dssg_admin\n",
            "pg_restore: [archiver (db)] could not execute query: ERROR:  relation \"resources\" already exists\n",
            "    Command was: CREATE TABLE data.resources (\n",
            "    resourceid character varying(50),\n",
            "    projectid_str character varying(50),\n",
            "    vendorid character varying(50),\n",
            "    vendor_name text,\n",
            "    project_resource_type text,\n",
            "    item_name text,\n",
            "    item_number text,\n",
            "    item_unit_price numeric,\n",
            "    item_quantity numeric,\n",
            "    entity_id integer,\n",
            "    date_posted timestamp(6) without time zone\n",
            ");\n",
            "\n",
            "\n",
            "\n",
            "pg_restore: [archiver (db)] Error from TOC entry 202; 1259 8563858 TABLE time_series_features dssg_admin\n",
            "pg_restore: [archiver (db)] could not execute query: ERROR:  relation \"time_series_features\" already exists\n",
            "    Command was: CREATE TABLE data.time_series_features (\n",
            "    entity_id integer,\n",
            "    date_posted timestamp without time zone,\n",
            "    district_avg_donations_1yr numeric,\n",
            "    district_funding_rate_1yr numeric,\n",
            "    district_avg_donations_2yr numeric,\n",
            "    district_funding_rate_2yr numeric,\n",
            "    teacher_avg_donations_1yr numeric,\n",
            "    teacher_funding_rate_1yr numeric,\n",
            "    teacher_avg_donations_2yr numeric,\n",
            "    teacher_funding_rate_2yr numeric,\n",
            "    zip_avg_donations_1yr numeric,\n",
            "    zip_funding_rate_1yr numeric,\n",
            "    zip_avg_donations_2yr numeric,\n",
            "    zip_funding_rate_2yr numeric\n",
            ");\n",
            "\n",
            "\n",
            "\n",
            "pg_restore: [archiver (db)] Error from TOC entry 3831; 0 8563846 TABLE DATA projects dssg_admin\n",
            "pg_restore: [archiver (db)] COPY failed for table \"projects\": ERROR:  duplicate key value violates unique constraint \"projects_pkey\"\n",
            "DETAIL:  Key (entity_id)=(234148) already exists.\n",
            "CONTEXT:  COPY projects, line 1\n",
            "pg_restore: [archiver (db)] Error from TOC entry 3706; 2606 8564635 CONSTRAINT projects projects_pkey dssg_admin\n",
            "pg_restore: [archiver (db)] could not execute query: ERROR:  multiple primary keys for table \"projects\" are not allowed\n",
            "    Command was: ALTER TABLE ONLY data.projects\n",
            "    ADD CONSTRAINT projects_pkey PRIMARY KEY (entity_id);\n",
            "\n",
            "\n",
            "\n",
            "WARNING: errors ignored on restore: 11\n",
            "Looking in indexes: https://pypi.org/simple, https://us-python.pkg.dev/colab-wheels/public/simple/\n",
            "Requirement already satisfied: SQLAlchemy==1.3.18 in /usr/local/lib/python3.8/dist-packages (1.3.18)\n",
            "Requirement already satisfied: PyYAML==6.0 in /usr/local/lib/python3.8/dist-packages (6.0)\n",
            "Requirement already satisfied: psycopg2-binary==2.9.3 in /usr/local/lib/python3.8/dist-packages (2.9.3)\n"
          ]
        }
      ]
    },
    {
      "cell_type": "code",
      "source": [
        "full_projects=full_projects.rename(columns = {'projectid_str':'projectid', \"total_asking_price\":\"total_price_excluding_optional_support\"})\n",
        "full_donations = full_donations.rename(columns = {'projectid_str':'projectid'})"
      ],
      "metadata": {
        "id": "l65fVTAxtZOw"
      },
      "execution_count": 20,
      "outputs": []
    },
    {
      "cell_type": "code",
      "source": [
        "full_projects=full_projects.rename(columns = {'project_id':'projectid', \"total_asking_price\":\"total_price_excluding_optional_support\"})\n"
      ],
      "metadata": {
        "id": "cqVL-OmSuGeZ"
      },
      "execution_count": 14,
      "outputs": []
    },
    {
      "cell_type": "code",
      "source": [],
      "metadata": {
        "colab": {
          "base_uri": "https://localhost:8080/"
        },
        "id": "u1WHO8qRuOE4",
        "outputId": "9ecba9f9-906d-4cbd-a083-6090bcbfaefa"
      },
      "execution_count": 17,
      "outputs": [
        {
          "output_type": "execute_result",
          "data": {
            "text/plain": [
              "0        30c034618e67d00c641f9b5b7775c0f4\n",
              "1        94199c544d9d2926c1820e5c6cde1eb6\n",
              "2        61f42f174afef1ed2419ab948a647137\n",
              "3        c966f5226f42aaaf6b115d7dbaefdea3\n",
              "4        69e9c24111daa1e6ba64c6d5538e4df1\n",
              "                       ...               \n",
              "16475    b9377e2c5734e5305ef8c30da68d7f11\n",
              "16476    5a6ffc36770a51713c7e064fbc71d39e\n",
              "16477    311bf0bc005e4de4a89cac20d858262b\n",
              "16478    aba947b5ea8f93980ba6266c66d33912\n",
              "16479    103bee597969e42dbd426dcf65e591fb\n",
              "Name: projectid, Length: 16480, dtype: object"
            ]
          },
          "metadata": {},
          "execution_count": 17
        }
      ]
    },
    {
      "cell_type": "code",
      "execution_count": 3,
      "metadata": {
        "id": "mvWyGCbRSB9d"
      },
      "outputs": [],
      "source": [
        "import json\n",
        "import zipfile\n",
        "import os\n",
        "import pandas as pd"
      ]
    },
    {
      "cell_type": "code",
      "execution_count": 2,
      "metadata": {
        "colab": {
          "base_uri": "https://localhost:8080/"
        },
        "id": "t4ZA3QYJ8sW3",
        "outputId": "ed1309c7-a87e-4034-ea34-71c8b521d47b"
      },
      "outputs": [
        {
          "output_type": "stream",
          "name": "stdout",
          "text": [
            "Looking in indexes: https://pypi.org/simple, https://us-python.pkg.dev/colab-wheels/public/simple/\n",
            "Requirement already satisfied: kaggle in /usr/local/lib/python3.8/dist-packages (1.5.12)\n",
            "Requirement already satisfied: python-dateutil in /usr/local/lib/python3.8/dist-packages (from kaggle) (2.8.2)\n",
            "Requirement already satisfied: tqdm in /usr/local/lib/python3.8/dist-packages (from kaggle) (4.64.1)\n",
            "Requirement already satisfied: python-slugify in /usr/local/lib/python3.8/dist-packages (from kaggle) (8.0.0)\n",
            "Requirement already satisfied: urllib3 in /usr/local/lib/python3.8/dist-packages (from kaggle) (1.24.3)\n",
            "Requirement already satisfied: certifi in /usr/local/lib/python3.8/dist-packages (from kaggle) (2022.12.7)\n",
            "Requirement already satisfied: six>=1.10 in /usr/local/lib/python3.8/dist-packages (from kaggle) (1.15.0)\n",
            "Requirement already satisfied: requests in /usr/local/lib/python3.8/dist-packages (from kaggle) (2.25.1)\n",
            "Requirement already satisfied: text-unidecode>=1.3 in /usr/local/lib/python3.8/dist-packages (from python-slugify->kaggle) (1.3)\n",
            "Requirement already satisfied: chardet<5,>=3.0.2 in /usr/local/lib/python3.8/dist-packages (from requests->kaggle) (4.0.0)\n",
            "Requirement already satisfied: idna<3,>=2.5 in /usr/local/lib/python3.8/dist-packages (from requests->kaggle) (2.10)\n",
            "Downloading kdd-cup-2014-predicting-excitement-at-donors-choose.zip to /content\n",
            "100% 922M/926M [00:13<00:00, 91.7MB/s]\n",
            "100% 926M/926M [00:13<00:00, 73.2MB/s]\n"
          ]
        }
      ],
      "source": [
        "!pip install kaggle\n",
        "\n",
        "!mkdir /root/.kaggle\n",
        "!touch /root/.kaggle/kaggle.json\n",
        "api_token = {\"username\":\"ploped123\",\"key\":\"eeeeba8fc52706723e4c1bcf41ae6fd3\"}\n",
        "\n",
        "with open('/root/.kaggle/kaggle.json', 'w') as file:\n",
        "    json.dump(api_token, file)\n",
        "\n",
        "!chmod 600 /root/.kaggle/kaggle.json\n",
        "\n",
        "!kaggle competitions download -c kdd-cup-2014-predicting-excitement-at-donors-choose"
      ]
    },
    {
      "cell_type": "code",
      "execution_count": 3,
      "metadata": {
        "colab": {
          "base_uri": "https://localhost:8080/"
        },
        "id": "HunBQJMX9gPN",
        "outputId": "5d7ba943-8fe0-41c8-cb90-c0fab60bddc7"
      },
      "outputs": [
        {
          "output_type": "stream",
          "name": "stdout",
          "text": [
            "kdd-cup-2014-predicting-excitement-at-donors-choose.zip  sample_data\n"
          ]
        }
      ],
      "source": [
        "!ls /content"
      ]
    },
    {
      "cell_type": "code",
      "execution_count": 4,
      "metadata": {
        "colab": {
          "base_uri": "https://localhost:8080/"
        },
        "id": "76VVzgwkKbli",
        "outputId": "cb7c18b4-cdf0-4d30-e292-7f49a9825c54"
      },
      "outputs": [
        {
          "output_type": "stream",
          "name": "stdout",
          "text": [
            "Archive:  /content/kdd-cup-2014-predicting-excitement-at-donors-choose.zip\n",
            "  inflating: donations.csv.zip       \n",
            "  inflating: essays.csv.zip          \n",
            "  inflating: outcomes.csv.zip        \n",
            "  inflating: projects.csv.zip        \n",
            "  inflating: resources.csv.zip       \n",
            "  inflating: sampleSubmission.csv.zip  \n"
          ]
        }
      ],
      "source": [
        "!unzip /content/kdd-cup-2014-predicting-excitement-at-donors-choose.zip"
      ]
    },
    {
      "cell_type": "code",
      "execution_count": 5,
      "metadata": {
        "colab": {
          "base_uri": "https://localhost:8080/"
        },
        "id": "mK_ns8iP9jSM",
        "outputId": "776a1718-6e76-43dc-fb2b-4df61ee916f5"
      },
      "outputs": [
        {
          "output_type": "stream",
          "name": "stdout",
          "text": [
            "Archive:  /content/resources.csv.zip\n",
            "  inflating: resources.csv           \n",
            "Archive:  /content/donations.csv.zip\n",
            "  inflating: donations.csv           \n"
          ]
        }
      ],
      "source": [
        "!unzip /content/resources.csv.zip\n",
        "!unzip /content/donations.csv.zip"
      ]
    },
    {
      "cell_type": "code",
      "execution_count": 6,
      "metadata": {
        "colab": {
          "base_uri": "https://localhost:8080/"
        },
        "id": "cDEORpu4-Glu",
        "outputId": "c745d50d-c16a-450b-ae0b-5a888895cb00"
      },
      "outputs": [
        {
          "output_type": "stream",
          "name": "stdout",
          "text": [
            "Archive:  /content/projects.csv.zip\n",
            "  inflating: projects.csv            \n"
          ]
        }
      ],
      "source": [
        "!unzip /content/projects.csv.zip"
      ]
    },
    {
      "cell_type": "code",
      "execution_count": 7,
      "metadata": {
        "id": "6gHx2YiBDH6x"
      },
      "outputs": [],
      "source": [
        "full_donations = pd.read_csv(\"/content/donations.csv\")\n",
        "full_projects = pd.read_csv(\"/content/projects.csv\")\n",
        "# full_essays = pd.read_csv(\"essays.csv\")\n",
        "full_resources = pd.read_csv(\"/content/resources.csv\")"
      ]
    },
    {
      "cell_type": "code",
      "execution_count": 8,
      "metadata": {
        "colab": {
          "base_uri": "https://localhost:8080/"
        },
        "id": "g7koLM_mDH6y",
        "outputId": "e30cc66b-c798-435e-bbf0-e7fcb62e4722"
      },
      "outputs": [
        {
          "output_type": "stream",
          "name": "stdout",
          "text": [
            "Looking in indexes: https://pypi.org/simple, https://us-python.pkg.dev/colab-wheels/public/simple/\n",
            "Collecting textstat\n",
            "  Downloading textstat-0.7.3-py3-none-any.whl (105 kB)\n",
            "\u001b[2K     \u001b[90m━━━━━━━━━━━━━━━━━━━━━━━━━━━━━━━━━━━━━━━\u001b[0m \u001b[32m105.1/105.1 KB\u001b[0m \u001b[31m4.5 MB/s\u001b[0m eta \u001b[36m0:00:00\u001b[0m\n",
            "\u001b[?25hCollecting pyphen\n",
            "  Downloading pyphen-0.13.2-py3-none-any.whl (2.0 MB)\n",
            "\u001b[2K     \u001b[90m━━━━━━━━━━━━━━━━━━━━━━━━━━━━━━━━━━━━━━━━\u001b[0m \u001b[32m2.0/2.0 MB\u001b[0m \u001b[31m36.9 MB/s\u001b[0m eta \u001b[36m0:00:00\u001b[0m\n",
            "\u001b[?25hInstalling collected packages: pyphen, textstat\n",
            "Successfully installed pyphen-0.13.2 textstat-0.7.3\n",
            "Looking in indexes: https://pypi.org/simple, https://us-python.pkg.dev/colab-wheels/public/simple/\n",
            "Collecting flair\n",
            "  Downloading flair-0.11.3-py3-none-any.whl (401 kB)\n",
            "\u001b[2K     \u001b[90m━━━━━━━━━━━━━━━━━━━━━━━━━━━━━━━━━━━━━━━\u001b[0m \u001b[32m401.9/401.9 KB\u001b[0m \u001b[31m8.6 MB/s\u001b[0m eta \u001b[36m0:00:00\u001b[0m\n",
            "\u001b[?25hCollecting wikipedia-api\n",
            "  Downloading Wikipedia_API-0.5.8-py3-none-any.whl (13 kB)\n",
            "Collecting conllu>=4.0\n",
            "  Downloading conllu-4.5.2-py2.py3-none-any.whl (16 kB)\n",
            "Collecting sqlitedict>=1.6.0\n",
            "  Downloading sqlitedict-2.1.0.tar.gz (21 kB)\n",
            "  Preparing metadata (setup.py) ... \u001b[?25l\u001b[?25hdone\n",
            "Collecting konoha<5.0.0,>=4.0.0\n",
            "  Downloading konoha-4.6.5-py3-none-any.whl (20 kB)\n",
            "Requirement already satisfied: gdown==4.4.0 in /usr/local/lib/python3.8/dist-packages (from flair) (4.4.0)\n",
            "Requirement already satisfied: tqdm>=4.26.0 in /usr/local/lib/python3.8/dist-packages (from flair) (4.64.1)\n",
            "Collecting janome\n",
            "  Downloading Janome-0.4.2-py2.py3-none-any.whl (19.7 MB)\n",
            "\u001b[2K     \u001b[90m━━━━━━━━━━━━━━━━━━━━━━━━━━━━━━━━━━━━━━━━\u001b[0m \u001b[32m19.7/19.7 MB\u001b[0m \u001b[31m63.2 MB/s\u001b[0m eta \u001b[36m0:00:00\u001b[0m\n",
            "\u001b[?25hRequirement already satisfied: tabulate in /usr/local/lib/python3.8/dist-packages (from flair) (0.8.10)\n",
            "Requirement already satisfied: gensim>=3.4.0 in /usr/local/lib/python3.8/dist-packages (from flair) (3.6.0)\n",
            "Requirement already satisfied: matplotlib>=2.2.3 in /usr/local/lib/python3.8/dist-packages (from flair) (3.2.2)\n",
            "Requirement already satisfied: lxml in /usr/local/lib/python3.8/dist-packages (from flair) (4.9.2)\n",
            "Collecting bpemb>=0.3.2\n",
            "  Downloading bpemb-0.3.4-py3-none-any.whl (19 kB)\n",
            "Collecting hyperopt>=0.2.7\n",
            "  Downloading hyperopt-0.2.7-py2.py3-none-any.whl (1.6 MB)\n",
            "\u001b[2K     \u001b[90m━━━━━━━━━━━━━━━━━━━━━━━━━━━━━━━━━━━━━━━━\u001b[0m \u001b[32m1.6/1.6 MB\u001b[0m \u001b[31m72.1 MB/s\u001b[0m eta \u001b[36m0:00:00\u001b[0m\n",
            "\u001b[?25hCollecting mpld3==0.3\n",
            "  Downloading mpld3-0.3.tar.gz (788 kB)\n",
            "\u001b[2K     \u001b[90m━━━━━━━━━━━━━━━━━━━━━━━━━━━━━━━━━━━━━━\u001b[0m \u001b[32m788.5/788.5 KB\u001b[0m \u001b[31m61.9 MB/s\u001b[0m eta \u001b[36m0:00:00\u001b[0m\n",
            "\u001b[?25h  Preparing metadata (setup.py) ... \u001b[?25l\u001b[?25hdone\n",
            "Requirement already satisfied: torch!=1.8,>=1.5.0 in /usr/local/lib/python3.8/dist-packages (from flair) (1.13.1+cu116)\n",
            "Collecting segtok>=1.5.7\n",
            "  Downloading segtok-1.5.11-py3-none-any.whl (24 kB)\n",
            "Collecting sentencepiece==0.1.95\n",
            "  Downloading sentencepiece-0.1.95-cp38-cp38-manylinux2014_x86_64.whl (1.2 MB)\n",
            "\u001b[2K     \u001b[90m━━━━━━━━━━━━━━━━━━━━━━━━━━━━━━━━━━━━━━━━\u001b[0m \u001b[32m1.2/1.2 MB\u001b[0m \u001b[31m66.1 MB/s\u001b[0m eta \u001b[36m0:00:00\u001b[0m\n",
            "\u001b[?25hRequirement already satisfied: regex in /usr/local/lib/python3.8/dist-packages (from flair) (2022.6.2)\n",
            "Collecting ftfy\n",
            "  Downloading ftfy-6.1.1-py3-none-any.whl (53 kB)\n",
            "\u001b[2K     \u001b[90m━━━━━━━━━━━━━━━━━━━━━━━━━━━━━━━━━━━━━━━━\u001b[0m \u001b[32m53.1/53.1 KB\u001b[0m \u001b[31m7.9 MB/s\u001b[0m eta \u001b[36m0:00:00\u001b[0m\n",
            "\u001b[?25hRequirement already satisfied: python-dateutil>=2.6.1 in /usr/local/lib/python3.8/dist-packages (from flair) (2.8.2)\n",
            "Requirement already satisfied: more-itertools in /usr/local/lib/python3.8/dist-packages (from flair) (9.0.0)\n",
            "Collecting huggingface-hub\n",
            "  Downloading huggingface_hub-0.12.1-py3-none-any.whl (190 kB)\n",
            "\u001b[2K     \u001b[90m━━━━━━━━━━━━━━━━━━━━━━━━━━━━━━━━━━━━━━\u001b[0m \u001b[32m190.3/190.3 KB\u001b[0m \u001b[31m20.6 MB/s\u001b[0m eta \u001b[36m0:00:00\u001b[0m\n",
            "\u001b[?25hCollecting transformers>=4.0.0\n",
            "  Downloading transformers-4.26.1-py3-none-any.whl (6.3 MB)\n",
            "\u001b[2K     \u001b[90m━━━━━━━━━━━━━━━━━━━━━━━━━━━━━━━━━━━━━━━━\u001b[0m \u001b[32m6.3/6.3 MB\u001b[0m \u001b[31m94.3 MB/s\u001b[0m eta \u001b[36m0:00:00\u001b[0m\n",
            "\u001b[?25hCollecting deprecated>=1.2.4\n",
            "  Downloading Deprecated-1.2.13-py2.py3-none-any.whl (9.6 kB)\n",
            "Collecting langdetect\n",
            "  Downloading langdetect-1.0.9.tar.gz (981 kB)\n",
            "\u001b[2K     \u001b[90m━━━━━━━━━━━━━━━━━━━━━━━━━━━━━━━━━━━━━━\u001b[0m \u001b[32m981.5/981.5 KB\u001b[0m \u001b[31m64.5 MB/s\u001b[0m eta \u001b[36m0:00:00\u001b[0m\n",
            "\u001b[?25h  Preparing metadata (setup.py) ... \u001b[?25l\u001b[?25hdone\n",
            "Requirement already satisfied: scikit-learn>=0.21.3 in /usr/local/lib/python3.8/dist-packages (from flair) (1.0.2)\n",
            "Collecting pptree\n",
            "  Downloading pptree-3.1.tar.gz (3.0 kB)\n",
            "  Preparing metadata (setup.py) ... \u001b[?25l\u001b[?25hdone\n",
            "Requirement already satisfied: beautifulsoup4 in /usr/local/lib/python3.8/dist-packages (from gdown==4.4.0->flair) (4.6.3)\n",
            "Requirement already satisfied: requests[socks] in /usr/local/lib/python3.8/dist-packages (from gdown==4.4.0->flair) (2.25.1)\n",
            "Requirement already satisfied: filelock in /usr/local/lib/python3.8/dist-packages (from gdown==4.4.0->flair) (3.9.0)\n",
            "Requirement already satisfied: six in /usr/local/lib/python3.8/dist-packages (from gdown==4.4.0->flair) (1.15.0)\n",
            "Requirement already satisfied: numpy in /usr/local/lib/python3.8/dist-packages (from bpemb>=0.3.2->flair) (1.21.6)\n",
            "Requirement already satisfied: wrapt<2,>=1.10 in /usr/local/lib/python3.8/dist-packages (from deprecated>=1.2.4->flair) (1.14.1)\n",
            "Requirement already satisfied: smart-open>=1.2.1 in /usr/local/lib/python3.8/dist-packages (from gensim>=3.4.0->flair) (6.3.0)\n",
            "Requirement already satisfied: scipy>=0.18.1 in /usr/local/lib/python3.8/dist-packages (from gensim>=3.4.0->flair) (1.7.3)\n",
            "Collecting py4j\n",
            "  Downloading py4j-0.10.9.7-py2.py3-none-any.whl (200 kB)\n",
            "\u001b[2K     \u001b[90m━━━━━━━━━━━━━━━━━━━━━━━━━━━━━━━━━━━━━━\u001b[0m \u001b[32m200.5/200.5 KB\u001b[0m \u001b[31m22.9 MB/s\u001b[0m eta \u001b[36m0:00:00\u001b[0m\n",
            "\u001b[?25hRequirement already satisfied: future in /usr/local/lib/python3.8/dist-packages (from hyperopt>=0.2.7->flair) (0.16.0)\n",
            "Requirement already satisfied: cloudpickle in /usr/local/lib/python3.8/dist-packages (from hyperopt>=0.2.7->flair) (2.2.1)\n",
            "Requirement already satisfied: networkx>=2.2 in /usr/local/lib/python3.8/dist-packages (from hyperopt>=0.2.7->flair) (3.0)\n",
            "Collecting overrides<4.0.0,>=3.0.0\n",
            "  Downloading overrides-3.1.0.tar.gz (11 kB)\n",
            "  Preparing metadata (setup.py) ... \u001b[?25l\u001b[?25hdone\n",
            "Collecting importlib-metadata<4.0.0,>=3.7.0\n",
            "  Downloading importlib_metadata-3.10.1-py3-none-any.whl (14 kB)\n",
            "Requirement already satisfied: cycler>=0.10 in /usr/local/lib/python3.8/dist-packages (from matplotlib>=2.2.3->flair) (0.11.0)\n",
            "Requirement already satisfied: pyparsing!=2.0.4,!=2.1.2,!=2.1.6,>=2.0.1 in /usr/local/lib/python3.8/dist-packages (from matplotlib>=2.2.3->flair) (3.0.9)\n",
            "Requirement already satisfied: kiwisolver>=1.0.1 in /usr/local/lib/python3.8/dist-packages (from matplotlib>=2.2.3->flair) (1.4.4)\n",
            "Requirement already satisfied: joblib>=0.11 in /usr/local/lib/python3.8/dist-packages (from scikit-learn>=0.21.3->flair) (1.2.0)\n",
            "Requirement already satisfied: threadpoolctl>=2.0.0 in /usr/local/lib/python3.8/dist-packages (from scikit-learn>=0.21.3->flair) (3.1.0)\n",
            "Requirement already satisfied: typing-extensions in /usr/local/lib/python3.8/dist-packages (from torch!=1.8,>=1.5.0->flair) (4.5.0)\n",
            "Collecting tokenizers!=0.11.3,<0.14,>=0.11.1\n",
            "  Downloading tokenizers-0.13.2-cp38-cp38-manylinux_2_17_x86_64.manylinux2014_x86_64.whl (7.6 MB)\n",
            "\u001b[2K     \u001b[90m━━━━━━━━━━━━━━━━━━━━━━━━━━━━━━━━━━━━━━━━\u001b[0m \u001b[32m7.6/7.6 MB\u001b[0m \u001b[31m66.1 MB/s\u001b[0m eta \u001b[36m0:00:00\u001b[0m\n",
            "\u001b[?25hRequirement already satisfied: pyyaml>=5.1 in /usr/local/lib/python3.8/dist-packages (from transformers>=4.0.0->flair) (6.0)\n",
            "Requirement already satisfied: packaging>=20.0 in /usr/local/lib/python3.8/dist-packages (from transformers>=4.0.0->flair) (23.0)\n",
            "Requirement already satisfied: wcwidth>=0.2.5 in /usr/local/lib/python3.8/dist-packages (from ftfy->flair) (0.2.6)\n",
            "Requirement already satisfied: zipp>=0.5 in /usr/local/lib/python3.8/dist-packages (from importlib-metadata<4.0.0,>=3.7.0->konoha<5.0.0,>=4.0.0->flair) (3.13.0)\n",
            "Requirement already satisfied: idna<3,>=2.5 in /usr/local/lib/python3.8/dist-packages (from requests[socks]->gdown==4.4.0->flair) (2.10)\n",
            "Requirement already satisfied: certifi>=2017.4.17 in /usr/local/lib/python3.8/dist-packages (from requests[socks]->gdown==4.4.0->flair) (2022.12.7)\n",
            "Requirement already satisfied: urllib3<1.27,>=1.21.1 in /usr/local/lib/python3.8/dist-packages (from requests[socks]->gdown==4.4.0->flair) (1.24.3)\n",
            "Requirement already satisfied: chardet<5,>=3.0.2 in /usr/local/lib/python3.8/dist-packages (from requests[socks]->gdown==4.4.0->flair) (4.0.0)\n",
            "Requirement already satisfied: PySocks!=1.5.7,>=1.5.6 in /usr/local/lib/python3.8/dist-packages (from requests[socks]->gdown==4.4.0->flair) (1.7.1)\n",
            "Building wheels for collected packages: mpld3, sqlitedict, langdetect, pptree, overrides\n",
            "  Building wheel for mpld3 (setup.py) ... \u001b[?25l\u001b[?25hdone\n",
            "  Created wheel for mpld3: filename=mpld3-0.3-py3-none-any.whl size=116702 sha256=eef18a763d6150ee3cd9cd219bdeb0ad6a075b659ec3ae43d03887354c9de1c8\n",
            "  Stored in directory: /root/.cache/pip/wheels/3d/9f/9d/d806a20bd97bc7076d724fa3e69fa5be61836ba16b2ffa6126\n",
            "  Building wheel for sqlitedict (setup.py) ... \u001b[?25l\u001b[?25hdone\n",
            "  Created wheel for sqlitedict: filename=sqlitedict-2.1.0-py3-none-any.whl size=16869 sha256=86784d6b377932577dd2c0ec6f66cc1ec1ce3a2beb7b365573948d81a5b2c0a8\n",
            "  Stored in directory: /root/.cache/pip/wheels/04/c6/16/46e174009277f9bccdaa7215a243939d2f70180804b249bf3a\n",
            "  Building wheel for langdetect (setup.py) ... \u001b[?25l\u001b[?25hdone\n",
            "  Created wheel for langdetect: filename=langdetect-1.0.9-py3-none-any.whl size=993242 sha256=289dc3b30d26edff52c074b6c8956a6ea57d680ffb03c2a12489eb45b7f89f34\n",
            "  Stored in directory: /root/.cache/pip/wheels/13/c7/b0/79f66658626032e78fc1a83103690ef6797d551cb22e56e734\n",
            "  Building wheel for pptree (setup.py) ... \u001b[?25l\u001b[?25hdone\n",
            "  Created wheel for pptree: filename=pptree-3.1-py3-none-any.whl size=4629 sha256=b42d1d482059b6b3a8ec4768b6150704cf40a4c88452526ac46196c8f884d50b\n",
            "  Stored in directory: /root/.cache/pip/wheels/e1/8b/30/5b20240d3d13a9dfafb6a6dd49d1b541c86d39812cb3690edf\n",
            "  Building wheel for overrides (setup.py) ... \u001b[?25l\u001b[?25hdone\n",
            "  Created wheel for overrides: filename=overrides-3.1.0-py3-none-any.whl size=10187 sha256=7086de0b3ba2c854a038315123538d93be4f8ce9ce7f6bfce6fd7ceffcb7ef39\n",
            "  Stored in directory: /root/.cache/pip/wheels/6a/4f/72/28857f75625b263e2e3f5ab2fc4416c0a85960ac6485007eaa\n",
            "Successfully built mpld3 sqlitedict langdetect pptree overrides\n",
            "Installing collected packages: tokenizers, sqlitedict, sentencepiece, py4j, pptree, overrides, mpld3, janome, segtok, langdetect, importlib-metadata, ftfy, deprecated, conllu, wikipedia-api, konoha, hyperopt, huggingface-hub, transformers, bpemb, flair\n",
            "  Attempting uninstall: importlib-metadata\n",
            "    Found existing installation: importlib-metadata 6.0.0\n",
            "    Uninstalling importlib-metadata-6.0.0:\n",
            "      Successfully uninstalled importlib-metadata-6.0.0\n",
            "  Attempting uninstall: hyperopt\n",
            "    Found existing installation: hyperopt 0.1.2\n",
            "    Uninstalling hyperopt-0.1.2:\n",
            "      Successfully uninstalled hyperopt-0.1.2\n",
            "\u001b[31mERROR: pip's dependency resolver does not currently take into account all the packages that are installed. This behaviour is the source of the following dependency conflicts.\n",
            "markdown 3.4.1 requires importlib-metadata>=4.4; python_version < \"3.10\", but you have importlib-metadata 3.10.1 which is incompatible.\n",
            "gym 0.25.2 requires importlib-metadata>=4.8.0; python_version < \"3.10\", but you have importlib-metadata 3.10.1 which is incompatible.\u001b[0m\u001b[31m\n",
            "\u001b[0mSuccessfully installed bpemb-0.3.4 conllu-4.5.2 deprecated-1.2.13 flair-0.11.3 ftfy-6.1.1 huggingface-hub-0.12.1 hyperopt-0.2.7 importlib-metadata-3.10.1 janome-0.4.2 konoha-4.6.5 langdetect-1.0.9 mpld3-0.3 overrides-3.1.0 pptree-3.1 py4j-0.10.9.7 segtok-1.5.11 sentencepiece-0.1.95 sqlitedict-2.1.0 tokenizers-0.13.2 transformers-4.26.1 wikipedia-api-0.5.8\n"
          ]
        }
      ],
      "source": [
        "from datetime import timedelta\n",
        "!pip install textstat\n",
        "!pip install flair\n",
        "\n",
        "import textstat\n",
        "\n",
        "from nltk.sentiment.vader import SentimentIntensityAnalyzer\n",
        "from nltk import tokenize\n",
        "\n",
        "import flair"
      ]
    },
    {
      "cell_type": "markdown",
      "metadata": {
        "id": "7wEKl_gyM1Eh"
      },
      "source": [
        "## Feature Engineering"
      ]
    },
    {
      "cell_type": "code",
      "execution_count": 89,
      "metadata": {
        "id": "GpeZ5PXWLQPV"
      },
      "outputs": [],
      "source": [
        "a = pd.merge(full_projects, full_donations, on=['projectid'], how='left')\n",
        "a['in_4_months'] = (pd.to_datetime(a['donation_timestamp']) - pd.to_datetime(a['date_posted'])) < timedelta(days=120)\n",
        "a['in_1_months'] = (pd.to_datetime(a['donation_timestamp']) - pd.to_datetime(a['date_posted'])) < timedelta(days=30)\n",
        "a['donation_1mo'] = a['donation_to_project'].values\n",
        "values = {'donation_to_project': 0.0}\n",
        "a = a.fillna(value=values)\n",
        "a.loc[a['in_4_months'] == False, 'donation_to_project'] = 0.0\n",
        "a.loc[a['in_1_months'] == False, 'donation_1mo'] = 0.0\n",
        "\n",
        "donation_in_4_months = a.groupby(['projectid'])['donation_to_project'].sum().reset_index(name='donation_in_4_months')\n",
        "donation_in_1_months = a.groupby(['projectid'])['donation_1mo'].sum().reset_index(name='donation_in_1_months')\n",
        "df = pd.merge(full_projects, donation_in_4_months, on=['projectid'], how='left')\n",
        "df = pd.merge(df, donation_in_1_months, on=['projectid'], how='left')\n",
        "\n",
        "del a"
      ]
    },
    {
      "cell_type": "code",
      "execution_count": 90,
      "metadata": {
        "colab": {
          "base_uri": "https://localhost:8080/"
        },
        "id": "YvIcSIe8LzQK",
        "outputId": "337c2db4-5238-4e55-9d8d-eafcd207897a"
      },
      "outputs": [
        {
          "output_type": "stream",
          "name": "stdout",
          "text": [
            "Baserate % projects fully funded: 0.5795509708737864\n",
            "Baserate % projects fully funded 1mo: 0.3348907766990291\n"
          ]
        }
      ],
      "source": [
        "df['is_fully_funded_after_4_months'] = df['total_price_excluding_optional_support'] <= df['donation_in_4_months']\n",
        "# df['is_fully_funded_after_4_months'] = df['total_asking_price'] <= df['donation_in_4_months']\n",
        "df['is_fully_funded_after_4_months'].value_counts()\n",
        "print(\"Baserate % projects fully funded:\", df['is_fully_funded_after_4_months'].mean())\n",
        "\n",
        "df['pct_funded_1mo'] = df['donation_in_1_months'] / df['total_price_excluding_optional_support']\n",
        "df['is_fully_funded_after_1_months'] = df['total_price_excluding_optional_support'] <= df['donation_in_1_months']\n",
        "#df['is_fully_funded_after_1_months'] = df['total_asking_price'] <= df['donation_in_1_months']\n",
        "df['is_fully_funded_after_1_months'].value_counts()\n",
        "print(\"Baserate % projects fully funded 1mo:\", df['is_fully_funded_after_1_months'].mean())"
      ]
    },
    {
      "cell_type": "code",
      "execution_count": 91,
      "metadata": {
        "id": "bZl0E-Hq9Ccc"
      },
      "outputs": [],
      "source": [
        "df['date_posted'] = pd.to_datetime(df['date_posted'])\n",
        "df['children_helped_per_dollar'] = df['students_reached']/df['total_price_excluding_optional_support']"
      ]
    },
    {
      "cell_type": "code",
      "source": [
        "df.columns"
      ],
      "metadata": {
        "colab": {
          "base_uri": "https://localhost:8080/"
        },
        "id": "nR0xG-msl0hp",
        "outputId": "e5550edd-db5d-436d-d49c-5aad97467ed5"
      },
      "execution_count": 75,
      "outputs": [
        {
          "output_type": "execute_result",
          "data": {
            "text/plain": [
              "Index(['schoolid', 'projectid', 'teacher_acctid', 'school_ncesid',\n",
              "       'school_latitude', 'school_longitude', 'school_city', 'school_state',\n",
              "       'school_zip', 'school_metro', 'school_district', 'school_county',\n",
              "       'school_charter', 'school_magnet', 'school_year_round', 'school_nlns',\n",
              "       'school_kipp', 'school_charter_ready_promise', 'teacher_prefix',\n",
              "       'teacher_teach_for_america', 'teacher_ny_teaching_fellow',\n",
              "       'primary_focus_subject', 'primary_focus_area',\n",
              "       'secondary_focus_subject', 'secondary_focus_area', 'resource_type',\n",
              "       'poverty_level', 'grade_level', 'fulfillment_labor_materials',\n",
              "       'total_price_excluding_optional_support',\n",
              "       'total_price_including_optional_support', 'students_reached',\n",
              "       'eligible_double_your_impact_match', 'eligible_almost_home_match',\n",
              "       'date_posted', 'entity_id', 'donation_in_4_months',\n",
              "       'donation_in_1_months', 'is_fully_funded_after_4_months',\n",
              "       'pct_funded_1mo', 'is_fully_funded_after_1_months',\n",
              "       'children_helped_per_dollar'],\n",
              "      dtype='object')"
            ]
          },
          "metadata": {},
          "execution_count": 75
        }
      ]
    },
    {
      "cell_type": "code",
      "source": [
        "df.shape"
      ],
      "metadata": {
        "colab": {
          "base_uri": "https://localhost:8080/"
        },
        "id": "D9ClUJs2wScg",
        "outputId": "b89472fe-afa5-4fd8-9b20-ebcbdb270da0"
      },
      "execution_count": 34,
      "outputs": [
        {
          "output_type": "execute_result",
          "data": {
            "text/plain": [
              "(16480, 42)"
            ]
          },
          "metadata": {},
          "execution_count": 34
        }
      ]
    },
    {
      "cell_type": "code",
      "source": [],
      "metadata": {
        "colab": {
          "base_uri": "https://localhost:8080/"
        },
        "id": "X5ZY1ivawQrT",
        "outputId": "ad4cc0f3-a8ea-4a4b-ee30-fb7e8811e1d4"
      },
      "execution_count": 37,
      "outputs": [
        {
          "output_type": "execute_result",
          "data": {
            "text/plain": [
              "6314"
            ]
          },
          "metadata": {},
          "execution_count": 37
        }
      ]
    },
    {
      "cell_type": "code",
      "execution_count": 92,
      "metadata": {
        "colab": {
          "base_uri": "https://localhost:8080/"
        },
        "id": "zmosoRB8QfIV",
        "outputId": "50489410-e1b2-46a9-de88-ac22280490b9"
      },
      "outputs": [
        {
          "output_type": "stream",
          "name": "stderr",
          "text": [
            "/usr/local/lib/python3.8/dist-packages/sklearn/utils/deprecation.py:87: FutureWarning: Function get_feature_names is deprecated; get_feature_names is deprecated in 1.0 and will be removed in 1.2. Please use get_feature_names_out instead.\n",
            "  warnings.warn(msg, category=FutureWarning)\n"
          ]
        }
      ],
      "source": [
        "from sklearn.preprocessing import OneHotEncoder\n",
        "one_hot_feature_cols = ['grade_level', 'teacher_prefix', 'school_state']\n",
        "df = df.replace({'school_charter': {'t': 1, 'f': 0},\n",
        "                 'school_kipp': {'t': 1, 'f': 0}})\n",
        "\n",
        "encoder = OneHotEncoder(handle_unknown='ignore')\n",
        "\n",
        "#perform one-hot encoding\n",
        "encoder_df = pd.DataFrame(encoder.fit_transform(df[one_hot_feature_cols]).toarray())\n",
        "encoder_df.columns = encoder.get_feature_names()\n",
        "#merge one-hot encoded columns back with original DataFrame\n",
        "final_X = df.join(encoder_df)\n",
        "#drop the original columns\n",
        "final_X = final_X.drop(one_hot_feature_cols, axis=1)\n",
        "\n",
        "df = final_X\n",
        "\n",
        "# # row 28-36\n",
        "feature_cols_projects = ['school_charter', 'school_kipp', 'total_price_excluding_optional_support', 'students_reached', 'teacher_acctid', 'school_city', 'date_posted'] + list(final_X.columns[-50:])"
      ]
    },
    {
      "cell_type": "code",
      "execution_count": null,
      "metadata": {
        "colab": {
          "base_uri": "https://localhost:8080/"
        },
        "id": "FnvZ5MSiQfIW",
        "outputId": "4ff22ac8-34c1-4451-e8f2-b4850f3d873a"
      },
      "outputs": [
        {
          "output_type": "execute_result",
          "data": {
            "text/plain": [
              "Index(['projectid', 'schoolid', 'school_ncesid', 'school_latitude',\n",
              "       'school_longitude', 'school_zip', 'school_metro', 'school_district',\n",
              "       'school_county', 'school_charter',\n",
              "       ...\n",
              "       'x2_WA', 'x2_WI', 'x2_WV', 'x2_WY', 'num_of_success_projects_in_city',\n",
              "       'num_of_projects_in_city', 'success_rate_in_city',\n",
              "       'num_of_success_projects_by_teacher', 'num_of_projects_by_teacher',\n",
              "       'success_rate_by_teacher'],\n",
              "      dtype='object', length=105)"
            ]
          },
          "metadata": {},
          "execution_count": 16
        }
      ],
      "source": [
        "df.columns"
      ]
    },
    {
      "cell_type": "code",
      "execution_count": 40,
      "metadata": {
        "colab": {
          "base_uri": "https://localhost:8080/",
          "height": 371
        },
        "id": "lBaQ63bQrm5r",
        "outputId": "2f657d0b-9527-4f87-f535-38ad6bb1b2d3"
      },
      "outputs": [
        {
          "output_type": "stream",
          "name": "stdout",
          "text": [
            "unzip:  cannot find or open /content/essays.csv.zip, /content/essays.csv.zip.zip or /content/essays.csv.zip.ZIP.\n"
          ]
        },
        {
          "output_type": "error",
          "ename": "FileNotFoundError",
          "evalue": "ignored",
          "traceback": [
            "\u001b[0;31m---------------------------------------------------------------------------\u001b[0m",
            "\u001b[0;31mFileNotFoundError\u001b[0m                         Traceback (most recent call last)",
            "\u001b[0;32m<ipython-input-40-a36378f57e6f>\u001b[0m in \u001b[0;36m<module>\u001b[0;34m\u001b[0m\n\u001b[1;32m      1\u001b[0m \u001b[0mget_ipython\u001b[0m\u001b[0;34m(\u001b[0m\u001b[0;34m)\u001b[0m\u001b[0;34m.\u001b[0m\u001b[0msystem\u001b[0m\u001b[0;34m(\u001b[0m\u001b[0;34m'unzip /content/essays.csv.zip'\u001b[0m\u001b[0;34m)\u001b[0m\u001b[0;34m\u001b[0m\u001b[0;34m\u001b[0m\u001b[0m\n\u001b[0;32m----> 2\u001b[0;31m \u001b[0mfull_essays\u001b[0m \u001b[0;34m=\u001b[0m \u001b[0mpd\u001b[0m\u001b[0;34m.\u001b[0m\u001b[0mread_csv\u001b[0m\u001b[0;34m(\u001b[0m\u001b[0;34m\"/content/essays.csv\"\u001b[0m\u001b[0;34m)\u001b[0m\u001b[0;34m\u001b[0m\u001b[0;34m\u001b[0m\u001b[0m\n\u001b[0m\u001b[1;32m      3\u001b[0m \u001b[0mfull_essays\u001b[0m\u001b[0;34m.\u001b[0m\u001b[0mhead\u001b[0m\u001b[0;34m(\u001b[0m\u001b[0;34m)\u001b[0m\u001b[0;34m\u001b[0m\u001b[0;34m\u001b[0m\u001b[0m\n",
            "\u001b[0;32m/usr/local/lib/python3.8/dist-packages/pandas/util/_decorators.py\u001b[0m in \u001b[0;36mwrapper\u001b[0;34m(*args, **kwargs)\u001b[0m\n\u001b[1;32m    309\u001b[0m                     \u001b[0mstacklevel\u001b[0m\u001b[0;34m=\u001b[0m\u001b[0mstacklevel\u001b[0m\u001b[0;34m,\u001b[0m\u001b[0;34m\u001b[0m\u001b[0;34m\u001b[0m\u001b[0m\n\u001b[1;32m    310\u001b[0m                 )\n\u001b[0;32m--> 311\u001b[0;31m             \u001b[0;32mreturn\u001b[0m \u001b[0mfunc\u001b[0m\u001b[0;34m(\u001b[0m\u001b[0;34m*\u001b[0m\u001b[0margs\u001b[0m\u001b[0;34m,\u001b[0m \u001b[0;34m**\u001b[0m\u001b[0mkwargs\u001b[0m\u001b[0;34m)\u001b[0m\u001b[0;34m\u001b[0m\u001b[0;34m\u001b[0m\u001b[0m\n\u001b[0m\u001b[1;32m    312\u001b[0m \u001b[0;34m\u001b[0m\u001b[0m\n\u001b[1;32m    313\u001b[0m         \u001b[0;32mreturn\u001b[0m \u001b[0mwrapper\u001b[0m\u001b[0;34m\u001b[0m\u001b[0;34m\u001b[0m\u001b[0m\n",
            "\u001b[0;32m/usr/local/lib/python3.8/dist-packages/pandas/io/parsers/readers.py\u001b[0m in \u001b[0;36mread_csv\u001b[0;34m(filepath_or_buffer, sep, delimiter, header, names, index_col, usecols, squeeze, prefix, mangle_dupe_cols, dtype, engine, converters, true_values, false_values, skipinitialspace, skiprows, skipfooter, nrows, na_values, keep_default_na, na_filter, verbose, skip_blank_lines, parse_dates, infer_datetime_format, keep_date_col, date_parser, dayfirst, cache_dates, iterator, chunksize, compression, thousands, decimal, lineterminator, quotechar, quoting, doublequote, escapechar, comment, encoding, encoding_errors, dialect, error_bad_lines, warn_bad_lines, on_bad_lines, delim_whitespace, low_memory, memory_map, float_precision, storage_options)\u001b[0m\n\u001b[1;32m    584\u001b[0m     \u001b[0mkwds\u001b[0m\u001b[0;34m.\u001b[0m\u001b[0mupdate\u001b[0m\u001b[0;34m(\u001b[0m\u001b[0mkwds_defaults\u001b[0m\u001b[0;34m)\u001b[0m\u001b[0;34m\u001b[0m\u001b[0;34m\u001b[0m\u001b[0m\n\u001b[1;32m    585\u001b[0m \u001b[0;34m\u001b[0m\u001b[0m\n\u001b[0;32m--> 586\u001b[0;31m     \u001b[0;32mreturn\u001b[0m \u001b[0m_read\u001b[0m\u001b[0;34m(\u001b[0m\u001b[0mfilepath_or_buffer\u001b[0m\u001b[0;34m,\u001b[0m \u001b[0mkwds\u001b[0m\u001b[0;34m)\u001b[0m\u001b[0;34m\u001b[0m\u001b[0;34m\u001b[0m\u001b[0m\n\u001b[0m\u001b[1;32m    587\u001b[0m \u001b[0;34m\u001b[0m\u001b[0m\n\u001b[1;32m    588\u001b[0m \u001b[0;34m\u001b[0m\u001b[0m\n",
            "\u001b[0;32m/usr/local/lib/python3.8/dist-packages/pandas/io/parsers/readers.py\u001b[0m in \u001b[0;36m_read\u001b[0;34m(filepath_or_buffer, kwds)\u001b[0m\n\u001b[1;32m    480\u001b[0m \u001b[0;34m\u001b[0m\u001b[0m\n\u001b[1;32m    481\u001b[0m     \u001b[0;31m# Create the parser.\u001b[0m\u001b[0;34m\u001b[0m\u001b[0;34m\u001b[0m\u001b[0;34m\u001b[0m\u001b[0m\n\u001b[0;32m--> 482\u001b[0;31m     \u001b[0mparser\u001b[0m \u001b[0;34m=\u001b[0m \u001b[0mTextFileReader\u001b[0m\u001b[0;34m(\u001b[0m\u001b[0mfilepath_or_buffer\u001b[0m\u001b[0;34m,\u001b[0m \u001b[0;34m**\u001b[0m\u001b[0mkwds\u001b[0m\u001b[0;34m)\u001b[0m\u001b[0;34m\u001b[0m\u001b[0;34m\u001b[0m\u001b[0m\n\u001b[0m\u001b[1;32m    483\u001b[0m \u001b[0;34m\u001b[0m\u001b[0m\n\u001b[1;32m    484\u001b[0m     \u001b[0;32mif\u001b[0m \u001b[0mchunksize\u001b[0m \u001b[0;32mor\u001b[0m \u001b[0miterator\u001b[0m\u001b[0;34m:\u001b[0m\u001b[0;34m\u001b[0m\u001b[0;34m\u001b[0m\u001b[0m\n",
            "\u001b[0;32m/usr/local/lib/python3.8/dist-packages/pandas/io/parsers/readers.py\u001b[0m in \u001b[0;36m__init__\u001b[0;34m(self, f, engine, **kwds)\u001b[0m\n\u001b[1;32m    809\u001b[0m             \u001b[0mself\u001b[0m\u001b[0;34m.\u001b[0m\u001b[0moptions\u001b[0m\u001b[0;34m[\u001b[0m\u001b[0;34m\"has_index_names\"\u001b[0m\u001b[0;34m]\u001b[0m \u001b[0;34m=\u001b[0m \u001b[0mkwds\u001b[0m\u001b[0;34m[\u001b[0m\u001b[0;34m\"has_index_names\"\u001b[0m\u001b[0;34m]\u001b[0m\u001b[0;34m\u001b[0m\u001b[0;34m\u001b[0m\u001b[0m\n\u001b[1;32m    810\u001b[0m \u001b[0;34m\u001b[0m\u001b[0m\n\u001b[0;32m--> 811\u001b[0;31m         \u001b[0mself\u001b[0m\u001b[0;34m.\u001b[0m\u001b[0m_engine\u001b[0m \u001b[0;34m=\u001b[0m \u001b[0mself\u001b[0m\u001b[0;34m.\u001b[0m\u001b[0m_make_engine\u001b[0m\u001b[0;34m(\u001b[0m\u001b[0mself\u001b[0m\u001b[0;34m.\u001b[0m\u001b[0mengine\u001b[0m\u001b[0;34m)\u001b[0m\u001b[0;34m\u001b[0m\u001b[0;34m\u001b[0m\u001b[0m\n\u001b[0m\u001b[1;32m    812\u001b[0m \u001b[0;34m\u001b[0m\u001b[0m\n\u001b[1;32m    813\u001b[0m     \u001b[0;32mdef\u001b[0m \u001b[0mclose\u001b[0m\u001b[0;34m(\u001b[0m\u001b[0mself\u001b[0m\u001b[0;34m)\u001b[0m\u001b[0;34m:\u001b[0m\u001b[0;34m\u001b[0m\u001b[0;34m\u001b[0m\u001b[0m\n",
            "\u001b[0;32m/usr/local/lib/python3.8/dist-packages/pandas/io/parsers/readers.py\u001b[0m in \u001b[0;36m_make_engine\u001b[0;34m(self, engine)\u001b[0m\n\u001b[1;32m   1038\u001b[0m             )\n\u001b[1;32m   1039\u001b[0m         \u001b[0;31m# error: Too many arguments for \"ParserBase\"\u001b[0m\u001b[0;34m\u001b[0m\u001b[0;34m\u001b[0m\u001b[0;34m\u001b[0m\u001b[0m\n\u001b[0;32m-> 1040\u001b[0;31m         \u001b[0;32mreturn\u001b[0m \u001b[0mmapping\u001b[0m\u001b[0;34m[\u001b[0m\u001b[0mengine\u001b[0m\u001b[0;34m]\u001b[0m\u001b[0;34m(\u001b[0m\u001b[0mself\u001b[0m\u001b[0;34m.\u001b[0m\u001b[0mf\u001b[0m\u001b[0;34m,\u001b[0m \u001b[0;34m**\u001b[0m\u001b[0mself\u001b[0m\u001b[0;34m.\u001b[0m\u001b[0moptions\u001b[0m\u001b[0;34m)\u001b[0m  \u001b[0;31m# type: ignore[call-arg]\u001b[0m\u001b[0;34m\u001b[0m\u001b[0;34m\u001b[0m\u001b[0m\n\u001b[0m\u001b[1;32m   1041\u001b[0m \u001b[0;34m\u001b[0m\u001b[0m\n\u001b[1;32m   1042\u001b[0m     \u001b[0;32mdef\u001b[0m \u001b[0m_failover_to_python\u001b[0m\u001b[0;34m(\u001b[0m\u001b[0mself\u001b[0m\u001b[0;34m)\u001b[0m\u001b[0;34m:\u001b[0m\u001b[0;34m\u001b[0m\u001b[0;34m\u001b[0m\u001b[0m\n",
            "\u001b[0;32m/usr/local/lib/python3.8/dist-packages/pandas/io/parsers/c_parser_wrapper.py\u001b[0m in \u001b[0;36m__init__\u001b[0;34m(self, src, **kwds)\u001b[0m\n\u001b[1;32m     49\u001b[0m \u001b[0;34m\u001b[0m\u001b[0m\n\u001b[1;32m     50\u001b[0m         \u001b[0;31m# open handles\u001b[0m\u001b[0;34m\u001b[0m\u001b[0;34m\u001b[0m\u001b[0;34m\u001b[0m\u001b[0m\n\u001b[0;32m---> 51\u001b[0;31m         \u001b[0mself\u001b[0m\u001b[0;34m.\u001b[0m\u001b[0m_open_handles\u001b[0m\u001b[0;34m(\u001b[0m\u001b[0msrc\u001b[0m\u001b[0;34m,\u001b[0m \u001b[0mkwds\u001b[0m\u001b[0;34m)\u001b[0m\u001b[0;34m\u001b[0m\u001b[0;34m\u001b[0m\u001b[0m\n\u001b[0m\u001b[1;32m     52\u001b[0m         \u001b[0;32massert\u001b[0m \u001b[0mself\u001b[0m\u001b[0;34m.\u001b[0m\u001b[0mhandles\u001b[0m \u001b[0;32mis\u001b[0m \u001b[0;32mnot\u001b[0m \u001b[0;32mNone\u001b[0m\u001b[0;34m\u001b[0m\u001b[0;34m\u001b[0m\u001b[0m\n\u001b[1;32m     53\u001b[0m \u001b[0;34m\u001b[0m\u001b[0m\n",
            "\u001b[0;32m/usr/local/lib/python3.8/dist-packages/pandas/io/parsers/base_parser.py\u001b[0m in \u001b[0;36m_open_handles\u001b[0;34m(self, src, kwds)\u001b[0m\n\u001b[1;32m    220\u001b[0m         \u001b[0mLet\u001b[0m \u001b[0mthe\u001b[0m \u001b[0mreaders\u001b[0m \u001b[0mopen\u001b[0m \u001b[0mIOHandles\u001b[0m \u001b[0mafter\u001b[0m \u001b[0mthey\u001b[0m \u001b[0mare\u001b[0m \u001b[0mdone\u001b[0m \u001b[0;32mwith\u001b[0m \u001b[0mtheir\u001b[0m \u001b[0mpotential\u001b[0m \u001b[0mraises\u001b[0m\u001b[0;34m.\u001b[0m\u001b[0;34m\u001b[0m\u001b[0;34m\u001b[0m\u001b[0m\n\u001b[1;32m    221\u001b[0m         \"\"\"\n\u001b[0;32m--> 222\u001b[0;31m         self.handles = get_handle(\n\u001b[0m\u001b[1;32m    223\u001b[0m             \u001b[0msrc\u001b[0m\u001b[0;34m,\u001b[0m\u001b[0;34m\u001b[0m\u001b[0;34m\u001b[0m\u001b[0m\n\u001b[1;32m    224\u001b[0m             \u001b[0;34m\"r\"\u001b[0m\u001b[0;34m,\u001b[0m\u001b[0;34m\u001b[0m\u001b[0;34m\u001b[0m\u001b[0m\n",
            "\u001b[0;32m/usr/local/lib/python3.8/dist-packages/pandas/io/common.py\u001b[0m in \u001b[0;36mget_handle\u001b[0;34m(path_or_buf, mode, encoding, compression, memory_map, is_text, errors, storage_options)\u001b[0m\n\u001b[1;32m    700\u001b[0m         \u001b[0;32mif\u001b[0m \u001b[0mioargs\u001b[0m\u001b[0;34m.\u001b[0m\u001b[0mencoding\u001b[0m \u001b[0;32mand\u001b[0m \u001b[0;34m\"b\"\u001b[0m \u001b[0;32mnot\u001b[0m \u001b[0;32min\u001b[0m \u001b[0mioargs\u001b[0m\u001b[0;34m.\u001b[0m\u001b[0mmode\u001b[0m\u001b[0;34m:\u001b[0m\u001b[0;34m\u001b[0m\u001b[0;34m\u001b[0m\u001b[0m\n\u001b[1;32m    701\u001b[0m             \u001b[0;31m# Encoding\u001b[0m\u001b[0;34m\u001b[0m\u001b[0;34m\u001b[0m\u001b[0;34m\u001b[0m\u001b[0m\n\u001b[0;32m--> 702\u001b[0;31m             handle = open(\n\u001b[0m\u001b[1;32m    703\u001b[0m                 \u001b[0mhandle\u001b[0m\u001b[0;34m,\u001b[0m\u001b[0;34m\u001b[0m\u001b[0;34m\u001b[0m\u001b[0m\n\u001b[1;32m    704\u001b[0m                 \u001b[0mioargs\u001b[0m\u001b[0;34m.\u001b[0m\u001b[0mmode\u001b[0m\u001b[0;34m,\u001b[0m\u001b[0;34m\u001b[0m\u001b[0;34m\u001b[0m\u001b[0m\n",
            "\u001b[0;31mFileNotFoundError\u001b[0m: [Errno 2] No such file or directory: '/content/essays.csv'"
          ]
        }
      ],
      "source": [
        "!unzip /content/essays.csv.zip\n",
        "full_essays = pd.read_csv(\"/content/essays.csv\")\n",
        "full_essays.head()"
      ]
    },
    {
      "cell_type": "code",
      "execution_count": 24,
      "metadata": {
        "colab": {
          "base_uri": "https://localhost:8080/"
        },
        "id": "UWMC7K9vx4pe",
        "outputId": "40273410-10ee-4ab8-8e16-25787f6aeccf"
      },
      "outputs": [
        {
          "output_type": "stream",
          "name": "stderr",
          "text": [
            "[nltk_data] Downloading package vader_lexicon to /root/nltk_data...\n",
            "[nltk_data]   Package vader_lexicon is already up-to-date!\n"
          ]
        }
      ],
      "source": [
        "import nltk\n",
        "nltk.download('vader_lexicon')\n",
        "sid = SentimentIntensityAnalyzer()"
      ]
    },
    {
      "cell_type": "code",
      "execution_count": 25,
      "metadata": {
        "colab": {
          "base_uri": "https://localhost:8080/"
        },
        "id": "s4Q4et7cyUEz",
        "outputId": "bf5f91a3-5061-4eab-fd7d-f35526df45d0"
      },
      "outputs": [
        {
          "output_type": "execute_result",
          "data": {
            "text/plain": [
              "(664098, 6)"
            ]
          },
          "metadata": {},
          "execution_count": 25
        }
      ],
      "source": [
        "full_essays.shape"
      ]
    },
    {
      "cell_type": "code",
      "execution_count": 26,
      "metadata": {
        "id": "p_C-BMmMx5b3"
      },
      "outputs": [],
      "source": [
        "sample_essays = full_essays.iloc[:100000]"
      ]
    },
    {
      "cell_type": "code",
      "execution_count": 27,
      "metadata": {
        "id": "vjQ5ZW2s64mU"
      },
      "outputs": [],
      "source": [
        "sample_polarity = sample_essays['title'].astype(str).apply(lambda x: sid.polarity_scores(x))"
      ]
    },
    {
      "cell_type": "code",
      "execution_count": 28,
      "metadata": {
        "id": "Z4fuFCHw7QJF"
      },
      "outputs": [],
      "source": [
        "sample_polarity = sample_essays['short_description'].astype(str).apply(lambda x: sid.polarity_scores(x))"
      ]
    },
    {
      "cell_type": "code",
      "execution_count": 29,
      "metadata": {
        "colab": {
          "base_uri": "https://localhost:8080/"
        },
        "id": "t8-RaZODp7sH",
        "outputId": "b352e842-ecb8-4299-a2dd-a01d993330fe"
      },
      "outputs": [
        {
          "output_type": "stream",
          "name": "stdout",
          "text": [
            "title\n",
            "short_description\n",
            "need_statement\n",
            "essay\n",
            "title\n",
            "short_description\n"
          ]
        }
      ],
      "source": [
        "#flair_sentiment= flair.models.TextClassifier.load('en-sentiment')\n",
        "sid = SentimentIntensityAnalyzer()\n",
        "for col in ['title','short_description', 'need_statement', 'essay']:\n",
        "  print(col)\n",
        "  full_essays[col + '_len'] = full_essays[col].str.len()\n",
        "  full_essays[col + '_wordlen'] = full_essays[col].astype(str).apply(lambda x: len(x) / len(x.split(' ')))\n",
        "\n",
        "for col in ['title','short_description']:\n",
        "  print(col)\n",
        "  full_essays[col + '_sent'] = full_essays[col].astype(str).apply(lambda x: sid.polarity_scores(x))\n",
        "  full_essays[col + '_sentnet'] = full_essays[col + '_sent'].apply(lambda x: x['pos'] - x['neg'])\n",
        "  full_essays[col + '_sentpol'] = full_essays[col + '_sent'].apply(lambda x: x['pos'] + x['neg'])"
      ]
    },
    {
      "cell_type": "code",
      "execution_count": 30,
      "metadata": {
        "id": "tHl8k0mNJ8SE"
      },
      "outputs": [],
      "source": [
        "full_essays = full_essays.drop(columns=['teacher_acctid', 'title', 'short_description', 'need_statement', 'essay'])"
      ]
    },
    {
      "cell_type": "code",
      "execution_count": 31,
      "metadata": {
        "id": "uO3i2YyvJsR8"
      },
      "outputs": [],
      "source": [
        "df = pd.merge(df, full_essays, on=['projectid'], how='left')"
      ]
    },
    {
      "cell_type": "code",
      "execution_count": 32,
      "metadata": {
        "colab": {
          "base_uri": "https://localhost:8080/"
        },
        "id": "Y8T7wymuQfIY",
        "outputId": "6cd4c226-84ec-4075-8bc6-e07c9becf0b9"
      },
      "outputs": [
        {
          "output_type": "execute_result",
          "data": {
            "text/plain": [
              "Index(['projectid', 'teacher_acctid', 'schoolid', 'school_ncesid',\n",
              "       'school_latitude', 'school_longitude', 'school_city', 'school_zip',\n",
              "       'school_metro', 'school_district',\n",
              "       ...\n",
              "       'need_statement_len', 'need_statement_wordlen', 'essay_len',\n",
              "       'essay_wordlen', 'title_sent', 'title_sentnet', 'title_sentpol',\n",
              "       'short_description_sent', 'short_description_sentnet',\n",
              "       'short_description_sentpol'],\n",
              "      dtype='object', length=117)"
            ]
          },
          "metadata": {},
          "execution_count": 32
        }
      ],
      "source": [
        "df.columns"
      ]
    },
    {
      "cell_type": "code",
      "source": [
        "import numpy as np"
      ],
      "metadata": {
        "id": "kYbaYBXmogpb"
      },
      "execution_count": 16,
      "outputs": []
    },
    {
      "cell_type": "code",
      "execution_count": 41,
      "metadata": {
        "colab": {
          "base_uri": "https://localhost:8080/",
          "height": 389
        },
        "id": "mVjcnYOGQfIY",
        "outputId": "5d939b90-cd1d-4af9-cdb9-ad363ba73102"
      },
      "outputs": [
        {
          "output_type": "error",
          "ename": "KeyError",
          "evalue": "ignored",
          "traceback": [
            "\u001b[0;31m---------------------------------------------------------------------------\u001b[0m",
            "\u001b[0;31mKeyError\u001b[0m                                  Traceback (most recent call last)",
            "\u001b[0;32m<ipython-input-41-4fa936b62856>\u001b[0m in \u001b[0;36m<module>\u001b[0;34m\u001b[0m\n\u001b[0;32m----> 1\u001b[0;31m \u001b[0mresource_df\u001b[0m \u001b[0;34m=\u001b[0m \u001b[0mfull_resources\u001b[0m\u001b[0;34m[\u001b[0m\u001b[0;34m[\u001b[0m\u001b[0;34m'resourceid'\u001b[0m\u001b[0;34m,\u001b[0m \u001b[0;34m'projectid'\u001b[0m\u001b[0;34m,\u001b[0m \u001b[0;34m'project_resource_type'\u001b[0m\u001b[0;34m,\u001b[0m \u001b[0;34m'item_unit_price'\u001b[0m\u001b[0;34m,\u001b[0m \u001b[0;34m'item_quantity'\u001b[0m\u001b[0;34m]\u001b[0m\u001b[0;34m]\u001b[0m\u001b[0;34m\u001b[0m\u001b[0;34m\u001b[0m\u001b[0m\n\u001b[0m\u001b[1;32m      2\u001b[0m \u001b[0mresource_df\u001b[0m\u001b[0;34m[\u001b[0m\u001b[0;34m'project_resource_type'\u001b[0m\u001b[0;34m]\u001b[0m \u001b[0;34m=\u001b[0m \u001b[0mresource_df\u001b[0m\u001b[0;34m[\u001b[0m\u001b[0;34m'project_resource_type'\u001b[0m\u001b[0;34m]\u001b[0m\u001b[0;34m.\u001b[0m\u001b[0mastype\u001b[0m\u001b[0;34m(\u001b[0m\u001b[0;34m'str'\u001b[0m\u001b[0;34m)\u001b[0m\u001b[0;34m\u001b[0m\u001b[0;34m\u001b[0m\u001b[0m\n\u001b[1;32m      3\u001b[0m \u001b[0;34m\u001b[0m\u001b[0m\n\u001b[1;32m      4\u001b[0m \u001b[0;31m# Fill in missing values of item_unit_price & item_quantity\u001b[0m\u001b[0;34m\u001b[0m\u001b[0;34m\u001b[0m\u001b[0;34m\u001b[0m\u001b[0m\n\u001b[1;32m      5\u001b[0m \u001b[0mresource_types\u001b[0m \u001b[0;34m=\u001b[0m \u001b[0mnp\u001b[0m\u001b[0;34m.\u001b[0m\u001b[0munique\u001b[0m\u001b[0;34m(\u001b[0m\u001b[0mresource_df\u001b[0m\u001b[0;34m[\u001b[0m\u001b[0;34m'project_resource_type'\u001b[0m\u001b[0;34m]\u001b[0m\u001b[0;34m.\u001b[0m\u001b[0mtolist\u001b[0m\u001b[0;34m(\u001b[0m\u001b[0;34m)\u001b[0m\u001b[0;34m)\u001b[0m\u001b[0;34m\u001b[0m\u001b[0;34m\u001b[0m\u001b[0m\n",
            "\u001b[0;32m/usr/local/lib/python3.8/dist-packages/pandas/core/frame.py\u001b[0m in \u001b[0;36m__getitem__\u001b[0;34m(self, key)\u001b[0m\n\u001b[1;32m   3462\u001b[0m             \u001b[0;32mif\u001b[0m \u001b[0mis_iterator\u001b[0m\u001b[0;34m(\u001b[0m\u001b[0mkey\u001b[0m\u001b[0;34m)\u001b[0m\u001b[0;34m:\u001b[0m\u001b[0;34m\u001b[0m\u001b[0;34m\u001b[0m\u001b[0m\n\u001b[1;32m   3463\u001b[0m                 \u001b[0mkey\u001b[0m \u001b[0;34m=\u001b[0m \u001b[0mlist\u001b[0m\u001b[0;34m(\u001b[0m\u001b[0mkey\u001b[0m\u001b[0;34m)\u001b[0m\u001b[0;34m\u001b[0m\u001b[0;34m\u001b[0m\u001b[0m\n\u001b[0;32m-> 3464\u001b[0;31m             \u001b[0mindexer\u001b[0m \u001b[0;34m=\u001b[0m \u001b[0mself\u001b[0m\u001b[0;34m.\u001b[0m\u001b[0mloc\u001b[0m\u001b[0;34m.\u001b[0m\u001b[0m_get_listlike_indexer\u001b[0m\u001b[0;34m(\u001b[0m\u001b[0mkey\u001b[0m\u001b[0;34m,\u001b[0m \u001b[0maxis\u001b[0m\u001b[0;34m=\u001b[0m\u001b[0;36m1\u001b[0m\u001b[0;34m)\u001b[0m\u001b[0;34m[\u001b[0m\u001b[0;36m1\u001b[0m\u001b[0;34m]\u001b[0m\u001b[0;34m\u001b[0m\u001b[0;34m\u001b[0m\u001b[0m\n\u001b[0m\u001b[1;32m   3465\u001b[0m \u001b[0;34m\u001b[0m\u001b[0m\n\u001b[1;32m   3466\u001b[0m         \u001b[0;31m# take() does not accept boolean indexers\u001b[0m\u001b[0;34m\u001b[0m\u001b[0;34m\u001b[0m\u001b[0;34m\u001b[0m\u001b[0m\n",
            "\u001b[0;32m/usr/local/lib/python3.8/dist-packages/pandas/core/indexing.py\u001b[0m in \u001b[0;36m_get_listlike_indexer\u001b[0;34m(self, key, axis)\u001b[0m\n\u001b[1;32m   1312\u001b[0m             \u001b[0mkeyarr\u001b[0m\u001b[0;34m,\u001b[0m \u001b[0mindexer\u001b[0m\u001b[0;34m,\u001b[0m \u001b[0mnew_indexer\u001b[0m \u001b[0;34m=\u001b[0m \u001b[0max\u001b[0m\u001b[0;34m.\u001b[0m\u001b[0m_reindex_non_unique\u001b[0m\u001b[0;34m(\u001b[0m\u001b[0mkeyarr\u001b[0m\u001b[0;34m)\u001b[0m\u001b[0;34m\u001b[0m\u001b[0;34m\u001b[0m\u001b[0m\n\u001b[1;32m   1313\u001b[0m \u001b[0;34m\u001b[0m\u001b[0m\n\u001b[0;32m-> 1314\u001b[0;31m         \u001b[0mself\u001b[0m\u001b[0;34m.\u001b[0m\u001b[0m_validate_read_indexer\u001b[0m\u001b[0;34m(\u001b[0m\u001b[0mkeyarr\u001b[0m\u001b[0;34m,\u001b[0m \u001b[0mindexer\u001b[0m\u001b[0;34m,\u001b[0m \u001b[0maxis\u001b[0m\u001b[0;34m)\u001b[0m\u001b[0;34m\u001b[0m\u001b[0;34m\u001b[0m\u001b[0m\n\u001b[0m\u001b[1;32m   1315\u001b[0m \u001b[0;34m\u001b[0m\u001b[0m\n\u001b[1;32m   1316\u001b[0m         if needs_i8_conversion(ax.dtype) or isinstance(\n",
            "\u001b[0;32m/usr/local/lib/python3.8/dist-packages/pandas/core/indexing.py\u001b[0m in \u001b[0;36m_validate_read_indexer\u001b[0;34m(self, key, indexer, axis)\u001b[0m\n\u001b[1;32m   1375\u001b[0m \u001b[0;34m\u001b[0m\u001b[0m\n\u001b[1;32m   1376\u001b[0m             \u001b[0mnot_found\u001b[0m \u001b[0;34m=\u001b[0m \u001b[0mlist\u001b[0m\u001b[0;34m(\u001b[0m\u001b[0mensure_index\u001b[0m\u001b[0;34m(\u001b[0m\u001b[0mkey\u001b[0m\u001b[0;34m)\u001b[0m\u001b[0;34m[\u001b[0m\u001b[0mmissing_mask\u001b[0m\u001b[0;34m.\u001b[0m\u001b[0mnonzero\u001b[0m\u001b[0;34m(\u001b[0m\u001b[0;34m)\u001b[0m\u001b[0;34m[\u001b[0m\u001b[0;36m0\u001b[0m\u001b[0;34m]\u001b[0m\u001b[0;34m]\u001b[0m\u001b[0;34m.\u001b[0m\u001b[0munique\u001b[0m\u001b[0;34m(\u001b[0m\u001b[0;34m)\u001b[0m\u001b[0;34m)\u001b[0m\u001b[0;34m\u001b[0m\u001b[0;34m\u001b[0m\u001b[0m\n\u001b[0;32m-> 1377\u001b[0;31m             \u001b[0;32mraise\u001b[0m \u001b[0mKeyError\u001b[0m\u001b[0;34m(\u001b[0m\u001b[0;34mf\"{not_found} not in index\"\u001b[0m\u001b[0;34m)\u001b[0m\u001b[0;34m\u001b[0m\u001b[0;34m\u001b[0m\u001b[0m\n\u001b[0m\u001b[1;32m   1378\u001b[0m \u001b[0;34m\u001b[0m\u001b[0m\n\u001b[1;32m   1379\u001b[0m \u001b[0;34m\u001b[0m\u001b[0m\n",
            "\u001b[0;31mKeyError\u001b[0m: \"['projectid'] not in index\""
          ]
        }
      ],
      "source": [
        "resource_df = full_resources[['resourceid', 'projectid', 'project_resource_type', 'item_unit_price', 'item_quantity']]\n",
        "resource_df['project_resource_type'] = resource_df['project_resource_type'].astype('str')\n",
        "\n",
        "# Fill in missing values of item_unit_price & item_quantity\n",
        "resource_types = np.unique(resource_df['project_resource_type'].tolist())\n",
        "avg_unit_price = {}\n",
        "avg_quantity = {}\n",
        "for rtype in resource_types:\n",
        "  avg = resource_df.loc[resource_df['project_resource_type'] == rtype]['item_unit_price'].mean()\n",
        "  avg_unit_price[rtype] = avg\n",
        "  avg_num = np.floor(resource_df.loc[resource_df['project_resource_type'] == rtype]['item_quantity'].mean())\n",
        "  avg_quantity[rtype] = avg_num\n",
        "\n",
        "resource_df['avg_unit_price'] = resource_df.apply(lambda row: avg_unit_price[row['project_resource_type']], axis=1) # This could take a minute to run\n",
        "resource_df['avg_quantity'] = resource_df.apply(lambda row: avg_quantity[row['project_resource_type']], axis=1)\n",
        "\n",
        "resource_df['item_unit_price'] = resource_df['item_unit_price'].fillna(resource_df['avg_unit_price'])\n",
        "resource_df['item_quantity'] = resource_df['item_quantity'].fillna(resource_df['avg_quantity'])\n",
        "\n",
        "resource_df = resource_df.groupby('projectid').agg({'item_unit_price':'mean', 'item_quantity':'sum'}).reset_index().rename(columns={'item_unit_price':'avg_unit_price', 'item_quantity':'total_item_quantity'})\n",
        "df = df.merge(resource_df, how='left', on='projectid')"
      ]
    },
    {
      "cell_type": "code",
      "source": [
        "avg_unit_price in list(df.columns)"
      ],
      "metadata": {
        "colab": {
          "base_uri": "https://localhost:8080/"
        },
        "id": "2SqyHd4NrV4S",
        "outputId": "e36528ae-85fd-485c-dcb6-1a9dcdb61ba9"
      },
      "execution_count": 38,
      "outputs": [
        {
          "output_type": "execute_result",
          "data": {
            "text/plain": [
              "False"
            ]
          },
          "metadata": {},
          "execution_count": 38
        }
      ]
    },
    {
      "cell_type": "code",
      "execution_count": 58,
      "metadata": {
        "colab": {
          "base_uri": "https://localhost:8080/"
        },
        "id": "Kf6z5hxescIC",
        "outputId": "6acc7438-00cc-4bba-c6c1-83fffc805b54"
      },
      "outputs": [
        {
          "output_type": "stream",
          "name": "stdout",
          "text": [
            "Index(['students_reached', 'children_helped_per_dollar', 'pct_funded_1mo',\n",
            "       'school_charter', 'school_kipp',\n",
            "       'total_price_excluding_optional_support', 'students_reached',\n",
            "       'teacher_acctid', 'school_city', 'date_posted', 'projectid',\n",
            "       'is_fully_funded_after_4_months', 'primary_focus_area:Applied_Learning',\n",
            "       'primary_focus_area:Health_&_Sports',\n",
            "       'primary_focus_area:History_&_Civics',\n",
            "       'primary_focus_area:Literacy_&_Language',\n",
            "       'primary_focus_area:Math_&_Science',\n",
            "       'primary_focus_area:Music_&_The_Arts',\n",
            "       'primary_focus_area:Special_Needs', 'resource_type:Books',\n",
            "       'resource_type:Other', 'resource_type:Supplies',\n",
            "       'resource_type:Technology', 'resource_type:Trips',\n",
            "       'resource_type:Visitors', 'poverty_level:high_poverty',\n",
            "       'poverty_level:highest_poverty', 'poverty_level:low_poverty',\n",
            "       'poverty_level:moderate_poverty'],\n",
            "      dtype='object')\n"
          ]
        }
      ],
      "source": [
        "resstat_cols = ['students_reached', 'children_helped_per_dollar', 'primary_focus_area', 'resource_type', 'poverty_level']\n",
        "\n",
        "text_cols = ['title_len', 'title_sentnet', 'title_sentpol', 'short_description_len', 'short_description_sentnet', 'short_description_sentpol','essay_len', 'need_statement_len']\n",
        "res_cols = ['avg_unit_price', 'total_item_quantity']\n",
        "don_cols = ['pct_funded_1mo']\n",
        "features = resstat_cols + text_cols + res_cols + don_cols + feature_cols_projects + ['projectid']\n",
        "Y = ['is_fully_funded_after_4_months']\n",
        "df_final = df[features + Y]\n",
        "\n",
        "# Silences a warning that doesn't affect anything\n",
        "pd.options.mode.chained_assignment = None\n",
        "\n",
        "for i in ['primary_focus_area', 'resource_type', 'poverty_level']:\n",
        "  new_addition = pd.get_dummies(df_final[i])\n",
        "  new_addition.columns = [i + \":\" + x.replace(\" \",\"_\") for x in new_addition.columns]\n",
        "  for col_name in new_addition.columns:\n",
        "    df_final[col_name] = new_addition[col_name].copy(deep=True)\n",
        "df_final.drop(columns = ['primary_focus_area', 'resource_type', 'poverty_level'], inplace=True)\n",
        "print(df_final.columns)"
      ]
    },
    {
      "cell_type": "code",
      "execution_count": 43,
      "metadata": {
        "id": "tuFsKR4U-rd6"
      },
      "outputs": [],
      "source": [
        "from datetime import datetime"
      ]
    },
    {
      "cell_type": "code",
      "execution_count": 44,
      "metadata": {
        "id": "Li6mGOER-kxh"
      },
      "outputs": [],
      "source": [
        "from dateutil.relativedelta import relativedelta"
      ]
    },
    {
      "cell_type": "code",
      "execution_count": 45,
      "metadata": {
        "id": "9RR81PuK9rQE"
      },
      "outputs": [],
      "source": [
        "def chron_split_date_ranges(dates, train_length = relativedelta(years=1), val_length = relativedelta(months=1), retrain_length = relativedelta(weeks=2), min_f_col = relativedelta(months=1), min_l_col = relativedelta(months=4)):\n",
        "  sorted = dates.sort_values()\n",
        "  first_date = sorted.iloc[0]\n",
        "  last_date = sorted.iloc[-1]\n",
        "\n",
        "  split_dates = []\n",
        "\n",
        "  curr = first_date\n",
        "\n",
        "  while curr + val_length + train_length + 2 * min_l_col + 2 * min_f_col < last_date:\n",
        "    train_start = curr + min_f_col\n",
        "    val_start = train_start + train_length + min_l_col + min_f_col\n",
        "    \n",
        "    split_dates.append({\n",
        "        \"train_feature_collection\": (curr, train_start),\n",
        "        \"train\": (train_start, train_start + train_length),\n",
        "        \"train_label_buffer\": (train_start + train_length, train_start + train_length + min_l_col),\n",
        "        \"val_feature_collection\": (train_start + train_length + min_l_col, val_start),\n",
        "        \"val\": (val_start , val_start + val_length),\n",
        "        \"val_label_buffer\": (val_start + val_length, val_start + val_length + min_l_col),\n",
        "        \"train_label\": (train_start + min_l_col, train_start + train_length + min_l_col),\n",
        "        \"val_label\": (val_start + min_l_col, val_start + val_length + min_l_col)\n",
        "    })\n",
        "\n",
        "    curr += retrain_length\n",
        "  return split_dates"
      ]
    },
    {
      "cell_type": "code",
      "execution_count": 66,
      "metadata": {
        "id": "xxLN3aGk_gY5"
      },
      "outputs": [],
      "source": [
        "split = chron_split_date_ranges(pd.to_datetime(df['date_posted']))[-2] # latest split"
      ]
    },
    {
      "cell_type": "code",
      "execution_count": 54,
      "metadata": {
        "colab": {
          "base_uri": "https://localhost:8080/"
        },
        "id": "LNPOkWRLQfIZ",
        "outputId": "6714f7af-912a-4e11-ad0f-bd0eaa47c290"
      },
      "outputs": [
        {
          "output_type": "execute_result",
          "data": {
            "text/plain": [
              "{'train_feature_collection': (Timestamp('2012-06-08 00:00:00'),\n",
              "  Timestamp('2012-07-08 00:00:00')),\n",
              " 'train': (Timestamp('2012-07-08 00:00:00'), Timestamp('2013-07-08 00:00:00')),\n",
              " 'train_label_buffer': (Timestamp('2013-07-08 00:00:00'),\n",
              "  Timestamp('2013-11-08 00:00:00')),\n",
              " 'val_feature_collection': (Timestamp('2013-11-08 00:00:00'),\n",
              "  Timestamp('2013-12-08 00:00:00')),\n",
              " 'val': (Timestamp('2013-12-08 00:00:00'), Timestamp('2014-01-08 00:00:00')),\n",
              " 'val_label_buffer': (Timestamp('2014-01-08 00:00:00'),\n",
              "  Timestamp('2014-05-08 00:00:00')),\n",
              " 'train_label': (Timestamp('2012-11-08 00:00:00'),\n",
              "  Timestamp('2013-11-08 00:00:00')),\n",
              " 'val_label': (Timestamp('2014-04-08 00:00:00'),\n",
              "  Timestamp('2014-05-08 00:00:00'))}"
            ]
          },
          "metadata": {},
          "execution_count": 54
        }
      ],
      "source": [
        "split"
      ]
    },
    {
      "cell_type": "code",
      "source": [
        "split[\"train\"][0]"
      ],
      "metadata": {
        "colab": {
          "base_uri": "https://localhost:8080/"
        },
        "id": "A_v4mroMkQOm",
        "outputId": "5504f456-5aba-4792-e979-43ea639502f0"
      },
      "execution_count": 54,
      "outputs": [
        {
          "output_type": "execute_result",
          "data": {
            "text/plain": [
              "Timestamp('2012-06-30 00:00:00')"
            ]
          },
          "metadata": {},
          "execution_count": 54
        }
      ]
    },
    {
      "cell_type": "code",
      "source": [
        "def compute_num_of_success_rate_by_feature(data, date, feature_names, full_donations):\n",
        "  donations_before_date = full_donations[full_donations['donation_timestamp'] < date]\n",
        "  data_before_date = pd.merge(data, donations_before_date, on=['projectid'], how='right')\n",
        "  for feature_name in feature_names:\n",
        "    num_of_success = dict(data_before_date.groupby([feature_name])['is_fully_funded_after_4_months'].sum())\n",
        "    num_of_projects = dict(data_before_date.groupby([feature_name]).size())\n",
        "    data['num_of_success_projects_' + feature_name]= data[feature_name].map(num_of_success)\n",
        "    data['num_of_projects_' + feature_name]= data[feature_name].map(num_of_projects)\n",
        "    data['success_rate_' + feature_name]= data['num_of_success_projects_' + feature_name] / final_X['num_of_projects_' + feature_name]\n",
        "    #drop 'school city'\n",
        "  data = data.drop(feature_names, axis=1)\n",
        "  return data"
      ],
      "metadata": {
        "id": "7QbXO_Kyo2yv"
      },
      "execution_count": 49,
      "outputs": []
    },
    {
      "cell_type": "code",
      "execution_count": 68,
      "metadata": {
        "id": "e4v4jp3ATLRQ",
        "colab": {
          "base_uri": "https://localhost:8080/"
        },
        "outputId": "351e95e5-16d9-450b-93c0-c827e166e382"
      },
      "outputs": [
        {
          "output_type": "stream",
          "name": "stdout",
          "text": [
            "(80060, 49)\n",
            "(80060, 49)\n"
          ]
        }
      ],
      "source": [
        "# compute success rate grouped by 'feature', only use historical data\n",
        "def compute_success_rate_by_feature(data, date, feature_names, full_donations):\n",
        "  donations_before_date = full_donations[full_donations['donation_timestamp'] < date]\n",
        "  data_before_date = pd.merge(data, donations_before_date, on=['projectid'], how='right')\n",
        "  print(data_before_date.shape)\n",
        "  for feature_name in feature_names:\n",
        "    num_of_success = dict(data_before_date.groupby([feature_name])['is_fully_funded_after_4_months'].sum())\n",
        "    num_of_projects = dict(data_before_date.groupby([feature_name]).size())\n",
        "    data['num_of_success_projects_' + feature_name]= data[feature_name].map(num_of_success)\n",
        "    data['num_of_projects_' + feature_name]= data[feature_name].map(num_of_projects)\n",
        "    data['success_rate_' + feature_name]= data['num_of_success_projects_' + feature_name] / data['num_of_projects_' + feature_name]\n",
        "    #drop 'school city'\n",
        "  data = data.drop(feature_names + ['projectid'], axis=1)\n",
        "\n",
        "  return data\n",
        "\n",
        "def generate_train_val(df, split):\n",
        "  train = df.loc[(split[\"train\"][0] <= df['date_posted']) & (df['date_posted'] < split[\"train\"][1])].drop(columns=['date_posted']).fillna(0)\n",
        "  train = compute_success_rate_by_feature(train, split[\"train\"][0], ['school_city', 'teacher_acctid'], full_donations)\n",
        "\n",
        "  val = df.loc[(split[\"val\"][0] <= df['date_posted']) & (df['date_posted'] < split[\"val\"][1])].drop(columns=['date_posted']).fillna(0)\n",
        "  val = compute_success_rate_by_feature(val, split[\"train\"][0], ['school_city', 'teacher_acctid'], full_donations)\n",
        "  return pd.DataFrame(train), pd.DataFrame(val)\n"
      ]
    },
    {
      "cell_type": "code",
      "source": [
        "df_final.columns"
      ],
      "metadata": {
        "colab": {
          "base_uri": "https://localhost:8080/"
        },
        "id": "18cbEGyPxuIU",
        "outputId": "343eba1a-901f-454b-d2c4-dfcd27fb05a7"
      },
      "execution_count": 57,
      "outputs": [
        {
          "output_type": "execute_result",
          "data": {
            "text/plain": [
              "Index(['students_reached', 'children_helped_per_dollar', 'pct_funded_1mo',\n",
              "       'school_charter', 'school_kipp',\n",
              "       'total_price_excluding_optional_support', 'students_reached',\n",
              "       'teacher_acctid', 'school_city', 'date_posted',\n",
              "       'is_fully_funded_after_4_months', 'primary_focus_area:Applied_Learning',\n",
              "       'primary_focus_area:Health_&_Sports',\n",
              "       'primary_focus_area:History_&_Civics',\n",
              "       'primary_focus_area:Literacy_&_Language',\n",
              "       'primary_focus_area:Math_&_Science',\n",
              "       'primary_focus_area:Music_&_The_Arts',\n",
              "       'primary_focus_area:Special_Needs', 'resource_type:Books',\n",
              "       'resource_type:Other', 'resource_type:Supplies',\n",
              "       'resource_type:Technology', 'resource_type:Trips',\n",
              "       'resource_type:Visitors', 'poverty_level:high_poverty',\n",
              "       'poverty_level:highest_poverty', 'poverty_level:low_poverty',\n",
              "       'poverty_level:moderate_poverty'],\n",
              "      dtype='object')"
            ]
          },
          "metadata": {},
          "execution_count": 57
        }
      ]
    },
    {
      "cell_type": "code",
      "execution_count": 70,
      "metadata": {
        "id": "AkzA9Bi4bEci",
        "colab": {
          "base_uri": "https://localhost:8080/"
        },
        "outputId": "becd7391-7987-48de-c156-115fd9afdb8e"
      },
      "outputs": [
        {
          "output_type": "stream",
          "name": "stdout",
          "text": [
            "(80060, 49)\n",
            "(80060, 49)\n"
          ]
        }
      ],
      "source": [
        "train, val = generate_train_val(df_final, split)"
      ]
    },
    {
      "cell_type": "code",
      "execution_count": 63,
      "metadata": {
        "id": "Et0zlGzDcqfU"
      },
      "outputs": [],
      "source": [
        "train_X = train.drop(columns=['is_fully_funded_after_4_months']).reset_index()\n",
        "train_Y = train['is_fully_funded_after_4_months'].values\n",
        "val_X = val.drop(columns=['is_fully_funded_after_4_months']).reset_index()\n",
        "val_Y = val['is_fully_funded_after_4_months'].values"
      ]
    },
    {
      "cell_type": "code",
      "execution_count": 69,
      "metadata": {
        "colab": {
          "base_uri": "https://localhost:8080/"
        },
        "id": "E3L8h8vBV9Tf",
        "outputId": "a4308eab-aee0-419e-adde-c134f3d4f777"
      },
      "outputs": [
        {
          "output_type": "stream",
          "name": "stdout",
          "text": [
            "Index(['index', 'students_reached', 'children_helped_per_dollar',\n",
            "       'pct_funded_1mo', 'school_charter', 'school_kipp',\n",
            "       'total_price_excluding_optional_support', 'students_reached',\n",
            "       'projectid', 'primary_focus_area:Applied_Learning',\n",
            "       'primary_focus_area:Health_&_Sports',\n",
            "       'primary_focus_area:History_&_Civics',\n",
            "       'primary_focus_area:Literacy_&_Language',\n",
            "       'primary_focus_area:Math_&_Science',\n",
            "       'primary_focus_area:Music_&_The_Arts',\n",
            "       'primary_focus_area:Special_Needs', 'resource_type:Books',\n",
            "       'resource_type:Other', 'resource_type:Supplies',\n",
            "       'resource_type:Technology', 'resource_type:Trips',\n",
            "       'resource_type:Visitors', 'poverty_level:high_poverty',\n",
            "       'poverty_level:highest_poverty', 'poverty_level:low_poverty',\n",
            "       'poverty_level:moderate_poverty', 'num_of_success_projects_school_city',\n",
            "       'num_of_projects_school_city', 'success_rate_school_city',\n",
            "       'num_of_success_projects_teacher_acctid',\n",
            "       'num_of_projects_teacher_acctid', 'success_rate_teacher_acctid'],\n",
            "      dtype='object')\n"
          ]
        }
      ],
      "source": [
        "print(val_X.columns)"
      ]
    },
    {
      "cell_type": "markdown",
      "metadata": {
        "id": "xQy2dD_8KFh2"
      },
      "source": [
        "# ML models"
      ]
    },
    {
      "cell_type": "markdown",
      "metadata": {
        "id": "mY7_14lUwqkH"
      },
      "source": [
        "## Logistic Regression"
      ]
    },
    {
      "cell_type": "code",
      "execution_count": null,
      "metadata": {
        "id": "wcJVUaAFWiuc"
      },
      "outputs": [],
      "source": [
        "from sklearn.linear_model import LogisticRegression\n",
        "import time"
      ]
    },
    {
      "cell_type": "markdown",
      "source": [
        "grid search feature selection"
      ],
      "metadata": {
        "id": "tiL3sbYcailC"
      }
    },
    {
      "cell_type": "code",
      "source": [
        "max_res = 0\n",
        "feature_selected = None\n",
        "for i in train_X.columns[1:]:\n",
        "  selected = [\"pct_funded_1mo\", \"children_helped_per_dollar\"]\n",
        "  selected.append(i)\n",
        "  #print(selected) \n",
        "  #print(train_X[selected])\n",
        "  start = time.time()\n",
        "  logmodel = LogisticRegression(penalty='none', max_iter=100000000)\n",
        "  logmodel.fit(train_X[selected], train_Y)\n",
        "  train_pred = logmodel.predict_proba(train_X[selected])\n",
        "  val_pred = logmodel.predict_proba(val_X[selected]) # f(x)\n",
        "  res = logmodel.predict(val_X[selected]) # f(x)>0.5\n",
        "  train_rank = np.argsort(train_pred[:,1])\n",
        "  val_rank = np.argsort(val_pred[:,1])\n",
        "  results = []\n",
        "  for threshold in np.linspace(0.01, 1, 100):\n",
        "      precision_train = 1 - np.mean(train_Y[train_rank][:int(threshold * len(train_X))])\n",
        "      precision_val = 1 - np.mean(val_Y[val_rank][:int(threshold * len(val_X))])\n",
        "      recall_train = np.sum(train_Y[train_rank][:int(threshold * len(train_X))] == False)/np.sum(train_Y==False)\n",
        "      recall_val = np.sum(val_Y[val_rank][:int(threshold * len(val_X))] == False)/np.sum(val_Y==False)\n",
        "      results.append([precision_train, recall_train, precision_val, recall_val])\n",
        "  results = np.array(results)\n",
        "  #print(results[9, 2]) \n",
        "  if max_res < results[9, 2]:\n",
        "    max_res = results[9, 2]\n",
        "    feature_selected = selected\n",
        "print(max_res, feature_selected)"
      ],
      "metadata": {
        "colab": {
          "base_uri": "https://localhost:8080/"
        },
        "id": "UQ5m7dBBS_f1",
        "outputId": "2d6f4a79-8440-496a-8bfc-f9950f2d64f5"
      },
      "execution_count": null,
      "outputs": [
        {
          "output_type": "stream",
          "name": "stdout",
          "text": [
            "1.0 ['pct_funded_1mo', 'children_helped_per_dollar', 'poverty_level:moderate_poverty']\n"
          ]
        }
      ]
    },
    {
      "cell_type": "markdown",
      "metadata": {
        "id": "Z_K8TfuvLCD4"
      },
      "source": [
        "most recent PR-K graphs"
      ]
    },
    {
      "cell_type": "code",
      "execution_count": null,
      "metadata": {
        "colab": {
          "base_uri": "https://localhost:8080/"
        },
        "id": "mc6HhbOIWiuc",
        "outputId": "555ff3b0-457c-40f5-ab45-1292713c05f1"
      },
      "outputs": [
        {
          "output_type": "stream",
          "name": "stdout",
          "text": [
            "0.31787848472595215\n"
          ]
        }
      ],
      "source": [
        "selected = feature_selected\n",
        "start = time.time()\n",
        "logmodel = LogisticRegression(penalty='none', max_iter=100000000)\n",
        "logmodel.fit(train_X[selected], train_Y)\n",
        "runtime = time.time() - start\n",
        "print(runtime)"
      ]
    },
    {
      "cell_type": "code",
      "source": [
        "#print(val_X)"
      ],
      "metadata": {
        "id": "M2vFxwJrYCrT"
      },
      "execution_count": null,
      "outputs": []
    },
    {
      "cell_type": "code",
      "execution_count": null,
      "metadata": {
        "id": "XCyu_QWtWiuc"
      },
      "outputs": [],
      "source": [
        "train_pred = logmodel.predict_proba(train_X[selected])\n",
        "val_pred = logmodel.predict_proba(val_X[selected]) # f(x)\n",
        "res = logmodel.predict(val_X[selected]) # f(x)>0.5"
      ]
    },
    {
      "cell_type": "code",
      "execution_count": null,
      "metadata": {
        "colab": {
          "base_uri": "https://localhost:8080/"
        },
        "id": "Q2pXIEGueXU4",
        "outputId": "3fd1a3f4-2147-4c86-9abd-77eb5a0c0437"
      },
      "outputs": [
        {
          "output_type": "stream",
          "name": "stdout",
          "text": [
            "[0.32004793 0.0397341  0.0641692  ... 0.99534132 0.96508508 0.01896311]\n"
          ]
        }
      ],
      "source": [
        "print(val_pred[:,1])"
      ]
    },
    {
      "cell_type": "code",
      "execution_count": null,
      "metadata": {
        "colab": {
          "base_uri": "https://localhost:8080/"
        },
        "id": "DdqhCqK-JI5f",
        "outputId": "0257d4fc-079e-4fa0-9ef4-9ba49abc787c"
      },
      "outputs": [
        {
          "output_type": "stream",
          "name": "stdout",
          "text": [
            "[False False False ...  True  True False]\n"
          ]
        }
      ],
      "source": [
        "print(res)"
      ]
    },
    {
      "cell_type": "code",
      "source": [
        "train_rank = np.argsort(train_pred[:,1])\n",
        "val_rank = np.argsort(val_pred[:,1])"
      ],
      "metadata": {
        "id": "juYLULTlG_wN"
      },
      "execution_count": null,
      "outputs": []
    },
    {
      "cell_type": "code",
      "execution_count": null,
      "metadata": {
        "colab": {
          "base_uri": "https://localhost:8080/"
        },
        "id": "F-F5G6QtWiuc",
        "outputId": "a83d9b25-896e-41d4-8118-7916e57234de"
      },
      "outputs": [
        {
          "output_type": "stream",
          "name": "stdout",
          "text": [
            "1.0\n"
          ]
        }
      ],
      "source": [
        "results = []\n",
        "for threshold in np.linspace(0.01, 1, 100):\n",
        "    precision_train = 1 - np.mean(train_Y[train_rank][:int(threshold * len(train_X))])\n",
        "    precision_val = 1 - np.mean(val_Y[val_rank][:int(threshold * len(val_X))])\n",
        "    recall_train = np.sum(train_Y[train_rank][:int(threshold * len(train_X))] == False)/np.sum(train_Y==False)\n",
        "    recall_val = np.sum(val_Y[val_rank][:int(threshold * len(val_X))] == False)/np.sum(val_Y==False)\n",
        "    results.append([precision_train, recall_train, precision_val, recall_val])\n",
        "results = np.array(results)\n",
        "print(results[9, 2])  # 0.683 for l2"
      ]
    },
    {
      "cell_type": "code",
      "execution_count": null,
      "metadata": {
        "colab": {
          "base_uri": "https://localhost:8080/",
          "height": 281
        },
        "id": "g5xhnqAsWiud",
        "outputId": "d1209193-c21b-4028-86ae-8cb2842de5e9"
      },
      "outputs": [
        {
          "output_type": "display_data",
          "data": {
            "text/plain": [
              "<Figure size 432x288 with 2 Axes>"
            ],
            "image/png": "[encoded data removed]"
          },
          "metadata": {
            "needs_background": "light"
          }
        }
      ],
      "source": [
        "import matplotlib.pyplot as plt\n",
        "\n",
        "ax1 = plt.subplot()\n",
        "plt.plot(range(100), results[:,0], 'b')\n",
        "plt.ylabel('precision', color='b')\n",
        "\n",
        "ax2 = ax1.twinx()\n",
        "plt.plot(range(100), results[:,1], 'r')\n",
        "plt.ylabel('recall', color='r')\n",
        "plt.title(\"Train PR-k Curve - Logistic Regression\")\n",
        "plt.xlabel(\"Percentage of population selected\")\n",
        "plt.show()"
      ]
    },
    {
      "cell_type": "code",
      "execution_count": null,
      "metadata": {
        "colab": {
          "base_uri": "https://localhost:8080/",
          "height": 281
        },
        "id": "sPypJy25Wiud",
        "outputId": "6306b84e-defc-4ad9-f709-0048f5bcba7c"
      },
      "outputs": [
        {
          "output_type": "display_data",
          "data": {
            "text/plain": [
              "<Figure size 432x288 with 2 Axes>"
            ],
            "image/png": "[encoded data removed]"
          },
          "metadata": {
            "needs_background": "light"
          }
        }
      ],
      "source": [
        "ax1 = plt.subplot()\n",
        "plt.plot(range(100), results[:,2], 'b')\n",
        "plt.ylabel('precision', color='b')\n",
        "\n",
        "ax2 = ax1.twinx()\n",
        "plt.plot(range(100), results[:,3], 'r')\n",
        "plt.ylabel('recall', color='r')\n",
        "plt.title(\"Val PR-k Curve - Logistic Regression\")\n",
        "plt.show()"
      ]
    },
    {
      "cell_type": "code",
      "execution_count": null,
      "metadata": {
        "id": "q7WQeKPjWiud"
      },
      "outputs": [],
      "source": [
        "# train_X.columns[np.argsort(logmodel.feature_importances_)[::-1]]"
      ]
    },
    {
      "cell_type": "markdown",
      "metadata": {
        "id": "bL-qajovLQrR"
      },
      "source": [
        "whole dataset evaluation (precision, recall, tfp)"
      ]
    },
    {
      "cell_type": "code",
      "source": [
        "whole_split = chron_split_date_ranges(pd.to_datetime(df['date_posted']))"
      ],
      "metadata": {
        "id": "epKMgrVSbKf-"
      },
      "execution_count": null,
      "outputs": []
    },
    {
      "cell_type": "code",
      "source": [
        "y_value = []\n",
        "for s in whole_split:\n",
        "  #print(s)\n",
        "  curtrain, curval = generate_train_val(df_final, s)\n",
        "  curtrain_X = curtrain.drop(columns=['is_fully_funded_after_4_months']).reset_index()\n",
        "  curtrain_Y = curtrain['is_fully_funded_after_4_months'].values\n",
        "  curval_X = curval.drop(columns=['is_fully_funded_after_4_months']).reset_index()\n",
        "  curval_Y = curval['is_fully_funded_after_4_months'].values\n",
        "  #curtrain_X.dropna(inplace=True)\n",
        "  #indices_to_keep = ~curtrain_X.isin([np.nan, np.inf, -np.inf]).any(axis=1)\n",
        "  #curtrain_X[indices_to_keep].astype(np.float64)\n",
        "  #curtrain_X.dropna(inplace=True)\n",
        "  curtrain_X[np.isinf(curtrain_X)==True] = 0\n",
        "  curval_X[np.isinf(curval_X)==True] = 0\n",
        "  logmodel = LogisticRegression(penalty='none', max_iter=100000000)\n",
        "  logmodel.fit(curtrain_X[selected], curtrain_Y)\n",
        "  train_pred = logmodel.predict_proba(curtrain_X[selected])\n",
        "  val_pred = logmodel.predict_proba(curval_X[selected]) # f(x)\n",
        "  res = logmodel.predict(curval_X[selected]) # f(x)>0.5\n",
        "  train_rank = np.argsort(train_pred[:,1])\n",
        "  val_rank = np.argsort(val_pred[:,1])\n",
        "  results = []\n",
        "  threshold = 0.1\n",
        "  #precision_train = 1 - np.mean(curtrain_Y[train_rank][:int(threshold * len(curtrain_X))])\n",
        "  precision_val = 1 - np.mean(curval_Y[val_rank][:int(threshold * len(curval_X))])\n",
        "  #recall_train = np.sum(train_Y[train_rank][:int(threshold * len(train_X))] == False)/np.sum(train_Y==False)\n",
        "  #recall_val = np.sum(val_Y[val_rank][:int(threshold * len(val_X))] == False)/np.sum(val_Y==False)\n",
        "  # results.append([precision_train, recall_train, precision_val, recall_val])\n",
        "  # results = np.array(results)\n",
        "  print(precision_val)  # 0.683 for l2\n",
        "  y_value.append(precision_val)"
      ],
      "metadata": {
        "id": "rfAiLwSrbOwU"
      },
      "execution_count": null,
      "outputs": []
    },
    {
      "cell_type": "code",
      "source": [
        "file1 = open('lr.txt', 'w')\n",
        "file1.writelines(str(y_value))\n",
        "file1.close()"
      ],
      "metadata": {
        "id": "Bq78Ro7yankd"
      },
      "execution_count": null,
      "outputs": []
    },
    {
      "cell_type": "code",
      "source": [],
      "metadata": {
        "id": "-Y9hsDLHVHQP"
      },
      "execution_count": null,
      "outputs": []
    },
    {
      "cell_type": "markdown",
      "source": [
        "## Decision Tree"
      ],
      "metadata": {
        "id": "k9YqxjdTVIDu"
      }
    },
    {
      "cell_type": "code",
      "source": [
        "from sklearn.tree import DecisionTreeClassifier \n",
        "clf = DecisionTreeClassifier()\n",
        "\n",
        "# Train Decision Tree Classifer\n",
        "clf = clf.fit(train_X, train_Y)\n"
      ],
      "metadata": {
        "id": "FZ9WrgE7VUtE"
      },
      "execution_count": 47,
      "outputs": []
    },
    {
      "cell_type": "code",
      "source": [
        "train_pred = clf.predict_proba(train_X)[:,1]\n",
        "val_pred = clf.predict_proba(val_X)[:,1]"
      ],
      "metadata": {
        "id": "AaRctgRbV0vP"
      },
      "execution_count": 48,
      "outputs": []
    },
    {
      "cell_type": "code",
      "source": [
        "train_rank = np.argsort(train_pred)\n",
        "val_rank = np.argsort(val_pred)\n",
        "\n",
        "results = []\n",
        "for threshold in np.linspace(0.01, 1, 100):\n",
        "    precision_train = 1 - np.mean(train_Y[train_rank][:int(threshold * len(train_X))])\n",
        "    precision_val = 1 - np.mean(val_Y[val_rank][:int(threshold * len(val_X))])\n",
        "    recall_train = np.sum(train_Y[train_rank][:int(threshold * len(train_X))] == False)/np.sum(train_Y==False)\n",
        "    recall_val = np.sum(val_Y[val_rank][:int(threshold * len(val_X))] == False)/np.sum(val_Y==False)\n",
        "    results.append([precision_train, recall_train, precision_val, recall_val])\n",
        "results = np.array(results)\n",
        "print(results[9, 2])"
      ],
      "metadata": {
        "colab": {
          "base_uri": "https://localhost:8080/"
        },
        "id": "46uabMMzV_yV",
        "outputId": "d69e722c-e62f-41ad-de1f-d17b1f972c21"
      },
      "execution_count": 49,
      "outputs": [
        {
          "output_type": "stream",
          "name": "stdout",
          "text": [
            "0.6812227074235808\n"
          ]
        }
      ]
    },
    {
      "cell_type": "code",
      "source": [
        "import matplotlib.pyplot as plt\n",
        "ax1 = plt.subplot()\n",
        "plt.plot(range(100), results[:,0], 'b')\n",
        "plt.ylabel('precision', color='b')\n",
        "\n",
        "ax2 = ax1.twinx()\n",
        "plt.plot(range(100), results[:,1], 'r')\n",
        "plt.ylabel('recall', color='r')\n",
        "plt.title(\"Train PR-k Curve - Decision Tree Classifier\")\n",
        "plt.xlabel(\"Percentage of population selected\")\n",
        "plt.show()"
      ],
      "metadata": {
        "colab": {
          "base_uri": "https://localhost:8080/",
          "height": 281
        },
        "id": "HcLnb2w3ZMN2",
        "outputId": "6b167ec0-fc73-4396-e92c-5127f07478ce"
      },
      "execution_count": 50,
      "outputs": [
        {
          "output_type": "display_data",
          "data": {
            "text/plain": [
              "<Figure size 432x288 with 2 Axes>"
            ],
            "image/png": "[encoded data removed]"
          },
          "metadata": {
            "needs_background": "light"
          }
        }
      ]
    },
    {
      "cell_type": "code",
      "source": [
        "ax1 = plt.subplot()\n",
        "plt.plot(range(100), results[:,2], 'b')\n",
        "plt.ylabel('precision', color='b')\n",
        "\n",
        "ax2 = ax1.twinx()\n",
        "plt.plot(range(100), results[:,3], 'r')\n",
        "plt.ylabel('recall', color='r')\n",
        "plt.title(\"Val PR-k Curve - Decision Tree Classifier\")\n",
        "plt.show()\n"
      ],
      "metadata": {
        "colab": {
          "base_uri": "https://localhost:8080/",
          "height": 281
        },
        "id": "Ws0qH3bHZXjL",
        "outputId": "1dc8d697-3d32-4217-fabd-ff0485035021"
      },
      "execution_count": 51,
      "outputs": [
        {
          "output_type": "display_data",
          "data": {
            "text/plain": [
              "<Figure size 432x288 with 2 Axes>"
            ],
            "image/png": "[encoded data removed]"
          },
          "metadata": {
            "needs_background": "light"
          }
        }
      ]
    },
    {
      "cell_type": "code",
      "source": [
        "whole_split = chron_split_date_ranges(pd.to_datetime(df['date_posted']))"
      ],
      "metadata": {
        "id": "CEgmqyELZ3FP"
      },
      "execution_count": 52,
      "outputs": []
    },
    {
      "cell_type": "code",
      "source": [
        "y_value = []\n",
        "for s in whole_split:\n",
        "  #print(s)\n",
        "  curtrain, curval = generate_train_val(df_final, s)\n",
        "  curtrain_X = curtrain.drop(columns=['is_fully_funded_after_4_months']).reset_index()\n",
        "  curtrain_Y = curtrain['is_fully_funded_after_4_months'].values\n",
        "  curval_X = curval.drop(columns=['is_fully_funded_after_4_months']).reset_index()\n",
        "  curval_Y = curval['is_fully_funded_after_4_months'].values\n",
        "  #curtrain_X.dropna(inplace=True)\n",
        "  #indices_to_keep = ~curtrain_X.isin([np.nan, np.inf, -np.inf]).any(axis=1)\n",
        "  #curtrain_X[indices_to_keep].astype(np.float64)\n",
        "  #curtrain_X.dropna(inplace=True)\n",
        "  curtrain_X[np.isinf(curtrain_X)==True] = 0\n",
        "  curval_X[np.isinf(curval_X)==True] = 0\n",
        "  clf = DecisionTreeClassifier()\n",
        "\n",
        "  # Train Decision Tree Classifer\n",
        "  clf = clf.fit(curtrain_X, curtrain_Y)\n",
        "  train_pred = clf.predict_proba(curtrain_X)\n",
        "  val_pred = clf.predict_proba(curval_X) # f(x)\n",
        "  res = clf.predict(curval_X) # f(x)>0.5\n",
        "  train_rank = np.argsort(train_pred[:,1])\n",
        "  val_rank = np.argsort(val_pred[:,1])\n",
        "  results = []\n",
        "  threshold = 0.1\n",
        "  #precision_train = 1 - np.mean(curtrain_Y[train_rank][:int(threshold * len(curtrain_X))])\n",
        "  precision_val = 1 - np.mean(curval_Y[val_rank][:int(threshold * len(curval_X))])\n",
        "  #recall_train = np.sum(train_Y[train_rank][:int(threshold * len(train_X))] == False)/np.sum(train_Y==False)\n",
        "  #recall_val = np.sum(val_Y[val_rank][:int(threshold * len(val_X))] == False)/np.sum(val_Y==False)\n",
        "  # results.append([precision_train, recall_train, precision_val, recall_val])\n",
        "  # results = np.array(results)\n",
        "  print(precision_val)  # 0.683 for l2\n",
        "  y_value.append(precision_val)"
      ],
      "metadata": {
        "colab": {
          "base_uri": "https://localhost:8080/"
        },
        "id": "Q_d6s0kDZ3vu",
        "outputId": "2ac025e1-cdaf-4063-bd27-d49cffd558a7"
      },
      "execution_count": 53,
      "outputs": [
        {
          "output_type": "stream",
          "name": "stdout",
          "text": [
            "0.33333333333333337\n",
            "0.15625\n",
            "0.38888888888888884\n",
            "0.7435897435897436\n",
            "0.55\n",
            "0.6206896551724138\n",
            "0.5555555555555556\n",
            "0.625\n",
            "0.8620689655172413\n",
            "0.7575757575757576\n",
            "0.75\n",
            "0.6190476190476191\n",
            "0.62\n",
            "0.6904761904761905\n",
            "0.5526315789473684\n",
            "0.5531914893617021\n",
            "0.7058823529411764\n",
            "0.7735849056603774\n",
            "0.7761194029850746\n",
            "0.7903225806451613\n",
            "0.7441860465116279\n",
            "0.7450980392156863\n",
            "0.7586206896551724\n",
            "0.7169811320754718\n",
            "0.8200000000000001\n",
            "0.9245283018867925\n",
            "0.8\n",
            "0.9322033898305084\n",
            "0.8285714285714285\n",
            "0.9661016949152542\n",
            "0.9090909090909091\n",
            "0.868421052631579\n",
            "0.9761904761904762\n",
            "0.926829268292683\n",
            "0.8717948717948718\n",
            "0.8695652173913043\n",
            "0.9538461538461538\n",
            "0.9383561643835616\n",
            "0.7889908256880733\n",
            "0.8085106382978724\n",
            "0.8144329896907216\n",
            "0.8725490196078431\n",
            "0.839622641509434\n",
            "0.9017857142857143\n",
            "0.8285714285714285\n",
            "0.7708333333333334\n",
            "0.7529411764705882\n",
            "0.6826923076923077\n",
            "0.7094017094017093\n",
            "0.8272727272727273\n",
            "0.8818181818181818\n",
            "0.9253731343283582\n",
            "0.9166666666666666\n",
            "0.9\n",
            "0.9210526315789473\n",
            "0.896\n",
            "0.8738738738738738\n",
            "0.8936170212765957\n",
            "0.8089887640449438\n",
            "0.8350515463917526\n",
            "0.831858407079646\n",
            "0.859375\n",
            "0.8682634730538922\n",
            "0.8371335504885994\n",
            "0.8823529411764706\n",
            "0.8821138211382114\n",
            "0.8512396694214877\n",
            "0.8656126482213439\n",
            "0.8745519713261649\n",
            "0.8996282527881041\n",
            "0.9184782608695652\n",
            "0.9205298013245033\n",
            "0.8523489932885906\n",
            "0.8934010152284264\n",
            "0.9337016574585635\n",
            "0.9211618257261411\n",
            "0.9130434782608696\n",
            "0.9136690647482014\n",
            "0.9133333333333333\n",
            "0.9072847682119205\n",
            "0.8918918918918919\n",
            "0.8620689655172413\n",
            "0.9052631578947369\n",
            "0.8888888888888888\n",
            "0.8053097345132744\n",
            "0.7272727272727273\n",
            "0.7848837209302326\n",
            "0.7746478873239436\n",
            "0.8106995884773662\n",
            "0.7136929460580913\n",
            "0.6198083067092652\n",
            "0.5889212827988338\n",
            "0.5943661971830986\n",
            "0.6402027027027026\n",
            "0.6192468619246863\n",
            "0.7342908438061042\n",
            "0.8503937007874016\n",
            "0.8412017167381974\n",
            "0.8466522678185745\n",
            "0.8515625\n",
            "0.8872305140961857\n",
            "0.8597449908925319\n",
            "0.9235537190082644\n",
            "0.9267326732673268\n",
            "0.954248366013072\n",
            "0.936768149882904\n",
            "0.9340369393139841\n",
            "0.9173553719008265\n",
            "0.8861386138613861\n",
            "0.861878453038674\n",
            "0.7932692307692308\n",
            "0.8301886792452831\n",
            "0.8419117647058824\n",
            "0.8288043478260869\n",
            "0.7926829268292683\n",
            "0.7835497835497836\n",
            "0.7073643410852712\n",
            "0.6396588486140725\n",
            "0.6622516556291391\n",
            "0.6870897155361051\n",
            "0.7231182795698925\n",
            "0.7127371273712737\n",
            "0.7911111111111111\n",
            "0.8421052631578947\n",
            "0.736842105263158\n",
            "0.7413394919168591\n",
            "0.7534791252485089\n",
            "0.791044776119403\n",
            "0.8843683083511777\n",
            "0.8741573033707866\n",
            "0.8783505154639175\n",
            "0.9031413612565445\n",
            "0.8764044943820225\n",
            "0.26615969581749055\n",
            "0.8758620689655172\n",
            "0.8491484184914841\n",
            "0.797945205479452\n",
            "0.850909090909091\n",
            "0.8267477203647416\n",
            "0.7889447236180904\n",
            "0.7774390243902439\n",
            "0.75\n",
            "0.7840785169029444\n",
            "0.7855044074436827\n",
            "0.7819460726846424\n",
            "0.7277070063694268\n",
            "0.7338551859099804\n",
            "0.7048458149779735\n",
            "0.5263157894736843\n",
            "0.7238493723849373\n",
            "0.6819047619047619\n",
            "0.6878504672897197\n",
            "0.7370967741935484\n",
            "0.6901172529313233\n",
            "0.7706093189964158\n",
            "0.5391621129326047\n",
            "0.780952380952381\n",
            "0.8268041237113402\n",
            "0.8176470588235294\n",
            "0.7231075697211156\n",
            "0.7283950617283951\n",
            "0.7834224598930482\n",
            "0.7455621301775148\n",
            "0.660056657223796\n",
            "0.6835748792270531\n",
            "0.6893039049235994\n",
            "0.45169385194479295\n",
            "0.6026871401151632\n",
            "0.6117556071152359\n",
            "0.6275510204081632\n",
            "0.6442622950819672\n",
            "0.6586073500967118\n",
            "0.5036407766990292\n",
            "0.7459807073954984\n",
            "0.6727078891257996\n",
            "0.7516279069767442\n",
            "0.6938775510204082\n",
            "0.7623762376237624\n",
            "0.6300738007380073\n",
            "0.7733463035019456\n",
            "0.8361244019138756\n",
            "0.8311377245508982\n",
            "0.7956480605487228\n",
            "0.8579734219269103\n",
            "0.8472075869336143\n",
            "0.8252788104089219\n",
            "0.8126410835214447\n",
            "0.789237668161435\n",
            "0.8340425531914893\n",
            "0.8028169014084507\n",
            "0.7964426877470356\n",
            "0.8164464023494861\n",
            "0.8\n",
            "0.7008928571428572\n",
            "0.6491379310344827\n",
            "0.5844036697247706\n",
            "0.6384129846708746\n",
            "0.6233480176211454\n",
            "0.6352785145888594\n",
            "0.6537982565379825\n",
            "0.5497076023391814\n",
            "0.6394957983193277\n",
            "0.5166666666666666\n",
            "0.6345177664974619\n",
            "0.7303436225975539\n",
            "0.8640960809102403\n",
            "0.7492507492507492\n",
            "0.7783902976846747\n",
            "0.6701791359325606\n",
            "0.7227272727272727\n",
            "0.6368715083798883\n",
            "0.64568345323741\n",
            "0.6388888888888888\n",
            "0.6629213483146068\n",
            "0.6406570841889117\n",
            "0.6800847457627119\n",
            "0.6284153005464481\n",
            "0.695139911634757\n",
            "0.7277904328018223\n",
            "0.6759098786828424\n",
            "0.6127208480565371\n",
            "0.6399147727272727\n",
            "0.5821474773609314\n",
            "0.6686950642325895\n",
            "0.6621941594317284\n",
            "0.7253521126760563\n",
            "0.774331550802139\n",
            "0.783157894736842\n",
            "0.7096370463078849\n",
            "0.75\n",
            "0.7083333333333333\n",
            "0.6032553407934893\n",
            "0.697566628041715\n",
            "0.6705882352941177\n",
            "0.7022792022792023\n",
            "0.674074074074074\n",
            "0.511737089201878\n",
            "0.5441860465116279\n",
            "0.7366071428571428\n",
            "0.7359050445103857\n",
            "0.6717325227963526\n",
            "0.7338935574229692\n",
            "0.7429305912596401\n",
            "0.7061356297093648\n",
            "0.6871508379888268\n",
            "0.6893203883495146\n",
            "0.46079919069296915\n",
            "0.5191511387163561\n",
            "0.6695325094035465\n",
            "0.7343921139101862\n",
            "0.7540628385698809\n",
            "0.7826330532212885\n",
            "0.7106963388370424\n",
            "0.7533980582524271\n",
            "0.6681222707423581\n"
          ]
        }
      ]
    },
    {
      "cell_type": "markdown",
      "source": [
        "# Commonsense baseline over time - children helped per dollar"
      ],
      "metadata": {
        "id": "g4H1z7BcYvTN"
      }
    },
    {
      "cell_type": "code",
      "source": [
        "split = chron_split_date_ranges(pd.to_datetime(df['date_posted']))\n",
        "baseline_results = []\n",
        "\n",
        "for split_ in split:\n",
        "  train, val = generate_train_val(df_final, split_)\n",
        "  train_X = train.drop(columns=['is_fully_funded_after_4_months']).reset_index().drop(columns=[\"index\"])\n",
        "  train_Y = train['is_fully_funded_after_4_months'].values\n",
        "  val_X = val.drop(columns=['is_fully_funded_after_4_months']).reset_index().drop(columns=[\"index\"])\n",
        "  val_Y = val['is_fully_funded_after_4_months'].values\n",
        "  train_select = train_X.sort_values([\"children_helped_per_dollar\"])\n",
        "  val_select = val_X.sort_values([\"children_helped_per_dollar\"])\n",
        "  train_rank = train_select.index.values\n",
        "  val_rank = val_select.index.values\n",
        "  threshold = 0.1\n",
        "  precision_val = 1 - np.mean(val_Y[val_rank][:int(threshold * len(val_X))])\n",
        "  baseline_results.append(precision_val)"
      ],
      "metadata": {
        "id": "yMdECc5eYy13"
      },
      "execution_count": null,
      "outputs": []
    },
    {
      "cell_type": "markdown",
      "source": [
        "# Base rate over time"
      ],
      "metadata": {
        "id": "zRakZGR_ZEGP"
      }
    },
    {
      "cell_type": "code",
      "source": [
        "split = chron_split_date_ranges(pd.to_datetime(df['date_posted']))\n",
        "base_rate = []\n",
        "\n",
        "for split_ in split:\n",
        "  train, val = generate_train_val(df_final, split_)\n",
        "  train_X = train.drop(columns=['is_fully_funded_after_4_months']).reset_index().drop(columns=[\"index\"])\n",
        "  train_Y = train['is_fully_funded_after_4_months'].values\n",
        "  val_X = val.drop(columns=['is_fully_funded_after_4_months']).reset_index().drop(columns=[\"index\"])\n",
        "  val_Y = val['is_fully_funded_after_4_months'].values\n",
        "  percentage_not_funded = 1 - val_Y.sum() / len(val_Y)\n",
        "  base_rate.append(percentage_not_funded)"
      ],
      "metadata": {
        "id": "23QKpG51ZFWH"
      },
      "execution_count": null,
      "outputs": []
    },
    {
      "cell_type": "markdown",
      "source": [
        "# Plotting all results over time (logistic regression, nearest neighbor, decision tree, RF, baseline, base rate)"
      ],
      "metadata": {
        "id": "-BdytZ1EZSfn"
      }
    },
    {
      "cell_type": "code",
      "source": [],
      "metadata": {
        "id": "eacrvgu3ZP7J"
      },
      "execution_count": null,
      "outputs": []
    }
  ],
  "metadata": {
    "colab": {
      "provenance": []
    },
    "kernelspec": {
      "display_name": "Python 3 (ipykernel)",
      "language": "python",
      "name": "python3"
    },
    "language_info": {
      "codemirror_mode": {
        "name": "ipython",
        "version": 3
      },
      "file_extension": ".py",
      "mimetype": "text/x-python",
      "name": "python",
      "nbconvert_exporter": "python",
      "pygments_lexer": "ipython3",
      "version": "3.7.9"
    }
  },
  "nbformat": 4,
  "nbformat_minor": 0
}