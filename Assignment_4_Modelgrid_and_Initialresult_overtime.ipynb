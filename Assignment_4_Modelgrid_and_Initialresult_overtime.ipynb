{
  "cells": [
    {
      "cell_type": "markdown",
      "metadata": {
        "id": "MygD9O0cNBh6"
      },
      "source": [
        "# Baselines and Formulation\n"
      ]
    },
    {
      "cell_type": "markdown",
      "metadata": {
        "id": "1x6jG72qJqct"
      },
      "source": [
        "## Data Preparation"
      ]
    },
    {
      "cell_type": "code",
      "execution_count": 1,
      "metadata": {
        "id": "dDwjqJp-92WB"
      },
      "outputs": [],
      "source": [
        "import json\n",
        "import zipfile\n",
        "import os\n",
        "import pandas as pd\n",
        "import numpy as np"
      ]
    },
    {
      "cell_type": "code",
      "execution_count": 2,
      "metadata": {
        "colab": {
          "base_uri": "https://localhost:8080/"
        },
        "id": "iY8dwqamIIQc",
        "outputId": "c79774b8-24d0-4187-c3b6-ffd50e674565"
      },
      "outputs": [
        {
          "output_type": "stream",
          "name": "stdout",
          "text": [
            "OK\n",
            "deb http://apt.postgresql.org/pub/repos/apt/ focal-pgdg main\n",
            " * Starting PostgreSQL 11 database server\n",
            "   ...done.\n",
            "ALTER ROLE\n",
            "DROP DATABASE\n",
            "CREATE DATABASE\n",
            "env: DEMO_DATABASE_NAME=donors_choose\n",
            "env: DEMO_DATABASE_HOST=localhost\n",
            "env: DEMO_DATABASE_PORT=5432\n",
            "DROP DATABASE\n",
            "CREATE DATABASE\n",
            "env: DEMO_DATABASE_NAME=donors_choose\n",
            "env: DEMO_DATABASE_HOST=localhost\n",
            "env: DEMO_DATABASE_PORT=5432\n",
            "env: DEMO_DATABASE_USER=postgres\n",
            "env: DEMO_DATABASE_PASS=postgres\n"
          ]
        }
      ],
      "source": [
        "# Install and start postgresql-11 server\n",
        "!sudo apt-get -y -qq update\n",
        "!wget --quiet -O - https://www.postgresql.org/media/keys/ACCC4CF8.asc | sudo apt-key add -\n",
        "!echo \"deb http://apt.postgresql.org/pub/repos/apt/ `lsb_release -cs`-pgdg main\" |sudo tee  /etc/apt/sources.list.d/pgdg.list\n",
        "!sudo apt-get -y -qq update\n",
        "!sudo apt-get -y -qq install postgresql-11 postgresql-client-11\n",
        "!sudo service postgresql start\n",
        "\n",
        "# Setup a password `postgres` for username `postgres`\n",
        "!sudo -u postgres psql -U postgres -c \"ALTER USER postgres PASSWORD 'postgres';\"\n",
        "\n",
        "# Setup a database with name `donors_choose` to be used\n",
        "!sudo -u postgres psql -U postgres -c 'DROP DATABASE IF EXISTS donors_choose;'\n",
        "\n",
        "!sudo -u postgres psql -U postgres -c 'CREATE DATABASE donors_choose;'\n",
        "\n",
        "# Environment variables for connecting to the database\n",
        "%env DEMO_DATABASE_NAME=donors_choose\n",
        "%env DEMO_DATABASE_HOST=localhost\n",
        "%env DEMO_DATABASE_PORT=5432\n",
        "\n",
        "# Setup a database with name `donors_choose` to be used\n",
        "!sudo -u postgres psql -U postgres -c 'DROP DATABASE IF EXISTS donors_choose;'\n",
        "\n",
        "!sudo -u postgres psql -U postgres -c 'CREATE DATABASE donors_choose;'\n",
        "\n",
        "# Environment variables for connecting to the database\n",
        "%env DEMO_DATABASE_NAME=donors_choose\n",
        "%env DEMO_DATABASE_HOST=localhost\n",
        "%env DEMO_DATABASE_PORT=5432\n",
        "%env DEMO_DATABASE_USER=postgres\n",
        "%env DEMO_DATABASE_PASS=postgres"
      ]
    },
    {
      "cell_type": "code",
      "execution_count": 3,
      "metadata": {
        "colab": {
          "base_uri": "https://localhost:8080/"
        },
        "id": "2OWTM7IJs0_3",
        "outputId": "71066754-0f2a-4c76-9573-618189850dd5"
      },
      "outputs": [
        {
          "output_type": "stream",
          "name": "stdout",
          "text": [
            "Looking in indexes: https://pypi.org/simple, https://us-python.pkg.dev/colab-wheels/public/simple/\n",
            "Requirement already satisfied: SQLAlchemy==1.3.18 in /usr/local/lib/python3.8/dist-packages (1.3.18)\n",
            "Requirement already satisfied: PyYAML==6.0 in /usr/local/lib/python3.8/dist-packages (6.0)\n",
            "Requirement already satisfied: psycopg2-binary==2.9.3 in /usr/local/lib/python3.8/dist-packages (2.9.3)\n"
          ]
        }
      ],
      "source": [
        "# Download sampled DonorsChoose data and load it into our postgres server\n",
        "!curl -s -OL https://dsapp-public-data-migrated.s3.us-west-2.amazonaws.com/donors_sampled_20210920_v3.dmp\n",
        "!PGPASSWORD=$DEMO_DATABASE_PASS pg_restore -h $DEMO_DATABASE_HOST -p $DEMO_DATABASE_PORT -d $DEMO_DATABASE_NAME -U $DEMO_DATABASE_USER -O -j 8 donors_sampled_20210920_v3.dmp\n",
        "!pip install SQLAlchemy==1.3.18 PyYAML==6.0 psycopg2-binary==2.9.3\n",
        "from sqlalchemy.engine.url import URL\n",
        "from sqlalchemy import create_engine\n",
        "\n",
        "db_url = URL(\n",
        "            'postgres',\n",
        "            host='localhost',\n",
        "            username='postgres',\n",
        "            database='donors_choose',\n",
        "            password='postgres',\n",
        "            port=5432,\n",
        "        )\n",
        "\n",
        "db_engine = create_engine(db_url)\n",
        "full_projects = pd.read_sql(\"SELECT * FROM data.projects\", db_engine)\n",
        "full_resources = pd.read_sql(\"SELECT * FROM data.resources\", db_engine)\n",
        "full_donations = pd.read_sql(\"SELECT * FROM data.donations\", db_engine)\n",
        "\n",
        "\n",
        "full_projects=full_projects.rename(columns = {'projectid_str':'projectid', \"total_asking_price\":\"total_price_excluding_optional_support\"})\n",
        "full_donations = full_donations.rename(columns = {'projectid_str':'projectid'})"
      ]
    },
    {
      "cell_type": "code",
      "execution_count": 4,
      "metadata": {
        "id": "mvWyGCbRSB9d"
      },
      "outputs": [],
      "source": [
        "import json\n",
        "import zipfile\n",
        "import os\n",
        "import pandas as pd"
      ]
    },
    {
      "cell_type": "code",
      "execution_count": 5,
      "metadata": {
        "colab": {
          "base_uri": "https://localhost:8080/"
        },
        "id": "t4ZA3QYJ8sW3",
        "outputId": "69390c06-3e75-495c-916e-e1e1c15e8db6"
      },
      "outputs": [
        {
          "output_type": "stream",
          "name": "stdout",
          "text": [
            "Looking in indexes: https://pypi.org/simple, https://us-python.pkg.dev/colab-wheels/public/simple/\n",
            "Requirement already satisfied: kaggle in /usr/local/lib/python3.8/dist-packages (1.5.12)\n",
            "Requirement already satisfied: python-dateutil in /usr/local/lib/python3.8/dist-packages (from kaggle) (2.8.2)\n",
            "Requirement already satisfied: six>=1.10 in /usr/local/lib/python3.8/dist-packages (from kaggle) (1.15.0)\n",
            "Requirement already satisfied: tqdm in /usr/local/lib/python3.8/dist-packages (from kaggle) (4.64.1)\n",
            "Requirement already satisfied: certifi in /usr/local/lib/python3.8/dist-packages (from kaggle) (2022.12.7)\n",
            "Requirement already satisfied: urllib3 in /usr/local/lib/python3.8/dist-packages (from kaggle) (1.24.3)\n",
            "Requirement already satisfied: python-slugify in /usr/local/lib/python3.8/dist-packages (from kaggle) (8.0.0)\n",
            "Requirement already satisfied: requests in /usr/local/lib/python3.8/dist-packages (from kaggle) (2.25.1)\n",
            "Requirement already satisfied: text-unidecode>=1.3 in /usr/local/lib/python3.8/dist-packages (from python-slugify->kaggle) (1.3)\n",
            "Requirement already satisfied: idna<3,>=2.5 in /usr/local/lib/python3.8/dist-packages (from requests->kaggle) (2.10)\n",
            "Requirement already satisfied: chardet<5,>=3.0.2 in /usr/local/lib/python3.8/dist-packages (from requests->kaggle) (4.0.0)\n",
            "mkdir: cannot create directory ‘/root/.kaggle’: File exists\n",
            "kdd-cup-2014-predicting-excitement-at-donors-choose.zip: Skipping, found more recently modified local copy (use --force to force download)\n"
          ]
        }
      ],
      "source": [
        "!pip install kaggle\n",
        "\n",
        "!mkdir /root/.kaggle\n",
        "!touch /root/.kaggle/kaggle.json\n",
        "api_token = {\"username\":\"ploped123\",\"key\":\"eeeeba8fc52706723e4c1bcf41ae6fd3\"}\n",
        "\n",
        "with open('/root/.kaggle/kaggle.json', 'w') as file:\n",
        "    json.dump(api_token, file)\n",
        "\n",
        "!chmod 600 /root/.kaggle/kaggle.json\n",
        "\n",
        "!kaggle competitions download -c kdd-cup-2014-predicting-excitement-at-donors-choose"
      ]
    },
    {
      "cell_type": "code",
      "execution_count": 6,
      "metadata": {
        "colab": {
          "base_uri": "https://localhost:8080/"
        },
        "id": "HunBQJMX9gPN",
        "outputId": "7b00038e-387e-42c7-d6c3-141fcb6303cc"
      },
      "outputs": [
        {
          "output_type": "stream",
          "name": "stdout",
          "text": [
            "donations.csv\n",
            "donations.csv.zip\n",
            "donors_sampled_20210920_v3.dmp\n",
            "essays.csv\n",
            "essays.csv.zip\n",
            "kdd-cup-2014-predicting-excitement-at-donors-choose.zip\n",
            "outcomes.csv.zip\n",
            "projects.csv\n",
            "projects.csv.zip\n",
            "resources.csv\n",
            "resources.csv.zip\n",
            "sample_data\n",
            "sampleSubmission.csv.zip\n"
          ]
        }
      ],
      "source": [
        "!ls /content"
      ]
    },
    {
      "cell_type": "code",
      "execution_count": null,
      "metadata": {
        "id": "76VVzgwkKbli"
      },
      "outputs": [],
      "source": [
        "!unzip /content/kdd-cup-2014-predicting-excitement-at-donors-choose.zip"
      ]
    },
    {
      "cell_type": "code",
      "execution_count": null,
      "metadata": {
        "id": "mK_ns8iP9jSM"
      },
      "outputs": [],
      "source": [
        "!unzip /content/resources.csv.zip\n",
        "!unzip /content/donations.csv.zip"
      ]
    },
    {
      "cell_type": "code",
      "execution_count": null,
      "metadata": {
        "id": "cDEORpu4-Glu"
      },
      "outputs": [],
      "source": [
        "!unzip /content/projects.csv.zip"
      ]
    },
    {
      "cell_type": "code",
      "execution_count": 7,
      "metadata": {
        "id": "6gHx2YiBDH6x"
      },
      "outputs": [],
      "source": [
        "full_donations = pd.read_csv(\"/content/donations.csv\")\n",
        "full_projects = pd.read_csv(\"/content/projects.csv\")\n",
        "# full_essays = pd.read_csv(\"essays.csv\")\n",
        "full_resources = pd.read_csv(\"/content/resources.csv\")"
      ]
    },
    {
      "cell_type": "code",
      "execution_count": 8,
      "metadata": {
        "id": "g7koLM_mDH6y",
        "colab": {
          "base_uri": "https://localhost:8080/"
        },
        "outputId": "1da39934-1f61-4757-e65d-24cb9517dee6"
      },
      "outputs": [
        {
          "output_type": "stream",
          "name": "stdout",
          "text": [
            "Looking in indexes: https://pypi.org/simple, https://us-python.pkg.dev/colab-wheels/public/simple/\n",
            "Requirement already satisfied: textstat in /usr/local/lib/python3.8/dist-packages (0.7.3)\n",
            "Requirement already satisfied: pyphen in /usr/local/lib/python3.8/dist-packages (from textstat) (0.13.2)\n",
            "Looking in indexes: https://pypi.org/simple, https://us-python.pkg.dev/colab-wheels/public/simple/\n",
            "Requirement already satisfied: flair in /usr/local/lib/python3.8/dist-packages (0.11.3)\n",
            "Requirement already satisfied: scikit-learn>=0.21.3 in /usr/local/lib/python3.8/dist-packages (from flair) (1.0.2)\n",
            "Requirement already satisfied: ftfy in /usr/local/lib/python3.8/dist-packages (from flair) (6.1.1)\n",
            "Requirement already satisfied: gensim>=3.4.0 in /usr/local/lib/python3.8/dist-packages (from flair) (3.6.0)\n",
            "Requirement already satisfied: tqdm>=4.26.0 in /usr/local/lib/python3.8/dist-packages (from flair) (4.64.1)\n",
            "Requirement already satisfied: conllu>=4.0 in /usr/local/lib/python3.8/dist-packages (from flair) (4.5.2)\n",
            "Requirement already satisfied: matplotlib>=2.2.3 in /usr/local/lib/python3.8/dist-packages (from flair) (3.5.3)\n",
            "Requirement already satisfied: more-itertools in /usr/local/lib/python3.8/dist-packages (from flair) (9.0.0)\n",
            "Requirement already satisfied: tabulate in /usr/local/lib/python3.8/dist-packages (from flair) (0.8.10)\n",
            "Requirement already satisfied: hyperopt>=0.2.7 in /usr/local/lib/python3.8/dist-packages (from flair) (0.2.7)\n",
            "Requirement already satisfied: transformers>=4.0.0 in /usr/local/lib/python3.8/dist-packages (from flair) (4.26.1)\n",
            "Requirement already satisfied: konoha<5.0.0,>=4.0.0 in /usr/local/lib/python3.8/dist-packages (from flair) (4.6.5)\n",
            "Requirement already satisfied: sentencepiece==0.1.95 in /usr/local/lib/python3.8/dist-packages (from flair) (0.1.95)\n",
            "Requirement already satisfied: huggingface-hub in /usr/local/lib/python3.8/dist-packages (from flair) (0.12.1)\n",
            "Requirement already satisfied: segtok>=1.5.7 in /usr/local/lib/python3.8/dist-packages (from flair) (1.5.11)\n",
            "Requirement already satisfied: mpld3==0.3 in /usr/local/lib/python3.8/dist-packages (from flair) (0.3)\n",
            "Requirement already satisfied: gdown==4.4.0 in /usr/local/lib/python3.8/dist-packages (from flair) (4.4.0)\n",
            "Requirement already satisfied: pptree in /usr/local/lib/python3.8/dist-packages (from flair) (3.1)\n",
            "Requirement already satisfied: lxml in /usr/local/lib/python3.8/dist-packages (from flair) (4.9.2)\n",
            "Requirement already satisfied: wikipedia-api in /usr/local/lib/python3.8/dist-packages (from flair) (0.5.8)\n",
            "Requirement already satisfied: bpemb>=0.3.2 in /usr/local/lib/python3.8/dist-packages (from flair) (0.3.4)\n",
            "Requirement already satisfied: torch!=1.8,>=1.5.0 in /usr/local/lib/python3.8/dist-packages (from flair) (1.13.1+cu116)\n",
            "Requirement already satisfied: janome in /usr/local/lib/python3.8/dist-packages (from flair) (0.4.2)\n",
            "Requirement already satisfied: python-dateutil>=2.6.1 in /usr/local/lib/python3.8/dist-packages (from flair) (2.8.2)\n",
            "Requirement already satisfied: regex in /usr/local/lib/python3.8/dist-packages (from flair) (2022.6.2)\n",
            "Requirement already satisfied: langdetect in /usr/local/lib/python3.8/dist-packages (from flair) (1.0.9)\n",
            "Requirement already satisfied: sqlitedict>=1.6.0 in /usr/local/lib/python3.8/dist-packages (from flair) (2.1.0)\n",
            "Requirement already satisfied: deprecated>=1.2.4 in /usr/local/lib/python3.8/dist-packages (from flair) (1.2.13)\n",
            "Requirement already satisfied: six in /usr/local/lib/python3.8/dist-packages (from gdown==4.4.0->flair) (1.15.0)\n",
            "Requirement already satisfied: requests[socks] in /usr/local/lib/python3.8/dist-packages (from gdown==4.4.0->flair) (2.25.1)\n",
            "Requirement already satisfied: beautifulsoup4 in /usr/local/lib/python3.8/dist-packages (from gdown==4.4.0->flair) (4.6.3)\n",
            "Requirement already satisfied: filelock in /usr/local/lib/python3.8/dist-packages (from gdown==4.4.0->flair) (3.9.0)\n",
            "Requirement already satisfied: numpy in /usr/local/lib/python3.8/dist-packages (from bpemb>=0.3.2->flair) (1.22.4)\n",
            "Requirement already satisfied: wrapt<2,>=1.10 in /usr/local/lib/python3.8/dist-packages (from deprecated>=1.2.4->flair) (1.14.1)\n",
            "Requirement already satisfied: scipy>=0.18.1 in /usr/local/lib/python3.8/dist-packages (from gensim>=3.4.0->flair) (1.7.3)\n",
            "Requirement already satisfied: smart-open>=1.2.1 in /usr/local/lib/python3.8/dist-packages (from gensim>=3.4.0->flair) (6.3.0)\n",
            "Requirement already satisfied: cloudpickle in /usr/local/lib/python3.8/dist-packages (from hyperopt>=0.2.7->flair) (2.2.1)\n",
            "Requirement already satisfied: networkx>=2.2 in /usr/local/lib/python3.8/dist-packages (from hyperopt>=0.2.7->flair) (3.0)\n",
            "Requirement already satisfied: future in /usr/local/lib/python3.8/dist-packages (from hyperopt>=0.2.7->flair) (0.16.0)\n",
            "Requirement already satisfied: py4j in /usr/local/lib/python3.8/dist-packages (from hyperopt>=0.2.7->flair) (0.10.9.7)\n",
            "Requirement already satisfied: importlib-metadata<4.0.0,>=3.7.0 in /usr/local/lib/python3.8/dist-packages (from konoha<5.0.0,>=4.0.0->flair) (3.10.1)\n",
            "Requirement already satisfied: overrides<4.0.0,>=3.0.0 in /usr/local/lib/python3.8/dist-packages (from konoha<5.0.0,>=4.0.0->flair) (3.1.0)\n",
            "Requirement already satisfied: pillow>=6.2.0 in /usr/local/lib/python3.8/dist-packages (from matplotlib>=2.2.3->flair) (7.1.2)\n",
            "Requirement already satisfied: cycler>=0.10 in /usr/local/lib/python3.8/dist-packages (from matplotlib>=2.2.3->flair) (0.11.0)\n",
            "Requirement already satisfied: kiwisolver>=1.0.1 in /usr/local/lib/python3.8/dist-packages (from matplotlib>=2.2.3->flair) (1.4.4)\n",
            "Requirement already satisfied: packaging>=20.0 in /usr/local/lib/python3.8/dist-packages (from matplotlib>=2.2.3->flair) (23.0)\n",
            "Requirement already satisfied: fonttools>=4.22.0 in /usr/local/lib/python3.8/dist-packages (from matplotlib>=2.2.3->flair) (4.38.0)\n",
            "Requirement already satisfied: pyparsing>=2.2.1 in /usr/local/lib/python3.8/dist-packages (from matplotlib>=2.2.3->flair) (3.0.9)\n",
            "Requirement already satisfied: joblib>=0.11 in /usr/local/lib/python3.8/dist-packages (from scikit-learn>=0.21.3->flair) (1.2.0)\n",
            "Requirement already satisfied: threadpoolctl>=2.0.0 in /usr/local/lib/python3.8/dist-packages (from scikit-learn>=0.21.3->flair) (3.1.0)\n",
            "Requirement already satisfied: typing-extensions in /usr/local/lib/python3.8/dist-packages (from torch!=1.8,>=1.5.0->flair) (4.5.0)\n",
            "Requirement already satisfied: tokenizers!=0.11.3,<0.14,>=0.11.1 in /usr/local/lib/python3.8/dist-packages (from transformers>=4.0.0->flair) (0.13.2)\n",
            "Requirement already satisfied: pyyaml>=5.1 in /usr/local/lib/python3.8/dist-packages (from transformers>=4.0.0->flair) (6.0)\n",
            "Requirement already satisfied: wcwidth>=0.2.5 in /usr/local/lib/python3.8/dist-packages (from ftfy->flair) (0.2.6)\n",
            "Requirement already satisfied: zipp>=0.5 in /usr/local/lib/python3.8/dist-packages (from importlib-metadata<4.0.0,>=3.7.0->konoha<5.0.0,>=4.0.0->flair) (3.14.0)\n",
            "Requirement already satisfied: certifi>=2017.4.17 in /usr/local/lib/python3.8/dist-packages (from requests[socks]->gdown==4.4.0->flair) (2022.12.7)\n",
            "Requirement already satisfied: chardet<5,>=3.0.2 in /usr/local/lib/python3.8/dist-packages (from requests[socks]->gdown==4.4.0->flair) (4.0.0)\n",
            "Requirement already satisfied: urllib3<1.27,>=1.21.1 in /usr/local/lib/python3.8/dist-packages (from requests[socks]->gdown==4.4.0->flair) (1.24.3)\n",
            "Requirement already satisfied: idna<3,>=2.5 in /usr/local/lib/python3.8/dist-packages (from requests[socks]->gdown==4.4.0->flair) (2.10)\n",
            "Requirement already satisfied: PySocks!=1.5.7,>=1.5.6 in /usr/local/lib/python3.8/dist-packages (from requests[socks]->gdown==4.4.0->flair) (1.7.1)\n"
          ]
        }
      ],
      "source": [
        "from datetime import timedelta\n",
        "!pip install textstat\n",
        "!pip install flair\n",
        "\n",
        "import textstat\n",
        "\n",
        "from nltk.sentiment.vader import SentimentIntensityAnalyzer\n",
        "from nltk import tokenize\n",
        "\n",
        "import flair"
      ]
    },
    {
      "cell_type": "markdown",
      "metadata": {
        "id": "7wEKl_gyM1Eh"
      },
      "source": [
        "## Feature Engineering"
      ]
    },
    {
      "cell_type": "code",
      "execution_count": 9,
      "metadata": {
        "id": "GpeZ5PXWLQPV"
      },
      "outputs": [],
      "source": [
        "a = pd.merge(full_projects, full_donations, on=['projectid'], how='left')\n",
        "a['in_4_months'] = (pd.to_datetime(a['donation_timestamp']) - pd.to_datetime(a['date_posted'])) < timedelta(days=120)\n",
        "a['in_1_months'] = (pd.to_datetime(a['donation_timestamp']) - pd.to_datetime(a['date_posted'])) < timedelta(days=30)\n",
        "a['donation_1mo'] = a['donation_to_project'].values\n",
        "values = {'donation_to_project': 0.0}\n",
        "a = a.fillna(value=values)\n",
        "a.loc[a['in_4_months'] == False, 'donation_to_project'] = 0.0\n",
        "a.loc[a['in_1_months'] == False, 'donation_1mo'] = 0.0\n",
        "\n",
        "donation_in_4_months = a.groupby(['projectid'])['donation_to_project'].sum().reset_index(name='donation_in_4_months')\n",
        "donation_in_1_months = a.groupby(['projectid'])['donation_1mo'].sum().reset_index(name='donation_in_1_months')\n",
        "df = pd.merge(full_projects, donation_in_4_months, on=['projectid'], how='left')\n",
        "df = pd.merge(df, donation_in_1_months, on=['projectid'], how='left')\n",
        "\n",
        "del a"
      ]
    },
    {
      "cell_type": "code",
      "execution_count": 10,
      "metadata": {
        "id": "YvIcSIe8LzQK",
        "colab": {
          "base_uri": "https://localhost:8080/"
        },
        "outputId": "24f7d743-e855-4ca3-8ea3-cacfbbbab904"
      },
      "outputs": [
        {
          "output_type": "stream",
          "name": "stdout",
          "text": [
            "Baserate % projects fully funded: 0.5480215269433126\n",
            "Baserate % projects fully funded 1mo: 0.30470804007842217\n"
          ]
        }
      ],
      "source": [
        "df['is_fully_funded_after_4_months'] = df['total_price_excluding_optional_support'] <= df['donation_in_4_months']\n",
        "# df['is_fully_funded_after_4_months'] = df['total_asking_price'] <= df['donation_in_4_months']\n",
        "df['is_fully_funded_after_4_months'].value_counts()\n",
        "print(\"Baserate % projects fully funded:\", df['is_fully_funded_after_4_months'].mean())\n",
        "\n",
        "df['pct_funded_1mo'] = df['donation_in_1_months'] / df['total_price_excluding_optional_support']\n",
        "df['is_fully_funded_after_1_months'] = df['total_price_excluding_optional_support'] <= df['donation_in_1_months']\n",
        "#df['is_fully_funded_after_1_months'] = df['total_asking_price'] <= df['donation_in_1_months']\n",
        "df['is_fully_funded_after_1_months'].value_counts()\n",
        "print(\"Baserate % projects fully funded 1mo:\", df['is_fully_funded_after_1_months'].mean())"
      ]
    },
    {
      "cell_type": "code",
      "execution_count": 11,
      "metadata": {
        "id": "bZl0E-Hq9Ccc"
      },
      "outputs": [],
      "source": [
        "df['date_posted'] = pd.to_datetime(df['date_posted'])\n",
        "df['children_helped_per_dollar'] = df['students_reached']/df['total_price_excluding_optional_support']"
      ]
    },
    {
      "cell_type": "code",
      "execution_count": 12,
      "metadata": {
        "id": "nR0xG-msl0hp",
        "colab": {
          "base_uri": "https://localhost:8080/"
        },
        "outputId": "5df162f9-68ff-4036-8460-d717c3080116"
      },
      "outputs": [
        {
          "output_type": "execute_result",
          "data": {
            "text/plain": [
              "Index(['projectid', 'teacher_acctid', 'schoolid', 'school_ncesid',\n",
              "       'school_latitude', 'school_longitude', 'school_city', 'school_state',\n",
              "       'school_zip', 'school_metro', 'school_district', 'school_county',\n",
              "       'school_charter', 'school_magnet', 'school_year_round', 'school_nlns',\n",
              "       'school_kipp', 'school_charter_ready_promise', 'teacher_prefix',\n",
              "       'teacher_teach_for_america', 'teacher_ny_teaching_fellow',\n",
              "       'primary_focus_subject', 'primary_focus_area',\n",
              "       'secondary_focus_subject', 'secondary_focus_area', 'resource_type',\n",
              "       'poverty_level', 'grade_level', 'fulfillment_labor_materials',\n",
              "       'total_price_excluding_optional_support',\n",
              "       'total_price_including_optional_support', 'students_reached',\n",
              "       'eligible_double_your_impact_match', 'eligible_almost_home_match',\n",
              "       'date_posted', 'donation_in_4_months', 'donation_in_1_months',\n",
              "       'is_fully_funded_after_4_months', 'pct_funded_1mo',\n",
              "       'is_fully_funded_after_1_months', 'children_helped_per_dollar'],\n",
              "      dtype='object')"
            ]
          },
          "metadata": {},
          "execution_count": 12
        }
      ],
      "source": [
        "df.columns"
      ]
    },
    {
      "cell_type": "code",
      "execution_count": 13,
      "metadata": {
        "id": "D9ClUJs2wScg",
        "colab": {
          "base_uri": "https://localhost:8080/"
        },
        "outputId": "0dd251bf-0374-4fe5-e0bd-dd68e20afdd4"
      },
      "outputs": [
        {
          "output_type": "execute_result",
          "data": {
            "text/plain": [
              "(664098, 41)"
            ]
          },
          "metadata": {},
          "execution_count": 13
        }
      ],
      "source": [
        "df.shape"
      ]
    },
    {
      "cell_type": "code",
      "execution_count": 13,
      "metadata": {
        "id": "X5ZY1ivawQrT"
      },
      "outputs": [],
      "source": []
    },
    {
      "cell_type": "code",
      "execution_count": 14,
      "metadata": {
        "id": "zmosoRB8QfIV",
        "colab": {
          "base_uri": "https://localhost:8080/"
        },
        "outputId": "1c970be5-9fb8-425b-e0d1-e8359b0f5786"
      },
      "outputs": [
        {
          "output_type": "stream",
          "name": "stderr",
          "text": [
            "/usr/local/lib/python3.8/dist-packages/sklearn/utils/deprecation.py:87: FutureWarning: Function get_feature_names is deprecated; get_feature_names is deprecated in 1.0 and will be removed in 1.2. Please use get_feature_names_out instead.\n",
            "  warnings.warn(msg, category=FutureWarning)\n"
          ]
        }
      ],
      "source": [
        "from sklearn.preprocessing import OneHotEncoder\n",
        "one_hot_feature_cols = ['grade_level', 'teacher_prefix', 'school_state']\n",
        "df = df.replace({'school_charter': {'t': 1, 'f': 0},\n",
        "                 'school_kipp': {'t': 1, 'f': 0}})\n",
        "\n",
        "encoder = OneHotEncoder(handle_unknown='ignore')\n",
        "\n",
        "#perform one-hot encoding\n",
        "encoder_df = pd.DataFrame(encoder.fit_transform(df[one_hot_feature_cols]).toarray())\n",
        "encoder_df.columns = encoder.get_feature_names()\n",
        "#merge one-hot encoded columns back with original DataFrame\n",
        "final_X = df.join(encoder_df)\n",
        "#drop the original columns\n",
        "final_X = final_X.drop(one_hot_feature_cols, axis=1)\n",
        "\n",
        "df = final_X\n",
        "\n",
        "# # row 28-36\n",
        "feature_cols_projects = ['school_charter', 'school_kipp', 'total_price_excluding_optional_support', 'students_reached', 'teacher_acctid', 'school_city', 'date_posted'] + list(final_X.columns[-50:])"
      ]
    },
    {
      "cell_type": "code",
      "execution_count": 15,
      "metadata": {
        "id": "FnvZ5MSiQfIW",
        "colab": {
          "base_uri": "https://localhost:8080/"
        },
        "outputId": "a15351af-c227-4c53-c7ce-54a11c1b0563"
      },
      "outputs": [
        {
          "output_type": "execute_result",
          "data": {
            "text/plain": [
              "Index(['projectid', 'teacher_acctid', 'schoolid', 'school_ncesid',\n",
              "       'school_latitude', 'school_longitude', 'school_city', 'school_zip',\n",
              "       'school_metro', 'school_district',\n",
              "       ...\n",
              "       'x2_SD', 'x2_TN', 'x2_TX', 'x2_UT', 'x2_VA', 'x2_VT', 'x2_WA', 'x2_WI',\n",
              "       'x2_WV', 'x2_WY'],\n",
              "      dtype='object', length=101)"
            ]
          },
          "metadata": {},
          "execution_count": 15
        }
      ],
      "source": [
        "df.columns"
      ]
    },
    {
      "cell_type": "code",
      "execution_count": 16,
      "metadata": {
        "id": "lBaQ63bQrm5r",
        "colab": {
          "base_uri": "https://localhost:8080/",
          "height": 389
        },
        "outputId": "ba020ee7-4170-4885-bdce-3c88c64df1c1"
      },
      "outputs": [
        {
          "output_type": "stream",
          "name": "stdout",
          "text": [
            "Archive:  /content/essays.csv.zip\n",
            "replace essays.csv? [y]es, [n]o, [A]ll, [N]one, [r]ename: N\n"
          ]
        },
        {
          "output_type": "execute_result",
          "data": {
            "text/plain": [
              "                          projectid                    teacher_acctid  \\\n",
              "0  ffffc4f85b60efc5b52347df489d0238  c24011b20fc161ed02248e85beb59a90   \n",
              "1  ffffac55ee02a49d1abc87ba6fc61135  947066d0af47e0566f334566553dd6a6   \n",
              "2  ffff97ed93720407d70a2787475932b0  462270f5d5c212162fcab11afa2623cb   \n",
              "3  ffff7266778f71242675416e600b94e1  b9a8f14199e0d8109200ece179281f4f   \n",
              "4  ffff418bb42fad24347527ad96100f81  e885fb002a1d0d39aaed9d21a7683549   \n",
              "\n",
              "                                          title  \\\n",
              "0                                         iMath   \n",
              "1                     Recording Rockin' Readers   \n",
              "2  Kindergarten In Need of Important Materials!   \n",
              "3                               Let's Find Out!   \n",
              "4                        Whistle While We Work!   \n",
              "\n",
              "                                   short_description  \\\n",
              "0  It is imperative that teachers bring technolog...   \n",
              "1  Can you imagine having to translate everything...   \n",
              "2  It takes a special person to donate to a group...   \n",
              "3  My Kindergarten students come from a variety o...   \n",
              "4  By using the cross curricular games requested,...   \n",
              "\n",
              "                                      need_statement  \\\n",
              "0                       My students need four iPods.   \n",
              "1                     My students need a camcorder.    \n",
              "2  My students need 17 assorted classroom materia...   \n",
              "3  My students need 25 copies of Scholastic's \"Le...   \n",
              "4  My students need grade level appropriate games...   \n",
              "\n",
              "                                               essay  \n",
              "0  I am a fourth year fifth grade math teacher. T...  \n",
              "1  Can you imagine having to translate everything...  \n",
              "2  Hi. I teach a wonderful group of 4-5 year old ...  \n",
              "3  My Kindergarten students come from a variety o...  \n",
              "4  All work and no play makes school a dull place...  "
            ],
            "text/html": [
              "\n",
              "  <div id=\"df-244d863b-8042-48f3-9c6b-8b50ffd4e2fd\">\n",
              "    <div class=\"colab-df-container\">\n",
              "      <div>\n",
              "<style scoped>\n",
              "    .dataframe tbody tr th:only-of-type {\n",
              "        vertical-align: middle;\n",
              "    }\n",
              "\n",
              "    .dataframe tbody tr th {\n",
              "        vertical-align: top;\n",
              "    }\n",
              "\n",
              "    .dataframe thead th {\n",
              "        text-align: right;\n",
              "    }\n",
              "</style>\n",
              "<table border=\"1\" class=\"dataframe\">\n",
              "  <thead>\n",
              "    <tr style=\"text-align: right;\">\n",
              "      <th></th>\n",
              "      <th>projectid</th>\n",
              "      <th>teacher_acctid</th>\n",
              "      <th>title</th>\n",
              "      <th>short_description</th>\n",
              "      <th>need_statement</th>\n",
              "      <th>essay</th>\n",
              "    </tr>\n",
              "  </thead>\n",
              "  <tbody>\n",
              "    <tr>\n",
              "      <th>0</th>\n",
              "      <td>ffffc4f85b60efc5b52347df489d0238</td>\n",
              "      <td>c24011b20fc161ed02248e85beb59a90</td>\n",
              "      <td>iMath</td>\n",
              "      <td>It is imperative that teachers bring technolog...</td>\n",
              "      <td>My students need four iPods.</td>\n",
              "      <td>I am a fourth year fifth grade math teacher. T...</td>\n",
              "    </tr>\n",
              "    <tr>\n",
              "      <th>1</th>\n",
              "      <td>ffffac55ee02a49d1abc87ba6fc61135</td>\n",
              "      <td>947066d0af47e0566f334566553dd6a6</td>\n",
              "      <td>Recording Rockin' Readers</td>\n",
              "      <td>Can you imagine having to translate everything...</td>\n",
              "      <td>My students need a camcorder.</td>\n",
              "      <td>Can you imagine having to translate everything...</td>\n",
              "    </tr>\n",
              "    <tr>\n",
              "      <th>2</th>\n",
              "      <td>ffff97ed93720407d70a2787475932b0</td>\n",
              "      <td>462270f5d5c212162fcab11afa2623cb</td>\n",
              "      <td>Kindergarten In Need of Important Materials!</td>\n",
              "      <td>It takes a special person to donate to a group...</td>\n",
              "      <td>My students need 17 assorted classroom materia...</td>\n",
              "      <td>Hi. I teach a wonderful group of 4-5 year old ...</td>\n",
              "    </tr>\n",
              "    <tr>\n",
              "      <th>3</th>\n",
              "      <td>ffff7266778f71242675416e600b94e1</td>\n",
              "      <td>b9a8f14199e0d8109200ece179281f4f</td>\n",
              "      <td>Let's Find Out!</td>\n",
              "      <td>My Kindergarten students come from a variety o...</td>\n",
              "      <td>My students need 25 copies of Scholastic's \"Le...</td>\n",
              "      <td>My Kindergarten students come from a variety o...</td>\n",
              "    </tr>\n",
              "    <tr>\n",
              "      <th>4</th>\n",
              "      <td>ffff418bb42fad24347527ad96100f81</td>\n",
              "      <td>e885fb002a1d0d39aaed9d21a7683549</td>\n",
              "      <td>Whistle While We Work!</td>\n",
              "      <td>By using the cross curricular games requested,...</td>\n",
              "      <td>My students need grade level appropriate games...</td>\n",
              "      <td>All work and no play makes school a dull place...</td>\n",
              "    </tr>\n",
              "  </tbody>\n",
              "</table>\n",
              "</div>\n",
              "      <button class=\"colab-df-convert\" onclick=\"convertToInteractive('df-244d863b-8042-48f3-9c6b-8b50ffd4e2fd')\"\n",
              "              title=\"Convert this dataframe to an interactive table.\"\n",
              "              style=\"display:none;\">\n",
              "        \n",
              "  <svg xmlns=\"http://www.w3.org/2000/svg\" height=\"24px\"viewBox=\"0 0 24 24\"\n",
              "       width=\"24px\">\n",
              "    <path d=\"M0 0h24v24H0V0z\" fill=\"none\"/>\n",
              "    <path d=\"M18.56 5.44l.94 2.06.94-2.06 2.06-.94-2.06-.94-.94-2.06-.94 2.06-2.06.94zm-11 1L8.5 8.5l.94-2.06 2.06-.94-2.06-.94L8.5 2.5l-.94 2.06-2.06.94zm10 10l.94 2.06.94-2.06 2.06-.94-2.06-.94-.94-2.06-.94 2.06-2.06.94z\"/><path d=\"M17.41 7.96l-1.37-1.37c-.4-.4-.92-.59-1.43-.59-.52 0-1.04.2-1.43.59L10.3 9.45l-7.72 7.72c-.78.78-.78 2.05 0 2.83L4 21.41c.39.39.9.59 1.41.59.51 0 1.02-.2 1.41-.59l7.78-7.78 2.81-2.81c.8-.78.8-2.07 0-2.86zM5.41 20L4 18.59l7.72-7.72 1.47 1.35L5.41 20z\"/>\n",
              "  </svg>\n",
              "      </button>\n",
              "      \n",
              "  <style>\n",
              "    .colab-df-container {\n",
              "      display:flex;\n",
              "      flex-wrap:wrap;\n",
              "      gap: 12px;\n",
              "    }\n",
              "\n",
              "    .colab-df-convert {\n",
              "      background-color: #E8F0FE;\n",
              "      border: none;\n",
              "      border-radius: 50%;\n",
              "      cursor: pointer;\n",
              "      display: none;\n",
              "      fill: #1967D2;\n",
              "      height: 32px;\n",
              "      padding: 0 0 0 0;\n",
              "      width: 32px;\n",
              "    }\n",
              "\n",
              "    .colab-df-convert:hover {\n",
              "      background-color: #E2EBFA;\n",
              "      box-shadow: 0px 1px 2px rgba(60, 64, 67, 0.3), 0px 1px 3px 1px rgba(60, 64, 67, 0.15);\n",
              "      fill: #174EA6;\n",
              "    }\n",
              "\n",
              "    [theme=dark] .colab-df-convert {\n",
              "      background-color: #3B4455;\n",
              "      fill: #D2E3FC;\n",
              "    }\n",
              "\n",
              "    [theme=dark] .colab-df-convert:hover {\n",
              "      background-color: #434B5C;\n",
              "      box-shadow: 0px 1px 3px 1px rgba(0, 0, 0, 0.15);\n",
              "      filter: drop-shadow(0px 1px 2px rgba(0, 0, 0, 0.3));\n",
              "      fill: #FFFFFF;\n",
              "    }\n",
              "  </style>\n",
              "\n",
              "      <script>\n",
              "        const buttonEl =\n",
              "          document.querySelector('#df-244d863b-8042-48f3-9c6b-8b50ffd4e2fd button.colab-df-convert');\n",
              "        buttonEl.style.display =\n",
              "          google.colab.kernel.accessAllowed ? 'block' : 'none';\n",
              "\n",
              "        async function convertToInteractive(key) {\n",
              "          const element = document.querySelector('#df-244d863b-8042-48f3-9c6b-8b50ffd4e2fd');\n",
              "          const dataTable =\n",
              "            await google.colab.kernel.invokeFunction('convertToInteractive',\n",
              "                                                     [key], {});\n",
              "          if (!dataTable) return;\n",
              "\n",
              "          const docLinkHtml = 'Like what you see? Visit the ' +\n",
              "            '<a target=\"_blank\" href=https://colab.research.google.com/notebooks/data_table.ipynb>data table notebook</a>'\n",
              "            + ' to learn more about interactive tables.';\n",
              "          element.innerHTML = '';\n",
              "          dataTable['output_type'] = 'display_data';\n",
              "          await google.colab.output.renderOutput(dataTable, element);\n",
              "          const docLink = document.createElement('div');\n",
              "          docLink.innerHTML = docLinkHtml;\n",
              "          element.appendChild(docLink);\n",
              "        }\n",
              "      </script>\n",
              "    </div>\n",
              "  </div>\n",
              "  "
            ]
          },
          "metadata": {},
          "execution_count": 16
        }
      ],
      "source": [
        "!unzip /content/essays.csv.zip\n",
        "full_essays = pd.read_csv(\"/content/essays.csv\")\n",
        "full_essays.head()"
      ]
    },
    {
      "cell_type": "code",
      "execution_count": 17,
      "metadata": {
        "id": "UWMC7K9vx4pe",
        "colab": {
          "base_uri": "https://localhost:8080/"
        },
        "outputId": "3e39a542-1900-4161-9a83-9e817e1ac072"
      },
      "outputs": [
        {
          "output_type": "stream",
          "name": "stderr",
          "text": [
            "[nltk_data] Downloading package vader_lexicon to /root/nltk_data...\n",
            "[nltk_data]   Package vader_lexicon is already up-to-date!\n"
          ]
        }
      ],
      "source": [
        "import nltk\n",
        "nltk.download('vader_lexicon')\n",
        "sid = SentimentIntensityAnalyzer()"
      ]
    },
    {
      "cell_type": "code",
      "execution_count": 18,
      "metadata": {
        "id": "s4Q4et7cyUEz",
        "colab": {
          "base_uri": "https://localhost:8080/"
        },
        "outputId": "a2469c35-a4bf-40c4-dc66-9036bb806016"
      },
      "outputs": [
        {
          "output_type": "execute_result",
          "data": {
            "text/plain": [
              "(664098, 6)"
            ]
          },
          "metadata": {},
          "execution_count": 18
        }
      ],
      "source": [
        "full_essays.shape"
      ]
    },
    {
      "cell_type": "code",
      "execution_count": 19,
      "metadata": {
        "id": "p_C-BMmMx5b3"
      },
      "outputs": [],
      "source": [
        "sample_essays = full_essays.iloc[:100000]"
      ]
    },
    {
      "cell_type": "code",
      "execution_count": 20,
      "metadata": {
        "id": "vjQ5ZW2s64mU"
      },
      "outputs": [],
      "source": [
        "sample_polarity = sample_essays['title'].astype(str).apply(lambda x: sid.polarity_scores(x))"
      ]
    },
    {
      "cell_type": "code",
      "execution_count": 21,
      "metadata": {
        "id": "Z4fuFCHw7QJF"
      },
      "outputs": [],
      "source": [
        "sample_polarity = sample_essays['short_description'].astype(str).apply(lambda x: sid.polarity_scores(x))"
      ]
    },
    {
      "cell_type": "code",
      "execution_count": 22,
      "metadata": {
        "id": "t8-RaZODp7sH",
        "colab": {
          "base_uri": "https://localhost:8080/"
        },
        "outputId": "e0ef669a-187a-4f41-9711-9154f3746d25"
      },
      "outputs": [
        {
          "output_type": "stream",
          "name": "stdout",
          "text": [
            "title\n",
            "short_description\n",
            "need_statement\n",
            "essay\n",
            "title\n",
            "short_description\n"
          ]
        }
      ],
      "source": [
        "#flair_sentiment= flair.models.TextClassifier.load('en-sentiment')\n",
        "sid = SentimentIntensityAnalyzer()\n",
        "for col in ['title','short_description', 'need_statement', 'essay']:\n",
        "  print(col)\n",
        "  full_essays[col + '_len'] = full_essays[col].str.len()\n",
        "  full_essays[col + '_wordlen'] = full_essays[col].astype(str).apply(lambda x: len(x) / len(x.split(' ')))\n",
        "\n",
        "for col in ['title','short_description']:\n",
        "  print(col)\n",
        "  full_essays[col + '_sent'] = full_essays[col].astype(str).apply(lambda x: sid.polarity_scores(x))\n",
        "  full_essays[col + '_sentnet'] = full_essays[col + '_sent'].apply(lambda x: x['pos'] - x['neg'])\n",
        "  full_essays[col + '_sentpol'] = full_essays[col + '_sent'].apply(lambda x: x['pos'] + x['neg'])"
      ]
    },
    {
      "cell_type": "code",
      "execution_count": 23,
      "metadata": {
        "id": "tHl8k0mNJ8SE"
      },
      "outputs": [],
      "source": [
        "full_essays = full_essays.drop(columns=['teacher_acctid', 'title', 'short_description', 'need_statement', 'essay'])"
      ]
    },
    {
      "cell_type": "code",
      "execution_count": 24,
      "metadata": {
        "id": "uO3i2YyvJsR8"
      },
      "outputs": [],
      "source": [
        "df = pd.merge(df, full_essays, on=['projectid'], how='left')"
      ]
    },
    {
      "cell_type": "code",
      "execution_count": 25,
      "metadata": {
        "id": "Y8T7wymuQfIY",
        "colab": {
          "base_uri": "https://localhost:8080/"
        },
        "outputId": "7f14f0e3-818c-4058-e029-304abee0823e"
      },
      "outputs": [
        {
          "output_type": "execute_result",
          "data": {
            "text/plain": [
              "Index(['projectid', 'teacher_acctid', 'schoolid', 'school_ncesid',\n",
              "       'school_latitude', 'school_longitude', 'school_city', 'school_zip',\n",
              "       'school_metro', 'school_district',\n",
              "       ...\n",
              "       'need_statement_len', 'need_statement_wordlen', 'essay_len',\n",
              "       'essay_wordlen', 'title_sent', 'title_sentnet', 'title_sentpol',\n",
              "       'short_description_sent', 'short_description_sentnet',\n",
              "       'short_description_sentpol'],\n",
              "      dtype='object', length=115)"
            ]
          },
          "metadata": {},
          "execution_count": 25
        }
      ],
      "source": [
        "df.columns"
      ]
    },
    {
      "cell_type": "code",
      "execution_count": 26,
      "metadata": {
        "id": "kYbaYBXmogpb"
      },
      "outputs": [],
      "source": [
        "import numpy as np"
      ]
    },
    {
      "cell_type": "code",
      "execution_count": 27,
      "metadata": {
        "id": "mVjcnYOGQfIY",
        "colab": {
          "base_uri": "https://localhost:8080/"
        },
        "outputId": "a50a5b23-dc09-4759-c8fd-735323a30827"
      },
      "outputs": [
        {
          "output_type": "stream",
          "name": "stderr",
          "text": [
            "<ipython-input-27-4fa936b62856>:2: SettingWithCopyWarning: \n",
            "A value is trying to be set on a copy of a slice from a DataFrame.\n",
            "Try using .loc[row_indexer,col_indexer] = value instead\n",
            "\n",
            "See the caveats in the documentation: https://pandas.pydata.org/pandas-docs/stable/user_guide/indexing.html#returning-a-view-versus-a-copy\n",
            "  resource_df['project_resource_type'] = resource_df['project_resource_type'].astype('str')\n",
            "<ipython-input-27-4fa936b62856>:14: SettingWithCopyWarning: \n",
            "A value is trying to be set on a copy of a slice from a DataFrame.\n",
            "Try using .loc[row_indexer,col_indexer] = value instead\n",
            "\n",
            "See the caveats in the documentation: https://pandas.pydata.org/pandas-docs/stable/user_guide/indexing.html#returning-a-view-versus-a-copy\n",
            "  resource_df['avg_unit_price'] = resource_df.apply(lambda row: avg_unit_price[row['project_resource_type']], axis=1) # This could take a minute to run\n",
            "<ipython-input-27-4fa936b62856>:15: SettingWithCopyWarning: \n",
            "A value is trying to be set on a copy of a slice from a DataFrame.\n",
            "Try using .loc[row_indexer,col_indexer] = value instead\n",
            "\n",
            "See the caveats in the documentation: https://pandas.pydata.org/pandas-docs/stable/user_guide/indexing.html#returning-a-view-versus-a-copy\n",
            "  resource_df['avg_quantity'] = resource_df.apply(lambda row: avg_quantity[row['project_resource_type']], axis=1)\n",
            "<ipython-input-27-4fa936b62856>:17: SettingWithCopyWarning: \n",
            "A value is trying to be set on a copy of a slice from a DataFrame.\n",
            "Try using .loc[row_indexer,col_indexer] = value instead\n",
            "\n",
            "See the caveats in the documentation: https://pandas.pydata.org/pandas-docs/stable/user_guide/indexing.html#returning-a-view-versus-a-copy\n",
            "  resource_df['item_unit_price'] = resource_df['item_unit_price'].fillna(resource_df['avg_unit_price'])\n",
            "<ipython-input-27-4fa936b62856>:18: SettingWithCopyWarning: \n",
            "A value is trying to be set on a copy of a slice from a DataFrame.\n",
            "Try using .loc[row_indexer,col_indexer] = value instead\n",
            "\n",
            "See the caveats in the documentation: https://pandas.pydata.org/pandas-docs/stable/user_guide/indexing.html#returning-a-view-versus-a-copy\n",
            "  resource_df['item_quantity'] = resource_df['item_quantity'].fillna(resource_df['avg_quantity'])\n"
          ]
        }
      ],
      "source": [
        "resource_df = full_resources[['resourceid', 'projectid', 'project_resource_type', 'item_unit_price', 'item_quantity']]\n",
        "resource_df['project_resource_type'] = resource_df['project_resource_type'].astype('str')\n",
        "\n",
        "# Fill in missing values of item_unit_price & item_quantity\n",
        "resource_types = np.unique(resource_df['project_resource_type'].tolist())\n",
        "avg_unit_price = {}\n",
        "avg_quantity = {}\n",
        "for rtype in resource_types:\n",
        "  avg = resource_df.loc[resource_df['project_resource_type'] == rtype]['item_unit_price'].mean()\n",
        "  avg_unit_price[rtype] = avg\n",
        "  avg_num = np.floor(resource_df.loc[resource_df['project_resource_type'] == rtype]['item_quantity'].mean())\n",
        "  avg_quantity[rtype] = avg_num\n",
        "\n",
        "resource_df['avg_unit_price'] = resource_df.apply(lambda row: avg_unit_price[row['project_resource_type']], axis=1) # This could take a minute to run\n",
        "resource_df['avg_quantity'] = resource_df.apply(lambda row: avg_quantity[row['project_resource_type']], axis=1)\n",
        "\n",
        "resource_df['item_unit_price'] = resource_df['item_unit_price'].fillna(resource_df['avg_unit_price'])\n",
        "resource_df['item_quantity'] = resource_df['item_quantity'].fillna(resource_df['avg_quantity'])\n",
        "\n",
        "resource_df = resource_df.groupby('projectid').agg({'item_unit_price':'mean', 'item_quantity':'sum'}).reset_index().rename(columns={'item_unit_price':'avg_unit_price', 'item_quantity':'total_item_quantity'})\n",
        "df = df.merge(resource_df, how='left', on='projectid')"
      ]
    },
    {
      "cell_type": "code",
      "execution_count": 28,
      "metadata": {
        "id": "Kf6z5hxescIC",
        "colab": {
          "base_uri": "https://localhost:8080/"
        },
        "outputId": "88443a8f-6fa3-4703-a7c9-eaa4a59475f6"
      },
      "outputs": [
        {
          "output_type": "stream",
          "name": "stdout",
          "text": [
            "\n",
            "Index(['students_reached', 'children_helped_per_dollar', 'title_len',\n",
            "       'title_sentnet', 'title_sentpol', 'short_description_len',\n",
            "       'short_description_sentnet', 'short_description_sentpol', 'essay_len',\n",
            "       'need_statement_len', 'avg_unit_price', 'total_item_quantity',\n",
            "       'pct_funded_1mo', 'school_charter', 'school_kipp',\n",
            "       'total_price_excluding_optional_support', 'students_reached',\n",
            "       'teacher_acctid', 'school_city', 'date_posted', 'x2_AR', 'x2_AZ',\n",
            "       'x2_CA', 'x2_CO', 'x2_CT', 'x2_DC', 'x2_DE', 'x2_FL', 'x2_GA', 'x2_HI',\n",
            "       'x2_IA', 'x2_ID', 'x2_IL', 'x2_IN', 'x2_KS', 'x2_KY', 'x2_LA', 'x2_La',\n",
            "       'x2_MA', 'x2_MD', 'x2_ME', 'x2_MI', 'x2_MN', 'x2_MO', 'x2_MS', 'x2_MT',\n",
            "       'x2_NC', 'x2_ND', 'x2_NE', 'x2_NH', 'x2_NJ', 'x2_NM', 'x2_NV', 'x2_NY',\n",
            "       'x2_OH', 'x2_OK', 'x2_OR', 'x2_PA', 'x2_RI', 'x2_SC', 'x2_SD', 'x2_TN',\n",
            "       'x2_TX', 'x2_UT', 'x2_VA', 'x2_VT', 'x2_WA', 'x2_WI', 'x2_WV', 'x2_WY',\n",
            "       'projectid', 'is_fully_funded_after_4_months',\n",
            "       'primary_focus_area:Applied_Learning',\n",
            "       'primary_focus_area:Health_&_Sports',\n",
            "       'primary_focus_area:History_&_Civics',\n",
            "       'primary_focus_area:Literacy_&_Language',\n",
            "       'primary_focus_area:Math_&_Science',\n",
            "       'primary_focus_area:Music_&_The_Arts',\n",
            "       'primary_focus_area:Special_Needs', 'resource_type:Books',\n",
            "       'resource_type:Other', 'resource_type:Supplies',\n",
            "       'resource_type:Technology', 'resource_type:Trips',\n",
            "       'resource_type:Visitors', 'poverty_level:high_poverty',\n",
            "       'poverty_level:highest_poverty', 'poverty_level:low_poverty',\n",
            "       'poverty_level:moderate_poverty'],\n",
            "      dtype='object')\n"
          ]
        }
      ],
      "source": [
        "resstat_cols = ['students_reached', 'children_helped_per_dollar', 'primary_focus_area', 'resource_type', 'poverty_level']\n",
        "\n",
        "text_cols = ['title_len', 'title_sentnet', 'title_sentpol', 'short_description_len', 'short_description_sentnet', 'short_description_sentpol','essay_len', 'need_statement_len']\n",
        "res_cols = ['avg_unit_price', 'total_item_quantity']\n",
        "don_cols = ['pct_funded_1mo']\n",
        "features = resstat_cols + text_cols + res_cols + don_cols + feature_cols_projects + ['projectid']\n",
        "Y = ['is_fully_funded_after_4_months']\n",
        "print()\n",
        "df_final = df[features + Y]\n",
        "\n",
        "# Silences a warning that doesn't affect anything\n",
        "pd.options.mode.chained_assignment = None\n",
        "\n",
        "for i in ['primary_focus_area', 'resource_type', 'poverty_level']:\n",
        "  new_addition = pd.get_dummies(df_final[i])\n",
        "  new_addition.columns = [i + \":\" + x.replace(\" \",\"_\") for x in new_addition.columns]\n",
        "  for col_name in new_addition.columns:\n",
        "    df_final[col_name] = new_addition[col_name].copy(deep=True)\n",
        "df_final.drop(columns = ['primary_focus_area', 'resource_type', 'poverty_level'], inplace=True)\n",
        "print(df_final.columns)"
      ]
    },
    {
      "cell_type": "code",
      "execution_count": 29,
      "metadata": {
        "id": "tuFsKR4U-rd6"
      },
      "outputs": [],
      "source": [
        "from datetime import datetime"
      ]
    },
    {
      "cell_type": "code",
      "execution_count": 30,
      "metadata": {
        "id": "Li6mGOER-kxh"
      },
      "outputs": [],
      "source": [
        "from dateutil.relativedelta import relativedelta"
      ]
    },
    {
      "cell_type": "code",
      "execution_count": 31,
      "metadata": {
        "id": "9RR81PuK9rQE"
      },
      "outputs": [],
      "source": [
        "def chron_split_date_ranges(dates, train_length = relativedelta(years=1), val_length = relativedelta(months=1), retrain_length = relativedelta(weeks=2), min_f_col = relativedelta(months=1), min_l_col = relativedelta(months=4)):\n",
        "  sorted = dates.sort_values()\n",
        "  first_date = sorted.iloc[0]\n",
        "  last_date = sorted.iloc[-1]\n",
        "\n",
        "  split_dates = []\n",
        "\n",
        "  curr = first_date\n",
        "\n",
        "  while curr + val_length + train_length + 2 * min_l_col + 2 * min_f_col < last_date:\n",
        "    train_start = curr + min_f_col\n",
        "    val_start = train_start + train_length + min_l_col + min_f_col\n",
        "    \n",
        "    split_dates.append({\n",
        "        \"train_feature_collection\": (curr, train_start),\n",
        "        \"train\": (train_start, train_start + train_length),\n",
        "        \"train_label_buffer\": (train_start + train_length, train_start + train_length + min_l_col),\n",
        "        \"val_feature_collection\": (train_start + train_length + min_l_col, val_start),\n",
        "        \"val\": (val_start , val_start + val_length),\n",
        "        \"val_label_buffer\": (val_start + val_length, val_start + val_length + min_l_col),\n",
        "        \"train_label\": (train_start + min_l_col, train_start + train_length + min_l_col),\n",
        "        \"val_label\": (val_start + min_l_col, val_start + val_length + min_l_col)\n",
        "    })\n",
        "\n",
        "    curr += retrain_length\n",
        "  return split_dates"
      ]
    },
    {
      "cell_type": "code",
      "execution_count": 58,
      "metadata": {
        "id": "xxLN3aGk_gY5"
      },
      "outputs": [],
      "source": [
        "split = chron_split_date_ranges(pd.to_datetime(df['date_posted']))[-1] # latest split"
      ]
    },
    {
      "cell_type": "code",
      "execution_count": 59,
      "metadata": {
        "id": "LNPOkWRLQfIZ",
        "colab": {
          "base_uri": "https://localhost:8080/"
        },
        "outputId": "a86de7e4-fa59-4591-f876-ee0bfb1ba35b"
      },
      "outputs": [
        {
          "output_type": "execute_result",
          "data": {
            "text/plain": [
              "{'train_feature_collection': (Timestamp('2012-06-08 00:00:00'),\n",
              "  Timestamp('2012-07-08 00:00:00')),\n",
              " 'train': (Timestamp('2012-07-08 00:00:00'), Timestamp('2013-07-08 00:00:00')),\n",
              " 'train_label_buffer': (Timestamp('2013-07-08 00:00:00'),\n",
              "  Timestamp('2013-11-08 00:00:00')),\n",
              " 'val_feature_collection': (Timestamp('2013-11-08 00:00:00'),\n",
              "  Timestamp('2013-12-08 00:00:00')),\n",
              " 'val': (Timestamp('2013-12-08 00:00:00'), Timestamp('2014-01-08 00:00:00')),\n",
              " 'val_label_buffer': (Timestamp('2014-01-08 00:00:00'),\n",
              "  Timestamp('2014-05-08 00:00:00')),\n",
              " 'train_label': (Timestamp('2012-11-08 00:00:00'),\n",
              "  Timestamp('2013-11-08 00:00:00')),\n",
              " 'val_label': (Timestamp('2014-04-08 00:00:00'),\n",
              "  Timestamp('2014-05-08 00:00:00'))}"
            ]
          },
          "metadata": {},
          "execution_count": 59
        }
      ],
      "source": [
        "split"
      ]
    },
    {
      "cell_type": "code",
      "execution_count": 60,
      "metadata": {
        "id": "A_v4mroMkQOm",
        "colab": {
          "base_uri": "https://localhost:8080/"
        },
        "outputId": "d99d5333-2236-4741-dcc4-7bc792d38877"
      },
      "outputs": [
        {
          "output_type": "execute_result",
          "data": {
            "text/plain": [
              "Timestamp('2012-07-08 00:00:00')"
            ]
          },
          "metadata": {},
          "execution_count": 60
        }
      ],
      "source": [
        "split[\"train\"][0]"
      ]
    },
    {
      "cell_type": "code",
      "execution_count": 61,
      "metadata": {
        "id": "e4v4jp3ATLRQ"
      },
      "outputs": [],
      "source": [
        "\n",
        "# compute success rate grouped by 'feature', only use historical data\n",
        "def compute_success_rate_by_feature(data, date, feature_names):\n",
        "  data_before_date = df_final[df_final['date_posted'] < (date - timedelta(days=120))]\n",
        "  for feature_name in feature_names:\n",
        "    num_of_success = dict(data_before_date.groupby([feature_name])['is_fully_funded_after_4_months'].sum())\n",
        "    num_of_projects = dict(data_before_date.groupby([feature_name]).size())\n",
        "    data['num_of_success_projects_' + feature_name]= data[feature_name].map(num_of_success)\n",
        "    data['num_of_projects_' + feature_name]= data[feature_name].map(num_of_projects)\n",
        "    data['success_rate_' + feature_name]= data['num_of_success_projects_' + feature_name] / data['num_of_projects_' + feature_name]\n",
        "    #drop 'school city'\n",
        "  data = data.drop(feature_names + ['projectid', 'date_posted'], axis=1)\n",
        "  data = data.fillna(0)\n",
        "\n",
        "  return data\n",
        "\n",
        "def generate_train_val(df, split):\n",
        "  train = df.loc[(split[\"train\"][0] <= df['date_posted']) & (df['date_posted'] < split[\"train\"][1])].fillna(0)\n",
        "  train = compute_success_rate_by_feature(train, split[\"train\"][0], ['school_city', 'teacher_acctid'])\n",
        "\n",
        "  val = df.loc[(split[\"val\"][0] <= df['date_posted']) & (df['date_posted'] < split[\"val\"][1])].fillna(0)\n",
        "  val = compute_success_rate_by_feature(val, split[\"train\"][0], ['school_city', 'teacher_acctid'])\n",
        "  return pd.DataFrame(train), pd.DataFrame(val)\n"
      ]
    },
    {
      "cell_type": "code",
      "execution_count": 62,
      "metadata": {
        "id": "AkzA9Bi4bEci"
      },
      "outputs": [],
      "source": [
        "train, val = generate_train_val(df_final, split)"
      ]
    },
    {
      "cell_type": "code",
      "execution_count": 63,
      "metadata": {
        "id": "Et0zlGzDcqfU"
      },
      "outputs": [],
      "source": [
        "train_X = train.drop(columns=['is_fully_funded_after_4_months']).reset_index()\n",
        "train_Y = train['is_fully_funded_after_4_months'].values\n",
        "val_X = val.drop(columns=['is_fully_funded_after_4_months']).reset_index()\n",
        "val_Y = val['is_fully_funded_after_4_months'].values"
      ]
    },
    {
      "cell_type": "code",
      "execution_count": 64,
      "metadata": {
        "id": "E3L8h8vBV9Tf",
        "colab": {
          "base_uri": "https://localhost:8080/"
        },
        "outputId": "d83f7070-06ec-41c2-95e0-26249640ef94"
      },
      "outputs": [
        {
          "output_type": "stream",
          "name": "stdout",
          "text": [
            "Index(['index', 'students_reached', 'children_helped_per_dollar', 'title_len',\n",
            "       'title_sentnet', 'title_sentpol', 'short_description_len',\n",
            "       'short_description_sentnet', 'short_description_sentpol', 'essay_len',\n",
            "       'need_statement_len', 'avg_unit_price', 'total_item_quantity',\n",
            "       'pct_funded_1mo', 'school_charter', 'school_kipp',\n",
            "       'total_price_excluding_optional_support', 'students_reached', 'x2_AR',\n",
            "       'x2_AZ', 'x2_CA', 'x2_CO', 'x2_CT', 'x2_DC', 'x2_DE', 'x2_FL', 'x2_GA',\n",
            "       'x2_HI', 'x2_IA', 'x2_ID', 'x2_IL', 'x2_IN', 'x2_KS', 'x2_KY', 'x2_LA',\n",
            "       'x2_La', 'x2_MA', 'x2_MD', 'x2_ME', 'x2_MI', 'x2_MN', 'x2_MO', 'x2_MS',\n",
            "       'x2_MT', 'x2_NC', 'x2_ND', 'x2_NE', 'x2_NH', 'x2_NJ', 'x2_NM', 'x2_NV',\n",
            "       'x2_NY', 'x2_OH', 'x2_OK', 'x2_OR', 'x2_PA', 'x2_RI', 'x2_SC', 'x2_SD',\n",
            "       'x2_TN', 'x2_TX', 'x2_UT', 'x2_VA', 'x2_VT', 'x2_WA', 'x2_WI', 'x2_WV',\n",
            "       'x2_WY', 'primary_focus_area:Applied_Learning',\n",
            "       'primary_focus_area:Health_&_Sports',\n",
            "       'primary_focus_area:History_&_Civics',\n",
            "       'primary_focus_area:Literacy_&_Language',\n",
            "       'primary_focus_area:Math_&_Science',\n",
            "       'primary_focus_area:Music_&_The_Arts',\n",
            "       'primary_focus_area:Special_Needs', 'resource_type:Books',\n",
            "       'resource_type:Other', 'resource_type:Supplies',\n",
            "       'resource_type:Technology', 'resource_type:Trips',\n",
            "       'resource_type:Visitors', 'poverty_level:high_poverty',\n",
            "       'poverty_level:highest_poverty', 'poverty_level:low_poverty',\n",
            "       'poverty_level:moderate_poverty', 'num_of_success_projects_school_city',\n",
            "       'num_of_projects_school_city', 'success_rate_school_city',\n",
            "       'num_of_success_projects_teacher_acctid',\n",
            "       'num_of_projects_teacher_acctid', 'success_rate_teacher_acctid'],\n",
            "      dtype='object')\n"
          ]
        }
      ],
      "source": [
        "print(val_X.columns)"
      ]
    },
    {
      "cell_type": "markdown",
      "metadata": {
        "id": "xQy2dD_8KFh2"
      },
      "source": [
        "# ML models"
      ]
    },
    {
      "cell_type": "markdown",
      "metadata": {
        "id": "mY7_14lUwqkH"
      },
      "source": [
        "## Logistic Regression"
      ]
    },
    {
      "cell_type": "code",
      "execution_count": 44,
      "metadata": {
        "id": "wcJVUaAFWiuc"
      },
      "outputs": [],
      "source": [
        "from sklearn.linear_model import LogisticRegression\n",
        "import time"
      ]
    },
    {
      "cell_type": "markdown",
      "metadata": {
        "id": "tiL3sbYcailC"
      },
      "source": [
        "grid search feature selection"
      ]
    },
    {
      "cell_type": "code",
      "execution_count": null,
      "metadata": {
        "colab": {
          "base_uri": "https://localhost:8080/"
        },
        "id": "UQ5m7dBBS_f1",
        "outputId": "2d6f4a79-8440-496a-8bfc-f9950f2d64f5"
      },
      "outputs": [
        {
          "name": "stdout",
          "output_type": "stream",
          "text": [
            "1.0 ['pct_funded_1mo', 'children_helped_per_dollar', 'poverty_level:moderate_poverty']\n"
          ]
        }
      ],
      "source": [
        "max_res = 0\n",
        "feature_selected = None\n",
        "for i in train_X.columns[1:]:\n",
        "  selected = [\"pct_funded_1mo\", \"children_helped_per_dollar\"]\n",
        "  selected.append(i)\n",
        "  #print(selected) \n",
        "  #print(train_X[selected])\n",
        "  start = time.time()\n",
        "  logmodel = LogisticRegression(penalty='none', max_iter=100000000)\n",
        "  logmodel.fit(train_X[selected], train_Y)\n",
        "  train_pred = logmodel.predict_proba(train_X[selected])\n",
        "  val_pred = logmodel.predict_proba(val_X[selected]) # f(x)\n",
        "  res = logmodel.predict(val_X[selected]) # f(x)>0.5\n",
        "  train_rank = np.argsort(train_pred[:,1])\n",
        "  val_rank = np.argsort(val_pred[:,1])\n",
        "  results = []\n",
        "  for threshold in np.linspace(0.01, 1, 100):\n",
        "      precision_train = 1 - np.mean(train_Y[train_rank][:int(threshold * len(train_X))])\n",
        "      precision_val = 1 - np.mean(val_Y[val_rank][:int(threshold * len(val_X))])\n",
        "      recall_train = np.sum(train_Y[train_rank][:int(threshold * len(train_X))] == False)/np.sum(train_Y==False)\n",
        "      recall_val = np.sum(val_Y[val_rank][:int(threshold * len(val_X))] == False)/np.sum(val_Y==False)\n",
        "      results.append([precision_train, recall_train, precision_val, recall_val])\n",
        "  results = np.array(results)\n",
        "  #print(results[9, 2]) \n",
        "  if max_res < results[9, 2]:\n",
        "    max_res = results[9, 2]\n",
        "    feature_selected = selected\n",
        "print(max_res, feature_selected)"
      ]
    },
    {
      "cell_type": "markdown",
      "metadata": {
        "id": "Z_K8TfuvLCD4"
      },
      "source": [
        "most recent PR-K graphs"
      ]
    },
    {
      "cell_type": "code",
      "execution_count": null,
      "metadata": {
        "colab": {
          "base_uri": "https://localhost:8080/"
        },
        "id": "mc6HhbOIWiuc",
        "outputId": "555ff3b0-457c-40f5-ab45-1292713c05f1"
      },
      "outputs": [
        {
          "name": "stdout",
          "output_type": "stream",
          "text": [
            "0.31787848472595215\n"
          ]
        }
      ],
      "source": [
        "selected = feature_selected\n",
        "start = time.time()\n",
        "logmodel = LogisticRegression(penalty='none', max_iter=100000000)\n",
        "logmodel.fit(train_X[selected], train_Y)\n",
        "runtime = time.time() - start\n",
        "print(runtime)"
      ]
    },
    {
      "cell_type": "code",
      "execution_count": null,
      "metadata": {
        "id": "M2vFxwJrYCrT"
      },
      "outputs": [],
      "source": [
        "#print(val_X)"
      ]
    },
    {
      "cell_type": "code",
      "execution_count": null,
      "metadata": {
        "id": "XCyu_QWtWiuc"
      },
      "outputs": [],
      "source": [
        "train_pred = logmodel.predict_proba(train_X[selected])\n",
        "val_pred = logmodel.predict_proba(val_X[selected]) # f(x)\n",
        "res = logmodel.predict(val_X[selected]) # f(x)>0.5"
      ]
    },
    {
      "cell_type": "code",
      "execution_count": null,
      "metadata": {
        "colab": {
          "base_uri": "https://localhost:8080/"
        },
        "id": "Q2pXIEGueXU4",
        "outputId": "3fd1a3f4-2147-4c86-9abd-77eb5a0c0437"
      },
      "outputs": [
        {
          "name": "stdout",
          "output_type": "stream",
          "text": [
            "[0.32004793 0.0397341  0.0641692  ... 0.99534132 0.96508508 0.01896311]\n"
          ]
        }
      ],
      "source": [
        "print(val_pred[:,1])"
      ]
    },
    {
      "cell_type": "code",
      "execution_count": null,
      "metadata": {
        "colab": {
          "base_uri": "https://localhost:8080/"
        },
        "id": "DdqhCqK-JI5f",
        "outputId": "0257d4fc-079e-4fa0-9ef4-9ba49abc787c"
      },
      "outputs": [
        {
          "name": "stdout",
          "output_type": "stream",
          "text": [
            "[False False False ...  True  True False]\n"
          ]
        }
      ],
      "source": [
        "print(res)"
      ]
    },
    {
      "cell_type": "code",
      "execution_count": null,
      "metadata": {
        "id": "juYLULTlG_wN"
      },
      "outputs": [],
      "source": [
        "train_rank = np.argsort(train_pred[:,1])\n",
        "val_rank = np.argsort(val_pred[:,1])"
      ]
    },
    {
      "cell_type": "code",
      "execution_count": null,
      "metadata": {
        "colab": {
          "base_uri": "https://localhost:8080/"
        },
        "id": "F-F5G6QtWiuc",
        "outputId": "a83d9b25-896e-41d4-8118-7916e57234de"
      },
      "outputs": [
        {
          "name": "stdout",
          "output_type": "stream",
          "text": [
            "1.0\n"
          ]
        }
      ],
      "source": [
        "results = []\n",
        "for threshold in np.linspace(0.01, 1, 100):\n",
        "    precision_train = 1 - np.mean(train_Y[train_rank][:int(threshold * len(train_X))])\n",
        "    precision_val = 1 - np.mean(val_Y[val_rank][:int(threshold * len(val_X))])\n",
        "    recall_train = np.sum(train_Y[train_rank][:int(threshold * len(train_X))] == False)/np.sum(train_Y==False)\n",
        "    recall_val = np.sum(val_Y[val_rank][:int(threshold * len(val_X))] == False)/np.sum(val_Y==False)\n",
        "    results.append([precision_train, recall_train, precision_val, recall_val])\n",
        "results = np.array(results)\n",
        "print(results[9, 2])  # 0.683 for l2"
      ]
    },
    {
      "cell_type": "code",
      "execution_count": null,
      "metadata": {
        "colab": {
          "base_uri": "https://localhost:8080/",
          "height": 281
        },
        "id": "g5xhnqAsWiud",
        "outputId": "d1209193-c21b-4028-86ae-8cb2842de5e9"
      },
      "outputs": [
        {
          "data": {
            "image/png": "[encoded data removed]",
            "text/plain": [
              "<Figure size 432x288 with 2 Axes>"
            ]
          },
          "metadata": {},
          "output_type": "display_data"
        }
      ],
      "source": [
        "import matplotlib.pyplot as plt\n",
        "\n",
        "ax1 = plt.subplot()\n",
        "plt.plot(range(100), results[:,0], 'b')\n",
        "plt.ylabel('precision', color='b')\n",
        "\n",
        "ax2 = ax1.twinx()\n",
        "plt.plot(range(100), results[:,1], 'r')\n",
        "plt.ylabel('recall', color='r')\n",
        "plt.title(\"Train PR-k Curve - Logistic Regression\")\n",
        "plt.xlabel(\"Percentage of population selected\")\n",
        "plt.show()"
      ]
    },
    {
      "cell_type": "code",
      "execution_count": null,
      "metadata": {
        "colab": {
          "base_uri": "https://localhost:8080/",
          "height": 281
        },
        "id": "sPypJy25Wiud",
        "outputId": "6306b84e-defc-4ad9-f709-0048f5bcba7c"
      },
      "outputs": [
        {
          "data": {
            "image/png": "[encoded data removed]",
            "text/plain": [
              "<Figure size 432x288 with 2 Axes>"
            ]
          },
          "metadata": {},
          "output_type": "display_data"
        }
      ],
      "source": [
        "ax1 = plt.subplot()\n",
        "plt.plot(range(100), results[:,2], 'b')\n",
        "plt.ylabel('precision', color='b')\n",
        "\n",
        "ax2 = ax1.twinx()\n",
        "plt.plot(range(100), results[:,3], 'r')\n",
        "plt.ylabel('recall', color='r')\n",
        "plt.title(\"Val PR-k Curve - Logistic Regression\")\n",
        "plt.show()"
      ]
    },
    {
      "cell_type": "code",
      "execution_count": null,
      "metadata": {
        "id": "q7WQeKPjWiud"
      },
      "outputs": [],
      "source": [
        "# train_X.columns[np.argsort(logmodel.feature_importances_)[::-1]]"
      ]
    },
    {
      "cell_type": "markdown",
      "metadata": {
        "id": "bL-qajovLQrR"
      },
      "source": [
        "whole dataset evaluation (precision, recall, tfp)"
      ]
    },
    {
      "cell_type": "code",
      "execution_count": null,
      "metadata": {
        "id": "epKMgrVSbKf-"
      },
      "outputs": [],
      "source": [
        "whole_split = chron_split_date_ranges(pd.to_datetime(df['date_posted']))"
      ]
    },
    {
      "cell_type": "code",
      "execution_count": null,
      "metadata": {
        "id": "rfAiLwSrbOwU",
        "colab": {
          "base_uri": "https://localhost:8080/"
        },
        "outputId": "582e3f95-80d3-47f3-8559-3c2bf171c547"
      },
      "outputs": [
        {
          "output_type": "stream",
          "name": "stderr",
          "text": [
            " 28%|██▊       | 71/255 [1:45:42<8:45:20, 171.31s/it]"
          ]
        }
      ],
      "source": [
        "lr_res = []\n",
        "for s in tqdm(whole_split):\n",
        "  #print(s)\n",
        "  curtrain, curval = generate_train_val(df_final, s)\n",
        "  curtrain_X = curtrain.drop(columns=['is_fully_funded_after_4_months']).reset_index()\n",
        "  curtrain_Y = curtrain['is_fully_funded_after_4_months'].values\n",
        "  curval_X = curval.drop(columns=['is_fully_funded_after_4_months']).reset_index()\n",
        "  curval_Y = curval['is_fully_funded_after_4_months'].values\n",
        "  #curtrain_X.dropna(inplace=True)\n",
        "  #indices_to_keep = ~curtrain_X.isin([np.nan, np.inf, -np.inf]).any(axis=1)\n",
        "  #curtrain_X[indices_to_keep].astype(np.float64)\n",
        "  #curtrain_X.dropna(inplace=True)\n",
        "  curtrain_X[np.isinf(curtrain_X)==True] = 0\n",
        "  curval_X[np.isinf(curval_X)==True] = 0\n",
        "  logmodel = LogisticRegression(solver = 'saga', penalty='l1', max_iter=100_000)\n",
        "  logmodel.fit(curtrain_X, curtrain_Y)\n",
        "  train_pred = logmodel.predict_proba(curtrain_X)\n",
        "  val_pred = logmodel.predict_proba(curval_X) # f(x)\n",
        "  res = logmodel.predict(curval_X) # f(x)>0.5\n",
        "  train_rank = np.argsort(train_pred[:,1])\n",
        "  val_rank = np.argsort(val_pred[:,1])\n",
        "  results = []\n",
        "  threshold = 0.1\n",
        "  #precision_train = 1 - np.mean(curtrain_Y[train_rank][:int(threshold * len(curtrain_X))])\n",
        "  precision_val = 1 - np.mean(curval_Y[val_rank][:int(threshold * len(curval_X))])\n",
        "  #recall_train = np.sum(train_Y[train_rank][:int(threshold * len(train_X))] == False)/np.sum(train_Y==False)\n",
        "  #recall_val = np.sum(val_Y[val_rank][:int(threshold * len(val_X))] == False)/np.sum(val_Y==False)\n",
        "  # results.append([precision_train, recall_train, precision_val, recall_val])\n",
        "  # results = np.array(results)\n",
        "  #print(precision_val)  # 0.683 for l2\n",
        "  lr_res.append(precision_val)\n",
        "  del logmodel\n",
        "\n",
        "print(lr_res)"
      ]
    },
    {
      "cell_type": "code",
      "execution_count": null,
      "metadata": {
        "id": "Bq78Ro7yankd"
      },
      "outputs": [],
      "source": [
        "file1 = open('lr.txt', 'w')\n",
        "file1.writelines(str(y_value))\n",
        "file1.close()"
      ]
    },
    {
      "cell_type": "code",
      "execution_count": null,
      "metadata": {
        "id": "-Y9hsDLHVHQP"
      },
      "outputs": [],
      "source": []
    },
    {
      "cell_type": "markdown",
      "metadata": {
        "id": "k9YqxjdTVIDu"
      },
      "source": [
        "## Random Forest PR-k Curves"
      ]
    },
    {
      "cell_type": "code",
      "execution_count": 65,
      "metadata": {
        "id": "FZ9WrgE7VUtE"
      },
      "outputs": [],
      "source": [
        "from sklearn.tree import DecisionTreeClassifier \n",
        "from sklearn.ensemble import RandomForestClassifier as rfc\n",
        "clf = rfc(n_estimators=200)\n",
        "\n",
        "# Train Decision Tree Classifer\n",
        "clf = clf.fit(train_X, train_Y)\n"
      ]
    },
    {
      "cell_type": "code",
      "execution_count": 66,
      "metadata": {
        "id": "AaRctgRbV0vP"
      },
      "outputs": [],
      "source": [
        "train_pred = clf.predict_proba(train_X)[:,1]\n",
        "val_pred = clf.predict_proba(val_X)[:,1]"
      ]
    },
    {
      "cell_type": "code",
      "execution_count": 67,
      "metadata": {
        "colab": {
          "base_uri": "https://localhost:8080/"
        },
        "id": "46uabMMzV_yV",
        "outputId": "388e2752-3b2a-42b8-b2a9-a631bd47f892"
      },
      "outputs": [
        {
          "output_type": "stream",
          "name": "stdout",
          "text": [
            "0.9312227074235808\n"
          ]
        }
      ],
      "source": [
        "train_rank = np.argsort(train_pred)\n",
        "val_rank = np.argsort(val_pred)\n",
        "\n",
        "results = []\n",
        "for threshold in np.linspace(0.01, 1, 100):\n",
        "    precision_train = 1 - np.mean(train_Y[train_rank][:int(threshold * len(train_X))])\n",
        "    precision_val = 1 - np.mean(val_Y[val_rank][:int(threshold * len(val_X))])\n",
        "    recall_train = np.sum(train_Y[train_rank][:int(threshold * len(train_X))] == False)/np.sum(train_Y==False)\n",
        "    recall_val = np.sum(val_Y[val_rank][:int(threshold * len(val_X))] == False)/np.sum(val_Y==False)\n",
        "    results.append([precision_train, recall_train, precision_val, recall_val])\n",
        "results = np.array(results)\n",
        "print(results[9, 2])"
      ]
    },
    {
      "cell_type": "code",
      "execution_count": 68,
      "metadata": {
        "colab": {
          "base_uri": "https://localhost:8080/",
          "height": 281
        },
        "id": "HcLnb2w3ZMN2",
        "outputId": "06fddc0f-918d-4891-a68d-6ea9620e2ced"
      },
      "outputs": [
        {
          "output_type": "display_data",
          "data": {
            "text/plain": [
              "<Figure size 432x288 with 2 Axes>"
            ],
            "image/png": "[encoded data removed]"
          },
          "metadata": {
            "needs_background": "light"
          }
        }
      ],
      "source": [
        "import matplotlib.pyplot as plt\n",
        "ax1 = plt.subplot()\n",
        "plt.plot(range(100), results[:,0], 'b')\n",
        "plt.ylabel('precision', color='b')\n",
        "\n",
        "ax2 = ax1.twinx()\n",
        "plt.plot(range(100), results[:,1], 'r')\n",
        "plt.ylabel('recall', color='r')\n",
        "plt.title(\"Train PR-k Curve - Random Forest Classifier\")\n",
        "plt.xlabel(\"Percentage of population selected\")\n",
        "plt.show()"
      ]
    },
    {
      "cell_type": "code",
      "execution_count": 69,
      "metadata": {
        "colab": {
          "base_uri": "https://localhost:8080/",
          "height": 281
        },
        "id": "Ws0qH3bHZXjL",
        "outputId": "cb1a93c7-9aa4-4d09-fd73-005eedf5959a"
      },
      "outputs": [
        {
          "output_type": "display_data",
          "data": {
            "text/plain": [
              "<Figure size 432x288 with 2 Axes>"
            ],
            "image/png": "[encoded data removed]"
          },
          "metadata": {
            "needs_background": "light"
          }
        }
      ],
      "source": [
        "ax1 = plt.subplot()\n",
        "plt.plot(range(100), results[:,2], 'b')\n",
        "plt.ylabel('precision', color='b')\n",
        "\n",
        "ax2 = ax1.twinx()\n",
        "plt.plot(range(100), results[:,3], 'r')\n",
        "plt.ylabel('recall', color='r')\n",
        "plt.title(\"Val PR-k Curve - Random Forest Classifier\")\n",
        "plt.show()\n"
      ]
    },
    {
      "cell_type": "markdown",
      "source": [
        "# XGBoost PR-k Curves"
      ],
      "metadata": {
        "id": "KvjhwmAk4inu"
      }
    },
    {
      "cell_type": "code",
      "source": [
        "import xgboost as xgb\n",
        "clf = xgb.XGBClassifier(n_estimators=100)\n",
        "\n",
        "#print(train_X.columns[1])\n",
        "# Train Decision Tree Classifer\n",
        "if train_X.columns[1] == \"students_reached\" and val_X.columns[1] == \"students_reached\":\n",
        "  train_X = train_X.drop(train_X.columns[1], axis=1)\n",
        "  val_X = val_X.drop(val_X.columns[1], axis=1)\n",
        "\n",
        "clf = clf.fit(train_X, train_Y)"
      ],
      "metadata": {
        "id": "Px2K1CeC4lzG"
      },
      "execution_count": 70,
      "outputs": []
    },
    {
      "cell_type": "code",
      "source": [
        "train_pred = clf.predict_proba(train_X)[:,1]\n",
        "val_pred = clf.predict_proba(val_X)[:,1]"
      ],
      "metadata": {
        "id": "hHFeiXpj5P9Z"
      },
      "execution_count": 71,
      "outputs": []
    },
    {
      "cell_type": "code",
      "source": [
        "train_rank = np.argsort(train_pred)\n",
        "val_rank = np.argsort(val_pred)\n",
        "\n",
        "results = []\n",
        "for threshold in np.linspace(0.01, 1, 100):\n",
        "    #precision_val = 1 - np.mean(curval_Y[val_rank][:int(threshold * len(curval_X))])\n",
        "    precision_train = 1 - np.mean(train_Y[train_rank][:int(threshold * len(train_X))])\n",
        "    precision_val = 1 - np.mean(val_Y[val_rank][:int(threshold * len(val_X))])\n",
        "    recall_train = np.sum(train_Y[train_rank][:int(threshold * len(train_X))] == False)/np.sum(train_Y==False)\n",
        "    recall_val = np.sum(val_Y[val_rank][:int(threshold * len(val_X))] == False)/np.sum(val_Y==False)\n",
        "    results.append([precision_train, recall_train, precision_val, recall_val])\n",
        "results = np.array(results)\n",
        "print(results[9, 2])"
      ],
      "metadata": {
        "colab": {
          "base_uri": "https://localhost:8080/"
        },
        "id": "KL25cx045hDN",
        "outputId": "2a0d8ea4-4741-4a24-bf77-20e766a83580"
      },
      "execution_count": 72,
      "outputs": [
        {
          "output_type": "stream",
          "name": "stdout",
          "text": [
            "0.9563318777292577\n"
          ]
        }
      ]
    },
    {
      "cell_type": "code",
      "source": [
        "ax1 = plt.subplot()\n",
        "plt.plot(range(100), results[:,2], 'b')\n",
        "plt.ylabel('precision', color='b')\n",
        "\n",
        "ax2 = ax1.twinx()\n",
        "plt.plot(range(100), results[:,3], 'r')\n",
        "plt.ylabel('recall', color='r')\n",
        "plt.title(\"Val PR-k Curve - XGBoost Classifier\")\n",
        "plt.show()"
      ],
      "metadata": {
        "colab": {
          "base_uri": "https://localhost:8080/",
          "height": 281
        },
        "id": "ohLDa2-95bJH",
        "outputId": "df3e0698-8963-4d47-f3a4-ee6ac1cac771"
      },
      "execution_count": 73,
      "outputs": [
        {
          "output_type": "display_data",
          "data": {
            "text/plain": [
              "<Figure size 432x288 with 2 Axes>"
            ],
            "image/png": "[encoded data removed]"
          },
          "metadata": {
            "needs_background": "light"
          }
        }
      ]
    },
    {
      "cell_type": "markdown",
      "source": [
        "# Decision Tree"
      ],
      "metadata": {
        "id": "rVqB2UJ_4EfQ"
      }
    },
    {
      "cell_type": "code",
      "execution_count": 49,
      "metadata": {
        "id": "CEgmqyELZ3FP"
      },
      "outputs": [],
      "source": [
        "whole_split = chron_split_date_ranges(pd.to_datetime(df['date_posted']))\n",
        "from tqdm import tqdm\n",
        "from sklearn.tree import DecisionTreeClassifier \n",
        "clf = DecisionTreeClassifier()\n"
      ]
    },
    {
      "cell_type": "code",
      "execution_count": 43,
      "metadata": {
        "colab": {
          "base_uri": "https://localhost:8080/"
        },
        "id": "Q_d6s0kDZ3vu",
        "outputId": "53b5c2fd-c660-4e74-ebc3-7f7cf157fe84"
      },
      "outputs": [
        {
          "output_type": "stream",
          "name": "stderr",
          "text": [
            "100%|██████████| 255/255 [18:16<00:00,  4.30s/it]"
          ]
        },
        {
          "output_type": "stream",
          "name": "stdout",
          "text": [
            "[0.25, 0.0625, 0.5277777777777778, 0.4871794871794872, 0.55, 0.6896551724137931, 0.5555555555555556, 0.5833333333333333, 0.6896551724137931, 0.8484848484848485, 0.5625, 0.5714285714285714, 0.56, 0.5238095238095238, 0.39473684210526316, 0.46808510638297873, 0.5490196078431373, 0.5660377358490566, 0.7164179104477613, 0.6612903225806452, 0.6511627906976745, 0.5490196078431373, 0.4482758620689655, 0.4716981132075472, 0.76, 0.7169811320754718, 0.65, 0.7796610169491526, 0.7428571428571429, 0.7457627118644068, 0.7727272727272727, 0.8947368421052632, 0.8095238095238095, 0.9512195121951219, 0.8461538461538461, 0.8695652173913043, 0.7692307692307692, 0.7397260273972603, 0.7522935779816513, 0.7765957446808511, 0.7628865979381443, 0.7647058823529411, 0.8584905660377359, 0.8482142857142857, 0.7142857142857143, 0.7395833333333333, 0.6823529411764706, 0.6346153846153846, 0.717948717948718, 0.7090909090909091, 0.5636363636363637, 0.791044776119403, 0.8461538461538461, 0.9, 0.8881578947368421, 0.872, 0.8108108108108107, 0.851063829787234, 0.752808988764045, 0.8247422680412371, 0.6991150442477876, 0.7578125, 0.8023952095808383, 0.7882736156351792, 0.7871148459383753, 0.8333333333333334, 0.7768595041322314, 0.8300395256916996, 0.7849462365591398, 0.7992565055762082, 0.8152173913043479, 0.9139072847682119, 0.912751677852349, 0.8578680203045685, 0.8839779005524862, 0.8713692946058091, 0.842391304347826, 0.7985611510791367, 0.8466666666666667, 0.8543046357615894, 0.8198198198198199, 0.9080459770114943, 0.8421052631578947, 0.9333333333333333, 0.7876106194690266, 0.6439393939393939, 0.7558139534883721, 0.7652582159624413, 0.7736625514403292, 0.6721991701244814, 0.5399361022364217, 0.4839650145772595, 0.45915492957746484, 0.5236486486486487, 0.504881450488145, 0.6391382405745063, 0.7401574803149606, 0.7446351931330473, 0.7408207343412527, 0.76171875, 0.7761194029850746, 0.819672131147541, 0.8347107438016529, 0.8891089108910891, 0.9172113289760349, 0.8688524590163934, 0.8680738786279684, 0.8305785123966942, 0.8712871287128713, 0.8453038674033149, 0.6778846153846154, 0.7358490566037736, 0.7095588235294117, 0.6875, 0.6878048780487804, 0.5822510822510822, 0.560077519379845, 0.5863539445628998, 0.5805739514348787, 0.5557986870897156, 0.5725806451612903, 0.6314363143631436, 0.6711111111111111, 0.6842105263157895, 0.6736842105263158, 0.6882217090069285, 0.63220675944334, 0.6958955223880596, 0.7408993576017131, 0.7887640449438202, 0.7855670103092783, 0.8193717277486912, 0.848314606741573, 0.14068441064638781, 0.7879310344827586, 0.7639902676399026, 0.7465753424657534, 0.6654545454545455, 0.7112462006079028, 0.7160804020100502, 0.6981707317073171, 0.6255980861244019, 0.6499454743729554, 0.7061704211557297, 0.6951934349355218, 0.552547770700637, 0.6203522504892368, 0.5352422907488987, 0.2785087719298246, 0.5774058577405858, 0.5695238095238095, 0.5065420560747664, 0.65, 0.626465661641541, 0.6272401433691757, 0.4480874316939891, 0.5580952380952381, 0.6907216494845361, 0.7509803921568627, 0.651394422310757, 0.6246913580246913, 0.6229946524064172, 0.6272189349112426, 0.509915014164306, 0.5120772946859904, 0.48217317487266553, 0.32998745294855714, 0.4337811900191939, 0.4872389791183295, 0.4985422740524781, 0.5270491803278688, 0.5609284332688589, 0.345873786407767, 0.5691318327974276, 0.5191897654584221, 0.5572093023255814, 0.630709426627794, 0.6048604860486049, 0.4354243542435424, 0.6284046692607004, 0.5885167464114833, 0.6646706586826348, 0.6982024597918637, 0.6827242524916943, 0.5542676501580611, 0.7806691449814126, 0.7358916478555304, 0.804932735426009, 0.7617021276595745, 0.7082494969818913, 0.6956521739130435, 0.684287812041116, 0.6663157894736842, 0.5, 0.4508620689655173, 0.4954128440366973, 0.44905320108205593, 0.4438325991189427, 0.4283819628647215, 0.4570361145703612, 0.31662489557226403, 0.4445378151260504, 0.5077777777777778, 0.4153976311336718, 0.7035527082119977, 0.6479140328697851, 0.5654345654345654, 0.577728776185226, 0.5247629083245522, 0.5863636363636364, 0.5009310986964619, 0.40107913669064743, 0.5222222222222221, 0.47415730337078654, 0.5728952772073922, 0.5720338983050848, 0.517304189435337, 0.572901325478645, 0.5421412300683371, 0.5398613518197574, 0.4282685512367491, 0.43465909090909094, 0.2393272962483829, 0.5084516565246788, 0.3970007892659826, 0.5764587525150906, 0.5850267379679144, 0.6442105263157895, 0.5782227784730913, 0.62, 0.5914351851851851, 0.3743641912512716, 0.5168018539976825, 0.4558823529411765, 0.47435897435897434, 0.5525925925925925, 0.5164319248826291, 0.48217054263565895, 0.5342261904761905, 0.5385756676557863, 0.5729483282674772, 0.5798319327731092, 0.570694087403599, 0.44564047362755654, 0.4860335195530726, 0.46359223300970875, 0.2569549822964087, 0.3887163561076604, 0.461579795808705, 0.5273822562979189, 0.52329360780065, 0.5915966386554622, 0.470208183776023, 0.5766990291262135, 0.7205240174672489]\n"
          ]
        },
        {
          "output_type": "stream",
          "name": "stderr",
          "text": [
            "\n"
          ]
        }
      ],
      "source": [
        "decision_tree_res = []\n",
        "for s in tqdm(whole_split):\n",
        "  #print(s)\n",
        "  curtrain, curval = generate_train_val(df_final, s)\n",
        "  curtrain_X = curtrain.drop(columns=['is_fully_funded_after_4_months']).reset_index()\n",
        "  curtrain_Y = curtrain['is_fully_funded_after_4_months'].values\n",
        "  curval_X = curval.drop(columns=['is_fully_funded_after_4_months']).reset_index()\n",
        "  curval_Y = curval['is_fully_funded_after_4_months'].values\n",
        "  curtrain_X[np.isinf(curtrain_X)==True] = 0\n",
        "  curval_X[np.isinf(curval_X)==True] = 0\n",
        "  clf = DecisionTreeClassifier(max_depth=25)\n",
        "\n",
        "  # Train Decision Tree Classifer\n",
        "  clf = clf.fit(curtrain_X, curtrain_Y)\n",
        "  train_pred = clf.predict_proba(curtrain_X)\n",
        "  val_pred = clf.predict_proba(curval_X) # f(x)\n",
        "  res = clf.predict(curval_X) # f(x)>0.5\n",
        "  train_rank = np.argsort(train_pred[:,1])\n",
        "  val_rank = np.argsort(val_pred[:,1])\n",
        "  results = []\n",
        "  threshold = 0.1\n",
        "  #precision_train = 1 - np.mean(curtrain_Y[train_rank][:int(threshold * len(curtrain_X))])\n",
        "  precision_val = 1 - np.mean(curval_Y[val_rank][:int(threshold * len(curval_X))])\n",
        "  #recall_train = np.sum(train_Y[train_rank][:int(threshold * len(train_X))] == False)/np.sum(train_Y==False)\n",
        "  #recall_val = np.sum(val_Y[val_rank][:int(threshold * len(val_X))] == False)/np.sum(val_Y==False)\n",
        "  # results.append([precision_train, recall_train, precision_val, recall_val])\n",
        "  # results = np.array(results)\n",
        "  decision_tree_res.append(precision_val)\n",
        "print(decision_tree_res)"
      ]
    },
    {
      "cell_type": "markdown",
      "source": [
        "# Random Forest"
      ],
      "metadata": {
        "id": "-W8J1QHKS9pl"
      }
    },
    {
      "cell_type": "code",
      "source": [
        "from sklearn.ensemble import RandomForestClassifier as rfc"
      ],
      "metadata": {
        "id": "0ROadQSNS_pg"
      },
      "execution_count": null,
      "outputs": []
    },
    {
      "cell_type": "code",
      "source": [
        "whole_split = chron_split_date_ranges(pd.to_datetime(df['date_posted']))"
      ],
      "metadata": {
        "id": "RTicvMHeTFUi"
      },
      "execution_count": 46,
      "outputs": []
    },
    {
      "cell_type": "code",
      "source": [
        "rf_res = []\n",
        "for i, s in enumerate(tqdm(whole_split)):\n",
        "  curtrain, curval = generate_train_val(df_final, s)\n",
        "  curtrain_X = curtrain.drop(columns=['is_fully_funded_after_4_months']).reset_index()\n",
        "  curtrain_Y = curtrain['is_fully_funded_after_4_months'].values\n",
        "  curval_X = curval.drop(columns=['is_fully_funded_after_4_months']).reset_index()\n",
        "  curval_Y = curval['is_fully_funded_after_4_months'].values\n",
        "\n",
        "  curtrain_X[np.isinf(curtrain_X)==True] = 0\n",
        "  curval_X[np.isinf(curval_X)==True] = 0\n",
        "  clf = rfc(n_estimators=200)\n",
        "\n",
        "  # Train Decision Tree Classifer\n",
        "  clf = clf.fit(curtrain_X, curtrain_Y)\n",
        "  train_pred = clf.predict_proba(curtrain_X)\n",
        "  val_pred = clf.predict_proba(curval_X) # f(x)\n",
        "  res = clf.predict(curval_X) # f(x)>0.5\n",
        "  train_rank = np.argsort(train_pred[:,1])\n",
        "  val_rank = np.argsort(val_pred[:,1])\n",
        "  threshold = 0.1\n",
        "  precision_val = 1 - np.mean(curval_Y[val_rank][:int(threshold * len(curval_X))])\n",
        "  rf_res.append(precision_val)\n",
        "print(rf_res)"
      ],
      "metadata": {
        "id": "wS8jZmQkTHSv",
        "colab": {
          "base_uri": "https://localhost:8080/"
        },
        "outputId": "e521cfed-b55a-4d83-9a7e-6e792f905352"
      },
      "execution_count": 50,
      "outputs": [
        {
          "output_type": "stream",
          "name": "stderr",
          "text": [
            "100%|██████████| 255/255 [2:26:15<00:00, 34.41s/it]"
          ]
        },
        {
          "output_type": "stream",
          "name": "stdout",
          "text": [
            "[0.33333333333333337, 0.28125, 0.36111111111111116, 0.5384615384615384, 0.55, 0.6896551724137931, 0.7407407407407407, 0.7916666666666666, 0.8620689655172413, 0.7878787878787878, 0.65625, 0.7142857142857143, 0.72, 0.7380952380952381, 0.7631578947368421, 0.6808510638297872, 0.7058823529411764, 0.8490566037735849, 0.8507462686567164, 0.8548387096774194, 0.9069767441860466, 0.7647058823529411, 0.7931034482758621, 0.8679245283018868, 0.94, 0.9433962264150944, 0.95, 0.9830508474576272, 0.9714285714285714, 0.9661016949152542, 1.0, 1.0, 0.9761904761904762, 0.975609756097561, 1.0, 0.9855072463768116, 0.9846153846153847, 0.9863013698630136, 0.9724770642201834, 0.9574468085106383, 0.9587628865979382, 0.9803921568627451, 0.9622641509433962, 1.0, 0.9904761904761905, 1.0, 1.0, 1.0, 0.9914529914529915, 0.990909090909091, 0.990909090909091, 0.9925373134328358, 0.9935897435897436, 1.0, 0.993421052631579, 1.0, 1.0, 1.0, 1.0, 0.9896907216494846, 0.9911504424778761, 1.0, 1.0, 0.990228013029316, 0.9859943977591037, 0.991869918699187, 0.9917355371900827, 0.9841897233201581, 0.989247311827957, 0.9962825278810409, 0.9945652173913043, 1.0, 0.9865771812080537, 0.9898477157360406, 1.0, 1.0, 1.0, 0.9856115107913669, 0.9933333333333333, 0.9933774834437086, 0.990990990990991, 0.9425287356321839, 0.968421052631579, 1.0, 0.9646017699115044, 0.9696969696969697, 0.9418604651162791, 0.9107981220657277, 0.8930041152263375, 0.8464730290456431, 0.8178913738019169, 0.7463556851311953, 0.6901408450704225, 0.7449324324324325, 0.8284518828451883, 0.8635547576301615, 0.9409448818897638, 0.9463519313304721, 0.9460043196544277, 0.947265625, 0.9253731343283582, 0.9799635701275046, 0.9834710743801653, 0.9920792079207921, 0.9956427015250545, 0.990632318501171, 0.9947229551451188, 0.9958677685950413, 1.0, 0.9834254143646409, 0.9663461538461539, 0.9528301886792453, 0.9595588235294118, 0.9592391304347826, 0.9560975609756097, 0.9458874458874459, 0.9263565891472868, 0.9381663113006397, 0.9403973509933775, 0.9277899343544858, 0.9381720430107527, 0.9105691056910569, 0.9177777777777778, 0.9548872180451128, 0.9552631578947368, 0.9376443418013857, 0.9423459244532804, 0.9776119402985075, 0.9935760171306209, 0.9977528089887641, 0.9979381443298969, 1.0, 0.9887640449438202, 0.9923954372623575, 0.9913793103448276, 0.9902676399026764, 0.9863013698630136, 0.9963636363636363, 0.9969604863221885, 0.9899497487437185, 0.9557926829268293, 0.90311004784689, 0.8680479825517994, 0.8971596474045054, 0.8827667057444314, 0.839171974522293, 0.7925636007827789, 0.7356828193832599, 0.7280701754385965, 0.7426778242677825, 0.7352380952380952, 0.7289719626168225, 0.8, 0.830820770519263, 0.8602150537634409, 0.877959927140255, 0.8933333333333333, 0.9237113402061856, 0.9372549019607843, 0.8944223107569721, 0.8790123456790123, 0.8449197860962567, 0.8402366863905325, 0.8073654390934845, 0.8115942028985508, 0.6825127334465195, 0.6072772898368883, 0.5575815738963532, 0.580046403712297, 0.6486880466472303, 0.7475409836065574, 0.8085106382978724, 0.7961165048543689, 0.815112540192926, 0.8592750533049041, 0.8641860465116279, 0.8639455782312925, 0.7722772277227723, 0.746309963099631, 0.7568093385214008, 0.8576555023923444, 0.897005988023952, 0.9214758751182592, 0.9352159468438538, 0.9409905163329821, 0.9553903345724907, 0.9345372460496614, 0.9327354260089686, 0.9276595744680851, 0.8893360160965795, 0.8814229249011858, 0.8751835535976505, 0.8357894736842105, 0.7160714285714286, 0.6741379310344828, 0.6587155963302752, 0.6943192064923354, 0.7026431718061674, 0.726790450928382, 0.7870485678704857, 0.7719298245614035, 0.7521008403361344, 0.7533333333333333, 0.8181049069373942, 0.8736167734420501, 0.8520859671302149, 0.7582417582417582, 0.8004410143329659, 0.7713382507903056, 0.7621212121212121, 0.7188081936685289, 0.6870503597122302, 0.6870370370370371, 0.698876404494382, 0.7494866529774127, 0.7627118644067796, 0.7868852459016393, 0.7820324005891016, 0.7744874715261959, 0.6915077989601386, 0.6091872791519435, 0.6747159090909092, 0.7910737386804657, 0.8140635564570655, 0.8318863456985004, 0.8299798792756539, 0.8673796791443851, 0.8694736842105263, 0.8435544430538173, 0.8385714285714285, 0.818287037037037, 0.7884028484231943, 0.7508690614136733, 0.788235294117647, 0.7977207977207977, 0.8177777777777777, 0.838810641627543, 0.8372093023255813, 0.8497023809523809, 0.8323442136498517, 0.8343465045592705, 0.8487394957983193, 0.8264781491002571, 0.7944025834230355, 0.7773343974461293, 0.6893203883495146, 0.5235204855842185, 0.5471014492753623, 0.7635679742074154, 0.8154435925520263, 0.8542795232936078, 0.8773109243697479, 0.8822684852835607, 0.8572815533980582, 0.9213973799126638]\n"
          ]
        },
        {
          "output_type": "stream",
          "name": "stderr",
          "text": [
            "\n"
          ]
        }
      ]
    },
    {
      "cell_type": "markdown",
      "source": [
        "# XGBoost"
      ],
      "metadata": {
        "id": "a-MbmnSaFpuq"
      }
    },
    {
      "cell_type": "code",
      "source": [
        "import xgboost as xgb\n",
        "from tqdm import tqdm"
      ],
      "metadata": {
        "id": "jqNleaocFpEj"
      },
      "execution_count": 42,
      "outputs": []
    },
    {
      "cell_type": "code",
      "source": [
        "whole_split = chron_split_date_ranges(pd.to_datetime(df['date_posted']))"
      ],
      "metadata": {
        "id": "SWG-y1HSF2OH"
      },
      "execution_count": 43,
      "outputs": []
    },
    {
      "cell_type": "code",
      "source": [
        "xgb_res = []\n",
        "for i, s in enumerate(tqdm(whole_split)):\n",
        "  #print(i)\n",
        "  curtrain, curval = generate_train_val(df_final, s)\n",
        "  curtrain_X = curtrain.drop(columns=['is_fully_funded_after_4_months']).reset_index()\n",
        "  curtrain_Y = curtrain['is_fully_funded_after_4_months'].values\n",
        "  curval_X = curval.drop(columns=['is_fully_funded_after_4_months']).reset_index()\n",
        "  curval_Y = curval['is_fully_funded_after_4_months'].values\n",
        "\n",
        "  curtrain_X[np.isinf(curtrain_X)==True] = 0\n",
        "  curval_X[np.isinf(curval_X)==True] = 0\n",
        "  clf = xgb.XGBClassifier(n_estimators=50)\n",
        "\n",
        "  # Train Decision Tree Classifer\n",
        "  curtrain_X = curtrain_X.drop(curtrain_X.columns[1], axis=1)\n",
        "  curval_X = curval_X.drop(curval_X.columns[1], axis=1)\n",
        "\n",
        "  clf = clf.fit(curtrain_X, curtrain_Y)\n",
        "  train_pred = clf.predict_proba(curtrain_X)\n",
        "  val_pred = clf.predict_proba(curval_X) # f(x)\n",
        "  res = clf.predict(curval_X) # f(x)>0.5\n",
        "  train_rank = np.argsort(train_pred[:,1])\n",
        "  val_rank = np.argsort(val_pred[:,1])\n",
        "  threshold = 0.1\n",
        "  precision_val = 1 - np.mean(curval_Y[val_rank][:int(threshold * len(curval_X))])\n",
        "  #print(i, precision_val)  # 0.683 for l2\n",
        "  xgb_res.append(precision_val)\n",
        "\n",
        "print(xgb_res, np.mean(xgb_res))"
      ],
      "metadata": {
        "colab": {
          "base_uri": "https://localhost:8080/"
        },
        "id": "Htb8BmPxF4d2",
        "outputId": "8ce0a20e-27c7-4f74-896a-a0062763890f"
      },
      "execution_count": 44,
      "outputs": [
        {
          "output_type": "stream",
          "name": "stderr",
          "text": [
            "100%|██████████| 255/255 [29:16<00:00,  6.89s/it]"
          ]
        },
        {
          "output_type": "stream",
          "name": "stdout",
          "text": [
            "[0.25, 0.21875, 0.36111111111111116, 0.5128205128205128, 0.55, 0.7586206896551724, 0.8518518518518519, 0.9166666666666666, 0.9310344827586207, 0.7575757575757576, 0.78125, 0.7142857142857143, 0.6799999999999999, 0.7857142857142857, 0.7631578947368421, 0.7659574468085106, 0.6666666666666667, 0.6226415094339622, 0.7014925373134329, 0.7903225806451613, 0.9069767441860466, 0.9607843137254902, 0.9137931034482758, 0.8679245283018868, 0.96, 0.9811320754716981, 0.9666666666666667, 1.0, 1.0, 1.0, 1.0, 0.9736842105263158, 0.9285714285714286, 0.9512195121951219, 1.0, 0.9855072463768116, 0.9846153846153847, 0.9726027397260274, 0.9541284403669725, 1.0, 1.0, 1.0, 0.9905660377358491, 0.9821428571428571, 0.9904761904761905, 1.0, 1.0, 1.0, 0.9914529914529915, 0.990909090909091, 0.990909090909091, 0.9925373134328358, 1.0, 0.99375, 0.993421052631579, 0.984, 0.990990990990991, 1.0, 1.0, 1.0, 1.0, 1.0, 1.0, 0.990228013029316, 0.988795518207283, 0.9959349593495935, 0.9958677685950413, 0.9841897233201581, 0.985663082437276, 0.9925650557620818, 1.0, 1.0, 0.9865771812080537, 0.9898477157360406, 1.0, 0.995850622406639, 0.9945652173913043, 1.0, 1.0, 1.0, 0.990990990990991, 0.9770114942528736, 0.9894736842105263, 1.0, 1.0, 0.946969696969697, 0.9418604651162791, 0.8967136150234741, 0.8436213991769548, 0.8506224066390041, 0.7795527156549521, 0.7259475218658893, 0.7126760563380281, 0.7060810810810811, 0.792189679218968, 0.874326750448833, 0.937007874015748, 0.9549356223175965, 0.9546436285097192, 0.974609375, 0.9850746268656716, 0.9890710382513661, 0.9917355371900827, 0.994059405940594, 0.9912854030501089, 0.9953161592505855, 0.9973614775725593, 0.9958677685950413, 1.0, 1.0, 0.9663461538461539, 0.9339622641509434, 0.9669117647058824, 0.9402173913043478, 0.9658536585365853, 0.9653679653679653, 0.9457364341085271, 0.9594882729211087, 0.9646799116997793, 0.9606126914660832, 0.9489247311827957, 0.9349593495934959, 0.9622222222222222, 0.9674185463659148, 0.9921052631578947, 0.9861431870669746, 0.9860834990059643, 0.9888059701492538, 0.9914346895074947, 1.0, 1.0, 1.0, 0.9915730337078652, 0.9961977186311787, 0.9982758620689656, 0.9975669099756691, 1.0, 1.0, 1.0, 0.9974874371859297, 0.9695121951219512, 0.9198564593301435, 0.8538713195201745, 0.8795298726738492, 0.8780773739742087, 0.8359872611464968, 0.7906066536203522, 0.762114537444934, 0.7631578947368421, 0.7656903765690377, 0.7657142857142857, 0.7401869158878505, 0.7838709677419355, 0.830820770519263, 0.8745519713261649, 0.8998178506375227, 0.9104761904761904, 0.9360824742268041, 0.9196078431372549, 0.9123505976095617, 0.8839506172839506, 0.8368983957219251, 0.8254437869822485, 0.7988668555240793, 0.7995169082125604, 0.6960950764006791, 0.5934755332496864, 0.5854126679462572, 0.6109822119102861, 0.6785714285714286, 0.7631147540983607, 0.8239845261121856, 0.8143203883495146, 0.8344051446945338, 0.8496801705756929, 0.8604651162790697, 0.8620019436345967, 0.7812781278127813, 0.7250922509225093, 0.7704280155642024, 0.8779904306220095, 0.9053892215568862, 0.9375591296121097, 0.9476744186046512, 0.9420442571127503, 0.9535315985130112, 0.9525959367945824, 0.952914798206278, 0.9361702127659575, 0.8953722334004024, 0.9051383399209486, 0.895741556534508, 0.8642105263157895, 0.7464285714285714, 0.6681034482758621, 0.6577981651376147, 0.7087466185752931, 0.7037444933920705, 0.7307692307692308, 0.813200498132005, 0.8120300751879699, 0.7815126050420168, 0.7677777777777778, 0.8164128595600677, 0.8800232964472918, 0.870417193426043, 0.7272727272727273, 0.7949283351708931, 0.7892518440463646, 0.7621212121212121, 0.7467411545623837, 0.6798561151079137, 0.6592592592592592, 0.7146067415730337, 0.7412731006160165, 0.771186440677966, 0.790528233151184, 0.7908689248895434, 0.8041002277904328, 0.6733102253032929, 0.5837455830388693, 0.6534090909090908, 0.8033635187580854, 0.8323191345503719, 0.830307813733228, 0.8430583501006036, 0.895187165775401, 0.871578947368421, 0.8623279098873592, 0.86, 0.8414351851851851, 0.8168870803662258, 0.7311703360370799, 0.8, 0.8447293447293447, 0.8385185185185186, 0.8356807511737089, 0.8558139534883721, 0.8705357142857143, 0.8501483679525222, 0.8267477203647416, 0.8613445378151261, 0.8573264781491002, 0.8159311087190527, 0.7916999201915403, 0.7020631067961165, 0.5660091047040972, 0.5714285714285714, 0.7775389575497045, 0.832420591456736, 0.8867822318526544, 0.9008403361344538, 0.9009332376166547, 0.8766990291262136, 0.9497816593886463] 0.8736014905878003\n"
          ]
        },
        {
          "output_type": "stream",
          "name": "stderr",
          "text": [
            "\n"
          ]
        }
      ]
    },
    {
      "cell_type": "markdown",
      "source": [
        "# Neural Network"
      ],
      "metadata": {
        "id": "RbpYMpT8sR6a"
      }
    },
    {
      "cell_type": "code",
      "source": [
        "# Import statements\n",
        "from tqdm import tqdm"
      ],
      "metadata": {
        "id": "DvhD5Erzse1U"
      },
      "execution_count": null,
      "outputs": []
    },
    {
      "cell_type": "code",
      "source": [
        "whole_split = chron_split_date_ranges(pd.to_datetime(df['date_posted']))"
      ],
      "metadata": {
        "id": "7G3QsU2psgeI"
      },
      "execution_count": null,
      "outputs": []
    },
    {
      "cell_type": "code",
      "source": [
        "# Fill in later"
      ],
      "metadata": {
        "colab": {
          "base_uri": "https://localhost:8080/"
        },
        "id": "Y9BeDvpxsreH",
        "outputId": "9ffbf173-1b21-4897-9d5e-f47745d643e2"
      },
      "execution_count": null,
      "outputs": [
        {
          "output_type": "stream",
          "name": "stderr",
          "text": [
            "129it [32:59, 79.15s/it]"
          ]
        }
      ]
    },
    {
      "cell_type": "markdown",
      "metadata": {
        "id": "g4H1z7BcYvTN"
      },
      "source": [
        "# Commonsense baseline over time - children helped per dollar"
      ]
    },
    {
      "cell_type": "code",
      "execution_count": 77,
      "metadata": {
        "id": "yMdECc5eYy13"
      },
      "outputs": [],
      "source": [
        "split = chron_split_date_ranges(pd.to_datetime(df['date_posted']))\n",
        "baseline_results = []\n",
        "\n",
        "for split_ in split:\n",
        "  train, val = generate_train_val(df_final, split_)\n",
        "  train_X = train.drop(columns=['is_fully_funded_after_4_months']).reset_index().drop(columns=[\"index\"])\n",
        "  train_Y = train['is_fully_funded_after_4_months'].values\n",
        "  val_X = val.drop(columns=['is_fully_funded_after_4_months']).reset_index().drop(columns=[\"index\"])\n",
        "  val_Y = val['is_fully_funded_after_4_months'].values\n",
        "  train_select = train_X.sort_values([\"children_helped_per_dollar\"])\n",
        "  val_select = val_X.sort_values([\"children_helped_per_dollar\"])\n",
        "  train_rank = train_select.index.values\n",
        "  val_rank = val_select.index.values\n",
        "  threshold = 0.1\n",
        "  precision_val = 1 - np.mean(val_Y[val_rank][:int(threshold * len(val_X))])\n",
        "  baseline_results.append(precision_val)"
      ]
    },
    {
      "cell_type": "markdown",
      "metadata": {
        "id": "zRakZGR_ZEGP"
      },
      "source": [
        "# Base rate over time"
      ]
    },
    {
      "cell_type": "code",
      "execution_count": 75,
      "metadata": {
        "id": "23QKpG51ZFWH"
      },
      "outputs": [],
      "source": [
        "split = chron_split_date_ranges(pd.to_datetime(df['date_posted']))\n",
        "base_rate = []\n",
        "\n",
        "for split_ in split:\n",
        "  train, val = generate_train_val(df_final, split_)\n",
        "  train_X = train.drop(columns=['is_fully_funded_after_4_months']).reset_index().drop(columns=[\"index\"])\n",
        "  train_Y = train['is_fully_funded_after_4_months'].values\n",
        "  val_X = val.drop(columns=['is_fully_funded_after_4_months']).reset_index().drop(columns=[\"index\"])\n",
        "  val_Y = val['is_fully_funded_after_4_months'].values\n",
        "  percentage_not_funded = 1 - val_Y.sum() / len(val_Y)\n",
        "  base_rate.append(percentage_not_funded)"
      ]
    },
    {
      "cell_type": "markdown",
      "metadata": {
        "id": "-BdytZ1EZSfn"
      },
      "source": [
        "# Plotting all results over time (logistic regression, nearest neighbor, decision tree, RF, baseline, base rate)"
      ]
    },
    {
      "cell_type": "code",
      "source": [
        "print(baseline_results)"
      ],
      "metadata": {
        "colab": {
          "base_uri": "https://localhost:8080/"
        },
        "id": "z2d8KaYVDeqg",
        "outputId": "fa41d7ca-c91c-4343-9b8a-53752f8eb046"
      },
      "execution_count": 80,
      "outputs": [
        {
          "output_type": "stream",
          "name": "stdout",
          "text": [
            "[0.16666666666666663, 0.15625, 0.11111111111111116, 0.2564102564102564, 0.475, 0.5172413793103448, 0.5185185185185186, 0.5, 0.5517241379310345, 0.6363636363636364, 0.5625, 0.6666666666666667, 0.6599999999999999, 0.6190476190476191, 0.5789473684210527, 0.46808510638297873, 0.4117647058823529, 0.4716981132075472, 0.5522388059701493, 0.5483870967741935, 0.5581395348837209, 0.5294117647058824, 0.5517241379310345, 0.49056603773584906, 0.52, 0.6226415094339622, 0.6166666666666667, 0.5423728813559322, 0.5857142857142856, 0.576271186440678, 0.6818181818181819, 0.7105263157894737, 0.8095238095238095, 0.8536585365853658, 0.7948717948717949, 0.8695652173913043, 0.8692307692307693, 0.8424657534246576, 0.7522935779816513, 0.7127659574468085, 0.7525773195876289, 0.7156862745098039, 0.7169811320754718, 0.7053571428571428, 0.6571428571428571, 0.625, 0.7294117647058824, 0.7019230769230769, 0.6837606837606838, 0.7090909090909091, 0.7, 0.6268656716417911, 0.6730769230769231, 0.81875, 0.8092105263157895, 0.768, 0.8288288288288288, 0.8085106382978724, 0.7640449438202247, 0.7835051546391752, 0.7168141592920354, 0.7421875, 0.7844311377245509, 0.7817589576547231, 0.7843137254901961, 0.7723577235772358, 0.8016528925619835, 0.7905138339920948, 0.7885304659498208, 0.7769516728624535, 0.7608695652173914, 0.794701986754967, 0.8523489932885906, 0.8781725888324873, 0.8784530386740331, 0.8423236514522822, 0.7771739130434783, 0.7913669064748201, 0.86, 0.8211920529801324, 0.8198198198198199, 0.8620689655172413, 0.9263157894736842, 0.9333333333333333, 0.9469026548672567, 0.9015151515151515, 0.8662790697674418, 0.8591549295774648, 0.8106995884773662, 0.7676348547717842, 0.6038338658146964, 0.5043731778425655, 0.504225352112676, 0.535472972972973, 0.5425383542538355, 0.5745062836624776, 0.5728346456692913, 0.5879828326180258, 0.6997840172786177, 0.783203125, 0.8009950248756219, 0.8306010928961749, 0.8347107438016529, 0.8237623762376238, 0.8148148148148149, 0.810304449648712, 0.8126649076517151, 0.8016528925619835, 0.801980198019802, 0.8066298342541436, 0.8076923076923077, 0.7783018867924528, 0.7830882352941176, 0.8206521739130435, 0.775609756097561, 0.7099567099567099, 0.6627906976744187, 0.6481876332622601, 0.620309050772627, 0.5995623632385121, 0.6155913978494624, 0.5934959349593496, 0.5666666666666667, 0.581453634085213, 0.6394736842105263, 0.5727482678983833, 0.5049701789264414, 0.5167910447761195, 0.582441113490364, 0.6584269662921348, 0.6639175257731958, 0.6596858638743455, 0.4691011235955056, 0.47148288973384034, 0.5758620689655172, 0.6642335766423357, 0.6232876712328768, 0.6945454545454546, 0.6808510638297872, 0.6683417085427136, 0.5945121951219512, 0.5466507177033493, 0.5681570338058888, 0.5925563173359452, 0.5849941383352872, 0.5318471337579618, 0.4735812133072407, 0.4251101321585903, 0.36403508771929827, 0.37029288702928875, 0.3961904761904762, 0.4317757009345794, 0.5209677419354839, 0.5477386934673367, 0.5376344086021505, 0.5209471766848817, 0.5752380952380952, 0.6556701030927835, 0.711764705882353, 0.6892430278884463, 0.6567901234567901, 0.625668449197861, 0.591715976331361, 0.5155807365439093, 0.5314009661835748, 0.534804753820034, 0.43914680050188204, 0.37811900191938574, 0.4168600154679041, 0.44752186588921283, 0.4639344262295082, 0.4671179883945842, 0.46116504854368934, 0.4823151125401929, 0.4776119402985075, 0.4818604651162791, 0.5072886297376094, 0.5481548154815481, 0.5710332103321033, 0.5963035019455253, 0.611244019138756, 0.6, 0.5146641438032167, 0.5772425249169435, 0.6859852476290833, 0.7527881040892194, 0.7494356659142212, 0.7040358744394619, 0.7021276595744681, 0.7243460764587526, 0.7450592885375493, 0.7019089574155654, 0.6568421052631579, 0.5678571428571428, 0.4948275862068966, 0.4311926605504587, 0.45807033363390437, 0.45925110132158586, 0.4456233421750663, 0.4296388542963886, 0.39766081871345027, 0.3941176470588236, 0.4622222222222222, 0.4653130287648054, 0.5544554455445545, 0.5979772439949431, 0.5424575424575424, 0.4399117971334069, 0.4236037934668072, 0.4757575757575757, 0.46368715083798884, 0.4118705035971223, 0.44074074074074077, 0.548314606741573, 0.5605749486652978, 0.5360169491525424, 0.5081967213114754, 0.5434462444771724, 0.5592255125284737, 0.4653379549393414, 0.3809187279151943, 0.40625, 0.42043984476067275, 0.41987829614604466, 0.46172059984214675, 0.4768611670020121, 0.47379679144385023, 0.4831578947368421, 0.5131414267834793, 0.4928571428571429, 0.4467592592592593, 0.42421159715157686, 0.42757821552723063, 0.4308823529411765, 0.4245014245014245, 0.45333333333333337, 0.4616588419405321, 0.48062015503875966, 0.5252976190476191, 0.5326409495548962, 0.5364741641337386, 0.5812324929971988, 0.5347043701799485, 0.4531754574811625, 0.4493216280925778, 0.38652912621359226, 0.3125948406676783, 0.2960662525879917, 0.3879634605051048, 0.41018619934282585, 0.4669555796316359, 0.4784313725490196, 0.4816941852117731, 0.5, 0.6244541484716157]\n"
          ]
        }
      ]
    },
    {
      "cell_type": "code",
      "execution_count": 84,
      "metadata": {
        "id": "eacrvgu3ZP7J",
        "colab": {
          "base_uri": "https://localhost:8080/",
          "height": 405
        },
        "outputId": "1843b97f-a775-4808-daf3-cd19c9aea12e"
      },
      "outputs": [
        {
          "output_type": "execute_result",
          "data": {
            "text/plain": [
              "Text(0, 0.5, 'Precision at Top 10%')"
            ]
          },
          "metadata": {},
          "execution_count": 84
        },
        {
          "output_type": "display_data",
          "data": {
            "text/plain": [
              "<Figure size 720x432 with 1 Axes>"
            ],
            "image/png": "[encoded data removed]"
          },
          "metadata": {
            "needs_background": "light"
          }
        }
      ],
      "source": [
        "import matplotlib.pyplot as plt\n",
        "\n",
        "fig, ax = plt.subplots()\n",
        "fig.set_figwidth(10)\n",
        "fig.set_figheight(6)\n",
        "\n",
        "split = chron_split_date_ranges(pd.to_datetime(df['date_posted']))\n",
        "val_start_dates = []\n",
        "for s in split:\n",
        "  val_start_dates.append(s['val'][0])\n",
        "\n",
        "rf_res = [0.33333333333333337, 0.28125, 0.36111111111111116, 0.5384615384615384, 0.55, 0.6896551724137931, 0.7407407407407407, 0.7916666666666666, 0.8620689655172413, 0.7878787878787878, 0.65625, 0.7142857142857143, 0.72, 0.7380952380952381, 0.7631578947368421, 0.6808510638297872, 0.7058823529411764, 0.8490566037735849, 0.8507462686567164, 0.8548387096774194, 0.9069767441860466, 0.7647058823529411, 0.7931034482758621, 0.8679245283018868, 0.94, 0.9433962264150944, 0.95, 0.9830508474576272, 0.9714285714285714, 0.9661016949152542, 1.0, 1.0, 0.9761904761904762, 0.975609756097561, 1.0, 0.9855072463768116, 0.9846153846153847, 0.9863013698630136, 0.9724770642201834, 0.9574468085106383, 0.9587628865979382, 0.9803921568627451, 0.9622641509433962, 1.0, 0.9904761904761905, 1.0, 1.0, 1.0, 0.9914529914529915, 0.990909090909091, 0.990909090909091, 0.9925373134328358, 0.9935897435897436, 1.0, 0.993421052631579, 1.0, 1.0, 1.0, 1.0, 0.9896907216494846, 0.9911504424778761, 1.0, 1.0, 0.990228013029316, 0.9859943977591037, 0.991869918699187, 0.9917355371900827, 0.9841897233201581, 0.989247311827957, 0.9962825278810409, 0.9945652173913043, 1.0, 0.9865771812080537, 0.9898477157360406, 1.0, 1.0, 1.0, 0.9856115107913669, 0.9933333333333333, 0.9933774834437086, 0.990990990990991, 0.9425287356321839, 0.968421052631579, 1.0, 0.9646017699115044, 0.9696969696969697, 0.9418604651162791, 0.9107981220657277, 0.8930041152263375, 0.8464730290456431, 0.8178913738019169, 0.7463556851311953, 0.6901408450704225, 0.7449324324324325, 0.8284518828451883, 0.8635547576301615, 0.9409448818897638, 0.9463519313304721, 0.9460043196544277, 0.947265625, 0.9253731343283582, 0.9799635701275046, 0.9834710743801653, 0.9920792079207921, 0.9956427015250545, 0.990632318501171, 0.9947229551451188, 0.9958677685950413, 1.0, 0.9834254143646409, 0.9663461538461539, 0.9528301886792453, 0.9595588235294118, 0.9592391304347826, 0.9560975609756097, 0.9458874458874459, 0.9263565891472868, 0.9381663113006397, 0.9403973509933775, 0.9277899343544858, 0.9381720430107527, 0.9105691056910569, 0.9177777777777778, 0.9548872180451128, 0.9552631578947368, 0.9376443418013857, 0.9423459244532804, 0.9776119402985075, 0.9935760171306209, 0.9977528089887641, 0.9979381443298969, 1.0, 0.9887640449438202, 0.9923954372623575, 0.9913793103448276, 0.9902676399026764, 0.9863013698630136, 0.9963636363636363, 0.9969604863221885, 0.9899497487437185, 0.9557926829268293, 0.90311004784689, 0.8680479825517994, 0.8971596474045054, 0.8827667057444314, 0.839171974522293, 0.7925636007827789, 0.7356828193832599, 0.7280701754385965, 0.7426778242677825, 0.7352380952380952, 0.7289719626168225, 0.8, 0.830820770519263, 0.8602150537634409, 0.877959927140255, 0.8933333333333333, 0.9237113402061856, 0.9372549019607843, 0.8944223107569721, 0.8790123456790123, 0.8449197860962567, 0.8402366863905325, 0.8073654390934845, 0.8115942028985508, 0.6825127334465195, 0.6072772898368883, 0.5575815738963532, 0.580046403712297, 0.6486880466472303, 0.7475409836065574, 0.8085106382978724, 0.7961165048543689, 0.815112540192926, 0.8592750533049041, 0.8641860465116279, 0.8639455782312925, 0.7722772277227723, 0.746309963099631, 0.7568093385214008, 0.8576555023923444, 0.897005988023952, 0.9214758751182592, 0.9352159468438538, 0.9409905163329821, 0.9553903345724907, 0.9345372460496614, 0.9327354260089686, 0.9276595744680851, 0.8893360160965795, 0.8814229249011858, 0.8751835535976505, 0.8357894736842105, 0.7160714285714286, 0.6741379310344828, 0.6587155963302752, 0.6943192064923354, 0.7026431718061674, 0.726790450928382, 0.7870485678704857, 0.7719298245614035, 0.7521008403361344, 0.7533333333333333, 0.8181049069373942, 0.8736167734420501, 0.8520859671302149, 0.7582417582417582, 0.8004410143329659, 0.7713382507903056, 0.7621212121212121, 0.7188081936685289, 0.6870503597122302, 0.6870370370370371, 0.698876404494382, 0.7494866529774127, 0.7627118644067796, 0.7868852459016393, 0.7820324005891016, 0.7744874715261959, 0.6915077989601386, 0.6091872791519435, 0.6747159090909092, 0.7910737386804657, 0.8140635564570655, 0.8318863456985004, 0.8299798792756539, 0.8673796791443851, 0.8694736842105263, 0.8435544430538173, 0.8385714285714285, 0.818287037037037, 0.7884028484231943, 0.7508690614136733, 0.788235294117647, 0.7977207977207977, 0.8177777777777777, 0.838810641627543, 0.8372093023255813, 0.8497023809523809, 0.8323442136498517, 0.8343465045592705, 0.8487394957983193, 0.8264781491002571, 0.7944025834230355, 0.7773343974461293, 0.6893203883495146, 0.5235204855842185, 0.5471014492753623, 0.7635679742074154, 0.8154435925520263, 0.8542795232936078, 0.8773109243697479, 0.8822684852835607, 0.8572815533980582, 0.9213973799126638]\n",
        "lr_res = [0.13888888888888884, 0.125, 0.08333333333333337, 0.2564102564102564, 0.44999999999999996, 0.6551724137931034, 0.7037037037037037, 0.5416666666666667, 0.5862068965517242, 0.6666666666666667, 0.71875, 0.7619047619047619, 0.64, 0.7142857142857143, 0.6842105263157895, 0.5957446808510638, 0.6274509803921569, 0.6603773584905661, 0.791044776119403, 0.8387096774193549, 0.7209302325581395, 0.6862745098039216, 0.7586206896551724, 0.7547169811320755, 0.8200000000000001, 0.7924528301886793, 0.7666666666666666, 0.7627118644067796, 0.7714285714285715, 0.8135593220338984, 0.8409090909090909, 0.8947368421052632, 0.9285714285714286, 0.9024390243902439, 0.8974358974358975, 0.9130434782608696, 0.9153846153846154, 0.9178082191780822, 0.926605504587156, 0.8936170212765957, 0.8969072164948454, 0.9313725490196079, 0.8679245283018868, 0.8571428571428572, 0.8857142857142857, 0.8645833333333334, 0.9176470588235294, 0.8846153846153846, 0.9145299145299145, 0.9454545454545454, 0.9181818181818182, 0.8656716417910448, 0.9038461538461539, 0.96875, 0.9868421052631579, 0.952, 0.972972972972973, 0.9787234042553191, 0.9887640449438202, 0.9381443298969072, 0.8672566371681416, 0.859375, 0.8622754491017964, 0.9543973941368078, 0.9551820728291317, 0.9552845528455285, 0.9586776859504132, 0.9367588932806324, 0.942652329749104, 0.9591078066914498, 0.9619565217391304, 0.9536423841059603, 0.9530201342281879, 0.9898477157360406, 0.9834254143646409, 0.983402489626556, 0.967391304347826, 0.9640287769784173, 0.9733333333333334, 0.9470198675496688, 0.9369369369369369, 0.9425287356321839, 0.9473684210526316, 0.9888888888888889, 0.9646017699115044, 0.946969696969697, 0.9011627906976745, 0.9107981220657277, 0.9053497942386831, 0.8630705394190872, 0.7507987220447284, 0.6676384839650146, 0.6112676056338029, 0.6554054054054055, 0.6834030683403068, 0.6840215439856374, 0.7086614173228347, 0.740343347639485, 0.7883369330453563, 0.8671875, 0.8839137645107794, 0.8888888888888888, 0.878099173553719, 0.8871287128712871, 0.906318082788671, 0.9320843091334895, 0.920844327176781, 0.884297520661157, 0.8910891089108911, 0.9226519337016574, 0.8846153846153846, 0.8584905660377359, 0.8529411764705882, 0.8478260869565217, 0.8365853658536585, 0.8008658008658008, 0.8023255813953488, 0.8059701492537313, 0.8079470198675497, 0.7768052516411379, 0.7311827956989247, 0.6964769647696477, 0.6911111111111111, 0.6591478696741855, 0.6263157894736842, 0.5773672055427252, 0.5268389662027833, 0.5167910447761195, 0.582441113490364, 0.6674157303370787, 0.6701030927835052, 0.6047120418848168, 0.5393258426966292, 0.5152091254752852, 0.6241379310344828, 0.7372262773722628, 0.7328767123287672, 0.72, 0.7325227963525835, 0.7562814070351759, 0.7271341463414633, 0.680622009569378, 0.6717557251908397, 0.6904995102840352, 0.6694021101992966, 0.6194267515923566, 0.5264187866927593, 0.44273127753303965, 0.3991228070175439, 0.4497907949790795, 0.5123809523809524, 0.5495327102803738, 0.5467741935483871, 0.5628140703517588, 0.5770609318996416, 0.6102003642987249, 0.6571428571428571, 0.7010309278350515, 0.7274509803921569, 0.7191235059760956, 0.6444444444444444, 0.6283422459893049, 0.6242603550295858, 0.594900849858357, 0.5942028985507246, 0.5687606112054329, 0.4780426599749059, 0.4664107485604606, 0.47950502706883213, 0.4985422740524781, 0.5286885245901639, 0.5570599613152805, 0.5728155339805825, 0.5691318327974276, 0.5543710021321961, 0.5674418604651164, 0.6122448979591837, 0.6102610261026102, 0.5940959409594095, 0.6128404669260701, 0.631578947368421, 0.6395209580838324, 0.5316934720908231, 0.5772425249169435, 0.6628029504741834, 0.8085501858736059, 0.8419864559819413, 0.8542600896860987, 0.8425531914893617, 0.7927565392354124, 0.7786561264822134, 0.7900146842878121, 0.7231578947368421, 0.6053571428571429, 0.5327586206896552, 0.48348623853211015, 0.5013525698827772, 0.47246696035242286, 0.4549071618037135, 0.4582814445828145, 0.41019214703425233, 0.44201680672268906, 0.48888888888888893, 0.4500846023688664, 0.5655212580081538, 0.6137800252844501, 0.5684315684315684, 0.496141124586549, 0.46259220231822973, 0.4939393939393939, 0.4245810055865922, 0.3902877697841727, 0.4740740740740741, 0.5775280898876405, 0.5872689938398357, 0.6186440677966102, 0.5737704918032787, 0.6038291605301915, 0.6104783599088839, 0.5051993067590987, 0.4042402826855124, 0.40838068181818177, 0.46571798188874514, 0.4394861392832995, 0.4767166535122336, 0.47283702213279677, 0.4951871657754011, 0.5073684210526316, 0.5294117647058824, 0.5228571428571429, 0.47916666666666663, 0.4425228891149542, 0.4669756662804172, 0.5161764705882352, 0.47150997150997154, 0.47259259259259256, 0.5039123630672926, 0.5209302325581395, 0.5461309523809523, 0.5385756676557863, 0.5592705167173253, 0.6274509803921569, 0.589974293059126, 0.49730893433799783, 0.49481245011971264, 0.4356796116504854, 0.3449671219018715, 0.3188405797101449, 0.4148307361633531, 0.42004381161007665, 0.4712892741061755, 0.45658263305322133, 0.4134960516870064, 0.550485436893204, 0.6517467248908297]\n",
        "\n",
        "decision_tree_res = [0.25, 0.0625, 0.4444444444444444, 0.4871794871794872, 0.55, 0.6896551724137931, 0.5925925925925926, 0.6666666666666667, 0.7241379310344828, 0.9090909090909091, 0.5625, 0.5, 0.38, 0.6666666666666667, 0.3421052631578947, 0.6170212765957447, 0.5882352941176471, 0.5471698113207547, 0.7014925373134329, 0.6935483870967742, 0.6511627906976745, 0.4509803921568627, 0.6724137931034483, 0.6603773584905661, 0.72, 0.7735849056603774, 0.6666666666666667, 0.7966101694915254, 0.8571428571428572, 0.7966101694915254, 0.8863636363636364, 0.868421052631579, 0.8095238095238095, 0.9024390243902439, 0.9487179487179487, 0.927536231884058, 0.9307692307692308, 0.7671232876712328, 0.7155963302752293, 0.7978723404255319, 0.7938144329896908, 0.9509803921568627, 0.8867924528301887, 0.8214285714285714, 0.8857142857142857, 0.7916666666666666, 0.7647058823529411, 0.8461538461538461, 0.3931623931623932, 0.4818181818181818, 0.5636363636363637, 0.6865671641791045, 0.8269230769230769, 0.89375, 0.8092105263157895, 0.8240000000000001, 0.9009009009009009, 0.925531914893617, 0.5280898876404494, 0.8969072164948454, 0.8141592920353982, 0.640625, 0.7844311377245509, 0.8110749185667753, 0.8907563025210083, 0.8089430894308943, 0.78099173553719, 0.691699604743083, 0.7992831541218638, 0.6988847583643123, 0.7934782608695652, 0.8940397350993378, 0.9731543624161074, 0.883248730964467, 0.8729281767955801, 0.9377593360995851, 0.8858695652173914, 0.7553956834532374, 0.8133333333333334, 0.8874172185430463, 0.9369369369369369, 0.896551724137931, 0.6842105263157895, 0.8222222222222222, 0.7876106194690266, 0.6590909090909092, 0.6046511627906976, 0.5915492957746479, 0.6790123456790124, 0.6473029045643153, 0.37060702875399365, 0.43440233236151604, 0.3211267605633803, 0.4070945945945946, 0.2635983263598326, 0.6337522441651706, 0.5649606299212598, 0.7167381974248928, 0.9049676025917927, 0.78125, 0.9187396351575456, 0.9599271402550091, 0.9359504132231405, 0.9544554455445544, 0.9869281045751634, 0.9039812646370023, 0.9630606860158312, 0.6611570247933884, 0.8366336633663366, 0.856353591160221, 0.8509615384615384, 0.839622641509434, 0.8676470588235294, 0.8641304347826086, 0.8829268292682927, 0.8398268398268398, 0.8856589147286822, 0.8166311300639659, 0.7902869757174393, 0.700218818380744, 0.8440860215053764, 0.7723577235772358, 0.8888888888888888, 0.8320802005012531, 0.9394736842105263, 0.9792147806004619, 0.9403578528827038, 0.8582089552238806, 0.9635974304068522, 0.9617977528089887, 0.7237113402061855, 0.9057591623036649, 0.9775280898876404, 0.017110266159695797, 0.8482758620689655, 0.9781021897810219, 0.952054794520548, 0.8945454545454545, 0.8480243161094225, 0.9698492462311558, 0.9314024390243902, 0.84688995215311, 0.7742639040348964, 0.8050930460333007, 0.7878077373974208, 0.5573248407643312, 0.7299412915851272, 0.6938325991189427, 0.7192982456140351, 0.7384937238493724, 0.7047619047619047, 0.6074766355140186, 0.6564516129032258, 0.7420435510887773, 0.8136200716845878, 0.13296903460837883, 0.2571428571428571, 0.6742268041237114, 0.8745098039215686, 0.8286852589641435, 0.7679012345679013, 0.6898395721925134, 0.6479289940828402, 0.6487252124645893, 0.6956521739130435, 0.6213921901528013, 0.11919698870765372, 0.49424184261036463, 0.5846867749419953, 0.4737609329446064, 0.6065573770491803, 0.7321083172147003, 0.183252427184466, 0.7829581993569132, 0.7718550106609808, 0.7897674418604651, 0.8182701652089407, 0.6804680468046804, 0.2407749077490775, 0.6731517509727627, 0.7858851674641149, 0.8419161676646707, 0.869441816461684, 0.8687707641196013, 0.9009483667017913, 0.912639405204461, 0.8848758465011287, 0.8318385650224215, 0.8425531914893617, 0.7645875251509054, 0.766798418972332, 0.644640234948605, 0.7778947368421052, 0.6866071428571429, 0.26206896551724135, 0.5981651376146788, 0.49774571686203783, 0.5958149779735683, 0.2519893899204244, 0.7135740971357409, 0.20551378446115287, 0.7268907563025211, 0.6422222222222222, 0.09813874788494081, 0.8380896913220734, 0.2629582806573957, 0.7462537462537462, 0.7453142227122381, 0.714436248682824, 0.6863636363636363, 0.6945996275605214, 0.5755395683453237, 0.6129629629629629, 0.651685393258427, 0.7145790554414784, 0.6228813559322034, 0.5664845173041895, 0.6450662739322532, 0.7277904328018223, 0.6351819757365684, 0.5547703180212014, 0.6044034090909092, 0.0847347994825356, 0.7728194726166329, 0.07103393843725336, 0.7082494969818913, 0.786096256684492, 0.7957894736842105, 0.7521902377972466, 0.7814285714285714, 0.7152777777777778, 0.7599186164801628, 0.5643105446118193, 0.10441176470588232, 0.7321937321937322, 0.8, 0.7605633802816901, 0.2682170542635659, 0.6502976190476191, 0.14688427299703266, 0.6778115501519757, 0.7380952380952381, 0.8200514138817481, 0.2152852529601722, 0.7414205905826017, 0.5254854368932038, 0.3621648963075367, 0.28364389233954457, 0.7109081139172488, 0.604052573932092, 0.7237269772481041, 0.7406162464985995, 0.17013639626704957, 0.8223300970873786, 0.8155021834061136]\n",
        "xgb_res = [0.38888888888888884, 0.28125, 0.3055555555555556, 0.5384615384615384, 0.7, 0.7931034482758621, 0.7777777777777778, 0.875, 0.8620689655172413, 0.8181818181818181, 0.71875, 0.6904761904761905, 0.6799999999999999, 0.7619047619047619, 0.736842105263158, 0.8085106382978724, 0.6274509803921569, 0.8301886792452831, 0.8507462686567164, 0.9193548387096774, 0.9302325581395349, 0.8627450980392157, 0.8103448275862069, 0.8113207547169812, 0.94, 0.9811320754716981, 0.9666666666666667, 1.0, 1.0, 1.0, 1.0, 0.9473684210526316, 0.9285714285714286, 0.9512195121951219, 1.0, 0.9710144927536232, 0.9923076923076923, 0.9794520547945206, 0.981651376146789, 0.9893617021276596, 1.0, 0.9901960784313726, 0.9811320754716981, 0.9821428571428571, 0.9904761904761905, 1.0, 1.0, 0.9903846153846154, 0.9829059829059829, 0.990909090909091, 1.0, 0.9925373134328358, 1.0, 1.0, 0.993421052631579, 0.984, 0.990990990990991, 1.0, 1.0, 1.0, 1.0, 1.0, 1.0, 0.990228013029316, 0.988795518207283, 0.9959349593495935, 0.9958677685950413, 0.9841897233201581, 0.985663082437276, 1.0, 1.0, 0.9933774834437086, 0.9865771812080537, 0.9898477157360406, 1.0, 0.995850622406639, 0.9945652173913043, 1.0, 1.0, 1.0, 1.0, 0.9885057471264368, 0.9894736842105263, 1.0, 1.0, 0.9848484848484849, 0.936046511627907, 0.9061032863849765, 0.8724279835390947, 0.8755186721991701, 0.8019169329073482, 0.7346938775510203, 0.7098591549295774, 0.6942567567567568, 0.8131101813110182, 0.8653500897666069, 0.9389763779527559, 0.9484978540772532, 0.9568034557235421, 0.970703125, 0.9684908789386402, 0.9890710382513661, 0.9917355371900827, 0.994059405940594, 0.9912854030501089, 0.9953161592505855, 0.9973614775725593, 0.9958677685950413, 1.0, 1.0, 0.9615384615384616, 0.9528301886792453, 0.9595588235294118, 0.9510869565217391, 0.9658536585365853, 0.9545454545454546, 0.9418604651162791, 0.9530916844349681, 0.9580573951434879, 0.9649890590809628, 0.9596774193548387, 0.9376693766937669, 0.9666666666666667, 0.9624060150375939, 0.9921052631578947, 0.9861431870669746, 0.9860834990059643, 0.9869402985074627, 0.9914346895074947, 1.0, 1.0, 1.0, 0.9971910112359551, 0.9980988593155894, 0.9982758620689656, 0.9975669099756691, 1.0, 1.0, 1.0, 0.9974874371859297, 0.975609756097561, 0.930622009569378, 0.88113413304253, 0.9059745347698335, 0.8921453692848769, 0.8630573248407644, 0.8180039138943249, 0.7731277533039648, 0.7828947368421053, 0.7824267782426778, 0.7733333333333333, 0.7682242990654206, 0.7870967741935484, 0.8375209380234506, 0.8620071684587813, 0.8816029143897997, 0.9066666666666666, 0.9298969072164949, 0.9352941176470588, 0.9262948207171314, 0.8962962962962963, 0.8689839572192514, 0.8668639053254438, 0.8328611898016998, 0.8260869565217391, 0.701188455008489, 0.6022584692597239, 0.5940499040307101, 0.6063418406805878, 0.6756559766763848, 0.7729508196721311, 0.8191489361702128, 0.8155339805825242, 0.8360128617363344, 0.8582089552238806, 0.867906976744186, 0.8717201166180758, 0.7884788478847885, 0.7343173431734318, 0.7782101167315175, 0.8755980861244019, 0.9149700598802395, 0.9413434247871334, 0.9476744186046512, 0.9430979978925185, 0.9479553903345725, 0.9525959367945824, 0.9573991031390134, 0.9404255319148936, 0.9054325955734407, 0.9110671936758893, 0.8839941262848752, 0.8463157894736842, 0.7428571428571429, 0.6913793103448276, 0.6669724770642202, 0.7177637511271415, 0.7290748898678414, 0.7493368700265253, 0.821917808219178, 0.8178780284043442, 0.788235294117647, 0.7733333333333333, 0.8087986463620982, 0.8841001747233547, 0.8647281921618205, 0.7432567432567432, 0.8103638368246968, 0.78609062170706, 0.7712121212121212, 0.7672253258845437, 0.697841726618705, 0.6777777777777778, 0.7370786516853933, 0.7700205338809035, 0.7923728813559322, 0.7795992714025501, 0.8085419734904271, 0.8120728929384966, 0.6889081455805892, 0.5964664310954064, 0.6669034090909092, 0.8104786545924968, 0.8316430020283976, 0.8326756116811366, 0.8591549295774648, 0.8887700534759359, 0.8810526315789473, 0.8660826032540676, 0.8685714285714285, 0.8298611111111112, 0.8056968463886063, 0.7265353418308227, 0.8117647058823529, 0.8247863247863247, 0.8429629629629629, 0.838810641627543, 0.8604651162790697, 0.875, 0.8545994065281899, 0.837386018237082, 0.8711484593837535, 0.8663239074550129, 0.8277717976318621, 0.8004788507581804, 0.7160194174757282, 0.5629742033383915, 0.5652173913043479, 0.7764642665233745, 0.8357064622124863, 0.8916576381365113, 0.9053221288515406, 0.8959081119885139, 0.870873786407767, 0.9563318777292577]\n",
        "\n",
        "base_rate = [0.06284153005464477, 0.050000000000000044, 0.1202185792349727, 0.2102564102564103, 0.30147058823529416, 0.3648648648648649, 0.36764705882352944, 0.3801652892561983, 0.4664429530201343, 0.4925373134328358, 0.4171779141104295, 0.3835294117647059, 0.37125748502994016, 0.3681710213776722, 0.36623376623376624, 0.32278481012658233, 0.2704280155642024, 0.2900188323917138, 0.3046062407132244, 0.32961783439490444, 0.36757990867579904, 0.33852140077821014, 0.3214285714285714, 0.32457786116322707, 0.362, 0.4101123595505618, 0.41860465116279066, 0.44741235392320533, 0.5049645390070923, 0.5375626043405677, 0.5627802690582959, 0.6036745406824147, 0.639344262295082, 0.6498800959232613, 0.628498727735369, 0.6280752532561504, 0.6539343009931244, 0.6255989048596852, 0.5642201834862386, 0.5642933049946866, 0.5740551583248212, 0.5719882468168462, 0.5417057169634489, 0.5106571936056838, 0.4815864022662889, 0.472972972972973, 0.47540983606557374, 0.45052833813640725, 0.4568744662681469, 0.4602169981916817, 0.4169675090252708, 0.4422073079791201, 0.5047862156987875, 0.5882719900187149, 0.5853018372703411, 0.5494417862838916, 0.5526552655265526, 0.5650793650793651, 0.5795964125560538, 0.5806783144912642, 0.5702987697715289, 0.5487900078064012, 0.5413936867182847, 0.5823319259499837, 0.5973154362416108, 0.6103685702713649, 0.6384647131654972, 0.632242806464328, 0.6325581395348837, 0.6314031180400891, 0.595018949648078, 0.5898282694848085, 0.6622073578595318, 0.7218007081436519, 0.7318281938325991, 0.7103734439834024, 0.6429734129137277, 0.6161035226455787, 0.682571239231279, 0.6912928759894459, 0.6729559748427674, 0.7095671981776766, 0.759958071278826, 0.7619047619047619, 0.716931216931217, 0.6825037707390649, 0.6566125290023201, 0.6302010285179991, 0.582340862422998, 0.5113777410012412, 0.426475279106858, 0.3594523740168949, 0.339521800281294, 0.3426113360323887, 0.35577861424787394, 0.3789209535759097, 0.40625, 0.4346706715297146, 0.5214578391201208, 0.5968402574605032, 0.6267395626242545, 0.6319810805894124, 0.6218782249742002, 0.6178974460502871, 0.633413199738619, 0.6418050035071312, 0.6673700870482722, 0.6829971181556196, 0.6765578635014837, 0.6628099173553719, 0.6163793103448276, 0.6060178655383168, 0.586852735952993, 0.5722826086956522, 0.5439024390243903, 0.4931891891891892, 0.4437342630253729, 0.4311555650138327, 0.42907566732848, 0.4158653846153846, 0.39259855189058734, 0.3353196099674973, 0.32978487469505435, 0.35529942370333245, 0.38853838065194535, 0.4013370216689719, 0.3921334922526818, 0.40869240813281105, 0.4572284003421728, 0.5092093441150045, 0.5094689172498971, 0.4856171548117155, 0.37573715248525696, 0.3835043709616116, 0.46682750301568154, 0.5719834911386259, 0.5677618069815196, 0.5488203266787659, 0.5340425531914894, 0.5111612741409581, 0.477141115513563, 0.4398613103778096, 0.43216737495913693, 0.4815974941268598, 0.4895711272556832, 0.44348933460681317, 0.39765395894428157, 0.35723713154421466, 0.30863656291100394, 0.28828451882845185, 0.3132140137090632, 0.3427878335510356, 0.3692605123247946, 0.401707970529136, 0.4068100358422939, 0.42550482081135166, 0.4688630737002476, 0.49577754891864056, 0.5310358331701586, 0.5453821656050956, 0.5305719921104537, 0.509076348104645, 0.47086660751257026, 0.4359988697372139, 0.4368065605402798, 0.41341256366723256, 0.3599448552450182, 0.32217533090351047, 0.3266836774143663, 0.34146696773253693, 0.3536545394952475, 0.36476162846920024, 0.3646844660194175, 0.36752411575562705, 0.3594799104763935, 0.3705494096867157, 0.3991257892180671, 0.43314738168076306, 0.4497740060879992, 0.4497179537055047, 0.4605090213884574, 0.48258944597343545, 0.4408398751536934, 0.46200481687567474, 0.5350258084904667, 0.6174832962138085, 0.6309148264984228, 0.6377493835462901, 0.6324968098681412, 0.6085209003215435, 0.5987751876728566, 0.5906956266510126, 0.5330526315789474, 0.4678153736273547, 0.4254329284052727, 0.36769696413831054, 0.36004687640854593, 0.3427974028832398, 0.32533156498673743, 0.3112714605623289, 0.27316013699774455, 0.26879462410751787, 0.31626305265496557, 0.31980382208692715, 0.4145602795573675, 0.4760851709104694, 0.42995506739890166, 0.3858102897433072, 0.3853201347935973, 0.41359987884295013, 0.391886862672125, 0.37374100719424463, 0.3892381656804734, 0.41307277628032346, 0.4212792127921279, 0.40537679932260795, 0.39857975236707943, 0.41881348446930666, 0.41340464269458355, 0.36903628019741974, 0.3217489581125945, 0.3085604770017035, 0.3208511188720735, 0.32709332972899907, 0.35341903935641616, 0.37008349260637763, 0.36351004702864476, 0.36038311756657193, 0.3695407333249906, 0.3840879874303671, 0.3561596298438404, 0.3256381572256687, 0.33221398795738766, 0.3483179080358455, 0.3395931142410016, 0.3308660251665433, 0.3452101890920456, 0.3579290032553093, 0.3793513835168105, 0.3932650941996736, 0.4064966605950212, 0.417973124300112, 0.4054713588492166, 0.3863293864370291, 0.36133046183297435, 0.3159458967671499, 0.26028020838601995, 0.25302763689059105, 0.28941429339065017, 0.31010128661374214, 0.3534095217461951, 0.3727522267660075, 0.3621679827709978, 0.351445759751601, 0.5067670814232701]\n",
        "baseline_results = [0.16666666666666663, 0.15625, 0.11111111111111116, 0.2564102564102564, 0.475, 0.5172413793103448, 0.5185185185185186, 0.5, 0.5517241379310345, 0.6363636363636364, 0.5625, 0.6666666666666667, 0.6599999999999999, 0.6190476190476191, 0.5789473684210527, 0.46808510638297873, 0.4117647058823529, 0.4716981132075472, 0.5522388059701493, 0.5483870967741935, 0.5581395348837209, 0.5294117647058824, 0.5517241379310345, 0.49056603773584906, 0.52, 0.6226415094339622, 0.6166666666666667, 0.5423728813559322, 0.5857142857142856, 0.576271186440678, 0.6818181818181819, 0.7105263157894737, 0.8095238095238095, 0.8536585365853658, 0.7948717948717949, 0.8695652173913043, 0.8692307692307693, 0.8424657534246576, 0.7522935779816513, 0.7127659574468085, 0.7525773195876289, 0.7156862745098039, 0.7169811320754718, 0.7053571428571428, 0.6571428571428571, 0.625, 0.7294117647058824, 0.7019230769230769, 0.6837606837606838, 0.7090909090909091, 0.7, 0.6268656716417911, 0.6730769230769231, 0.81875, 0.8092105263157895, 0.768, 0.8288288288288288, 0.8085106382978724, 0.7640449438202247, 0.7835051546391752, 0.7168141592920354, 0.7421875, 0.7844311377245509, 0.7817589576547231, 0.7843137254901961, 0.7723577235772358, 0.8016528925619835, 0.7905138339920948, 0.7885304659498208, 0.7769516728624535, 0.7608695652173914, 0.794701986754967, 0.8523489932885906, 0.8781725888324873, 0.8784530386740331, 0.8423236514522822, 0.7771739130434783, 0.7913669064748201, 0.86, 0.8211920529801324, 0.8198198198198199, 0.8620689655172413, 0.9263157894736842, 0.9333333333333333, 0.9469026548672567, 0.9015151515151515, 0.8662790697674418, 0.8591549295774648, 0.8106995884773662, 0.7676348547717842, 0.6038338658146964, 0.5043731778425655, 0.504225352112676, 0.535472972972973, 0.5425383542538355, 0.5745062836624776, 0.5728346456692913, 0.5879828326180258, 0.6997840172786177, 0.783203125, 0.8009950248756219, 0.8306010928961749, 0.8347107438016529, 0.8237623762376238, 0.8148148148148149, 0.810304449648712, 0.8126649076517151, 0.8016528925619835, 0.801980198019802, 0.8066298342541436, 0.8076923076923077, 0.7783018867924528, 0.7830882352941176, 0.8206521739130435, 0.775609756097561, 0.7099567099567099, 0.6627906976744187, 0.6481876332622601, 0.620309050772627, 0.5995623632385121, 0.6155913978494624, 0.5934959349593496, 0.5666666666666667, 0.581453634085213, 0.6394736842105263, 0.5727482678983833, 0.5049701789264414, 0.5167910447761195, 0.582441113490364, 0.6584269662921348, 0.6639175257731958, 0.6596858638743455, 0.4691011235955056, 0.47148288973384034, 0.5758620689655172, 0.6642335766423357, 0.6232876712328768, 0.6945454545454546, 0.6808510638297872, 0.6683417085427136, 0.5945121951219512, 0.5466507177033493, 0.5681570338058888, 0.5925563173359452, 0.5849941383352872, 0.5318471337579618, 0.4735812133072407, 0.4251101321585903, 0.36403508771929827, 0.37029288702928875, 0.3961904761904762, 0.4317757009345794, 0.5209677419354839, 0.5477386934673367, 0.5376344086021505, 0.5209471766848817, 0.5752380952380952, 0.6556701030927835, 0.711764705882353, 0.6892430278884463, 0.6567901234567901, 0.625668449197861, 0.591715976331361, 0.5155807365439093, 0.5314009661835748, 0.534804753820034, 0.43914680050188204, 0.37811900191938574, 0.4168600154679041, 0.44752186588921283, 0.4639344262295082, 0.4671179883945842, 0.46116504854368934, 0.4823151125401929, 0.4776119402985075, 0.4818604651162791, 0.5072886297376094, 0.5481548154815481, 0.5710332103321033, 0.5963035019455253, 0.611244019138756, 0.6, 0.5146641438032167, 0.5772425249169435, 0.6859852476290833, 0.7527881040892194, 0.7494356659142212, 0.7040358744394619, 0.7021276595744681, 0.7243460764587526, 0.7450592885375493, 0.7019089574155654, 0.6568421052631579, 0.5678571428571428, 0.4948275862068966, 0.4311926605504587, 0.45807033363390437, 0.45925110132158586, 0.4456233421750663, 0.4296388542963886, 0.39766081871345027, 0.3941176470588236, 0.4622222222222222, 0.4653130287648054, 0.5544554455445545, 0.5979772439949431, 0.5424575424575424, 0.4399117971334069, 0.4236037934668072, 0.4757575757575757, 0.46368715083798884, 0.4118705035971223, 0.44074074074074077, 0.548314606741573, 0.5605749486652978, 0.5360169491525424, 0.5081967213114754, 0.5434462444771724, 0.5592255125284737, 0.4653379549393414, 0.3809187279151943, 0.40625, 0.42043984476067275, 0.41987829614604466, 0.46172059984214675, 0.4768611670020121, 0.47379679144385023, 0.4831578947368421, 0.5131414267834793, 0.4928571428571429, 0.4467592592592593, 0.42421159715157686, 0.42757821552723063, 0.4308823529411765, 0.4245014245014245, 0.45333333333333337, 0.4616588419405321, 0.48062015503875966, 0.5252976190476191, 0.5326409495548962, 0.5364741641337386, 0.5812324929971988, 0.5347043701799485, 0.4531754574811625, 0.4493216280925778, 0.38652912621359226, 0.3125948406676783, 0.2960662525879917, 0.3879634605051048, 0.41018619934282585, 0.4669555796316359, 0.4784313725490196, 0.4816941852117731, 0.5, 0.6244541484716157]\n",
        "\n",
        "ax.plot(val_start_dates, base_rate, label='Base Rate')\n",
        "ax.plot(val_start_dates, baseline_results, label='Baseline - Children Helped per Dollar')\n",
        "ax.plot(val_start_dates, decision_tree_res, label='Decision Tree')\n",
        "ax.plot(val_start_dates, lr_res, label='Logistic Regression')\n",
        "ax.plot(val_start_dates, xgb_res, label='XGBoost')\n",
        "ax.plot(val_start_dates, rf_res, label='Random Forest')\n",
        "ax.legend()\n",
        "\n",
        "ax.set_xlabel('Evaluation Start Date')\n",
        "ax.set_ylabel('Precision at Top 10%')"
      ]
    },
    {
      "cell_type": "code",
      "source": [],
      "metadata": {
        "id": "N5OZMqxb-JCD"
      },
      "execution_count": null,
      "outputs": []
    }
  ],
  "metadata": {
    "colab": {
      "provenance": []
    },
    "kernelspec": {
      "display_name": "Python 3 (ipykernel)",
      "language": "python",
      "name": "python3"
    },
    "language_info": {
      "codemirror_mode": {
        "name": "ipython",
        "version": 3
      },
      "file_extension": ".py",
      "mimetype": "text/x-python",
      "name": "python",
      "nbconvert_exporter": "python",
      "pygments_lexer": "ipython3",
      "version": "3.7.9"
    }
  },
  "nbformat": 4,
  "nbformat_minor": 0
}