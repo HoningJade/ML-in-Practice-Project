{
  "cells": [
    {
      "cell_type": "markdown",
      "metadata": {
        "id": "MygD9O0cNBh6"
      },
      "source": [
        "# Baselines and Formulation\n"
      ]
    },
    {
      "cell_type": "markdown",
      "metadata": {
        "id": "1x6jG72qJqct"
      },
      "source": [
        "## Data Preparation"
      ]
    },
    {
      "cell_type": "code",
      "execution_count": 1,
      "metadata": {
        "id": "dDwjqJp-92WB"
      },
      "outputs": [],
      "source": [
        "import json\n",
        "import zipfile\n",
        "import os\n",
        "import pandas as pd\n",
        "import numpy as np"
      ]
    },
    {
      "cell_type": "code",
      "execution_count": 2,
      "metadata": {
        "colab": {
          "base_uri": "https://localhost:8080/"
        },
        "id": "iY8dwqamIIQc",
        "outputId": "bcde821c-3d67-4b8a-b006-069dbc2aafb4"
      },
      "outputs": [
        {
          "output_type": "stream",
          "name": "stdout",
          "text": [
            "OK\n",
            "deb http://apt.postgresql.org/pub/repos/apt/ focal-pgdg main\n",
            "debconf: unable to initialize frontend: Dialog\n",
            "debconf: (No usable dialog-like program is installed, so the dialog based frontend cannot be used. at /usr/share/perl5/Debconf/FrontEnd/Dialog.pm line 76, <> line 13.)\n",
            "debconf: falling back to frontend: Readline\n",
            "debconf: unable to initialize frontend: Readline\n",
            "debconf: (This frontend requires a controlling tty.)\n",
            "debconf: falling back to frontend: Teletype\n",
            "dpkg-preconfigure: unable to re-open stdin: \n",
            "Selecting previously unselected package cron.\n",
            "(Reading database ... 128126 files and directories currently installed.)\n",
            "Preparing to unpack .../00-cron_3.0pl1-136ubuntu1_amd64.deb ...\n",
            "Unpacking cron (3.0pl1-136ubuntu1) ...\n",
            "Selecting previously unselected package libjson-perl.\n",
            "Preparing to unpack .../01-libjson-perl_4.02000-2_all.deb ...\n",
            "Unpacking libjson-perl (4.02000-2) ...\n",
            "Selecting previously unselected package netbase.\n",
            "Preparing to unpack .../02-netbase_6.1_all.deb ...\n",
            "Unpacking netbase (6.1) ...\n",
            "Selecting previously unselected package postgresql-client-common.\n",
            "Preparing to unpack .../03-postgresql-client-common_247.pgdg20.04+1_all.deb ...\n",
            "Unpacking postgresql-client-common (247.pgdg20.04+1) ...\n",
            "Selecting previously unselected package ssl-cert.\n",
            "Preparing to unpack .../04-ssl-cert_1.0.39_all.deb ...\n",
            "Unpacking ssl-cert (1.0.39) ...\n",
            "Selecting previously unselected package postgresql-common.\n",
            "Preparing to unpack .../05-postgresql-common_247.pgdg20.04+1_all.deb ...\n",
            "Adding 'diversion of /usr/bin/pg_config to /usr/bin/pg_config.libpq-dev by postgresql-common'\n",
            "Unpacking postgresql-common (247.pgdg20.04+1) ...\n",
            "Selecting previously unselected package logrotate.\n",
            "Preparing to unpack .../06-logrotate_3.14.0-4ubuntu3_amd64.deb ...\n",
            "Unpacking logrotate (3.14.0-4ubuntu3) ...\n",
            "Selecting previously unselected package libcommon-sense-perl.\n",
            "Preparing to unpack .../07-libcommon-sense-perl_3.74-2build6_amd64.deb ...\n",
            "Unpacking libcommon-sense-perl (3.74-2build6) ...\n",
            "Selecting previously unselected package libtypes-serialiser-perl.\n",
            "Preparing to unpack .../08-libtypes-serialiser-perl_1.0-1_all.deb ...\n",
            "Unpacking libtypes-serialiser-perl (1.0-1) ...\n",
            "Selecting previously unselected package libjson-xs-perl.\n",
            "Preparing to unpack .../09-libjson-xs-perl_4.020-1build1_amd64.deb ...\n",
            "Unpacking libjson-xs-perl (4.020-1build1) ...\n",
            "Selecting previously unselected package postgresql-client-11.\n",
            "Preparing to unpack .../10-postgresql-client-11_11.19-1.pgdg20.04+1_amd64.deb ...\n",
            "Unpacking postgresql-client-11 (11.19-1.pgdg20.04+1) ...\n",
            "Selecting previously unselected package postgresql-11.\n",
            "Preparing to unpack .../11-postgresql-11_11.19-1.pgdg20.04+1_amd64.deb ...\n",
            "Unpacking postgresql-11 (11.19-1.pgdg20.04+1) ...\n",
            "Selecting previously unselected package sysstat.\n",
            "Preparing to unpack .../12-sysstat_12.2.0-2ubuntu0.2_amd64.deb ...\n",
            "Unpacking sysstat (12.2.0-2ubuntu0.2) ...\n",
            "Setting up logrotate (3.14.0-4ubuntu3) ...\n",
            "Created symlink /etc/systemd/system/timers.target.wants/logrotate.timer → /lib/systemd/system/logrotate.timer.\n",
            "Setting up cron (3.0pl1-136ubuntu1) ...\n",
            "Adding group `crontab' (GID 113) ...\n",
            "Done.\n",
            "invoke-rc.d: could not determine current runlevel\n",
            "invoke-rc.d: policy-rc.d denied execution of start.\n",
            "Created symlink /etc/systemd/system/multi-user.target.wants/cron.service → /lib/systemd/system/cron.service.\n",
            "Setting up libcommon-sense-perl (3.74-2build6) ...\n",
            "Setting up ssl-cert (1.0.39) ...\n",
            "debconf: unable to initialize frontend: Dialog\n",
            "debconf: (No usable dialog-like program is installed, so the dialog based frontend cannot be used. at /usr/share/perl5/Debconf/FrontEnd/Dialog.pm line 76.)\n",
            "debconf: falling back to frontend: Readline\n",
            "Setting up libtypes-serialiser-perl (1.0-1) ...\n",
            "Setting up libjson-perl (4.02000-2) ...\n",
            "Setting up netbase (6.1) ...\n",
            "Setting up sysstat (12.2.0-2ubuntu0.2) ...\n",
            "debconf: unable to initialize frontend: Dialog\n",
            "debconf: (No usable dialog-like program is installed, so the dialog based frontend cannot be used. at /usr/share/perl5/Debconf/FrontEnd/Dialog.pm line 76.)\n",
            "debconf: falling back to frontend: Readline\n",
            "\n",
            "Creating config file /etc/default/sysstat with new version\n",
            "update-alternatives: using /usr/bin/sar.sysstat to provide /usr/bin/sar (sar) in auto mode\n",
            "Created symlink /etc/systemd/system/multi-user.target.wants/sysstat.service → /lib/systemd/system/sysstat.service.\n",
            "Setting up postgresql-client-common (247.pgdg20.04+1) ...\n",
            "Setting up libjson-xs-perl (4.020-1build1) ...\n",
            "Setting up postgresql-client-11 (11.19-1.pgdg20.04+1) ...\n",
            "update-alternatives: using /usr/share/postgresql/11/man/man1/psql.1.gz to provide /usr/share/man/man1/psql.1.gz (psql.1.gz) in auto mode\n",
            "Setting up postgresql-common (247.pgdg20.04+1) ...\n",
            "debconf: unable to initialize frontend: Dialog\n",
            "debconf: (No usable dialog-like program is installed, so the dialog based frontend cannot be used. at /usr/share/perl5/Debconf/FrontEnd/Dialog.pm line 76.)\n",
            "debconf: falling back to frontend: Readline\n",
            "Adding user postgres to group ssl-cert\n",
            "\n",
            "Creating config file /etc/postgresql-common/createcluster.conf with new version\n",
            "Building PostgreSQL dictionaries from installed myspell/hunspell packages...\n",
            "  en_us\n",
            "Removing obsolete dictionary files:\n",
            "'/etc/apt/trusted.gpg.d/apt.postgresql.org.gpg' -> '/usr/share/postgresql-common/pgdg/apt.postgresql.org.gpg'\n",
            "invoke-rc.d: could not determine current runlevel\n",
            "invoke-rc.d: policy-rc.d denied execution of start.\n",
            "Created symlink /etc/systemd/system/multi-user.target.wants/postgresql.service → /lib/systemd/system/postgresql.service.\n",
            "Setting up postgresql-11 (11.19-1.pgdg20.04+1) ...\n",
            "debconf: unable to initialize frontend: Dialog\n",
            "debconf: (No usable dialog-like program is installed, so the dialog based frontend cannot be used. at /usr/share/perl5/Debconf/FrontEnd/Dialog.pm line 76.)\n",
            "debconf: falling back to frontend: Readline\n",
            "Creating new PostgreSQL cluster 11/main ...\n",
            "/usr/lib/postgresql/11/bin/initdb -D /var/lib/postgresql/11/main --auth-local peer --auth-host md5\n",
            "The files belonging to this database system will be owned by user \"postgres\".\n",
            "This user must also own the server process.\n",
            "\n",
            "The database cluster will be initialized with locale \"en_US.UTF-8\".\n",
            "The default database encoding has accordingly been set to \"UTF8\".\n",
            "The default text search configuration will be set to \"english\".\n",
            "\n",
            "Data page checksums are disabled.\n",
            "\n",
            "fixing permissions on existing directory /var/lib/postgresql/11/main ... ok\n",
            "creating subdirectories ... ok\n",
            "selecting default max_connections ... 100\n",
            "selecting default shared_buffers ... 128MB\n",
            "selecting default timezone ... Etc/UTC\n",
            "selecting dynamic shared memory implementation ... posix\n",
            "creating configuration files ... ok\n",
            "running bootstrap script ... ok\n",
            "performing post-bootstrap initialization ... ok\n",
            "syncing data to disk ... ok\n",
            "\n",
            "Success. You can now start the database server using:\n",
            "\n",
            "    pg_ctlcluster 11 main start\n",
            "\n",
            "update-alternatives: using /usr/share/postgresql/11/man/man1/postmaster.1.gz to provide /usr/share/man/man1/postmaster.1.gz (postmaster.1.gz) in auto mode\n",
            "invoke-rc.d: could not determine current runlevel\n",
            "invoke-rc.d: policy-rc.d denied execution of start.\n",
            "Processing triggers for man-db (2.9.1-1) ...\n",
            "Processing triggers for systemd (245.4-4ubuntu3.19) ...\n",
            " * Starting PostgreSQL 11 database server\n",
            "   ...done.\n",
            "ALTER ROLE\n",
            "NOTICE:  database \"donors_choose\" does not exist, skipping\n",
            "DROP DATABASE\n",
            "CREATE DATABASE\n",
            "env: DEMO_DATABASE_NAME=donors_choose\n",
            "env: DEMO_DATABASE_HOST=localhost\n",
            "env: DEMO_DATABASE_PORT=5432\n",
            "DROP DATABASE\n",
            "CREATE DATABASE\n",
            "env: DEMO_DATABASE_NAME=donors_choose\n",
            "env: DEMO_DATABASE_HOST=localhost\n",
            "env: DEMO_DATABASE_PORT=5432\n",
            "env: DEMO_DATABASE_USER=postgres\n",
            "env: DEMO_DATABASE_PASS=postgres\n"
          ]
        }
      ],
      "source": [
        "# Install and start postgresql-11 server\n",
        "!sudo apt-get -y -qq update\n",
        "!wget --quiet -O - https://www.postgresql.org/media/keys/ACCC4CF8.asc | sudo apt-key add -\n",
        "!echo \"deb http://apt.postgresql.org/pub/repos/apt/ `lsb_release -cs`-pgdg main\" |sudo tee  /etc/apt/sources.list.d/pgdg.list\n",
        "!sudo apt-get -y -qq update\n",
        "!sudo apt-get -y -qq install postgresql-11 postgresql-client-11\n",
        "!sudo service postgresql start\n",
        "\n",
        "# Setup a password `postgres` for username `postgres`\n",
        "!sudo -u postgres psql -U postgres -c \"ALTER USER postgres PASSWORD 'postgres';\"\n",
        "\n",
        "# Setup a database with name `donors_choose` to be used\n",
        "!sudo -u postgres psql -U postgres -c 'DROP DATABASE IF EXISTS donors_choose;'\n",
        "\n",
        "!sudo -u postgres psql -U postgres -c 'CREATE DATABASE donors_choose;'\n",
        "\n",
        "# Environment variables for connecting to the database\n",
        "%env DEMO_DATABASE_NAME=donors_choose\n",
        "%env DEMO_DATABASE_HOST=localhost\n",
        "%env DEMO_DATABASE_PORT=5432\n",
        "\n",
        "# Setup a database with name `donors_choose` to be used\n",
        "!sudo -u postgres psql -U postgres -c 'DROP DATABASE IF EXISTS donors_choose;'\n",
        "\n",
        "!sudo -u postgres psql -U postgres -c 'CREATE DATABASE donors_choose;'\n",
        "\n",
        "# Environment variables for connecting to the database\n",
        "%env DEMO_DATABASE_NAME=donors_choose\n",
        "%env DEMO_DATABASE_HOST=localhost\n",
        "%env DEMO_DATABASE_PORT=5432\n",
        "%env DEMO_DATABASE_USER=postgres\n",
        "%env DEMO_DATABASE_PASS=postgres"
      ]
    },
    {
      "cell_type": "code",
      "execution_count": 3,
      "metadata": {
        "id": "mvWyGCbRSB9d"
      },
      "outputs": [],
      "source": [
        "import json\n",
        "import zipfile\n",
        "import os\n",
        "import pandas as pd"
      ]
    },
    {
      "cell_type": "code",
      "execution_count": 4,
      "metadata": {
        "colab": {
          "base_uri": "https://localhost:8080/"
        },
        "id": "t4ZA3QYJ8sW3",
        "outputId": "6dad2ed5-63f7-4e24-b488-35b2ad576a80"
      },
      "outputs": [
        {
          "output_type": "stream",
          "name": "stdout",
          "text": [
            "Looking in indexes: https://pypi.org/simple, https://us-python.pkg.dev/colab-wheels/public/simple/\n",
            "Requirement already satisfied: kaggle in /usr/local/lib/python3.8/dist-packages (1.5.12)\n",
            "Requirement already satisfied: six>=1.10 in /usr/local/lib/python3.8/dist-packages (from kaggle) (1.15.0)\n",
            "Requirement already satisfied: certifi in /usr/local/lib/python3.8/dist-packages (from kaggle) (2022.12.7)\n",
            "Requirement already satisfied: urllib3 in /usr/local/lib/python3.8/dist-packages (from kaggle) (1.24.3)\n",
            "Requirement already satisfied: python-slugify in /usr/local/lib/python3.8/dist-packages (from kaggle) (8.0.0)\n",
            "Requirement already satisfied: python-dateutil in /usr/local/lib/python3.8/dist-packages (from kaggle) (2.8.2)\n",
            "Requirement already satisfied: requests in /usr/local/lib/python3.8/dist-packages (from kaggle) (2.25.1)\n",
            "Requirement already satisfied: tqdm in /usr/local/lib/python3.8/dist-packages (from kaggle) (4.64.1)\n",
            "Requirement already satisfied: text-unidecode>=1.3 in /usr/local/lib/python3.8/dist-packages (from python-slugify->kaggle) (1.3)\n",
            "Requirement already satisfied: idna<3,>=2.5 in /usr/local/lib/python3.8/dist-packages (from requests->kaggle) (2.10)\n",
            "Requirement already satisfied: chardet<5,>=3.0.2 in /usr/local/lib/python3.8/dist-packages (from requests->kaggle) (4.0.0)\n",
            "Downloading kdd-cup-2014-predicting-excitement-at-donors-choose.zip to /content\n",
            "100% 922M/926M [00:05<00:00, 203MB/s]\n",
            "100% 926M/926M [00:05<00:00, 179MB/s]\n"
          ]
        }
      ],
      "source": [
        "!pip install kaggle\n",
        "\n",
        "!mkdir /root/.kaggle\n",
        "!touch /root/.kaggle/kaggle.json\n",
        "api_token = {\"username\":\"ploped123\",\"key\":\"eeeeba8fc52706723e4c1bcf41ae6fd3\"}\n",
        "\n",
        "with open('/root/.kaggle/kaggle.json', 'w') as file:\n",
        "    json.dump(api_token, file)\n",
        "\n",
        "!chmod 600 /root/.kaggle/kaggle.json\n",
        "\n",
        "!kaggle competitions download -c kdd-cup-2014-predicting-excitement-at-donors-choose"
      ]
    },
    {
      "cell_type": "code",
      "execution_count": 5,
      "metadata": {
        "colab": {
          "base_uri": "https://localhost:8080/"
        },
        "id": "HunBQJMX9gPN",
        "outputId": "86ca1071-25f7-40b2-cfc4-755f7fa8fc2a"
      },
      "outputs": [
        {
          "output_type": "stream",
          "name": "stdout",
          "text": [
            "kdd-cup-2014-predicting-excitement-at-donors-choose.zip  sample_data\n"
          ]
        }
      ],
      "source": [
        "!ls /content"
      ]
    },
    {
      "cell_type": "code",
      "execution_count": 6,
      "metadata": {
        "colab": {
          "base_uri": "https://localhost:8080/"
        },
        "id": "76VVzgwkKbli",
        "outputId": "bcf7d2d1-53b4-41d8-a3ca-2addb96ddfc5"
      },
      "outputs": [
        {
          "output_type": "stream",
          "name": "stdout",
          "text": [
            "Archive:  /content/kdd-cup-2014-predicting-excitement-at-donors-choose.zip\n",
            "  inflating: donations.csv.zip       \n",
            "  inflating: essays.csv.zip          \n",
            "  inflating: outcomes.csv.zip        \n",
            "  inflating: projects.csv.zip        \n",
            "  inflating: resources.csv.zip       \n",
            "  inflating: sampleSubmission.csv.zip  \n"
          ]
        }
      ],
      "source": [
        "!unzip /content/kdd-cup-2014-predicting-excitement-at-donors-choose.zip"
      ]
    },
    {
      "cell_type": "code",
      "execution_count": 7,
      "metadata": {
        "colab": {
          "base_uri": "https://localhost:8080/"
        },
        "id": "mK_ns8iP9jSM",
        "outputId": "d4ce0593-1d70-4e20-a5be-47369e9cf99e"
      },
      "outputs": [
        {
          "output_type": "stream",
          "name": "stdout",
          "text": [
            "Archive:  /content/resources.csv.zip\n",
            "  inflating: resources.csv           \n",
            "Archive:  /content/donations.csv.zip\n",
            "  inflating: donations.csv           \n"
          ]
        }
      ],
      "source": [
        "!unzip /content/resources.csv.zip\n",
        "!unzip /content/donations.csv.zip"
      ]
    },
    {
      "cell_type": "code",
      "execution_count": 8,
      "metadata": {
        "colab": {
          "base_uri": "https://localhost:8080/"
        },
        "id": "cDEORpu4-Glu",
        "outputId": "c7027ef3-77d6-42e1-df75-b534922f3032"
      },
      "outputs": [
        {
          "output_type": "stream",
          "name": "stdout",
          "text": [
            "Archive:  /content/projects.csv.zip\n",
            "  inflating: projects.csv            \n"
          ]
        }
      ],
      "source": [
        "!unzip /content/projects.csv.zip"
      ]
    },
    {
      "cell_type": "code",
      "execution_count": 9,
      "metadata": {
        "id": "6gHx2YiBDH6x"
      },
      "outputs": [],
      "source": [
        "full_donations = pd.read_csv(\"/content/donations.csv\")\n",
        "full_projects = pd.read_csv(\"/content/projects.csv\")\n",
        "# full_essays = pd.read_csv(\"essays.csv\")\n",
        "full_resources = pd.read_csv(\"/content/resources.csv\")"
      ]
    },
    {
      "cell_type": "code",
      "execution_count": 11,
      "metadata": {
        "colab": {
          "base_uri": "https://localhost:8080/"
        },
        "id": "g7koLM_mDH6y",
        "outputId": "f961ef3b-2618-47ed-9a10-6bd37bfaeeba"
      },
      "outputs": [
        {
          "output_type": "stream",
          "name": "stdout",
          "text": [
            "Looking in indexes: https://pypi.org/simple, https://us-python.pkg.dev/colab-wheels/public/simple/\n",
            "Requirement already satisfied: textstat in /usr/local/lib/python3.8/dist-packages (0.7.3)\n",
            "Requirement already satisfied: pyphen in /usr/local/lib/python3.8/dist-packages (from textstat) (0.13.2)\n",
            "Looking in indexes: https://pypi.org/simple, https://us-python.pkg.dev/colab-wheels/public/simple/\n",
            "Collecting flair\n",
            "  Downloading flair-0.11.3-py3-none-any.whl (401 kB)\n",
            "\u001b[2K     \u001b[90m━━━━━━━━━━━━━━━━━━━━━━━━━━━━━━━━━━━━━━━\u001b[0m \u001b[32m401.9/401.9 KB\u001b[0m \u001b[31m7.6 MB/s\u001b[0m eta \u001b[36m0:00:00\u001b[0m\n",
            "\u001b[?25hCollecting conllu>=4.0\n",
            "  Downloading conllu-4.5.2-py2.py3-none-any.whl (16 kB)\n",
            "Requirement already satisfied: tqdm>=4.26.0 in /usr/local/lib/python3.8/dist-packages (from flair) (4.64.1)\n",
            "Collecting sqlitedict>=1.6.0\n",
            "  Downloading sqlitedict-2.1.0.tar.gz (21 kB)\n",
            "  Preparing metadata (setup.py) ... \u001b[?25l\u001b[?25hdone\n",
            "Collecting hyperopt>=0.2.7\n",
            "  Downloading hyperopt-0.2.7-py2.py3-none-any.whl (1.6 MB)\n",
            "\u001b[2K     \u001b[90m━━━━━━━━━━━━━━━━━━━━━━━━━━━━━━━━━━━━━━━━\u001b[0m \u001b[32m1.6/1.6 MB\u001b[0m \u001b[31m27.2 MB/s\u001b[0m eta \u001b[36m0:00:00\u001b[0m\n",
            "\u001b[?25hCollecting wikipedia-api\n",
            "  Downloading Wikipedia_API-0.5.8-py3-none-any.whl (13 kB)\n",
            "Requirement already satisfied: python-dateutil>=2.6.1 in /usr/local/lib/python3.8/dist-packages (from flair) (2.8.2)\n",
            "Collecting deprecated>=1.2.4\n",
            "  Downloading Deprecated-1.2.13-py2.py3-none-any.whl (9.6 kB)\n",
            "Collecting transformers>=4.0.0\n",
            "  Downloading transformers-4.26.1-py3-none-any.whl (6.3 MB)\n",
            "\u001b[2K     \u001b[90m━━━━━━━━━━━━━━━━━━━━━━━━━━━━━━━━━━━━━━━━\u001b[0m \u001b[32m6.3/6.3 MB\u001b[0m \u001b[31m42.9 MB/s\u001b[0m eta \u001b[36m0:00:00\u001b[0m\n",
            "\u001b[?25hCollecting huggingface-hub\n",
            "  Downloading huggingface_hub-0.12.1-py3-none-any.whl (190 kB)\n",
            "\u001b[2K     \u001b[90m━━━━━━━━━━━━━━━━━━━━━━━━━━━━━━━━━━━━━━\u001b[0m \u001b[32m190.3/190.3 KB\u001b[0m \u001b[31m21.7 MB/s\u001b[0m eta \u001b[36m0:00:00\u001b[0m\n",
            "\u001b[?25hRequirement already satisfied: gensim>=3.4.0 in /usr/local/lib/python3.8/dist-packages (from flair) (3.6.0)\n",
            "Requirement already satisfied: lxml in /usr/local/lib/python3.8/dist-packages (from flair) (4.9.2)\n",
            "Collecting segtok>=1.5.7\n",
            "  Downloading segtok-1.5.11-py3-none-any.whl (24 kB)\n",
            "Requirement already satisfied: regex in /usr/local/lib/python3.8/dist-packages (from flair) (2022.6.2)\n",
            "Collecting ftfy\n",
            "  Downloading ftfy-6.1.1-py3-none-any.whl (53 kB)\n",
            "\u001b[2K     \u001b[90m━━━━━━━━━━━━━━━━━━━━━━━━━━━━━━━━━━━━━━━━\u001b[0m \u001b[32m53.1/53.1 KB\u001b[0m \u001b[31m6.9 MB/s\u001b[0m eta \u001b[36m0:00:00\u001b[0m\n",
            "\u001b[?25hCollecting janome\n",
            "  Downloading Janome-0.4.2-py2.py3-none-any.whl (19.7 MB)\n",
            "\u001b[2K     \u001b[90m━━━━━━━━━━━━━━━━━━━━━━━━━━━━━━━━━━━━━━━━\u001b[0m \u001b[32m19.7/19.7 MB\u001b[0m \u001b[31m59.4 MB/s\u001b[0m eta \u001b[36m0:00:00\u001b[0m\n",
            "\u001b[?25hCollecting konoha<5.0.0,>=4.0.0\n",
            "  Downloading konoha-4.6.5-py3-none-any.whl (20 kB)\n",
            "Requirement already satisfied: more-itertools in /usr/local/lib/python3.8/dist-packages (from flair) (9.0.0)\n",
            "Requirement already satisfied: matplotlib>=2.2.3 in /usr/local/lib/python3.8/dist-packages (from flair) (3.2.2)\n",
            "Collecting pptree\n",
            "  Downloading pptree-3.1.tar.gz (3.0 kB)\n",
            "  Preparing metadata (setup.py) ... \u001b[?25l\u001b[?25hdone\n",
            "Requirement already satisfied: gdown==4.4.0 in /usr/local/lib/python3.8/dist-packages (from flair) (4.4.0)\n",
            "Collecting bpemb>=0.3.2\n",
            "  Downloading bpemb-0.3.4-py3-none-any.whl (19 kB)\n",
            "Requirement already satisfied: scikit-learn>=0.21.3 in /usr/local/lib/python3.8/dist-packages (from flair) (1.0.2)\n",
            "Collecting mpld3==0.3\n",
            "  Downloading mpld3-0.3.tar.gz (788 kB)\n",
            "\u001b[2K     \u001b[90m━━━━━━━━━━━━━━━━━━━━━━━━━━━━━━━━━━━━━━\u001b[0m \u001b[32m788.5/788.5 KB\u001b[0m \u001b[31m51.5 MB/s\u001b[0m eta \u001b[36m0:00:00\u001b[0m\n",
            "\u001b[?25h  Preparing metadata (setup.py) ... \u001b[?25l\u001b[?25hdone\n",
            "Requirement already satisfied: torch!=1.8,>=1.5.0 in /usr/local/lib/python3.8/dist-packages (from flair) (1.13.1+cu116)\n",
            "Collecting langdetect\n",
            "  Downloading langdetect-1.0.9.tar.gz (981 kB)\n",
            "\u001b[2K     \u001b[90m━━━━━━━━━━━━━━━━━━━━━━━━━━━━━━━━━━━━━━\u001b[0m \u001b[32m981.5/981.5 KB\u001b[0m \u001b[31m56.8 MB/s\u001b[0m eta \u001b[36m0:00:00\u001b[0m\n",
            "\u001b[?25h  Preparing metadata (setup.py) ... \u001b[?25l\u001b[?25hdone\n",
            "Requirement already satisfied: tabulate in /usr/local/lib/python3.8/dist-packages (from flair) (0.8.10)\n",
            "Collecting sentencepiece==0.1.95\n",
            "  Downloading sentencepiece-0.1.95-cp38-cp38-manylinux2014_x86_64.whl (1.2 MB)\n",
            "\u001b[2K     \u001b[90m━━━━━━━━━━━━━━━━━━━━━━━━━━━━━━━━━━━━━━━━\u001b[0m \u001b[32m1.2/1.2 MB\u001b[0m \u001b[31m66.6 MB/s\u001b[0m eta \u001b[36m0:00:00\u001b[0m\n",
            "\u001b[?25hRequirement already satisfied: beautifulsoup4 in /usr/local/lib/python3.8/dist-packages (from gdown==4.4.0->flair) (4.6.3)\n",
            "Requirement already satisfied: requests[socks] in /usr/local/lib/python3.8/dist-packages (from gdown==4.4.0->flair) (2.25.1)\n",
            "Requirement already satisfied: filelock in /usr/local/lib/python3.8/dist-packages (from gdown==4.4.0->flair) (3.9.0)\n",
            "Requirement already satisfied: six in /usr/local/lib/python3.8/dist-packages (from gdown==4.4.0->flair) (1.15.0)\n",
            "Requirement already satisfied: numpy in /usr/local/lib/python3.8/dist-packages (from bpemb>=0.3.2->flair) (1.21.6)\n",
            "Requirement already satisfied: wrapt<2,>=1.10 in /usr/local/lib/python3.8/dist-packages (from deprecated>=1.2.4->flair) (1.14.1)\n",
            "Requirement already satisfied: scipy>=0.18.1 in /usr/local/lib/python3.8/dist-packages (from gensim>=3.4.0->flair) (1.7.3)\n",
            "Requirement already satisfied: smart-open>=1.2.1 in /usr/local/lib/python3.8/dist-packages (from gensim>=3.4.0->flair) (6.3.0)\n",
            "Collecting py4j\n",
            "  Downloading py4j-0.10.9.7-py2.py3-none-any.whl (200 kB)\n",
            "\u001b[2K     \u001b[90m━━━━━━━━━━━━━━━━━━━━━━━━━━━━━━━━━━━━━━\u001b[0m \u001b[32m200.5/200.5 KB\u001b[0m \u001b[31m18.0 MB/s\u001b[0m eta \u001b[36m0:00:00\u001b[0m\n",
            "\u001b[?25hRequirement already satisfied: cloudpickle in /usr/local/lib/python3.8/dist-packages (from hyperopt>=0.2.7->flair) (2.2.1)\n",
            "Requirement already satisfied: networkx>=2.2 in /usr/local/lib/python3.8/dist-packages (from hyperopt>=0.2.7->flair) (3.0)\n",
            "Requirement already satisfied: future in /usr/local/lib/python3.8/dist-packages (from hyperopt>=0.2.7->flair) (0.16.0)\n",
            "Collecting overrides<4.0.0,>=3.0.0\n",
            "  Downloading overrides-3.1.0.tar.gz (11 kB)\n",
            "  Preparing metadata (setup.py) ... \u001b[?25l\u001b[?25hdone\n",
            "Collecting importlib-metadata<4.0.0,>=3.7.0\n",
            "  Downloading importlib_metadata-3.10.1-py3-none-any.whl (14 kB)\n",
            "Requirement already satisfied: cycler>=0.10 in /usr/local/lib/python3.8/dist-packages (from matplotlib>=2.2.3->flair) (0.11.0)\n",
            "Requirement already satisfied: pyparsing!=2.0.4,!=2.1.2,!=2.1.6,>=2.0.1 in /usr/local/lib/python3.8/dist-packages (from matplotlib>=2.2.3->flair) (3.0.9)\n",
            "Requirement already satisfied: kiwisolver>=1.0.1 in /usr/local/lib/python3.8/dist-packages (from matplotlib>=2.2.3->flair) (1.4.4)\n",
            "Requirement already satisfied: joblib>=0.11 in /usr/local/lib/python3.8/dist-packages (from scikit-learn>=0.21.3->flair) (1.2.0)\n",
            "Requirement already satisfied: threadpoolctl>=2.0.0 in /usr/local/lib/python3.8/dist-packages (from scikit-learn>=0.21.3->flair) (3.1.0)\n",
            "Requirement already satisfied: typing-extensions in /usr/local/lib/python3.8/dist-packages (from torch!=1.8,>=1.5.0->flair) (4.5.0)\n",
            "Requirement already satisfied: packaging>=20.0 in /usr/local/lib/python3.8/dist-packages (from transformers>=4.0.0->flair) (23.0)\n",
            "Requirement already satisfied: pyyaml>=5.1 in /usr/local/lib/python3.8/dist-packages (from transformers>=4.0.0->flair) (6.0)\n",
            "Collecting tokenizers!=0.11.3,<0.14,>=0.11.1\n",
            "  Downloading tokenizers-0.13.2-cp38-cp38-manylinux_2_17_x86_64.manylinux2014_x86_64.whl (7.6 MB)\n",
            "\u001b[2K     \u001b[90m━━━━━━━━━━━━━━━━━━━━━━━━━━━━━━━━━━━━━━━━\u001b[0m \u001b[32m7.6/7.6 MB\u001b[0m \u001b[31m75.0 MB/s\u001b[0m eta \u001b[36m0:00:00\u001b[0m\n",
            "\u001b[?25hRequirement already satisfied: wcwidth>=0.2.5 in /usr/local/lib/python3.8/dist-packages (from ftfy->flair) (0.2.6)\n",
            "Requirement already satisfied: zipp>=0.5 in /usr/local/lib/python3.8/dist-packages (from importlib-metadata<4.0.0,>=3.7.0->konoha<5.0.0,>=4.0.0->flair) (3.13.0)\n",
            "Requirement already satisfied: chardet<5,>=3.0.2 in /usr/local/lib/python3.8/dist-packages (from requests[socks]->gdown==4.4.0->flair) (4.0.0)\n",
            "Requirement already satisfied: urllib3<1.27,>=1.21.1 in /usr/local/lib/python3.8/dist-packages (from requests[socks]->gdown==4.4.0->flair) (1.24.3)\n",
            "Requirement already satisfied: certifi>=2017.4.17 in /usr/local/lib/python3.8/dist-packages (from requests[socks]->gdown==4.4.0->flair) (2022.12.7)\n",
            "Requirement already satisfied: idna<3,>=2.5 in /usr/local/lib/python3.8/dist-packages (from requests[socks]->gdown==4.4.0->flair) (2.10)\n",
            "Requirement already satisfied: PySocks!=1.5.7,>=1.5.6 in /usr/local/lib/python3.8/dist-packages (from requests[socks]->gdown==4.4.0->flair) (1.7.1)\n",
            "Building wheels for collected packages: mpld3, sqlitedict, langdetect, pptree, overrides\n",
            "  Building wheel for mpld3 (setup.py) ... \u001b[?25l\u001b[?25hdone\n",
            "  Created wheel for mpld3: filename=mpld3-0.3-py3-none-any.whl size=116702 sha256=9023b859a912f66ffb2052793bc3c849b027e7423f56b1fd90a6194d93f1d43c\n",
            "  Stored in directory: /root/.cache/pip/wheels/3d/9f/9d/d806a20bd97bc7076d724fa3e69fa5be61836ba16b2ffa6126\n",
            "  Building wheel for sqlitedict (setup.py) ... \u001b[?25l\u001b[?25hdone\n",
            "  Created wheel for sqlitedict: filename=sqlitedict-2.1.0-py3-none-any.whl size=16869 sha256=3124fdc798d8cef3a690b6a8bd0074b393d81eca6eb857386caf64eee84ca7d0\n",
            "  Stored in directory: /root/.cache/pip/wheels/04/c6/16/46e174009277f9bccdaa7215a243939d2f70180804b249bf3a\n",
            "  Building wheel for langdetect (setup.py) ... \u001b[?25l\u001b[?25hdone\n",
            "  Created wheel for langdetect: filename=langdetect-1.0.9-py3-none-any.whl size=993242 sha256=d6ad413d59270fd43549e67af02a0c80fae529cf20e0a3f53047276cb83883eb\n",
            "  Stored in directory: /root/.cache/pip/wheels/13/c7/b0/79f66658626032e78fc1a83103690ef6797d551cb22e56e734\n",
            "  Building wheel for pptree (setup.py) ... \u001b[?25l\u001b[?25hdone\n",
            "  Created wheel for pptree: filename=pptree-3.1-py3-none-any.whl size=4629 sha256=ac2c64c3287b0725b5dd858d461c5fec65c02e4be6c871bce60cb14f0af78bdd\n",
            "  Stored in directory: /root/.cache/pip/wheels/e1/8b/30/5b20240d3d13a9dfafb6a6dd49d1b541c86d39812cb3690edf\n",
            "  Building wheel for overrides (setup.py) ... \u001b[?25l\u001b[?25hdone\n",
            "  Created wheel for overrides: filename=overrides-3.1.0-py3-none-any.whl size=10187 sha256=0efbcbf003913fe824ddcd7323c74ad4c0319a2f79ae69fd3b1b4368afb126d9\n",
            "  Stored in directory: /root/.cache/pip/wheels/6a/4f/72/28857f75625b263e2e3f5ab2fc4416c0a85960ac6485007eaa\n",
            "Successfully built mpld3 sqlitedict langdetect pptree overrides\n",
            "Installing collected packages: tokenizers, sqlitedict, sentencepiece, py4j, pptree, overrides, mpld3, janome, segtok, langdetect, importlib-metadata, ftfy, deprecated, conllu, wikipedia-api, konoha, hyperopt, huggingface-hub, transformers, bpemb, flair\n",
            "  Attempting uninstall: importlib-metadata\n",
            "    Found existing installation: importlib-metadata 6.0.0\n",
            "    Uninstalling importlib-metadata-6.0.0:\n",
            "      Successfully uninstalled importlib-metadata-6.0.0\n",
            "  Attempting uninstall: hyperopt\n",
            "    Found existing installation: hyperopt 0.1.2\n",
            "    Uninstalling hyperopt-0.1.2:\n",
            "      Successfully uninstalled hyperopt-0.1.2\n",
            "\u001b[31mERROR: pip's dependency resolver does not currently take into account all the packages that are installed. This behaviour is the source of the following dependency conflicts.\n",
            "markdown 3.4.1 requires importlib-metadata>=4.4; python_version < \"3.10\", but you have importlib-metadata 3.10.1 which is incompatible.\n",
            "gym 0.25.2 requires importlib-metadata>=4.8.0; python_version < \"3.10\", but you have importlib-metadata 3.10.1 which is incompatible.\u001b[0m\u001b[31m\n",
            "\u001b[0mSuccessfully installed bpemb-0.3.4 conllu-4.5.2 deprecated-1.2.13 flair-0.11.3 ftfy-6.1.1 huggingface-hub-0.12.1 hyperopt-0.2.7 importlib-metadata-3.10.1 janome-0.4.2 konoha-4.6.5 langdetect-1.0.9 mpld3-0.3 overrides-3.1.0 pptree-3.1 py4j-0.10.9.7 segtok-1.5.11 sentencepiece-0.1.95 sqlitedict-2.1.0 tokenizers-0.13.2 transformers-4.26.1 wikipedia-api-0.5.8\n"
          ]
        }
      ],
      "source": [
        "from datetime import timedelta\n",
        "!pip install textstat\n",
        "!pip install flair\n",
        "\n",
        "import textstat\n",
        "\n",
        "from nltk.sentiment.vader import SentimentIntensityAnalyzer\n",
        "from nltk import tokenize\n",
        "\n",
        "import flair"
      ]
    },
    {
      "cell_type": "markdown",
      "metadata": {
        "id": "7wEKl_gyM1Eh"
      },
      "source": [
        "## Feature Engineering"
      ]
    },
    {
      "cell_type": "code",
      "execution_count": 12,
      "metadata": {
        "id": "GpeZ5PXWLQPV"
      },
      "outputs": [],
      "source": [
        "a = pd.merge(full_projects, full_donations, on=['projectid'], how='left')\n",
        "a['in_4_months'] = (pd.to_datetime(a['donation_timestamp']) - pd.to_datetime(a['date_posted'])) < timedelta(days=120)\n",
        "a['in_1_months'] = (pd.to_datetime(a['donation_timestamp']) - pd.to_datetime(a['date_posted'])) < timedelta(days=30)\n",
        "a['donation_1mo'] = a['donation_to_project'].values\n",
        "values = {'donation_to_project': 0.0}\n",
        "a = a.fillna(value=values)\n",
        "a.loc[a['in_4_months'] == False, 'donation_to_project'] = 0.0\n",
        "a.loc[a['in_1_months'] == False, 'donation_1mo'] = 0.0\n",
        "\n",
        "donation_in_4_months = a.groupby(['projectid'])['donation_to_project'].sum().reset_index(name='donation_in_4_months')\n",
        "donation_in_1_months = a.groupby(['projectid'])['donation_1mo'].sum().reset_index(name='donation_in_1_months')\n",
        "df = pd.merge(full_projects, donation_in_4_months, on=['projectid'], how='left')\n",
        "df = pd.merge(df, donation_in_1_months, on=['projectid'], how='left')\n",
        "\n",
        "del a"
      ]
    },
    {
      "cell_type": "code",
      "execution_count": 13,
      "metadata": {
        "colab": {
          "base_uri": "https://localhost:8080/"
        },
        "id": "YvIcSIe8LzQK",
        "outputId": "e72743f8-eb80-4096-8f28-0ec81f0851db"
      },
      "outputs": [
        {
          "output_type": "stream",
          "name": "stdout",
          "text": [
            "Baserate % projects fully funded: 0.5480215269433126\n",
            "Baserate % projects fully funded 1mo: 0.30470804007842217\n"
          ]
        }
      ],
      "source": [
        "df['is_fully_funded_after_4_months'] = df['total_price_excluding_optional_support'] <= df['donation_in_4_months']\n",
        "# df['is_fully_funded_after_4_months'] = df['total_asking_price'] <= df['donation_in_4_months']\n",
        "df['is_fully_funded_after_4_months'].value_counts()\n",
        "print(\"Baserate % projects fully funded:\", df['is_fully_funded_after_4_months'].mean())\n",
        "\n",
        "df['pct_funded_1mo'] = df['donation_in_1_months'] / df['total_price_excluding_optional_support']\n",
        "df['is_fully_funded_after_1_months'] = df['total_price_excluding_optional_support'] <= df['donation_in_1_months']\n",
        "#df['is_fully_funded_after_1_months'] = df['total_asking_price'] <= df['donation_in_1_months']\n",
        "df['is_fully_funded_after_1_months'].value_counts()\n",
        "print(\"Baserate % projects fully funded 1mo:\", df['is_fully_funded_after_1_months'].mean())"
      ]
    },
    {
      "cell_type": "code",
      "execution_count": 14,
      "metadata": {
        "id": "bZl0E-Hq9Ccc"
      },
      "outputs": [],
      "source": [
        "df['date_posted'] = pd.to_datetime(df['date_posted'])\n",
        "df['children_helped_per_dollar'] = df['students_reached']/df['total_price_excluding_optional_support']"
      ]
    },
    {
      "cell_type": "code",
      "execution_count": 15,
      "metadata": {
        "colab": {
          "base_uri": "https://localhost:8080/"
        },
        "id": "zmosoRB8QfIV",
        "outputId": "a9cb1c86-e6a6-49a3-eafe-961ab96986ea"
      },
      "outputs": [
        {
          "output_type": "stream",
          "name": "stderr",
          "text": [
            "/usr/local/lib/python3.8/dist-packages/sklearn/utils/deprecation.py:87: FutureWarning: Function get_feature_names is deprecated; get_feature_names is deprecated in 1.0 and will be removed in 1.2. Please use get_feature_names_out instead.\n",
            "  warnings.warn(msg, category=FutureWarning)\n"
          ]
        }
      ],
      "source": [
        "from sklearn.preprocessing import OneHotEncoder\n",
        "one_hot_feature_cols = ['grade_level', 'teacher_prefix', 'school_state']\n",
        "df = df.replace({'school_charter': {'t': 1, 'f': 0},\n",
        "                 'school_kipp': {'t': 1, 'f': 0}})\n",
        "\n",
        "encoder = OneHotEncoder(handle_unknown='ignore')\n",
        "\n",
        "#perform one-hot encoding\n",
        "encoder_df = pd.DataFrame(encoder.fit_transform(df[one_hot_feature_cols]).toarray())\n",
        "encoder_df.columns = encoder.get_feature_names()\n",
        "#merge one-hot encoded columns back with original DataFrame\n",
        "final_X = df.join(encoder_df)\n",
        "#drop the original columns\n",
        "final_X = final_X.drop(one_hot_feature_cols, axis=1)\n",
        "\n",
        "#calculate number of projects and the success rate for each city\n",
        "num_of_success_projects_per_city = dict(df.groupby(['school_city'])['is_fully_funded_after_4_months'].sum())\n",
        "num_of_projects_per_city = dict(df.groupby(['school_city']).size())\n",
        "\n",
        "final_X['num_of_success_projects_in_city']= final_X['school_city'].map(num_of_success_projects_per_city)\n",
        "final_X['num_of_projects_in_city']= final_X['school_city'].map(num_of_projects_per_city)\n",
        "final_X['success_rate_in_city']= final_X['num_of_success_projects_in_city'] / final_X['num_of_projects_in_city']\n",
        "#drop 'school city'\n",
        "final_X = final_X.drop('school_city', axis=1)\n",
        "\n",
        "#calculate number of projects and the success rate for each teacher\n",
        "num_of_success_projects_per_teacher = dict(df.groupby(['teacher_acctid'])['is_fully_funded_after_4_months'].sum())\n",
        "num_of_projects_per_teacher = dict(df.groupby(['teacher_acctid']).size())\n",
        "\n",
        "final_X['num_of_success_projects_by_teacher']= final_X['teacher_acctid'].map(num_of_success_projects_per_teacher)\n",
        "final_X['num_of_projects_by_teacher']= final_X['teacher_acctid'].map(num_of_projects_per_teacher)\n",
        "final_X['success_rate_by_teacher']= final_X['num_of_success_projects_by_teacher'] / final_X['num_of_projects_by_teacher']\n",
        "#drop 'teacher_acctid'\n",
        "final_X = final_X.drop('teacher_acctid', axis=1)\n",
        "df = final_X\n",
        "\n",
        "# # row 28-36\n",
        "feature_cols_projects = ['school_charter', 'school_kipp', 'total_price_excluding_optional_support', 'students_reached'] + list(final_X.columns[-63:])"
      ]
    },
    {
      "cell_type": "code",
      "execution_count": 16,
      "metadata": {
        "colab": {
          "base_uri": "https://localhost:8080/"
        },
        "id": "FnvZ5MSiQfIW",
        "outputId": "4ff22ac8-34c1-4451-e8f2-b4850f3d873a"
      },
      "outputs": [
        {
          "output_type": "execute_result",
          "data": {
            "text/plain": [
              "Index(['projectid', 'schoolid', 'school_ncesid', 'school_latitude',\n",
              "       'school_longitude', 'school_zip', 'school_metro', 'school_district',\n",
              "       'school_county', 'school_charter',\n",
              "       ...\n",
              "       'x2_WA', 'x2_WI', 'x2_WV', 'x2_WY', 'num_of_success_projects_in_city',\n",
              "       'num_of_projects_in_city', 'success_rate_in_city',\n",
              "       'num_of_success_projects_by_teacher', 'num_of_projects_by_teacher',\n",
              "       'success_rate_by_teacher'],\n",
              "      dtype='object', length=105)"
            ]
          },
          "metadata": {},
          "execution_count": 16
        }
      ],
      "source": [
        "df.columns"
      ]
    },
    {
      "cell_type": "code",
      "execution_count": 17,
      "metadata": {
        "colab": {
          "base_uri": "https://localhost:8080/",
          "height": 635
        },
        "id": "lBaQ63bQrm5r",
        "outputId": "e6814ccd-92c5-4d4c-e128-96bffde30e12"
      },
      "outputs": [
        {
          "output_type": "stream",
          "name": "stdout",
          "text": [
            "Archive:  /content/essays.csv.zip\n",
            "  inflating: essays.csv              \n"
          ]
        },
        {
          "output_type": "execute_result",
          "data": {
            "text/plain": [
              "                          projectid                    teacher_acctid  \\\n",
              "0  ffffc4f85b60efc5b52347df489d0238  c24011b20fc161ed02248e85beb59a90   \n",
              "1  ffffac55ee02a49d1abc87ba6fc61135  947066d0af47e0566f334566553dd6a6   \n",
              "2  ffff97ed93720407d70a2787475932b0  462270f5d5c212162fcab11afa2623cb   \n",
              "3  ffff7266778f71242675416e600b94e1  b9a8f14199e0d8109200ece179281f4f   \n",
              "4  ffff418bb42fad24347527ad96100f81  e885fb002a1d0d39aaed9d21a7683549   \n",
              "\n",
              "                                          title  \\\n",
              "0                                         iMath   \n",
              "1                     Recording Rockin' Readers   \n",
              "2  Kindergarten In Need of Important Materials!   \n",
              "3                               Let's Find Out!   \n",
              "4                        Whistle While We Work!   \n",
              "\n",
              "                                   short_description  \\\n",
              "0  It is imperative that teachers bring technolog...   \n",
              "1  Can you imagine having to translate everything...   \n",
              "2  It takes a special person to donate to a group...   \n",
              "3  My Kindergarten students come from a variety o...   \n",
              "4  By using the cross curricular games requested,...   \n",
              "\n",
              "                                      need_statement  \\\n",
              "0                       My students need four iPods.   \n",
              "1                     My students need a camcorder.    \n",
              "2  My students need 17 assorted classroom materia...   \n",
              "3  My students need 25 copies of Scholastic's \"Le...   \n",
              "4  My students need grade level appropriate games...   \n",
              "\n",
              "                                               essay  \n",
              "0  I am a fourth year fifth grade math teacher. T...  \n",
              "1  Can you imagine having to translate everything...  \n",
              "2  Hi. I teach a wonderful group of 4-5 year old ...  \n",
              "3  My Kindergarten students come from a variety o...  \n",
              "4  All work and no play makes school a dull place...  "
            ],
            "text/html": [
              "\n",
              "  <div id=\"df-1df593e7-5c98-4083-af03-4998abfb1662\">\n",
              "    <div class=\"colab-df-container\">\n",
              "      <div>\n",
              "<style scoped>\n",
              "    .dataframe tbody tr th:only-of-type {\n",
              "        vertical-align: middle;\n",
              "    }\n",
              "\n",
              "    .dataframe tbody tr th {\n",
              "        vertical-align: top;\n",
              "    }\n",
              "\n",
              "    .dataframe thead th {\n",
              "        text-align: right;\n",
              "    }\n",
              "</style>\n",
              "<table border=\"1\" class=\"dataframe\">\n",
              "  <thead>\n",
              "    <tr style=\"text-align: right;\">\n",
              "      <th></th>\n",
              "      <th>projectid</th>\n",
              "      <th>teacher_acctid</th>\n",
              "      <th>title</th>\n",
              "      <th>short_description</th>\n",
              "      <th>need_statement</th>\n",
              "      <th>essay</th>\n",
              "    </tr>\n",
              "  </thead>\n",
              "  <tbody>\n",
              "    <tr>\n",
              "      <th>0</th>\n",
              "      <td>ffffc4f85b60efc5b52347df489d0238</td>\n",
              "      <td>c24011b20fc161ed02248e85beb59a90</td>\n",
              "      <td>iMath</td>\n",
              "      <td>It is imperative that teachers bring technolog...</td>\n",
              "      <td>My students need four iPods.</td>\n",
              "      <td>I am a fourth year fifth grade math teacher. T...</td>\n",
              "    </tr>\n",
              "    <tr>\n",
              "      <th>1</th>\n",
              "      <td>ffffac55ee02a49d1abc87ba6fc61135</td>\n",
              "      <td>947066d0af47e0566f334566553dd6a6</td>\n",
              "      <td>Recording Rockin' Readers</td>\n",
              "      <td>Can you imagine having to translate everything...</td>\n",
              "      <td>My students need a camcorder.</td>\n",
              "      <td>Can you imagine having to translate everything...</td>\n",
              "    </tr>\n",
              "    <tr>\n",
              "      <th>2</th>\n",
              "      <td>ffff97ed93720407d70a2787475932b0</td>\n",
              "      <td>462270f5d5c212162fcab11afa2623cb</td>\n",
              "      <td>Kindergarten In Need of Important Materials!</td>\n",
              "      <td>It takes a special person to donate to a group...</td>\n",
              "      <td>My students need 17 assorted classroom materia...</td>\n",
              "      <td>Hi. I teach a wonderful group of 4-5 year old ...</td>\n",
              "    </tr>\n",
              "    <tr>\n",
              "      <th>3</th>\n",
              "      <td>ffff7266778f71242675416e600b94e1</td>\n",
              "      <td>b9a8f14199e0d8109200ece179281f4f</td>\n",
              "      <td>Let's Find Out!</td>\n",
              "      <td>My Kindergarten students come from a variety o...</td>\n",
              "      <td>My students need 25 copies of Scholastic's \"Le...</td>\n",
              "      <td>My Kindergarten students come from a variety o...</td>\n",
              "    </tr>\n",
              "    <tr>\n",
              "      <th>4</th>\n",
              "      <td>ffff418bb42fad24347527ad96100f81</td>\n",
              "      <td>e885fb002a1d0d39aaed9d21a7683549</td>\n",
              "      <td>Whistle While We Work!</td>\n",
              "      <td>By using the cross curricular games requested,...</td>\n",
              "      <td>My students need grade level appropriate games...</td>\n",
              "      <td>All work and no play makes school a dull place...</td>\n",
              "    </tr>\n",
              "  </tbody>\n",
              "</table>\n",
              "</div>\n",
              "      <button class=\"colab-df-convert\" onclick=\"convertToInteractive('df-1df593e7-5c98-4083-af03-4998abfb1662')\"\n",
              "              title=\"Convert this dataframe to an interactive table.\"\n",
              "              style=\"display:none;\">\n",
              "        \n",
              "  <svg xmlns=\"http://www.w3.org/2000/svg\" height=\"24px\"viewBox=\"0 0 24 24\"\n",
              "       width=\"24px\">\n",
              "    <path d=\"M0 0h24v24H0V0z\" fill=\"none\"/>\n",
              "    <path d=\"M18.56 5.44l.94 2.06.94-2.06 2.06-.94-2.06-.94-.94-2.06-.94 2.06-2.06.94zm-11 1L8.5 8.5l.94-2.06 2.06-.94-2.06-.94L8.5 2.5l-.94 2.06-2.06.94zm10 10l.94 2.06.94-2.06 2.06-.94-2.06-.94-.94-2.06-.94 2.06-2.06.94z\"/><path d=\"M17.41 7.96l-1.37-1.37c-.4-.4-.92-.59-1.43-.59-.52 0-1.04.2-1.43.59L10.3 9.45l-7.72 7.72c-.78.78-.78 2.05 0 2.83L4 21.41c.39.39.9.59 1.41.59.51 0 1.02-.2 1.41-.59l7.78-7.78 2.81-2.81c.8-.78.8-2.07 0-2.86zM5.41 20L4 18.59l7.72-7.72 1.47 1.35L5.41 20z\"/>\n",
              "  </svg>\n",
              "      </button>\n",
              "      \n",
              "  <style>\n",
              "    .colab-df-container {\n",
              "      display:flex;\n",
              "      flex-wrap:wrap;\n",
              "      gap: 12px;\n",
              "    }\n",
              "\n",
              "    .colab-df-convert {\n",
              "      background-color: #E8F0FE;\n",
              "      border: none;\n",
              "      border-radius: 50%;\n",
              "      cursor: pointer;\n",
              "      display: none;\n",
              "      fill: #1967D2;\n",
              "      height: 32px;\n",
              "      padding: 0 0 0 0;\n",
              "      width: 32px;\n",
              "    }\n",
              "\n",
              "    .colab-df-convert:hover {\n",
              "      background-color: #E2EBFA;\n",
              "      box-shadow: 0px 1px 2px rgba(60, 64, 67, 0.3), 0px 1px 3px 1px rgba(60, 64, 67, 0.15);\n",
              "      fill: #174EA6;\n",
              "    }\n",
              "\n",
              "    [theme=dark] .colab-df-convert {\n",
              "      background-color: #3B4455;\n",
              "      fill: #D2E3FC;\n",
              "    }\n",
              "\n",
              "    [theme=dark] .colab-df-convert:hover {\n",
              "      background-color: #434B5C;\n",
              "      box-shadow: 0px 1px 3px 1px rgba(0, 0, 0, 0.15);\n",
              "      filter: drop-shadow(0px 1px 2px rgba(0, 0, 0, 0.3));\n",
              "      fill: #FFFFFF;\n",
              "    }\n",
              "  </style>\n",
              "\n",
              "      <script>\n",
              "        const buttonEl =\n",
              "          document.querySelector('#df-1df593e7-5c98-4083-af03-4998abfb1662 button.colab-df-convert');\n",
              "        buttonEl.style.display =\n",
              "          google.colab.kernel.accessAllowed ? 'block' : 'none';\n",
              "\n",
              "        async function convertToInteractive(key) {\n",
              "          const element = document.querySelector('#df-1df593e7-5c98-4083-af03-4998abfb1662');\n",
              "          const dataTable =\n",
              "            await google.colab.kernel.invokeFunction('convertToInteractive',\n",
              "                                                     [key], {});\n",
              "          if (!dataTable) return;\n",
              "\n",
              "          const docLinkHtml = 'Like what you see? Visit the ' +\n",
              "            '<a target=\"_blank\" href=https://colab.research.google.com/notebooks/data_table.ipynb>data table notebook</a>'\n",
              "            + ' to learn more about interactive tables.';\n",
              "          element.innerHTML = '';\n",
              "          dataTable['output_type'] = 'display_data';\n",
              "          await google.colab.output.renderOutput(dataTable, element);\n",
              "          const docLink = document.createElement('div');\n",
              "          docLink.innerHTML = docLinkHtml;\n",
              "          element.appendChild(docLink);\n",
              "        }\n",
              "      </script>\n",
              "    </div>\n",
              "  </div>\n",
              "  "
            ]
          },
          "metadata": {},
          "execution_count": 17
        }
      ],
      "source": [
        "!unzip /content/essays.csv.zip\n",
        "full_essays = pd.read_csv(\"/content/essays.csv\")\n",
        "full_essays.head()"
      ]
    },
    {
      "cell_type": "code",
      "execution_count": 18,
      "metadata": {
        "colab": {
          "base_uri": "https://localhost:8080/"
        },
        "id": "UWMC7K9vx4pe",
        "outputId": "0da649ef-4763-42cc-d2ed-d0f138336d0b"
      },
      "outputs": [
        {
          "output_type": "stream",
          "name": "stderr",
          "text": [
            "[nltk_data] Downloading package vader_lexicon to /root/nltk_data...\n"
          ]
        }
      ],
      "source": [
        "import nltk\n",
        "nltk.download('vader_lexicon')\n",
        "sid = SentimentIntensityAnalyzer()"
      ]
    },
    {
      "cell_type": "code",
      "execution_count": 19,
      "metadata": {
        "colab": {
          "base_uri": "https://localhost:8080/"
        },
        "id": "s4Q4et7cyUEz",
        "outputId": "6dd3b6f0-5e43-4cb8-9bd3-e76ad1743666"
      },
      "outputs": [
        {
          "output_type": "execute_result",
          "data": {
            "text/plain": [
              "(664098, 6)"
            ]
          },
          "metadata": {},
          "execution_count": 19
        }
      ],
      "source": [
        "full_essays.shape"
      ]
    },
    {
      "cell_type": "code",
      "execution_count": 20,
      "metadata": {
        "id": "p_C-BMmMx5b3"
      },
      "outputs": [],
      "source": [
        "sample_essays = full_essays.iloc[:100000]"
      ]
    },
    {
      "cell_type": "code",
      "execution_count": 21,
      "metadata": {
        "id": "vjQ5ZW2s64mU"
      },
      "outputs": [],
      "source": [
        "sample_polarity = sample_essays['title'].astype(str).apply(lambda x: sid.polarity_scores(x))"
      ]
    },
    {
      "cell_type": "code",
      "execution_count": 22,
      "metadata": {
        "id": "Z4fuFCHw7QJF"
      },
      "outputs": [],
      "source": [
        "sample_polarity = sample_essays['short_description'].astype(str).apply(lambda x: sid.polarity_scores(x))"
      ]
    },
    {
      "cell_type": "code",
      "execution_count": 23,
      "metadata": {
        "colab": {
          "base_uri": "https://localhost:8080/"
        },
        "id": "t8-RaZODp7sH",
        "outputId": "84e46950-9644-46f2-fc67-20ec8a1cab06"
      },
      "outputs": [
        {
          "metadata": {
            "tags": null
          },
          "name": "stdout",
          "output_type": "stream",
          "text": [
            "title\n",
            "short_description\n",
            "need_statement\n",
            "essay\n",
            "title\n",
            "short_description\n"
          ]
        }
      ],
      "source": [
        "#flair_sentiment= flair.models.TextClassifier.load('en-sentiment')\n",
        "sid = SentimentIntensityAnalyzer()\n",
        "for col in ['title','short_description', 'need_statement', 'essay']:\n",
        "  print(col)\n",
        "  full_essays[col + '_len'] = full_essays[col].str.len()\n",
        "  full_essays[col + '_wordlen'] = full_essays[col].astype(str).apply(lambda x: len(x) / len(x.split(' ')))\n",
        "\n",
        "for col in ['title','short_description']:\n",
        "  print(col)\n",
        "  full_essays[col + '_sent'] = full_essays[col].astype(str).apply(lambda x: sid.polarity_scores(x))\n",
        "  full_essays[col + '_sentnet'] = full_essays[col + '_sent'].apply(lambda x: x['pos'] - x['neg'])\n",
        "  full_essays[col + '_sentpol'] = full_essays[col + '_sent'].apply(lambda x: x['pos'] + x['neg'])"
      ]
    },
    {
      "cell_type": "code",
      "execution_count": 24,
      "metadata": {
        "id": "tHl8k0mNJ8SE"
      },
      "outputs": [],
      "source": [
        "full_essays = full_essays.drop(columns=['teacher_acctid', 'title', 'short_description', 'need_statement', 'essay'])"
      ]
    },
    {
      "cell_type": "code",
      "execution_count": 25,
      "metadata": {
        "id": "uO3i2YyvJsR8"
      },
      "outputs": [],
      "source": [
        "df = pd.merge(df, full_essays, on=['projectid'], how='left')"
      ]
    },
    {
      "cell_type": "code",
      "execution_count": 26,
      "metadata": {
        "colab": {
          "base_uri": "https://localhost:8080/"
        },
        "id": "Y8T7wymuQfIY",
        "outputId": "d2d19a62-6591-40cc-bb11-bc15b0ed360d"
      },
      "outputs": [
        {
          "output_type": "execute_result",
          "data": {
            "text/plain": [
              "Index(['projectid', 'schoolid', 'school_ncesid', 'school_latitude',\n",
              "       'school_longitude', 'school_zip', 'school_metro', 'school_district',\n",
              "       'school_county', 'school_charter',\n",
              "       ...\n",
              "       'need_statement_len', 'need_statement_wordlen', 'essay_len',\n",
              "       'essay_wordlen', 'title_sent', 'title_sentnet', 'title_sentpol',\n",
              "       'short_description_sent', 'short_description_sentnet',\n",
              "       'short_description_sentpol'],\n",
              "      dtype='object', length=119)"
            ]
          },
          "metadata": {},
          "execution_count": 26
        }
      ],
      "source": [
        "df.columns"
      ]
    },
    {
      "cell_type": "code",
      "execution_count": 27,
      "metadata": {
        "colab": {
          "base_uri": "https://localhost:8080/"
        },
        "id": "mVjcnYOGQfIY",
        "outputId": "d69194e1-66e9-4f76-da77-0b4c80537060"
      },
      "outputs": [
        {
          "output_type": "stream",
          "name": "stderr",
          "text": [
            "<ipython-input-27-4fa936b62856>:2: SettingWithCopyWarning: \n",
            "A value is trying to be set on a copy of a slice from a DataFrame.\n",
            "Try using .loc[row_indexer,col_indexer] = value instead\n",
            "\n",
            "See the caveats in the documentation: https://pandas.pydata.org/pandas-docs/stable/user_guide/indexing.html#returning-a-view-versus-a-copy\n",
            "  resource_df['project_resource_type'] = resource_df['project_resource_type'].astype('str')\n",
            "<ipython-input-27-4fa936b62856>:14: SettingWithCopyWarning: \n",
            "A value is trying to be set on a copy of a slice from a DataFrame.\n",
            "Try using .loc[row_indexer,col_indexer] = value instead\n",
            "\n",
            "See the caveats in the documentation: https://pandas.pydata.org/pandas-docs/stable/user_guide/indexing.html#returning-a-view-versus-a-copy\n",
            "  resource_df['avg_unit_price'] = resource_df.apply(lambda row: avg_unit_price[row['project_resource_type']], axis=1) # This could take a minute to run\n",
            "<ipython-input-27-4fa936b62856>:15: SettingWithCopyWarning: \n",
            "A value is trying to be set on a copy of a slice from a DataFrame.\n",
            "Try using .loc[row_indexer,col_indexer] = value instead\n",
            "\n",
            "See the caveats in the documentation: https://pandas.pydata.org/pandas-docs/stable/user_guide/indexing.html#returning-a-view-versus-a-copy\n",
            "  resource_df['avg_quantity'] = resource_df.apply(lambda row: avg_quantity[row['project_resource_type']], axis=1)\n",
            "<ipython-input-27-4fa936b62856>:17: SettingWithCopyWarning: \n",
            "A value is trying to be set on a copy of a slice from a DataFrame.\n",
            "Try using .loc[row_indexer,col_indexer] = value instead\n",
            "\n",
            "See the caveats in the documentation: https://pandas.pydata.org/pandas-docs/stable/user_guide/indexing.html#returning-a-view-versus-a-copy\n",
            "  resource_df['item_unit_price'] = resource_df['item_unit_price'].fillna(resource_df['avg_unit_price'])\n",
            "<ipython-input-27-4fa936b62856>:18: SettingWithCopyWarning: \n",
            "A value is trying to be set on a copy of a slice from a DataFrame.\n",
            "Try using .loc[row_indexer,col_indexer] = value instead\n",
            "\n",
            "See the caveats in the documentation: https://pandas.pydata.org/pandas-docs/stable/user_guide/indexing.html#returning-a-view-versus-a-copy\n",
            "  resource_df['item_quantity'] = resource_df['item_quantity'].fillna(resource_df['avg_quantity'])\n"
          ]
        }
      ],
      "source": [
        "resource_df = full_resources[['resourceid', 'projectid', 'project_resource_type', 'item_unit_price', 'item_quantity']]\n",
        "resource_df['project_resource_type'] = resource_df['project_resource_type'].astype('str')\n",
        "\n",
        "# Fill in missing values of item_unit_price & item_quantity\n",
        "resource_types = np.unique(resource_df['project_resource_type'].tolist())\n",
        "avg_unit_price = {}\n",
        "avg_quantity = {}\n",
        "for rtype in resource_types:\n",
        "  avg = resource_df.loc[resource_df['project_resource_type'] == rtype]['item_unit_price'].mean()\n",
        "  avg_unit_price[rtype] = avg\n",
        "  avg_num = np.floor(resource_df.loc[resource_df['project_resource_type'] == rtype]['item_quantity'].mean())\n",
        "  avg_quantity[rtype] = avg_num\n",
        "\n",
        "resource_df['avg_unit_price'] = resource_df.apply(lambda row: avg_unit_price[row['project_resource_type']], axis=1) # This could take a minute to run\n",
        "resource_df['avg_quantity'] = resource_df.apply(lambda row: avg_quantity[row['project_resource_type']], axis=1)\n",
        "\n",
        "resource_df['item_unit_price'] = resource_df['item_unit_price'].fillna(resource_df['avg_unit_price'])\n",
        "resource_df['item_quantity'] = resource_df['item_quantity'].fillna(resource_df['avg_quantity'])\n",
        "\n",
        "resource_df = resource_df.groupby('projectid').agg({'item_unit_price':'mean', 'item_quantity':'sum'}).reset_index().rename(columns={'item_unit_price':'avg_unit_price', 'item_quantity':'total_item_quantity'})\n",
        "df = df.merge(resource_df, how='left', on='projectid')"
      ]
    },
    {
      "cell_type": "code",
      "execution_count": 28,
      "metadata": {
        "colab": {
          "base_uri": "https://localhost:8080/"
        },
        "id": "Kf6z5hxescIC",
        "outputId": "f6be1850-09a5-4b6d-a948-975d600081d1"
      },
      "outputs": [
        {
          "output_type": "stream",
          "name": "stdout",
          "text": [
            "Index(['date_posted', 'students_reached', 'children_helped_per_dollar',\n",
            "       'title_len', 'title_sentnet', 'title_sentpol', 'short_description_len',\n",
            "       'short_description_sentnet', 'short_description_sentpol', 'essay_len',\n",
            "       'need_statement_len', 'avg_unit_price', 'total_item_quantity',\n",
            "       'pct_funded_1mo', 'school_charter', 'school_kipp',\n",
            "       'total_price_excluding_optional_support', 'students_reached', 'x1_Mr.',\n",
            "       'x1_Mr. & Mrs.', 'x1_Mrs.', 'x1_Ms.', 'x1_nan', 'x2_AK', 'x2_AL',\n",
            "       'x2_AR', 'x2_AZ', 'x2_CA', 'x2_CO', 'x2_CT', 'x2_DC', 'x2_DE', 'x2_FL',\n",
            "       'x2_GA', 'x2_HI', 'x2_IA', 'x2_ID', 'x2_IL', 'x2_IN', 'x2_KS', 'x2_KY',\n",
            "       'x2_LA', 'x2_La', 'x2_MA', 'x2_MD', 'x2_ME', 'x2_MI', 'x2_MN', 'x2_MO',\n",
            "       'x2_MS', 'x2_MT', 'x2_NC', 'x2_ND', 'x2_NE', 'x2_NH', 'x2_NJ', 'x2_NM',\n",
            "       'x2_NV', 'x2_NY', 'x2_OH', 'x2_OK', 'x2_OR', 'x2_PA', 'x2_RI', 'x2_SC',\n",
            "       'x2_SD', 'x2_TN', 'x2_TX', 'x2_UT', 'x2_VA', 'x2_VT', 'x2_WA', 'x2_WI',\n",
            "       'x2_WV', 'x2_WY', 'num_of_success_projects_in_city',\n",
            "       'num_of_projects_in_city', 'success_rate_in_city',\n",
            "       'num_of_success_projects_by_teacher', 'num_of_projects_by_teacher',\n",
            "       'success_rate_by_teacher', 'is_fully_funded_after_4_months',\n",
            "       'primary_focus_area:Applied_Learning',\n",
            "       'primary_focus_area:Health_&_Sports',\n",
            "       'primary_focus_area:History_&_Civics',\n",
            "       'primary_focus_area:Literacy_&_Language',\n",
            "       'primary_focus_area:Math_&_Science',\n",
            "       'primary_focus_area:Music_&_The_Arts',\n",
            "       'primary_focus_area:Special_Needs', 'resource_type:Books',\n",
            "       'resource_type:Other', 'resource_type:Supplies',\n",
            "       'resource_type:Technology', 'resource_type:Trips',\n",
            "       'resource_type:Visitors', 'poverty_level:high_poverty',\n",
            "       'poverty_level:highest_poverty', 'poverty_level:low_poverty',\n",
            "       'poverty_level:moderate_poverty'],\n",
            "      dtype='object')\n"
          ]
        }
      ],
      "source": [
        "resstat_cols = ['students_reached', 'children_helped_per_dollar', 'primary_focus_area', 'resource_type', 'poverty_level']\n",
        "\n",
        "text_cols = ['title_len', 'title_sentnet', 'title_sentpol', 'short_description_len', 'short_description_sentnet', 'short_description_sentpol','essay_len', 'need_statement_len']\n",
        "res_cols = ['avg_unit_price', 'total_item_quantity']\n",
        "don_cols = ['pct_funded_1mo']\n",
        "features = resstat_cols + text_cols + res_cols + don_cols + feature_cols_projects\n",
        "Y = ['is_fully_funded_after_4_months']\n",
        "df_final = df[['date_posted'] + features + Y]\n",
        "\n",
        "# Silences a warning that doesn't affect anything\n",
        "pd.options.mode.chained_assignment = None\n",
        "\n",
        "for i in ['primary_focus_area', 'resource_type', 'poverty_level']:\n",
        "  new_addition = pd.get_dummies(df_final[i])\n",
        "  new_addition.columns = [i + \":\" + x.replace(\" \",\"_\") for x in new_addition.columns]\n",
        "  for col_name in new_addition.columns:\n",
        "    df_final[col_name] = new_addition[col_name].copy(deep=True)\n",
        "df_final.drop(columns = ['primary_focus_area', 'resource_type', 'poverty_level'], inplace=True)\n",
        "print(df_final.columns)"
      ]
    },
    {
      "cell_type": "code",
      "execution_count": 29,
      "metadata": {
        "id": "tuFsKR4U-rd6"
      },
      "outputs": [],
      "source": [
        "from datetime import datetime"
      ]
    },
    {
      "cell_type": "code",
      "execution_count": 30,
      "metadata": {
        "id": "Li6mGOER-kxh"
      },
      "outputs": [],
      "source": [
        "from dateutil.relativedelta import relativedelta"
      ]
    },
    {
      "cell_type": "code",
      "execution_count": 31,
      "metadata": {
        "id": "9RR81PuK9rQE"
      },
      "outputs": [],
      "source": [
        "def chron_split_date_ranges(dates, train_length = relativedelta(years=1), val_length = relativedelta(months=1), retrain_length = relativedelta(weeks=2), min_f_col = relativedelta(months=1), min_l_col = relativedelta(months=4)):\n",
        "  sorted = dates.sort_values()\n",
        "  first_date = sorted.iloc[0]\n",
        "  last_date = sorted.iloc[-1]\n",
        "\n",
        "  split_dates = []\n",
        "\n",
        "  curr = first_date\n",
        "\n",
        "  while curr + val_length + train_length + 2 * min_l_col + 2 * min_f_col < last_date:\n",
        "    train_start = curr + min_f_col\n",
        "    val_start = train_start + train_length + min_l_col + min_f_col\n",
        "    \n",
        "    split_dates.append({\n",
        "        \"train_feature_collection\": (curr, train_start),\n",
        "        \"train\": (train_start, train_start + train_length),\n",
        "        \"train_label_buffer\": (train_start + train_length, train_start + train_length + min_l_col),\n",
        "        \"val_feature_collection\": (train_start + train_length + min_l_col, val_start),\n",
        "        \"val\": (val_start , val_start + val_length),\n",
        "        \"val_label_buffer\": (val_start + val_length, val_start + val_length + min_l_col),\n",
        "        \"train_label\": (train_start + min_l_col, train_start + train_length + min_l_col),\n",
        "        \"val_label\": (val_start + min_l_col, val_start + val_length + min_l_col)\n",
        "    })\n",
        "\n",
        "    curr += retrain_length\n",
        "  return split_dates"
      ]
    },
    {
      "cell_type": "code",
      "execution_count": 32,
      "metadata": {
        "id": "xxLN3aGk_gY5"
      },
      "outputs": [],
      "source": [
        "split = chron_split_date_ranges(pd.to_datetime(df['date_posted']))[-1] # latest split"
      ]
    },
    {
      "cell_type": "code",
      "execution_count": 33,
      "metadata": {
        "colab": {
          "base_uri": "https://localhost:8080/"
        },
        "id": "LNPOkWRLQfIZ",
        "outputId": "086e4662-e8fe-4b8e-ec0b-da92182a0aff"
      },
      "outputs": [
        {
          "output_type": "execute_result",
          "data": {
            "text/plain": [
              "{'train_feature_collection': (Timestamp('2012-06-08 00:00:00'),\n",
              "  Timestamp('2012-07-08 00:00:00')),\n",
              " 'train': (Timestamp('2012-07-08 00:00:00'), Timestamp('2013-07-08 00:00:00')),\n",
              " 'train_label_buffer': (Timestamp('2013-07-08 00:00:00'),\n",
              "  Timestamp('2013-11-08 00:00:00')),\n",
              " 'val_feature_collection': (Timestamp('2013-11-08 00:00:00'),\n",
              "  Timestamp('2013-12-08 00:00:00')),\n",
              " 'val': (Timestamp('2013-12-08 00:00:00'), Timestamp('2014-01-08 00:00:00')),\n",
              " 'val_label_buffer': (Timestamp('2014-01-08 00:00:00'),\n",
              "  Timestamp('2014-05-08 00:00:00')),\n",
              " 'train_label': (Timestamp('2012-11-08 00:00:00'),\n",
              "  Timestamp('2013-11-08 00:00:00')),\n",
              " 'val_label': (Timestamp('2014-04-08 00:00:00'),\n",
              "  Timestamp('2014-05-08 00:00:00'))}"
            ]
          },
          "metadata": {},
          "execution_count": 33
        }
      ],
      "source": [
        "split"
      ]
    },
    {
      "cell_type": "code",
      "execution_count": 34,
      "metadata": {
        "id": "e4v4jp3ATLRQ"
      },
      "outputs": [],
      "source": [
        "def generate_train_val(df, split):\n",
        "  train = df.loc[(split[\"train\"][0] <= df['date_posted']) & (df['date_posted'] < split[\"train\"][1])].drop(columns=['date_posted']).fillna(0)\n",
        "  val = df.loc[(split[\"val\"][0] <= df['date_posted']) & (df['date_posted'] < split[\"val\"][1])].drop(columns=['date_posted']).fillna(0)\n",
        "  return pd.DataFrame(train), pd.DataFrame(val)"
      ]
    },
    {
      "cell_type": "code",
      "execution_count": 35,
      "metadata": {
        "id": "AkzA9Bi4bEci"
      },
      "outputs": [],
      "source": [
        "train, val = generate_train_val(df_final, split)"
      ]
    },
    {
      "cell_type": "code",
      "execution_count": 36,
      "metadata": {
        "id": "Et0zlGzDcqfU"
      },
      "outputs": [],
      "source": [
        "train_X = train.drop(columns=['is_fully_funded_after_4_months']).reset_index()\n",
        "train_Y = train['is_fully_funded_after_4_months'].values\n",
        "val_X = val.drop(columns=['is_fully_funded_after_4_months']).reset_index()\n",
        "val_Y = val['is_fully_funded_after_4_months'].values"
      ]
    },
    {
      "cell_type": "code",
      "execution_count": 37,
      "metadata": {
        "colab": {
          "base_uri": "https://localhost:8080/"
        },
        "id": "E3L8h8vBV9Tf",
        "outputId": "a7301f34-99d0-4744-d0c6-c0368094a12f"
      },
      "outputs": [
        {
          "output_type": "stream",
          "name": "stdout",
          "text": [
            "Index(['index', 'students_reached', 'children_helped_per_dollar', 'title_len',\n",
            "       'title_sentnet', 'title_sentpol', 'short_description_len',\n",
            "       'short_description_sentnet', 'short_description_sentpol', 'essay_len',\n",
            "       'need_statement_len', 'avg_unit_price', 'total_item_quantity',\n",
            "       'pct_funded_1mo', 'school_charter', 'school_kipp',\n",
            "       'total_price_excluding_optional_support', 'students_reached', 'x1_Mr.',\n",
            "       'x1_Mr. & Mrs.', 'x1_Mrs.', 'x1_Ms.', 'x1_nan', 'x2_AK', 'x2_AL',\n",
            "       'x2_AR', 'x2_AZ', 'x2_CA', 'x2_CO', 'x2_CT', 'x2_DC', 'x2_DE', 'x2_FL',\n",
            "       'x2_GA', 'x2_HI', 'x2_IA', 'x2_ID', 'x2_IL', 'x2_IN', 'x2_KS', 'x2_KY',\n",
            "       'x2_LA', 'x2_La', 'x2_MA', 'x2_MD', 'x2_ME', 'x2_MI', 'x2_MN', 'x2_MO',\n",
            "       'x2_MS', 'x2_MT', 'x2_NC', 'x2_ND', 'x2_NE', 'x2_NH', 'x2_NJ', 'x2_NM',\n",
            "       'x2_NV', 'x2_NY', 'x2_OH', 'x2_OK', 'x2_OR', 'x2_PA', 'x2_RI', 'x2_SC',\n",
            "       'x2_SD', 'x2_TN', 'x2_TX', 'x2_UT', 'x2_VA', 'x2_VT', 'x2_WA', 'x2_WI',\n",
            "       'x2_WV', 'x2_WY', 'num_of_success_projects_in_city',\n",
            "       'num_of_projects_in_city', 'success_rate_in_city',\n",
            "       'num_of_success_projects_by_teacher', 'num_of_projects_by_teacher',\n",
            "       'success_rate_by_teacher', 'primary_focus_area:Applied_Learning',\n",
            "       'primary_focus_area:Health_&_Sports',\n",
            "       'primary_focus_area:History_&_Civics',\n",
            "       'primary_focus_area:Literacy_&_Language',\n",
            "       'primary_focus_area:Math_&_Science',\n",
            "       'primary_focus_area:Music_&_The_Arts',\n",
            "       'primary_focus_area:Special_Needs', 'resource_type:Books',\n",
            "       'resource_type:Other', 'resource_type:Supplies',\n",
            "       'resource_type:Technology', 'resource_type:Trips',\n",
            "       'resource_type:Visitors', 'poverty_level:high_poverty',\n",
            "       'poverty_level:highest_poverty', 'poverty_level:low_poverty',\n",
            "       'poverty_level:moderate_poverty'],\n",
            "      dtype='object')\n"
          ]
        }
      ],
      "source": [
        "print(val_X.columns)"
      ]
    },
    {
      "cell_type": "markdown",
      "metadata": {
        "id": "xQy2dD_8KFh2"
      },
      "source": [
        "# ML models"
      ]
    },
    {
      "cell_type": "markdown",
      "metadata": {
        "id": "mY7_14lUwqkH"
      },
      "source": [
        "## Logistic Regression"
      ]
    },
    {
      "cell_type": "code",
      "execution_count": 38,
      "metadata": {
        "id": "wcJVUaAFWiuc"
      },
      "outputs": [],
      "source": [
        "from sklearn.linear_model import LogisticRegression\n",
        "import time"
      ]
    },
    {
      "cell_type": "markdown",
      "source": [
        "grid search feature selection"
      ],
      "metadata": {
        "id": "tiL3sbYcailC"
      }
    },
    {
      "cell_type": "code",
      "source": [
        "max_res = 0\n",
        "feature_selected = None\n",
        "for i in train_X.columns[1:]:\n",
        "  selected = [\"pct_funded_1mo\", \"children_helped_per_dollar\"]\n",
        "  selected.append(i)\n",
        "  #print(selected) \n",
        "  #print(train_X[selected])\n",
        "  start = time.time()\n",
        "  logmodel = LogisticRegression(penalty='none', max_iter=100000000)\n",
        "  logmodel.fit(train_X[selected], train_Y)\n",
        "  train_pred = logmodel.predict_proba(train_X[selected])\n",
        "  val_pred = logmodel.predict_proba(val_X[selected]) # f(x)\n",
        "  res = logmodel.predict(val_X[selected]) # f(x)>0.5\n",
        "  train_rank = np.argsort(train_pred[:,1])\n",
        "  val_rank = np.argsort(val_pred[:,1])\n",
        "  results = []\n",
        "  for threshold in np.linspace(0.01, 1, 100):\n",
        "      precision_train = 1 - np.mean(train_Y[train_rank][:int(threshold * len(train_X))])\n",
        "      precision_val = 1 - np.mean(val_Y[val_rank][:int(threshold * len(val_X))])\n",
        "      recall_train = np.sum(train_Y[train_rank][:int(threshold * len(train_X))] == False)/np.sum(train_Y==False)\n",
        "      recall_val = np.sum(val_Y[val_rank][:int(threshold * len(val_X))] == False)/np.sum(val_Y==False)\n",
        "      results.append([precision_train, recall_train, precision_val, recall_val])\n",
        "  results = np.array(results)\n",
        "  #print(results[9, 2]) \n",
        "  if max_res < results[9, 2]:\n",
        "    max_res = results[9, 2]\n",
        "    feature_selected = selected\n",
        "print(max_res, feature_selected)"
      ],
      "metadata": {
        "colab": {
          "base_uri": "https://localhost:8080/"
        },
        "id": "UQ5m7dBBS_f1",
        "outputId": "2d6f4a79-8440-496a-8bfc-f9950f2d64f5"
      },
      "execution_count": 113,
      "outputs": [
        {
          "output_type": "stream",
          "name": "stdout",
          "text": [
            "1.0 ['pct_funded_1mo', 'children_helped_per_dollar', 'poverty_level:moderate_poverty']\n"
          ]
        }
      ]
    },
    {
      "cell_type": "markdown",
      "metadata": {
        "id": "Z_K8TfuvLCD4"
      },
      "source": [
        "most recent PR-K graphs"
      ]
    },
    {
      "cell_type": "code",
      "execution_count": 120,
      "metadata": {
        "colab": {
          "base_uri": "https://localhost:8080/"
        },
        "id": "mc6HhbOIWiuc",
        "outputId": "555ff3b0-457c-40f5-ab45-1292713c05f1"
      },
      "outputs": [
        {
          "output_type": "stream",
          "name": "stdout",
          "text": [
            "0.31787848472595215\n"
          ]
        }
      ],
      "source": [
        "selected = feature_selected\n",
        "start = time.time()\n",
        "logmodel = LogisticRegression(penalty='none', max_iter=100000000)\n",
        "logmodel.fit(train_X[selected], train_Y)\n",
        "runtime = time.time() - start\n",
        "print(runtime)"
      ]
    },
    {
      "cell_type": "code",
      "source": [
        "#print(val_X)"
      ],
      "metadata": {
        "id": "M2vFxwJrYCrT"
      },
      "execution_count": 121,
      "outputs": []
    },
    {
      "cell_type": "code",
      "execution_count": 122,
      "metadata": {
        "id": "XCyu_QWtWiuc"
      },
      "outputs": [],
      "source": [
        "train_pred = logmodel.predict_proba(train_X[selected])\n",
        "val_pred = logmodel.predict_proba(val_X[selected]) # f(x)\n",
        "res = logmodel.predict(val_X[selected]) # f(x)>0.5"
      ]
    },
    {
      "cell_type": "code",
      "execution_count": 123,
      "metadata": {
        "colab": {
          "base_uri": "https://localhost:8080/"
        },
        "id": "Q2pXIEGueXU4",
        "outputId": "3fd1a3f4-2147-4c86-9abd-77eb5a0c0437"
      },
      "outputs": [
        {
          "output_type": "stream",
          "name": "stdout",
          "text": [
            "[0.32004793 0.0397341  0.0641692  ... 0.99534132 0.96508508 0.01896311]\n"
          ]
        }
      ],
      "source": [
        "print(val_pred[:,1])"
      ]
    },
    {
      "cell_type": "code",
      "execution_count": 124,
      "metadata": {
        "colab": {
          "base_uri": "https://localhost:8080/"
        },
        "id": "DdqhCqK-JI5f",
        "outputId": "0257d4fc-079e-4fa0-9ef4-9ba49abc787c"
      },
      "outputs": [
        {
          "output_type": "stream",
          "name": "stdout",
          "text": [
            "[False False False ...  True  True False]\n"
          ]
        }
      ],
      "source": [
        "print(res)"
      ]
    },
    {
      "cell_type": "code",
      "source": [
        "train_rank = np.argsort(train_pred[:,1])\n",
        "val_rank = np.argsort(val_pred[:,1])"
      ],
      "metadata": {
        "id": "juYLULTlG_wN"
      },
      "execution_count": 125,
      "outputs": []
    },
    {
      "cell_type": "code",
      "execution_count": 128,
      "metadata": {
        "colab": {
          "base_uri": "https://localhost:8080/"
        },
        "id": "F-F5G6QtWiuc",
        "outputId": "a83d9b25-896e-41d4-8118-7916e57234de"
      },
      "outputs": [
        {
          "output_type": "stream",
          "name": "stdout",
          "text": [
            "1.0\n"
          ]
        }
      ],
      "source": [
        "results = []\n",
        "for threshold in np.linspace(0.01, 1, 100):\n",
        "    precision_train = 1 - np.mean(train_Y[train_rank][:int(threshold * len(train_X))])\n",
        "    precision_val = 1 - np.mean(val_Y[val_rank][:int(threshold * len(val_X))])\n",
        "    recall_train = np.sum(train_Y[train_rank][:int(threshold * len(train_X))] == False)/np.sum(train_Y==False)\n",
        "    recall_val = np.sum(val_Y[val_rank][:int(threshold * len(val_X))] == False)/np.sum(val_Y==False)\n",
        "    results.append([precision_train, recall_train, precision_val, recall_val])\n",
        "results = np.array(results)\n",
        "print(results[9, 2])  # 0.683 for l2"
      ]
    },
    {
      "cell_type": "code",
      "execution_count": 129,
      "metadata": {
        "colab": {
          "base_uri": "https://localhost:8080/",
          "height": 281
        },
        "id": "g5xhnqAsWiud",
        "outputId": "d1209193-c21b-4028-86ae-8cb2842de5e9"
      },
      "outputs": [
        {
          "output_type": "display_data",
          "data": {
            "text/plain": [
              "<Figure size 432x288 with 2 Axes>"
            ],
            "image/png": "[encoded data removed]"
          },
          "metadata": {
            "needs_background": "light"
          }
        }
      ],
      "source": [
        "import matplotlib.pyplot as plt\n",
        "\n",
        "ax1 = plt.subplot()\n",
        "plt.plot(range(100), results[:,0], 'b')\n",
        "plt.ylabel('precision', color='b')\n",
        "\n",
        "ax2 = ax1.twinx()\n",
        "plt.plot(range(100), results[:,1], 'r')\n",
        "plt.ylabel('recall', color='r')\n",
        "plt.title(\"Train PR-k Curve - Logistic Regression\")\n",
        "plt.xlabel(\"Percentage of population selected\")\n",
        "plt.show()"
      ]
    },
    {
      "cell_type": "code",
      "execution_count": 130,
      "metadata": {
        "colab": {
          "base_uri": "https://localhost:8080/",
          "height": 281
        },
        "id": "sPypJy25Wiud",
        "outputId": "6306b84e-defc-4ad9-f709-0048f5bcba7c"
      },
      "outputs": [
        {
          "output_type": "display_data",
          "data": {
            "text/plain": [
              "<Figure size 432x288 with 2 Axes>"
            ],
            "image/png": "[encoded data removed]"
          },
          "metadata": {
            "needs_background": "light"
          }
        }
      ],
      "source": [
        "ax1 = plt.subplot()\n",
        "plt.plot(range(100), results[:,2], 'b')\n",
        "plt.ylabel('precision', color='b')\n",
        "\n",
        "ax2 = ax1.twinx()\n",
        "plt.plot(range(100), results[:,3], 'r')\n",
        "plt.ylabel('recall', color='r')\n",
        "plt.title(\"Val PR-k Curve - Logistic Regression\")\n",
        "plt.show()"
      ]
    },
    {
      "cell_type": "code",
      "execution_count": 131,
      "metadata": {
        "id": "q7WQeKPjWiud"
      },
      "outputs": [],
      "source": [
        "# train_X.columns[np.argsort(logmodel.feature_importances_)[::-1]]"
      ]
    },
    {
      "cell_type": "markdown",
      "metadata": {
        "id": "bL-qajovLQrR"
      },
      "source": [
        "whole dataset evaluation (precision, recall, tfp)"
      ]
    },
    {
      "cell_type": "code",
      "source": [
        "whole_split = chron_split_date_ranges(pd.to_datetime(df['date_posted']))"
      ],
      "metadata": {
        "id": "epKMgrVSbKf-"
      },
      "execution_count": 141,
      "outputs": []
    },
    {
      "cell_type": "code",
      "source": [
        "y_value = []\n",
        "for s in whole_split:\n",
        "  #print(s)\n",
        "  curtrain, curval = generate_train_val(df_final, s)\n",
        "  curtrain_X = curtrain.drop(columns=['is_fully_funded_after_4_months']).reset_index()\n",
        "  curtrain_Y = curtrain['is_fully_funded_after_4_months'].values\n",
        "  curval_X = curval.drop(columns=['is_fully_funded_after_4_months']).reset_index()\n",
        "  curval_Y = curval['is_fully_funded_after_4_months'].values\n",
        "  #curtrain_X.dropna(inplace=True)\n",
        "  #indices_to_keep = ~curtrain_X.isin([np.nan, np.inf, -np.inf]).any(axis=1)\n",
        "  #curtrain_X[indices_to_keep].astype(np.float64)\n",
        "  #curtrain_X.dropna(inplace=True)\n",
        "  curtrain_X[np.isinf(curtrain_X)==True] = 0\n",
        "  curval_X[np.isinf(curval_X)==True] = 0\n",
        "  logmodel = LogisticRegression(penalty='none', max_iter=100000000)\n",
        "  logmodel.fit(curtrain_X[selected], curtrain_Y)\n",
        "  train_pred = logmodel.predict_proba(curtrain_X[selected])\n",
        "  val_pred = logmodel.predict_proba(curval_X[selected]) # f(x)\n",
        "  res = logmodel.predict(curval_X[selected]) # f(x)>0.5\n",
        "  train_rank = np.argsort(train_pred[:,1])\n",
        "  val_rank = np.argsort(val_pred[:,1])\n",
        "  results = []\n",
        "  threshold = 0.1\n",
        "  #precision_train = 1 - np.mean(curtrain_Y[train_rank][:int(threshold * len(curtrain_X))])\n",
        "  precision_val = 1 - np.mean(curval_Y[val_rank][:int(threshold * len(curval_X))])\n",
        "  #recall_train = np.sum(train_Y[train_rank][:int(threshold * len(train_X))] == False)/np.sum(train_Y==False)\n",
        "  #recall_val = np.sum(val_Y[val_rank][:int(threshold * len(val_X))] == False)/np.sum(val_Y==False)\n",
        "  # results.append([precision_train, recall_train, precision_val, recall_val])\n",
        "  # results = np.array(results)\n",
        "  print(precision_val)  # 0.683 for l2\n",
        "  y_value.append(precision_val)"
      ],
      "metadata": {
        "colab": {
          "base_uri": "https://localhost:8080/"
        },
        "id": "rfAiLwSrbOwU",
        "outputId": "30a4b250-68a3-414c-c99d-cd9d967b3ff4"
      },
      "execution_count": 178,
      "outputs": [
        {
          "output_type": "stream",
          "name": "stdout",
          "text": [
            "0.36111111111111116\n",
            "0.21875\n",
            "0.5555555555555556\n",
            "0.7692307692307692\n",
            "0.875\n",
            "0.7586206896551724\n",
            "0.7777777777777778\n",
            "0.9166666666666666\n",
            "1.0\n",
            "1.0\n",
            "1.0\n",
            "1.0\n",
            "1.0\n",
            "1.0\n",
            "1.0\n",
            "1.0\n",
            "1.0\n",
            "1.0\n",
            "1.0\n",
            "1.0\n",
            "1.0\n",
            "1.0\n",
            "1.0\n",
            "1.0\n",
            "1.0\n",
            "1.0\n",
            "1.0\n",
            "1.0\n",
            "1.0\n",
            "1.0\n",
            "1.0\n",
            "1.0\n",
            "1.0\n",
            "1.0\n",
            "1.0\n",
            "1.0\n",
            "1.0\n",
            "1.0\n",
            "1.0\n",
            "1.0\n",
            "1.0\n",
            "1.0\n",
            "1.0\n",
            "1.0\n",
            "1.0\n",
            "1.0\n",
            "1.0\n",
            "1.0\n",
            "1.0\n",
            "1.0\n",
            "1.0\n",
            "1.0\n",
            "1.0\n",
            "1.0\n",
            "1.0\n",
            "1.0\n",
            "1.0\n",
            "1.0\n",
            "1.0\n",
            "1.0\n",
            "1.0\n",
            "1.0\n",
            "1.0\n",
            "1.0\n",
            "1.0\n",
            "1.0\n",
            "1.0\n",
            "1.0\n",
            "1.0\n",
            "1.0\n",
            "1.0\n",
            "1.0\n",
            "1.0\n",
            "1.0\n",
            "1.0\n",
            "1.0\n",
            "1.0\n",
            "1.0\n",
            "1.0\n",
            "1.0\n",
            "1.0\n",
            "1.0\n",
            "1.0\n",
            "1.0\n",
            "1.0\n",
            "1.0\n",
            "1.0\n",
            "1.0\n",
            "1.0\n",
            "1.0\n",
            "1.0\n",
            "1.0\n",
            "1.0\n",
            "1.0\n",
            "1.0\n",
            "1.0\n",
            "1.0\n",
            "1.0\n",
            "1.0\n",
            "1.0\n",
            "1.0\n",
            "1.0\n",
            "1.0\n",
            "1.0\n",
            "1.0\n",
            "1.0\n",
            "1.0\n",
            "1.0\n",
            "1.0\n",
            "1.0\n",
            "1.0\n",
            "1.0\n",
            "1.0\n",
            "1.0\n",
            "1.0\n",
            "1.0\n",
            "1.0\n",
            "1.0\n",
            "1.0\n",
            "1.0\n",
            "1.0\n",
            "1.0\n",
            "1.0\n",
            "1.0\n",
            "1.0\n",
            "1.0\n",
            "1.0\n",
            "1.0\n",
            "1.0\n",
            "1.0\n",
            "1.0\n",
            "1.0\n",
            "1.0\n",
            "1.0\n",
            "1.0\n",
            "1.0\n",
            "1.0\n",
            "1.0\n",
            "1.0\n",
            "1.0\n",
            "1.0\n",
            "1.0\n",
            "1.0\n",
            "1.0\n",
            "1.0\n",
            "1.0\n",
            "1.0\n",
            "1.0\n",
            "0.993421052631579\n",
            "0.9414225941422594\n",
            "0.939047619047619\n",
            "0.9663551401869159\n",
            "1.0\n",
            "1.0\n",
            "1.0\n",
            "1.0\n",
            "1.0\n",
            "1.0\n",
            "1.0\n",
            "1.0\n",
            "1.0\n",
            "1.0\n",
            "1.0\n",
            "1.0\n",
            "1.0\n",
            "1.0\n",
            "1.0\n",
            "1.0\n",
            "1.0\n",
            "1.0\n",
            "1.0\n",
            "1.0\n",
            "1.0\n",
            "1.0\n",
            "1.0\n",
            "1.0\n",
            "1.0\n",
            "1.0\n",
            "1.0\n",
            "1.0\n",
            "1.0\n",
            "1.0\n",
            "1.0\n",
            "1.0\n",
            "1.0\n",
            "1.0\n",
            "1.0\n",
            "1.0\n",
            "1.0\n",
            "1.0\n",
            "1.0\n",
            "1.0\n",
            "1.0\n",
            "1.0\n",
            "1.0\n",
            "1.0\n",
            "1.0\n",
            "1.0\n",
            "1.0\n",
            "1.0\n",
            "0.9624060150375939\n",
            "0.9478991596638655\n",
            "0.9766666666666667\n",
            "0.9974619289340102\n",
            "1.0\n",
            "1.0\n",
            "1.0\n",
            "1.0\n",
            "1.0\n",
            "1.0\n",
            "1.0\n",
            "0.9838129496402878\n",
            "0.9944444444444445\n",
            "1.0\n",
            "1.0\n",
            "1.0\n",
            "1.0\n",
            "1.0\n",
            "1.0\n",
            "1.0\n",
            "0.9858657243816255\n",
            "0.9921875\n",
            "0.9954721862871928\n",
            "0.9959432048681541\n",
            "1.0\n",
            "1.0\n",
            "1.0\n",
            "1.0\n",
            "0.9987484355444305\n",
            "0.9971428571428571\n",
            "1.0\n",
            "0.9969481180061037\n",
            "1.0\n",
            "0.9985294117647059\n",
            "0.9985754985754985\n",
            "0.9985185185185185\n",
            "1.0\n",
            "1.0\n",
            "1.0\n",
            "1.0\n",
            "1.0\n",
            "1.0\n",
            "1.0\n",
            "1.0\n",
            "1.0\n",
            "1.0\n",
            "0.9807789580171977\n",
            "0.9679089026915114\n",
            "0.999462654486835\n",
            "1.0\n",
            "1.0\n",
            "1.0\n",
            "1.0\n",
            "1.0\n",
            "1.0\n"
          ]
        }
      ]
    },
    {
      "cell_type": "code",
      "source": [
        "file1 = open('lr.txt', 'w')\n",
        "file1.writelines(str(y_value))\n",
        "file1.close()"
      ],
      "metadata": {
        "id": "Bq78Ro7yankd"
      },
      "execution_count": 180,
      "outputs": []
    }
  ],
  "metadata": {
    "colab": {
      "provenance": []
    },
    "kernelspec": {
      "display_name": "Python 3 (ipykernel)",
      "language": "python",
      "name": "python3"
    },
    "language_info": {
      "codemirror_mode": {
        "name": "ipython",
        "version": 3
      },
      "file_extension": ".py",
      "mimetype": "text/x-python",
      "name": "python",
      "nbconvert_exporter": "python",
      "pygments_lexer": "ipython3",
      "version": "3.7.9"
    }
  },
  "nbformat": 4,
  "nbformat_minor": 0
}