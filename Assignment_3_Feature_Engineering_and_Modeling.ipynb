{
 "cells": [
  {
   "cell_type": "markdown",
   "metadata": {
    "id": "MygD9O0cNBh6"
   },
   "source": [
    "# Baselines and Formulation\n"
   ]
  },
  {
   "cell_type": "code",
   "execution_count": 1,
   "metadata": {
    "executionInfo": {
     "elapsed": 26960,
     "status": "ok",
     "timestamp": 1676251940030,
     "user": {
      "displayName": "Nicholas Chen",
      "userId": "11547586581363003213"
     },
     "user_tz": 300
    },
    "id": "dDwjqJp-92WB"
   },
   "outputs": [],
   "source": [
    "import json\n",
    "import zipfile\n",
    "import os\n",
    "import pandas as pd\n",
    "import numpy as np"
   ]
  },
  {
   "cell_type": "code",
   "execution_count": 3,
   "metadata": {},
   "outputs": [
    {
     "output_type": "stream",
     "name": "stdout",
     "text": "10718_report_baseline.ipynb\nAssignment_1_Baselines_and_Formulation.ipynb\nAssignment_1_Revision.ipynb\nAssignment_2_Chronological_Validation_Splits.ipynb\nAssignment_3_Feature_Engineering_and_Modeling.ipynb\nREADME.md\ndonations.csv\nproject.csv\nresources.csv\n"
    }
   ],
   "source": [
    "%ls"
   ]
  },
  {
   "cell_type": "code",
   "execution_count": 4,
   "metadata": {
    "executionInfo": {
     "elapsed": 26960,
     "status": "ok",
     "timestamp": 1676251940030,
     "user": {
      "displayName": "Nicholas Chen",
      "userId": "11547586581363003213"
     },
     "user_tz": 300
    },
    "id": "dDwjqJp-92WB"
   },
   "outputs": [],
   "source": [
    "full_donations = pd.read_csv(\"donations.csv\")\n",
    "full_projects = pd.read_csv(\"project.csv\")\n",
    "# full_essays = pd.read_csv(\"essays.csv\")\n",
    "full_resources = pd.read_csv(\"resources.csv\")"
   ]
  },
  {
   "cell_type": "code",
   "execution_count": 5,
   "metadata": {
    "executionInfo": {
     "elapsed": 3,
     "status": "ok",
     "timestamp": 1676251940031,
     "user": {
      "displayName": "Nicholas Chen",
      "userId": "11547586581363003213"
     },
     "user_tz": 300
    },
    "id": "8LZDfVxULbz8"
   },
   "outputs": [
    {
     "output_type": "error",
     "ename": "ModuleNotFoundError",
     "evalue": "No module named 'textstat'",
     "traceback": [
      "\u001b[0;31m---------------------------------------------------------------------------\u001b[0m",
      "\u001b[0;31mModuleNotFoundError\u001b[0m                       Traceback (most recent call last)",
      "\u001b[0;32m/var/folders/z4/vfzff1_554d3yxp587_9pqc40000gn/T/ipykernel_16943/783033454.py\u001b[0m in \u001b[0;36m<module>\u001b[0;34m\u001b[0m\n\u001b[1;32m      1\u001b[0m \u001b[0;32mfrom\u001b[0m \u001b[0mdatetime\u001b[0m \u001b[0;32mimport\u001b[0m \u001b[0mtimedelta\u001b[0m\u001b[0;34m\u001b[0m\u001b[0;34m\u001b[0m\u001b[0m\n\u001b[1;32m      2\u001b[0m \u001b[0;34m\u001b[0m\u001b[0m\n\u001b[0;32m----> 3\u001b[0;31m \u001b[0;32mimport\u001b[0m \u001b[0mtextstat\u001b[0m\u001b[0;34m\u001b[0m\u001b[0;34m\u001b[0m\u001b[0m\n\u001b[0m\u001b[1;32m      4\u001b[0m \u001b[0;34m\u001b[0m\u001b[0m\n\u001b[1;32m      5\u001b[0m \u001b[0;32mfrom\u001b[0m \u001b[0mnltk\u001b[0m\u001b[0;34m.\u001b[0m\u001b[0msentiment\u001b[0m\u001b[0;34m.\u001b[0m\u001b[0mvader\u001b[0m \u001b[0;32mimport\u001b[0m \u001b[0mSentimentIntensityAnalyzer\u001b[0m\u001b[0;34m\u001b[0m\u001b[0;34m\u001b[0m\u001b[0m\n",
      "\u001b[0;31mModuleNotFoundError\u001b[0m: No module named 'textstat'"
     ]
    }
   ],
   "source": [
    "from datetime import timedelta\n",
    "\n",
    "import textstat\n",
    "\n",
    "from nltk.sentiment.vader import SentimentIntensityAnalyzer\n",
    "from nltk import tokenize\n",
    "\n",
    "import flair"
   ]
  },
  {
   "cell_type": "markdown",
   "metadata": {
    "id": "7wEKl_gyM1Eh"
   },
   "source": [
    "## Feature Engineering"
   ]
  },
  {
   "cell_type": "code",
   "execution_count": 8,
   "metadata": {
    "executionInfo": {
     "elapsed": 47617,
     "status": "ok",
     "timestamp": 1676251987645,
     "user": {
      "displayName": "Nicholas Chen",
      "userId": "11547586581363003213"
     },
     "user_tz": 300
    },
    "id": "GpeZ5PXWLQPV"
   },
   "outputs": [],
   "source": [
    "a = pd.merge(full_projects, full_donations, on=['projectid_str'], how='left')\n",
    "a['in_4_months'] = (pd.to_datetime(a['donation_timestamp']) - pd.to_datetime(a['date_posted'])) < timedelta(days=120)\n",
    "a['in_1_months'] = (pd.to_datetime(a['donation_timestamp']) - pd.to_datetime(a['date_posted'])) < timedelta(days=30)\n",
    "a['donation_1mo'] = a['donation_to_project'].values\n",
    "values = {'donation_to_project': 0.0}\n",
    "a = a.fillna(value=values)\n",
    "a.loc[a['in_4_months'] == False, 'donation_to_project'] = 0.0\n",
    "a.loc[a['in_1_months'] == False, 'donation_1mo'] = 0.0\n",
    "\n",
    "donation_in_4_months = a.groupby(['projectid_str'])['donation_to_project'].sum().reset_index(name='donation_in_4_months')\n",
    "donation_in_1_months = a.groupby(['projectid_str'])['donation_1mo'].sum().reset_index(name='donation_in_1_months')\n",
    "df = pd.merge(full_projects, donation_in_4_months, on=['projectid_str'], how='left')\n",
    "df = pd.merge(df, donation_in_1_months, on=['projectid_str'], how='left')\n",
    "\n",
    "del a"
   ]
  },
  {
   "cell_type": "code",
   "execution_count": 12,
   "metadata": {
    "colab": {
     "base_uri": "https://localhost:8080/"
    },
    "executionInfo": {
     "elapsed": 16,
     "status": "ok",
     "timestamp": 1676251987646,
     "user": {
      "displayName": "Nicholas Chen",
      "userId": "11547586581363003213"
     },
     "user_tz": 300
    },
    "id": "YvIcSIe8LzQK",
    "outputId": "5f0fdf63-20e7-48aa-f3af-6cc207c40318"
   },
   "outputs": [
    {
     "output_type": "stream",
     "name": "stdout",
     "text": "Baserate % projects fully funded: 0.5422330097087379\nBaserate % projects fully funded 1mo: 0.29775485436893206\n"
    }
   ],
   "source": [
    "# df['is_fully_funded_after_4_months'] = df['total_price_excluding_optional_support'] <= df['donation_in_4_months']\n",
    "df['is_fully_funded_after_4_months'] = df['total_asking_price'] <= df['donation_in_4_months']\n",
    "df['is_fully_funded_after_4_months'].value_counts()\n",
    "print(\"Baserate % projects fully funded:\", df['is_fully_funded_after_4_months'].mean())\n",
    "\n",
    "df['pct_funded_1mo'] = df['donation_in_1_months'] / df['total_asking_price']\n",
    "# df['is_fully_funded_after_1_months'] = df['total_price_excluding_optional_support'] <= df['donation_in_1_months']\n",
    "df['is_fully_funded_after_1_months'] = df['total_asking_price'] <= df['donation_in_1_months']\n",
    "df['is_fully_funded_after_1_months'].value_counts()\n",
    "print(\"Baserate % projects fully funded 1mo:\", df['is_fully_funded_after_1_months'].mean())"
   ]
  },
  {
   "cell_type": "code",
   "execution_count": 13,
   "metadata": {
    "executionInfo": {
     "elapsed": 3,
     "status": "ok",
     "timestamp": 1676251987646,
     "user": {
      "displayName": "Nicholas Chen",
      "userId": "11547586581363003213"
     },
     "user_tz": 300
    },
    "id": "bZl0E-Hq9Ccc"
   },
   "outputs": [
    {
     "output_type": "error",
     "ename": "KeyError",
     "evalue": "'total_price_excluding_optional_support'",
     "traceback": [
      "\u001b[0;31m---------------------------------------------------------------------------\u001b[0m",
      "\u001b[0;31mKeyError\u001b[0m                                  Traceback (most recent call last)",
      "\u001b[0;32m/opt/anaconda3/lib/python3.9/site-packages/pandas/core/indexes/base.py\u001b[0m in \u001b[0;36mget_loc\u001b[0;34m(self, key, method, tolerance)\u001b[0m\n\u001b[1;32m   3628\u001b[0m             \u001b[0;32mtry\u001b[0m\u001b[0;34m:\u001b[0m\u001b[0;34m\u001b[0m\u001b[0;34m\u001b[0m\u001b[0m\n\u001b[0;32m-> 3629\u001b[0;31m                 \u001b[0;32mreturn\u001b[0m \u001b[0mself\u001b[0m\u001b[0;34m.\u001b[0m\u001b[0m_engine\u001b[0m\u001b[0;34m.\u001b[0m\u001b[0mget_loc\u001b[0m\u001b[0;34m(\u001b[0m\u001b[0mcasted_key\u001b[0m\u001b[0;34m)\u001b[0m\u001b[0;34m\u001b[0m\u001b[0;34m\u001b[0m\u001b[0m\n\u001b[0m\u001b[1;32m   3630\u001b[0m             \u001b[0;32mexcept\u001b[0m \u001b[0mKeyError\u001b[0m \u001b[0;32mas\u001b[0m \u001b[0merr\u001b[0m\u001b[0;34m:\u001b[0m\u001b[0;34m\u001b[0m\u001b[0;34m\u001b[0m\u001b[0m\n",
      "\u001b[0;32m/opt/anaconda3/lib/python3.9/site-packages/pandas/_libs/index.pyx\u001b[0m in \u001b[0;36mpandas._libs.index.IndexEngine.get_loc\u001b[0;34m()\u001b[0m\n",
      "\u001b[0;32m/opt/anaconda3/lib/python3.9/site-packages/pandas/_libs/index.pyx\u001b[0m in \u001b[0;36mpandas._libs.index.IndexEngine.get_loc\u001b[0;34m()\u001b[0m\n",
      "\u001b[0;32mpandas/_libs/hashtable_class_helper.pxi\u001b[0m in \u001b[0;36mpandas._libs.hashtable.PyObjectHashTable.get_item\u001b[0;34m()\u001b[0m\n",
      "\u001b[0;32mpandas/_libs/hashtable_class_helper.pxi\u001b[0m in \u001b[0;36mpandas._libs.hashtable.PyObjectHashTable.get_item\u001b[0;34m()\u001b[0m\n",
      "\u001b[0;31mKeyError\u001b[0m: 'total_price_excluding_optional_support'",
      "\nThe above exception was the direct cause of the following exception:\n",
      "\u001b[0;31mKeyError\u001b[0m                                  Traceback (most recent call last)",
      "\u001b[0;32m/var/folders/z4/vfzff1_554d3yxp587_9pqc40000gn/T/ipykernel_16943/1256275162.py\u001b[0m in \u001b[0;36m<module>\u001b[0;34m\u001b[0m\n\u001b[1;32m      1\u001b[0m \u001b[0mdf\u001b[0m\u001b[0;34m[\u001b[0m\u001b[0;34m'date_posted'\u001b[0m\u001b[0;34m]\u001b[0m \u001b[0;34m=\u001b[0m \u001b[0mpd\u001b[0m\u001b[0;34m.\u001b[0m\u001b[0mto_datetime\u001b[0m\u001b[0;34m(\u001b[0m\u001b[0mdf\u001b[0m\u001b[0;34m[\u001b[0m\u001b[0;34m'date_posted'\u001b[0m\u001b[0;34m]\u001b[0m\u001b[0;34m)\u001b[0m\u001b[0;34m\u001b[0m\u001b[0;34m\u001b[0m\u001b[0m\n\u001b[0;32m----> 2\u001b[0;31m \u001b[0mdf\u001b[0m\u001b[0;34m[\u001b[0m\u001b[0;34m'children_helped_per_dollar'\u001b[0m\u001b[0;34m]\u001b[0m \u001b[0;34m=\u001b[0m \u001b[0mdf\u001b[0m\u001b[0;34m[\u001b[0m\u001b[0;34m'students_reached'\u001b[0m\u001b[0;34m]\u001b[0m\u001b[0;34m/\u001b[0m\u001b[0mdf\u001b[0m\u001b[0;34m[\u001b[0m\u001b[0;34m'total_price_excluding_optional_support'\u001b[0m\u001b[0;34m]\u001b[0m\u001b[0;34m\u001b[0m\u001b[0;34m\u001b[0m\u001b[0m\n\u001b[0m",
      "\u001b[0;32m/opt/anaconda3/lib/python3.9/site-packages/pandas/core/frame.py\u001b[0m in \u001b[0;36m__getitem__\u001b[0;34m(self, key)\u001b[0m\n\u001b[1;32m   3503\u001b[0m             \u001b[0;32mif\u001b[0m \u001b[0mself\u001b[0m\u001b[0;34m.\u001b[0m\u001b[0mcolumns\u001b[0m\u001b[0;34m.\u001b[0m\u001b[0mnlevels\u001b[0m \u001b[0;34m>\u001b[0m \u001b[0;36m1\u001b[0m\u001b[0;34m:\u001b[0m\u001b[0;34m\u001b[0m\u001b[0;34m\u001b[0m\u001b[0m\n\u001b[1;32m   3504\u001b[0m                 \u001b[0;32mreturn\u001b[0m \u001b[0mself\u001b[0m\u001b[0;34m.\u001b[0m\u001b[0m_getitem_multilevel\u001b[0m\u001b[0;34m(\u001b[0m\u001b[0mkey\u001b[0m\u001b[0;34m)\u001b[0m\u001b[0;34m\u001b[0m\u001b[0;34m\u001b[0m\u001b[0m\n\u001b[0;32m-> 3505\u001b[0;31m             \u001b[0mindexer\u001b[0m \u001b[0;34m=\u001b[0m \u001b[0mself\u001b[0m\u001b[0;34m.\u001b[0m\u001b[0mcolumns\u001b[0m\u001b[0;34m.\u001b[0m\u001b[0mget_loc\u001b[0m\u001b[0;34m(\u001b[0m\u001b[0mkey\u001b[0m\u001b[0;34m)\u001b[0m\u001b[0;34m\u001b[0m\u001b[0;34m\u001b[0m\u001b[0m\n\u001b[0m\u001b[1;32m   3506\u001b[0m             \u001b[0;32mif\u001b[0m \u001b[0mis_integer\u001b[0m\u001b[0;34m(\u001b[0m\u001b[0mindexer\u001b[0m\u001b[0;34m)\u001b[0m\u001b[0;34m:\u001b[0m\u001b[0;34m\u001b[0m\u001b[0;34m\u001b[0m\u001b[0m\n\u001b[1;32m   3507\u001b[0m                 \u001b[0mindexer\u001b[0m \u001b[0;34m=\u001b[0m \u001b[0;34m[\u001b[0m\u001b[0mindexer\u001b[0m\u001b[0;34m]\u001b[0m\u001b[0;34m\u001b[0m\u001b[0;34m\u001b[0m\u001b[0m\n",
      "\u001b[0;32m/opt/anaconda3/lib/python3.9/site-packages/pandas/core/indexes/base.py\u001b[0m in \u001b[0;36mget_loc\u001b[0;34m(self, key, method, tolerance)\u001b[0m\n\u001b[1;32m   3629\u001b[0m                 \u001b[0;32mreturn\u001b[0m \u001b[0mself\u001b[0m\u001b[0;34m.\u001b[0m\u001b[0m_engine\u001b[0m\u001b[0;34m.\u001b[0m\u001b[0mget_loc\u001b[0m\u001b[0;34m(\u001b[0m\u001b[0mcasted_key\u001b[0m\u001b[0;34m)\u001b[0m\u001b[0;34m\u001b[0m\u001b[0;34m\u001b[0m\u001b[0m\n\u001b[1;32m   3630\u001b[0m             \u001b[0;32mexcept\u001b[0m \u001b[0mKeyError\u001b[0m \u001b[0;32mas\u001b[0m \u001b[0merr\u001b[0m\u001b[0;34m:\u001b[0m\u001b[0;34m\u001b[0m\u001b[0;34m\u001b[0m\u001b[0m\n\u001b[0;32m-> 3631\u001b[0;31m                 \u001b[0;32mraise\u001b[0m \u001b[0mKeyError\u001b[0m\u001b[0;34m(\u001b[0m\u001b[0mkey\u001b[0m\u001b[0;34m)\u001b[0m \u001b[0;32mfrom\u001b[0m \u001b[0merr\u001b[0m\u001b[0;34m\u001b[0m\u001b[0;34m\u001b[0m\u001b[0m\n\u001b[0m\u001b[1;32m   3632\u001b[0m             \u001b[0;32mexcept\u001b[0m \u001b[0mTypeError\u001b[0m\u001b[0;34m:\u001b[0m\u001b[0;34m\u001b[0m\u001b[0;34m\u001b[0m\u001b[0m\n\u001b[1;32m   3633\u001b[0m                 \u001b[0;31m# If we have a listlike key, _check_indexing_error will raise\u001b[0m\u001b[0;34m\u001b[0m\u001b[0;34m\u001b[0m\u001b[0m\n",
      "\u001b[0;31mKeyError\u001b[0m: 'total_price_excluding_optional_support'"
     ]
    }
   ],
   "source": [
    "df['date_posted'] = pd.to_datetime(df['date_posted'])\n",
    "df['children_helped_per_dollar'] = df['students_reached']/df['total_price_excluding_optional_support']"
   ]
  },
  {
   "cell_type": "code",
   "execution_count": 18,
   "metadata": {},
   "outputs": [],
   "source": [
    "from sklearn.preprocessing import OneHotEncoder\n",
    "one_hot_feature_cols = ['grade_level', 'teacher_prefix', 'school_state']\n",
    "df = df.replace({'school_charter': {'t': 1, 'f': 0},\n",
    "                 'school_kipp': {'t': 1, 'f': 0}})\n",
    "\n",
    "encoder = OneHotEncoder(handle_unknown='ignore')\n",
    "\n",
    "#perform one-hot encoding\n",
    "encoder_df = pd.DataFrame(encoder.fit_transform(df[one_hot_feature_cols]).toarray())\n",
    "encoder_df.columns = encoder.get_feature_names()\n",
    "#merge one-hot encoded columns back with original DataFrame\n",
    "final_X = df.join(encoder_df)\n",
    "#drop the original columns\n",
    "final_X = final_X.drop(one_hot_feature_cols, axis=1)\n",
    "\n",
    "#calculate number of projects and the success rate for each city\n",
    "num_of_success_projects_per_city = dict(df.groupby(['school_city'])['is_fully_funded_after_4_months'].sum())\n",
    "num_of_projects_per_city = dict(df.groupby(['school_city']).size())\n",
    "\n",
    "final_X['num_of_success_projects_in_city']= final_X['school_city'].map(num_of_success_projects_per_city)\n",
    "final_X['num_of_projects_in_city']= final_X['school_city'].map(num_of_projects_per_city)\n",
    "final_X['success_rate_in_city']= final_X['num_of_success_projects_in_city'] / final_X['num_of_projects_in_city']\n",
    "#drop 'school city'\n",
    "final_X = final_X.drop('school_city', axis=1)\n",
    "\n",
    "#calculate number of projects and the success rate for each teacher\n",
    "num_of_success_projects_per_teacher = dict(df.groupby(['teacher_acctid'])['is_fully_funded_after_4_months'].sum())\n",
    "num_of_projects_per_teacher = dict(df.groupby(['teacher_acctid']).size())\n",
    "\n",
    "final_X['num_of_success_projects_by_teacher']= final_X['teacher_acctid'].map(num_of_success_projects_per_teacher)\n",
    "final_X['num_of_projects_by_teacher']= final_X['teacher_acctid'].map(num_of_projects_per_teacher)\n",
    "final_X['success_rate_by_teacher']= final_X['num_of_success_projects_by_teacher'] / final_X['num_of_projects_by_teacher']\n",
    "#drop 'teacher_acctid'\n",
    "final_X = final_X.drop('teacher_acctid', axis=1)\n",
    "df = final_X\n",
    "\n",
    "# # row 28-36\n",
    "feature_cols_projects = ['school_charter', 'school_kipp', 'total_asking_price', 'students_reached'] + list(final_X.columns[-63:])"
   ]
  },
  {
   "cell_type": "code",
   "execution_count": 19,
   "metadata": {},
   "outputs": [
    {
     "output_type": "execute_result",
     "data": {
      "text/plain": "Index(['Unnamed: 0', 'schoolid', 'projectid_str', 'school_ncesid',\n       'school_latitude', 'school_longitude', 'school_zip', 'school_metro',\n       'school_district', 'school_county', 'school_charter', 'school_magnet',\n       'school_year_round', 'school_nlns', 'school_kipp',\n       'school_charter_ready_promise', 'teacher_teach_for_america',\n       'teacher_ny_teaching_fellow', 'primary_focus_subject',\n       'primary_focus_area', 'secondary_focus_subject', 'secondary_focus_area',\n       'resource_type', 'poverty_level', 'fulfillment_labor_materials',\n       'total_asking_price', 'total_price_including_optional_support',\n       'students_reached', 'eligible_double_your_impact_match',\n       'eligible_almost_home_match', 'date_posted', 'entity_id',\n       'donation_in_4_months', 'donation_in_1_months',\n       'is_fully_funded_after_4_months', 'pct_funded_1mo',\n       'is_fully_funded_after_1_months', 'x0_Grades 3-5', 'x0_Grades 6-8',\n       'x0_Grades 9-12', 'x0_Grades PreK-2', 'x1_Mr.', 'x1_Mrs.', 'x1_Ms.',\n       'x2_AK', 'x2_AL', 'x2_AR', 'x2_AZ', 'x2_CA', 'x2_CO', 'x2_CT', 'x2_DC',\n       'x2_DE', 'x2_FL', 'x2_GA', 'x2_HI', 'x2_IA', 'x2_ID', 'x2_IL', 'x2_IN',\n       'x2_KS', 'x2_KY', 'x2_LA', 'x2_MA', 'x2_MD', 'x2_ME', 'x2_MI', 'x2_MN',\n       'x2_MO', 'x2_MS', 'x2_MT', 'x2_NC', 'x2_NE', 'x2_NH', 'x2_NJ', 'x2_NM',\n       'x2_NV', 'x2_NY', 'x2_OH', 'x2_OK', 'x2_OR', 'x2_PA', 'x2_RI', 'x2_SC',\n       'x2_SD', 'x2_TN', 'x2_TX', 'x2_UT', 'x2_VA', 'x2_VT', 'x2_WA', 'x2_WI',\n       'x2_WV', 'x2_WY', 'num_of_success_projects_in_city',\n       'num_of_projects_in_city', 'success_rate_in_city',\n       'num_of_success_projects_by_teacher', 'num_of_projects_by_teacher',\n       'success_rate_by_teacher'],\n      dtype='object')"
     },
     "metadata": {},
     "execution_count": 19
    }
   ],
   "source": [
    "df.columns"
   ]
  },
  {
   "cell_type": "code",
   "execution_count": 14,
   "metadata": {
    "colab": {
     "base_uri": "https://localhost:8080/",
     "height": 337
    },
    "executionInfo": {
     "elapsed": 149,
     "status": "ok",
     "timestamp": 1676256719122,
     "user": {
      "displayName": "Nicholas Chen",
      "userId": "11547586581363003213"
     },
     "user_tz": 300
    },
    "id": "lBaQ63bQrm5r",
    "outputId": "204da60c-0d08-46ff-8991-f3022692a0c5"
   },
   "outputs": [
    {
     "data": {
      "text/html": [
       "<div>\n",
       "<style scoped>\n",
       "    .dataframe tbody tr th:only-of-type {\n",
       "        vertical-align: middle;\n",
       "    }\n",
       "\n",
       "    .dataframe tbody tr th {\n",
       "        vertical-align: top;\n",
       "    }\n",
       "\n",
       "    .dataframe thead th {\n",
       "        text-align: right;\n",
       "    }\n",
       "</style>\n",
       "<table border=\"1\" class=\"dataframe\">\n",
       "  <thead>\n",
       "    <tr style=\"text-align: right;\">\n",
       "      <th></th>\n",
       "      <th>projectid</th>\n",
       "      <th>teacher_acctid</th>\n",
       "      <th>title</th>\n",
       "      <th>short_description</th>\n",
       "      <th>need_statement</th>\n",
       "      <th>essay</th>\n",
       "    </tr>\n",
       "  </thead>\n",
       "  <tbody>\n",
       "    <tr>\n",
       "      <th>0</th>\n",
       "      <td>ffffc4f85b60efc5b52347df489d0238</td>\n",
       "      <td>c24011b20fc161ed02248e85beb59a90</td>\n",
       "      <td>iMath</td>\n",
       "      <td>It is imperative that teachers bring technolog...</td>\n",
       "      <td>My students need four iPods.</td>\n",
       "      <td>I am a fourth year fifth grade math teacher. T...</td>\n",
       "    </tr>\n",
       "    <tr>\n",
       "      <th>1</th>\n",
       "      <td>ffffac55ee02a49d1abc87ba6fc61135</td>\n",
       "      <td>947066d0af47e0566f334566553dd6a6</td>\n",
       "      <td>Recording Rockin' Readers</td>\n",
       "      <td>Can you imagine having to translate everything...</td>\n",
       "      <td>My students need a camcorder.</td>\n",
       "      <td>Can you imagine having to translate everything...</td>\n",
       "    </tr>\n",
       "    <tr>\n",
       "      <th>2</th>\n",
       "      <td>ffff97ed93720407d70a2787475932b0</td>\n",
       "      <td>462270f5d5c212162fcab11afa2623cb</td>\n",
       "      <td>Kindergarten In Need of Important Materials!</td>\n",
       "      <td>It takes a special person to donate to a group...</td>\n",
       "      <td>My students need 17 assorted classroom materia...</td>\n",
       "      <td>Hi. I teach a wonderful group of 4-5 year old ...</td>\n",
       "    </tr>\n",
       "    <tr>\n",
       "      <th>3</th>\n",
       "      <td>ffff7266778f71242675416e600b94e1</td>\n",
       "      <td>b9a8f14199e0d8109200ece179281f4f</td>\n",
       "      <td>Let's Find Out!</td>\n",
       "      <td>My Kindergarten students come from a variety o...</td>\n",
       "      <td>My students need 25 copies of Scholastic's \"Le...</td>\n",
       "      <td>My Kindergarten students come from a variety o...</td>\n",
       "    </tr>\n",
       "    <tr>\n",
       "      <th>4</th>\n",
       "      <td>ffff418bb42fad24347527ad96100f81</td>\n",
       "      <td>e885fb002a1d0d39aaed9d21a7683549</td>\n",
       "      <td>Whistle While We Work!</td>\n",
       "      <td>By using the cross curricular games requested,...</td>\n",
       "      <td>My students need grade level appropriate games...</td>\n",
       "      <td>All work and no play makes school a dull place...</td>\n",
       "    </tr>\n",
       "  </tbody>\n",
       "</table>\n",
       "</div>"
      ],
      "text/plain": [
       "                          projectid                    teacher_acctid  \\\n",
       "0  ffffc4f85b60efc5b52347df489d0238  c24011b20fc161ed02248e85beb59a90   \n",
       "1  ffffac55ee02a49d1abc87ba6fc61135  947066d0af47e0566f334566553dd6a6   \n",
       "2  ffff97ed93720407d70a2787475932b0  462270f5d5c212162fcab11afa2623cb   \n",
       "3  ffff7266778f71242675416e600b94e1  b9a8f14199e0d8109200ece179281f4f   \n",
       "4  ffff418bb42fad24347527ad96100f81  e885fb002a1d0d39aaed9d21a7683549   \n",
       "\n",
       "                                          title  \\\n",
       "0                                         iMath   \n",
       "1                     Recording Rockin' Readers   \n",
       "2  Kindergarten In Need of Important Materials!   \n",
       "3                               Let's Find Out!   \n",
       "4                        Whistle While We Work!   \n",
       "\n",
       "                                   short_description  \\\n",
       "0  It is imperative that teachers bring technolog...   \n",
       "1  Can you imagine having to translate everything...   \n",
       "2  It takes a special person to donate to a group...   \n",
       "3  My Kindergarten students come from a variety o...   \n",
       "4  By using the cross curricular games requested,...   \n",
       "\n",
       "                                      need_statement  \\\n",
       "0                       My students need four iPods.   \n",
       "1                     My students need a camcorder.    \n",
       "2  My students need 17 assorted classroom materia...   \n",
       "3  My students need 25 copies of Scholastic's \"Le...   \n",
       "4  My students need grade level appropriate games...   \n",
       "\n",
       "                                               essay  \n",
       "0  I am a fourth year fifth grade math teacher. T...  \n",
       "1  Can you imagine having to translate everything...  \n",
       "2  Hi. I teach a wonderful group of 4-5 year old ...  \n",
       "3  My Kindergarten students come from a variety o...  \n",
       "4  All work and no play makes school a dull place...  "
      ]
     },
     "execution_count": 14,
     "metadata": {},
     "output_type": "execute_result"
    }
   ],
   "source": [
    "full_essays.head()"
   ]
  },
  {
   "cell_type": "code",
   "execution_count": 15,
   "metadata": {
    "executionInfo": {
     "elapsed": 206,
     "status": "ok",
     "timestamp": 1676258283349,
     "user": {
      "displayName": "Nicholas Chen",
      "userId": "11547586581363003213"
     },
     "user_tz": 300
    },
    "id": "UWMC7K9vx4pe"
   },
   "outputs": [],
   "source": [
    "sid = SentimentIntensityAnalyzer()"
   ]
  },
  {
   "cell_type": "code",
   "execution_count": 16,
   "metadata": {
    "colab": {
     "base_uri": "https://localhost:8080/"
    },
    "executionInfo": {
     "elapsed": 126,
     "status": "ok",
     "timestamp": 1676260630275,
     "user": {
      "displayName": "Nicholas Chen",
      "userId": "11547586581363003213"
     },
     "user_tz": 300
    },
    "id": "s4Q4et7cyUEz",
    "outputId": "e8d24d7e-9079-42d1-aadc-94b197c3e187"
   },
   "outputs": [
    {
     "data": {
      "text/plain": [
       "(664098, 6)"
      ]
     },
     "execution_count": 16,
     "metadata": {},
     "output_type": "execute_result"
    }
   ],
   "source": [
    "full_essays.shape"
   ]
  },
  {
   "cell_type": "code",
   "execution_count": 17,
   "metadata": {
    "executionInfo": {
     "elapsed": 138,
     "status": "ok",
     "timestamp": 1676260730802,
     "user": {
      "displayName": "Nicholas Chen",
      "userId": "11547586581363003213"
     },
     "user_tz": 300
    },
    "id": "p_C-BMmMx5b3"
   },
   "outputs": [],
   "source": [
    "sample_essays = full_essays.iloc[:100000]"
   ]
  },
  {
   "cell_type": "code",
   "execution_count": 18,
   "metadata": {
    "executionInfo": {
     "elapsed": 11457,
     "status": "ok",
     "timestamp": 1676260744559,
     "user": {
      "displayName": "Nicholas Chen",
      "userId": "11547586581363003213"
     },
     "user_tz": 300
    },
    "id": "vjQ5ZW2s64mU"
   },
   "outputs": [],
   "source": [
    "sample_polarity = sample_essays['title'].astype(str).apply(lambda x: sid.polarity_scores(x))"
   ]
  },
  {
   "cell_type": "code",
   "execution_count": 19,
   "metadata": {
    "executionInfo": {
     "elapsed": 57005,
     "status": "ok",
     "timestamp": 1676260803937,
     "user": {
      "displayName": "Nicholas Chen",
      "userId": "11547586581363003213"
     },
     "user_tz": 300
    },
    "id": "Z4fuFCHw7QJF"
   },
   "outputs": [],
   "source": [
    "sample_polarity = sample_essays['short_description'].astype(str).apply(lambda x: sid.polarity_scores(x))"
   ]
  },
  {
   "cell_type": "code",
   "execution_count": 20,
   "metadata": {
    "colab": {
     "base_uri": "https://localhost:8080/"
    },
    "executionInfo": {
     "elapsed": 453535,
     "status": "ok",
     "timestamp": 1676261322894,
     "user": {
      "displayName": "Nicholas Chen",
      "userId": "11547586581363003213"
     },
     "user_tz": 300
    },
    "id": "t8-RaZODp7sH",
    "outputId": "950fe1c3-2607-4348-e82b-ced549013b4d"
   },
   "outputs": [
    {
     "name": "stdout",
     "output_type": "stream",
     "text": [
      "title\n",
      "short_description\n",
      "need_statement\n",
      "essay\n",
      "title\n",
      "short_description\n"
     ]
    }
   ],
   "source": [
    "#flair_sentiment= flair.models.TextClassifier.load('en-sentiment')\n",
    "sid = SentimentIntensityAnalyzer()\n",
    "for col in ['title','short_description', 'need_statement', 'essay']:\n",
    "  print(col)\n",
    "  full_essays[col + '_len'] = full_essays[col].str.len()\n",
    "  full_essays[col + '_wordlen'] = full_essays[col].astype(str).apply(lambda x: len(x) / len(x.split(' ')))\n",
    "\n",
    "for col in ['title','short_description']:\n",
    "  print(col)\n",
    "  full_essays[col + '_sent'] = full_essays[col].astype(str).apply(lambda x: sid.polarity_scores(x))\n",
    "  full_essays[col + '_sentnet'] = full_essays[col + '_sent'].apply(lambda x: x['pos'] - x['neg'])\n",
    "  full_essays[col + '_sentpol'] = full_essays[col + '_sent'].apply(lambda x: x['pos'] + x['neg'])"
   ]
  },
  {
   "cell_type": "code",
   "execution_count": 21,
   "metadata": {
    "executionInfo": {
     "elapsed": 566,
     "status": "ok",
     "timestamp": 1676264679135,
     "user": {
      "displayName": "Nicholas Chen",
      "userId": "11547586581363003213"
     },
     "user_tz": 300
    },
    "id": "tHl8k0mNJ8SE"
   },
   "outputs": [],
   "source": [
    "full_essays = full_essays.drop(columns=['teacher_acctid', 'title', 'short_description', 'need_statement', 'essay'])"
   ]
  },
  {
   "cell_type": "code",
   "execution_count": 22,
   "metadata": {
    "executionInfo": {
     "elapsed": 6882,
     "status": "ok",
     "timestamp": 1676264695948,
     "user": {
      "displayName": "Nicholas Chen",
      "userId": "11547586581363003213"
     },
     "user_tz": 300
    },
    "id": "uO3i2YyvJsR8"
   },
   "outputs": [],
   "source": [
    "df = pd.merge(df, full_essays, on=['projectid'], how='left')"
   ]
  },
  {
   "cell_type": "code",
   "execution_count": 23,
   "metadata": {},
   "outputs": [
    {
     "data": {
      "text/plain": [
       "Index(['projectid', 'teacher_acctid', 'schoolid', 'school_ncesid',\n",
       "       'school_latitude', 'school_longitude', 'school_city', 'school_state',\n",
       "       'school_zip', 'school_metro', 'school_district', 'school_county',\n",
       "       'school_charter', 'school_magnet', 'school_year_round', 'school_nlns',\n",
       "       'school_kipp', 'school_charter_ready_promise', 'teacher_prefix',\n",
       "       'teacher_teach_for_america', 'teacher_ny_teaching_fellow',\n",
       "       'primary_focus_subject', 'primary_focus_area',\n",
       "       'secondary_focus_subject', 'secondary_focus_area', 'resource_type',\n",
       "       'poverty_level', 'grade_level', 'fulfillment_labor_materials',\n",
       "       'total_price_excluding_optional_support',\n",
       "       'total_price_including_optional_support', 'students_reached',\n",
       "       'eligible_double_your_impact_match', 'eligible_almost_home_match',\n",
       "       'date_posted', 'donation_in_4_months', 'donation_in_1_months',\n",
       "       'is_fully_funded_after_4_months', 'pct_funded_1mo',\n",
       "       'is_fully_funded_after_1_months', 'children_helped_per_dollar',\n",
       "       'title_len', 'title_wordlen', 'short_description_len',\n",
       "       'short_description_wordlen', 'need_statement_len',\n",
       "       'need_statement_wordlen', 'essay_len', 'essay_wordlen', 'title_sent',\n",
       "       'title_sentnet', 'title_sentpol', 'short_description_sent',\n",
       "       'short_description_sentnet', 'short_description_sentpol'],\n",
       "      dtype='object')"
      ]
     },
     "execution_count": 23,
     "metadata": {},
     "output_type": "execute_result"
    }
   ],
   "source": [
    "df.columns"
   ]
  },
  {
   "cell_type": "code",
   "execution_count": 29,
   "metadata": {},
   "outputs": [],
   "source": [
    "resource_df = full_resources[['resourceid', 'projectid', 'project_resource_type', 'item_unit_price', 'item_quantity']]\n",
    "resource_df['project_resource_type'] = resource_df['project_resource_type'].astype('str')\n",
    "\n",
    "# Fill in missing values of item_unit_price & item_quantity\n",
    "resource_types = np.unique(resource_df['project_resource_type'].tolist())\n",
    "avg_unit_price = {}\n",
    "avg_quantity = {}\n",
    "for rtype in resource_types:\n",
    "  avg = resource_df.loc[resource_df['project_resource_type'] == rtype]['item_unit_price'].mean()\n",
    "  avg_unit_price[rtype] = avg\n",
    "  avg_num = np.floor(resource_df.loc[resource_df['project_resource_type'] == rtype]['item_quantity'].mean())\n",
    "  avg_quantity[rtype] = avg_num\n",
    "\n",
    "resource_df['avg_unit_price'] = resource_df.apply(lambda row: avg_unit_price[row['project_resource_type']], axis=1) # This could take a minute to run\n",
    "resource_df['avg_quantity'] = resource_df.apply(lambda row: avg_quantity[row['project_resource_type']], axis=1)\n",
    "\n",
    "resource_df['item_unit_price'] = resource_df['item_unit_price'].fillna(resource_df['avg_unit_price'])\n",
    "resource_df['item_quantity'] = resource_df['item_quantity'].fillna(resource_df['avg_quantity'])\n",
    "\n",
    "resource_df = resource_df.groupby('projectid').agg({'item_unit_price':'mean', 'item_quantity':'sum'}).reset_index().rename(columns={'item_unit_price':'avg_unit_price', 'item_quantity':'total_item_quantity'})\n",
    "df = df.merge(resource_df, how='left', on='projectid')"
   ]
  },
  {
   "cell_type": "code",
   "execution_count": 161,
   "metadata": {
    "colab": {
     "base_uri": "https://localhost:8080/",
     "height": 389
    },
    "executionInfo": {
     "elapsed": 140,
     "status": "error",
     "timestamp": 1676269970263,
     "user": {
      "displayName": "Nicholas Chen",
      "userId": "11547586581363003213"
     },
     "user_tz": 300
    },
    "id": "Kf6z5hxescIC",
    "outputId": "dd33b006-58eb-442f-fa36-8cf363fddc5b"
   },
   "outputs": [
    {
     "name": "stdout",
     "output_type": "stream",
     "text": [
      "Index(['date_posted', 'students_reached', 'children_helped_per_dollar',\n",
      "       'title_len', 'title_sentnet', 'title_sentpol', 'short_description_len',\n",
      "       'short_description_sentnet', 'short_description_sentpol', 'essay_len',\n",
      "       'need_statement_len', 'avg_unit_price', 'total_item_quantity',\n",
      "       'pct_funded_1mo', 'is_fully_funded_after_4_months',\n",
      "       'primary_focus_area:Applied_Learning',\n",
      "       'primary_focus_area:Health_&_Sports',\n",
      "       'primary_focus_area:History_&_Civics',\n",
      "       'primary_focus_area:Literacy_&_Language',\n",
      "       'primary_focus_area:Math_&_Science',\n",
      "       'primary_focus_area:Music_&_The_Arts',\n",
      "       'primary_focus_area:Special_Needs', 'resource_type:Books',\n",
      "       'resource_type:Other', 'resource_type:Supplies',\n",
      "       'resource_type:Technology', 'resource_type:Trips',\n",
      "       'resource_type:Visitors', 'poverty_level:high_poverty',\n",
      "       'poverty_level:highest_poverty', 'poverty_level:low_poverty',\n",
      "       'poverty_level:moderate_poverty'],\n",
      "      dtype='object')\n"
     ]
    }
   ],
   "source": [
    "resstat_cols = ['students_reached', 'children_helped_per_dollar', 'primary_focus_area', 'resource_type', 'poverty_level']\n",
    "\n",
    "text_cols = ['title_len', 'title_sentnet', 'title_sentpol', 'short_description_len', 'short_description_sentnet', 'short_description_sentpol','essay_len', 'need_statement_len']\n",
    "res_cols = ['avg_unit_price', 'total_item_quantity']\n",
    "don_cols = ['pct_funded_1mo']\n",
    "features = resstat_cols + text_cols + res_cols + don_cols + feature_cols_projects\n",
    "Y = ['is_fully_funded_after_4_months']\n",
    "df_final = df[['date_posted'] + features + Y]\n",
    "\n",
    "# Silences a warning that doesn't affect anything\n",
    "pd.options.mode.chained_assignment = None\n",
    "\n",
    "for i in ['primary_focus_area', 'resource_type', 'poverty_level']:\n",
    "  new_addition = pd.get_dummies(df_final[i])\n",
    "  new_addition.columns = [i + \":\" + x.replace(\" \",\"_\") for x in new_addition.columns]\n",
    "  for col_name in new_addition.columns:\n",
    "    df_final[col_name] = new_addition[col_name].copy(deep=True)\n",
    "df_final.drop(columns = ['primary_focus_area', 'resource_type', 'poverty_level'], inplace=True)\n",
    "print(df_final.columns)"
   ]
  },
  {
   "cell_type": "code",
   "execution_count": 162,
   "metadata": {
    "executionInfo": {
     "elapsed": 180,
     "status": "ok",
     "timestamp": 1676251987823,
     "user": {
      "displayName": "Nicholas Chen",
      "userId": "11547586581363003213"
     },
     "user_tz": 300
    },
    "id": "tuFsKR4U-rd6"
   },
   "outputs": [],
   "source": [
    "from datetime import datetime"
   ]
  },
  {
   "cell_type": "code",
   "execution_count": 163,
   "metadata": {
    "executionInfo": {
     "elapsed": 3,
     "status": "ok",
     "timestamp": 1676251987823,
     "user": {
      "displayName": "Nicholas Chen",
      "userId": "11547586581363003213"
     },
     "user_tz": 300
    },
    "id": "Li6mGOER-kxh"
   },
   "outputs": [],
   "source": [
    "from dateutil.relativedelta import relativedelta"
   ]
  },
  {
   "cell_type": "code",
   "execution_count": 164,
   "metadata": {
    "executionInfo": {
     "elapsed": 3,
     "status": "ok",
     "timestamp": 1676251987823,
     "user": {
      "displayName": "Nicholas Chen",
      "userId": "11547586581363003213"
     },
     "user_tz": 300
    },
    "id": "9RR81PuK9rQE"
   },
   "outputs": [],
   "source": [
    "def chron_split_date_ranges(dates, train_length = relativedelta(years=1), val_length = relativedelta(months=1), retrain_length = relativedelta(weeks=2), min_f_col = relativedelta(months=1), min_l_col = relativedelta(months=4)):\n",
    "  sorted = dates.sort_values()\n",
    "  first_date = sorted.iloc[0]\n",
    "  last_date = sorted.iloc[-1]\n",
    "\n",
    "  split_dates = []\n",
    "\n",
    "  curr = first_date\n",
    "\n",
    "  while curr + val_length + train_length + 2 * min_l_col + 2 * min_f_col < last_date:\n",
    "    train_start = curr + min_f_col\n",
    "    val_start = train_start + train_length + min_l_col + min_f_col\n",
    "    \n",
    "    split_dates.append({\n",
    "        \"train_feature_collection\": (curr, train_start),\n",
    "        \"train\": (train_start, train_start + train_length),\n",
    "        \"train_label_buffer\": (train_start + train_length, train_start + train_length + min_l_col),\n",
    "        \"val_feature_collection\": (train_start + train_length + min_l_col, val_start),\n",
    "        \"val\": (val_start , val_start + val_length),\n",
    "        \"val_label_buffer\": (val_start + val_length, val_start + val_length + min_l_col),\n",
    "        \"train_label\": (train_start + min_l_col, train_start + train_length + min_l_col),\n",
    "        \"val_label\": (val_start + min_l_col, val_start + val_length + min_l_col)\n",
    "    })\n",
    "\n",
    "    curr += retrain_length\n",
    "  return split_dates"
   ]
  },
  {
   "cell_type": "code",
   "execution_count": 165,
   "metadata": {
    "executionInfo": {
     "elapsed": 155,
     "status": "ok",
     "timestamp": 1676251987975,
     "user": {
      "displayName": "Nicholas Chen",
      "userId": "11547586581363003213"
     },
     "user_tz": 300
    },
    "id": "xxLN3aGk_gY5"
   },
   "outputs": [],
   "source": [
    "split = chron_split_date_ranges(pd.to_datetime(df['date_posted']))[-1]"
   ]
  },
  {
   "cell_type": "code",
   "execution_count": 166,
   "metadata": {},
   "outputs": [
    {
     "data": {
      "text/plain": [
       "{'train_feature_collection': (Timestamp('2012-06-08 00:00:00'),\n",
       "  Timestamp('2012-07-08 00:00:00')),\n",
       " 'train': (Timestamp('2012-07-08 00:00:00'), Timestamp('2013-07-08 00:00:00')),\n",
       " 'train_label_buffer': (Timestamp('2013-07-08 00:00:00'),\n",
       "  Timestamp('2013-11-08 00:00:00')),\n",
       " 'val_feature_collection': (Timestamp('2013-11-08 00:00:00'),\n",
       "  Timestamp('2013-12-08 00:00:00')),\n",
       " 'val': (Timestamp('2013-12-08 00:00:00'), Timestamp('2014-01-08 00:00:00')),\n",
       " 'val_label_buffer': (Timestamp('2014-01-08 00:00:00'),\n",
       "  Timestamp('2014-05-08 00:00:00')),\n",
       " 'train_label': (Timestamp('2012-11-08 00:00:00'),\n",
       "  Timestamp('2013-11-08 00:00:00')),\n",
       " 'val_label': (Timestamp('2014-04-08 00:00:00'),\n",
       "  Timestamp('2014-05-08 00:00:00'))}"
      ]
     },
     "execution_count": 166,
     "metadata": {},
     "output_type": "execute_result"
    }
   ],
   "source": [
    "split"
   ]
  },
  {
   "cell_type": "code",
   "execution_count": 167,
   "metadata": {
    "executionInfo": {
     "elapsed": 301,
     "status": "ok",
     "timestamp": 1676252013742,
     "user": {
      "displayName": "Nicholas Chen",
      "userId": "11547586581363003213"
     },
     "user_tz": 300
    },
    "id": "e4v4jp3ATLRQ"
   },
   "outputs": [],
   "source": [
    "def generate_train_val(df, split):\n",
    "  train = df.loc[(split[\"train\"][0] <= df['date_posted']) & (df['date_posted'] < split[\"train\"][1])].drop(columns=['date_posted']).fillna(0)\n",
    "  val = df.loc[(split[\"val\"][0] <= df['date_posted']) & (df['date_posted'] < split[\"val\"][1])].drop(columns=['date_posted']).fillna(0)\n",
    "  return pd.DataFrame(train), pd.DataFrame(val)"
   ]
  },
  {
   "cell_type": "code",
   "execution_count": 168,
   "metadata": {
    "colab": {
     "base_uri": "https://localhost:8080/"
    },
    "executionInfo": {
     "elapsed": 135,
     "status": "ok",
     "timestamp": 1676252734338,
     "user": {
      "displayName": "Nicholas Chen",
      "userId": "11547586581363003213"
     },
     "user_tz": 300
    },
    "id": "AkzA9Bi4bEci",
    "outputId": "559401c5-d247-4870-a441-fd05cdf5465e"
   },
   "outputs": [],
   "source": [
    "train, val = generate_train_val(df_final, split)"
   ]
  },
  {
   "cell_type": "code",
   "execution_count": 174,
   "metadata": {
    "id": "Et0zlGzDcqfU"
   },
   "outputs": [],
   "source": [
    "train_X = train.drop(columns=['is_fully_funded_after_4_months']).reset_index()\n",
    "train_Y = train['is_fully_funded_after_4_months'].values\n",
    "val_X = val.drop(columns=['is_fully_funded_after_4_months']).reset_index()\n",
    "val_Y = val['is_fully_funded_after_4_months'].values"
   ]
  },
  {
   "cell_type": "markdown",
   "metadata": {},
   "source": [
    "## Common sense baseline - children helped per dollar"
   ]
  },
  {
   "cell_type": "code",
   "execution_count": 234,
   "metadata": {},
   "outputs": [],
   "source": [
    "train_select = train_X.sort_values([\"children_helped_per_dollar\"])\n",
    "val_select = val_X.sort_values([\"children_helped_per_dollar\"])"
   ]
  },
  {
   "cell_type": "code",
   "execution_count": 235,
   "metadata": {},
   "outputs": [
    {
     "data": {
      "text/plain": [
       "array([21816, 18066, 26149, ..., 23619, 61855, 96135], dtype=int64)"
      ]
     },
     "execution_count": 235,
     "metadata": {},
     "output_type": "execute_result"
    }
   ],
   "source": [
    "train_select.index.values"
   ]
  },
  {
   "cell_type": "code",
   "execution_count": 236,
   "metadata": {},
   "outputs": [
    {
     "data": {
      "text/plain": [
       "array([ True,  True,  True, ...,  True,  True,  True])"
      ]
     },
     "execution_count": 236,
     "metadata": {},
     "output_type": "execute_result"
    }
   ],
   "source": [
    "train_Y[train_select.index.values]"
   ]
  },
  {
   "cell_type": "code",
   "execution_count": 237,
   "metadata": {},
   "outputs": [
    {
     "name": "stdout",
     "output_type": "stream",
     "text": [
      "0.6244541484716157\n"
     ]
    }
   ],
   "source": [
    "train_rank = train_select.index.values\n",
    "val_rank = val_select.index.values\n",
    "results = []\n",
    "for threshold in np.linspace(0.01, 1, 100):\n",
    "    precision_train = 1 - np.mean(train_Y[train_rank][:int(threshold * len(train_X))])\n",
    "    precision_val = 1 - np.mean(val_Y[val_rank][:int(threshold * len(val_X))])\n",
    "    recall_train = np.sum(train_Y[train_rank][:int(threshold * len(train_X))] == False)/np.sum(train_Y==False)\n",
    "    recall_val = np.sum(val_Y[val_rank][:int(threshold * len(val_X))] == False)/np.sum(val_Y==False)\n",
    "    results.append([precision_train, recall_train, precision_val, recall_val])\n",
    "results = np.array(results)\n",
    "print(results[9, 2])"
   ]
  },
  {
   "cell_type": "code",
   "execution_count": 241,
   "metadata": {},
   "outputs": [
    {
     "data": {
      "image/png": "[encoded data removed]",
      "text/plain": [
       "<Figure size 640x480 with 2 Axes>"
      ]
     },
     "metadata": {},
     "output_type": "display_data"
    }
   ],
   "source": [
    "ax1 = plt.subplot()\n",
    "plt.plot(range(100), results[:,0], 'b')\n",
    "plt.ylabel('precision', color='b')\n",
    "\n",
    "ax2 = ax1.twinx()\n",
    "plt.plot(range(100), results[:,1], 'r')\n",
    "plt.ylabel('recall', color='r')\n",
    "plt.title(\"Train PR-k Curve - Baseline: children per dollar\")\n",
    "plt.xlabel(\"Percentage of population selected\")\n",
    "plt.show()"
   ]
  },
  {
   "cell_type": "code",
   "execution_count": 240,
   "metadata": {},
   "outputs": [
    {
     "data": {
      "image/png": "[encoded data removed]",
      "text/plain": [
       "<Figure size 640x480 with 2 Axes>"
      ]
     },
     "metadata": {},
     "output_type": "display_data"
    }
   ],
   "source": [
    "ax1 = plt.subplot()\n",
    "plt.plot(range(100), results[:,2], 'b')\n",
    "plt.ylabel('precision', color='b')\n",
    "\n",
    "ax2 = ax1.twinx()\n",
    "plt.plot(range(100), results[:,3], 'r')\n",
    "plt.ylabel('recall', color='r')\n",
    "plt.title(\"Val PR-k Curve - Baseline: children per dollar\")\n",
    "plt.xlabel(\"Percentage of population selected\")\n",
    "plt.show()"
   ]
  },
  {
   "cell_type": "code",
   "execution_count": null,
   "metadata": {},
   "outputs": [],
   "source": []
  },
  {
   "cell_type": "code",
   "execution_count": 186,
   "metadata": {},
   "outputs": [],
   "source": [
    "from sklearn.ensemble import RandomForestClassifier as rfc\n",
    "import time"
   ]
  },
  {
   "cell_type": "code",
   "execution_count": 204,
   "metadata": {
    "colab": {
     "base_uri": "https://localhost:8080/"
    },
    "executionInfo": {
     "elapsed": 258,
     "status": "ok",
     "timestamp": 1676252406872,
     "user": {
      "displayName": "Nicholas Chen",
      "userId": "11547586581363003213"
     },
     "user_tz": 300
    },
    "id": "6-EaM_olbaOl",
    "outputId": "13fb5d0a-23ae-4ab6-df4d-7697ee72d136"
   },
   "outputs": [
    {
     "name": "stdout",
     "output_type": "stream",
     "text": [
      "19.403676509857178\n"
     ]
    }
   ],
   "source": [
    "start = time.time()\n",
    "model = rfc()\n",
    "model.fit(train_X, train_Y)\n",
    "runtime = time.time() - start\n",
    "print(runtime)"
   ]
  },
  {
   "cell_type": "code",
   "execution_count": 231,
   "metadata": {},
   "outputs": [],
   "source": [
    "train_pred = model.predict_proba(train_X)[:,1]\n",
    "val_pred = model.predict_proba(val_X)[:,1]"
   ]
  },
  {
   "cell_type": "code",
   "execution_count": 232,
   "metadata": {},
   "outputs": [
    {
     "name": "stdout",
     "output_type": "stream",
     "text": [
      "0.9159388646288209\n"
     ]
    }
   ],
   "source": [
    "train_rank = np.argsort(train_pred)\n",
    "val_rank = np.argsort(val_pred)\n",
    "\n",
    "results = []\n",
    "for threshold in np.linspace(0.01, 1, 100):\n",
    "    precision_train = 1 - np.mean(train_Y[train_rank][:int(threshold * len(train_X))])\n",
    "    precision_val = 1 - np.mean(val_Y[val_rank][:int(threshold * len(val_X))])\n",
    "    recall_train = np.sum(train_Y[train_rank][:int(threshold * len(train_X))] == False)/np.sum(train_Y==False)\n",
    "    recall_val = np.sum(val_Y[val_rank][:int(threshold * len(val_X))] == False)/np.sum(val_Y==False)\n",
    "    results.append([precision_train, recall_train, precision_val, recall_val])\n",
    "results = np.array(results)\n",
    "print(results[9, 2])"
   ]
  },
  {
   "cell_type": "code",
   "execution_count": 210,
   "metadata": {},
   "outputs": [],
   "source": [
    "import matplotlib.pyplot as plt"
   ]
  },
  {
   "cell_type": "code",
   "execution_count": 211,
   "metadata": {},
   "outputs": [
    {
     "data": {
      "image/png": "[encoded data removed]",
      "text/plain": [
       "<Figure size 640x480 with 2 Axes>"
      ]
     },
     "metadata": {},
     "output_type": "display_data"
    }
   ],
   "source": [
    "ax1 = plt.subplot()\n",
    "plt.plot(range(100), results[:,0], 'b')\n",
    "plt.ylabel('precision', color='b')\n",
    "\n",
    "ax2 = ax1.twinx()\n",
    "plt.plot(range(100), results[:,1], 'r')\n",
    "plt.ylabel('recall', color='r')\n",
    "plt.title(\"Train PR-k Curve - Random Forest Classifier\")\n",
    "plt.xlabel(\"Percentage of population selected\")\n",
    "plt.show()"
   ]
  },
  {
   "cell_type": "code",
   "execution_count": 212,
   "metadata": {},
   "outputs": [
    {
     "data": {
      "image/png": "[encoded data removed]",
      "text/plain": [
       "<Figure size 640x480 with 2 Axes>"
      ]
     },
     "metadata": {},
     "output_type": "display_data"
    }
   ],
   "source": [
    "ax1 = plt.subplot()\n",
    "plt.plot(range(100), results[:,2], 'b')\n",
    "plt.ylabel('precision', color='b')\n",
    "\n",
    "ax2 = ax1.twinx()\n",
    "plt.plot(range(100), results[:,3], 'r')\n",
    "plt.ylabel('recall', color='r')\n",
    "plt.title(\"Val PR-k Curve - Random Forest Classifier\")\n",
    "plt.show()"
   ]
  },
  {
   "cell_type": "code",
   "execution_count": 136,
   "metadata": {},
   "outputs": [
    {
     "data": {
      "text/plain": [
       "Index(['donation_in_1_months', 'children_helped_per_dollar', 'avg_unit_price',\n",
       "       'essay_len', 'need_statement_len', 'short_description_sentnet',\n",
       "       'short_description_sentpol', 'students_reached', 'title_len',\n",
       "       'total_item_quantity', 'short_description_len', 'title_sentnet',\n",
       "       'title_sentpol', 'poverty_level:highest_poverty',\n",
       "       'resource_type:Technology', 'primary_focus_area:Literacy_&_Language',\n",
       "       'primary_focus_area:Math_&_Science', 'resource_type:Supplies',\n",
       "       'poverty_level:high_poverty', 'poverty_level:moderate_poverty',\n",
       "       'resource_type:Other', 'resource_type:Books',\n",
       "       'primary_focus_area:Music_&_The_Arts',\n",
       "       'primary_focus_area:Applied_Learning',\n",
       "       'primary_focus_area:Special_Needs',\n",
       "       'primary_focus_area:History_&_Civics', 'poverty_level:low_poverty',\n",
       "       'primary_focus_area:Health_&_Sports', 'resource_type:Trips',\n",
       "       'resource_type:Visitors'],\n",
       "      dtype='object')"
      ]
     },
     "execution_count": 136,
     "metadata": {},
     "output_type": "execute_result"
    }
   ],
   "source": [
    "train_X.columns[np.argsort(model.feature_importances_)[::-1]]"
   ]
  }
 ],
 "metadata": {
  "colab": {
   "provenance": []
  },
  "kernelspec": {
   "display_name": "Python 3 (ipykernel)",
   "language": "python",
   "name": "python3"
  },
  "language_info": {
   "codemirror_mode": {
    "name": "ipython",
    "version": 3
   },
   "file_extension": ".py",
   "mimetype": "text/x-python",
   "name": "python",
   "nbconvert_exporter": "python",
   "pygments_lexer": "ipython3",
   "version": "3.7.9"
  }
 },
 "nbformat": 4,
 "nbformat_minor": 1
}